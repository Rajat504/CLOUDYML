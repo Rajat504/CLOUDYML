{
  "cells": [
    {
      "cell_type": "markdown",
      "metadata": {
        "id": "view-in-github",
        "colab_type": "text"
      },
      "source": [
        "<a href=\"https://colab.research.google.com/github/Rajat504/CLOUDYML/blob/main/Python_Intermediate_withoutcode.ipynb\" target=\"_parent\"><img src=\"https://colab.research.google.com/assets/colab-badge.svg\" alt=\"Open In Colab\"/></a>"
      ]
    },
    {
      "cell_type": "markdown",
      "metadata": {
        "id": "4GtRwPajWtgH"
      },
      "source": [
        "# <center><u> Python-Intermediate </u></center>\n"
      ]
    },
    {
      "cell_type": "markdown",
      "metadata": {
        "id": "qnfR62KaWtgM"
      },
      "source": [
        "Here you can start digging into our intermediate-level programming questions that will teach you new Python concepts. This category is for intermediate Python developers who already know the basics of Python development and want to expand their knowledge.\n",
        "\n",
        "\n",
        "\n",
        "Becoming a Python expert takes time, but over time you’ll master this beautiful programming language. It’s worth it!\n",
        "\n",
        "\n",
        "So lets get started!"
      ]
    },
    {
      "cell_type": "markdown",
      "source": [
        "## **`WATCH VIDEOS IN THE PORTAL`**"
      ],
      "metadata": {
        "id": "aKVNKhLP9W8E"
      }
    },
    {
      "cell_type": "markdown",
      "source": [
        "### **`Watch Video 15: Python Intermediate Tutorial`**"
      ],
      "metadata": {
        "id": "3ay5QkyG9Ay2"
      }
    },
    {
      "cell_type": "markdown",
      "metadata": {
        "id": "hBV6jA72WtgM"
      },
      "source": [
        "1.Lets remove duplicates from list names=['A','B','C','A','D','E','F','G','H','E','D']\n",
        "\n"
      ]
    },
    {
      "cell_type": "code",
      "execution_count": null,
      "metadata": {
        "id": "A32nJBGHWtgN",
        "outputId": "ebd3de7e-c5a6-4d27-f93f-d5a86d607b9e",
        "colab": {
          "base_uri": "https://localhost:8080/"
        }
      },
      "outputs": [
        {
          "output_type": "stream",
          "name": "stdout",
          "text": [
            "['A', 'B', 'C', 'D', 'E', 'F', 'G', 'H']\n"
          ]
        }
      ],
      "source": [
        "#code here\n",
        "names = ['A', 'B', 'C', 'A', 'D', 'E', 'F', 'G', 'H', 'E', 'D']\n",
        "unique_names = list(dict.fromkeys(names))\n",
        "print(unique_names)\n",
        "\n"
      ]
    },
    {
      "cell_type": "markdown",
      "metadata": {
        "id": "3vs-MwqhWtgO"
      },
      "source": [
        "**2**. Good! Shall we try solving above problem in shhorter way using list comprehention? It will be amazing. Here we go!\n"
      ]
    },
    {
      "cell_type": "code",
      "execution_count": null,
      "metadata": {
        "id": "ngy_ypU2WtgP",
        "outputId": "35fc6529-8110-4ef4-c353-df231dac5112",
        "colab": {
          "base_uri": "https://localhost:8080/"
        }
      },
      "outputs": [
        {
          "output_type": "stream",
          "name": "stdout",
          "text": [
            "['A', 'B', 'C', 'D', 'E', 'F', 'G', 'H']\n"
          ]
        }
      ],
      "source": [
        "#code here\n",
        "names = ['A', 'B', 'C', 'A', 'D', 'E', 'F', 'G', 'H', 'E', 'D']\n",
        "unique_names = []\n",
        "\n",
        "[unique_names.append(name) for name in names if name not in unique_names]\n",
        "\n",
        "print(unique_names)\n",
        "\n",
        "\n"
      ]
    },
    {
      "cell_type": "markdown",
      "metadata": {
        "id": "kuBGT9n5WtgP"
      },
      "source": [
        "3. define a funtion 'occurence' which takes 2 inputs, one list 'lst' and another one a number 'n' and count the number of occurrences of n in your list lst."
      ]
    },
    {
      "cell_type": "code",
      "execution_count": null,
      "metadata": {
        "id": "W8SL5qfUWtgQ",
        "outputId": "900303e0-fb19-4c99-c004-3334893df28e",
        "colab": {
          "base_uri": "https://localhost:8080/"
        }
      },
      "outputs": [
        {
          "output_type": "execute_result",
          "data": {
            "text/plain": [
              "4"
            ]
          },
          "metadata": {},
          "execution_count": 3
        }
      ],
      "source": [
        "#your code\n",
        "def occurence(lst, n):\n",
        "  count = 0\n",
        "  for i in lst:\n",
        "    if i == n:\n",
        "      count += 1\n",
        "  return count\n",
        "\n",
        "\n",
        "\n",
        "#lets use your function\n",
        "occurence([2,3,4,8,1,3,5,2,1,3,1,2,2], 2)"
      ]
    },
    {
      "cell_type": "markdown",
      "metadata": {
        "id": "vzaaHEIwWtgQ"
      },
      "source": [
        "4. Calculate factorial of a number ( Here number=3) using while loop"
      ]
    },
    {
      "cell_type": "code",
      "execution_count": null,
      "metadata": {
        "id": "3zjPibDmWtgR",
        "outputId": "68346794-4f1c-4d5d-93bc-051eaea516bc",
        "colab": {
          "base_uri": "https://localhost:8080/"
        }
      },
      "outputs": [
        {
          "output_type": "stream",
          "name": "stdout",
          "text": [
            "6\n"
          ]
        }
      ],
      "source": [
        "number = 3\n",
        "#code here\n",
        "factorial = 1\n",
        "while number > 0:\n",
        "  factorial *= number\n",
        "  number -= 1\n",
        "print(factorial)\n",
        "\n",
        "\n",
        "\n"
      ]
    },
    {
      "cell_type": "markdown",
      "metadata": {
        "id": "8d4D4cJpWtgR"
      },
      "source": [
        "5. Reverse a given integer number num = 47594038222 and display the count of total number of digits in your revered number using while loop."
      ]
    },
    {
      "cell_type": "code",
      "execution_count": null,
      "metadata": {
        "id": "L5Vs4xTtWtgR",
        "outputId": "12bb2ae3-3218-4b6e-d3e3-1068a7d86af3",
        "colab": {
          "base_uri": "https://localhost:8080/"
        }
      },
      "outputs": [
        {
          "output_type": "stream",
          "name": "stdout",
          "text": [
            "Reversed Number: 22283049574\n",
            "Total Digits in Reversed Number: 11\n"
          ]
        }
      ],
      "source": [
        "#code here\n",
        "def reverse_and_count(num):\n",
        "    reversed_num = 0\n",
        "    count = 0\n",
        "\n",
        "    while num > 0:\n",
        "        digit = num % 10          # Extract the last digit\n",
        "        reversed_num = reversed_num * 10 + digit  # Build the reversed number\n",
        "        num //= 10                # Remove the last digit\n",
        "        count += 1                # Increment digit count\n",
        "\n",
        "    return reversed_num, count\n",
        "\n",
        "# Example Usage\n",
        "num = 47594038222\n",
        "reversed_num, digit_count = reverse_and_count(num)\n",
        "\n",
        "print(f\"Reversed Number: {reversed_num}\")\n",
        "print(f\"Total Digits in Reversed Number: {digit_count}\")\n",
        "\n",
        "\n",
        "\n",
        "\n"
      ]
    },
    {
      "cell_type": "markdown",
      "metadata": {
        "id": "9qtxFvU2WtgR"
      },
      "source": [
        "6. Can you reverse you given num without using loop in just one line?\n",
        "\n",
        "Hint: apply some slicing trick to do it."
      ]
    },
    {
      "cell_type": "code",
      "execution_count": null,
      "metadata": {
        "id": "p1eS62ecWtgS",
        "outputId": "f8da4eb7-e48b-4a70-ad21-aec0f82ba42e",
        "colab": {
          "base_uri": "https://localhost:8080/"
        }
      },
      "outputs": [
        {
          "output_type": "stream",
          "name": "stdout",
          "text": [
            "Reversed Number: 22283049574\n",
            "Total Digits in Reversed Number: 11\n"
          ]
        }
      ],
      "source": [
        "num = 47594038222\n",
        "#one line code here\n",
        "num = 47594038222\n",
        "reversed_num = int(str(num)[::-1])\n",
        "\n",
        "print(f\"Reversed Number: {reversed_num}\")\n",
        "print(f\"Total Digits in Reversed Number: {len(str(reversed_num))}\")\n",
        "\n",
        "\n",
        "\n",
        "\n",
        "\n"
      ]
    },
    {
      "cell_type": "markdown",
      "metadata": {
        "id": "hurM8KcSWtgS"
      },
      "source": [
        "7. Write a function that checks whether a given sequence of number is IP address or not and print all valid possible IP from a given digit. If not an IP then it prints empty list\n",
        "\n",
        "**Note:** According to Wikipedia, IPv4 addresses are canonically represented in dot-decimal notation, which consists of four decimal numbers, each ranging from 0 to 255, separated by dots, e.g., 172.16.254.1"
      ]
    },
    {
      "cell_type": "markdown",
      "source": [
        "### **`WATCH VIDEO 16: IP Address Problem`**"
      ],
      "metadata": {
        "id": "_7itjOoi9hII"
      }
    },
    {
      "cell_type": "code",
      "execution_count": null,
      "metadata": {
        "id": "oNIW7VyFWtgS",
        "outputId": "f6397112-af83-44d5-82b7-47eedd152f2b",
        "colab": {
          "base_uri": "https://localhost:8080/"
        }
      },
      "outputs": [
        {
          "output_type": "stream",
          "name": "stdout",
          "text": [
            "Valid IPs from '25525511135': ['255.255.11.135', '255.255.111.35']\n",
            "Valid IPs from '25505011536': []\n"
          ]
        }
      ],
      "source": [
        "#Code here\n",
        "def is_valid(segment):\n",
        "    # Check if the segment is a valid IP part (0-255) and has no leading zeros\n",
        "    return 0 <= int(segment) <= 255 and (segment == \"0\" or not segment.startswith(\"0\"))\n",
        "\n",
        "def generate_ip_addresses(s):\n",
        "    result = []\n",
        "\n",
        "    # Splitting the string into 4 parts for valid IP structure\n",
        "    for i in range(1, min(4, len(s) - 2)):      # First cut\n",
        "        for j in range(i + 1, min(i + 4, len(s) - 1)):  # Second cut\n",
        "            for k in range(j + 1, min(j + 4, len(s))):  # Third cut\n",
        "                part1, part2, part3, part4 = s[:i], s[i:j], s[j:k], s[k:]\n",
        "\n",
        "                if all(map(is_valid, [part1, part2, part3, part4])):\n",
        "                    result.append(f\"{part1}.{part2}.{part3}.{part4}\")\n",
        "\n",
        "    return result\n",
        "\n",
        "# Example Usage\n",
        "A = \"25525511135\"\n",
        "B = \"25505011536\"\n",
        "\n",
        "print(f\"Valid IPs from '{A}': {generate_ip_addresses(A)}\")\n",
        "print(f\"Valid IPs from '{B}': {generate_ip_addresses(B)}\")\n",
        "\n",
        "\n",
        "\n",
        "\n",
        "\n"
      ]
    },
    {
      "cell_type": "markdown",
      "metadata": {
        "id": "FukrdAXMWtgT"
      },
      "source": [
        "8. Solve the quadratic equation ax**2 + bx + c = 0 where a =4, b=6, c=2"
      ]
    },
    {
      "cell_type": "code",
      "execution_count": null,
      "metadata": {
        "id": "wL1sWuYLWtgT",
        "outputId": "0a8d4bb7-6907-42ad-9630-e117d6419201",
        "colab": {
          "base_uri": "https://localhost:8080/"
        }
      },
      "outputs": [
        {
          "output_type": "stream",
          "name": "stdout",
          "text": [
            "Two Real Roots: -0.50, -1.00\n"
          ]
        }
      ],
      "source": [
        "#code here\n",
        "import math\n",
        "\n",
        "# Given coefficients\n",
        "a, b, c = 4, 6, 2\n",
        "\n",
        "# Calculate the discriminant\n",
        "discriminant = b**2 - 4*a*c\n",
        "\n",
        "# Check discriminant condition\n",
        "if discriminant > 0:\n",
        "    root1 = (-b + math.sqrt(discriminant)) / (2 * a)\n",
        "    root2 = (-b - math.sqrt(discriminant)) / (2 * a)\n",
        "    print(f\"Two Real Roots: {root1:.2f}, {root2:.2f}\")\n",
        "elif discriminant == 0:\n",
        "    root = -b / (2 * a)\n",
        "    print(f\"One Real Root: {root:.2f}\")\n",
        "else:\n",
        "    real_part = -b / (2 * a)\n",
        "    imaginary_part = math.sqrt(-discriminant) / (2 * a)\n",
        "    print(f\"Complex Roots: {real_part:.2f} ± {imaginary_part:.2f}i\")\n",
        "\n",
        "\n",
        "\n",
        "\n",
        "\n",
        "\n"
      ]
    },
    {
      "cell_type": "markdown",
      "metadata": {
        "id": "6vngA60DWtgT"
      },
      "source": [
        "9. Write a program to Remove Punctuations From a String\n",
        "\n",
        "s=\"Wow!!!, we are going ahead with our course to learn *machine learning* ---are'nt you excited? :)\""
      ]
    },
    {
      "cell_type": "code",
      "execution_count": null,
      "metadata": {
        "id": "gvQfy5kQWtgT",
        "outputId": "13c58e77-169e-4cfa-a1eb-356d1618b460",
        "colab": {
          "base_uri": "https://localhost:8080/"
        }
      },
      "outputs": [
        {
          "output_type": "stream",
          "name": "stdout",
          "text": [
            "Original String:  Wow!!!, we are going ahead with our course to learn machine learning ---are'nt you excited? :)\n",
            "String without Punctuations:  Wow we are going ahead with our course to learn machine learning arent you excited \n"
          ]
        }
      ],
      "source": [
        "# code here\n",
        "import string\n",
        "\n",
        "# Given string\n",
        "s = \"Wow!!!, we are going ahead with our course to learn machine learning ---are'nt you excited? :)\"\n",
        "\n",
        "# Remove punctuations using str.translate()\n",
        "cleaned_str = s.translate(str.maketrans('', '', string.punctuation))\n",
        "\n",
        "print(\"Original String: \", s)\n",
        "print(\"String without Punctuations: \", cleaned_str)\n",
        "\n",
        "\n",
        "\n",
        "\n",
        "\n"
      ]
    },
    {
      "cell_type": "markdown",
      "metadata": {
        "id": "aCJgsvWKWtgU"
      },
      "source": [
        "10. Write a program which takes 2 digits, X,Y as input and generates a 2-dimensional array. The element value in the i-th row and j-th column of the array should be i*j.\n",
        "\n",
        "Note: i=0,1.., X-1; j=0,1,i^Y-1."
      ]
    },
    {
      "cell_type": "code",
      "execution_count": null,
      "metadata": {
        "id": "BAh26WXlWtgU",
        "outputId": "13667d2e-67fc-4a35-9c5f-4cdbbb0a52aa",
        "colab": {
          "base_uri": "https://localhost:8080/"
        }
      },
      "outputs": [
        {
          "output_type": "stream",
          "name": "stdout",
          "text": [
            "Generated 2D Array: [[0, 0, 0, 0], [0, 1, 2, 3], [0, 2, 4, 6]]\n"
          ]
        }
      ],
      "source": [
        "digit1=3\n",
        "digit2=4\n",
        "#code here\n",
        "# Function to generate 2D array\n",
        "def generate_array(x, y):\n",
        "    array = []\n",
        "    for i in range(x):\n",
        "        row = [i * j for j in range(y)]  # Generates row elements as i * j\n",
        "        array.append(row)\n",
        "    return array\n",
        "\n",
        "# Input values\n",
        "x = 3  # Example input for digit1\n",
        "y = 4  # Example input for digit2\n",
        "\n",
        "# Generate and display the array\n",
        "result = generate_array(x, y)\n",
        "print(\"Generated 2D Array:\", result)\n",
        "\n",
        "\n",
        "\n",
        "\n",
        "\n",
        "\n"
      ]
    },
    {
      "cell_type": "markdown",
      "metadata": {
        "id": "sZrc0--VWtgV"
      },
      "source": [
        "11. For given string S and integers P and Q, which denotes the cost of removal of substrings “he” and “lo” respectively from S, the task is to find the maximum cost of removing all occurrences of substrings “he” and “lo”.\n",
        "\n",
        "example if S = “hellohellohellohellohello”, P = 6, Q = 4, then cost to remove 'he' and 'lo' is 50"
      ]
    },
    {
      "cell_type": "code",
      "execution_count": null,
      "metadata": {
        "id": "79BMmuVHWtgV",
        "outputId": "3e1a91fc-fcc7-4975-de07-e80c3154d2e7",
        "colab": {
          "base_uri": "https://localhost:8080/"
        }
      },
      "outputs": [
        {
          "output_type": "stream",
          "name": "stdout",
          "text": [
            "50\n"
          ]
        }
      ],
      "source": [
        "# code here\n",
        "def MaxCollection(S, P, Q):\n",
        "    cost = 0\n",
        "\n",
        "    # Prioritize removing the higher-cost substring first\n",
        "    if P > Q:\n",
        "        # Remove \"he\" first\n",
        "        while \"he\" in S:\n",
        "            S = S.replace(\"he\", \"\", 1)\n",
        "            cost += P\n",
        "\n",
        "        # Then remove \"lo\"\n",
        "        while \"lo\" in S:\n",
        "            S = S.replace(\"lo\", \"\", 1)\n",
        "            cost += Q\n",
        "\n",
        "    else:\n",
        "        # Remove \"lo\" first\n",
        "        while \"lo\" in S:\n",
        "            S = S.replace(\"lo\", \"\", 1)\n",
        "            cost += Q\n",
        "\n",
        "        # Then remove \"he\"\n",
        "        while \"he\" in S:\n",
        "            S = S.replace(\"he\", \"\", 1)\n",
        "            cost += P\n",
        "    return cost\n",
        "# Check code with\n",
        "S = \"hellohellohellohellohello\"\n",
        "# Costs\n",
        "P = 6\n",
        "Q = 4\n",
        "result = MaxCollection(S, P, Q)\n",
        "print(MaxCollection(S, P, Q));\n",
        "\n",
        "\n",
        "\n"
      ]
    },
    {
      "cell_type": "markdown",
      "metadata": {
        "id": "tElaaNPNWtgV"
      },
      "source": [
        "12. Given a binary string S , the task is to find the smallest string possible by removing all occurrences of substrings “01” and “11”. After removal of any substring, concatenate the remaining parts of the string.\n",
        "\n",
        "Example\n",
        "    \n",
        "    Input: S = “0010110”\n",
        "    Output: String = 0\n",
        "    \n",
        "    Explanation: String can be transformed by the following steps:\n",
        "    0010110 → 00110 → 010 → 0.\n",
        "    Since no occurrence of substrings 01 and 11 are remaining, the string “0” is of minimum possible length 1."
      ]
    },
    {
      "cell_type": "code",
      "execution_count": null,
      "metadata": {
        "id": "i9OIbWhoWtgV",
        "outputId": "9ef9c32c-3d4e-424a-b21e-3c861f3a803c",
        "colab": {
          "base_uri": "https://localhost:8080/"
        }
      },
      "outputs": [
        {
          "output_type": "stream",
          "name": "stdout",
          "text": [
            "The final string is: 0\n",
            "The final string size is: 1\n"
          ]
        }
      ],
      "source": [
        "#code here\n",
        "def smallest_string(S):\n",
        "    # Count the number of 0's and 1's\n",
        "    count_0 = S.count('0')\n",
        "    count_1 = S.count('1')\n",
        "\n",
        "    # The remaining string will have excess 0's or 1's after all pairs are removed\n",
        "    remaining_0 = max(0, count_0 - count_1)\n",
        "    remaining_1 = max(0, count_1 - count_0)\n",
        "\n",
        "    # Form the resulting string\n",
        "    result = '0' * remaining_0 + '1' * remaining_1\n",
        "    return result\n",
        "\n",
        "# Example Usage\n",
        "S = \"0010110\"\n",
        "final_str = smallest_string(S)\n",
        "print(\"The final string is:\", final_str)\n",
        "print(\"The final string size is:\", len(final_str))\n"
      ]
    },
    {
      "cell_type": "markdown",
      "metadata": {
        "id": "BYeCBfFUWtgV"
      },
      "source": [
        "13. Write a function such that it accepts two integers n, m as arguments Find the sum of all numbers in range from 1 to m(both inclusive) that are not divisible by n. Return difference between sum of integers not divisible by n with sum of numbers divisible by n\n",
        "\n",
        "Example\n",
        "\n",
        "    Input\n",
        "    n:4\n",
        "    m:20\n",
        "    Output\n",
        "    90"
      ]
    },
    {
      "cell_type": "code",
      "execution_count": null,
      "metadata": {
        "id": "KgO9ShzPWtgV",
        "outputId": "a7e6376b-2966-467a-c72c-8d520246831d",
        "colab": {
          "base_uri": "https://localhost:8080/"
        }
      },
      "outputs": [
        {
          "output_type": "stream",
          "name": "stdout",
          "text": [
            "4\n",
            "20\n",
            "90\n"
          ]
        }
      ],
      "source": [
        "#code here\n",
        "def find_difference(n, m):\n",
        "    # Sum of numbers divisible by n\n",
        "    sum_divisible = sum(x for x in range(1, m + 1) if x % n == 0)\n",
        "\n",
        "    # Sum of numbers NOT divisible by n\n",
        "    sum_not_divisible = sum(x for x in range(1, m + 1) if x % n != 0)\n",
        "\n",
        "    # Return the difference\n",
        "    return sum_not_divisible - sum_divisible\n",
        "\n",
        "# Example usage\n",
        "n = 4\n",
        "m = 20\n",
        "result = find_difference(n, m)\n",
        "\n",
        "# Print the required outputs\n",
        "print(n)  # Print n\n",
        "print(m)  # Print m\n",
        "print(result)  # Print the final result\n",
        "\n",
        "\n",
        "\n",
        "\n",
        "\n"
      ]
    },
    {
      "cell_type": "markdown",
      "metadata": {
        "id": "GMjx2bfxWtgW"
      },
      "source": [
        "14. Write a function count_code that return the number of times that the string \"code\" appears anywhere in the given string, except we'll accept any letter for the 'd', so \"cope\" and \"cooe\" count.\n",
        "\n",
        "\n",
        "    count_code('aaacodebbb') → 1\n",
        "    count_code('codexxcode') → 2\n",
        "    count_code('cozexxcope') → 2"
      ]
    },
    {
      "cell_type": "code",
      "execution_count": null,
      "metadata": {
        "id": "7G1E7BewWtgW",
        "outputId": "aab78cc5-232b-4149-e2d2-a6a3a561ff95",
        "colab": {
          "base_uri": "https://localhost:8080/"
        }
      },
      "outputs": [
        {
          "output_type": "stream",
          "name": "stdout",
          "text": [
            "1\n",
            "2\n",
            "2\n"
          ]
        }
      ],
      "source": [
        "#code here\n",
        "import re  # Import regex module\n",
        "\n",
        "def count_code(s):\n",
        "    # Use regex pattern 'co.e' to match 'co_e' where _ can be any character\n",
        "    return len(re.findall(r'co.e', s))\n",
        "\n",
        "#check your code\n",
        "print(count_code('aaacodebbb'))    # Output: 1\n",
        "print(count_code('codexxcode'))    # Output: 2\n",
        "print(count_code('cozexxcope'))    # Output: 2"
      ]
    },
    {
      "cell_type": "markdown",
      "metadata": {
        "id": "wqFNSGkCWtgW"
      },
      "source": [
        "15. Lets have one moderate level question for you.\n",
        "\n",
        "Find the sum of the series 4 +44 + 444 + 4444 + .. n terms\n",
        "\n",
        "here keep n=5"
      ]
    },
    {
      "cell_type": "code",
      "execution_count": null,
      "metadata": {
        "id": "U4qRCUQFWtgW",
        "outputId": "76e92b7c-802a-40a6-a3fe-31e20c802eb9",
        "colab": {
          "base_uri": "https://localhost:8080/"
        }
      },
      "outputs": [
        {
          "output_type": "stream",
          "name": "stdout",
          "text": [
            "4 44 444 4444 44444\n",
            "Sum of above series is: 49380\n"
          ]
        }
      ],
      "source": [
        "#code here\n",
        "def series_sum(n):\n",
        "    total_sum = 0\n",
        "    term = 0  # Initialize the term starting from 0\n",
        "    series_terms = []  # List to store series terms for printing\n",
        "\n",
        "    for i in range(1, n + 1):\n",
        "        term = term * 10 + 4  # Build each term by appending 4\n",
        "        series_terms.append(str(term))  # Store each term as string for display\n",
        "        total_sum += term     # Add the term to the total sum\n",
        "\n",
        "    # Print the series terms\n",
        "    print(\" \".join(series_terms))\n",
        "\n",
        "    # Print the final sum\n",
        "    print(\"Sum of above series is:\", total_sum)\n",
        "\n",
        "# Example usage\n",
        "n = 5\n",
        "series_sum(n)\n",
        "\n",
        "\n",
        "\n",
        "\n",
        "\n",
        "\n"
      ]
    },
    {
      "cell_type": "markdown",
      "metadata": {
        "id": "XH_ocrNWWtgY"
      },
      "source": [
        "16. Assume s is a string of lower case characters.\n",
        "<br>\n",
        "Write a program that counts up the number of vowels contained in the string s. Valid vowels are: 'a', 'e', 'i', 'o', and 'u'. For example, if s = 'azcbobobegghakl', your program should print:<br>\n",
        "```Number of vowels: 5```"
      ]
    },
    {
      "cell_type": "code",
      "execution_count": null,
      "metadata": {
        "id": "7uCQTExKWtgY",
        "outputId": "1c03efd2-dc68-47ec-c159-cd511789a06c",
        "colab": {
          "base_uri": "https://localhost:8080/"
        }
      },
      "outputs": [
        {
          "output_type": "stream",
          "name": "stdout",
          "text": [
            "Number of vowels: 5\n"
          ]
        }
      ],
      "source": [
        "#code here\n",
        "def count_vowels(s):\n",
        "    # Define the set of valid vowels\n",
        "    vowels = 'aeiou'\n",
        "\n",
        "    # Count the number of vowels in the string\n",
        "    count = sum(1 for char in s if char in vowels)\n",
        "\n",
        "    # Print the result\n",
        "    print(\"Number of vowels:\", count)\n",
        "\n",
        "# Example usage\n",
        "s = 'azcbobobegghakl'\n",
        "count_vowels(s)\n",
        "\n",
        "\n",
        "\n",
        "\n",
        "\n"
      ]
    },
    {
      "cell_type": "markdown",
      "metadata": {
        "id": "ENqZvqo0WtgY"
      },
      "source": [
        "17. well done. Now we want you to solve above question in just one line. have faith in your, you can do it."
      ]
    },
    {
      "cell_type": "code",
      "execution_count": null,
      "metadata": {
        "id": "SQaBwDqNWtgY",
        "outputId": "bdf6f98e-4de7-4136-9050-805db1dbe769",
        "colab": {
          "base_uri": "https://localhost:8080/"
        }
      },
      "outputs": [
        {
          "output_type": "stream",
          "name": "stdout",
          "text": [
            "Number of vowels: 5\n"
          ]
        }
      ],
      "source": [
        "# one line code here.\n",
        "print(\"Number of vowels:\", sum(1 for char in 'azcbobobegghakl' if char in 'aeiou'))\n",
        "\n",
        "\n",
        "\n",
        "\n",
        "\n",
        "\n"
      ]
    },
    {
      "cell_type": "markdown",
      "metadata": {
        "id": "qGWdX37AWtgY"
      },
      "source": [
        "18. Assume s is a string of lower case characters.\n",
        "\n",
        "Write a program that prints the number of times the string 'bob' occurs in s. For example, if s = 'azcbobobegghakl', then your program should print\n",
        "\n",
        "```Number of times bob occurs is: 2```"
      ]
    },
    {
      "cell_type": "code",
      "source": [
        "#code here\n",
        "def count_bob(s):\n",
        "    # Count occurrences of 'bob' using count() method\n",
        "    count = s.count('bob')\n",
        "\n",
        "    # Print the result\n",
        "    print(\"Number of times bob occurs is:\", count)\n",
        "\n",
        "# Example usage\n",
        "s = 'azcbobobegghakl'\n",
        "count_bob(s)"
      ],
      "metadata": {
        "id": "Wjp89LfTVfv5",
        "outputId": "07e655dd-de60-464e-cdba-4f7366b26992",
        "colab": {
          "base_uri": "https://localhost:8080/"
        }
      },
      "execution_count": null,
      "outputs": [
        {
          "output_type": "stream",
          "name": "stdout",
          "text": [
            "Number of times bob occurs is: 1\n"
          ]
        }
      ]
    },
    {
      "cell_type": "code",
      "execution_count": null,
      "metadata": {
        "id": "BfY-AJBOWtgZ",
        "outputId": "71a0b76f-be6b-4412-ab58-b975de44c4b9",
        "colab": {
          "base_uri": "https://localhost:8080/"
        }
      },
      "outputs": [
        {
          "output_type": "stream",
          "name": "stdout",
          "text": [
            "Number of times bob occurs is: 1\n"
          ]
        }
      ],
      "source": [
        "#code here\n",
        "def count_bob(s):\n",
        "    # Count occurrences of 'bob' using count() method\n",
        "    count = s.count('bob')\n",
        "\n",
        "    # Print the result\n",
        "    print(\"Number of times bob occurs is:\", count)\n",
        "\n",
        "# Example usage\n",
        "s = 'azcbobobegghakl'\n",
        "count_bob(s)\n"
      ]
    },
    {
      "cell_type": "markdown",
      "metadata": {
        "id": "z7Phv1OxWtgZ"
      },
      "source": [
        "19. Assume s is a string of lower case characters.\n",
        "\n",
        "Write a program that prints the longest substring of s in which the letters occur in alphabetical order. For example, if s = 'azcbobobegghakl', then your program should print\n",
        "\n",
        "```Longest substring in alphabetical order is: beggh```<br><br>\n",
        "In the case of ties, print the first substring. For example, if s = 'abcbcd', then your program should print\n",
        "\n",
        "```Longest substring in alphabetical order is: abc```"
      ]
    },
    {
      "cell_type": "code",
      "execution_count": null,
      "metadata": {
        "id": "v2UD_kZDWtgZ",
        "outputId": "72421cf6-2059-46f9-f592-2342727be9a3",
        "colab": {
          "base_uri": "https://localhost:8080/"
        }
      },
      "outputs": [
        {
          "output_type": "stream",
          "name": "stdout",
          "text": [
            "Longest substring in alphabetical order is: beggh\n"
          ]
        }
      ],
      "source": [
        "#code here\n",
        "def longest_alphabetical_substring(s):\n",
        "    longest = current = s[0]  # Start with the first character\n",
        "\n",
        "    # Iterate through the string from the second character\n",
        "    for i in range(1, len(s)):\n",
        "        if s[i] >= s[i-1]:  # Check if characters are in alphabetical order\n",
        "            current += s[i]  # Append the character to the current substring\n",
        "        else:\n",
        "            # Update longest substring if current one is longer\n",
        "            if len(current) > len(longest):\n",
        "                longest = current\n",
        "            current = s[i]  # Reset current substring\n",
        "\n",
        "    # Final check in case the longest substring is at the end\n",
        "    if len(current) > len(longest):\n",
        "        longest = current\n",
        "\n",
        "    # Print the result\n",
        "    print(\"Longest substring in alphabetical order is:\", longest)\n",
        "\n",
        "# Example usage\n",
        "s = 'azcbobobegghakl'\n",
        "longest_alphabetical_substring(s)"
      ]
    },
    {
      "cell_type": "markdown",
      "metadata": {
        "id": "O03DVclUWtgZ"
      },
      "source": [
        "Awsesome! Great job so far. Hope you fell in love with python now.\n",
        "\n",
        "\n",
        "But wait we want to give a treat..:) We have a surprise for you in form of one of the task, in this task you have to create a game in python. You can take up this task as a mini project of your's in python. Hmm.. Sounds good. Isn't it?\n",
        "\n",
        "So lets gets started.. we have given the instructions below for the task in detail\n",
        "\n",
        "# Hangman Game\n",
        "## In this project we are going to create Hangman Game using python\n",
        "\n",
        "\n",
        "**Q. What is the hangman game?**<br>\n",
        "A:- Hangman is a guessing game. The player will tries to guess a word picked by the computer, by suggesting letters within a certain number of guesses\n",
        "\n",
        "\n",
        "# Task 1\n",
        "Create a function **is_word_guessed** that takes in two arguments :- <br> **secret_word**, **letters_guessed** <br>**returns True** if all of the letter of secret_word are in letters_guessed, **returns False** if not\n",
        "\n",
        "\n",
        "**Assumptions**<br>\n",
        "**secret_word**: string, the word the user is guessing; assumes all letters are lowercase<br>\n",
        "**letters_guessed**: list (of letters), which letters have been guessed so far; assumes that all letters are lowercase<br>\n",
        "\n",
        "**Example**:-<br>\n",
        "secret_word = 'apple'<br>\n",
        "letters_guessed = ['e', 'a', 'k', 'p', 'l', 's']<br>\n",
        "is_word_guessed() will return True.<br><br>\n",
        "secret_word = 'apple'<br>\n",
        "letters_guessed = ['e', 'i', 'k', 'p', 'r', 's']<br>\n",
        "is_word_guessed() will return False.<br><br>\n",
        "\n",
        "\n",
        "\n"
      ]
    },
    {
      "cell_type": "markdown",
      "source": [
        "### **`Watch Video 17: Hangman Tutorial`**"
      ],
      "metadata": {
        "id": "3cr3up4t-bZv"
      }
    },
    {
      "cell_type": "code",
      "execution_count": null,
      "metadata": {
        "id": "f20UadoKWtgZ",
        "outputId": "551aece0-10d2-4df4-8e30-e6fcb6f36dd5",
        "colab": {
          "base_uri": "https://localhost:8080/"
        }
      },
      "outputs": [
        {
          "output_type": "stream",
          "name": "stdout",
          "text": [
            "None\n",
            "None\n"
          ]
        }
      ],
      "source": [
        "def is_word_guessed(secret_word, letters_guessed):\n",
        "\n",
        "    # Code here\n",
        "    def is_word_guessed(secret_word, letters_guessed):\n",
        "    # Check if all letters in secret_word are present in letters_guessed\n",
        "     return all(letter in letters_guessed for letter in secret_word)\n",
        "\n",
        "# Example usage\n",
        "secret_word = 'apple'\n",
        "letters_guessed_1 = ['e', 'a', 'k', 'p', 'l', 's']\n",
        "letters_guessed_2 = ['e', 'i', 'k', 'p', 'r', 's']\n",
        "\n",
        "# Test cases\n",
        "print(is_word_guessed(secret_word, letters_guessed_1))  # Output: True\n",
        "print(is_word_guessed(secret_word, letters_guessed_2))  # Output: False\n",
        "\n",
        "\n",
        "\n",
        "\n",
        "\n",
        "\n"
      ]
    },
    {
      "cell_type": "markdown",
      "metadata": {
        "id": "fuaxxaOYWtgZ"
      },
      "source": [
        "# Task 2\n",
        "Create a function **get_guessed_word** that takes in two arguments :-<br> **secret_word**, **letters_guessed** <br>**returns** string, comprised of known letters, and unknown letters represented by an underscore and a space (_ )<br>\n",
        "\n",
        "**Assumptions**<br>\n",
        "**secret_word**: string, the word the user is guessing;<br>\n",
        "**letters_guessed**: list (of letters), which letters have been guessed so far<br>\n",
        "\n",
        "**Example**:-<br>\n",
        "secret_word = 'apple'<br>\n",
        "letters_guessed = ['e', 'i', 'k', 'p', 'r', 's']<br>\n",
        "get_guessed_word() will return '_ pp_ e'\n",
        "\n",
        "```\n",
        "You want something like a_ _ _ d_ j and Not a___d_j,\n",
        "which might make it hard for the user to know how many characters are there to be guessed,\n",
        "that's why you want to use '_ ' instead of '_'\n",
        "```"
      ]
    },
    {
      "cell_type": "code",
      "execution_count": null,
      "metadata": {
        "id": "lgZOCOV7Wtga",
        "colab": {
          "base_uri": "https://localhost:8080/"
        },
        "outputId": "a50dfe77-c7f2-4e56-b899-fae49c09a1f0"
      },
      "outputs": [
        {
          "output_type": "stream",
          "name": "stdout",
          "text": [
            "_ pp_ e\n"
          ]
        }
      ],
      "source": [
        "# importing modules needed for the project\n",
        "import random\n",
        "import string\n",
        "\n",
        "def get_guessed_word(secret_word, letters_guessed):\n",
        "   # Use list comprehension to check if each letter is guessed or not\n",
        "    return ''.join([letter if letter in letters_guessed else '_ ' for letter in secret_word])\n",
        "\n",
        "# Example usage\n",
        "secret_word = 'apple'\n",
        "letters_guessed = ['e', 'i', 'k', 'p', 'r', 's']\n",
        "print(get_guessed_word(secret_word, letters_guessed))"
      ]
    },
    {
      "cell_type": "markdown",
      "metadata": {
        "id": "n-FFgeOXWtga"
      },
      "source": [
        "# Task 3\n",
        "\n",
        "Create a function **get_available_letter** that takes in one arguments <br> **letters_guessed** <br>**returns** string (of letters), comprised of letters that represents which letters have not yet been guessed.\n",
        "\n",
        "**Assumptions**<br>\n",
        "**letters_guessed**: list (of letters), which letters have been guessed so far;<br>\n",
        "\n",
        "**Example**:-<br>\n",
        "letters_guessed = [’a’, ’l’, ’m’]<br>\n",
        "get_available_letter() will return 'bcdefghijknopqrstuvwxyz'<br>\n",
        "```\n",
        "You might want to consider using string.ascii_lowercase :=\n",
        "\n",
        "import string\n",
        "print(string.ascii_lowercase)\n",
        "output:- abcdefghijklmnopqrstuvwxyz\n",
        "```"
      ]
    },
    {
      "cell_type": "code",
      "execution_count": null,
      "metadata": {
        "id": "O0Ru7FUsWtga",
        "colab": {
          "base_uri": "https://localhost:8080/"
        },
        "outputId": "69591dda-0e1c-4767-95e9-3ee898620524"
      },
      "outputs": [
        {
          "output_type": "stream",
          "name": "stdout",
          "text": [
            "bcdefghijknopqrstuvwxyz\n"
          ]
        }
      ],
      "source": [
        "\n",
        "def get_available_letters(letters_guessed):\n",
        "    '''\n",
        "    letters_guessed: list (of letters), which letters have been guessed so far\n",
        "    returns: string (of letters), comprised of letters that represents which letters have not\n",
        "      yet been guessed.\n",
        "    '''\n",
        "    # FILL IN YOUR CODE HERE\n",
        "import string\n",
        "def get_available_letters(letters_guessed):\n",
        "    # Use set difference to filter out guessed letters\n",
        "    return ''.join(sorted(set(string.ascii_lowercase) - set(letters_guessed)))\n",
        "\n",
        "# Example usage\n",
        "letters_guessed = ['a', 'l', 'm']\n",
        "print(get_available_letters(letters_guessed))\n",
        "\n"
      ]
    },
    {
      "cell_type": "markdown",
      "metadata": {
        "id": "jQJszStcWtga"
      },
      "source": [
        "### Great, We have created all of the Helper functions, now let's start our work on the actual Hangman Game\n",
        "\n",
        "# Hangman Game\n",
        "\n",
        "Create a function **hangman** that takes in one argument<br>\n",
        "**secret_word** :- string, the secret word to guess.<br>\n",
        "\n",
        "**The function should do the following**:-<br>\n",
        "Starts up an interactive game of Hangman.\n",
        "\n",
        "* At the start of the game, let the user know how many letters the secret_word contains and how many guesses s/he starts with.\n",
        "\n",
        "* The user should start with 6 guesses\n",
        "\n",
        "* Before each round, you should display to the user how many guesses s/he has left and the letters that the user has not yet guessed.\n",
        "\n",
        "* Ask the user to supply one guess per round. Remember to make sure that the user puts in a letter!\n",
        "\n",
        "* The user should receive feedback immediately after each guess about whether their guess appears in the computer's word.\n",
        "\n",
        "* After each guess, you should display to the user the partially guessed word so far.\n",
        "\n",
        "* If the user inputs a letter that hasn’t been guessed before and the letter is in the secret word, the user loses no guesses.\n",
        "\n",
        "* Consonants: If the user inputs a consonant that hasn’t been guessed and the consonant is not in the secret word, the user loses one guess if it’s a consonant.\n",
        "* Vowels: If the vowel hasn’t been guessed and the vowel is not in the secret word, the user loses two guesses. Vowels are a, e, i, o, and u. y does not count as a vowel.\n",
        "\n",
        "* The game should end when the user constructs the full word or runs out of guesses.\n",
        "* If the player runs out of guesses before completing the word, tell them they lost and reveal the word to the user when the game ends.\n",
        "* If the user wins, print a congratulatory message and tell the user their score.\n",
        "* The total score is the number of guesses_remaining once the user has guessed the secret_word times the number of unique letters in secret_word.\n",
        "```\n",
        "Total score = guesses_remaining * number unique letters in secret_word\n",
        "```"
      ]
    },
    {
      "cell_type": "markdown",
      "metadata": {
        "id": "NLlYCU26Wtga"
      },
      "source": [
        "## Demo Game 1\n",
        "```\n",
        "Welcome to the game Hangman!\n",
        "I am thinking of a word that is 4 letters long.\n",
        "-------------\n",
        "You have 6 guesses left.\n",
        "Available letters: abcdefghijklmnopqrstuvwxyz\n",
        "Please guess a letter: ​a\n",
        "Good guess: _ a_ _\n",
        "------------\n",
        "You have 6 guesses left.\n",
        "Available letters: bcdefghijklmnopqrstuvwxyz\n",
        "Please guess a letter: ​s\n",
        "Oops! That letter is not in my word.\n",
        "Please guess a letter: _ a_ _\n",
        "------------\n",
        "You have 5 guesses left.\n",
        "Available letters: bcdefghijklmnopqrtuvwxyz\n",
        "Please guess a letter: ​t\n",
        "Good guess: ta_ t\n",
        "------------\n",
        "You have 5 guesses left.\n",
        "Available letters: bcdefghijklmnopqrtuvwxyz\n",
        "Please guess a letter: ​e\n",
        "Oops! That letter is not in my word: ta_ t\n",
        "------------\n",
        "You have 3 guesses left.\n",
        "Available letters: bcdfghijklnopquvwxyz Please guess a letter: ​c\n",
        "Good guess: tact\n",
        "------------\n",
        "Congratulations, you won!\n",
        "Your total score for this game is: 6\n",
        "```"
      ]
    },
    {
      "cell_type": "markdown",
      "metadata": {
        "id": "LvPe95WxWtga"
      },
      "source": [
        "## Demo Game 2\n",
        "```\n",
        "Welcome to the game Hangman!\n",
        "I am thinking of a word that is 4 letters long\n",
        "-----------\n",
        "You have 6 guesses left\n",
        "Available Letters: abcdefghijklmnopqrstuvwxyz\n",
        "Please guess a letter: ​a\n",
        "Oops! That letter is not in my word: _ _ _ _\n",
        "-----------\n",
        "You have 4 guesses left\n",
        "Available Letters: bcdefghijklmnopqrstuvwxyz\n",
        "Please guess a letter: ​b\n",
        "Oops! That letter is not in my word: _ _ _ _\n",
        "-----------\n",
        "You have 3 guesses left\n",
        "Available Letters: cdefghijklmnopqrstuvwxyz\n",
        "Please guess a letter: ​c\n",
        "Oops! That letter is not in my word: _ _ _ _\n",
        "-----------\n",
        "You have 2 guesses left\n",
        "Available Letters: defghijklmnopqrstuvwxyz\n",
        "Please guess a letter: ​d\n",
        "Oops! That letter is not in my word: _ _ _ _\n",
        "-----------\n",
        "You have 1 guesses left\n",
        "Available Letters: efghijklmnopqrstuvwxyz\n",
        "Please guess a letter: ​e\n",
        "Good guess: e_ _ e\n",
        "-----------\n",
        "You have 1 guesses left\n",
        "Available Letters: fghijklmnopqrstuvwxyz\n",
        "Please guess a letter: ​f\n",
        "Oops! That letter is not in my word: e_ _ e\n",
        "-----------\n",
        "Sorry, you ran out of guesses. The word was else.\n",
        "```"
      ]
    },
    {
      "cell_type": "markdown",
      "metadata": {
        "id": "oFs3nV8AWtgb"
      },
      "source": [
        "## Hints\n",
        "**Try to keep the output as similar to the one's above**<br>\n",
        "**Hints:-**\n",
        "```\n",
        "1. Consider writing additional helper functions if you need them.\n",
        "2. There are four important pieces of information you may wish to store:\n",
        "a. secret_word​: The word to guess. This is already used as the parameter name for the ​hangman​ function.\n",
        "b. letters_guessed​: The letters that have been guessed so far. If they guess a letter that is already in ​letters_guessed​, you should print a message telling them they've already guessed that but do not penalize them for it.\n",
        "c. guesses_remaining​: The number of guesses the user has left. Note that in our example game, the penalty for choosing an incorrect vowel is different than the penalty for choosing an incorrect consonant.\n",
        "```"
      ]
    },
    {
      "cell_type": "code",
      "execution_count": null,
      "metadata": {
        "id": "IlkkRBPFWtgb"
      },
      "outputs": [],
      "source": [
        "\n",
        "def no_of_unique_words(string):\n",
        "    #code here\n",
        "\n",
        "\n",
        "\n",
        "\n",
        "\n",
        "\n",
        "def hangman(secret_word):\n",
        "    #code here\n"
      ]
    },
    {
      "cell_type": "code",
      "execution_count": null,
      "metadata": {
        "id": "rqr36B-BWtgb"
      },
      "outputs": [],
      "source": [
        "# When you've completed your hangman function, test it out to see it is working fine\n",
        "# (hint: you might want to pick your own\n",
        "# secret_word while you're doing your own testing by changing 'apple' to any other string)\n",
        "hangman('apple')"
      ]
    },
    {
      "cell_type": "markdown",
      "metadata": {
        "id": "ayutll31Wtgc"
      },
      "source": [
        "## Congratulations all of your hardwork paid of, you have just created the Hangman Game<br>\n",
        "**now go ahead and play the game you created, run the cell below**\n",
        "\n"
      ]
    },
    {
      "cell_type": "code",
      "execution_count": null,
      "metadata": {
        "id": "OXfcylbvWtgc"
      },
      "outputs": [],
      "source": [
        "words = ['army', 'beautiful', 'became', 'if', 'actually', 'beside',\n",
        "         'between','come','eye','five','fur','imposter', 'problem' ,\n",
        "         'revenge' ,'few' ,'circle' ,'district','trade','quota','stop','depressed','disorder','dentist']\n",
        "\n",
        "#choose a random word from list using random.choice() function\n",
        "random_word =\n",
        "\n",
        "#check you function\n",
        "hangman(random_word)"
      ]
    },
    {
      "cell_type": "markdown",
      "metadata": {
        "id": "62faCBcTWtgc"
      },
      "source": [
        "--------------------------------------\n",
        "Wohooo! You did a really good job. We hope you enjoyed your first mini python project here.\n",
        "\n",
        "We understand it was bit challenging and time taking, but it's worth it, coz here you are to achieve your goal and this course will help you in all posible way to make your dreams come true.\n",
        "\n"
      ]
    },
    {
      "cell_type": "markdown",
      "metadata": {
        "id": "8p3Ruyw6Wtgc"
      },
      "source": [
        "\n",
        "\n",
        "----------------------------------------------------------------------"
      ]
    },
    {
      "cell_type": "markdown",
      "metadata": {
        "id": "JiGSsuwaWtgd"
      },
      "source": [
        "# Bam!, you completed the second milestone challenge too:)!!"
      ]
    },
    {
      "cell_type": "markdown",
      "metadata": {
        "id": "ME6IJ3pOWtgd"
      },
      "source": [
        "# FeedBack\n",
        "We hope you’ve enjoyed this course so far. We’re committed to help you use \"AI for All\" course to its full potential, so that you have a great learning experience. And that’s why we need your help in form of a feedback here.\n",
        "\n",
        "Please fill this feedback form https://docs.google.com/forms/d/e/1FAIpQLSfjBmH0yJSSA34IhSVx4h2eDMgOAeG4Dk-yHid__NMTk3Hq5g/viewform"
      ]
    }
  ],
  "metadata": {
    "kernelspec": {
      "display_name": "Python 3",
      "language": "python",
      "name": "python3"
    },
    "language_info": {
      "codemirror_mode": {
        "name": "ipython",
        "version": 3
      },
      "file_extension": ".py",
      "mimetype": "text/x-python",
      "name": "python",
      "nbconvert_exporter": "python",
      "pygments_lexer": "ipython3",
      "version": "3.8.5"
    },
    "colab": {
      "provenance": [],
      "include_colab_link": true
    }
  },
  "nbformat": 4,
  "nbformat_minor": 0
}