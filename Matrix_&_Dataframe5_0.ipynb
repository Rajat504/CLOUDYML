{
  "nbformat": 4,
  "nbformat_minor": 0,
  "metadata": {
    "colab": {
      "provenance": [],
      "include_colab_link": true
    },
    "kernelspec": {
      "name": "ir",
      "display_name": "R"
    },
    "language_info": {
      "name": "R"
    }
  },
  "cells": [
    {
      "cell_type": "markdown",
      "metadata": {
        "id": "view-in-github",
        "colab_type": "text"
      },
      "source": [
        "<a href=\"https://colab.research.google.com/github/Rajat504/CLOUDYML/blob/main/Matrix_%26_Dataframe5_0.ipynb\" target=\"_parent\"><img src=\"https://colab.research.google.com/assets/colab-badge.svg\" alt=\"Open In Colab\"/></a>"
      ]
    },
    {
      "cell_type": "markdown",
      "source": [
        "# MATRIX:\n",
        "\n",
        "Matrix is a rectangular arrangement of numbers in rows and columns. In a matrix, as we know rows are the ones that run horizontally and columns are the ones that run vertically. In R programming, matrices are two-dimensional, homogeneous data structures."
      ],
      "metadata": {
        "id": "yQirag8zHs3n"
      }
    },
    {
      "cell_type": "code",
      "source": [
        "\n",
        "# R program to create a matrix\n",
        "  m1=matrix(1:12,nrow=3,ncol=4)\n",
        "  m1\n",
        "\n",
        "\n",
        "  # Taking sequence of elements\n",
        "\n",
        "\n",
        "  # No of rows\n",
        "\n",
        "\n",
        "  # No of columns\n",
        "\n",
        "\n"
      ],
      "metadata": {
        "colab": {
          "base_uri": "https://localhost:8080/",
          "height": 146
        },
        "id": "oRlE_uQhHwp3",
        "outputId": "a000775b-1a0a-4e4a-e6e6-b8e9335b6fb3"
      },
      "execution_count": 1,
      "outputs": [
        {
          "output_type": "display_data",
          "data": {
            "text/html": [
              "<table class=\"dataframe\">\n",
              "<caption>A matrix: 3 × 4 of type int</caption>\n",
              "<tbody>\n",
              "\t<tr><td>1</td><td>4</td><td>7</td><td>10</td></tr>\n",
              "\t<tr><td>2</td><td>5</td><td>8</td><td>11</td></tr>\n",
              "\t<tr><td>3</td><td>6</td><td>9</td><td>12</td></tr>\n",
              "</tbody>\n",
              "</table>\n"
            ],
            "text/markdown": "\nA matrix: 3 × 4 of type int\n\n| 1 | 4 | 7 | 10 |\n| 2 | 5 | 8 | 11 |\n| 3 | 6 | 9 | 12 |\n\n",
            "text/latex": "A matrix: 3 × 4 of type int\n\\begin{tabular}{llll}\n\t 1 & 4 & 7 & 10\\\\\n\t 2 & 5 & 8 & 11\\\\\n\t 3 & 6 & 9 & 12\\\\\n\\end{tabular}\n",
            "text/plain": [
              "     [,1] [,2] [,3] [,4]\n",
              "[1,] 1    4    7    10  \n",
              "[2,] 2    5    8    11  \n",
              "[3,] 3    6    9    12  "
            ]
          },
          "metadata": {}
        }
      ]
    },
    {
      "cell_type": "code",
      "source": [
        "  # By default matrices are in column-wise order\n",
        "  # So this parameter decides how to arrange the matrix\n",
        "\n",
        "\n"
      ],
      "metadata": {
        "id": "PePnS2GiH-w7"
      },
      "execution_count": 2,
      "outputs": []
    },
    {
      "cell_type": "code",
      "source": [
        "# if the dimension is less than total elements then first nxm elements\n",
        "m1=matrix(1:12,nrow=3,ncol=3)\n",
        "m1\n",
        "\n"
      ],
      "metadata": {
        "colab": {
          "base_uri": "https://localhost:8080/",
          "height": 198
        },
        "id": "hw7oHtJJI0pL",
        "outputId": "02158ff1-8752-4724-a4f3-5f27c21d8247"
      },
      "execution_count": 3,
      "outputs": [
        {
          "output_type": "stream",
          "name": "stderr",
          "text": [
            "Warning message in matrix(1:12, nrow = 3, ncol = 3):\n",
            "“data length differs from size of matrix: [12 != 3 x 3]”\n"
          ]
        },
        {
          "output_type": "display_data",
          "data": {
            "text/html": [
              "<table class=\"dataframe\">\n",
              "<caption>A matrix: 3 × 3 of type int</caption>\n",
              "<tbody>\n",
              "\t<tr><td>1</td><td>4</td><td>7</td></tr>\n",
              "\t<tr><td>2</td><td>5</td><td>8</td></tr>\n",
              "\t<tr><td>3</td><td>6</td><td>9</td></tr>\n",
              "</tbody>\n",
              "</table>\n"
            ],
            "text/markdown": "\nA matrix: 3 × 3 of type int\n\n| 1 | 4 | 7 |\n| 2 | 5 | 8 |\n| 3 | 6 | 9 |\n\n",
            "text/latex": "A matrix: 3 × 3 of type int\n\\begin{tabular}{lll}\n\t 1 & 4 & 7\\\\\n\t 2 & 5 & 8\\\\\n\t 3 & 6 & 9\\\\\n\\end{tabular}\n",
            "text/plain": [
              "     [,1] [,2] [,3]\n",
              "[1,] 1    4    7   \n",
              "[2,] 2    5    8   \n",
              "[3,] 3    6    9   "
            ]
          },
          "metadata": {}
        }
      ]
    },
    {
      "cell_type": "code",
      "source": [
        "#  Recycling of the matrix\n",
        "m1=matrix(1:12,nrow=4,ncol=5)\n",
        "m1\n",
        "\n"
      ],
      "metadata": {
        "colab": {
          "base_uri": "https://localhost:8080/",
          "height": 212
        },
        "id": "e4ND_ymMJARX",
        "outputId": "7296b783-54c2-4bbc-d8aa-daa05acf3f67"
      },
      "execution_count": 4,
      "outputs": [
        {
          "output_type": "stream",
          "name": "stderr",
          "text": [
            "Warning message in matrix(1:12, nrow = 4, ncol = 5):\n",
            "“data length [12] is not a sub-multiple or multiple of the number of columns [5]”\n"
          ]
        },
        {
          "output_type": "display_data",
          "data": {
            "text/html": [
              "<table class=\"dataframe\">\n",
              "<caption>A matrix: 4 × 5 of type int</caption>\n",
              "<tbody>\n",
              "\t<tr><td>1</td><td>5</td><td> 9</td><td>1</td><td>5</td></tr>\n",
              "\t<tr><td>2</td><td>6</td><td>10</td><td>2</td><td>6</td></tr>\n",
              "\t<tr><td>3</td><td>7</td><td>11</td><td>3</td><td>7</td></tr>\n",
              "\t<tr><td>4</td><td>8</td><td>12</td><td>4</td><td>8</td></tr>\n",
              "</tbody>\n",
              "</table>\n"
            ],
            "text/markdown": "\nA matrix: 4 × 5 of type int\n\n| 1 | 5 |  9 | 1 | 5 |\n| 2 | 6 | 10 | 2 | 6 |\n| 3 | 7 | 11 | 3 | 7 |\n| 4 | 8 | 12 | 4 | 8 |\n\n",
            "text/latex": "A matrix: 4 × 5 of type int\n\\begin{tabular}{lllll}\n\t 1 & 5 &  9 & 1 & 5\\\\\n\t 2 & 6 & 10 & 2 & 6\\\\\n\t 3 & 7 & 11 & 3 & 7\\\\\n\t 4 & 8 & 12 & 4 & 8\\\\\n\\end{tabular}\n",
            "text/plain": [
              "     [,1] [,2] [,3] [,4] [,5]\n",
              "[1,] 1    5     9   1    5   \n",
              "[2,] 2    6    10   2    6   \n",
              "[3,] 3    7    11   3    7   \n",
              "[4,] 4    8    12   4    8   "
            ]
          },
          "metadata": {}
        }
      ]
    },
    {
      "cell_type": "markdown",
      "source": [
        "#Length-returns total no of rows and colums(m*n)\n"
      ],
      "metadata": {
        "id": "jjXVMH9gJVcM"
      }
    },
    {
      "cell_type": "code",
      "source": [
        "set.seed(101)\n",
        "mat = matrix( data = as.integer(runif(30, 10, 17)),\n",
        "              nrow = 5, ncol = 3)\n",
        "\n",
        "mat\n",
        "\n",
        "# find the length of the matrix\n",
        "\n",
        "length(mat)\n",
        "\n",
        "\n"
      ],
      "metadata": {
        "colab": {
          "base_uri": "https://localhost:8080/",
          "height": 261
        },
        "id": "v1vZRBMPJfml",
        "outputId": "31b0db12-57f7-46b8-db38-7483b51d9664"
      },
      "execution_count": 6,
      "outputs": [
        {
          "output_type": "stream",
          "name": "stderr",
          "text": [
            "Warning message in matrix(data = as.integer(runif(30, 10, 17)), nrow = 5, ncol = 3):\n",
            "“data length differs from size of matrix: [30 != 5 x 3]”\n"
          ]
        },
        {
          "output_type": "display_data",
          "data": {
            "text/html": [
              "<table class=\"dataframe\">\n",
              "<caption>A matrix: 5 × 3 of type int</caption>\n",
              "<tbody>\n",
              "\t<tr><td>12</td><td>12</td><td>16</td></tr>\n",
              "\t<tr><td>10</td><td>14</td><td>14</td></tr>\n",
              "\t<tr><td>14</td><td>12</td><td>15</td></tr>\n",
              "\t<tr><td>14</td><td>14</td><td>16</td></tr>\n",
              "\t<tr><td>11</td><td>13</td><td>13</td></tr>\n",
              "</tbody>\n",
              "</table>\n"
            ],
            "text/markdown": "\nA matrix: 5 × 3 of type int\n\n| 12 | 12 | 16 |\n| 10 | 14 | 14 |\n| 14 | 12 | 15 |\n| 14 | 14 | 16 |\n| 11 | 13 | 13 |\n\n",
            "text/latex": "A matrix: 5 × 3 of type int\n\\begin{tabular}{lll}\n\t 12 & 12 & 16\\\\\n\t 10 & 14 & 14\\\\\n\t 14 & 12 & 15\\\\\n\t 14 & 14 & 16\\\\\n\t 11 & 13 & 13\\\\\n\\end{tabular}\n",
            "text/plain": [
              "     [,1] [,2] [,3]\n",
              "[1,] 12   12   16  \n",
              "[2,] 10   14   14  \n",
              "[3,] 14   12   15  \n",
              "[4,] 14   14   16  \n",
              "[5,] 11   13   13  "
            ]
          },
          "metadata": {}
        },
        {
          "output_type": "display_data",
          "data": {
            "text/html": [
              "15"
            ],
            "text/markdown": "15",
            "text/latex": "15",
            "text/plain": [
              "[1] 15"
            ]
          },
          "metadata": {}
        }
      ]
    },
    {
      "cell_type": "markdown",
      "source": [
        "#Accessing elements of a Matrix\n",
        "We can access elements in the matrices using the same convention that is followed in data frames. So, you will have a matrix and followed by a square bracket with a comma in between array. Value before the comma is used to access rows and value that is after the comma is used to access columns. Let’s illustrate this by taking a simple R code."
      ],
      "metadata": {
        "id": "NgevQRo7J3rd"
      }
    },
    {
      "cell_type": "markdown",
      "source": [
        "###  accessing the rows:"
      ],
      "metadata": {
        "id": "GoLAWKujKAEn"
      }
    },
    {
      "cell_type": "code",
      "source": [
        "# access rows in metrics, read 2nd row\n",
        "mat[2,]\n",
        "\n",
        "# access the first 2 rows\n",
        "mat[1:2,]\n",
        "\n",
        "#access the last 3 rows\n",
        "mat[3:5,]\n",
        "\n",
        "# acess the 1st and 3rd colum\n",
        "mat[c(1,5),]\n"
      ],
      "metadata": {
        "colab": {
          "base_uri": "https://localhost:8080/",
          "height": 358
        },
        "id": "VeJQ-JJ-J4oA",
        "outputId": "c62eab2e-7507-45ff-8fea-0b02a9d8154f"
      },
      "execution_count": 9,
      "outputs": [
        {
          "output_type": "display_data",
          "data": {
            "text/html": [
              "<style>\n",
              ".list-inline {list-style: none; margin:0; padding: 0}\n",
              ".list-inline>li {display: inline-block}\n",
              ".list-inline>li:not(:last-child)::after {content: \"\\00b7\"; padding: 0 .5ex}\n",
              "</style>\n",
              "<ol class=list-inline><li>10</li><li>14</li><li>14</li></ol>\n"
            ],
            "text/markdown": "1. 10\n2. 14\n3. 14\n\n\n",
            "text/latex": "\\begin{enumerate*}\n\\item 10\n\\item 14\n\\item 14\n\\end{enumerate*}\n",
            "text/plain": [
              "[1] 10 14 14"
            ]
          },
          "metadata": {}
        },
        {
          "output_type": "display_data",
          "data": {
            "text/html": [
              "<table class=\"dataframe\">\n",
              "<caption>A matrix: 2 × 3 of type int</caption>\n",
              "<tbody>\n",
              "\t<tr><td>12</td><td>12</td><td>16</td></tr>\n",
              "\t<tr><td>10</td><td>14</td><td>14</td></tr>\n",
              "</tbody>\n",
              "</table>\n"
            ],
            "text/markdown": "\nA matrix: 2 × 3 of type int\n\n| 12 | 12 | 16 |\n| 10 | 14 | 14 |\n\n",
            "text/latex": "A matrix: 2 × 3 of type int\n\\begin{tabular}{lll}\n\t 12 & 12 & 16\\\\\n\t 10 & 14 & 14\\\\\n\\end{tabular}\n",
            "text/plain": [
              "     [,1] [,2] [,3]\n",
              "[1,] 12   12   16  \n",
              "[2,] 10   14   14  "
            ]
          },
          "metadata": {}
        },
        {
          "output_type": "display_data",
          "data": {
            "text/html": [
              "<table class=\"dataframe\">\n",
              "<caption>A matrix: 3 × 3 of type int</caption>\n",
              "<tbody>\n",
              "\t<tr><td>14</td><td>12</td><td>15</td></tr>\n",
              "\t<tr><td>14</td><td>14</td><td>16</td></tr>\n",
              "\t<tr><td>11</td><td>13</td><td>13</td></tr>\n",
              "</tbody>\n",
              "</table>\n"
            ],
            "text/markdown": "\nA matrix: 3 × 3 of type int\n\n| 14 | 12 | 15 |\n| 14 | 14 | 16 |\n| 11 | 13 | 13 |\n\n",
            "text/latex": "A matrix: 3 × 3 of type int\n\\begin{tabular}{lll}\n\t 14 & 12 & 15\\\\\n\t 14 & 14 & 16\\\\\n\t 11 & 13 & 13\\\\\n\\end{tabular}\n",
            "text/plain": [
              "     [,1] [,2] [,3]\n",
              "[1,] 14   12   15  \n",
              "[2,] 14   14   16  \n",
              "[3,] 11   13   13  "
            ]
          },
          "metadata": {}
        },
        {
          "output_type": "display_data",
          "data": {
            "text/html": [
              "<table class=\"dataframe\">\n",
              "<caption>A matrix: 2 × 3 of type int</caption>\n",
              "<tbody>\n",
              "\t<tr><td>12</td><td>12</td><td>16</td></tr>\n",
              "\t<tr><td>11</td><td>13</td><td>13</td></tr>\n",
              "</tbody>\n",
              "</table>\n"
            ],
            "text/markdown": "\nA matrix: 2 × 3 of type int\n\n| 12 | 12 | 16 |\n| 11 | 13 | 13 |\n\n",
            "text/latex": "A matrix: 2 × 3 of type int\n\\begin{tabular}{lll}\n\t 12 & 12 & 16\\\\\n\t 11 & 13 & 13\\\\\n\\end{tabular}\n",
            "text/plain": [
              "     [,1] [,2] [,3]\n",
              "[1,] 12   12   16  \n",
              "[2,] 11   13   13  "
            ]
          },
          "metadata": {}
        }
      ]
    },
    {
      "cell_type": "markdown",
      "source": [
        "### Accessing columns:"
      ],
      "metadata": {
        "id": "mSKv9NF1K3iL"
      }
    },
    {
      "cell_type": "code",
      "source": [
        "# access columns in metrics,read 2nd column\n",
        "mat[,2]\n"
      ],
      "metadata": {
        "colab": {
          "base_uri": "https://localhost:8080/",
          "height": 34
        },
        "id": "m_JO5K9PK4py",
        "outputId": "afeab637-abc7-4e84-9d50-1f4b736a3ed4"
      },
      "execution_count": 10,
      "outputs": [
        {
          "output_type": "display_data",
          "data": {
            "text/html": [
              "<style>\n",
              ".list-inline {list-style: none; margin:0; padding: 0}\n",
              ".list-inline>li {display: inline-block}\n",
              ".list-inline>li:not(:last-child)::after {content: \"\\00b7\"; padding: 0 .5ex}\n",
              "</style>\n",
              "<ol class=list-inline><li>12</li><li>14</li><li>12</li><li>14</li><li>13</li></ol>\n"
            ],
            "text/markdown": "1. 12\n2. 14\n3. 12\n4. 14\n5. 13\n\n\n",
            "text/latex": "\\begin{enumerate*}\n\\item 12\n\\item 14\n\\item 12\n\\item 14\n\\item 13\n\\end{enumerate*}\n",
            "text/plain": [
              "[1] 12 14 12 14 13"
            ]
          },
          "metadata": {}
        }
      ]
    },
    {
      "cell_type": "code",
      "source": [
        "# access the last colum\n",
        "mat[,3]"
      ],
      "metadata": {
        "colab": {
          "base_uri": "https://localhost:8080/",
          "height": 34
        },
        "id": "qD12XG5hLFHl",
        "outputId": "1e4ccf1f-65a5-4e12-aa6b-1e05a7a1a163"
      },
      "execution_count": 11,
      "outputs": [
        {
          "output_type": "display_data",
          "data": {
            "text/html": [
              "<style>\n",
              ".list-inline {list-style: none; margin:0; padding: 0}\n",
              ".list-inline>li {display: inline-block}\n",
              ".list-inline>li:not(:last-child)::after {content: \"\\00b7\"; padding: 0 .5ex}\n",
              "</style>\n",
              "<ol class=list-inline><li>16</li><li>14</li><li>15</li><li>16</li><li>13</li></ol>\n"
            ],
            "text/markdown": "1. 16\n2. 14\n3. 15\n4. 16\n5. 13\n\n\n",
            "text/latex": "\\begin{enumerate*}\n\\item 16\n\\item 14\n\\item 15\n\\item 16\n\\item 13\n\\end{enumerate*}\n",
            "text/plain": [
              "[1] 16 14 15 16 13"
            ]
          },
          "metadata": {}
        }
      ]
    },
    {
      "cell_type": "code",
      "source": [
        "# access 1st and 3rd column\n",
        "mat[,c(1,3)]"
      ],
      "metadata": {
        "colab": {
          "base_uri": "https://localhost:8080/",
          "height": 226
        },
        "id": "oOUQwGFJLJ79",
        "outputId": "f33d577f-4ceb-4053-b499-b15b9c61e062"
      },
      "execution_count": 12,
      "outputs": [
        {
          "output_type": "display_data",
          "data": {
            "text/html": [
              "<table class=\"dataframe\">\n",
              "<caption>A matrix: 5 × 2 of type int</caption>\n",
              "<tbody>\n",
              "\t<tr><td>12</td><td>16</td></tr>\n",
              "\t<tr><td>10</td><td>14</td></tr>\n",
              "\t<tr><td>14</td><td>15</td></tr>\n",
              "\t<tr><td>14</td><td>16</td></tr>\n",
              "\t<tr><td>11</td><td>13</td></tr>\n",
              "</tbody>\n",
              "</table>\n"
            ],
            "text/markdown": "\nA matrix: 5 × 2 of type int\n\n| 12 | 16 |\n| 10 | 14 |\n| 14 | 15 |\n| 14 | 16 |\n| 11 | 13 |\n\n",
            "text/latex": "A matrix: 5 × 2 of type int\n\\begin{tabular}{ll}\n\t 12 & 16\\\\\n\t 10 & 14\\\\\n\t 14 & 15\\\\\n\t 14 & 16\\\\\n\t 11 & 13\\\\\n\\end{tabular}\n",
            "text/plain": [
              "     [,1] [,2]\n",
              "[1,] 12   16  \n",
              "[2,] 10   14  \n",
              "[3,] 14   15  \n",
              "[4,] 14   16  \n",
              "[5,] 11   13  "
            ]
          },
          "metadata": {}
        }
      ]
    },
    {
      "cell_type": "code",
      "source": [
        "# access 1st and 3rd column for even no of rows\n",
        "mat[seq(2,5,2),c(1,3)]"
      ],
      "metadata": {
        "colab": {
          "base_uri": "https://localhost:8080/",
          "height": 132
        },
        "id": "Ud5iaRFeLcPS",
        "outputId": "0f889e4b-52cf-4290-ba77-0457cc6fa8fe"
      },
      "execution_count": 14,
      "outputs": [
        {
          "output_type": "display_data",
          "data": {
            "text/html": [
              "<table class=\"dataframe\">\n",
              "<caption>A matrix: 2 × 2 of type int</caption>\n",
              "<tbody>\n",
              "\t<tr><td>10</td><td>14</td></tr>\n",
              "\t<tr><td>14</td><td>16</td></tr>\n",
              "</tbody>\n",
              "</table>\n"
            ],
            "text/markdown": "\nA matrix: 2 × 2 of type int\n\n| 10 | 14 |\n| 14 | 16 |\n\n",
            "text/latex": "A matrix: 2 × 2 of type int\n\\begin{tabular}{ll}\n\t 10 & 14\\\\\n\t 14 & 16\\\\\n\\end{tabular}\n",
            "text/plain": [
              "     [,1] [,2]\n",
              "[1,] 10   14  \n",
              "[2,] 14   16  "
            ]
          },
          "metadata": {}
        }
      ]
    },
    {
      "cell_type": "markdown",
      "source": [
        "### Accessing elements of a matrix:\n"
      ],
      "metadata": {
        "id": "-g-kn7LxLs45"
      }
    },
    {
      "cell_type": "code",
      "source": [
        "set.seed(101)\n",
        "mat = matrix( data = as.integer(runif(30, 10, 17)),\n",
        "              nrow = 5, ncol = 3)\n",
        "\n",
        "mat"
      ],
      "metadata": {
        "colab": {
          "base_uri": "https://localhost:8080/",
          "height": 243
        },
        "id": "cLEtMeApLuFm",
        "outputId": "747b718e-958f-4593-ace1-4f65dba4bc03"
      },
      "execution_count": 13,
      "outputs": [
        {
          "output_type": "stream",
          "name": "stderr",
          "text": [
            "Warning message in matrix(data = as.integer(runif(30, 10, 17)), nrow = 5, ncol = 3):\n",
            "“data length differs from size of matrix: [30 != 5 x 3]”\n"
          ]
        },
        {
          "output_type": "display_data",
          "data": {
            "text/html": [
              "<table class=\"dataframe\">\n",
              "<caption>A matrix: 5 × 3 of type int</caption>\n",
              "<tbody>\n",
              "\t<tr><td>12</td><td>12</td><td>16</td></tr>\n",
              "\t<tr><td>10</td><td>14</td><td>14</td></tr>\n",
              "\t<tr><td>14</td><td>12</td><td>15</td></tr>\n",
              "\t<tr><td>14</td><td>14</td><td>16</td></tr>\n",
              "\t<tr><td>11</td><td>13</td><td>13</td></tr>\n",
              "</tbody>\n",
              "</table>\n"
            ],
            "text/markdown": "\nA matrix: 5 × 3 of type int\n\n| 12 | 12 | 16 |\n| 10 | 14 | 14 |\n| 14 | 12 | 15 |\n| 14 | 14 | 16 |\n| 11 | 13 | 13 |\n\n",
            "text/latex": "A matrix: 5 × 3 of type int\n\\begin{tabular}{lll}\n\t 12 & 12 & 16\\\\\n\t 10 & 14 & 14\\\\\n\t 14 & 12 & 15\\\\\n\t 14 & 14 & 16\\\\\n\t 11 & 13 & 13\\\\\n\\end{tabular}\n",
            "text/plain": [
              "     [,1] [,2] [,3]\n",
              "[1,] 12   12   16  \n",
              "[2,] 10   14   14  \n",
              "[3,] 14   12   15  \n",
              "[4,] 14   14   16  \n",
              "[5,] 11   13   13  "
            ]
          },
          "metadata": {}
        }
      ]
    },
    {
      "cell_type": "code",
      "source": [
        "# access 10\n",
        "mat[2,1]\n",
        "\n",
        "# access 11\n",
        "mat[5,1]"
      ],
      "metadata": {
        "colab": {
          "base_uri": "https://localhost:8080/",
          "height": 52
        },
        "id": "pO3BNtT0L4Nf",
        "outputId": "77290976-49dc-47cc-92ec-0d07467897ad"
      },
      "execution_count": 15,
      "outputs": [
        {
          "output_type": "display_data",
          "data": {
            "text/html": [
              "10"
            ],
            "text/markdown": "10",
            "text/latex": "10",
            "text/plain": [
              "[1] 10"
            ]
          },
          "metadata": {}
        },
        {
          "output_type": "display_data",
          "data": {
            "text/html": [
              "11"
            ],
            "text/markdown": "11",
            "text/latex": "11",
            "text/plain": [
              "[1] 11"
            ]
          },
          "metadata": {}
        }
      ]
    },
    {
      "cell_type": "markdown",
      "source": [
        "# INSERT/Update:\n",
        " insertion is possible if that position doesnot exist\n",
        "\n",
        "updation is possible if that position exists"
      ],
      "metadata": {
        "id": "eJlg13ZLMRpR"
      }
    },
    {
      "cell_type": "code",
      "source": [
        "set.seed(101)\n",
        "mat = matrix( data = as.integer(runif(30, 10, 17)),\n",
        "              nrow = 5, ncol = 3)\n",
        "\n",
        "mat\n",
        "\n",
        "# inserting 999 instead of 14\n",
        "mat[2,2]=999\n",
        "mat\n",
        "\n"
      ],
      "metadata": {
        "colab": {
          "base_uri": "https://localhost:8080/",
          "height": 435
        },
        "id": "9pi-I9WuMZve",
        "outputId": "d41e5329-8059-488b-bc4e-db694ccdf2bd"
      },
      "execution_count": 16,
      "outputs": [
        {
          "output_type": "stream",
          "name": "stderr",
          "text": [
            "Warning message in matrix(data = as.integer(runif(30, 10, 17)), nrow = 5, ncol = 3):\n",
            "“data length differs from size of matrix: [30 != 5 x 3]”\n"
          ]
        },
        {
          "output_type": "display_data",
          "data": {
            "text/html": [
              "<table class=\"dataframe\">\n",
              "<caption>A matrix: 5 × 3 of type int</caption>\n",
              "<tbody>\n",
              "\t<tr><td>12</td><td>12</td><td>16</td></tr>\n",
              "\t<tr><td>10</td><td>14</td><td>14</td></tr>\n",
              "\t<tr><td>14</td><td>12</td><td>15</td></tr>\n",
              "\t<tr><td>14</td><td>14</td><td>16</td></tr>\n",
              "\t<tr><td>11</td><td>13</td><td>13</td></tr>\n",
              "</tbody>\n",
              "</table>\n"
            ],
            "text/markdown": "\nA matrix: 5 × 3 of type int\n\n| 12 | 12 | 16 |\n| 10 | 14 | 14 |\n| 14 | 12 | 15 |\n| 14 | 14 | 16 |\n| 11 | 13 | 13 |\n\n",
            "text/latex": "A matrix: 5 × 3 of type int\n\\begin{tabular}{lll}\n\t 12 & 12 & 16\\\\\n\t 10 & 14 & 14\\\\\n\t 14 & 12 & 15\\\\\n\t 14 & 14 & 16\\\\\n\t 11 & 13 & 13\\\\\n\\end{tabular}\n",
            "text/plain": [
              "     [,1] [,2] [,3]\n",
              "[1,] 12   12   16  \n",
              "[2,] 10   14   14  \n",
              "[3,] 14   12   15  \n",
              "[4,] 14   14   16  \n",
              "[5,] 11   13   13  "
            ]
          },
          "metadata": {}
        },
        {
          "output_type": "display_data",
          "data": {
            "text/html": [
              "<table class=\"dataframe\">\n",
              "<caption>A matrix: 5 × 3 of type dbl</caption>\n",
              "<tbody>\n",
              "\t<tr><td>12</td><td> 12</td><td>16</td></tr>\n",
              "\t<tr><td>10</td><td>999</td><td>14</td></tr>\n",
              "\t<tr><td>14</td><td> 12</td><td>15</td></tr>\n",
              "\t<tr><td>14</td><td> 14</td><td>16</td></tr>\n",
              "\t<tr><td>11</td><td> 13</td><td>13</td></tr>\n",
              "</tbody>\n",
              "</table>\n"
            ],
            "text/markdown": "\nA matrix: 5 × 3 of type dbl\n\n| 12 |  12 | 16 |\n| 10 | 999 | 14 |\n| 14 |  12 | 15 |\n| 14 |  14 | 16 |\n| 11 |  13 | 13 |\n\n",
            "text/latex": "A matrix: 5 × 3 of type dbl\n\\begin{tabular}{lll}\n\t 12 &  12 & 16\\\\\n\t 10 & 999 & 14\\\\\n\t 14 &  12 & 15\\\\\n\t 14 &  14 & 16\\\\\n\t 11 &  13 & 13\\\\\n\\end{tabular}\n",
            "text/plain": [
              "     [,1] [,2] [,3]\n",
              "[1,] 12    12  16  \n",
              "[2,] 10   999  14  \n",
              "[3,] 14    12  15  \n",
              "[4,] 14    14  16  \n",
              "[5,] 11    13  13  "
            ]
          },
          "metadata": {}
        }
      ]
    },
    {
      "cell_type": "code",
      "source": [
        "# insert 9.99 in place of 13\n",
        "mat[5,3]=9.99\n",
        "mat\n",
        "\n"
      ],
      "metadata": {
        "colab": {
          "base_uri": "https://localhost:8080/",
          "height": 209
        },
        "id": "q2e0iuFmMfCZ",
        "outputId": "db0f00d8-dea7-467b-9fb0-abc1b3bab93d"
      },
      "execution_count": 17,
      "outputs": [
        {
          "output_type": "display_data",
          "data": {
            "text/html": [
              "<table class=\"dataframe\">\n",
              "<caption>A matrix: 5 × 3 of type dbl</caption>\n",
              "<tbody>\n",
              "\t<tr><td>12</td><td> 12</td><td>16.00</td></tr>\n",
              "\t<tr><td>10</td><td>999</td><td>14.00</td></tr>\n",
              "\t<tr><td>14</td><td> 12</td><td>15.00</td></tr>\n",
              "\t<tr><td>14</td><td> 14</td><td>16.00</td></tr>\n",
              "\t<tr><td>11</td><td> 13</td><td> 9.99</td></tr>\n",
              "</tbody>\n",
              "</table>\n"
            ],
            "text/markdown": "\nA matrix: 5 × 3 of type dbl\n\n| 12 |  12 | 16.00 |\n| 10 | 999 | 14.00 |\n| 14 |  12 | 15.00 |\n| 14 |  14 | 16.00 |\n| 11 |  13 |  9.99 |\n\n",
            "text/latex": "A matrix: 5 × 3 of type dbl\n\\begin{tabular}{lll}\n\t 12 &  12 & 16.00\\\\\n\t 10 & 999 & 14.00\\\\\n\t 14 &  12 & 15.00\\\\\n\t 14 &  14 & 16.00\\\\\n\t 11 &  13 &  9.99\\\\\n\\end{tabular}\n",
            "text/plain": [
              "     [,1] [,2] [,3] \n",
              "[1,] 12    12  16.00\n",
              "[2,] 10   999  14.00\n",
              "[3,] 14    12  15.00\n",
              "[4,] 14    14  16.00\n",
              "[5,] 11    13   9.99"
            ]
          },
          "metadata": {}
        }
      ]
    },
    {
      "cell_type": "markdown",
      "source": [
        "#Deleting rows and columns of a Matrix\n",
        "\n",
        "\n",
        "To delete a row or a column, first of all, you need to access that row or column and then insert a negative sign before that row or column. It indicates that you had to delete that row or column.\n"
      ],
      "metadata": {
        "id": "QImVxHtlNIO6"
      }
    },
    {
      "cell_type": "code",
      "source": [
        "#2nd-row deletion\n",
        "mat1=mat[-2,]\n",
        "mat1\n",
        "\n"
      ],
      "metadata": {
        "colab": {
          "base_uri": "https://localhost:8080/",
          "height": 177
        },
        "id": "eRy9ATi1NME7",
        "outputId": "43237b94-bafc-4b79-faf5-893738be28b0"
      },
      "execution_count": 18,
      "outputs": [
        {
          "output_type": "display_data",
          "data": {
            "text/html": [
              "<table class=\"dataframe\">\n",
              "<caption>A matrix: 4 × 3 of type dbl</caption>\n",
              "<tbody>\n",
              "\t<tr><td>12</td><td>12</td><td>16.00</td></tr>\n",
              "\t<tr><td>14</td><td>12</td><td>15.00</td></tr>\n",
              "\t<tr><td>14</td><td>14</td><td>16.00</td></tr>\n",
              "\t<tr><td>11</td><td>13</td><td> 9.99</td></tr>\n",
              "</tbody>\n",
              "</table>\n"
            ],
            "text/markdown": "\nA matrix: 4 × 3 of type dbl\n\n| 12 | 12 | 16.00 |\n| 14 | 12 | 15.00 |\n| 14 | 14 | 16.00 |\n| 11 | 13 |  9.99 |\n\n",
            "text/latex": "A matrix: 4 × 3 of type dbl\n\\begin{tabular}{lll}\n\t 12 & 12 & 16.00\\\\\n\t 14 & 12 & 15.00\\\\\n\t 14 & 14 & 16.00\\\\\n\t 11 & 13 &  9.99\\\\\n\\end{tabular}\n",
            "text/plain": [
              "     [,1] [,2] [,3] \n",
              "[1,] 12   12   16.00\n",
              "[2,] 14   12   15.00\n",
              "[3,] 14   14   16.00\n",
              "[4,] 11   13    9.99"
            ]
          },
          "metadata": {}
        }
      ]
    },
    {
      "cell_type": "code",
      "source": [
        "#2nd column deletion\n",
        "mat2=mat[,-2]\n",
        "mat2\n",
        "\n",
        "\n"
      ],
      "metadata": {
        "colab": {
          "base_uri": "https://localhost:8080/",
          "height": 209
        },
        "id": "HEtva2yBNveb",
        "outputId": "a0e32916-3bf6-4b90-a049-e20638a8791e"
      },
      "execution_count": 23,
      "outputs": [
        {
          "output_type": "display_data",
          "data": {
            "text/html": [
              "<table class=\"dataframe\">\n",
              "<caption>A matrix: 5 × 2 of type dbl</caption>\n",
              "<tbody>\n",
              "\t<tr><td>12</td><td>16.00</td></tr>\n",
              "\t<tr><td>10</td><td>14.00</td></tr>\n",
              "\t<tr><td>14</td><td>15.00</td></tr>\n",
              "\t<tr><td>14</td><td>16.00</td></tr>\n",
              "\t<tr><td>11</td><td> 9.99</td></tr>\n",
              "</tbody>\n",
              "</table>\n"
            ],
            "text/markdown": "\nA matrix: 5 × 2 of type dbl\n\n| 12 | 16.00 |\n| 10 | 14.00 |\n| 14 | 15.00 |\n| 14 | 16.00 |\n| 11 |  9.99 |\n\n",
            "text/latex": "A matrix: 5 × 2 of type dbl\n\\begin{tabular}{ll}\n\t 12 & 16.00\\\\\n\t 10 & 14.00\\\\\n\t 14 & 15.00\\\\\n\t 14 & 16.00\\\\\n\t 11 &  9.99\\\\\n\\end{tabular}\n",
            "text/plain": [
              "     [,1] [,2] \n",
              "[1,] 12   16.00\n",
              "[2,] 10   14.00\n",
              "[3,] 14   15.00\n",
              "[4,] 14   16.00\n",
              "[5,] 11    9.99"
            ]
          },
          "metadata": {}
        }
      ]
    },
    {
      "cell_type": "markdown",
      "source": [
        "# NAMING MATRIX:\n"
      ],
      "metadata": {
        "id": "59Fmcxd8OGLh"
      }
    },
    {
      "cell_type": "code",
      "source": [
        "# dimnames\n",
        "set.seed(101)\n",
        "mat = matrix( data = as.integer(runif(30, 10, 17)),\n",
        "              nrow = 5, ncol = 3,dimnames=list(1:5,c(\"P1\",\"P2\",\"P3\")))\n",
        "mat\n",
        "\n",
        "\n",
        "\n",
        "\n"
      ],
      "metadata": {
        "colab": {
          "base_uri": "https://localhost:8080/",
          "height": 276
        },
        "id": "9wxgZa7-OIWX",
        "outputId": "30614bad-c1d2-4112-d592-e49f0757f98f"
      },
      "execution_count": 24,
      "outputs": [
        {
          "output_type": "stream",
          "name": "stderr",
          "text": [
            "Warning message in matrix(data = as.integer(runif(30, 10, 17)), nrow = 5, ncol = 3, :\n",
            "“data length differs from size of matrix: [30 != 5 x 3]”\n"
          ]
        },
        {
          "output_type": "display_data",
          "data": {
            "text/html": [
              "<table class=\"dataframe\">\n",
              "<caption>A matrix: 5 × 3 of type int</caption>\n",
              "<thead>\n",
              "\t<tr><th></th><th scope=col>P1</th><th scope=col>P2</th><th scope=col>P3</th></tr>\n",
              "</thead>\n",
              "<tbody>\n",
              "\t<tr><th scope=row>1</th><td>12</td><td>12</td><td>16</td></tr>\n",
              "\t<tr><th scope=row>2</th><td>10</td><td>14</td><td>14</td></tr>\n",
              "\t<tr><th scope=row>3</th><td>14</td><td>12</td><td>15</td></tr>\n",
              "\t<tr><th scope=row>4</th><td>14</td><td>14</td><td>16</td></tr>\n",
              "\t<tr><th scope=row>5</th><td>11</td><td>13</td><td>13</td></tr>\n",
              "</tbody>\n",
              "</table>\n"
            ],
            "text/markdown": "\nA matrix: 5 × 3 of type int\n\n| <!--/--> | P1 | P2 | P3 |\n|---|---|---|---|\n| 1 | 12 | 12 | 16 |\n| 2 | 10 | 14 | 14 |\n| 3 | 14 | 12 | 15 |\n| 4 | 14 | 14 | 16 |\n| 5 | 11 | 13 | 13 |\n\n",
            "text/latex": "A matrix: 5 × 3 of type int\n\\begin{tabular}{r|lll}\n  & P1 & P2 & P3\\\\\n\\hline\n\t1 & 12 & 12 & 16\\\\\n\t2 & 10 & 14 & 14\\\\\n\t3 & 14 & 12 & 15\\\\\n\t4 & 14 & 14 & 16\\\\\n\t5 & 11 & 13 & 13\\\\\n\\end{tabular}\n",
            "text/plain": [
              "  P1 P2 P3\n",
              "1 12 12 16\n",
              "2 10 14 14\n",
              "3 14 12 15\n",
              "4 14 14 16\n",
              "5 11 13 13"
            ]
          },
          "metadata": {}
        }
      ]
    },
    {
      "cell_type": "code",
      "source": [
        "# colnames\n",
        "colnames(mat)                # column name of mat"
      ],
      "metadata": {
        "colab": {
          "base_uri": "https://localhost:8080/",
          "height": 34
        },
        "id": "0CftUeUHOgc8",
        "outputId": "a96eae1f-eb3e-4e2b-fbe6-d7fe1c7ffd71"
      },
      "execution_count": 25,
      "outputs": [
        {
          "output_type": "display_data",
          "data": {
            "text/html": [
              "<style>\n",
              ".list-inline {list-style: none; margin:0; padding: 0}\n",
              ".list-inline>li {display: inline-block}\n",
              ".list-inline>li:not(:last-child)::after {content: \"\\00b7\"; padding: 0 .5ex}\n",
              "</style>\n",
              "<ol class=list-inline><li>'P1'</li><li>'P2'</li><li>'P3'</li></ol>\n"
            ],
            "text/markdown": "1. 'P1'\n2. 'P2'\n3. 'P3'\n\n\n",
            "text/latex": "\\begin{enumerate*}\n\\item 'P1'\n\\item 'P2'\n\\item 'P3'\n\\end{enumerate*}\n",
            "text/plain": [
              "[1] \"P1\" \"P2\" \"P3\""
            ]
          },
          "metadata": {}
        }
      ]
    },
    {
      "cell_type": "code",
      "source": [
        "#rownames\n",
        "rownames(mat)                  # row names of mat"
      ],
      "metadata": {
        "colab": {
          "base_uri": "https://localhost:8080/",
          "height": 34
        },
        "id": "YO963I1PPPOf",
        "outputId": "14140e77-d48e-4192-f53a-962734222212"
      },
      "execution_count": 26,
      "outputs": [
        {
          "output_type": "display_data",
          "data": {
            "text/html": [
              "<style>\n",
              ".list-inline {list-style: none; margin:0; padding: 0}\n",
              ".list-inline>li {display: inline-block}\n",
              ".list-inline>li:not(:last-child)::after {content: \"\\00b7\"; padding: 0 .5ex}\n",
              "</style>\n",
              "<ol class=list-inline><li>'1'</li><li>'2'</li><li>'3'</li><li>'4'</li><li>'5'</li></ol>\n"
            ],
            "text/markdown": "1. '1'\n2. '2'\n3. '3'\n4. '4'\n5. '5'\n\n\n",
            "text/latex": "\\begin{enumerate*}\n\\item '1'\n\\item '2'\n\\item '3'\n\\item '4'\n\\item '5'\n\\end{enumerate*}\n",
            "text/plain": [
              "[1] \"1\" \"2\" \"3\" \"4\" \"5\""
            ]
          },
          "metadata": {}
        }
      ]
    },
    {
      "cell_type": "code",
      "source": [
        "#read entire dataset except rows 1 and 5\n",
        "mat[-c(1,5),]"
      ],
      "metadata": {
        "colab": {
          "base_uri": "https://localhost:8080/",
          "height": 178
        },
        "id": "TI3-f6gvPblB",
        "outputId": "881743a9-5a6b-4813-8d9d-dd1094510fdd"
      },
      "execution_count": 27,
      "outputs": [
        {
          "output_type": "display_data",
          "data": {
            "text/html": [
              "<table class=\"dataframe\">\n",
              "<caption>A matrix: 3 × 3 of type int</caption>\n",
              "<thead>\n",
              "\t<tr><th></th><th scope=col>P1</th><th scope=col>P2</th><th scope=col>P3</th></tr>\n",
              "</thead>\n",
              "<tbody>\n",
              "\t<tr><th scope=row>2</th><td>10</td><td>14</td><td>14</td></tr>\n",
              "\t<tr><th scope=row>3</th><td>14</td><td>12</td><td>15</td></tr>\n",
              "\t<tr><th scope=row>4</th><td>14</td><td>14</td><td>16</td></tr>\n",
              "</tbody>\n",
              "</table>\n"
            ],
            "text/markdown": "\nA matrix: 3 × 3 of type int\n\n| <!--/--> | P1 | P2 | P3 |\n|---|---|---|---|\n| 2 | 10 | 14 | 14 |\n| 3 | 14 | 12 | 15 |\n| 4 | 14 | 14 | 16 |\n\n",
            "text/latex": "A matrix: 3 × 3 of type int\n\\begin{tabular}{r|lll}\n  & P1 & P2 & P3\\\\\n\\hline\n\t2 & 10 & 14 & 14\\\\\n\t3 & 14 & 12 & 15\\\\\n\t4 & 14 & 14 & 16\\\\\n\\end{tabular}\n",
            "text/plain": [
              "  P1 P2 P3\n",
              "2 10 14 14\n",
              "3 14 12 15\n",
              "4 14 14 16"
            ]
          },
          "metadata": {}
        }
      ]
    }
  ]
}