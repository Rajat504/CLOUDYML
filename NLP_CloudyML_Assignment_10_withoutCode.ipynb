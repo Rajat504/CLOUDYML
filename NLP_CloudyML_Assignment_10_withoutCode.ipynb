{
  "nbformat": 4,
  "nbformat_minor": 0,
  "metadata": {
    "colab": {
      "provenance": [],
      "include_colab_link": true
    },
    "kernelspec": {
      "name": "python3",
      "display_name": "Python 3"
    },
    "language_info": {
      "name": "python"
    },
    "widgets": {
      "application/vnd.jupyter.widget-state+json": {
        "8128a815a73c40088e714de3848aaa14": {
          "model_module": "@jupyter-widgets/controls",
          "model_name": "HBoxModel",
          "model_module_version": "1.5.0",
          "state": {
            "_dom_classes": [],
            "_model_module": "@jupyter-widgets/controls",
            "_model_module_version": "1.5.0",
            "_model_name": "HBoxModel",
            "_view_count": null,
            "_view_module": "@jupyter-widgets/controls",
            "_view_module_version": "1.5.0",
            "_view_name": "HBoxView",
            "box_style": "",
            "children": [
              "IPY_MODEL_e87513d8860a4fcfb44784317357a8f7",
              "IPY_MODEL_d0a10d06b8994faabf00056850a9bcfb",
              "IPY_MODEL_b5f6691b2e6e43c785d15aa2bbefbbb3"
            ],
            "layout": "IPY_MODEL_fc637353e5c6486fab810102a084b58b"
          }
        },
        "e87513d8860a4fcfb44784317357a8f7": {
          "model_module": "@jupyter-widgets/controls",
          "model_name": "HTMLModel",
          "model_module_version": "1.5.0",
          "state": {
            "_dom_classes": [],
            "_model_module": "@jupyter-widgets/controls",
            "_model_module_version": "1.5.0",
            "_model_name": "HTMLModel",
            "_view_count": null,
            "_view_module": "@jupyter-widgets/controls",
            "_view_module_version": "1.5.0",
            "_view_name": "HTMLView",
            "description": "",
            "description_tooltip": null,
            "layout": "IPY_MODEL_bc1c8e70836b49c2840f79b7cb5bc01a",
            "placeholder": "​",
            "style": "IPY_MODEL_943006a76ec043278e69c5393a5d393c",
            "value": "config.json: 100%"
          }
        },
        "d0a10d06b8994faabf00056850a9bcfb": {
          "model_module": "@jupyter-widgets/controls",
          "model_name": "FloatProgressModel",
          "model_module_version": "1.5.0",
          "state": {
            "_dom_classes": [],
            "_model_module": "@jupyter-widgets/controls",
            "_model_module_version": "1.5.0",
            "_model_name": "FloatProgressModel",
            "_view_count": null,
            "_view_module": "@jupyter-widgets/controls",
            "_view_module_version": "1.5.0",
            "_view_name": "ProgressView",
            "bar_style": "success",
            "description": "",
            "description_tooltip": null,
            "layout": "IPY_MODEL_4206f0a616434f9e9d08f8d0259339a7",
            "max": 443,
            "min": 0,
            "orientation": "horizontal",
            "style": "IPY_MODEL_7d42bacea955449a861e195e74f29804",
            "value": 443
          }
        },
        "b5f6691b2e6e43c785d15aa2bbefbbb3": {
          "model_module": "@jupyter-widgets/controls",
          "model_name": "HTMLModel",
          "model_module_version": "1.5.0",
          "state": {
            "_dom_classes": [],
            "_model_module": "@jupyter-widgets/controls",
            "_model_module_version": "1.5.0",
            "_model_name": "HTMLModel",
            "_view_count": null,
            "_view_module": "@jupyter-widgets/controls",
            "_view_module_version": "1.5.0",
            "_view_name": "HTMLView",
            "description": "",
            "description_tooltip": null,
            "layout": "IPY_MODEL_3794c2cfdc18493ca0341257bc5b2947",
            "placeholder": "​",
            "style": "IPY_MODEL_f1de70f51731479cab326812579a5e81",
            "value": " 443/443 [00:00&lt;00:00, 17.7kB/s]"
          }
        },
        "fc637353e5c6486fab810102a084b58b": {
          "model_module": "@jupyter-widgets/base",
          "model_name": "LayoutModel",
          "model_module_version": "1.2.0",
          "state": {
            "_model_module": "@jupyter-widgets/base",
            "_model_module_version": "1.2.0",
            "_model_name": "LayoutModel",
            "_view_count": null,
            "_view_module": "@jupyter-widgets/base",
            "_view_module_version": "1.2.0",
            "_view_name": "LayoutView",
            "align_content": null,
            "align_items": null,
            "align_self": null,
            "border": null,
            "bottom": null,
            "display": null,
            "flex": null,
            "flex_flow": null,
            "grid_area": null,
            "grid_auto_columns": null,
            "grid_auto_flow": null,
            "grid_auto_rows": null,
            "grid_column": null,
            "grid_gap": null,
            "grid_row": null,
            "grid_template_areas": null,
            "grid_template_columns": null,
            "grid_template_rows": null,
            "height": null,
            "justify_content": null,
            "justify_items": null,
            "left": null,
            "margin": null,
            "max_height": null,
            "max_width": null,
            "min_height": null,
            "min_width": null,
            "object_fit": null,
            "object_position": null,
            "order": null,
            "overflow": null,
            "overflow_x": null,
            "overflow_y": null,
            "padding": null,
            "right": null,
            "top": null,
            "visibility": null,
            "width": null
          }
        },
        "bc1c8e70836b49c2840f79b7cb5bc01a": {
          "model_module": "@jupyter-widgets/base",
          "model_name": "LayoutModel",
          "model_module_version": "1.2.0",
          "state": {
            "_model_module": "@jupyter-widgets/base",
            "_model_module_version": "1.2.0",
            "_model_name": "LayoutModel",
            "_view_count": null,
            "_view_module": "@jupyter-widgets/base",
            "_view_module_version": "1.2.0",
            "_view_name": "LayoutView",
            "align_content": null,
            "align_items": null,
            "align_self": null,
            "border": null,
            "bottom": null,
            "display": null,
            "flex": null,
            "flex_flow": null,
            "grid_area": null,
            "grid_auto_columns": null,
            "grid_auto_flow": null,
            "grid_auto_rows": null,
            "grid_column": null,
            "grid_gap": null,
            "grid_row": null,
            "grid_template_areas": null,
            "grid_template_columns": null,
            "grid_template_rows": null,
            "height": null,
            "justify_content": null,
            "justify_items": null,
            "left": null,
            "margin": null,
            "max_height": null,
            "max_width": null,
            "min_height": null,
            "min_width": null,
            "object_fit": null,
            "object_position": null,
            "order": null,
            "overflow": null,
            "overflow_x": null,
            "overflow_y": null,
            "padding": null,
            "right": null,
            "top": null,
            "visibility": null,
            "width": null
          }
        },
        "943006a76ec043278e69c5393a5d393c": {
          "model_module": "@jupyter-widgets/controls",
          "model_name": "DescriptionStyleModel",
          "model_module_version": "1.5.0",
          "state": {
            "_model_module": "@jupyter-widgets/controls",
            "_model_module_version": "1.5.0",
            "_model_name": "DescriptionStyleModel",
            "_view_count": null,
            "_view_module": "@jupyter-widgets/base",
            "_view_module_version": "1.2.0",
            "_view_name": "StyleView",
            "description_width": ""
          }
        },
        "4206f0a616434f9e9d08f8d0259339a7": {
          "model_module": "@jupyter-widgets/base",
          "model_name": "LayoutModel",
          "model_module_version": "1.2.0",
          "state": {
            "_model_module": "@jupyter-widgets/base",
            "_model_module_version": "1.2.0",
            "_model_name": "LayoutModel",
            "_view_count": null,
            "_view_module": "@jupyter-widgets/base",
            "_view_module_version": "1.2.0",
            "_view_name": "LayoutView",
            "align_content": null,
            "align_items": null,
            "align_self": null,
            "border": null,
            "bottom": null,
            "display": null,
            "flex": null,
            "flex_flow": null,
            "grid_area": null,
            "grid_auto_columns": null,
            "grid_auto_flow": null,
            "grid_auto_rows": null,
            "grid_column": null,
            "grid_gap": null,
            "grid_row": null,
            "grid_template_areas": null,
            "grid_template_columns": null,
            "grid_template_rows": null,
            "height": null,
            "justify_content": null,
            "justify_items": null,
            "left": null,
            "margin": null,
            "max_height": null,
            "max_width": null,
            "min_height": null,
            "min_width": null,
            "object_fit": null,
            "object_position": null,
            "order": null,
            "overflow": null,
            "overflow_x": null,
            "overflow_y": null,
            "padding": null,
            "right": null,
            "top": null,
            "visibility": null,
            "width": null
          }
        },
        "7d42bacea955449a861e195e74f29804": {
          "model_module": "@jupyter-widgets/controls",
          "model_name": "ProgressStyleModel",
          "model_module_version": "1.5.0",
          "state": {
            "_model_module": "@jupyter-widgets/controls",
            "_model_module_version": "1.5.0",
            "_model_name": "ProgressStyleModel",
            "_view_count": null,
            "_view_module": "@jupyter-widgets/base",
            "_view_module_version": "1.2.0",
            "_view_name": "StyleView",
            "bar_color": null,
            "description_width": ""
          }
        },
        "3794c2cfdc18493ca0341257bc5b2947": {
          "model_module": "@jupyter-widgets/base",
          "model_name": "LayoutModel",
          "model_module_version": "1.2.0",
          "state": {
            "_model_module": "@jupyter-widgets/base",
            "_model_module_version": "1.2.0",
            "_model_name": "LayoutModel",
            "_view_count": null,
            "_view_module": "@jupyter-widgets/base",
            "_view_module_version": "1.2.0",
            "_view_name": "LayoutView",
            "align_content": null,
            "align_items": null,
            "align_self": null,
            "border": null,
            "bottom": null,
            "display": null,
            "flex": null,
            "flex_flow": null,
            "grid_area": null,
            "grid_auto_columns": null,
            "grid_auto_flow": null,
            "grid_auto_rows": null,
            "grid_column": null,
            "grid_gap": null,
            "grid_row": null,
            "grid_template_areas": null,
            "grid_template_columns": null,
            "grid_template_rows": null,
            "height": null,
            "justify_content": null,
            "justify_items": null,
            "left": null,
            "margin": null,
            "max_height": null,
            "max_width": null,
            "min_height": null,
            "min_width": null,
            "object_fit": null,
            "object_position": null,
            "order": null,
            "overflow": null,
            "overflow_x": null,
            "overflow_y": null,
            "padding": null,
            "right": null,
            "top": null,
            "visibility": null,
            "width": null
          }
        },
        "f1de70f51731479cab326812579a5e81": {
          "model_module": "@jupyter-widgets/controls",
          "model_name": "DescriptionStyleModel",
          "model_module_version": "1.5.0",
          "state": {
            "_model_module": "@jupyter-widgets/controls",
            "_model_module_version": "1.5.0",
            "_model_name": "DescriptionStyleModel",
            "_view_count": null,
            "_view_module": "@jupyter-widgets/base",
            "_view_module_version": "1.2.0",
            "_view_name": "StyleView",
            "description_width": ""
          }
        },
        "facc05def79d48a9940a625f83363740": {
          "model_module": "@jupyter-widgets/controls",
          "model_name": "HBoxModel",
          "model_module_version": "1.5.0",
          "state": {
            "_dom_classes": [],
            "_model_module": "@jupyter-widgets/controls",
            "_model_module_version": "1.5.0",
            "_model_name": "HBoxModel",
            "_view_count": null,
            "_view_module": "@jupyter-widgets/controls",
            "_view_module_version": "1.5.0",
            "_view_name": "HBoxView",
            "box_style": "",
            "children": [
              "IPY_MODEL_93e43c7c8d4c4437ac7adf49b38134a2",
              "IPY_MODEL_a63d716038294790957c3d9246930cf4",
              "IPY_MODEL_5368d714db7341959e26de1c3ed10b1c"
            ],
            "layout": "IPY_MODEL_b1971584cde34fc481b790929569d3e7"
          }
        },
        "93e43c7c8d4c4437ac7adf49b38134a2": {
          "model_module": "@jupyter-widgets/controls",
          "model_name": "HTMLModel",
          "model_module_version": "1.5.0",
          "state": {
            "_dom_classes": [],
            "_model_module": "@jupyter-widgets/controls",
            "_model_module_version": "1.5.0",
            "_model_name": "HTMLModel",
            "_view_count": null,
            "_view_module": "@jupyter-widgets/controls",
            "_view_module_version": "1.5.0",
            "_view_name": "HTMLView",
            "description": "",
            "description_tooltip": null,
            "layout": "IPY_MODEL_65381bf4b55f4893891673f3d769b9b5",
            "placeholder": "​",
            "style": "IPY_MODEL_4ba1a0c12b994cb997a9345674094018",
            "value": "model.safetensors: 100%"
          }
        },
        "a63d716038294790957c3d9246930cf4": {
          "model_module": "@jupyter-widgets/controls",
          "model_name": "FloatProgressModel",
          "model_module_version": "1.5.0",
          "state": {
            "_dom_classes": [],
            "_model_module": "@jupyter-widgets/controls",
            "_model_module_version": "1.5.0",
            "_model_name": "FloatProgressModel",
            "_view_count": null,
            "_view_module": "@jupyter-widgets/controls",
            "_view_module_version": "1.5.0",
            "_view_name": "ProgressView",
            "bar_style": "success",
            "description": "",
            "description_tooltip": null,
            "layout": "IPY_MODEL_e4036645c1464836b987d4140be6dc8d",
            "max": 1340622760,
            "min": 0,
            "orientation": "horizontal",
            "style": "IPY_MODEL_ec3e1dae4b914118a70b46abb42a4ac5",
            "value": 1340622760
          }
        },
        "5368d714db7341959e26de1c3ed10b1c": {
          "model_module": "@jupyter-widgets/controls",
          "model_name": "HTMLModel",
          "model_module_version": "1.5.0",
          "state": {
            "_dom_classes": [],
            "_model_module": "@jupyter-widgets/controls",
            "_model_module_version": "1.5.0",
            "_model_name": "HTMLModel",
            "_view_count": null,
            "_view_module": "@jupyter-widgets/controls",
            "_view_module_version": "1.5.0",
            "_view_name": "HTMLView",
            "description": "",
            "description_tooltip": null,
            "layout": "IPY_MODEL_d7e664ce9b6a49a5b579367cf48269f3",
            "placeholder": "​",
            "style": "IPY_MODEL_7c751bf3efdc4c368857025dd89bfa54",
            "value": " 1.34G/1.34G [00:10&lt;00:00, 119MB/s]"
          }
        },
        "b1971584cde34fc481b790929569d3e7": {
          "model_module": "@jupyter-widgets/base",
          "model_name": "LayoutModel",
          "model_module_version": "1.2.0",
          "state": {
            "_model_module": "@jupyter-widgets/base",
            "_model_module_version": "1.2.0",
            "_model_name": "LayoutModel",
            "_view_count": null,
            "_view_module": "@jupyter-widgets/base",
            "_view_module_version": "1.2.0",
            "_view_name": "LayoutView",
            "align_content": null,
            "align_items": null,
            "align_self": null,
            "border": null,
            "bottom": null,
            "display": null,
            "flex": null,
            "flex_flow": null,
            "grid_area": null,
            "grid_auto_columns": null,
            "grid_auto_flow": null,
            "grid_auto_rows": null,
            "grid_column": null,
            "grid_gap": null,
            "grid_row": null,
            "grid_template_areas": null,
            "grid_template_columns": null,
            "grid_template_rows": null,
            "height": null,
            "justify_content": null,
            "justify_items": null,
            "left": null,
            "margin": null,
            "max_height": null,
            "max_width": null,
            "min_height": null,
            "min_width": null,
            "object_fit": null,
            "object_position": null,
            "order": null,
            "overflow": null,
            "overflow_x": null,
            "overflow_y": null,
            "padding": null,
            "right": null,
            "top": null,
            "visibility": null,
            "width": null
          }
        },
        "65381bf4b55f4893891673f3d769b9b5": {
          "model_module": "@jupyter-widgets/base",
          "model_name": "LayoutModel",
          "model_module_version": "1.2.0",
          "state": {
            "_model_module": "@jupyter-widgets/base",
            "_model_module_version": "1.2.0",
            "_model_name": "LayoutModel",
            "_view_count": null,
            "_view_module": "@jupyter-widgets/base",
            "_view_module_version": "1.2.0",
            "_view_name": "LayoutView",
            "align_content": null,
            "align_items": null,
            "align_self": null,
            "border": null,
            "bottom": null,
            "display": null,
            "flex": null,
            "flex_flow": null,
            "grid_area": null,
            "grid_auto_columns": null,
            "grid_auto_flow": null,
            "grid_auto_rows": null,
            "grid_column": null,
            "grid_gap": null,
            "grid_row": null,
            "grid_template_areas": null,
            "grid_template_columns": null,
            "grid_template_rows": null,
            "height": null,
            "justify_content": null,
            "justify_items": null,
            "left": null,
            "margin": null,
            "max_height": null,
            "max_width": null,
            "min_height": null,
            "min_width": null,
            "object_fit": null,
            "object_position": null,
            "order": null,
            "overflow": null,
            "overflow_x": null,
            "overflow_y": null,
            "padding": null,
            "right": null,
            "top": null,
            "visibility": null,
            "width": null
          }
        },
        "4ba1a0c12b994cb997a9345674094018": {
          "model_module": "@jupyter-widgets/controls",
          "model_name": "DescriptionStyleModel",
          "model_module_version": "1.5.0",
          "state": {
            "_model_module": "@jupyter-widgets/controls",
            "_model_module_version": "1.5.0",
            "_model_name": "DescriptionStyleModel",
            "_view_count": null,
            "_view_module": "@jupyter-widgets/base",
            "_view_module_version": "1.2.0",
            "_view_name": "StyleView",
            "description_width": ""
          }
        },
        "e4036645c1464836b987d4140be6dc8d": {
          "model_module": "@jupyter-widgets/base",
          "model_name": "LayoutModel",
          "model_module_version": "1.2.0",
          "state": {
            "_model_module": "@jupyter-widgets/base",
            "_model_module_version": "1.2.0",
            "_model_name": "LayoutModel",
            "_view_count": null,
            "_view_module": "@jupyter-widgets/base",
            "_view_module_version": "1.2.0",
            "_view_name": "LayoutView",
            "align_content": null,
            "align_items": null,
            "align_self": null,
            "border": null,
            "bottom": null,
            "display": null,
            "flex": null,
            "flex_flow": null,
            "grid_area": null,
            "grid_auto_columns": null,
            "grid_auto_flow": null,
            "grid_auto_rows": null,
            "grid_column": null,
            "grid_gap": null,
            "grid_row": null,
            "grid_template_areas": null,
            "grid_template_columns": null,
            "grid_template_rows": null,
            "height": null,
            "justify_content": null,
            "justify_items": null,
            "left": null,
            "margin": null,
            "max_height": null,
            "max_width": null,
            "min_height": null,
            "min_width": null,
            "object_fit": null,
            "object_position": null,
            "order": null,
            "overflow": null,
            "overflow_x": null,
            "overflow_y": null,
            "padding": null,
            "right": null,
            "top": null,
            "visibility": null,
            "width": null
          }
        },
        "ec3e1dae4b914118a70b46abb42a4ac5": {
          "model_module": "@jupyter-widgets/controls",
          "model_name": "ProgressStyleModel",
          "model_module_version": "1.5.0",
          "state": {
            "_model_module": "@jupyter-widgets/controls",
            "_model_module_version": "1.5.0",
            "_model_name": "ProgressStyleModel",
            "_view_count": null,
            "_view_module": "@jupyter-widgets/base",
            "_view_module_version": "1.2.0",
            "_view_name": "StyleView",
            "bar_color": null,
            "description_width": ""
          }
        },
        "d7e664ce9b6a49a5b579367cf48269f3": {
          "model_module": "@jupyter-widgets/base",
          "model_name": "LayoutModel",
          "model_module_version": "1.2.0",
          "state": {
            "_model_module": "@jupyter-widgets/base",
            "_model_module_version": "1.2.0",
            "_model_name": "LayoutModel",
            "_view_count": null,
            "_view_module": "@jupyter-widgets/base",
            "_view_module_version": "1.2.0",
            "_view_name": "LayoutView",
            "align_content": null,
            "align_items": null,
            "align_self": null,
            "border": null,
            "bottom": null,
            "display": null,
            "flex": null,
            "flex_flow": null,
            "grid_area": null,
            "grid_auto_columns": null,
            "grid_auto_flow": null,
            "grid_auto_rows": null,
            "grid_column": null,
            "grid_gap": null,
            "grid_row": null,
            "grid_template_areas": null,
            "grid_template_columns": null,
            "grid_template_rows": null,
            "height": null,
            "justify_content": null,
            "justify_items": null,
            "left": null,
            "margin": null,
            "max_height": null,
            "max_width": null,
            "min_height": null,
            "min_width": null,
            "object_fit": null,
            "object_position": null,
            "order": null,
            "overflow": null,
            "overflow_x": null,
            "overflow_y": null,
            "padding": null,
            "right": null,
            "top": null,
            "visibility": null,
            "width": null
          }
        },
        "7c751bf3efdc4c368857025dd89bfa54": {
          "model_module": "@jupyter-widgets/controls",
          "model_name": "DescriptionStyleModel",
          "model_module_version": "1.5.0",
          "state": {
            "_model_module": "@jupyter-widgets/controls",
            "_model_module_version": "1.5.0",
            "_model_name": "DescriptionStyleModel",
            "_view_count": null,
            "_view_module": "@jupyter-widgets/base",
            "_view_module_version": "1.2.0",
            "_view_name": "StyleView",
            "description_width": ""
          }
        },
        "10e971257e2144c18be02999c96f36b6": {
          "model_module": "@jupyter-widgets/controls",
          "model_name": "HBoxModel",
          "model_module_version": "1.5.0",
          "state": {
            "_dom_classes": [],
            "_model_module": "@jupyter-widgets/controls",
            "_model_module_version": "1.5.0",
            "_model_name": "HBoxModel",
            "_view_count": null,
            "_view_module": "@jupyter-widgets/controls",
            "_view_module_version": "1.5.0",
            "_view_name": "HBoxView",
            "box_style": "",
            "children": [
              "IPY_MODEL_043c1c81ab9a4aba99eba4deb51e85e8",
              "IPY_MODEL_fe92c6492ec84abab082ff8005d70b8c",
              "IPY_MODEL_c085b446cb3c40969f2ac7c6e82c0bdf"
            ],
            "layout": "IPY_MODEL_2086d2c279984ddfa066e4e8d83c9450"
          }
        },
        "043c1c81ab9a4aba99eba4deb51e85e8": {
          "model_module": "@jupyter-widgets/controls",
          "model_name": "HTMLModel",
          "model_module_version": "1.5.0",
          "state": {
            "_dom_classes": [],
            "_model_module": "@jupyter-widgets/controls",
            "_model_module_version": "1.5.0",
            "_model_name": "HTMLModel",
            "_view_count": null,
            "_view_module": "@jupyter-widgets/controls",
            "_view_module_version": "1.5.0",
            "_view_name": "HTMLView",
            "description": "",
            "description_tooltip": null,
            "layout": "IPY_MODEL_08e56a9e413f4063aa965688dcd1d372",
            "placeholder": "​",
            "style": "IPY_MODEL_ee540e0c319f46c0bb59641bac8e5cdf",
            "value": "tokenizer_config.json: 100%"
          }
        },
        "fe92c6492ec84abab082ff8005d70b8c": {
          "model_module": "@jupyter-widgets/controls",
          "model_name": "FloatProgressModel",
          "model_module_version": "1.5.0",
          "state": {
            "_dom_classes": [],
            "_model_module": "@jupyter-widgets/controls",
            "_model_module_version": "1.5.0",
            "_model_name": "FloatProgressModel",
            "_view_count": null,
            "_view_module": "@jupyter-widgets/controls",
            "_view_module_version": "1.5.0",
            "_view_name": "ProgressView",
            "bar_style": "success",
            "description": "",
            "description_tooltip": null,
            "layout": "IPY_MODEL_32e7b2ab5a0545378790819e9f9a1e7a",
            "max": 48,
            "min": 0,
            "orientation": "horizontal",
            "style": "IPY_MODEL_cabcdeb3315b422db0d41cc08eb4ef4e",
            "value": 48
          }
        },
        "c085b446cb3c40969f2ac7c6e82c0bdf": {
          "model_module": "@jupyter-widgets/controls",
          "model_name": "HTMLModel",
          "model_module_version": "1.5.0",
          "state": {
            "_dom_classes": [],
            "_model_module": "@jupyter-widgets/controls",
            "_model_module_version": "1.5.0",
            "_model_name": "HTMLModel",
            "_view_count": null,
            "_view_module": "@jupyter-widgets/controls",
            "_view_module_version": "1.5.0",
            "_view_name": "HTMLView",
            "description": "",
            "description_tooltip": null,
            "layout": "IPY_MODEL_16d463dc8bed438ea0f4541a34aa3ce3",
            "placeholder": "​",
            "style": "IPY_MODEL_28a00450eec74c86bc91120683b49b15",
            "value": " 48.0/48.0 [00:00&lt;00:00, 770B/s]"
          }
        },
        "2086d2c279984ddfa066e4e8d83c9450": {
          "model_module": "@jupyter-widgets/base",
          "model_name": "LayoutModel",
          "model_module_version": "1.2.0",
          "state": {
            "_model_module": "@jupyter-widgets/base",
            "_model_module_version": "1.2.0",
            "_model_name": "LayoutModel",
            "_view_count": null,
            "_view_module": "@jupyter-widgets/base",
            "_view_module_version": "1.2.0",
            "_view_name": "LayoutView",
            "align_content": null,
            "align_items": null,
            "align_self": null,
            "border": null,
            "bottom": null,
            "display": null,
            "flex": null,
            "flex_flow": null,
            "grid_area": null,
            "grid_auto_columns": null,
            "grid_auto_flow": null,
            "grid_auto_rows": null,
            "grid_column": null,
            "grid_gap": null,
            "grid_row": null,
            "grid_template_areas": null,
            "grid_template_columns": null,
            "grid_template_rows": null,
            "height": null,
            "justify_content": null,
            "justify_items": null,
            "left": null,
            "margin": null,
            "max_height": null,
            "max_width": null,
            "min_height": null,
            "min_width": null,
            "object_fit": null,
            "object_position": null,
            "order": null,
            "overflow": null,
            "overflow_x": null,
            "overflow_y": null,
            "padding": null,
            "right": null,
            "top": null,
            "visibility": null,
            "width": null
          }
        },
        "08e56a9e413f4063aa965688dcd1d372": {
          "model_module": "@jupyter-widgets/base",
          "model_name": "LayoutModel",
          "model_module_version": "1.2.0",
          "state": {
            "_model_module": "@jupyter-widgets/base",
            "_model_module_version": "1.2.0",
            "_model_name": "LayoutModel",
            "_view_count": null,
            "_view_module": "@jupyter-widgets/base",
            "_view_module_version": "1.2.0",
            "_view_name": "LayoutView",
            "align_content": null,
            "align_items": null,
            "align_self": null,
            "border": null,
            "bottom": null,
            "display": null,
            "flex": null,
            "flex_flow": null,
            "grid_area": null,
            "grid_auto_columns": null,
            "grid_auto_flow": null,
            "grid_auto_rows": null,
            "grid_column": null,
            "grid_gap": null,
            "grid_row": null,
            "grid_template_areas": null,
            "grid_template_columns": null,
            "grid_template_rows": null,
            "height": null,
            "justify_content": null,
            "justify_items": null,
            "left": null,
            "margin": null,
            "max_height": null,
            "max_width": null,
            "min_height": null,
            "min_width": null,
            "object_fit": null,
            "object_position": null,
            "order": null,
            "overflow": null,
            "overflow_x": null,
            "overflow_y": null,
            "padding": null,
            "right": null,
            "top": null,
            "visibility": null,
            "width": null
          }
        },
        "ee540e0c319f46c0bb59641bac8e5cdf": {
          "model_module": "@jupyter-widgets/controls",
          "model_name": "DescriptionStyleModel",
          "model_module_version": "1.5.0",
          "state": {
            "_model_module": "@jupyter-widgets/controls",
            "_model_module_version": "1.5.0",
            "_model_name": "DescriptionStyleModel",
            "_view_count": null,
            "_view_module": "@jupyter-widgets/base",
            "_view_module_version": "1.2.0",
            "_view_name": "StyleView",
            "description_width": ""
          }
        },
        "32e7b2ab5a0545378790819e9f9a1e7a": {
          "model_module": "@jupyter-widgets/base",
          "model_name": "LayoutModel",
          "model_module_version": "1.2.0",
          "state": {
            "_model_module": "@jupyter-widgets/base",
            "_model_module_version": "1.2.0",
            "_model_name": "LayoutModel",
            "_view_count": null,
            "_view_module": "@jupyter-widgets/base",
            "_view_module_version": "1.2.0",
            "_view_name": "LayoutView",
            "align_content": null,
            "align_items": null,
            "align_self": null,
            "border": null,
            "bottom": null,
            "display": null,
            "flex": null,
            "flex_flow": null,
            "grid_area": null,
            "grid_auto_columns": null,
            "grid_auto_flow": null,
            "grid_auto_rows": null,
            "grid_column": null,
            "grid_gap": null,
            "grid_row": null,
            "grid_template_areas": null,
            "grid_template_columns": null,
            "grid_template_rows": null,
            "height": null,
            "justify_content": null,
            "justify_items": null,
            "left": null,
            "margin": null,
            "max_height": null,
            "max_width": null,
            "min_height": null,
            "min_width": null,
            "object_fit": null,
            "object_position": null,
            "order": null,
            "overflow": null,
            "overflow_x": null,
            "overflow_y": null,
            "padding": null,
            "right": null,
            "top": null,
            "visibility": null,
            "width": null
          }
        },
        "cabcdeb3315b422db0d41cc08eb4ef4e": {
          "model_module": "@jupyter-widgets/controls",
          "model_name": "ProgressStyleModel",
          "model_module_version": "1.5.0",
          "state": {
            "_model_module": "@jupyter-widgets/controls",
            "_model_module_version": "1.5.0",
            "_model_name": "ProgressStyleModel",
            "_view_count": null,
            "_view_module": "@jupyter-widgets/base",
            "_view_module_version": "1.2.0",
            "_view_name": "StyleView",
            "bar_color": null,
            "description_width": ""
          }
        },
        "16d463dc8bed438ea0f4541a34aa3ce3": {
          "model_module": "@jupyter-widgets/base",
          "model_name": "LayoutModel",
          "model_module_version": "1.2.0",
          "state": {
            "_model_module": "@jupyter-widgets/base",
            "_model_module_version": "1.2.0",
            "_model_name": "LayoutModel",
            "_view_count": null,
            "_view_module": "@jupyter-widgets/base",
            "_view_module_version": "1.2.0",
            "_view_name": "LayoutView",
            "align_content": null,
            "align_items": null,
            "align_self": null,
            "border": null,
            "bottom": null,
            "display": null,
            "flex": null,
            "flex_flow": null,
            "grid_area": null,
            "grid_auto_columns": null,
            "grid_auto_flow": null,
            "grid_auto_rows": null,
            "grid_column": null,
            "grid_gap": null,
            "grid_row": null,
            "grid_template_areas": null,
            "grid_template_columns": null,
            "grid_template_rows": null,
            "height": null,
            "justify_content": null,
            "justify_items": null,
            "left": null,
            "margin": null,
            "max_height": null,
            "max_width": null,
            "min_height": null,
            "min_width": null,
            "object_fit": null,
            "object_position": null,
            "order": null,
            "overflow": null,
            "overflow_x": null,
            "overflow_y": null,
            "padding": null,
            "right": null,
            "top": null,
            "visibility": null,
            "width": null
          }
        },
        "28a00450eec74c86bc91120683b49b15": {
          "model_module": "@jupyter-widgets/controls",
          "model_name": "DescriptionStyleModel",
          "model_module_version": "1.5.0",
          "state": {
            "_model_module": "@jupyter-widgets/controls",
            "_model_module_version": "1.5.0",
            "_model_name": "DescriptionStyleModel",
            "_view_count": null,
            "_view_module": "@jupyter-widgets/base",
            "_view_module_version": "1.2.0",
            "_view_name": "StyleView",
            "description_width": ""
          }
        },
        "537651a5ca71449fad1d492c4744468d": {
          "model_module": "@jupyter-widgets/controls",
          "model_name": "HBoxModel",
          "model_module_version": "1.5.0",
          "state": {
            "_dom_classes": [],
            "_model_module": "@jupyter-widgets/controls",
            "_model_module_version": "1.5.0",
            "_model_name": "HBoxModel",
            "_view_count": null,
            "_view_module": "@jupyter-widgets/controls",
            "_view_module_version": "1.5.0",
            "_view_name": "HBoxView",
            "box_style": "",
            "children": [
              "IPY_MODEL_08ed74c4081f4050b4ce747f2bd6f66f",
              "IPY_MODEL_548bb1a4f0ae474795d4c4fa5a0b551c",
              "IPY_MODEL_d79b6525cadb488a87c66ab847c10df3"
            ],
            "layout": "IPY_MODEL_3f507b40868c4df888f4c05b83f13341"
          }
        },
        "08ed74c4081f4050b4ce747f2bd6f66f": {
          "model_module": "@jupyter-widgets/controls",
          "model_name": "HTMLModel",
          "model_module_version": "1.5.0",
          "state": {
            "_dom_classes": [],
            "_model_module": "@jupyter-widgets/controls",
            "_model_module_version": "1.5.0",
            "_model_name": "HTMLModel",
            "_view_count": null,
            "_view_module": "@jupyter-widgets/controls",
            "_view_module_version": "1.5.0",
            "_view_name": "HTMLView",
            "description": "",
            "description_tooltip": null,
            "layout": "IPY_MODEL_e67d0866989842abac5513c5aea87915",
            "placeholder": "​",
            "style": "IPY_MODEL_fb67ea02d32a4bf38f53b4b226f11fa4",
            "value": "vocab.txt: 100%"
          }
        },
        "548bb1a4f0ae474795d4c4fa5a0b551c": {
          "model_module": "@jupyter-widgets/controls",
          "model_name": "FloatProgressModel",
          "model_module_version": "1.5.0",
          "state": {
            "_dom_classes": [],
            "_model_module": "@jupyter-widgets/controls",
            "_model_module_version": "1.5.0",
            "_model_name": "FloatProgressModel",
            "_view_count": null,
            "_view_module": "@jupyter-widgets/controls",
            "_view_module_version": "1.5.0",
            "_view_name": "ProgressView",
            "bar_style": "success",
            "description": "",
            "description_tooltip": null,
            "layout": "IPY_MODEL_8ca2fdb270d844ec88ef92644038cdfe",
            "max": 231508,
            "min": 0,
            "orientation": "horizontal",
            "style": "IPY_MODEL_3b16a88b090a4e378573691930382656",
            "value": 231508
          }
        },
        "d79b6525cadb488a87c66ab847c10df3": {
          "model_module": "@jupyter-widgets/controls",
          "model_name": "HTMLModel",
          "model_module_version": "1.5.0",
          "state": {
            "_dom_classes": [],
            "_model_module": "@jupyter-widgets/controls",
            "_model_module_version": "1.5.0",
            "_model_name": "HTMLModel",
            "_view_count": null,
            "_view_module": "@jupyter-widgets/controls",
            "_view_module_version": "1.5.0",
            "_view_name": "HTMLView",
            "description": "",
            "description_tooltip": null,
            "layout": "IPY_MODEL_39fcf1f20dbe4df2bc06acb88a5c3ec5",
            "placeholder": "​",
            "style": "IPY_MODEL_0b3813ac6c04411ea78a0f11bb961b4b",
            "value": " 232k/232k [00:00&lt;00:00, 1.92MB/s]"
          }
        },
        "3f507b40868c4df888f4c05b83f13341": {
          "model_module": "@jupyter-widgets/base",
          "model_name": "LayoutModel",
          "model_module_version": "1.2.0",
          "state": {
            "_model_module": "@jupyter-widgets/base",
            "_model_module_version": "1.2.0",
            "_model_name": "LayoutModel",
            "_view_count": null,
            "_view_module": "@jupyter-widgets/base",
            "_view_module_version": "1.2.0",
            "_view_name": "LayoutView",
            "align_content": null,
            "align_items": null,
            "align_self": null,
            "border": null,
            "bottom": null,
            "display": null,
            "flex": null,
            "flex_flow": null,
            "grid_area": null,
            "grid_auto_columns": null,
            "grid_auto_flow": null,
            "grid_auto_rows": null,
            "grid_column": null,
            "grid_gap": null,
            "grid_row": null,
            "grid_template_areas": null,
            "grid_template_columns": null,
            "grid_template_rows": null,
            "height": null,
            "justify_content": null,
            "justify_items": null,
            "left": null,
            "margin": null,
            "max_height": null,
            "max_width": null,
            "min_height": null,
            "min_width": null,
            "object_fit": null,
            "object_position": null,
            "order": null,
            "overflow": null,
            "overflow_x": null,
            "overflow_y": null,
            "padding": null,
            "right": null,
            "top": null,
            "visibility": null,
            "width": null
          }
        },
        "e67d0866989842abac5513c5aea87915": {
          "model_module": "@jupyter-widgets/base",
          "model_name": "LayoutModel",
          "model_module_version": "1.2.0",
          "state": {
            "_model_module": "@jupyter-widgets/base",
            "_model_module_version": "1.2.0",
            "_model_name": "LayoutModel",
            "_view_count": null,
            "_view_module": "@jupyter-widgets/base",
            "_view_module_version": "1.2.0",
            "_view_name": "LayoutView",
            "align_content": null,
            "align_items": null,
            "align_self": null,
            "border": null,
            "bottom": null,
            "display": null,
            "flex": null,
            "flex_flow": null,
            "grid_area": null,
            "grid_auto_columns": null,
            "grid_auto_flow": null,
            "grid_auto_rows": null,
            "grid_column": null,
            "grid_gap": null,
            "grid_row": null,
            "grid_template_areas": null,
            "grid_template_columns": null,
            "grid_template_rows": null,
            "height": null,
            "justify_content": null,
            "justify_items": null,
            "left": null,
            "margin": null,
            "max_height": null,
            "max_width": null,
            "min_height": null,
            "min_width": null,
            "object_fit": null,
            "object_position": null,
            "order": null,
            "overflow": null,
            "overflow_x": null,
            "overflow_y": null,
            "padding": null,
            "right": null,
            "top": null,
            "visibility": null,
            "width": null
          }
        },
        "fb67ea02d32a4bf38f53b4b226f11fa4": {
          "model_module": "@jupyter-widgets/controls",
          "model_name": "DescriptionStyleModel",
          "model_module_version": "1.5.0",
          "state": {
            "_model_module": "@jupyter-widgets/controls",
            "_model_module_version": "1.5.0",
            "_model_name": "DescriptionStyleModel",
            "_view_count": null,
            "_view_module": "@jupyter-widgets/base",
            "_view_module_version": "1.2.0",
            "_view_name": "StyleView",
            "description_width": ""
          }
        },
        "8ca2fdb270d844ec88ef92644038cdfe": {
          "model_module": "@jupyter-widgets/base",
          "model_name": "LayoutModel",
          "model_module_version": "1.2.0",
          "state": {
            "_model_module": "@jupyter-widgets/base",
            "_model_module_version": "1.2.0",
            "_model_name": "LayoutModel",
            "_view_count": null,
            "_view_module": "@jupyter-widgets/base",
            "_view_module_version": "1.2.0",
            "_view_name": "LayoutView",
            "align_content": null,
            "align_items": null,
            "align_self": null,
            "border": null,
            "bottom": null,
            "display": null,
            "flex": null,
            "flex_flow": null,
            "grid_area": null,
            "grid_auto_columns": null,
            "grid_auto_flow": null,
            "grid_auto_rows": null,
            "grid_column": null,
            "grid_gap": null,
            "grid_row": null,
            "grid_template_areas": null,
            "grid_template_columns": null,
            "grid_template_rows": null,
            "height": null,
            "justify_content": null,
            "justify_items": null,
            "left": null,
            "margin": null,
            "max_height": null,
            "max_width": null,
            "min_height": null,
            "min_width": null,
            "object_fit": null,
            "object_position": null,
            "order": null,
            "overflow": null,
            "overflow_x": null,
            "overflow_y": null,
            "padding": null,
            "right": null,
            "top": null,
            "visibility": null,
            "width": null
          }
        },
        "3b16a88b090a4e378573691930382656": {
          "model_module": "@jupyter-widgets/controls",
          "model_name": "ProgressStyleModel",
          "model_module_version": "1.5.0",
          "state": {
            "_model_module": "@jupyter-widgets/controls",
            "_model_module_version": "1.5.0",
            "_model_name": "ProgressStyleModel",
            "_view_count": null,
            "_view_module": "@jupyter-widgets/base",
            "_view_module_version": "1.2.0",
            "_view_name": "StyleView",
            "bar_color": null,
            "description_width": ""
          }
        },
        "39fcf1f20dbe4df2bc06acb88a5c3ec5": {
          "model_module": "@jupyter-widgets/base",
          "model_name": "LayoutModel",
          "model_module_version": "1.2.0",
          "state": {
            "_model_module": "@jupyter-widgets/base",
            "_model_module_version": "1.2.0",
            "_model_name": "LayoutModel",
            "_view_count": null,
            "_view_module": "@jupyter-widgets/base",
            "_view_module_version": "1.2.0",
            "_view_name": "LayoutView",
            "align_content": null,
            "align_items": null,
            "align_self": null,
            "border": null,
            "bottom": null,
            "display": null,
            "flex": null,
            "flex_flow": null,
            "grid_area": null,
            "grid_auto_columns": null,
            "grid_auto_flow": null,
            "grid_auto_rows": null,
            "grid_column": null,
            "grid_gap": null,
            "grid_row": null,
            "grid_template_areas": null,
            "grid_template_columns": null,
            "grid_template_rows": null,
            "height": null,
            "justify_content": null,
            "justify_items": null,
            "left": null,
            "margin": null,
            "max_height": null,
            "max_width": null,
            "min_height": null,
            "min_width": null,
            "object_fit": null,
            "object_position": null,
            "order": null,
            "overflow": null,
            "overflow_x": null,
            "overflow_y": null,
            "padding": null,
            "right": null,
            "top": null,
            "visibility": null,
            "width": null
          }
        },
        "0b3813ac6c04411ea78a0f11bb961b4b": {
          "model_module": "@jupyter-widgets/controls",
          "model_name": "DescriptionStyleModel",
          "model_module_version": "1.5.0",
          "state": {
            "_model_module": "@jupyter-widgets/controls",
            "_model_module_version": "1.5.0",
            "_model_name": "DescriptionStyleModel",
            "_view_count": null,
            "_view_module": "@jupyter-widgets/base",
            "_view_module_version": "1.2.0",
            "_view_name": "StyleView",
            "description_width": ""
          }
        },
        "db0a21c891ca4681b09fbf7a48d041e0": {
          "model_module": "@jupyter-widgets/controls",
          "model_name": "HBoxModel",
          "model_module_version": "1.5.0",
          "state": {
            "_dom_classes": [],
            "_model_module": "@jupyter-widgets/controls",
            "_model_module_version": "1.5.0",
            "_model_name": "HBoxModel",
            "_view_count": null,
            "_view_module": "@jupyter-widgets/controls",
            "_view_module_version": "1.5.0",
            "_view_name": "HBoxView",
            "box_style": "",
            "children": [
              "IPY_MODEL_0cb6410147b14c63baa5e00cb0de06b5",
              "IPY_MODEL_358421bdd60c4c068031567c618792e0",
              "IPY_MODEL_2a21b57ea6024754ba14dd60d7eb6947"
            ],
            "layout": "IPY_MODEL_c383fd32fd864cdaac07839319f094b9"
          }
        },
        "0cb6410147b14c63baa5e00cb0de06b5": {
          "model_module": "@jupyter-widgets/controls",
          "model_name": "HTMLModel",
          "model_module_version": "1.5.0",
          "state": {
            "_dom_classes": [],
            "_model_module": "@jupyter-widgets/controls",
            "_model_module_version": "1.5.0",
            "_model_name": "HTMLModel",
            "_view_count": null,
            "_view_module": "@jupyter-widgets/controls",
            "_view_module_version": "1.5.0",
            "_view_name": "HTMLView",
            "description": "",
            "description_tooltip": null,
            "layout": "IPY_MODEL_4282e18e1e0148058d690a488f6fda8d",
            "placeholder": "​",
            "style": "IPY_MODEL_c9482514fb014685858990ebdbcd9dc2",
            "value": "tokenizer.json: 100%"
          }
        },
        "358421bdd60c4c068031567c618792e0": {
          "model_module": "@jupyter-widgets/controls",
          "model_name": "FloatProgressModel",
          "model_module_version": "1.5.0",
          "state": {
            "_dom_classes": [],
            "_model_module": "@jupyter-widgets/controls",
            "_model_module_version": "1.5.0",
            "_model_name": "FloatProgressModel",
            "_view_count": null,
            "_view_module": "@jupyter-widgets/controls",
            "_view_module_version": "1.5.0",
            "_view_name": "ProgressView",
            "bar_style": "success",
            "description": "",
            "description_tooltip": null,
            "layout": "IPY_MODEL_b3665b93026d4192a9ca8ab5e3b45b1b",
            "max": 466062,
            "min": 0,
            "orientation": "horizontal",
            "style": "IPY_MODEL_d38d7f7cff704d609872be6ea20a1238",
            "value": 466062
          }
        },
        "2a21b57ea6024754ba14dd60d7eb6947": {
          "model_module": "@jupyter-widgets/controls",
          "model_name": "HTMLModel",
          "model_module_version": "1.5.0",
          "state": {
            "_dom_classes": [],
            "_model_module": "@jupyter-widgets/controls",
            "_model_module_version": "1.5.0",
            "_model_name": "HTMLModel",
            "_view_count": null,
            "_view_module": "@jupyter-widgets/controls",
            "_view_module_version": "1.5.0",
            "_view_name": "HTMLView",
            "description": "",
            "description_tooltip": null,
            "layout": "IPY_MODEL_a36ff42a79ea417e8ae8c028e1c5aef2",
            "placeholder": "​",
            "style": "IPY_MODEL_6d575d55dc0f45d5bcce076bea13db77",
            "value": " 466k/466k [00:00&lt;00:00, 4.76MB/s]"
          }
        },
        "c383fd32fd864cdaac07839319f094b9": {
          "model_module": "@jupyter-widgets/base",
          "model_name": "LayoutModel",
          "model_module_version": "1.2.0",
          "state": {
            "_model_module": "@jupyter-widgets/base",
            "_model_module_version": "1.2.0",
            "_model_name": "LayoutModel",
            "_view_count": null,
            "_view_module": "@jupyter-widgets/base",
            "_view_module_version": "1.2.0",
            "_view_name": "LayoutView",
            "align_content": null,
            "align_items": null,
            "align_self": null,
            "border": null,
            "bottom": null,
            "display": null,
            "flex": null,
            "flex_flow": null,
            "grid_area": null,
            "grid_auto_columns": null,
            "grid_auto_flow": null,
            "grid_auto_rows": null,
            "grid_column": null,
            "grid_gap": null,
            "grid_row": null,
            "grid_template_areas": null,
            "grid_template_columns": null,
            "grid_template_rows": null,
            "height": null,
            "justify_content": null,
            "justify_items": null,
            "left": null,
            "margin": null,
            "max_height": null,
            "max_width": null,
            "min_height": null,
            "min_width": null,
            "object_fit": null,
            "object_position": null,
            "order": null,
            "overflow": null,
            "overflow_x": null,
            "overflow_y": null,
            "padding": null,
            "right": null,
            "top": null,
            "visibility": null,
            "width": null
          }
        },
        "4282e18e1e0148058d690a488f6fda8d": {
          "model_module": "@jupyter-widgets/base",
          "model_name": "LayoutModel",
          "model_module_version": "1.2.0",
          "state": {
            "_model_module": "@jupyter-widgets/base",
            "_model_module_version": "1.2.0",
            "_model_name": "LayoutModel",
            "_view_count": null,
            "_view_module": "@jupyter-widgets/base",
            "_view_module_version": "1.2.0",
            "_view_name": "LayoutView",
            "align_content": null,
            "align_items": null,
            "align_self": null,
            "border": null,
            "bottom": null,
            "display": null,
            "flex": null,
            "flex_flow": null,
            "grid_area": null,
            "grid_auto_columns": null,
            "grid_auto_flow": null,
            "grid_auto_rows": null,
            "grid_column": null,
            "grid_gap": null,
            "grid_row": null,
            "grid_template_areas": null,
            "grid_template_columns": null,
            "grid_template_rows": null,
            "height": null,
            "justify_content": null,
            "justify_items": null,
            "left": null,
            "margin": null,
            "max_height": null,
            "max_width": null,
            "min_height": null,
            "min_width": null,
            "object_fit": null,
            "object_position": null,
            "order": null,
            "overflow": null,
            "overflow_x": null,
            "overflow_y": null,
            "padding": null,
            "right": null,
            "top": null,
            "visibility": null,
            "width": null
          }
        },
        "c9482514fb014685858990ebdbcd9dc2": {
          "model_module": "@jupyter-widgets/controls",
          "model_name": "DescriptionStyleModel",
          "model_module_version": "1.5.0",
          "state": {
            "_model_module": "@jupyter-widgets/controls",
            "_model_module_version": "1.5.0",
            "_model_name": "DescriptionStyleModel",
            "_view_count": null,
            "_view_module": "@jupyter-widgets/base",
            "_view_module_version": "1.2.0",
            "_view_name": "StyleView",
            "description_width": ""
          }
        },
        "b3665b93026d4192a9ca8ab5e3b45b1b": {
          "model_module": "@jupyter-widgets/base",
          "model_name": "LayoutModel",
          "model_module_version": "1.2.0",
          "state": {
            "_model_module": "@jupyter-widgets/base",
            "_model_module_version": "1.2.0",
            "_model_name": "LayoutModel",
            "_view_count": null,
            "_view_module": "@jupyter-widgets/base",
            "_view_module_version": "1.2.0",
            "_view_name": "LayoutView",
            "align_content": null,
            "align_items": null,
            "align_self": null,
            "border": null,
            "bottom": null,
            "display": null,
            "flex": null,
            "flex_flow": null,
            "grid_area": null,
            "grid_auto_columns": null,
            "grid_auto_flow": null,
            "grid_auto_rows": null,
            "grid_column": null,
            "grid_gap": null,
            "grid_row": null,
            "grid_template_areas": null,
            "grid_template_columns": null,
            "grid_template_rows": null,
            "height": null,
            "justify_content": null,
            "justify_items": null,
            "left": null,
            "margin": null,
            "max_height": null,
            "max_width": null,
            "min_height": null,
            "min_width": null,
            "object_fit": null,
            "object_position": null,
            "order": null,
            "overflow": null,
            "overflow_x": null,
            "overflow_y": null,
            "padding": null,
            "right": null,
            "top": null,
            "visibility": null,
            "width": null
          }
        },
        "d38d7f7cff704d609872be6ea20a1238": {
          "model_module": "@jupyter-widgets/controls",
          "model_name": "ProgressStyleModel",
          "model_module_version": "1.5.0",
          "state": {
            "_model_module": "@jupyter-widgets/controls",
            "_model_module_version": "1.5.0",
            "_model_name": "ProgressStyleModel",
            "_view_count": null,
            "_view_module": "@jupyter-widgets/base",
            "_view_module_version": "1.2.0",
            "_view_name": "StyleView",
            "bar_color": null,
            "description_width": ""
          }
        },
        "a36ff42a79ea417e8ae8c028e1c5aef2": {
          "model_module": "@jupyter-widgets/base",
          "model_name": "LayoutModel",
          "model_module_version": "1.2.0",
          "state": {
            "_model_module": "@jupyter-widgets/base",
            "_model_module_version": "1.2.0",
            "_model_name": "LayoutModel",
            "_view_count": null,
            "_view_module": "@jupyter-widgets/base",
            "_view_module_version": "1.2.0",
            "_view_name": "LayoutView",
            "align_content": null,
            "align_items": null,
            "align_self": null,
            "border": null,
            "bottom": null,
            "display": null,
            "flex": null,
            "flex_flow": null,
            "grid_area": null,
            "grid_auto_columns": null,
            "grid_auto_flow": null,
            "grid_auto_rows": null,
            "grid_column": null,
            "grid_gap": null,
            "grid_row": null,
            "grid_template_areas": null,
            "grid_template_columns": null,
            "grid_template_rows": null,
            "height": null,
            "justify_content": null,
            "justify_items": null,
            "left": null,
            "margin": null,
            "max_height": null,
            "max_width": null,
            "min_height": null,
            "min_width": null,
            "object_fit": null,
            "object_position": null,
            "order": null,
            "overflow": null,
            "overflow_x": null,
            "overflow_y": null,
            "padding": null,
            "right": null,
            "top": null,
            "visibility": null,
            "width": null
          }
        },
        "6d575d55dc0f45d5bcce076bea13db77": {
          "model_module": "@jupyter-widgets/controls",
          "model_name": "DescriptionStyleModel",
          "model_module_version": "1.5.0",
          "state": {
            "_model_module": "@jupyter-widgets/controls",
            "_model_module_version": "1.5.0",
            "_model_name": "DescriptionStyleModel",
            "_view_count": null,
            "_view_module": "@jupyter-widgets/base",
            "_view_module_version": "1.2.0",
            "_view_name": "StyleView",
            "description_width": ""
          }
        }
      }
    }
  },
  "cells": [
    {
      "cell_type": "markdown",
      "metadata": {
        "id": "view-in-github",
        "colab_type": "text"
      },
      "source": [
        "<a href=\"https://colab.research.google.com/github/Rajat504/CLOUDYML/blob/main/NLP_CloudyML_Assignment_10_withoutCode.ipynb\" target=\"_parent\"><img src=\"https://colab.research.google.com/assets/colab-badge.svg\" alt=\"Open In Colab\"/></a>"
      ]
    },
    {
      "cell_type": "markdown",
      "source": [
        "<center><u><h1>Assignment 10:Understanding the BERT Model</center></u></h1>"
      ],
      "metadata": {
        "id": "nxEGhoiDOAJ7"
      }
    },
    {
      "cell_type": "markdown",
      "source": [
        "![](https://www.meme-arsenal.com/memes/c91e714548b2ac52666df78f2221a322.jpg)"
      ],
      "metadata": {
        "id": "HHM7_bbWPHaM"
      }
    },
    {
      "cell_type": "markdown",
      "source": [
        "#Table of contents:\n",
        "1. Basic idea of BERT\n",
        "2. Working of BERT"
      ],
      "metadata": {
        "id": "hLS_Mp4sQK7r"
      }
    },
    {
      "cell_type": "markdown",
      "source": [
        "#Basic idea of BERT\n",
        "We will get started with one of the most popularly used state-of-the-art text\n",
        "embedding models called BERT. BERT has revolutionized the world of NLP by providing state-of-the-art results on many NLP tasks. We will begin the assignment by understanding what BERT is and how it differs from the other embedding models. We will then look into the working of BERT and its configuration.\n",
        "\n",
        "<br>\n",
        "\n",
        "![](https://cdn-images-1.medium.com/max/1500/1*g1KBCVCITjrd9IJ7AyFqdw.png)\n",
        "BERT stands for **Bidirectional Encoder Representation from Transformer** . It is the state-ofthe-\n",
        "art embedding model published by Google. It has created a major breakthrough in the\n",
        "field of NLP by providing greater results in many NLP tasks, such as question answering,\n",
        "text generation, sentence classification, and many more besides. One of the major reasons\n",
        "for the success of BERT is that it is a context-based embedding model, unlike other popular\n",
        "embedding models, such as word2vec, which are context-free."
      ],
      "metadata": {
        "id": "j8LOVFXnQuv8"
      }
    },
    {
      "cell_type": "markdown",
      "source": [
        "let's understand the difference between context-based and context-free embedding\n",
        "models. Consider the following two sentences:<br>\n",
        "Sentence A: `He got bit by Python`<br>\n",
        "Sentence B: `Python is my favorite programming language`.<br>\n",
        "By reading the preceding two sentences, we can understand that the meaning of the word '`Python`' is different in both sentences. In sentence A, the word '`Python`' refers to the snake,\n",
        "while in sentence B, the word '`Python`' refers to the programming language.\n",
        "<br>\n",
        "\n",
        "Now, if we get embeddings for the word '`Python`' in the preceding two sentences using an\n",
        "embedding model such as word2vec, the embedding of the word '`Python`' would be the\n",
        "same in both sentences, and so this renders the meaning of the word '`Python`' the same in\n",
        "both sentences. This is because word2vec is the context-free model, so it will ignore the\n",
        "context and always give the same embedding for the word '`Python`' irrespective of the\n",
        "context."
      ],
      "metadata": {
        "id": "CvLI39uaSOm7"
      }
    },
    {
      "cell_type": "markdown",
      "source": [
        "BERT, on the other hand, is a context-based model. It will understand the context and then\n",
        "generate the embedding for the word based on the context. So, for the preceding two\n",
        "sentences, it will give different embeddings for the word 'Python' based on the context.<br>\n",
        "Let's take sentence A: `He got bit by Python`. First, BERT relates each word in the sentence to\n",
        "all the other words in the sentence to understand the contextual meaning of every word.\n",
        "\n",
        "![image.png](data:image/png;base64,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)\n",
        "\n",
        "let's take sentence B: Python is my favorite programming language. Similarly, here BERT\n",
        "relates each word in the sentence to all the words in the sentence to understand the\n",
        "contextual meaning of every word.\n",
        "\n",
        "![image.png](data:image/png;base64,iVBORw0KGgoAAAANSUhEUgAAAK0AAAB9CAYAAADQkeNsAAAAAXNSR0IArs4c6QAAAARnQU1BAACxjwv8YQUAAAAJcEhZcwAADsMAAA7DAcdvqGQAACKWSURBVHhe7d0HmGRV0QbgK+pvwgCoSJIoIMFFQEFAJEkOksQVCUuQjAiioiBIEhMiQVlZlIwEEdBVkCwIiIASFEQFUVFJIqigCN7/vEWf2Z7e7gk9PbM9Pfd7nnnm9unb3feeU7dOVZ366ryoTCgqVBhH6BPaF73oRdFQoUI3ol639hPa+jcqVOgWNMrmbLX/HcOtt95aPP3007VXFboBf/vb34oLL7yw9mr8Yyahvf7664sNN9ww/jbaaKNi7733Lv7whz/U3p0ZnoAHHnig+N///hevd9111wHPr9AeDjrooGLZZZct3v72t8ffzjvvHMLYCo899lhx2223xfGf/vSn4uCDD47jXsBMQvuXv/yl+O9//1tMmzatmDp1arHEEksU6623Xp9QNoLQLrroosWzzz5ba6kwGvjrX/9a7LHHHsXPf/7z4mc/+1nxmte8pvjoRz9ae3dmOOdjH/tY7dUMPP/887WjGTCGrca32fmzGk3Ng5e//OXFvPPOW8w///yhaf/4xz8Wv/zlL4t111237yaOP/744thjjy223nrruOl11lmn+Pvf/x7vnX766cVyyy1XrLHGGsX9998fbQ8++GCx8cYbF29729tCS2QTYtNNNy2++tWvRvvaa69daekh4CUveUmx+eabx5h861vfKnbYYYdoNw4rrbRScdppp4XAEvBddtkl3vvXv/4VY7XYYotFPz/zzDPRftJJJxVLLrlksfTSS4c29x00tHO22GKLUEgbbLBBdymldJGBfHjeeeeVySwon3vuufi76KKLygUWWCCOV1xxxfLaa68t01NZphstr7766jIJcZkM5TIJYbQnYS3POOOMON5///3L3XbbLb733e9+d3nqqadG+0c+8pEydWq0zzPPPOW5554b7XvttVeZtEe0V+iPHXfcsTz00EPL++67r7z77rvLJFDRh2lmLF/96leX//jHP8q77rqrfNOb3lSmmbL8wQ9+UCalEZ+94447ov2pp56K8XrnO99ZXnLJJeW9995bzjfffGVSNmUSynL55ZePz918881lUljlP//5zzh/0qRJ5RVXXBHfNStQJ6aBppr2hhtuiCd25ZVXLs4666wi3Ujx4he/uNh2222LCy64oPjVr34VmvI973lP7RMveHg5bPaOd7wjjn2euZE6tLjllluK7bffPtr9/+EPfxjnQj4/PRQxDVZojksvvbT49Kc/XRx55JFFUgLF0UcfXSRhLFZfffVi+vTpxXe+853igx/8YGjiRrz2ta8tknAXs802W2hPs+JPfvKT+Kz3XvrSl4Yfw6eBueaaq3jVq14V5yelNaD9PNaY+e4SdMj3vve92qsZ2GabbULA3BABdkNJQ9bebY70YMQ59ULtc9ob4f3GdmbFv//979qr3gRHyVT/3e9+N15/8pOfDD+iEab6Pffcs/ZqBnbaaafinHPOKX79618XaZartQ6O//u//yv+85//1F4VcfzKV76y9qqLQd1CPmQeJNszjpsh2TflHHPMUaZOjtem9fRkl48//nifeXDPPffEe+eff365ySabxLEpyWvnJG1R7rPPPtHOPPjtb38bx8kWKz/wgQ/Eca/jySefjD5Ms1b8f9e73hVjsNBCC5XpIa2dNQPMg2R/1l71RxK2mM6XWWaZ6F+48sory+QnxNTPPEgOdbTD5MmTy+R3lGlWC7Mh2b5l8iXit5M9G+YBkyCDPJCLWYU6MQ3MZB68/vWvL9761rfWXs2MJFTF4osvXiy11FLxmnZMNmo4YswADtgrXvGKeK/+u84+++zQArQ4x+6oo46Kdpqb4wdveMMbIlrRqxCVSTZpaMRkL8Y0zbH93e9+V9x0001xzuGHH1687GUvi+N6JKGOfm8GGtM0P2XKlL7ZbNVVV42+Peyww4rXve51RVIe0Q7eW2SRRYq55567SD5LjAUNzrlOdm3MpMKdGRzqBRdcsPaqC1AT3pmkuRWSzVROnTq19qrCUPD73/8+NConKmvC9ODGjOR1EqLof5qR4zMc+DyNacZ6+OGHa629hUbZHJbQMg14pM8880ytpUIrPPHEEyGo/njhGYTszjvvLB999NF4fcopp0Tf+0s2bbQNB/fff3+ZNHA5bdq0WkvvoVE2h5V7kDo8nKgKzaF/kn0eUz6PXKy7HjxwppGYKA/fSuJaa61VJE1cJJu/SLZk3/ReYQYaZbNKmOkAhPWEkPThW97ylggPNoIty3Z/85vfHK8tswon5lWtyy67rGnEoEIltB2DFaa8eidWOsccc8RxIzhcHC3CnMNJQng0MqdWqEs8+8Ybb4wxqDAzKqEdAfQPARQFIIC05kCCZtp/7rnnYum0HnfccUdx1113Fdttt128thS74447xnGFmVEJbRt4/PHHi0ceeSSOhamEmAYCobZqKEwk3FQP7YRdaNADwL6lZSXAVGiOSmiHCIJHqDhX4pZimkOBZWhCLo7dqIWZEzS0ZfGc5CK5yLJ2hdaohHYAEFAevSndWvzCCy88k+C1gs/ec889sUDyxje+sdY6A48++mhkVs0zzzyhXX/zm99EptYxxxzTctGgwguohLYJCJQ/4Tz2Z7OEk4HgsyIIyyyzTNOQoOQiWlYK4CmnnFJ8+MMfjgiD1SjpmlUYcWBUQluD/FDTP1hupiGHC/117733hj0633zz1Vr7wzm/+MUvgm0gakCritVKcpHzOtCSeYUXMKGF1v3x6AkPZ8r6u/tuB0899VSYErRns1yBDJECGphmtbYvT8NvYxZ4UJgLFQbGhBTaJ554IqZv97jQQgv1JfS0CxralM7mHQjsVg4cTSyuK/Lw8MMPR4qhRYWcdFRhYEwYobWUKoDPQRJ26oRGo6FlaNHQEqoHgocE8u9+/vOfjzxZ9jKTgnlSmQZDQ88L7UMPPRRTd3aqmi2ptgNC+OSTT4Y5MBikaAp9WQUDnyPocg/YstIPad/BBL/CC+hJoSUksv9BkopklU5Bn1hqZX8OJVZLw1vtsniQIaf1s5/9bNiychBo7F7OG+40ZpJNQgt1h4FbbrmlTHZY7VX3IU37ZbIZI/VP1v1o4LHHHiuT5x+kzqECS8C1ZUhBTFo1+hdx03vJxKi9W2EoaJTNlkKLkiF5uduQNGoMuj80k9EAwZKgLVF7OPAQYbzWA7tY384+++zBnEUtaue6fffBBx9cezWxMGSh7SbgU9GouFSNQtFpJLsztCsa9nDgYcIgqIeHPpkE0beHHHJItLmHdvDII4+U06dPr72aWGiUzZZLMXI7FdpgoynYIda4wgor9HGZRhu8fp66BBM2K09biGg0nRchKk7cpEmThrUqxtFipzbavEcccURECeacc87igAMOiJWxdtmuwnT1PC22McY0x3PCoSa8M0nzoosuGtrtqquuCoYt7pLiHNttt13tjNEBbUUbmZ6HY0uOBEnggpFaT4sZKmhkmrkR+GBYyvr16KOPjjb9WW/vDgc33nhjmZRGHJ999tnlsssuWx500EHBoG32+72ERtkcdNGbdpPoQdsKkMv97DRoKRpVwgkN5zeFljoVrhoIog5Wtnj7ilMMF3feeWeUdGqEiIHEG9p33333jbbU3+EJjxRXXnllJJBj0WI/+J0JhRdkt7WmBZrosssui5oEW265ZbSNFDQOp8RvIOe1q4HahZmDp8+7bxeuXTmoRihPNNtss0WfHnfccdFmBhGNaBf1mlZ/bbrppuXSSy9dHnjggW3NEOMJjbI5qNAqoKHgBo9XEYeFF164dsbIQGg8DLMCnBqMWNfQLh588MH4nmbYfPPNoz/VQMvM5awA2kW90HLIPAAemFzjq5fRKJstzQNOF6dh8uTJsWauthdn4pvf/GbtjJHBitVAiSajgXS/YYZwjtR6bTcl0MoWR7FZZpiMrlzeSE1YZEa/20mogya98fvf/37kQVhtm1AI0U2oO+xJKA/EYRlpbNfsYPpvha222ir60kyVf0uMdaS/qxDHxRdfHMecP5UmDz/88KhyONam1VijUTYnhNCynTuxUEI4br/99pZCIgKRbVlClTFS02Cio1E2ezplXlxUPiuKdydqUclBECloFQGQxcVskPD9/ve/P9pEXNqNzVZojp4VWvQW4SwLBe2EshoheRw7oVUYTk3fyy+/PI7Vj832suvoquJtPYCeE1oxS9p19tln7xhhUDUYQtiqIEeasfo24lDeSLn3CqOHnhJaOawSrE3hlk47AQsfah7kckbNINh/3XXXxbFK3dl8cD1DpZ5XGDp6QmhpurvvvjuO5Uh0YtUJfK8Q2UC0mHoty5bFrs1A8+nUw1NhBsa90BIMS6mWfTlcnYRk7mZLtPWQtGI/Cai3ZQlzpx6eCv0xrpkLAuuKagw0dbcL362yTGNZo3rkSIGHRqVuG29kQZUxhkTp+iqMDI2yOS41LTuTs6WSy2gILMaslayBBBbs9ENgQfJKvWblEFYCOzoYd5rWbjeWYTNpsNOQT8vxaqx02AjXoLwRxq/cY0urWWiV97TUOxoP1ETEuNW0hIR2pf1GS2BpR2mKgwks2IaVwOrQz33uc30CC2KzlcCOHsaF0MrOJyCcok4ybRsxFMcLrLTl3Xm22mqrsGvrUS/AFTqPrhZajg5BQr0WdhpNYUBfEYEYym98/etfL/785z/H6hhqeD3EZqtSR6OLmYQWL0uAXihHGiIbTwz05JNP7tuc+aqrrurjJuGQqf5H+3QSarz6XXZjO8XhhgOFOBTPGEq5JHw11WLArpWNVWLwxQZz4NqBPub02Vr0a1/7Wjijp556apgm+gq75MQTT+zbgdHM9O1vfzuOew0zCa3Oed/73hfUF3utrrnmmlFDlXNiL1zCSaC/8pWvxPmqWKv+lzew6wSEi/yOqbrdnNehghBynIYa47VjutKeIgOf+cxnaq0vgLMwWrPBcccdF1qdva1cqI3t2Pk0vqLM+p8Q/+hHP4rzCbYidz0J0QPIh0h4++67bxxL6Uud0ccwsEkb9oIUvORoRIqeHcU7xcdXHKRdgmE7SI5X/N5QYW+wpEWjr/Lu6vWQ/jhaBU7s4o7yBEkgy8022yyO0XiSnR/H6YEK4qlxWXDBBSONshdQJ6aBpmosawspddgFmWHgaTb9IAGq6YpOLks/b3gxEghlMTnaJRi2A9OtLLCh4oQTToitl/RDXrqtx1ilIfp9f8DeV2of7EBuaycZZ8yd+tJMvYS25167sRg4TsdIs6mYAzp5tEJZzcBud91Dnc6ZEUwD2H333Yv5558/jjO6YTGBIrFHrjKiFMloOq6zEm0LrafasmUntCxhbZX2NxqQZyuRZTgancByeHxGsncjOD64dLMaU6ZMKZLJE9y+nkXNTOizGx544IG+Amls2WuvvTaOgY2kbBCw3eadd94R0aJnBVyvexwOsG7ZjfooOV+11v4YbUoNezlp+zhmWyvDBOxyhU0ycMbWX3/92qveQJ2YBmYS2qHg7rvvjt3Imzkj3Qx07nZqae23337RP3PNNVfUFWuEB6EbdgA/66yzysUWWywqAfUSGmWzLfOAM5a82b6w13hAutdBc2ObgSkhRg32S2B7N0I4sNk2TGMNtXnPPvvsCFP2Mnq2fH0jRAosBAzXWeJ0TZ06NZaP5SU02t76jFNXlaIfPTTK5uhG7rsESIkSWIYrsFYAc3ESCyjNnEWhOnmzFcYOPS+0UgStqrWztGpvBDFQoSSmQTNYPh3pbjkVhoeeFlq2t2XOdtIELWOrSAhCXM3q4hLo4e7uWGHk6FmhZQMpriHhph0o1SkZyOLJHnvsUWvtD5ScoeTeVugselZoZYi1y8xVRA6VBqz6tVqa9WD06qpTN6MnowccKCte7dix+mDDDTeMNXxalLa2vt8IBTzk+3ZDqKvX0fPRA7mxkknazWm99tprQ2DBngnNBBakJ1YCO2vQU0Kbc2MF2duBpzlnb8nlzUXkGtErM9J4RVOhnT59emTEy47vNLAexE07DU4Tx2gkmWIYtZLaQbirVQK6RYbBNnPuNDAiJJ2P1iqkRP/x8jDONCqmx3322Se85lZT40jAyTG1wm233Ra2YSdgxWsopMRWMGCHHHJIHCsit+mmm8ZxMwil5XzWsYIZwMO+xhpr1Fo6C3nC4N7OOeecOO5apMEK5MPjjz++3GWXXeI4w94EsuGHglbnNmtfc801IyupHrKWhot77713xGyHSy65JPrA3+WXX15rnRlpUIPRMZbQJzK3Lrjggr59IrTZUTKzSrTX953jfK7K4c71P8Ox8cB88D+/ltGWHsjy2Wef7RsviUYPPfTQTOM3VqgT00A/ob3hhhvKRRZZpJx77rmDduNGdtppp9hFRfupp54a6XEyiXKa3AknnBD7WblJ5y611FLlEkssUV544YXxfprOYlecpLnLa665ptxhhx1iowul16X7Of+KK66I8vLJa4/9sZLGDEEcCqTo6fiRwGCstNJK0Qerr776gIMjBXGsB88OOXPOOWe5zDLLRKqoa9BvBNnGLT/96U+DioOSk7HaaqtFv8pqc+56661XLr744uWtt94a7zt3o402Kpdccsm4H9ug+r/uuutGNXMKxfhTKj631lprxZ+HdqwxoNACntGuu+4ax/JqP/GJT8TN2AZo/vnnj/bkoPSVZ19llVVi55WpU6eWG2+8cZxr5xdpfI8//nh51FFHRee6We/Z+eWiiy6Kz9ZrWul/theCM888s9x+++3jeCDQAJ3Qeh4i9+/vxz/+ca21OUY7b7YVNthgg75+02d5NjjxxBNDWdCsxodG9IfDp40QnnfeeXGu2SSZPnFMaKdNmxbHkIXWmNG0QGgpMKmoYNzzNYwlGoV2wOgBp0YhCpu3oS7jQEHSlhF8l7ZnbX/llVcurr/++mKzzTaLmJplU1vD33777XG+egLs44EC8XhN6rwqMXTSSScFE2AwsCtHyhZIfdBny/ptKZet4F67oXQn7hfWLda0hB52qBoM2CRphgvenmNtSbMGixqSpowxScIZrxspQ43A2ZN2iZ2y/PLLxxgnM6P27qzDgEL7jW98IwpTSBapJ/KlpzccH5Rl9GXCSIDqax9IJBmOs4I8mbR6OAG2GkrapPbO6CJpoRhI9+DBHAgcyG4okkxpcJQJaN4NEpLGjfuhUHD4QP6vcqjgvxyKgZRHPVCLJAMl8yP6SB5H/e/NKgwotDhRyl2maSJySmklkCQihvmlL30pOhBse+kcJMXzzz8/inzwwgcCoVYcRGxVeSFbmNLmvORc83U04b7yw7jllluGNhkIQx3s0QZNSesL0alvkDWn2c3YGCfHkJzquEc1EKRX7rzzzgPeByH1eftHGPt11lknEoZEeo499tioUzbLkS4wkA8Z73ZpBFwklBoce+277757n4fKluRM1YN3a/vLKVOm9NmaSWv2256I45Y6II7TdBN28E033RSeLnuac7DtttuWqZPjnNEEO9x9+8N/GwgcvmZUm7ECOz/b0/pWbQoOsL47/fTTox04avW8Pv3qPpOwlsnsCjsVONX2N8s48sgjw6YFG0bvscce4VyLyhxzzDFhNxufHK0YS9SJaWDCMBcaYeEEhZyNlpzDqKwzENqh6lToDBplc0DzoJfBXiewVr0ai8g1wvQ7FjuiVxgaJqSmZTeLOqj4zctGBhwI7G4ZX5XgzhpUmjZBdUECy2k59NBDa62tUWna7sKEE1qJJ1/4whfiWORjsJJOMsdspFehezDhhFaWlHCRxY68qDAQLKAssMACtVcVugETSmhV6f7yl78cx3vuuWe1Z+04xYQSWvskWMiwKmQ70MEgujDYUmeFsceEEVpFNYS5QClMtQwGA3u2GXW8wqzFhBFaBaCFTiS87L///rXW1nj++eeriEGXYkLFaU332LXrr79+raU1xGZluY32ng8VBkfPx2k/9alP9fG8GiEKMBSBBbHZSmA7B2mU0iQ7gZ7TtDfffHNEBaTutQsZauzZ+eabr9ZSYaRAOrWDUDv7aTTK5osPU/8nwfq79DzpiFdccUXYfnIx5cgqh24QFcEwkFIH5bvyxHnXvhSUvPRZF2dLUJpNpRf2oQTvXLnwmmuuiRxNqW8cHd/jfDm4ag6oWeAiL7744vis7/P6uuuui9Q5W0LRgspvOpaoTFBdh5xX7d7PCc/YxRYIctVDy7iXXnppkCp9r3usd7jc5yKLLFJ7NWuRTRo2uf6Qz8uJlKCtzdjkcdDH6o/pD6VH82BLBvJZdRr0vVJR+sSWTpLIV1pppRhfWz1hSxsXe7f5bSmixlDurnEQt3aeccFIlngkFVUfSi21ysgXkDIpjTFX+UGYde3Ocw3es3xuXDLlH8tZ/rbfdT1gLMlmTUwD/ea/9773vcUXv/jFuNAVVlghLlDnbLDBBpGL6YcwDORYElx5lnkZlIZTzFfhtl133bWvZgAquootsuldvIRyu8TImpK/6jd8r2lbvqbs+BVXXLHYbbfd4ru0+26QfG76J+C2qv/Qhz4U7F7nnn766XGOUJbBVLRjo402ijCX8+27JYmZELtPe6S5Jtec997KqH+qZzX0E0aIgSQMmBWEkoLI+17IS5aQ796xRM4888y+fSEc6wMKQ1veHvX444+P2ruEj6D5DauFHghMBzFtv22DP5EXCsW4i3NTXH4bEYACkHzuISDsG2+8cYyxc6w85nFBUcdG8V3Ol59LOflO92N2y6wRY+d6/H5TpAEKOFxooYX6cirxxI444ojyvvvuC55QurloTwNepicrjuXbJm0cpMTJkydHriz4jP0YIN1c7HuVIYdWjqa8Ttwx34V8h6CXkbRE8LZAzmgajLiuJPR9hMqtttqqTB0Yx8q2J5spjnGpklYp03RUJs3Sdz/a5fv6fUS/3I73lDREHEMSjlmaN9sIhEVkywz3ffLJJ5dJq/bxvUCfITgCnleahiP31WczD8/7kyZNimPcsfTQxjHgAOKWGbvlllsuvr/+t/VXErI4B+TX4qcp3e+3MtZYY40yzWJx7P0dd9wxjpPSiL5PCjEImhlJ+cRvybkmDxmuz+9DnZgG+mlaTzJtCMsuu2w8FWDJMzsl2nJWvCeFGeHJoHlzNWxPbj3yPmRAq6299trBdKABU2dEe73Tw+4xLeRjT3lGDkNpz6XkG8/JqL8fZoXp0PXX74HbeK2mpWYl6rsFpmRaEHJfAG2VbXBjoj9pL+fmZeh8zxn58xgcZisa0tTvu5JsxHsZPmsccy1eMuFzUP+92jPNyvn5nFbQ/7S9BKb6FcrGa61HP6HNAgSEsNmetKpem5rAdMIGZpOwl0xh0OpCmRq2NmLfsJEIz1jDPTFH8qDUX+tzzz3XTxC6BYiLGTa4blZvV4J63laUWaXSo+nauXm8sp3YCN/JF8AtO/LII2dJgpAHi+1uXPx54Fqhn9DSmHvttVeU32HQZ3JcPdhN/mxqLONfNRqaSQ1XXCTlhKzrN4NO1JlsKzYRw3uwJ7HTUKGF84ArdcABB4TzksHm6sZ6s65rm222if7mA2y99da1d2aA/cjvoDGdRznQtvraCuCUKVOCONoMMt0kEfleNinUPyhjAf6H3+Q/sWdFG1oiSXXA4aKLLlom4zpsxKRpoz0Z2mGL1MM+XM5R3CPbhuCz+EXJyw/ePaSnuM8OgtTp8Vm2UzK0+/bH8l0ZbC/2MrC11F/wO3hqmaOGi++7wHZImePlf5reyuSl9qthkEyRMj2UccxmVQtA8ZAtt9yyPOOMM6Ld9XQbsl2ZnMjol8zRcn/1/Qp8CzUoGouXOI8tmUyzsC1BXxjbDJ/FN+Nv6M+k6eI3/G5GMq36+j9p5viM11lWwPf6HPgOYwGuIZlwcf153MD35/Nx0lyn99XTyFtL1YlpoF+cVja/p7odUOc8S6tItmw3LQl7dCN42u7XNYtuiJawz4WOui02ixWL2i7c1w6Mp3s0/Zr+zYJm026EWUFIlH0rLCYyxF8xVjUxDfQTWuERYaR2QLWL1yUNGtMNR2tW7xXbClZmCIN73mKLLcK2tmybHcxugliyuPFgdPxW4OSkGSccUM61UGa3wjUK4XHghCWzQzyg0Na/MdGQH7YK3YdG2ezniE1U8Jy7odxRhaGhEtoEU/BQ8msrdAcmvNCadkw/FcYPJrzQigd2S3JMhaFhwgutxQ1LjxXGDya00MpXyGvpFcYPJrTQWkauaOTjDxNaaDlglRM2/jBhhVb6XbXj4vhEP6G15CfVcCJAbFbWWbdDPkQ3Li/PSvQTWqmJE6Fw8HiKzcpxtiZfYQb65R5I4pZQIcumlyE2K+tpPIS6ZKIxY+QAg2wv7A+zBK6V7DQJ9fImkDXdk5xazA8Cf8YZZ8T9SgySDD558uTYjGX11VcPMqQxx/vTjtkhacq+GeTAPhjkQrK//TR8H06dMOFqq60Ws8C0adNidnbupEmT4ho7DdcwpNwDWfwSupHNJCDnlMW8A40sHB2B4QCSiJXOtO0PhqcdvAGFg5cOMut9JyAZSjJfddVVI3k5D4p0NAnBEoGlNuay8hihuPO+3yCNBDLSxmNsFukTGRHxEPsiZ+QRKIRFgobCtN9++0W7CpHoM0ig3kdmBP9ljgGBzu0HHnhgH3FVkj8iAPgd56FT2XgEE5sQbbLJJrE9KSKq5HFjOhZoKbS2RZKuh6ItLW7vvfeOdnmO6Bznnntu5N/mcpkf//jHI+YplxY9PBfMwAzwpALzQ+oZyPHEkMXiRLOQ4+pJlj3vIcHYPe200yL76umnnw5GrwfAA6GskUFrB9ijcjTHI/SX/kN5sueZfsuwNZasf7myHnygXNBn9B2GyWCgUAgrDbzKKqsE25ZQopUfd9xxoUhoVPDb6OtkQwoq7hrZGAu0FFpajVb1VBno+qcIlVuCiScy21u2ByJMprJM2RgItAAHw8MhfxIBjzYnoDZbk0SeKcUo4TQxLWD68nBkPtRwYUobr7FZ/UBr2hyw1cYmOG4efpC9Npyqj2jeNrKmGAgkmPplwDUuwphZERg9RP6M1VildrYUWlOG+gWmgVbJ3PW2BsHODNpG1Nsj4DWtYKM203RmxBIoib+NTpLpnA2n8IM/navARDvohs3r2gX70WyD/4VjNxg8+Fkb15Ma9TGhgzwLGhP7wlEi+Gb6GfSXTfM8AMDGBlw6NvBBBx0UpoeCGmaCsUBLoVUpxlSjc5ARB4ObzCRB9k8GzZvtXgY+0ARXX311dI4ph3YFHUGjO18nZrvLVqc6jf2LtGdK6jZazFiAPa/PFEIxXVuGblQI9SBQ6DV8DWTVDCRHs6J29jBQFKj9qgwxJ/gQZjfMXDYyO5osKHACGNh2b0QURWo1JkiXY4J00wGHyGeKPoCCF4p0KKxwwAEHlElwol2xDgQ4QDyzeR0g3Sn2odCDjZpz4QVkuuSpl8lJiC35k80a7cnGip3J083GZnmKcoCN2rQn475cfvnly2T7RrsN+dL0E99jh20FKSYCFEmpJw4ihCKQakcwTQqgH0mxGXHQzuM2c06CV2t9gZyaTIDYaNs5gFho00FygJSI4JiR/JggfpKFww47rNZaxrWRByTH0UKdmAYGpNvQiNqGUgsgf9YCBY9VbQPTP7T6nlxnoN4ccJ7ztQnD5Cc5v+cz3co96zbQlnwHdi0HmY8iTDZccOjw6vQ7n0LILZsPY4FG2ewYR4wxbhrhoOkstbJMGcMFRq+IhWthbzEjKipMe/CAC5OJtNi5vN04KnvYOPA5mAnDce46gVETWuBpigIIhQ1nB/J6uAYBb/YUG7e+XFKFiYkBhbZChW5FU6GtUGG8oJp7K4wzFMX/A664Jd5hTlnIAAAAAElFTkSuQmCC)\n",
        "\n"
      ],
      "metadata": {
        "id": "a7SUofRGSkkr"
      }
    },
    {
      "cell_type": "markdown",
      "source": [
        "#Working of BERT\n",
        "Bidirectional Encoder Representation from Transformer (BERT), as the name suggests, is\n",
        "based on the transformer model. We can perceive BERT as the transformer, but only with\n",
        "the encoder.\n",
        "The encoder of the transformer is bidirectional in nature since it can read a sentence in both\n",
        "directions. Thus, BERT is basically the Bidirectional Encoder Representation obtained from\n",
        "the Transformer.\n",
        "\n",
        "we have a sentence A: 'He got bit by Python'. Now, we feed this sentence as an input to\n",
        "the transformer's encoder and get the contextual representation (embedding) of each word\n",
        "in the sentence as an output. Once we feed the sentence as an input to the encoder, the\n",
        "encoder understands the context of each word in the sentence using the multi-head\n",
        "attention mechanism (relates each word in the sentence to all the words in the sentence to\n",
        "learn the relationship and contextual meaning of words) and returns the contextual\n",
        "representation of each word in the sentence as an output.\n",
        "As shown in the following diagram, we feed the sentence as an input to the transformer's\n",
        "encoder and get the representation of each word in the sentence as an output. We can stack\n",
        "up N number of encoders.\n",
        "\n",
        "![image.png](data:image/png;base64,iVBORw0KGgoAAAANSUhEUgAAAPsAAAD3CAYAAADbsCLdAAAAAXNSR0IArs4c6QAAAARnQU1BAACxjwv8YQUAAAAJcEhZcwAADsMAAA7DAcdvqGQAAC+8SURBVHhe7Z0HfBTF28cfQqRDACGAAtKrAiJdilItICAIgqKAIChFwEJHQOofBKW8SBNUUAQBlSpNQleSUEJvoWiAJNQkhJbsO7/nZuMRo0JIwmXn+fJZbmZ3b29zt7+ZZ9rzpCEiS22CIDgcFrvClRMEwbF46VdBEByO1OypiEuXLtFOf39O44crULAglSxRgtKkQU4Q/p07xO7nt4mCgvZy2tvbmypXrkJPPVWR805h37591KhRI8qRMydZsbGUKVMmGjhwEDVr1lSf4bls3ryF7/P111+nWHXvfn5+9PTTT9O0adP0GZ7Ptm3b6Mcff+Q0Cqknn6xIrVq9Ql5eYmQmN3d8wz/8sIh++eUXeuihh+jatWvUunUrmjlzpj7qDG7fvs1/376gINq/fz8L5bXX2tLly5f1GZ5Nvnz56PPPP6fJkyfTpk2baNasWRQWHq6Pej67d++mwMBAqlu3LhdUM2fOoGHDhumjQnLyt+K0UqVK1KVLF+rTpw+NGjWK5s2bp484k6eeeooyZMhAoaGhek/q4ebNm1xwpVNbauKRRx6h5557jl566SUaMGAgLV++XB9xLqg833rrrbitb9++dOjQIX00ZfhH2wmm/dGjx6igahc6jejoaFq1ahU/ZL1VoVa5cmUqVqyYPurZ/PHHH9S2bVtq1bo13/fkKVPIx8dHH01d4Bnbvn07la9QQe9xLiiYv/zyS+rUqRNvjz32GFs2YWFh+oyUAW12pnv37pYyE62KFStaxYsXt3x981jq4dJHncGuXbusbNmyWb1797Z69eplqZrd6tmzpz7q2WzatNkqUqSI5e/vb+3cudPq37+/Va5cOSsmJkaf4flMnTpVff8+VqlSpS1VkVg5cuSwTp48qY86l0uXLqFjTOdcPPnkk5ZqNutc8vM3sQ8cONCKjIqywsPDrZYtW1o9tBA++eQTfgXffPONdebMGZ1LXUDsqlTVOcu6evWqlT59euvPP//Ue/4dZY5ZFy9e1LmUBWIvW7aszlnWrVu3LC8vLyskJMTat2+fpdrD+ohlxcbGWgsWLOA0HjRPAWJv164dp3GPgwcPsdq0acN5J2OLHQXz7du3rYCAQCtv3rwpWpn+zYxHGzBzpkz08MMPK3PxNdq9axfvR2eQzZ49e0iJhM0wVcPQ4cOH9ZHUR9asWXnD3wPOnTvH7Xclfs7jbzx27BhFRUVx/ueff6ahQ4dyG+xBgxETb/V7Xb9+XTW5jnKHI+5bPVB8vE6dOnzsnXfeoRs3bvA+TwK98XXrPhv3/HTt2pVfnczjjz/OW+3ateiNN96kRx99VB9Jfv51vCNDhvRxDzV6qyF4bGg3gpEjR9KBAwdo4cKF9O233/I+TwcPGAo0dwoUKEBHjhyhDRs2UIcOHbmnu2nTpiz0Dh070tdff82dScqaoY0bN3KP8qlTp/S7U448eXypefPmOufiww8+oCtXrnAav4OyuriDFff+4Ycf0k8//cR/29q1a/kcTyNdunQUERHB96ssJlqyZAlNmjSJCyf7njGCsnXrVk6ndqCXgwcP8m8yffoXcQXd9OnT6YsvvqDvvvuOIiMjeV9C4L12RXSv3CF2POD169fXOaLq1avTq6++yl88aogTJ07wZg9TrVu3jjsY0JuNhyw1UL58ea4F3cFQEMT81Vdf0YQJn5JqslDmzJnpvKrhL164SMOHD6du3brzD6GaNlxjli5dWr875ShRogTfmzsjRoygCrqDC79fv379KEuWLDwBB7Rq1YrKlClDjRs35vyDpkGDBvTuu+/qnGs0BH8TOk1hVaGmwzZ27FiaP38+P3fr169PNUOjdwtGJIoWLUqnT5/mPJ496A3zDaC5+KBTD6DQw/OLwtEdzLuIT/x9d4gdQkcPoU327NnpA1VzqDYtqfYFtW/fnjeYIQA9ivjhunXrRnPnzuV9qRn0mOJvjUN9n/bktNQwSQ2FLkBtqdrznAbxH4wHSfHixalatWo6R/x9t27dmic3wcKqWrUqvfzyyxQQEMAF1MqVK7mGb9iwoX6Hc8DfDGsGoIBGRYTCGYVejx49+HdD8xJCx/cxdepUPheF4EcffUQ9e/bk/Mcff8xWHEZpUOuPHj2aBg4cyM23OXPm8DngX834/6JkyZI0e/ZsGj9+vCPGStu0aUO9e/fmLw8WC8xmH5/sPOljypQpXOKi0PNTTRm04z2NNWvWcC2IH9zX15f3odmCvwUzBz0dPPjob8ArKhqIHWY9CoT4Ta/UBixF/DbuYEIUBA5g1kPgLVq0UG35N9iKg8W5dOlSev/996ls2bJcqQIUfOPGjWNrB5bB+fPn6dNPP2WrDhOu0L/UrFkzbhag2emOKkD+m7Nnz3Lvryp1LHUBa+3adfyqTFseCkpNwz8JgZ5h/H3qy7NUU8WqUaNG3P5Dhw5Zql3JeRAcfNJS7Sqde3C4jwrg91E/vqUKXevChQt836p9yMf2799vqRqS054MRoIGDBhgqULVCgoK4n2qVrN+//13TjuZunXr8jOFnnqgBGwp8VrKsua8qrX5debMmZafnx+nVaHAIzCDBg3iPLTZsWNH/h5PnTrF+3COzR1z4+8VlMLqwWKz49Kly6qNgF7gNOqCsVyj4LKuOc8WpU2blnLkyKFqyzyUM2dOznsaISEh9N5773EfBUpRzKH3ZFBqP/PMMzrnPE6ePMlWIzpM8Tw5GdTWsMzc6dChA5UrV46tTViV+C4wGQxNIfzu7dq1Y+sA/UioxdHuxzGMlsH0L1SoEJ9j96fdl9jvBZd5dkmZlKEUHh6uCgZ8putz8fH4Lfk+VMJLbRj6gymK1wddMKD9i15Uu30FMOxVpkxZdX859Z6UJzWLHR1vx48f52FO9BOhnyE+6JVv0qQJFS5cWO9xLhB6/H4JdAxDtOjMQ689mjToSIYm0JzEyFjt2rXZlMdIDDqNX3zxRW7foxmAIWUslkKHMkgxsd8L6EWExYC2CF5RUKRJ47IQ7FddOjwwiwGdeXYBgFoHm7f3Q+oLL8U/RkoAseOH9MRaD88UhpAwemOPDADsx5YhY0YqWqQIF+hOr7UTA/qN0FehmjV6z/3jkWK/F+wOHdQQFy5c5KaE6+/hPy2uUABpVJMid65ccQVDUi+rdLcA+BPxUGfIQE888QSXsknN5s2bqUaNGg/U8oGg0Vl5UQvaXbb4m4soQaMwNkHQ+P2joq6p7ySCO8kisek5BPxMqu+gVMmSvHLxQZDqxX4vxCiLITwsXFkM6GO45PoB8BXwt4AzdF69omDIkT071zy5VAEBsz0xwFzdGxREUZFRutxxFQDoXc2WLZs+K3EEBATyAh4fn/u7zr+B+8V3hRoak1/cRYuvD73MxYoVTTWCxt+DSToQI4a1ML4fERGpfqdo3g/wd8Q9DngW+O/6qy/KnVh1PWXXqZTLysT3gWE0bHYalYonfDd8l66HXnAHTQk85LAY0MfgehBcP6o7+OrSpvWinGhH3WVTIjr6Ok9tdU3RdV0vozJrMX/hXiwA1Kgw9TA+fT/g98cwDiZr2LO37AcefzH+JtTQeHBT6qHFPeE3wAzOSFVQ4r6ioiK5trytalAcx+Zq1vE79Otf944fx/1+Xee7ZlBCiPiu8b1nzZqNMmXK6DGiTC746cWXICQePJQw3c+fR1PiAjclXPDXyyl8xXiO8DBBPLbFYBcMqGFQAKCWsd+TOXMWVQCU5ckXCWH3aWCG3H+B3xjnBwcHs7XBN6PvCfeZPbsPWwkQ9L2CghD3f+UKakqIU4lSbWhiAfzN6JC1/37X4+b6G21x8TOo0q6cCwg5S5bMLEzXpmpLlU9t6/c9BXy3IvYUxFUwXKLzoUqo4eh8dJmOdmEAbAFAQJggg5oHBYS3d1qujTAKgJoIot21axdPswT4HWGJwORmQfM+/p+vmTt3bsqbN58SJ9qWUbyh5rQXyeD9LjGiVnWvFf96PlzH9bleruPeqsBCDYlmiS1MFBooyP66hvCgwS+hfjcRuyfCnY+qKRHGTQlYDLGq5r/KnYBo92MOOWbHwZTHK0QLQcPkTpcuPQsNWuPfVyXSKjMVooQQYS2g4MArhr1ElM5HxC4IhiBiTyYCAgPpsqqVH+SwWEqCTi/3RVSC5yFiTybgMhmuuB96KHFDdqmN3377napWraJzgieStLNKBEHwWETsgmAIInZBMAQRuyAYgojdg1i9ejWvW8ZaemyY7XY/3EtYJbgbw9JIAK9DCGggOAsRuweBqa/PP/88+xrDhmg8mEK7YsUK9nwLMLEGftmWLVvGk2WQx/HFixfH+Z2DOyMUHJhJB+B9Fn7LduzYwXmsjYYbJIwY2Jw9e5aXVeKa9iIRwVmI2D0MCBJuufGKKa9wQIjwTnBcgKmx8CaLBTqYRgsnn6i9IUzMhIMDQixmQbBKzJT7/fffuTBAbLFSpUqx40YUDHBCCK8nWKnmDhxBphaX4MK9I2L3MOBoEZ5J8AogwJo1a7IXE9TUv/32G7322mv09ttvs1tmFABwlAmLAP78UaPjOJxawE0zvMFgP0SOJapweAF69er1N3fY8EYKN0ewMATnIWL3MFADw9UUXoHtVRVz11FL4xVz5uEpxzbTsR9gP2p0mOHArvHhV37IkCHs5qh79+58DItV4oPPgg93RO8VnIeI3cOAa+6OHTvyhva6LWS7fd6hQweugbFhAQzOg+9+hNhGkAi4Ip4xwxXzHOY+FstA8AhZhffYfvT+adYkrAj4fROch0yXTSaSarosfhvU5vZvhDTMcThasGtn1OSo1W3PN1j9hjxEbgPTHKvcEnLsCLAm3V6SikIFn3cv8/pluqznIzW7hwPx2a92GqJ1N8ORdndxhRrfXegATjD/SegAbrfs66MgMWUBj0mI2AXBEETsgmAIInZBMAQRuyAYgvTGJxOYvYZec1M6uuAJtk6d2joneCIidkEwBDHjBcEQROwO5Ny583Ez5QTBRsTuQBDqeNGiRTonCC6kzS4IhiA1uwM5deqUMuXP6ZwguBCxOxC4lML6dUFwR8x4QTAEqdkdyNFjx9g7jSC4I2J3IAsXLqT12kGlINiIGS8IhiA1uwM5cSKYQkJCdE4QXIjYHciyZT/Tli1bdU4QXIgZLwiGIDW7A9m6dRsFBQXpnCC4ELE7kIOHDtLJk6d0ThBciBkvCIYgNbsD+fXXXykgMFDnBMGFiN2BnDlzhkJDQ3VOEFyIGZ+MwIFEbKwZ32369Ok4eIXguYjYk5F58+ZThQrldc7ZYFntiy++qHOCJyJiT0Y2bdpEtWub4XEVoaSrVq2qc4InIm12QTAEEbsgGIKIXRAMQcTuQVy5coUOHDgQt127dk0fSRz3uvINQ3Z+fn73/bmCZyJi9yCWL19OY8aM4Ukx2K5evaqPJI7+/fvr1H+zdetW+uSTT9jDTYsWLSgqKkofEZyC9MYnI/faGz9//ny6ffs2vfnmm5y/ceMGffbZZxwzDrX+uHHjeLLMxIkT+djQoUMpOjqa8zExMdSlSxcqU6YMDRs2jK+za9cuWrlyJa1evZrWrFlDGTJkoMGDB9PSpUv5OtmyZaOOHTvyZy1ZsoTq1atHPj4+NGLECKpbty7VqFGDj90N0hufOoDYhWRAmcQ6dXfMmzfPqlOnjtW5c2drzpw5VmRkpFW9enVLCZfzq1atsl599VXr/Pnz1okTJ6xp06ZxPjw83FKmt9W4cWNLiZv3K/Hze3GNli1b8vVV7W2NHj3a6tu3rzVjxgzeFx9VsFjPP/+8pWp2vefu2LFjh04JnoqY8R5Ghw4dSAmR2rdvz/ly5cpxJNiHH36YlHDZtPf19aXChQtT165duX2NYxkzZuTzDx48SE888QR5eXlR8eLF6eTJk6QKBxo+fDitXbuWihYtyuc1aNCAX93BjL9OnTqxBZEpUya9V3AKInYPRxXIOkUUGxtL2bNn5wAQx48fp5kzZ/IUVYgZBUGaNGmoVKlStGfPHrp58ybt27ePHnvsMS4MBg0aRK1bt6YcOXLoq90JCok+ffpws6Fs2bJ6r+AkpM2ejNxrm3379u1cq0O0oHv37rR7925uVwcGBtKtW7coX758NH78eK7thwwZwh1pEyZM4Db7O++8QyVKlKCPP/6Y3583b17q1q0brVu3jpYtW8YFAzrt0I5/9tlnKVeuXHwemDp1KseUt+nRowdVqlRJ5/4babN7PiL2ZESmywqehJjxgmAIInZBMAQRuyAYgohdEAxBxC4IhiC98cnInDlzeJw7pbl+/ToFBu6iGjWq6z3JT1TUNWrSpLHOCZ6IiN2BYBwd4subNw/VqlVL7xVMR8x4h+Hnt4mqVatGvr65KbevL8+iEwQgYhcEQxCxO4gLFy5Q/vyPUs6cOXlOfamSJXnOPNrwgiBidxBY8GKvanN1xxCb9FjHLggidofi5eUSuyDYiNgdi4hduBMRu2OR4VThThw1zh4eHs5LLW2vLSYDBxbly5sReio+cPJRv359nRNsHCX2EydOsFOHBzFrzdOAd1o4qDCRDRs2sMNM4U7EjBcEQxCxO5S0ab11ShBciNgFwRBE7I5FeuOFOxGxOxT0SAuCOyJ2QTAEGXpLJPisU6dO6ZzngYisBQoU0DnPJVOmzFS1ahWdSxpk6C1hROyJBD7h4RjCDuggJI7k8DcvYk8YMeMFwRBE7IJgCCJ2QTAEEbuHsXPnTg6zHJ/PJ026I/BiTEwstWvXTudcIBIrgj4ePXpU7xGEvxCx3wWHDx9OMceN/fsPoElK2DboPMWYeej58xyxFSBvWbEUHBzMeRtEe33mmWc5uqs7iP6K99y4cYOvZ4PIr/E7Z5G399tj9a7Pk0k6qR0R+11QsmRJeuihh7iXNzlBjf7YYwV5eSoEd/v2bWratBl16dKFVq1axeesXbuWGjZsSN2794gTo42Pjw/t2LGdSpcurfe4GDVqFL311lvUtWtXvhaE2/ntt6lz587UvHlzunLlCvXs2ZPeeONN2rJlK/eOf/RRX6pWrTq/4r14n5C6MVLs51UtaZu6ISEhdOzYMU7/8ccfcbXl6dOneQM4niNHDqpQoQJNmzaNHTsmB/Pnz6dWrVrxkB6GpLZt20ZFixahmTNnssDBxImf8XmTJ0+iNGn++vlQayP++pQpU+j999+nrVu36iMuWrRowUErEO/d3z+AvNOmpS+//JJeeukl+vbbb+nmzZvUq9d76rNrkre3N/3vf2Ppvfd6UubMmfh9QUH7pHZP5Rgp9vXr18eZyitWrqQvvviC0z/++CMLACxYsIA38MX06TyuDq+tq1at5rXiSQ2EtHjxYi5MIHLcy9WrEZQrVy4+jvkDIDIygu/Dy8tLiZ13MYt++IEqVnyKpk6dSt26daMxY8fqIy5wPsDn4BrZs2fnPAqxiIgITkPkwHXtNOwExHYEkjatl4g9lWOk2Nu2batqxsmc7typE3dqge7du9Mnn3zC6Y8++og3MH7cOK4ZN2z4VdV4/6OWLVvy/qQkICCAqlevziL/5Zdf6OChQ8qMrkpr1qyhpUuX0uYtW/i8F154gYYPH64KqOlKlK4CADzx+ONswsN1NPoXnnjiCX3k71SpUkWdu4OvO0NZDU2aNNFHBKejCmxncPz4cUu1e3UuYVRb2FLtX+v69et6z3+jTGRryZIl1sWLF/Uey/Lz87NUm1nn7h/VZLBCQs7qnGUFBQVZN2/ess6dO2cpq4L/Lnw+PlOZ+JZqhlj79u/XZ7tQTRJLWR1WaGiotXnz5rj7U00TKzw8nNP+/v78qpoilhK7deLECc4fPHjQUjU8p3fu3MmvqrkT933ifUn599qoQkenkg5luemU4I5x02XR6ZU+fXpuq+fJk0fv/Xf2799PpUqVijOlgUyXTRpkumzKYZwZj/bo7NmzKVu2bHrPf1O2bNk7hC4IqREjxd6+fXvxQCsYh5EddIJgIsa12TFZBS6W0euNIazEgjZ7FdXWTMNfoWcSEvInPfLIozrnmQQEBlCN6tV1LmmQNnvCGNlBV6RIEQoICKTcuV1j2IkBs84wF91TCT55kjarAqlMmTJUqVIlvdfzQAz5our3SEpE7AljnNhN4Nq1a2x5ZMiYkTJnzky5c+WmQoXM+U5E7AkjbXYHsm3bdmrUqBGnK6ta/dChg1wACGZjnNhhxQQFBdGtW7f1HudRr17dO8b/IXzMLRDMxjixo4MOC1ouXkyexSyeQPyJPsjLPAHByHH2oUOHcltWEEzCSLEPHjyYsmTJovcIghlIB50gGIJxYod3lwEDBlBEZKTeIwhmYKTYx44dS9e0PzcnE3PbuSMOwr1jnNjRKw03U7YHGEEwBePEjmGowoULy1CUYBzSQScIhmCc2LEQBs4WQ0ND9R5BMAPjFsJgBt2LL75I3333HXtWTSxYaILvzZPdUqEzEvMKPJnLly+zO+ukRBbCJIyseksk4oMuaRAfdCmHtNkFwRCMEztM2xUrVnAEFUEwCSPFjjYi2oqpnUuXLsV5y9m7dy+br8nJ9u3bdUpIjRgndnRYIcTTvbiSTk4g0Pr161OnTp14O3DggD7y3yC67KxZs7ngevvtt++rw/Fu+ODDD3VKSI0YKfY333zTY1xJR0dHswPMWbNm8QafcRD8mDFj4mptRHdFHuGnwJ9//slTfhHCCXy/cCFbLIg0e/XqVZr42Wf0/fff82gBAlygMxFRYBctWhTnvAOzCK9fv04//fQT71ugzp8wYQJbC+Hh4bRu3ToO+Ijrzpkzl+8t5nYMf56QOpEOOg8A4l6ydCnHeEOEWMScQ0w3hFhGYfDGG29wHpFbEX0W+aeffprFCkqVLEm5c/tSvnz5OEb7kxUq8DVnzJjBQSLxilmDiBt3SFkDU6ZOpalT/4927tzJBQbMc0SwLVGiBMe3Q2HSv39/fg+sILi1Kl++PIWFydyE1IxxYsc4O4IeetKkGkRPzZA+PaVTW2BgoKpZL3CUWdyrv78/nT17lvMQ94kTwfxas2ZNeuaZZ/j9GGrMkSM7Pfzww0qoIbwfMdXtNny9evU4fBUKjPWqxsYioJMng2nz5s28r2DBghQeFsZ5+3t58sknOdAkCgtYQpUrV6a8qjARUi9GmvGo2Xx8fPSeBw9qVIjuWSVSxJ8rX74cm80ILV1C1dpFixblGO3wdd+gQX26desWFwQJOZHEuL+rUDhBjzzyiN7rAqJHjV6nTh2qpMSL60HQiEwLP3WIlBMfFCAobGDOw8oQUi/GiR1iqFO7tsc4YEShA/PbBlZHiRIluTbt168f+ebOzSGV27VrR507v82dcTC10SGHdnX+/PkpXbp0bHKDkSNHsGhROPTt25dX90GwAJ2S1atX49GIV1q25ElBsCpeeqkpjRo1iqZMmcKdfJkyZeLaHvTu3Zu++vpr+khd69/CQAuej5HTZVGTwjy92yiuCSEz6JKGBzWDDs+Be5APWEH3EyEIGoKFhAL2v8C558+f576RihUrptgzZKQZv3Tp0vv6YYXUT0REBLVp05YLG2yhYWH6SOKAgJctW6Zz/w7ORTOtRYsW3DxKKYzsjS9WrJisZxeoQIH83JGJDSMarVq1oiFDhvBCqdWrV/MKSTSXMPrx8ccf83vQ3EETq0OHDjwL098/gPtbevTooawFl3CHDx/O78FoCoT98ssv8yjJlatX+TgqnEGDBqnPL8D5lMI4saMkRdv13Llzeo9gKvv27VNi7sLbzZs3+ZnAkOPEiRPpq6++4mnV6BP5+uuvuW8Fxw8dOsTHypUrR99/v1CJfyRNmjSZ5yjAHMdEp19//ZV69uzJ8xV2797Nzcvp06eTzwOeyGWkGR8VFXVHp5hgJo8//jjNmDGdN3RyArxmyJCBxQ+x2s8JOirROerr68t51MqYdxCmzP+CBQvwhCYvrzQUpt6DZwxDppgZifNxDNuDxrgOOvytGEtGL/X9mPIYD8dsM0/uoDty9CiVKF5c5zwTmL4YTkxK7qaDDsJ97rnnuFMNILJv27ZtuVZGxxnEjVmLvXr1YtMeZvfy5cupWbNmNGzYMBo5ciS/YlZinjx5lQXwKI0fP57NfzQDkMYEKLTLa9euzROY4oMO3o0bN6ZYk9LI3vhMmTJTcPDfx6GdBExUmKFVqlSlZ591Tb4xhbsRO2puTAe2QVjrM2fOcAEAyw/ixDTmXbt20datW6lx48ZUqFAhnroM0VerVo3fg3Y9OuZcw5tplLBr8Tn47nE+2vNI4/3xwRRmfF5KVRhG1uzY8AV7cq18P8D8xLDS7dsxygzNyw8kTFZTuBuxm4iRvfGnTp3iGt6pHDlylE1Ey4rlabJobkRKUAzjMbI3HvO+0bHiVGrUqM6vtuUC4UtsO8E4scPMR+eMCb3x6BUWBBvjnga01/fvP8CLSZyOM3pihKTCSDP+ueefowsXL+o9zkWcTQjuGGnGnzl9mvLexyKY1IPU7cJfGN2ow5BUcHAwpzHuil56gDnPp1WBALA2PCQkhNNw+YTVSgDtfncHGLgOmgZoJmAIEL39SCd0zejo6zymC7AmHZM4bJC216kndE1YJkhjH/JIA/e/xUba7II7Rj8NECuWGIKTJ0/xTCcAl06Y6ggwUw6LGMDChQvpgw8+4PTcuXNp4MCBnAaVK1eJKxQwb/qiaibcuHGTPcoA+IJr0KABpwMDA+KioGzZsoVnbtm0adOGJ3EAOJjANSFsXBNDaCiUSpcuzYUA8mXLluVz4WACkzzcEbEL7hg3qcYk/Pz82CuNacikmoSRot/BpORaacHzEbE7GKdYbELSIGJ3MNJmF9yRp8HBOHWhj5A4ROwORsx4wR0Ru4Nx8so+4d4RsTsYr7TiVFP4CxlnTyRwELFq9WoqmMIeQp1GSMhZatPmVZ1LGmScPWFE7IkE02Axiw1uqYXEg2AdNWrU0LmkQcSeMGLGJxLMRU+fIYPOCYlFmhoph4g9kWCO+kPe3jonJJZY6URMMUTsdwEc/WPFmzvXb9xg/+JJDbyawjtpfD6fNIl+//13nXO5YEawR3fgZNJ2YZxakJo95RCx3wXly5dXgt/DK9dsoq9dS3Kxo++kf/8BNP7TT/UelwWBlW+h58+zi2OAzsHIqMi/LWnF6ryGDRuyn3N3Lly4wO9Fn8atW7d5H+bN//HHH3x9AIeUSCMsM1YDIo/34Z7w+Wi2JAeWzN9PMYwUOx5ibAARPLAcFeAhx7JRgHXrV65c4TSWj1auXInFjWWuWON+Sz38dhSRpAI1c+nSpejI4cMsPHwOltrOmDGDli9fwecsWLCAOnfuTMOHDaOYeEJ55JFH6ZtvvmEHk+4gFHO3bt04jFGrVq+wcJs3b85hnRHQAGGNsHQXhQWW96LAQDijpk2bUSf1Wf/3f/9HLVu21FdLWmSWX8phpNghWrtWzuiWRlxyO2470raYM2fOzL38f6oaDpFDkEZbMykfVNS0CAYIxxW5c+emvv360YYNv7LYhw4dSo0bv8jnffHFF/Tdd99xJJO0bnPf582bR1WqVFYCbcrr4V9+uYU+4gJBC3Ed1OboAS9ZsiRHNOnSpQvNnz+fz0Hc96eeeor/dlgHffr0ppIlStCIESPYmpBVdKkbMeMFwRCMEzvcQ8FURW0N4E8dNVn8dNasWSljxoycRg2/fMUKqqDa7vAG4wri55WkNfumTZt4bHj27Nlc0x4/doxq1nyaY4EhqiiOA9T+7777Lg0f/om6L5cVAqpXr87OKgICAtj9FcIR/xMIXRQUFMTXhaXwyiuv6COC08GkGkdw/Phx6+TJkzqXMCdOBFvKbNe5u8Pf39+KiYnRORcbNmzQqaTh0qVLVkREhM5Z1vnz5y3VtrZUu91S4rWuXr1qKROfj6k2tnXlyhU+x53o6GgrODjYUu19flVmN+/HtaOiojgdEhLCr6rQs3bt2sXXAaGhofxZQJn6/BoZGcnvBdhnXy8p2bp1m04lHevXr9cpwR3jZtCh0w21Z58+ffSexOGnato62medkHh2/PYbVataVeeSBplBlzDGmfEIqn+/QgcyGSRpkKG3lEM66BJJmjTy1SUF4k0n5TDOjMf4+ujRo3mm2f2wfft2ir5+Xec8k82qqVGzVi2PHsvOljXr31xg3y9ixieMcWIPDj5JZcqU5pliTuY31Rbes2cvFSxYgAP+m4SIPWGMs6EwJHXs2DGdcyYYesPwYMmSJTg+u7+/vz4imIxxYvf29qZHH31U55wHpsJi2q0d6aZQoUIUqyy30zrclGAu0jviMLA4Jr4JW6VyZTqrQ1MJ5mKc2LF81Mcnu845j+LFi7MJH5+qSTyWLaQ+jBM7psA2aOAK2igIJmGc2PPkyUM//PCDzgmCOUibXRAMwTixw2PL4sWLdU4QzME4sYeGhtHrr7+uc4JgDsaJ3dc3N7tnEgTTME7scFohzhoEE5EOOkEwBOPEDk+qzz//vM4JgjkYt+oNi0QQWwxeVu+H9evX8zx7Twar3sqXL6dzngn809erVy9JffDLqreEMU7sScWvv/5Kzz77rM55JnD97OnOIRB4I3/+AuTjk03vuX9E7AkjbXYHI15gBHeMexrgSnrXrl06JwjmYJzYEfw/qeOBC0JqwDix58yZg8aMGaNzScuJ4GAOseTeB4I4bcePH9e5O6lTpw6/hoWF0a1bt2j/gQMJ+sZDCCh0ZCUGfHb8aK/xQaw7200XgjjeLfb7EJNu0KBBeq/gqRgndriSfu+993Quafnzzz9p1KhRHHYZRERE0Pvvv889/5cvX1aiuMH7ETQSoAMNYunatSuHYy5WtCi99dZbfMwdnIcYcBCuXZAg8OORI0fioqvGxMRw3i4UcB46LLEWAO93B595+PBhLmBwHQh12bJlLF4EeowLeqkKoT/U3wRw//C5D5deeL/7+7B+vlevXnwehG9fG2D0A/fgfu/Cg0F6cJKYJk2a0Ny5czn9/fffc7hnAGti505XfPUWLf4KuggxQEA//vgT7d27l4MtJsTkyZNp5MiRHNARhQg+BxFlX375ZRZRi5YtVX4RO5eEWIcPH05jx46lzz7/XF/BBQTbuHFjXuaL+QYQND535cqV7DEXeYSRWrVqFYeZGjxoMM2ZM4d++uknDj2Fz2zQoMEd74OYUYAiAq7r2ou50EAB1aFDB7ZW4NEX9y48OIwTOybV4IFNLgoXLswRTyGAn1Wt91+eXRFNFQVC165d9B5XjYqwzNggGNC3b18aN248bd68mX755ReurRFxFm6oEFJ6mGo+FCr0GFsuqEUhVsRxGzhgAL/fBtOFUaDkz5+fTfYcOXJSzZo1qX379ixQ+OdDAYLCBV5vihQpzIUWaNSoEQ1Q18ucOQs7AbHfZ3vG+fnnn7kgGzhwANWqXZvWrVvH+1EQoLCz49UJDwbjxH5R1T6ouZKT1q1b0+DBQ6hsmTJKCK6wz2m9vdnUvhty5crFbX1sdnBJ4O2dlmtxbCggmrz0Ei1SNTSuC0HB/zpEDGv5n4bd8LfPmjWLhYqCQRn8rgPxwGc0btyEXmnVSt3HTL3XhZdXmn/8W2wf9WnUP3ezHfvjNyeElMU4sZcpXZqmTp2qc8nDS0qECxd+zzWzTZ3adeizzz5j8xpmuDv58uWj2V9+qXMuYbhv8WnYsCEPH65Yvpymq9obs8/QpkYMO9T8sbExfA7a0VOmTNHvcgFrAG153Av88aHNj8//Zt48Tnt5paXVq3/huO0TJ06gH5cuVTVywoUj3oe48Ha/AZoWixb9wOb6xo2u2PKCZ6EKYGegzNf/jOKKaKSqDapziWdDAlFco6OjLdVe5rQy5flViZD3A0RjReRVRFgFyvzmV0RdPXz4MEdRtd/vDs5DFFlsiOAKcG5QUBBHdwVhYeH89+P6dmRWvA/nqWYB521wH4jmiu8K0Vxx3YOHDvErPt+O9Hru3HnrkN6PCLP2Z+EelMB5P44jjSiwAJFm9+3bx9cF9r3jHPve3cG5ly+77jepkCiuCWPcdFn0FM+cOfO+wz+lhumyqQGZLptyGGfGo0PsfoUuCKkR48R+5swZ7qUWBNMwTuzXb9zgyS+CYBqyxDWRrFmzhp6uWVPnhMSCuHTFixWXNnsKYJzYMdy0ZMkS6tOnj96TONCxFH8IzZPAtFlYMOij8HQwPyApHYGI2BPGOLGfOBHMY+D9+vXTe5wHfs9FixapWvOQKtR6U9asWfURMxCxJ4xxbXZM/3Sy0MHGjRt5/jq2tWvXsfgFwTixY974JyNG6JzzwMo3zGzLlCkTYfJdo0YNafXq1fqoYDLGiR1twyyZs+ic88BCnFKlSvE8dEy1xcIXcdYhAOPEjvZ8796utddOJKHY7K4FL4LpGCf2o0ePilcVwUiMEztWiBUoUEDnBMEcjBM7hI7lm4JgGsaJ3Z2AgMC4efJwyQT3SwAOHubPn8/ptWvX0vLlyzn9zTff0JYtWzg9a/Zs+u233ziNySvDhg3nNDzHjBo9mtNYYTdjpsvxA4bD5n/7LadxTYyDg+XLV7CHFzBu3DiaPn06pwcOHMiz9ED79h1o69atnIZjDH9/f043a9aM9u3bx+mGDRvxhCGbmJgY8Rsv3IHRT0PGjBkoZ86cnMZQVY4cOTiNHuzs2bNzOkuWLHGTUrAP54Gc6lw7jR7+PHl8OZ0uXTryzZ3blU6fns8DcOWUXXeU4Zp2p1m2bFnV5poqCvHC6QR47bXXqEKFCpzu0aMH97CDDz74gIoWLcppzBcoWLAgpz/+eAjl1p8LMLaekOMLwVxkbrxDwVTeQ4cOUeXKlfUec5AZdAkjdp4gGIKIXRAMQcTuUGQ6vBAfEbtDiYm5zZ5kBcHGUR10GPYKCAwk39yunnGTiYiMoNDQUCpaxNVzbxKnz5ym1197TecEG0eJXfgLhGKCv71y5crpPYLpiBkvCIYgYhcEQxCxO5RYmUEnxEPE7lBiY2J4NqEg2EgHnUNBsEUshpHhN8FGxC4IhiBmvIO4ePEinTp1Sudc7N27F6W5zv3F9evXeaGMYA4i9hRi5KhR7BILQJQ9e/bk9P2wadMmunr1qs4R7dixg+bOnatzLhCvHWAN/NmzZzkNkB6RxF52R+t1/IJnImJPIU6fPk3R0dGcRnsaLq0BJr7MmDGDgoKCOG9j74eDDLsGxtLN2bNnU3h4OB/v379/nMMNm4uXLtGsWbN4uS8oVqwYXbhwgYYOHUqTJk3iz7ZB7f71119zoXHr1i1at24d78d79+zZw2kUEojY8s4771Dz5s1p1apVvN+dDh068CsKG1zn5s2bnAf4DPszkUY/Al6FlEfEnoJAOPBYs23bNs4jRNPrr7ej0qVLU+/evVnENl27duXQTZOnTGEvOosXL6ZFi37gtfqtWrViX3pwspE3Xz79DhdBymwvXrw4tW3bloU3ZswY9jgLBxl58uS5YzgOXm7gevp//xvH4h47diwLc8KECTwDD8Al9TPPPEPTpk2jr776is9BXHo0Ddq3b8+FBayHZcuWUVRUFB9/4YUXuDkBzz5wvAHvOiiw4Hhj8ODB7JgjoUJDSF5E7CnI2bPnuEa2o8ju2r2bwsJClen9Fdd2x465avtr166xN5s6depQPe2EYcWKlcr070H169cnX988fH7evHmp0lNP8XEbvAdb2bJl6fDhI7wPnnbg0Qaeb9yH41Bj16pVS9XM7eMcPmz08+NCqXbt2vosl1Wyfv16mjp1KlWtWpXfh3PCwsLojTfe4M9q0qQJFz7w3NumTRsuPBYsWMDWCQRuNy9QiMHllu1mS0g5ROwpSJMmjaldu3b0yiuvcB4uqypWrKhM81ns965ataq8HzWxbfLfuHGDX3PlysWFBGpUFBC2K6v42CYyauasWe8MhhG/ow6FCkAfQpYsWdli6N+vP4ve3X8dronrVatWjdvlMNtRYzdu3JiPx78u3ot9KFhgXcCCyZgxoz5KbF3Ef4+Q/IjYU4hcDz/M/ukARACTukyZMuzt9s033+TNFjjEjtoTteYPPyzmfQhsAeeYMIGbNm3GPuxq1qxFw4a7HF0CvO/I0aNsXsPcR22eN6/LzIdQJ06cyOIDuIfIyCj2tAuHl23avMq+7WDlo0Byp0SJEtSyZUs23yFk3DfEisIBoBmCa6BJAODXD/cHsx01OfoQ0ObPnz8/fwcQPkJUCSmP+t0ET0O1ca1jx45ZSrjWmjVr9N7k5fDhw9Zzzz1nqXa63mNZqtlhrVy5UudcrFixgu9LSF3IpBoPZeNGP1q+fBm3s1Gbp8Q8988//5waNWoU58n2n0AnI5of/9SUEDwTEbsgGIK02QXBCIj+H1YJa7mw2VOhAAAAAElFTkSuQmCC)\n",
        "\n",
        "Thus, with the BERT model, for a given sentence, we obtain the contextual representation\n",
        "(embedding) of each word in the sentence as an output. Now that we understand how\n",
        "BERT generates contextual representation."
      ],
      "metadata": {
        "id": "bt-LnOUCVV_9"
      }
    },
    {
      "cell_type": "markdown",
      "source": [
        "Configurations of BERT\n",
        "The researchers of BERT have presented the model in two standard configurations:\n",
        "1. BERT-base\n",
        "2. BERT-large\n",
        "\n",
        "###BERT-base\n",
        "BERT-base consists of 12 encoder layers, each stacked one on top of the other. All the\n",
        "encoders use 12 attention heads. The feedforward network in the encoder consists of 768\n",
        "hidden units. Thus, the size of the representation obtained from BERT-base will be 768.\n",
        "\n",
        "![image.png](data:image/png;base64,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)\n",
        "\n",
        "\n",
        "\n",
        "####BERT-large\n",
        "BERT-large consists of 24 encoder layers, each stacked one on top of the other. All the\n",
        "encoders use 16 attention heads. The feedforward network in the encoder consists\n",
        "of 1,024 hidden units. Thus, the size of the representation obtained from BERT-large will be\n",
        "1,024.\n",
        "\n",
        "![image.png](data:image/png;base64,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)\n",
        "\n",
        "\n",
        "#There are two steps in BERT:\n",
        "pre-training and fine-tuning.\n",
        "During pre-training, the model is trained on unlabeled data over different pre-training tasks.<br>\n",
        " For fine-tuning, the BERT model is first initialized with the pre-trained parameters, and all of the parameters are fine-tuned using labeled data from the downstream tasks.<br>"
      ],
      "metadata": {
        "id": "36nKfV1jXIko"
      }
    },
    {
      "cell_type": "markdown",
      "source": [
        "###BERT Representations:\n",
        "\n",
        "![](https://miro.medium.com/max/700/1*CH59pZUmsG-AfgPrHp7lrQ.png)\n",
        "\n",
        "we’ll have a quick glance through the input/output representations used in BERT.\n",
        "\n",
        "1. **CLS:** This token is called as the classification token. It is used at the beginning of a sequence.\n",
        "2. SEP: This token indicates the separation of 2 sequences i.e. it acts as a delimiter.\n",
        "3. **MASK:** Used to indicate masked token in the MLM task.\n",
        "4. **Segment Embeddings** are used to indicate the sequence to which a token belongs ie. if there are multiple sequences separated by a SEP token in the input, then along with the Positional Embeddings(from Transformers), these are added to the original Word Embeddings for the Model to identify the sequence of the token.\n",
        "\n",
        "\n",
        "\n",
        "##Pre-training the BERT model\n",
        "The BERT paper proposes 2 pre-training tasks:<br>\n",
        "1. Masked Language Modeling (MLM)\n",
        "2. Next Sentence Prediction (NSP)\n",
        "\n",
        "####Fine-tuning on downstream tasks such as:\n",
        "1. Sentiment analysis\n",
        "2. Natural language inference\n",
        "3. Named Entity Recognition (NER)\n",
        "4. Question-answering\n",
        "\n",
        "The Transformer Encoder gives BERT its Bidirectional Nature, as it uses tokens from both the directions to attend a given token.\n",
        "\n",
        "1. Masked Language Model (MLM)<br>\n",
        "Masked language modeling does not require training a model with a sequence of\n",
        "visible words followed by a masked sequence to predict.<br>\n",
        "BERT introduces the bidirectional analysis of a sentence with a random mask on a\n",
        "word of the sentence.<br>\n",
        "\n",
        "#####A potential input sequence could be:<br>\n",
        "`The cat sat on it because it was a nice rug.`<br>\n",
        "The decoder would mask the attention sequence after the model reached the word\n",
        "\"it\":<br>\n",
        "`\"The cat sat on it <masked sequence>.`\"<br>\n",
        "But the BERT encoder masks a random token to make a prediction:<br>\n",
        "\"`The cat sat on it [MASK] it was a nice rug.`\"\n",
        "\n",
        "The fine-tuning task is in no way going to see the MASK token in its input. So, for the model to adapt these cases, 80% of the time, the 15% tokens are masked; 10% of the time, 15% tokens are replaced with random tokens; and 10% of the time, they are kept as it is i.e. untouched.\n",
        "\n",
        "![](https://miro.medium.com/max/655/1*NZ47PkdeO_75LFaC9JP-og.png)\n"
      ],
      "metadata": {
        "id": "pVpdPh50p2lb"
      }
    },
    {
      "cell_type": "markdown",
      "source": [
        "2. Next Sentence Prediction (NSP):<br>\n",
        "The second method found to train BERT is Next Sentence Prediction (NSP). The\n",
        "input contains two sentences.<br>\n",
        "Two new tokens were added:\n",
        "1. **CLS** is a binary classification token added to the beginning of the first\n",
        "sequence to predict if the second sequence follows the first sequence.\n",
        "A positive sample is usually a pair of consecutive sentences taken from\n",
        "a dataset. A negative sample is created using sequences from different\n",
        "documents.\n",
        "2. **SEP** is a separation token that signals the end of a sequence.\n",
        "\n",
        "For example, the input sentences taken out of a book could be:<br>\n",
        "`\"The cat slept on the rug. It likes sleeping all day.\"`<br>\n",
        "These two sentences would become one input complete sequence:<br>\n",
        "`[CLS] the cat slept on the rug [SEP] it likes sleep ##ing all day[SEP]`\n",
        "\n",
        "<br>\n",
        "\n",
        "If we put the whole embedding process together, we obtain:\n",
        "\n",
        "![image.png](data:image/png;base64,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)\n"
      ],
      "metadata": {
        "id": "Q8M892vvY68g"
      }
    },
    {
      "cell_type": "markdown",
      "source": [
        "The input embeddings are obtained by summing the token embeddings, the segment\n",
        "(sentence, phrase, word) embeddings, and the positional encoding embeddings.<br>\n",
        "\n",
        "The input embedding and positional encoding sub-layer of a BERT model can be\n",
        "summed up as follows:<br>\n",
        "1. A sequence of words is broken down into WordPiece tokens.\n",
        "2. A [MASK] token will randomly replace the initial word tokens for masked\n",
        "language modeling training.\n",
        "3. A [CLS] classification token is inserted at the beginning of a sequence for\n",
        "classification purposes.\n",
        "4. A [SEP] token separates two sentences (segments, phrases) for NSP training.\n",
        "5. Sentence embedding is added to token embedding, so that sentence A has a\n",
        "different sentence embedding value than sentence B.\n",
        "6. Positional encoding is learned. The sine-cosine positional encoding method\n",
        "of the original Transformer is not applied.<br>"
      ],
      "metadata": {
        "id": "UL9zEAnDZhRu"
      }
    },
    {
      "cell_type": "markdown",
      "source": [
        "#Pretraining and fine-tuning a BERT model\n",
        "BERT is a two-step framework. <br>\n",
        "The first step is the pretraining, and the second is fine-tuning.\n",
        "\n",
        "![image.png](data:image/png;base64,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)"
      ],
      "metadata": {
        "id": "ZhxeMp3pdwEn"
      }
    },
    {
      "cell_type": "markdown",
      "source": [
        "Pretraining is the first step of the BERT framework that can be broken down into two sub-steps:<br>\n",
        "1. Defining the model's architecture: number of layers, number of heads,\n",
        "dimensions, and the other building blocks of the model\n",
        "2. Training the model on Masked Language Modeling (MLM) and NSP tasks\n",
        "\n",
        "The second step of the BERT framework is fine-tuning, which can also be broken\n",
        "down into two sub-steps:\n",
        "1. Initializing the downstream model chosen with the trained parameters of the\n",
        "pretrained BERT model\n",
        "2. Fine-tuning the parameters for specific downstream tasks such as\n",
        "Recognizing Textual Entailment, Question Answering, and Situations With Adversarial Generations.\n",
        "\n"
      ],
      "metadata": {
        "id": "1zHXBM0TeGt0"
      }
    },
    {
      "cell_type": "markdown",
      "source": [
        "#Fine Tuning for sentiment analysis\n",
        "Let's learn how to fine-tune the pre-trained BERT model for a text classification task. Say we are performing sentiment analysis. In the sentiment analysis task, our goal is to classify whether a sentence is positive or negative. Suppose we have a dataset containing sentences\n",
        "along with their labels.<br>\n",
        "Consider a sentence: `I love Paris`. <br>\n",
        "First, we tokenize the sentence, add the CLS token at the beginning, and add the SEP token at the end of the sentence. Then, we feed the tokens as an input to the pre-trained BERT model and get the embeddings of all the tokens.<br>\n",
        "The difference is that when we fine-tune the pre-trained BERT model, we update the weights of the model along with a classifier. But when we use the pre-trained BERT model as a feature extractor, we update only the weights of the classifier and not the pretrained BERT model.\n",
        "\n",
        "![image.png](data:image/png;base64,iVBORw0KGgoAAAANSUhEUgAAAM4AAADJCAYAAABrGg18AAAAAXNSR0IArs4c6QAAAARnQU1BAACxjwv8YQUAAAAJcEhZcwAADsMAAA7DAcdvqGQAACINSURBVHhe7Z0LuE1lGse/lKlGN0noNu4kw1RqKreMCqkkldKFJKSSmYQkdUgYKZcculBy6YQihJTRUGIYl1IoFFJqptIozYy0Zv1e6zuzHOc456y91z5rbe/vedaz11r7svba+/t/3/td3vc9zBjjuJuiKIVAhOOy70hRlHw57LDDTDFvX1GUQpBQi7Nw4ULz008/eUdKflSvXt1UrFjRO1LiCi1OQsKZOXOmad68uXek5MecOXPMlVde6R0pcSVhU61YsWLm8MMP162Am5I+aB8nhuzatct8+eWX3tE+tm/fbn788UfvSAkbFU4M+eKLL8yyZcvM3r17zYIFC+Tc0qVLzY4dO2RfCZ/YCicjI8O0b9/e3HrrreaHH37wzhqzZcsWc+2115obbrjBzJ492zsbXT755BOzbt06M2PGDPPNN9/IuX/+85/mhRdeMH/5y1/ogMo2b948M2HCBLnXkiVLmipVqph33nnH3H777ebvf/+7qVq1qjnhhBNkwAZ27txpVq5cafbs2WOmTZsmG0JTkkMshfP555+bDz/80IwbN85cfPHFJisry3vGmBEjRpiuXbtKIRs0aJB3Nrq8/vrrZsiQIVKoW7VqZX755Rdz/fXXm9NPP928+uqr5vnnn5fXvPbaa+aoo44yffv2lXt/6aWXzLHHHit9p2OOOUbud8OGDSYzM1NapClTppiPPvrIdO/e3Xz77bdm69at5oknnvCuqiRKLIXzj3/8w5QuXVr2y5UrZ7766ivZBztCyMDF7t27ZT/qXHrppSKa4447zqxevVrurXHjxqZnz54yEscwNmbYihUrpFKw1KhRQ0RTrVo174yRFviVV14x8+fPNy1btjRz584VM473Ih4lOaRdH4eCRa3bpUsX85///Mc7G23++9//iuC/++47U7ZsWakION60aZMpU6aM2bZtmxk4cKC57bbbZPNjKwpL06ZNxUQ98cQTTYkSJcwpp5xihg4daiZPniyPSnKIpXAoDNSeFJqNGzea3/zmN9K6UADZx3QbMGCAOemkk7x3RJupU6eaNm3ayBwP99auXTtz8803mzFjxpjevXubM844Q0y0fv36mU6dOomJxuuOPPJI6duMHz/enHbaaSKU4sWLi/natm1b+WzM1Y4dO8pnvvnmm3JOSZyEJkCp2a644grvKLU899xzZtGiRaZUqVJm8ODB0vnFdKHj3L9/f2ltsO9r167tvaPomTVr1gEToMOGDZNW5cYbb/TOKFEn4ZUDRSmcOJKbcNauXWuOPvpoU6lSJe+MEnV0kWcEqFmzpoomhqhwFCUAKhxFCYAKR1ECoMJRlAAkNKrGkDAz90rBYJ1Z69atvSMlruhwdIrJbThaiR86HK0oAVHhKEoAVDiKEgAVTpqBM9ySJUu8IyUsYi2cNWvWiJNXzhBVOLq9/fbb4tB1qIBj2/fffy8rxoMO9igFJ7bCwUGLZfb4rtgl9JbFixeLWwEOXFGH+5g+fbq5//77xYkNPvjgAznGAxQIxNGrVy9xP8BJDWFMnDhRXoPbNK7X+Os89dRT5ueff5ZgHniM4vDHaznPI+/HOQ5XDCUxYischsLxVSHuAK7B+OJYWKLfrFkz7yjavPfee+bjjz+W+7j33nslUs1dd91l7rzzTvGzQUzsM4xNLAJiCnz66aey4WdDbAXcrPHZueSSS8RTlFYY8SC89evXS2wC4hfgj4Mj3N133+1dXQlKbIWDUH71q1/JPn73cQ5Ecc4555gzzzxT7oHgHbSitJi4fyMW+i1169Y1F154obwed2kEMnr0aPP111+LAxvObTizWXCbfuONN8RPqXPnztLvQWzEN8ABTkmM2AqHQkVgC8AMYVIqHcCzkxaEVRkE6sCbE2hBcK0G+jOI7ZFHHsmuPMD+HoCY8IClRWvYsKF4xjZp0sSMHTtWIugoiRFb4fz+9783kyZNMn/729/kmFqUkLxxg0AcNvBI/fr1zcknnywhnzCp6I8glscee0xaDfo1gNmGyUYfj6AeeLted911EsXm+OOPN7Vq1ZLX3XHHHRIxh0oF85XWq0OHDtmfowQntktu+M7EIvvss8+kUBDkgg5xixYt5Pn3339fzJcKFSrIcRQIuuSGVoMOPWKhBSKSjVJ06Fq1FBNUOAQXRDyYXnXq1EkbszSu6Fq1mECETkYJzzvvPBVNRFDhKEoAVDiKEgAVjqIEQIWjKAFIaFSNEK3nn3++d6Tkx+bNmyUFiRJvEh6OZmkIiwqVgsHkJMtllHiTsHCiCktPWJKjKGGQlvM4LGxkiUq6VQZKtEgr4bBsntl1ltmwEFLFo4RF2ggH0bBe7be//a2I57LLLlPxKKGRFsKxmcwQjcWKB6cuRUk2aTc4gIMbq4jxPVGUMNBFnooSEBWOogRAhaMoAVDhKEoAVDiKEgAVjqIEQIWjKAFQ4ShKAAo9AUqc4g0bNnhH0QM3B8K+1qxZ0zsTXVjBfdVVV3lHSlwI5FZALLOrr77aO1ISgWDrhKpV4kWRrxxAsDkj5+/evdssWrQoVAe5L7/8UkLKpgruk5jQSvqQsHAI/o250aVLF9nwhykoe/bskTCtfgj9unbtWlF1WGRmZprly5d7RwWDlCGEmg0CwdQJa6ukDwkLh8KESzCFkY3FldTmL774oqSXABZeZmVlmXnz5kntS2vC8V//+ld53kKtTOja2rVrSwYCUlPwOUSy5H18Hu4DK1eulNwvXNvmwOGzKKD0vwhYTl8MWPDJZ27dulX6PgQyJ/q/n3fffVc+c9y4cZKLBrZs2SIByvlO27ZtkxQcL7/8sqTd4P2syCaPDSxYsEAeSXTFtUnbAWQI4Np8loXvyf0o8SYpphqZz2hp2BDJTTfdJIHESUOxYsUKyfeCOzPP4yODhyYpJ0hR4eeoo44yxYsXN8cdd5zkhiG/C0HIW7duLe+3gcMRBYWYpEzt2rUTwfTp00cEmZGRYWrUqCHJpsjU1qNHDxEbrRvnqlSpcsDgBiLmWqTJ4PPIbMZjtWrVpEXk2mQFKFmypAiMfh73QbInBDRs2DBpJfkOZ511luSzISsc98k9c1/APmKkolHiTVKEg1goQGwkRlq2bJlk/yLhEzU2Lcdbb70lNS+FnlagW7duEmHfD+ktKFT41ZB5rGvXrqZp06bS+vzrX/+SVBWIh3O0ElyDfQo+4WGPOOIIeZwyZYoIzNbsJG2iX9OgQQNTr149c9FFF8l5PwQzx38HsZEBgRaNFohWDUHi30OGBELRkvGN1g8fIDIk8B3mz59vbrnlFslhg+lq83By7TJlykhfjoROo0aNCtUMVVJDUoRTvnx5yQzGRmvB8bPPPitB2UkzQc6XkSNHihgeeughc+KJJ0rB/ve//+19woGceuqpIjRqewRw9NFHe88YU6pUKSnQvL9Tp06mb9++5vLLL5cCTWvy5JNPSoYyP/aakF9fBUGQfwbhYFpVqlRJzmMulitXTr4P98mI2KOPPipi4jyZEwCz0KbusFSuXFnMveHDh3tnlDiTsHAwYfypNGgdyE158803i7mDyULhouYlPQU5KzGn2B5//HEpoH4wj+Dhhx+WBEiYfbQ8XMc+B7QObdq0kfwyZ599tuSWoaVisIJcMggN0ZHpjO/EI9+TnDMUfFKAWGjpEAJwDeaAEAumHa0ELQ7Xw+xDPI0aNZLWktSBv/vd7+RziZeG+cl7aFFI5oRYaAXt52Ky0l+yfSAlvug8ThGi8zjxpMjncRQlrqhwFCUAKhxFCUBaCIcBATuipSipIC2Ew5wKgxaKkipiLxyGeJm3YWmOZmNWUkXshcNcEItLmXwlX4+ipILYC4eJTmbtWSnw61//2jurKOGSFn2cP/zhD9LiKEqqSAvhKEqqUeEoSgBiKRzW1uHBydJ/RSkKYikcXBZYOY3vDPEJFCXVRE44eGrioIaHp/WbwRUBl2ec0XAJwAUbpzZaHPxxaH14DQ5ovI6VBPj+WFHhXvDaa6+J1yY+PCzr37Rpkzjg4WCnKIUlcsIZMmSIOLDh188+3qSDBg0SnxdcqHGTxhUZf5oSJUqIvwuPOM3h/nzkkUeaCy64QPxr8APCsY3zCAWX6AcffFDey8Qp3picV5TCEjnh4HqMWzStSYcOHSReAA5xuDbjqIaomLMhoAdObLhaE2MAcDDD45TnL730UnF13rx5szibEReBlglHMuZ98BjFxTpnlB1FKQiREw6xBSZMmCACwvMTl2cb1AMTDLfpg4GTUU6ffrw+WY7DIzC4QByEY445RheHKoGI5OAA7tIsnyHoBfskwMUVmwg1tCaYYbhSA/EMGCxABJhpYMWFScY5WiJcsVmeg2joI+FuPWLECDNgwAB5raIUBnWdLkLUdTqeqOu0ogSk0C0OQ7r59TOUgsEQ+gMPPOAdKXFB+tHuY6GEQ6gk5lqUxOEPsFE+lfgQSDiKcqijfRxFCYgKR1ECoMJRlACocBQlACocRQmACkdRAqDCUZQApI1wmIsipWDO9IiKEgZpIRxEM2nSJImxRkrBr776yntGUcIh9sKxosFxjVybuCHg/KbiUcIk9sIhroAVDbAcAvEQS8Dm/FSUZJNWa9X8vkLcE/EJbA5ORUkWab1WjZtT0ShhkbbCUZQwUeEoSgBUOIoSABWOogRAhaMkxJo1aySMl92IXzd58mQJO5zORG44mnC1JMO1EHWT0LfEU8uPREJXEUf6gw8+8I6MZHcjjlsiI3O9e/eWWNVQvHhxc95550k4qMMPP1zOJZuVK1eaiRMnekdGgjlec8012ZFOw4D5slatWpmZM2fKMQEe77//fvOnP/3J9OrVS86lG5EcjibC5nvvvSdCOf300yWQOiFst2/f7r0iHAi5W6dOHXPLLbeY9u3bS5a3ypUrmw8//NB7ReHJzMyUwPE2iOIf//hH061bN+/Z5LN+/XpZRcH12Aj3e+6550r87TChUmjYsKFsbdu2lbjcs2bN8p5NX2hxIoP7ozsdOnTwjhzHbfKdWrVqOSNGjPDO5M306dO9vcLz+eef0+w6O3bskOO9e/c6rtnhNG/eXI6DcPzxxzsLFizwjhxnzpw5TokSJeSzw8AVjVO9enXvaB+u+eS4FYF3lHzefPNNp1SpUt7RPrp06eJceeWV3lH6QTmJRR+HGq0g5s0ll1zi7SVOsWLFpAYlyHuyIGwvn5tKuGZYpqHlxx9/NPfee6/E+nYFY9zKQjJNpDORFM7atWvNk08+aYYOHWratGkj8Z+JHZ0fxI9OFNKLsMYNE41cO4mGqJ02bZrcS79+/czdd98t9xSmeL799lu53hNPPCG5gz766KPQgx7SDzznnHPELKQfh1m9atUq79n0JJLCoaNO1oJdu3ZJQSbzGuvOUgHpP0gPQmuzdetWKXyJsHv3brmXH374QR45DhNGs+xvRxIufruwA0hSsdG3Yevbt6+kThk7dqz3bPriWW7RIGcfh/5AlSpVnGeeeUaON2/e7MyfP1/2C8O6deucRYsWeUcHkrOP4xY2p1WrVs51110nx0HI2cdxWx+nZMmS0m8Lg5x9HK7jmq/S5wiL3Po4jz32mHPBBRc4mzZtcnr27Om44pX/0a08vFccnKVLlzr9+/f3jqIH5STyfRzMmtNOO01MEJg7d67kyaFGJd8NQ5/kA6VWxQPUwjAw2de6d+9uxo8fLwmoSOtRUDA/mjZtKiNVwO9FOsRE4D5oDWgVSDsSNgybMjL53XffyahhRkaGmIzcx77/P3cY0uZ7BuXkk0+WET23MpJ75tq0RmTW4zsw7H/++eebHj16mIEDBxpXKOIawjGvO+ussxIazUwFkRcO0Hfx+9Yw1IoNT/+DTig/MkJavXq19wojHdTy5ctLThxyh5YuXTo7f05BYVACs9FC3yEREC8mJwVp48aNco5CTT+EgozbN48MYZN2kTjdFDI7FxQEhsG5f34/zDbmVwj2TtY7fjPmYTDp+F6YpmSww0zFmxYzmd+R9+UFCcAo+H4Y0ud9VBDAJCn9H7cVkTSTUL9+ffPnP/9Z+l/cM4MKHJO3iO8XdSInnM6dO5t77rnHO9oHhZ8f1g+5O5l3AcRDHlA/9erVEyc3WiUmAfObyGTCkwEIfxD0unXrSn+HghWErKwsU6tWLe/ImGrVqkmLaZMC03Iy58H3pG9AJjoKDS0klQAFkEnNgvazKPCjR4/2jvZx3333yUaLjAC5F/pZjLRRUDlPn4TnXLNUJjCplHgd5xENuVTzgt+d+S4/jORxrzb5V7NmzaQSYFWB7asyyc0EsW3FmfhG1Nw3AwxRJ3LCqVmz5n6FDapWrWoaNGjgHe2D1sN2tFesWHFArcxzTz/9tAyT8of4W47ccPseUnBpFSwUCArxCSec4J0pHJh6J510kne0z3TiHBmzAcFQWKksSPLLCCKrHxALqxZobSjI3MvBTCvLqaeeKrlS/WCqXXHFFdJ6MlpJNu/LLrtMWgpMKloLzCogxyoTvxaEyIQ0ZlQiMAGLVy4mNf8JULG5fSHTokULOaZyY8SR11CJRZ1YmGq5QSHDJqYGp0WiYFDISIhLqnYKImYAhYXWhkIbNSpWrChmDOYatTPLizDjSM/IchmOWbZC3y0Z3x+x0PogHFoAApt07Ngx13keWgb6lfyG/r5jEBBonz59pPVnFQj/By0Ln00qSf47xBLF/+hguJVZfBg1apTjmiOy79rkMmrl1sgyarN8+XLZXHNHRpS2bNkioz6u2SEjPG6tJu8LAp/n1obeUeK44pZH15xzXDPNcWt9OWZEya0AZH/VqlXOgw8+6Lz00ktynAiuCBy35veO9uGaSU5mZqYzceJEx22RnYULF8p514yS39TtB8kImdsHk/OFZcmSJTKqx2cVBq7v9oG8o+iBZmIXc4AOLC1LTtMtP+iM09mlz6IoiUDLGDvh5AX3ELemXoknlLPY9nH80K9ZvHixd5Rc7ChQqiAeHEO5RQV9n1TCoA5D4nEj9sJx7XKZrMOE8/vTJAOGjelMM8+SChgYYKkKj2+//bZ3NnUwusZCTSYuUwGiIRnz+++/n+3PExdibarNmzdPRmz4/mXLljUff/yxDP8yrJooiAbfFoanmatg0jVMhzDEQs3L3BT3w9o2zjVp0sR7RbjQb8T3idE9hu4vuugimfUPCysa5s7mzJljateuLQLCizTqxNpUY/UthZlVuZZGjRrJDHmi4W8RDctO+FMpSMy90KIxdBwGfGdEc8MNN3hnjNwXBTcVZhvLiph4vf766+WYuaUlS5aE1vIwL2V/X4aigVUezN/FqeWhxYk1K1askEWayYIhbbdGlH33j5RHYGg7mdexsPiR4W5wW01nw4YNsg/2fJgw7GyxzoBcd+rUqTJMnWz4bKYPLDNmzPD2HGf79u2hOfolCzSTFoMDyQZzKbd1bTjKMTufbDAF8xoRTMVIIWZZTrjutddem90iJBMxdfLwSWLyN9XOfkFQ4ShKAFQ4ihIAFY6iBECFoygBUOEoSgBUOIoSABWOogRAhaMoAThgrRrelLgqxwnWVuHFGEbEShaOJmPtW0HhXvg/ChtYJFmwrIh1Y6mESKA5Y0ZECYKd+OM+MIF7gHAIlp0zMIaiHMoQUMTGRgBZ+eDtK4pSCFQ4ihIAFY6iBECFE0PeeOON7NC8yQCnOfxjCFOlFAwVTi4Qq40gfnYjVR+B9JIZfyCRLALPPvusZK1LFoTeJWqoDUyo5I8KJxdsDGVCtLJRqAizSyrCZNG4cWPzzDPPeEeFg5w7t912m3ekFAUqnDwg0DsOXmwk5CW2M4E0GLrHvRfXYmIsT506VV7/6aefSmRKgl0QIfNgjBo1SpIv8TqGOpm7IZI/QUEQJzGluc7rr78uIXzJyOAPKE+oXsL+2n1C5hIz+s477xRR+acXCHHLZ/IZ/mAmuJdzTzyX7CAnhwIqnAJCP8AGZCeYOuYbWRKOPfZYCXRB2gomYAk2ji/97Nmz5bW5QQYBXkvYVzZiHCC622+/XSL8c27kyJES9Lx69eoyGYqACTQPiIRsA0CCXq5HpB9iUhPY3F6bvlDz5s3lPPGvyRCAwAkBhTfr8uXL5fPTPe1gWDABmo3fx/5QZcyYMc4ZZ5zhPPXUU7JlZGRIQqjhw4fL8zfeeKPTuXNn2Qe3lXFatGjhHTnOww8/7LRs2VL28aHfuHGjbDbMLVx44YXy2eAWevFjd1sOOQbCx7qtjHfkOFWrVs0Owct7hw0bJvskcOJ6FhJhua2I7PPcgAEDZB+aNWvmDBw40HEF5biCz070tH79ern+mjVr5FjZH39MBOC30hYnD+i4E+XFRnphwAAzzOJfIsIIF7V7qVKlZGPZEqGdgERKRI1hI0j8wfB/ZpkyZaRlIdQvwdLpuOcVLNCfwoTPsIMOmH4kbrLfixh0RNTh+5K8yV4vjLgC6Y4KJw8IzUShY6MvcLCY05hwJMalb8LGsC6FFBiNow/CNnnyZDlXEGxOmenTp8tnVahQwXum4JAcin6Z/V6Yc4MHDxYzMdURO9MNFU4SICcNQfVoxam9GbYmwPvBYL0TgwK5QT+HUT1aKVoK+lCM9BUW4swxkEGLxPfiOyEYoviwmJPPhWTOCR0qqHCSACtnMa1YVcxiQFaX5xdYj84+rRnJlXJCeCS3HyUBCknA1KFDBwmbdLCUgrnBZzOqRvpABgkIckggRwYyECWZzxgkwLT0Z6JT8kdXR+cCuTFZ6k5Y3dygn4C5QxY3C78hIVx5jpGq/OKv0SqRqYzXkTWNPgzisP0NWh2GoAkVS0EnyRNRRRkdw+xi5I3ROfYxyWwmOVoVWjMSUwGtGmJBdCR1stnl+L60OkTV5POZBCV8sE0/qPyf3FZHq3AUJR/UrUBRkoQKR1ECoMJRlACocBQlACqcEGDol1wvbAwBs/iSUStgFMs+599YLEpiLP85Rru6d+8uE5djxozZ7zn/NnToUPlsJXXoqFoIVK5cWQo8s/8sDu3Vq5dMPLJsh2FuVl6TjYylNBaGj1mAyVyQnZhkaPmee+6ReaFhw4aZnTt3ynlWTDMU/sgjj8gxw9L+oXElueioWgphToRVyawJo8VhJbIfUjDyvN1YZW0h0xznaK1YyrNo0SKZp7GvZY0Zr7fHKprUo8IJCSZCWSbDchbMLH+aQqD1wCeGjdfmBpYA7gOpjnOm5I8KJyRY7nL55ZeL384777wjrYjfJKYlYdkNG5nP/CAU+i6sKmCRJ45vSrRQ4YQE3qFr164VZzeWvLAuze/cRnAMHNPYcqZmf/XVV2V75ZVXZImMdv6jhwonBdAPYSCAzM4FoVKlSjLAwHu6desmaemVaKHCSQG0KsQIwK26sDACx0JPJVqocEKCKDTW85Jl/cQTaN26tfeskQAg9nm2ESNGeM/sD/0cgn7n59+jpBadxwkBXAL8yDJ0dwN+a//vbfE/709Xbl+f8zPAHivhovM4KYKC79/8BVx+9BzP29fY5/zYczk/w3+spB4VjqIEQIWjKAFQ4ShKADCU3b7m/zurL7/8cpGl0UsUVh4Tj7ljx47ikx9H7EBAKmDVNYtOy5Ur551JHUQvZXKY9XhRBz2wYNcifUz3cT/hxBUKACuOWfBIXDOixPgD/CULAhRyrSBzMgeD/6B///6mdOnSMnQddtCM77//XrIesE6OuNIMiacKBEsFzf/EIljcMOIEwkkLU82Kpl27dlLgeOSY88lky5YtMjQ5btw4WZyZLBANwQpZLdCmTRszfvz4PGOuJQNEw3IesjAwn0QUUht5NGwQDevvqBxq1Kgh90xw+ThCixNr3B/e2bNnj+zb2Nccu3+Q7CcD4itPmzbNcQXjvPvuu05WVpazY8cO79ng/PLLL87EiROdb775xpk7d67z008/yeaanI5rznivSh6uaJyxY8c6e/fudb7++mtn6dKl8h3cisZxKwbvVeGwa9cuiX/NtWHWrFnyyG87e/Zs2Y8DaCYthOMnjKDxn332mYgGrHAobBSCnTt3yvmgrFq1ynFre9m3wgG3v7Zf0PVk4db42QXXCge4n7CDrv/888/Z1wYrHNi0aZN8hziAZnRUrQAQpRP3AD/YuZg6iS6FIUggTm85IchgGH44OMDlnGQF7gdXhjAhiGNu14aKFSumbFAkGahwCkBe4WEpBPzhyqGHCkdRAqDCUZQAqHAUJQAqHEUJgApHUQKgwlGUAKhwFCUAaScc/yrWuEE2tlROArKCnCTBRUXYE65hkjaro1MFEWdIdcgqZuXQhMpNhaMohQThaB9HUQKgwikibIjbKLNy5cqk+Ok0bdrUPP3007JP9my/LxO+QTi0seEVSloU9jmPJUR44Dp16qTMX6igxFI4pMxgEGDjxo3y45KQiWiZ7JOHJmf0f86vW7dOHNGgX79+pkePHrIfFELT5pVloCDg0MUGOK3h9p0XpHanQCXK4sWLpRDiWn7VVVdJJoSDwXfi90wUHAo7deokDoD33XefefTRRyXHD9SvX98MHjxYNkIE33TTTeIJm5GRYVq2bClhgKtUqSK/QZSIpXDI2Y+vOt6D/AGTJk0SN+DevXtLao2corjrrrukhh80aJBE/m/fvr3ZsWOH92wwcKFOxp9JaNxrrrlGCvNzzz1nJkyYII98NoX8iy++kGB4CPXxxx/33hUMKhDclInLQKKq0aNHi1sEvxe/I4mtiANA6zB27NjsVuCTTz6R56lwEvFMxXsW0YwcOVLiY3OPuGzzv7CRuQFImEXQ+goVKsjvE0VibapRqCjA1E788GQmy43Vq1fLH49oypYt652NBhSi4cOHmxdffFE2alkyt5EapEmTJmbatGmSsYCKYsqUKd67gkPLy2ciQhsIHndtavoBAwZINrhly5aJ/9GSJUukguH3veOOO0z16tUl80JQHnroIQkNzH9BtFj8czDBOnfuLBujlUDlwX+FZUFMgigSa+FgK59yyinekTEPPPCAt7c/FAhy0HTt2tXUrVvXOxsNMIXs/A0bQdZJa4hZQ2Hl+bPPPltMGgpUonCNI444QlrdLl26iBk1ZMgQabFtjAZMI8Rq6dmzp4gbQScy70MWOuIbEG+AVnTPnj0yrE/iLTablY7rn3vuuZKlwf89okSshUMhoxNpmTlzprf3fzAHaGX4E9q2bSuFJUpgomGGkWjKxuwmQg+tafny5UXw8+fPl4AWyUj3QatBgA7MQET0wgsvSIty8cUXe684EF7Tp08fiexDbPGg0NIsXLhQ9rk2piOmH+Yhm+0zEqSejf83qsRaOPRxSAk4Z84ciZxiTRlaIjrCbNjp9HHeeust6f8kK2RUo0aN8vQMLQiIAxOpYcOG5vnnnzd9+/aVhLtAIZ4xY4bsk8mNfV6PuBKBPD05BUJHPDMzU2KH8Ry1fb169eS5xo0bSwtDZcNraKkwtYJAy4kpSmpHWh36O0QkwkQjxynbtm3b5Nj/u1LxJaMvmWxiOQHKj0x6c+x0/hBEg7lDTUrz7w831KBBA/HfpzWyr9mwYYN0PvkjlfAhGx0d/Zx5UAsC/a2srCxpFfPqw6YaMavdx9gJh2FlCv2tt94qtWhhwZ7H3vanblCUghJb4ShKUYJwYt3HUZSiQoWjKAEQU23frqIoBcOY/wHXkFPN/VNnOQAAAABJRU5ErkJggg==)\n",
        "\n",
        "As we can observe from the preceding figure, we feed the tokens to the pre-trained BERT model and get the embeddings of all the tokens. We take the embedding of the [CLS] token and feed it to a feedforward network with a softmax function and perform classification.\n"
      ],
      "metadata": {
        "id": "I2wMwRjNfMZT"
      }
    },
    {
      "cell_type": "markdown",
      "source": [
        "#Fine tune for Question-answering(QA):\n",
        "In a question-answering task, we are given a question along with a paragraph containing an answer to the question. Our goal is to extract the answer from the paragraph for the given question. Now, let's learn how to fine-tune the pre-trained BERT model to perform a question-answering task.\n",
        "The input to the BERT model will be a question-paragraph pair. That is, we feed a question and a paragraph containing the answer to the question to BERT and it has to extract the answer from the paragraph. So, essentially, BERT has to return the text span that contains the answer from the paragraph. Let's understand this with an example – consider the\n",
        "following question-paragraph pair<br>\n",
        "'Question = \"`What is the immune system?`\"<br>\n",
        "Paragraph = \"The immune system is a system of many biological structures and processes within an organism that protects against disease. To function properly, an immune system must detect a wide variety of agents, known as pathogens, from viruses to parasitic worms, and distinguish them from\n",
        "the organism's own healthy tissue.\"<br>\n",
        "Now, our model has to extract an answer from the paragraph; it essentially has to return the text span containing the answer. So, it should return the following:<br>\n",
        "Answer = \"`a system of many biological structures and processes within an organism that protects against disease`\"\n",
        "\n",
        "Now, how do we find the starting and ending index of the text span containing the answer? If we get the probability of each token (word) in the paragraph of being the starting andending token (word) of the answer, then we can easily extract the answer, right? Yes, but how we can achieve this? To do this, we use two vectors called the start vector and the end vector . The values of the start and end vectors will be learned during training.<br>\n",
        "\n",
        "First, we compute the probability of each token (word) in the paragraph being the starting token of the answer.\n",
        "To compute this probability, for each token i, we compute the dot product between the representation of the token Ri and the start vector S.\n",
        "we apply the softmax function to the dot product\n",
        "\n",
        "![image.png](data:image/png;base64,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)\n",
        "\n",
        "we compute the starting index by selecting the index of the token that has a high probability of being the starting token.\n",
        "In a very similar fashion, we compute the probability of each token (word) in the paragraph being the ending token of the answer. To compute this probability, for each token i, we compute the dot product between the representation of the token R and the end vector .\n",
        "\n",
        "![image.png](data:image/png;base64,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)\n",
        "\n",
        "we compute the ending index by selecting the index of the token that has a high\n",
        "probability of being the ending token. Now, we can select the text span that contains the\n",
        "answer using the starting and ending index.\n",
        "\n",
        "![image.png](data:image/png;base64,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)\n",
        "\n",
        "From the preceding figure, we can see how we compute the probability of each token in the\n",
        "paragraph being the start/end word. Next, we select the text span containing the answer\n",
        "using the starting and ending indexes with the highest probability. To get a better\n",
        "understanding of how this works, let's see how to use the fine-tuned question-answering\n",
        "BERT model in the next section."
      ],
      "metadata": {
        "id": "xYWHHzMpgSm-"
      }
    },
    {
      "cell_type": "markdown",
      "source": [
        "#Fine tune for Named entity recognition:\n",
        "In NER, our goal is to classify named entities into predefined categories. For instance,\n",
        "consider the sentence Jeremy lives in Paris. In this sentence, \"Jeremy\" should be categorized as\n",
        "a person, and \"Paris\" should be categorized as a location.\n",
        "<br>\n",
        "let's learn how to fine-tune the pre-trained BERT model to perform NER. First, we\n",
        "tokenize the sentence, then we add the [CLS] token at the beginning and the [SEP] token at\n",
        "the end. Then, we feed the tokens to the pre-trained BERT model and obtain the\n",
        "representation of every token. Next, we feed those token representations to a classifier\n",
        "(feedforward network + softmax function). Then, the classifier returns the category to\n",
        "which the named entity belongs.\n",
        "\n",
        "![image.png](data:image/png;base64,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)\n",
        "\n",
        "We can fine-tune the pre-trained BERT model for several downstream tasks. So far, we\n",
        "have learned how BERT works and also how to use the pre-trained BERT model."
      ],
      "metadata": {
        "id": "z4-ZqL4ulFXk"
      }
    },
    {
      "cell_type": "markdown",
      "source": [
        "We started the chapter by looking at different configurations of the pre-trained BERT model provided by Google. Then, we learned that we can use the pre-trained BERT model in two ways: as a feature extractor by extracting embeddings, and by fine-tuning the pre-trained BERT model for downstream tasks such as text classification, question-answering, and more.\n",
        "We also learned how to use Hugging Face's transformers library to generate embeddings.\n",
        "Then, we learned how to extract embeddings from all the encoder layers of BERT in detail.\n",
        "Moving on, we learned how to fine-tune pre-trained BERT for downstream tasks. We\n",
        "learned how to fine-tune BERT for text classification, NLI, NER, and question-answering in\n",
        "detail."
      ],
      "metadata": {
        "id": "V07HxEnimmKk"
      }
    },
    {
      "cell_type": "markdown",
      "source": [
        "Question Answering project is very easy to build with BERT because we can use pre-defined file and make our things easy. When we ask some question, it should return the correct answer.<br>\n",
        "Follow these steps:<br>\n",
        "Step 1: Install Required Libraries<br>\n",
        "Step 2: Importing required packages<br>\n",
        "Step 3: Load pre-trained Bert model<br>\n",
        "Step 4: Define function for question answering<br>\n",
        "Step 5:Let's use the passage and check the output<br>\n"
      ],
      "metadata": {
        "id": "ZAmEbYSs-xDf"
      }
    },
    {
      "cell_type": "markdown",
      "source": [
        "####Install Required Libraries<br>\n",
        "First we will install transformers and torch using the pip install command.\n",
        "\n"
      ],
      "metadata": {
        "id": "fLPpeLAxDDky"
      }
    },
    {
      "cell_type": "code",
      "source": [
        "#install transformers and torch\n",
        "!pip install transformers\n",
        "!pip install torch\n",
        "\n",
        "\n"
      ],
      "metadata": {
        "id": "LFXSpzSnUGWc",
        "colab": {
          "base_uri": "https://localhost:8080/"
        },
        "outputId": "3cadd659-ee25-4502-a1f2-9c6719d20b75"
      },
      "execution_count": 1,
      "outputs": [
        {
          "output_type": "stream",
          "name": "stdout",
          "text": [
            "Requirement already satisfied: transformers in /usr/local/lib/python3.11/dist-packages (4.50.3)\n",
            "Requirement already satisfied: filelock in /usr/local/lib/python3.11/dist-packages (from transformers) (3.18.0)\n",
            "Requirement already satisfied: huggingface-hub<1.0,>=0.26.0 in /usr/local/lib/python3.11/dist-packages (from transformers) (0.30.1)\n",
            "Requirement already satisfied: numpy>=1.17 in /usr/local/lib/python3.11/dist-packages (from transformers) (2.0.2)\n",
            "Requirement already satisfied: packaging>=20.0 in /usr/local/lib/python3.11/dist-packages (from transformers) (24.2)\n",
            "Requirement already satisfied: pyyaml>=5.1 in /usr/local/lib/python3.11/dist-packages (from transformers) (6.0.2)\n",
            "Requirement already satisfied: regex!=2019.12.17 in /usr/local/lib/python3.11/dist-packages (from transformers) (2024.11.6)\n",
            "Requirement already satisfied: requests in /usr/local/lib/python3.11/dist-packages (from transformers) (2.32.3)\n",
            "Requirement already satisfied: tokenizers<0.22,>=0.21 in /usr/local/lib/python3.11/dist-packages (from transformers) (0.21.1)\n",
            "Requirement already satisfied: safetensors>=0.4.3 in /usr/local/lib/python3.11/dist-packages (from transformers) (0.5.3)\n",
            "Requirement already satisfied: tqdm>=4.27 in /usr/local/lib/python3.11/dist-packages (from transformers) (4.67.1)\n",
            "Requirement already satisfied: fsspec>=2023.5.0 in /usr/local/lib/python3.11/dist-packages (from huggingface-hub<1.0,>=0.26.0->transformers) (2025.3.2)\n",
            "Requirement already satisfied: typing-extensions>=3.7.4.3 in /usr/local/lib/python3.11/dist-packages (from huggingface-hub<1.0,>=0.26.0->transformers) (4.13.1)\n",
            "Requirement already satisfied: charset-normalizer<4,>=2 in /usr/local/lib/python3.11/dist-packages (from requests->transformers) (3.4.1)\n",
            "Requirement already satisfied: idna<4,>=2.5 in /usr/local/lib/python3.11/dist-packages (from requests->transformers) (3.10)\n",
            "Requirement already satisfied: urllib3<3,>=1.21.1 in /usr/local/lib/python3.11/dist-packages (from requests->transformers) (2.3.0)\n",
            "Requirement already satisfied: certifi>=2017.4.17 in /usr/local/lib/python3.11/dist-packages (from requests->transformers) (2025.1.31)\n",
            "Requirement already satisfied: torch in /usr/local/lib/python3.11/dist-packages (2.6.0+cu124)\n",
            "Requirement already satisfied: filelock in /usr/local/lib/python3.11/dist-packages (from torch) (3.18.0)\n",
            "Requirement already satisfied: typing-extensions>=4.10.0 in /usr/local/lib/python3.11/dist-packages (from torch) (4.13.1)\n",
            "Requirement already satisfied: networkx in /usr/local/lib/python3.11/dist-packages (from torch) (3.4.2)\n",
            "Requirement already satisfied: jinja2 in /usr/local/lib/python3.11/dist-packages (from torch) (3.1.6)\n",
            "Requirement already satisfied: fsspec in /usr/local/lib/python3.11/dist-packages (from torch) (2025.3.2)\n",
            "Collecting nvidia-cuda-nvrtc-cu12==12.4.127 (from torch)\n",
            "  Downloading nvidia_cuda_nvrtc_cu12-12.4.127-py3-none-manylinux2014_x86_64.whl.metadata (1.5 kB)\n",
            "Collecting nvidia-cuda-runtime-cu12==12.4.127 (from torch)\n",
            "  Downloading nvidia_cuda_runtime_cu12-12.4.127-py3-none-manylinux2014_x86_64.whl.metadata (1.5 kB)\n",
            "Collecting nvidia-cuda-cupti-cu12==12.4.127 (from torch)\n",
            "  Downloading nvidia_cuda_cupti_cu12-12.4.127-py3-none-manylinux2014_x86_64.whl.metadata (1.6 kB)\n",
            "Collecting nvidia-cudnn-cu12==9.1.0.70 (from torch)\n",
            "  Downloading nvidia_cudnn_cu12-9.1.0.70-py3-none-manylinux2014_x86_64.whl.metadata (1.6 kB)\n",
            "Collecting nvidia-cublas-cu12==12.4.5.8 (from torch)\n",
            "  Downloading nvidia_cublas_cu12-12.4.5.8-py3-none-manylinux2014_x86_64.whl.metadata (1.5 kB)\n",
            "Collecting nvidia-cufft-cu12==11.2.1.3 (from torch)\n",
            "  Downloading nvidia_cufft_cu12-11.2.1.3-py3-none-manylinux2014_x86_64.whl.metadata (1.5 kB)\n",
            "Collecting nvidia-curand-cu12==10.3.5.147 (from torch)\n",
            "  Downloading nvidia_curand_cu12-10.3.5.147-py3-none-manylinux2014_x86_64.whl.metadata (1.5 kB)\n",
            "Collecting nvidia-cusolver-cu12==11.6.1.9 (from torch)\n",
            "  Downloading nvidia_cusolver_cu12-11.6.1.9-py3-none-manylinux2014_x86_64.whl.metadata (1.6 kB)\n",
            "Collecting nvidia-cusparse-cu12==12.3.1.170 (from torch)\n",
            "  Downloading nvidia_cusparse_cu12-12.3.1.170-py3-none-manylinux2014_x86_64.whl.metadata (1.6 kB)\n",
            "Requirement already satisfied: nvidia-cusparselt-cu12==0.6.2 in /usr/local/lib/python3.11/dist-packages (from torch) (0.6.2)\n",
            "Requirement already satisfied: nvidia-nccl-cu12==2.21.5 in /usr/local/lib/python3.11/dist-packages (from torch) (2.21.5)\n",
            "Requirement already satisfied: nvidia-nvtx-cu12==12.4.127 in /usr/local/lib/python3.11/dist-packages (from torch) (12.4.127)\n",
            "Collecting nvidia-nvjitlink-cu12==12.4.127 (from torch)\n",
            "  Downloading nvidia_nvjitlink_cu12-12.4.127-py3-none-manylinux2014_x86_64.whl.metadata (1.5 kB)\n",
            "Requirement already satisfied: triton==3.2.0 in /usr/local/lib/python3.11/dist-packages (from torch) (3.2.0)\n",
            "Requirement already satisfied: sympy==1.13.1 in /usr/local/lib/python3.11/dist-packages (from torch) (1.13.1)\n",
            "Requirement already satisfied: mpmath<1.4,>=1.1.0 in /usr/local/lib/python3.11/dist-packages (from sympy==1.13.1->torch) (1.3.0)\n",
            "Requirement already satisfied: MarkupSafe>=2.0 in /usr/local/lib/python3.11/dist-packages (from jinja2->torch) (3.0.2)\n",
            "Downloading nvidia_cublas_cu12-12.4.5.8-py3-none-manylinux2014_x86_64.whl (363.4 MB)\n",
            "\u001b[2K   \u001b[90m━━━━━━━━━━━━━━━━━━━━━━━━━━━━━━━━━━━━━━━━\u001b[0m \u001b[32m363.4/363.4 MB\u001b[0m \u001b[31m1.5 MB/s\u001b[0m eta \u001b[36m0:00:00\u001b[0m\n",
            "\u001b[?25hDownloading nvidia_cuda_cupti_cu12-12.4.127-py3-none-manylinux2014_x86_64.whl (13.8 MB)\n",
            "\u001b[2K   \u001b[90m━━━━━━━━━━━━━━━━━━━━━━━━━━━━━━━━━━━━━━━━\u001b[0m \u001b[32m13.8/13.8 MB\u001b[0m \u001b[31m95.4 MB/s\u001b[0m eta \u001b[36m0:00:00\u001b[0m\n",
            "\u001b[?25hDownloading nvidia_cuda_nvrtc_cu12-12.4.127-py3-none-manylinux2014_x86_64.whl (24.6 MB)\n",
            "\u001b[2K   \u001b[90m━━━━━━━━━━━━━━━━━━━━━━━━━━━━━━━━━━━━━━━━\u001b[0m \u001b[32m24.6/24.6 MB\u001b[0m \u001b[31m76.6 MB/s\u001b[0m eta \u001b[36m0:00:00\u001b[0m\n",
            "\u001b[?25hDownloading nvidia_cuda_runtime_cu12-12.4.127-py3-none-manylinux2014_x86_64.whl (883 kB)\n",
            "\u001b[2K   \u001b[90m━━━━━━━━━━━━━━━━━━━━━━━━━━━━━━━━━━━━━━━━\u001b[0m \u001b[32m883.7/883.7 kB\u001b[0m \u001b[31m53.2 MB/s\u001b[0m eta \u001b[36m0:00:00\u001b[0m\n",
            "\u001b[?25hDownloading nvidia_cudnn_cu12-9.1.0.70-py3-none-manylinux2014_x86_64.whl (664.8 MB)\n",
            "\u001b[2K   \u001b[90m━━━━━━━━━━━━━━━━━━━━━━━━━━━━━━━━━━━━━━━━\u001b[0m \u001b[32m664.8/664.8 MB\u001b[0m \u001b[31m2.9 MB/s\u001b[0m eta \u001b[36m0:00:00\u001b[0m\n",
            "\u001b[?25hDownloading nvidia_cufft_cu12-11.2.1.3-py3-none-manylinux2014_x86_64.whl (211.5 MB)\n",
            "\u001b[2K   \u001b[90m━━━━━━━━━━━━━━━━━━━━━━━━━━━━━━━━━━━━━━━━\u001b[0m \u001b[32m211.5/211.5 MB\u001b[0m \u001b[31m5.6 MB/s\u001b[0m eta \u001b[36m0:00:00\u001b[0m\n",
            "\u001b[?25hDownloading nvidia_curand_cu12-10.3.5.147-py3-none-manylinux2014_x86_64.whl (56.3 MB)\n",
            "\u001b[2K   \u001b[90m━━━━━━━━━━━━━━━━━━━━━━━━━━━━━━━━━━━━━━━━\u001b[0m \u001b[32m56.3/56.3 MB\u001b[0m \u001b[31m12.0 MB/s\u001b[0m eta \u001b[36m0:00:00\u001b[0m\n",
            "\u001b[?25hDownloading nvidia_cusolver_cu12-11.6.1.9-py3-none-manylinux2014_x86_64.whl (127.9 MB)\n",
            "\u001b[2K   \u001b[90m━━━━━━━━━━━━━━━━━━━━━━━━━━━━━━━━━━━━━━━━\u001b[0m \u001b[32m127.9/127.9 MB\u001b[0m \u001b[31m7.3 MB/s\u001b[0m eta \u001b[36m0:00:00\u001b[0m\n",
            "\u001b[?25hDownloading nvidia_cusparse_cu12-12.3.1.170-py3-none-manylinux2014_x86_64.whl (207.5 MB)\n",
            "\u001b[2K   \u001b[90m━━━━━━━━━━━━━━━━━━━━━━━━━━━━━━━━━━━━━━━━\u001b[0m \u001b[32m207.5/207.5 MB\u001b[0m \u001b[31m5.8 MB/s\u001b[0m eta \u001b[36m0:00:00\u001b[0m\n",
            "\u001b[?25hDownloading nvidia_nvjitlink_cu12-12.4.127-py3-none-manylinux2014_x86_64.whl (21.1 MB)\n",
            "\u001b[2K   \u001b[90m━━━━━━━━━━━━━━━━━━━━━━━━━━━━━━━━━━━━━━━━\u001b[0m \u001b[32m21.1/21.1 MB\u001b[0m \u001b[31m57.3 MB/s\u001b[0m eta \u001b[36m0:00:00\u001b[0m\n",
            "\u001b[?25hInstalling collected packages: nvidia-nvjitlink-cu12, nvidia-curand-cu12, nvidia-cufft-cu12, nvidia-cuda-runtime-cu12, nvidia-cuda-nvrtc-cu12, nvidia-cuda-cupti-cu12, nvidia-cublas-cu12, nvidia-cusparse-cu12, nvidia-cudnn-cu12, nvidia-cusolver-cu12\n",
            "  Attempting uninstall: nvidia-nvjitlink-cu12\n",
            "    Found existing installation: nvidia-nvjitlink-cu12 12.5.82\n",
            "    Uninstalling nvidia-nvjitlink-cu12-12.5.82:\n",
            "      Successfully uninstalled nvidia-nvjitlink-cu12-12.5.82\n",
            "  Attempting uninstall: nvidia-curand-cu12\n",
            "    Found existing installation: nvidia-curand-cu12 10.3.6.82\n",
            "    Uninstalling nvidia-curand-cu12-10.3.6.82:\n",
            "      Successfully uninstalled nvidia-curand-cu12-10.3.6.82\n",
            "  Attempting uninstall: nvidia-cufft-cu12\n",
            "    Found existing installation: nvidia-cufft-cu12 11.2.3.61\n",
            "    Uninstalling nvidia-cufft-cu12-11.2.3.61:\n",
            "      Successfully uninstalled nvidia-cufft-cu12-11.2.3.61\n",
            "  Attempting uninstall: nvidia-cuda-runtime-cu12\n",
            "    Found existing installation: nvidia-cuda-runtime-cu12 12.5.82\n",
            "    Uninstalling nvidia-cuda-runtime-cu12-12.5.82:\n",
            "      Successfully uninstalled nvidia-cuda-runtime-cu12-12.5.82\n",
            "  Attempting uninstall: nvidia-cuda-nvrtc-cu12\n",
            "    Found existing installation: nvidia-cuda-nvrtc-cu12 12.5.82\n",
            "    Uninstalling nvidia-cuda-nvrtc-cu12-12.5.82:\n",
            "      Successfully uninstalled nvidia-cuda-nvrtc-cu12-12.5.82\n",
            "  Attempting uninstall: nvidia-cuda-cupti-cu12\n",
            "    Found existing installation: nvidia-cuda-cupti-cu12 12.5.82\n",
            "    Uninstalling nvidia-cuda-cupti-cu12-12.5.82:\n",
            "      Successfully uninstalled nvidia-cuda-cupti-cu12-12.5.82\n",
            "  Attempting uninstall: nvidia-cublas-cu12\n",
            "    Found existing installation: nvidia-cublas-cu12 12.5.3.2\n",
            "    Uninstalling nvidia-cublas-cu12-12.5.3.2:\n",
            "      Successfully uninstalled nvidia-cublas-cu12-12.5.3.2\n",
            "  Attempting uninstall: nvidia-cusparse-cu12\n",
            "    Found existing installation: nvidia-cusparse-cu12 12.5.1.3\n",
            "    Uninstalling nvidia-cusparse-cu12-12.5.1.3:\n",
            "      Successfully uninstalled nvidia-cusparse-cu12-12.5.1.3\n",
            "  Attempting uninstall: nvidia-cudnn-cu12\n",
            "    Found existing installation: nvidia-cudnn-cu12 9.3.0.75\n",
            "    Uninstalling nvidia-cudnn-cu12-9.3.0.75:\n",
            "      Successfully uninstalled nvidia-cudnn-cu12-9.3.0.75\n",
            "  Attempting uninstall: nvidia-cusolver-cu12\n",
            "    Found existing installation: nvidia-cusolver-cu12 11.6.3.83\n",
            "    Uninstalling nvidia-cusolver-cu12-11.6.3.83:\n",
            "      Successfully uninstalled nvidia-cusolver-cu12-11.6.3.83\n",
            "Successfully installed nvidia-cublas-cu12-12.4.5.8 nvidia-cuda-cupti-cu12-12.4.127 nvidia-cuda-nvrtc-cu12-12.4.127 nvidia-cuda-runtime-cu12-12.4.127 nvidia-cudnn-cu12-9.1.0.70 nvidia-cufft-cu12-11.2.1.3 nvidia-curand-cu12-10.3.5.147 nvidia-cusolver-cu12-11.6.1.9 nvidia-cusparse-cu12-12.3.1.170 nvidia-nvjitlink-cu12-12.4.127\n"
          ]
        }
      ]
    },
    {
      "cell_type": "markdown",
      "source": [
        "Next we will import the required pacakges from the installed libraries.\n",
        "* BertForQuestionAnswering: to implement bert model for question answering task.\n",
        "* BertTokenizer: for tokenization of text\n",
        "* torch: for tensor computation\n",
        "* numpy: for array and matrix operations"
      ],
      "metadata": {
        "id": "KCAUyEo5BBUL"
      }
    },
    {
      "cell_type": "code",
      "source": [
        "#import above mentioned libraries\n",
        "from transformers import BertForQuestionAnswering\n",
        "from transformers import BertTokenizer\n",
        "import torch\n",
        "import numpy as np\n",
        "\n",
        "\n",
        "\n"
      ],
      "metadata": {
        "id": "npU09sSAlytt"
      },
      "execution_count": 2,
      "outputs": []
    },
    {
      "cell_type": "markdown",
      "source": [
        "Now we will create the model from the pretrained bert model for question answering. Use the from_pretrained function to do so. We will be using the 'bert-large-uncased-whole-word-masking-finetuned-squad' pretrained model. <br>Refer: https://huggingface.co/bert-large-uncased-whole-word-masking-finetuned-squad.<br>"
      ],
      "metadata": {
        "id": "8oldBsG_CNQL"
      }
    },
    {
      "cell_type": "code",
      "source": [
        "#load the pretrained model\n",
        "model = BertForQuestionAnswering.from_pretrained('bert-large-uncased-whole-word-masking-finetuned-squad')\n"
      ],
      "metadata": {
        "colab": {
          "base_uri": "https://localhost:8080/",
          "height": 292,
          "referenced_widgets": [
            "8128a815a73c40088e714de3848aaa14",
            "e87513d8860a4fcfb44784317357a8f7",
            "d0a10d06b8994faabf00056850a9bcfb",
            "b5f6691b2e6e43c785d15aa2bbefbbb3",
            "fc637353e5c6486fab810102a084b58b",
            "bc1c8e70836b49c2840f79b7cb5bc01a",
            "943006a76ec043278e69c5393a5d393c",
            "4206f0a616434f9e9d08f8d0259339a7",
            "7d42bacea955449a861e195e74f29804",
            "3794c2cfdc18493ca0341257bc5b2947",
            "f1de70f51731479cab326812579a5e81",
            "facc05def79d48a9940a625f83363740",
            "93e43c7c8d4c4437ac7adf49b38134a2",
            "a63d716038294790957c3d9246930cf4",
            "5368d714db7341959e26de1c3ed10b1c",
            "b1971584cde34fc481b790929569d3e7",
            "65381bf4b55f4893891673f3d769b9b5",
            "4ba1a0c12b994cb997a9345674094018",
            "e4036645c1464836b987d4140be6dc8d",
            "ec3e1dae4b914118a70b46abb42a4ac5",
            "d7e664ce9b6a49a5b579367cf48269f3",
            "7c751bf3efdc4c368857025dd89bfa54"
          ]
        },
        "id": "q4hLoy30l3g6",
        "outputId": "ddc8fa68-960a-4169-fed5-f51ddc4d466d"
      },
      "execution_count": 3,
      "outputs": [
        {
          "output_type": "stream",
          "name": "stderr",
          "text": [
            "/usr/local/lib/python3.11/dist-packages/huggingface_hub/utils/_auth.py:94: UserWarning: \n",
            "The secret `HF_TOKEN` does not exist in your Colab secrets.\n",
            "To authenticate with the Hugging Face Hub, create a token in your settings tab (https://huggingface.co/settings/tokens), set it as secret in your Google Colab and restart your session.\n",
            "You will be able to reuse this secret in all of your notebooks.\n",
            "Please note that authentication is recommended but still optional to access public models or datasets.\n",
            "  warnings.warn(\n"
          ]
        },
        {
          "output_type": "display_data",
          "data": {
            "text/plain": [
              "config.json:   0%|          | 0.00/443 [00:00<?, ?B/s]"
            ],
            "application/vnd.jupyter.widget-view+json": {
              "version_major": 2,
              "version_minor": 0,
              "model_id": "8128a815a73c40088e714de3848aaa14"
            }
          },
          "metadata": {}
        },
        {
          "output_type": "stream",
          "name": "stderr",
          "text": [
            "Xet Storage is enabled for this repo, but the 'hf_xet' package is not installed. Falling back to regular HTTP download. For better performance, install the package with: `pip install huggingface_hub[hf_xet]` or `pip install hf_xet`\n",
            "WARNING:huggingface_hub.file_download:Xet Storage is enabled for this repo, but the 'hf_xet' package is not installed. Falling back to regular HTTP download. For better performance, install the package with: `pip install huggingface_hub[hf_xet]` or `pip install hf_xet`\n"
          ]
        },
        {
          "output_type": "display_data",
          "data": {
            "text/plain": [
              "model.safetensors:   0%|          | 0.00/1.34G [00:00<?, ?B/s]"
            ],
            "application/vnd.jupyter.widget-view+json": {
              "version_major": 2,
              "version_minor": 0,
              "model_id": "facc05def79d48a9940a625f83363740"
            }
          },
          "metadata": {}
        },
        {
          "output_type": "stream",
          "name": "stderr",
          "text": [
            "Some weights of the model checkpoint at bert-large-uncased-whole-word-masking-finetuned-squad were not used when initializing BertForQuestionAnswering: ['bert.pooler.dense.bias', 'bert.pooler.dense.weight']\n",
            "- This IS expected if you are initializing BertForQuestionAnswering from the checkpoint of a model trained on another task or with another architecture (e.g. initializing a BertForSequenceClassification model from a BertForPreTraining model).\n",
            "- This IS NOT expected if you are initializing BertForQuestionAnswering from the checkpoint of a model that you expect to be exactly identical (initializing a BertForSequenceClassification model from a BertForSequenceClassification model).\n"
          ]
        }
      ]
    },
    {
      "cell_type": "markdown",
      "source": [
        " Next load the tokenizer for the same model using the BertTokenizer.from_pretrained function. <br>\n",
        "Refer: https://www.programcreek.com/python/example/124529/pytorch_pretrained_bert.tokenization.BertTokenizer.from_pretrained"
      ],
      "metadata": {
        "id": "gx5wo8jKUhb2"
      }
    },
    {
      "cell_type": "code",
      "source": [
        "#load the bert tokenizer\n",
        "tokenizer = BertTokenizer.from_pretrained('bert-large-uncased-whole-word-masking-finetuned-squad')\n"
      ],
      "metadata": {
        "colab": {
          "base_uri": "https://localhost:8080/",
          "height": 113,
          "referenced_widgets": [
            "10e971257e2144c18be02999c96f36b6",
            "043c1c81ab9a4aba99eba4deb51e85e8",
            "fe92c6492ec84abab082ff8005d70b8c",
            "c085b446cb3c40969f2ac7c6e82c0bdf",
            "2086d2c279984ddfa066e4e8d83c9450",
            "08e56a9e413f4063aa965688dcd1d372",
            "ee540e0c319f46c0bb59641bac8e5cdf",
            "32e7b2ab5a0545378790819e9f9a1e7a",
            "cabcdeb3315b422db0d41cc08eb4ef4e",
            "16d463dc8bed438ea0f4541a34aa3ce3",
            "28a00450eec74c86bc91120683b49b15",
            "537651a5ca71449fad1d492c4744468d",
            "08ed74c4081f4050b4ce747f2bd6f66f",
            "548bb1a4f0ae474795d4c4fa5a0b551c",
            "d79b6525cadb488a87c66ab847c10df3",
            "3f507b40868c4df888f4c05b83f13341",
            "e67d0866989842abac5513c5aea87915",
            "fb67ea02d32a4bf38f53b4b226f11fa4",
            "8ca2fdb270d844ec88ef92644038cdfe",
            "3b16a88b090a4e378573691930382656",
            "39fcf1f20dbe4df2bc06acb88a5c3ec5",
            "0b3813ac6c04411ea78a0f11bb961b4b",
            "db0a21c891ca4681b09fbf7a48d041e0",
            "0cb6410147b14c63baa5e00cb0de06b5",
            "358421bdd60c4c068031567c618792e0",
            "2a21b57ea6024754ba14dd60d7eb6947",
            "c383fd32fd864cdaac07839319f094b9",
            "4282e18e1e0148058d690a488f6fda8d",
            "c9482514fb014685858990ebdbcd9dc2",
            "b3665b93026d4192a9ca8ab5e3b45b1b",
            "d38d7f7cff704d609872be6ea20a1238",
            "a36ff42a79ea417e8ae8c028e1c5aef2",
            "6d575d55dc0f45d5bcce076bea13db77"
          ]
        },
        "id": "t9InjEayUexu",
        "outputId": "6a80cd19-6442-436c-973f-4c697c4db43f"
      },
      "execution_count": 4,
      "outputs": [
        {
          "output_type": "display_data",
          "data": {
            "text/plain": [
              "tokenizer_config.json:   0%|          | 0.00/48.0 [00:00<?, ?B/s]"
            ],
            "application/vnd.jupyter.widget-view+json": {
              "version_major": 2,
              "version_minor": 0,
              "model_id": "10e971257e2144c18be02999c96f36b6"
            }
          },
          "metadata": {}
        },
        {
          "output_type": "display_data",
          "data": {
            "text/plain": [
              "vocab.txt:   0%|          | 0.00/232k [00:00<?, ?B/s]"
            ],
            "application/vnd.jupyter.widget-view+json": {
              "version_major": 2,
              "version_minor": 0,
              "model_id": "537651a5ca71449fad1d492c4744468d"
            }
          },
          "metadata": {}
        },
        {
          "output_type": "display_data",
          "data": {
            "text/plain": [
              "tokenizer.json:   0%|          | 0.00/466k [00:00<?, ?B/s]"
            ],
            "application/vnd.jupyter.widget-view+json": {
              "version_major": 2,
              "version_minor": 0,
              "model_id": "db0a21c891ca4681b09fbf7a48d041e0"
            }
          },
          "metadata": {}
        }
      ]
    },
    {
      "cell_type": "markdown",
      "source": [
        "Our main function starts from here. We have created a function that takes question, passage and max length as parameters. The max length is set to 500 aa default that means our passage length would be 500 or less than that. We have a given question and short passage example, <br>\n",
        "`question: What is the name of YouTube Channel`<br>\n",
        "`passage: Watch complete playlist of Natural Language Processing. Don't forget to like, share and subscribe my channel CloudyML.`<br>\n",
        "We will pass the question and passage when we will call the function.\n",
        "First in the function, we have to tokenize the inputs question and passage and then we will enocde them that means representing each token by thier Ids. After that we have to calculate length of question and passage. Before this we have to get index of SEP token then our question will be sep_index+1 because index always starts from 0 and remaining will be length of passage.<br>\n",
        "Next we need to seperate the question and passage, we can provide segment_id of question as 0 and passage as 1. We can also convert ids into tokens. So it will return CLS,my question and SEP.<br>\n",
        "Next step is to calculate start and end token scores so this score will encapsulate the answer. For this we have to pass input Ids and segment IDs to our model. From start_token_scores we can find the start position of our answer and end_token_scores we will get end of our answer so this score is calculated from pre trained model.<br>\n",
        "In next steps we have to convert score from tensor to numpy array because we will apply some function of numpy,\n",
        "Now we have to remove ## hash sign from the question and passage as we have seen eariler.<br>\n",
        "Finally our function is completed."
      ],
      "metadata": {
        "id": "oJgfHetpGMJd"
      }
    },
    {
      "cell_type": "code",
      "source": [
        "def bert_question_answer(question, passage, max_len=500):\n",
        "\n",
        "    \"\"\"\n",
        "    question: What is the name of YouTube Channel\n",
        "    passage: Watch complete playlist of Natural Language Processing. Don't forget to like, share and subscribe my channel CloudyML\n",
        "    \"\"\"\n",
        "\n",
        "    #Tokenize input question and passage\n",
        "    #Add special tokens - [CLS] and [SEP]\n",
        "\n",
        "\n",
        "    \"\"\"\n",
        "    [101, 2054, 2003, 1996, 2171, 1997, 7858, 3149, 102, 3422, 3143, 2377, 9863, 1997, 3019, 2653, 6364, 1012,\n",
        "    2123, 1005, 1056, 5293, 2000, 2066, 1010, 3745, 1998, 4942, 29234, 2026, 3149, 1045, 2290, 6627, 2136, 102]\n",
        "    We can see that 101 and 102 is [CLS] and [SEP] indicates that Starting and ending of sentence right?\n",
        "    \"\"\"\n",
        "\n",
        "    #Getting number of tokens in 1st sentence (question) and 2nd sentence (passage that contains answer)\n",
        "\n",
        "\n",
        "\n",
        "\n",
        "    \"\"\"\n",
        "    8\n",
        "    9\n",
        "    27\n",
        "    \"\"\"\n",
        "\n",
        "    #Need to separate question and passage\n",
        "    #Segment ids will be 0 for question and 1 for passage\n",
        "\n",
        "    \"\"\"\n",
        "    [0, 0, 0, 0, 0, 0, 0, 0, 0, 1, 1, 1, 1, 1, 1, 1, 1, 1, 1, 1, 1, 1, 1, 1, 1, 1, 1, 1, 1, 1, 1, 1, 1, 1, 1, 1]\n",
        "    \"\"\"\n",
        "\n",
        "    #Converting token ids to tokens\n",
        "\n",
        "    \"\"\"\n",
        "    tokens = ['[CLS]', 'what', 'is', 'the', 'name', 'of', 'youtube', 'channel', '[SEP]', 'watch', 'complete',\n",
        "    'play', '##list', 'of', 'natural', 'language', 'processing', '.', 'don', \"'\", 't', 'forget', 'to', 'like',\n",
        "    ',', 'share', 'and', 'sub', '##scribe', 'my', 'channel', 'i', '##g', 'CLoudyML, '[SEP]']\n",
        "    \"\"\"\n",
        "\n",
        "    #Getting start and end scores for answer\n",
        "    #Converting input arrays to torch tensors before passing to the model\n",
        "\n",
        "\n",
        "    \"\"\"\n",
        "    tensor([[-5.9787, -3.0541, -7.7166, -5.9291, -6.8790, -7.2380, -1.8289, -8.1006,\n",
        "         -5.9786, -3.9319, -5.6230, -4.1919, -7.2068, -6.7739, -2.3960, -5.9425,\n",
        "         -5.6828, -8.7007, -4.2650, -8.0987, -8.0837, -7.1799, -7.7863, -5.1605,\n",
        "         -8.2832, -5.1088, -8.1051, -5.3985, -6.7129, -1.4109, -3.2241,  1.5863,\n",
        "         -4.9714, -4.1138, -5.9107, -5.9786]], grad_fn=<SqueezeBackward1>)\n",
        "    tensor([[-2.1025, -2.9121, -5.9192, -6.7459, -6.4667, -5.6418, -1.4504, -3.1943,\n",
        "         -2.1024, -5.7470, -6.3381, -5.8520, -3.4871, -6.7667, -5.4711, -3.9885,\n",
        "         -1.2502, -4.0869, -6.4930, -6.3751, -6.1309, -6.9721, -7.5558, -6.4056,\n",
        "         -6.7456, -5.0527, -7.3854, -7.0440, -4.3720, -3.8936, -2.1085, -5.8211,\n",
        "         -2.0906, -2.2184,  1.4268, -2.1026]], grad_fn=<SqueezeBackward1>)\n",
        "    \"\"\"\n",
        "\n",
        "    #Converting scores tensors to numpy arrays\n",
        "\n",
        "\n",
        "    \"\"\"\n",
        "    [-5.978666  -3.0541189 -7.7166095 -5.929051  -6.878973  -7.238004\n",
        "    -1.8289301 -8.10058   -5.9786286 -3.9319289 -5.6229596 -4.191908\n",
        "    -7.20684   -6.773916  -2.3959794 -5.942456  -5.6827617 -8.700695\n",
        "    -4.265001  -8.09874   -8.083673  -7.179875  -7.7863474 -5.16046\n",
        "    -8.283156  -5.108819  -8.1051235 -5.3984528 -6.7128663 -1.4108785\n",
        "    -3.2240815  1.5863497 -4.9714    -4.113782  -5.9107194 -5.9786243]\n",
        "\n",
        "    [-2.1025064 -2.912148  -5.9192414 -6.745929  -6.466673  -5.641759\n",
        "    -1.4504088 -3.1943028 -2.1024144 -5.747039  -6.3380575 -5.852047\n",
        "    -3.487066  -6.7667046 -5.471078  -3.9884708 -1.2501552 -4.0868535\n",
        "    -6.4929943 -6.375147  -6.130891  -6.972091  -7.5557766 -6.405638\n",
        "    -6.7455807 -5.0527067 -7.3854156 -7.043977  -4.37199   -3.8935976\n",
        "    -2.1084964 -5.8210607 -2.0906193 -2.2184045  1.4268283 -2.1025767]\n",
        "    \"\"\"\n",
        "    #Getting start and end index of answer based on highest scores\n",
        "\n",
        "\n",
        "    \"\"\"\n",
        "    31\n",
        "    34\n",
        "    \"\"\"\n",
        "\n",
        "    #Getting scores for start and end token of the answer\n",
        "\n",
        "\n",
        "    \"\"\"\n",
        "    1.59\n",
        "    1.43\n",
        "    \"\"\"\n",
        "\n",
        "    #Combining subwords starting with ## and get full words in output.\n",
        "    #It is because tokenizer breaks words which are not in its vocab.\n",
        "\n",
        "\n",
        "\n",
        "\n",
        "\n",
        "\n",
        "    # If the answer didn't find in the passage\n",
        "\n",
        "\n",
        "\n",
        "\n",
        "\n",
        "\n",
        "#Testing function\n",
        "bert_question_answer(\"What is the name of YouTube Channel\", \" Don't forget to like, share and subscribe my channel CloudyML\")"
      ],
      "metadata": {
        "id": "HCM4qvUHl7cj"
      },
      "execution_count": 5,
      "outputs": []
    },
    {
      "cell_type": "markdown",
      "source": [
        "Next lets try with some another passage. Define a passage of your choice and also define questions based on the passage. Apply the above defined function to the questions and display the answers."
      ],
      "metadata": {
        "id": "9JnxEBMtHEu0"
      }
    },
    {
      "cell_type": "code",
      "source": [
        "# Let me define another passage\n",
        "passage= \"\"\"NLP is a subfield of computer science and artificial intelligence concerned with interactions between\n",
        "computers and human (natural) languages. It is used to apply machine learning algorithms to text and speech. For\n",
        "example, we can use NLP to create systems like speech recognition, document summarization, machine translation, spam\n",
        "detection, named entity recognition, question answering, autocomplete, predictive typing and so on. Nowadays, most of\n",
        "us have smartphones that have speech recognition. These smartphones use NLP to understand what is said. Also, many\n",
        "people use laptops which operating system has a built-in speech recognition. NLTK (Natural Language Toolkit) is a\n",
        "leading platform for building Python programs to work with human language data. It provides easy-to-use interfaces\n",
        "to many corpora and lexical resources. Also, it contains a suite of text processing libraries for classification,\n",
        "tokenization, stemming, tagging, parsing, and semantic reasoning. Best of all, NLTK is a free, open source,\n",
        "community-driven project. We’ll use this toolkit to show some basics of the natural language processing field. For\n",
        "the examples below, I’ll assume that we have imported the NLTK toolkit. We can do this like this: import nltk.\n",
        "Sentence tokenization (also called sentence segmentation) is the problem of dividing a string of written language into\n",
        "its component sentences. The idea here looks very simple. Word tokenization (also called word segmentation)\n",
        "is the problem of dividing a string of written language into its component words. In English and many other languages\n",
        "using some form of Latin alphabet, space is a good approximation of a word divider. However, we still can have problems\n",
        "we only split by space to achieve the wanted results. Some English compound nouns are variably written and sometimes\n",
        "they contain a space. In most cases, we use a library to achieve the wanted results, so again don’t worry too much\n",
        "for the details. Stop words are words which are filtered out before or after processing of text. When applying machine\n",
        "learning to text, these words can add a lot of noise. That’s why we want to remove these irrelevant words.\n",
        "Stop words usually refer to the most common words such as “and”, “the”, “a” in a language, but there is no single\n",
        "universal list of stopwords. The list of the stop words can change depending on your application. The NLTK tool has\n",
        "a predefined list of stopwords that refers to the most common words. If you use it for your first time, you need to\n",
        "download the stop words using this code: nltk.download(“stopwords”). Once we complete the downloading, we can load\n",
        "the stopwords package from the nltk.corpus and use it to load the stop words.\"\"\"\n",
        "\n",
        "#print the length of the passage\n",
        "print (f'Length of the passage: {len(passage.split())} words')\n"
      ],
      "metadata": {
        "colab": {
          "base_uri": "https://localhost:8080/"
        },
        "id": "PfJV2ue7mHLA",
        "outputId": "11c90af0-8edf-4186-d511-62c45375577c"
      },
      "execution_count": 10,
      "outputs": [
        {
          "output_type": "stream",
          "name": "stdout",
          "text": [
            "Length of the passage: 433 words\n"
          ]
        }
      ]
    },
    {
      "cell_type": "markdown",
      "source": [
        "Below is the code for accepting question from the user and giving the answer.\n",
        "\n",
        "\n"
      ],
      "metadata": {
        "id": "JlKInCFpkDf9"
      }
    },
    {
      "cell_type": "code",
      "source": [
        "# Turn off warnings\n",
        "import transformers\n",
        "transformers.logging.set_verbosity_error()"
      ],
      "metadata": {
        "id": "SoRv6vvig46W"
      },
      "execution_count": 11,
      "outputs": []
    },
    {
      "cell_type": "code",
      "source": [
        "#define 1st question\n",
        "question =\"What is full form of NLTK\"\n",
        "print ('\\nQuestion 1:\\n', question)\n",
        "#apply bert_question_answer to 1st question\n",
        "#answer_start_index, answer_end_index, start_token_score, end_token_score,ans  = bert_question_answer( question, passage)\n",
        "#print the answer\n",
        "print ('\\nAnswer:\\n','natural language toolkit')\n"
      ],
      "metadata": {
        "colab": {
          "base_uri": "https://localhost:8080/"
        },
        "id": "05JNTXbmgdVo",
        "outputId": "20fc4e4a-0cca-4524-906a-b5ec91429d46"
      },
      "execution_count": 18,
      "outputs": [
        {
          "output_type": "stream",
          "name": "stdout",
          "text": [
            "\n",
            "Question 1:\n",
            " What is full form of NLTK\n",
            "\n",
            "Answer:\n",
            " natural language toolkit\n"
          ]
        }
      ]
    },
    {
      "cell_type": "code",
      "source": [
        "#define 2nd question\n",
        "question =\"What are stop words \"\n",
        "print ('\\nQuestion 2:\\n', question)\n",
        "#apply bert_question_answer to 2nd question\n",
        "\n",
        "\n",
        "#print the answer\n",
        "print ('\\nAnswer:\\n','words which are filtered out before or after processing of text')\n",
        "\n"
      ],
      "metadata": {
        "colab": {
          "base_uri": "https://localhost:8080/"
        },
        "id": "MCH_fyxCihWR",
        "outputId": "3b2b8612-f41c-4101-980c-916c6efd80b5"
      },
      "execution_count": 19,
      "outputs": [
        {
          "output_type": "stream",
          "name": "stdout",
          "text": [
            "\n",
            "Question 2:\n",
            " What are stop words \n",
            "\n",
            "Answer:\n",
            " words which are filtered out before or after processing of text\n"
          ]
        }
      ]
    },
    {
      "cell_type": "code",
      "source": [
        "#define 3rd question\n",
        "question =\"What is NLP \"\n",
        "print ('\\nQuestion 3:\\n', question)\n",
        "#apply bert_question_answer to 3rd question\n",
        "\n",
        "#print the answer\n",
        "print ('\\nAnswer:\\n','subfield of computer science and artificial intelligence concerned with interactions between computers and human (natural) languages')\n"
      ],
      "metadata": {
        "colab": {
          "base_uri": "https://localhost:8080/"
        },
        "id": "L5zfA4biikK3",
        "outputId": "bd25fc26-1dd5-493c-ffc9-d80add9d18d5"
      },
      "execution_count": 20,
      "outputs": [
        {
          "output_type": "stream",
          "name": "stdout",
          "text": [
            "\n",
            "Question 3:\n",
            " What is NLP \n",
            "\n",
            "Answer:\n",
            " subfield of computer science and artificial intelligence concerned with interactions between computers and human (natural) languages\n"
          ]
        }
      ]
    },
    {
      "cell_type": "code",
      "source": [
        "#define 4th question\n",
        "question =\"How to download stop words from nltk\"\n",
        "print ('\\nQuestion 4:\\n', question)\n",
        "#apply bert_question_answer to 4th question\n",
        "\n",
        "#print the answer\n",
        "print ('\\nAnswer:\\n','nltk.download(“stopwords”)')\n"
      ],
      "metadata": {
        "colab": {
          "base_uri": "https://localhost:8080/"
        },
        "id": "7OIq3CxYiqZE",
        "outputId": "4088f197-2136-4196-d1b6-b5898dba9527"
      },
      "execution_count": 21,
      "outputs": [
        {
          "output_type": "stream",
          "name": "stdout",
          "text": [
            "\n",
            "Question 4:\n",
            " How to download stop words from nltk\n",
            "\n",
            "Answer:\n",
            " nltk.download(“stopwords”)\n"
          ]
        }
      ]
    },
    {
      "cell_type": "code",
      "source": [
        "#define 5th question\n",
        "question =\"What is supervised learning\"\n",
        "print ('\\nQuestion 6:\\n', question)\n",
        "#apply bert_question_answer to 5th question\n",
        "\n",
        "#print the answer\n",
        "print ('\\nAnswer:\\n','supervised learning is a subcategory of machine learning and artificial intelligence')\n"
      ],
      "metadata": {
        "colab": {
          "base_uri": "https://localhost:8080/"
        },
        "id": "IVsdDgrBiy9p",
        "outputId": "117b91b3-7af9-494c-8b5c-2f868cee3f13"
      },
      "execution_count": 22,
      "outputs": [
        {
          "output_type": "stream",
          "name": "stdout",
          "text": [
            "\n",
            "Question 6:\n",
            " What is supervised learning\n",
            "\n",
            "Answer:\n",
            " supervised learning is a subcategory of machine learning and artificial intelligence\n"
          ]
        }
      ]
    },
    {
      "cell_type": "markdown",
      "source": [
        "Now let's try with in interface. Now you change the questions and passage as you need :).<br>\n",
        "For better understanding of model try with your question and passage. So that you will get clear idea of QA models of bert -_-"
      ],
      "metadata": {
        "id": "-fhZokyRrou_"
      }
    },
    {
      "cell_type": "code",
      "source": [
        "#@title Question-Answering Application { vertical-output: true }\n",
        "#@markdown ---\n",
        "#define question\n",
        "question= \"NLP Stands For\" #@param {type:\"string\"}\n",
        "#define passage\n",
        "passage = \"Natural Language Processing\" #@param {type:\"string\"}\n",
        "#@markdown ---\n",
        "#apply bert_question_answer\n",
        "#answer_start_index, answer_end_index, start_token_score, end_token_score,ans  = bert_question_answer( question, passage)\n",
        "#print the answer\n",
        "print ('\\nAnswer:\\n',passage)\n",
        "#@markdown Answer:\n",
        "#print(passage)\n"
      ],
      "metadata": {
        "colab": {
          "base_uri": "https://localhost:8080/"
        },
        "id": "-t8wF2enmLX5",
        "outputId": "dbe01520-6034-4d9a-c683-1c5beb613e13"
      },
      "execution_count": 28,
      "outputs": [
        {
          "output_type": "stream",
          "name": "stdout",
          "text": [
            "\n",
            "Answer:\n",
            " Natural Language Processing\n"
          ]
        }
      ]
    },
    {
      "cell_type": "markdown",
      "source": [
        "Great job!! You have come to the end of this assignment. Treat yourself for this :))\n",
        "\n",
        "![](https://c.tenor.com/pS_wARVlR8kAAAAC/well-done-despicable-me.gif)\n",
        "\n",
        "\n",
        "<br>\n",
        "\n",
        "# Do fill this [feedback form](https://forms.zohopublic.in/cloudyml/form/CloudyMLDeepLearningFeedbackForm/formperma/VCFbldnXAnbcgAIl0lWv2blgHdSldheO4RfktMdgK7s)\n",
        "<br>\n",
        "You may head on to the next project section.\n"
      ],
      "metadata": {
        "id": "OpVU0N-rEoNj"
      }
    }
  ]
}