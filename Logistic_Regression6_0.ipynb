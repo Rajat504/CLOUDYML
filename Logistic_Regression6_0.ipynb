{
  "cells": [
    {
      "cell_type": "markdown",
      "metadata": {
        "id": "view-in-github",
        "colab_type": "text"
      },
      "source": [
        "<a href=\"https://colab.research.google.com/github/Rajat504/CLOUDYML/blob/main/Logistic_Regression6_0.ipynb\" target=\"_parent\"><img src=\"https://colab.research.google.com/assets/colab-badge.svg\" alt=\"Open In Colab\"/></a>"
      ]
    },
    {
      "cell_type": "markdown",
      "metadata": {
        "collapsed": true,
        "id": "YXsoHTyH1H2w"
      },
      "source": [
        "# <center><u>**`LOGISTIC REGRESSION`**</u></center>\n",
        "\n",
        "Hi aspirant, You have already learned simple, multiple and some advance regression techniques. Now lets jump to another hands-on assignment on Logistic regression.\n",
        "\n",
        "Logistic regression is a statistical model that in its basic form uses a logistic function to model a binary dependent variable, although many more complex extensions exist. In regression analysis, logistic regression (or logit regression) is estimating the parameters of a logistic model (a form of binary regression).\n",
        "\n",
        "\n",
        "\n",
        "## **`Problem statement:`**\n",
        "\n",
        "#### **`Telecom Churn Case Study`**\n",
        "\n",
        "With 21 predictor variables we need to predict whether a particular customer will switch to another telecom provider or not. In telecom terminology, this is referred to as churning and not churning, respectively.\n",
        "\n",
        "\n",
        "So smile please and lets get started with this amazing assignment."
      ]
    },
    {
      "cell_type": "markdown",
      "source": [
        "# **`WATCH ALL VIDEOS IN THE PORTAL`**"
      ],
      "metadata": {
        "id": "gp_Ij0qknKAd"
      }
    },
    {
      "cell_type": "markdown",
      "source": [
        "#### **`Do watch these video for its indepth conceptual clarity:`**"
      ],
      "metadata": {
        "id": "8ZPmVX0CoRHt"
      }
    },
    {
      "cell_type": "markdown",
      "source": [
        "## **`Watch Video 1, 2, 3: Logistic Regression Intuition`**"
      ],
      "metadata": {
        "id": "flsHWx4VnONt"
      }
    },
    {
      "cell_type": "markdown",
      "metadata": {
        "id": "vLVH-dQP1H22"
      },
      "source": [
        "### **`Importing and Merging Data`**\n",
        "<p style='text-align: right;'> 4 points</p>\n"
      ]
    },
    {
      "cell_type": "code",
      "execution_count": null,
      "metadata": {
        "id": "h2dF4li21H23"
      },
      "outputs": [],
      "source": [
        "# Importing Pandas and NumPy\n",
        "import numpy as np\n",
        "import pandas as pd\n",
        "\n",
        "\n"
      ]
    },
    {
      "cell_type": "code",
      "execution_count": null,
      "metadata": {
        "id": "ZGP1WPRC1H24"
      },
      "outputs": [],
      "source": [
        "# Importing all datasets\n",
        "churn_data =  pd.read_csv('churn_data.csv')\n",
        "customer_data = pd.read_csv('customer_data.csv')\n",
        "internet_data = pd.read_csv('internet_data.csv')"
      ]
    },
    {
      "cell_type": "code",
      "execution_count": null,
      "metadata": {
        "id": "KYHnX0M11H25"
      },
      "outputs": [],
      "source": [
        "#Merging churn_data and customer_data on 'customerID' using inner join on customerID\n",
        "df_1 = pd.merge(churn_data, customer_data, how='inner', on='customerID')\n"
      ]
    },
    {
      "cell_type": "code",
      "execution_count": null,
      "metadata": {
        "id": "J5BDtcd_1H25"
      },
      "outputs": [],
      "source": [
        "#Final dataframe with all predictor variables (merging df_1 and internet_data on 'customerID')\n",
        "telecom = pd.merge(df_1, internet_data, how='inner', on='customerID')\n"
      ]
    },
    {
      "cell_type": "markdown",
      "metadata": {
        "id": "F33iSTdT1H26"
      },
      "source": [
        "### Let's understand the structure of our dataframe\n",
        "<p style='text-align: right;'> 3 points</p>\n"
      ]
    },
    {
      "cell_type": "code",
      "execution_count": null,
      "metadata": {
        "id": "C_hwZXFl1H27",
        "outputId": "16657c7b-3692-4600-da0f-39fa1214a270",
        "colab": {
          "base_uri": "https://localhost:8080/",
          "height": 342
        }
      },
      "outputs": [
        {
          "output_type": "execute_result",
          "data": {
            "text/plain": [
              "   customerID  tenure PhoneService        Contract PaperlessBilling  \\\n",
              "0  7590-VHVEG       1           No  Month-to-month              Yes   \n",
              "1  5575-GNVDE      34          Yes        One year               No   \n",
              "2  3668-QPYBK       2          Yes  Month-to-month              Yes   \n",
              "3  7795-CFOCW      45           No        One year               No   \n",
              "4  9237-HQITU       2          Yes  Month-to-month              Yes   \n",
              "\n",
              "               PaymentMethod  MonthlyCharges TotalCharges Churn  gender  ...  \\\n",
              "0           Electronic check           29.85        29.85    No  Female  ...   \n",
              "1               Mailed check           56.95       1889.5    No    Male  ...   \n",
              "2               Mailed check           53.85       108.15   Yes    Male  ...   \n",
              "3  Bank transfer (automatic)           42.30      1840.75    No    Male  ...   \n",
              "4           Electronic check           70.70       151.65   Yes  Female  ...   \n",
              "\n",
              "   Partner Dependents     MultipleLines InternetService OnlineSecurity  \\\n",
              "0      Yes         No  No phone service             DSL             No   \n",
              "1       No         No                No             DSL            Yes   \n",
              "2       No         No                No             DSL            Yes   \n",
              "3       No         No  No phone service             DSL            Yes   \n",
              "4       No         No                No     Fiber optic             No   \n",
              "\n",
              "  OnlineBackup DeviceProtection TechSupport StreamingTV StreamingMovies  \n",
              "0          Yes               No          No          No              No  \n",
              "1           No              Yes          No          No              No  \n",
              "2          Yes               No          No          No              No  \n",
              "3           No              Yes         Yes          No              No  \n",
              "4           No               No          No          No              No  \n",
              "\n",
              "[5 rows x 21 columns]"
            ],
            "text/html": [
              "\n",
              "  <div id=\"df-cc382f07-1a5a-46e5-b77c-49c2baac30ba\" class=\"colab-df-container\">\n",
              "    <div>\n",
              "<style scoped>\n",
              "    .dataframe tbody tr th:only-of-type {\n",
              "        vertical-align: middle;\n",
              "    }\n",
              "\n",
              "    .dataframe tbody tr th {\n",
              "        vertical-align: top;\n",
              "    }\n",
              "\n",
              "    .dataframe thead th {\n",
              "        text-align: right;\n",
              "    }\n",
              "</style>\n",
              "<table border=\"1\" class=\"dataframe\">\n",
              "  <thead>\n",
              "    <tr style=\"text-align: right;\">\n",
              "      <th></th>\n",
              "      <th>customerID</th>\n",
              "      <th>tenure</th>\n",
              "      <th>PhoneService</th>\n",
              "      <th>Contract</th>\n",
              "      <th>PaperlessBilling</th>\n",
              "      <th>PaymentMethod</th>\n",
              "      <th>MonthlyCharges</th>\n",
              "      <th>TotalCharges</th>\n",
              "      <th>Churn</th>\n",
              "      <th>gender</th>\n",
              "      <th>...</th>\n",
              "      <th>Partner</th>\n",
              "      <th>Dependents</th>\n",
              "      <th>MultipleLines</th>\n",
              "      <th>InternetService</th>\n",
              "      <th>OnlineSecurity</th>\n",
              "      <th>OnlineBackup</th>\n",
              "      <th>DeviceProtection</th>\n",
              "      <th>TechSupport</th>\n",
              "      <th>StreamingTV</th>\n",
              "      <th>StreamingMovies</th>\n",
              "    </tr>\n",
              "  </thead>\n",
              "  <tbody>\n",
              "    <tr>\n",
              "      <th>0</th>\n",
              "      <td>7590-VHVEG</td>\n",
              "      <td>1</td>\n",
              "      <td>No</td>\n",
              "      <td>Month-to-month</td>\n",
              "      <td>Yes</td>\n",
              "      <td>Electronic check</td>\n",
              "      <td>29.85</td>\n",
              "      <td>29.85</td>\n",
              "      <td>No</td>\n",
              "      <td>Female</td>\n",
              "      <td>...</td>\n",
              "      <td>Yes</td>\n",
              "      <td>No</td>\n",
              "      <td>No phone service</td>\n",
              "      <td>DSL</td>\n",
              "      <td>No</td>\n",
              "      <td>Yes</td>\n",
              "      <td>No</td>\n",
              "      <td>No</td>\n",
              "      <td>No</td>\n",
              "      <td>No</td>\n",
              "    </tr>\n",
              "    <tr>\n",
              "      <th>1</th>\n",
              "      <td>5575-GNVDE</td>\n",
              "      <td>34</td>\n",
              "      <td>Yes</td>\n",
              "      <td>One year</td>\n",
              "      <td>No</td>\n",
              "      <td>Mailed check</td>\n",
              "      <td>56.95</td>\n",
              "      <td>1889.5</td>\n",
              "      <td>No</td>\n",
              "      <td>Male</td>\n",
              "      <td>...</td>\n",
              "      <td>No</td>\n",
              "      <td>No</td>\n",
              "      <td>No</td>\n",
              "      <td>DSL</td>\n",
              "      <td>Yes</td>\n",
              "      <td>No</td>\n",
              "      <td>Yes</td>\n",
              "      <td>No</td>\n",
              "      <td>No</td>\n",
              "      <td>No</td>\n",
              "    </tr>\n",
              "    <tr>\n",
              "      <th>2</th>\n",
              "      <td>3668-QPYBK</td>\n",
              "      <td>2</td>\n",
              "      <td>Yes</td>\n",
              "      <td>Month-to-month</td>\n",
              "      <td>Yes</td>\n",
              "      <td>Mailed check</td>\n",
              "      <td>53.85</td>\n",
              "      <td>108.15</td>\n",
              "      <td>Yes</td>\n",
              "      <td>Male</td>\n",
              "      <td>...</td>\n",
              "      <td>No</td>\n",
              "      <td>No</td>\n",
              "      <td>No</td>\n",
              "      <td>DSL</td>\n",
              "      <td>Yes</td>\n",
              "      <td>Yes</td>\n",
              "      <td>No</td>\n",
              "      <td>No</td>\n",
              "      <td>No</td>\n",
              "      <td>No</td>\n",
              "    </tr>\n",
              "    <tr>\n",
              "      <th>3</th>\n",
              "      <td>7795-CFOCW</td>\n",
              "      <td>45</td>\n",
              "      <td>No</td>\n",
              "      <td>One year</td>\n",
              "      <td>No</td>\n",
              "      <td>Bank transfer (automatic)</td>\n",
              "      <td>42.30</td>\n",
              "      <td>1840.75</td>\n",
              "      <td>No</td>\n",
              "      <td>Male</td>\n",
              "      <td>...</td>\n",
              "      <td>No</td>\n",
              "      <td>No</td>\n",
              "      <td>No phone service</td>\n",
              "      <td>DSL</td>\n",
              "      <td>Yes</td>\n",
              "      <td>No</td>\n",
              "      <td>Yes</td>\n",
              "      <td>Yes</td>\n",
              "      <td>No</td>\n",
              "      <td>No</td>\n",
              "    </tr>\n",
              "    <tr>\n",
              "      <th>4</th>\n",
              "      <td>9237-HQITU</td>\n",
              "      <td>2</td>\n",
              "      <td>Yes</td>\n",
              "      <td>Month-to-month</td>\n",
              "      <td>Yes</td>\n",
              "      <td>Electronic check</td>\n",
              "      <td>70.70</td>\n",
              "      <td>151.65</td>\n",
              "      <td>Yes</td>\n",
              "      <td>Female</td>\n",
              "      <td>...</td>\n",
              "      <td>No</td>\n",
              "      <td>No</td>\n",
              "      <td>No</td>\n",
              "      <td>Fiber optic</td>\n",
              "      <td>No</td>\n",
              "      <td>No</td>\n",
              "      <td>No</td>\n",
              "      <td>No</td>\n",
              "      <td>No</td>\n",
              "      <td>No</td>\n",
              "    </tr>\n",
              "  </tbody>\n",
              "</table>\n",
              "<p>5 rows × 21 columns</p>\n",
              "</div>\n",
              "    <div class=\"colab-df-buttons\">\n",
              "\n",
              "  <div class=\"colab-df-container\">\n",
              "    <button class=\"colab-df-convert\" onclick=\"convertToInteractive('df-cc382f07-1a5a-46e5-b77c-49c2baac30ba')\"\n",
              "            title=\"Convert this dataframe to an interactive table.\"\n",
              "            style=\"display:none;\">\n",
              "\n",
              "  <svg xmlns=\"http://www.w3.org/2000/svg\" height=\"24px\" viewBox=\"0 -960 960 960\">\n",
              "    <path d=\"M120-120v-720h720v720H120Zm60-500h600v-160H180v160Zm220 220h160v-160H400v160Zm0 220h160v-160H400v160ZM180-400h160v-160H180v160Zm440 0h160v-160H620v160ZM180-180h160v-160H180v160Zm440 0h160v-160H620v160Z\"/>\n",
              "  </svg>\n",
              "    </button>\n",
              "\n",
              "  <style>\n",
              "    .colab-df-container {\n",
              "      display:flex;\n",
              "      gap: 12px;\n",
              "    }\n",
              "\n",
              "    .colab-df-convert {\n",
              "      background-color: #E8F0FE;\n",
              "      border: none;\n",
              "      border-radius: 50%;\n",
              "      cursor: pointer;\n",
              "      display: none;\n",
              "      fill: #1967D2;\n",
              "      height: 32px;\n",
              "      padding: 0 0 0 0;\n",
              "      width: 32px;\n",
              "    }\n",
              "\n",
              "    .colab-df-convert:hover {\n",
              "      background-color: #E2EBFA;\n",
              "      box-shadow: 0px 1px 2px rgba(60, 64, 67, 0.3), 0px 1px 3px 1px rgba(60, 64, 67, 0.15);\n",
              "      fill: #174EA6;\n",
              "    }\n",
              "\n",
              "    .colab-df-buttons div {\n",
              "      margin-bottom: 4px;\n",
              "    }\n",
              "\n",
              "    [theme=dark] .colab-df-convert {\n",
              "      background-color: #3B4455;\n",
              "      fill: #D2E3FC;\n",
              "    }\n",
              "\n",
              "    [theme=dark] .colab-df-convert:hover {\n",
              "      background-color: #434B5C;\n",
              "      box-shadow: 0px 1px 3px 1px rgba(0, 0, 0, 0.15);\n",
              "      filter: drop-shadow(0px 1px 2px rgba(0, 0, 0, 0.3));\n",
              "      fill: #FFFFFF;\n",
              "    }\n",
              "  </style>\n",
              "\n",
              "    <script>\n",
              "      const buttonEl =\n",
              "        document.querySelector('#df-cc382f07-1a5a-46e5-b77c-49c2baac30ba button.colab-df-convert');\n",
              "      buttonEl.style.display =\n",
              "        google.colab.kernel.accessAllowed ? 'block' : 'none';\n",
              "\n",
              "      async function convertToInteractive(key) {\n",
              "        const element = document.querySelector('#df-cc382f07-1a5a-46e5-b77c-49c2baac30ba');\n",
              "        const dataTable =\n",
              "          await google.colab.kernel.invokeFunction('convertToInteractive',\n",
              "                                                    [key], {});\n",
              "        if (!dataTable) return;\n",
              "\n",
              "        const docLinkHtml = 'Like what you see? Visit the ' +\n",
              "          '<a target=\"_blank\" href=https://colab.research.google.com/notebooks/data_table.ipynb>data table notebook</a>'\n",
              "          + ' to learn more about interactive tables.';\n",
              "        element.innerHTML = '';\n",
              "        dataTable['output_type'] = 'display_data';\n",
              "        await google.colab.output.renderOutput(dataTable, element);\n",
              "        const docLink = document.createElement('div');\n",
              "        docLink.innerHTML = docLinkHtml;\n",
              "        element.appendChild(docLink);\n",
              "      }\n",
              "    </script>\n",
              "  </div>\n",
              "\n",
              "\n",
              "<div id=\"df-f9b1b9ab-ca3b-4e06-9b65-bb1ae1fb8893\">\n",
              "  <button class=\"colab-df-quickchart\" onclick=\"quickchart('df-f9b1b9ab-ca3b-4e06-9b65-bb1ae1fb8893')\"\n",
              "            title=\"Suggest charts\"\n",
              "            style=\"display:none;\">\n",
              "\n",
              "<svg xmlns=\"http://www.w3.org/2000/svg\" height=\"24px\"viewBox=\"0 0 24 24\"\n",
              "     width=\"24px\">\n",
              "    <g>\n",
              "        <path d=\"M19 3H5c-1.1 0-2 .9-2 2v14c0 1.1.9 2 2 2h14c1.1 0 2-.9 2-2V5c0-1.1-.9-2-2-2zM9 17H7v-7h2v7zm4 0h-2V7h2v10zm4 0h-2v-4h2v4z\"/>\n",
              "    </g>\n",
              "</svg>\n",
              "  </button>\n",
              "\n",
              "<style>\n",
              "  .colab-df-quickchart {\n",
              "      --bg-color: #E8F0FE;\n",
              "      --fill-color: #1967D2;\n",
              "      --hover-bg-color: #E2EBFA;\n",
              "      --hover-fill-color: #174EA6;\n",
              "      --disabled-fill-color: #AAA;\n",
              "      --disabled-bg-color: #DDD;\n",
              "  }\n",
              "\n",
              "  [theme=dark] .colab-df-quickchart {\n",
              "      --bg-color: #3B4455;\n",
              "      --fill-color: #D2E3FC;\n",
              "      --hover-bg-color: #434B5C;\n",
              "      --hover-fill-color: #FFFFFF;\n",
              "      --disabled-bg-color: #3B4455;\n",
              "      --disabled-fill-color: #666;\n",
              "  }\n",
              "\n",
              "  .colab-df-quickchart {\n",
              "    background-color: var(--bg-color);\n",
              "    border: none;\n",
              "    border-radius: 50%;\n",
              "    cursor: pointer;\n",
              "    display: none;\n",
              "    fill: var(--fill-color);\n",
              "    height: 32px;\n",
              "    padding: 0;\n",
              "    width: 32px;\n",
              "  }\n",
              "\n",
              "  .colab-df-quickchart:hover {\n",
              "    background-color: var(--hover-bg-color);\n",
              "    box-shadow: 0 1px 2px rgba(60, 64, 67, 0.3), 0 1px 3px 1px rgba(60, 64, 67, 0.15);\n",
              "    fill: var(--button-hover-fill-color);\n",
              "  }\n",
              "\n",
              "  .colab-df-quickchart-complete:disabled,\n",
              "  .colab-df-quickchart-complete:disabled:hover {\n",
              "    background-color: var(--disabled-bg-color);\n",
              "    fill: var(--disabled-fill-color);\n",
              "    box-shadow: none;\n",
              "  }\n",
              "\n",
              "  .colab-df-spinner {\n",
              "    border: 2px solid var(--fill-color);\n",
              "    border-color: transparent;\n",
              "    border-bottom-color: var(--fill-color);\n",
              "    animation:\n",
              "      spin 1s steps(1) infinite;\n",
              "  }\n",
              "\n",
              "  @keyframes spin {\n",
              "    0% {\n",
              "      border-color: transparent;\n",
              "      border-bottom-color: var(--fill-color);\n",
              "      border-left-color: var(--fill-color);\n",
              "    }\n",
              "    20% {\n",
              "      border-color: transparent;\n",
              "      border-left-color: var(--fill-color);\n",
              "      border-top-color: var(--fill-color);\n",
              "    }\n",
              "    30% {\n",
              "      border-color: transparent;\n",
              "      border-left-color: var(--fill-color);\n",
              "      border-top-color: var(--fill-color);\n",
              "      border-right-color: var(--fill-color);\n",
              "    }\n",
              "    40% {\n",
              "      border-color: transparent;\n",
              "      border-right-color: var(--fill-color);\n",
              "      border-top-color: var(--fill-color);\n",
              "    }\n",
              "    60% {\n",
              "      border-color: transparent;\n",
              "      border-right-color: var(--fill-color);\n",
              "    }\n",
              "    80% {\n",
              "      border-color: transparent;\n",
              "      border-right-color: var(--fill-color);\n",
              "      border-bottom-color: var(--fill-color);\n",
              "    }\n",
              "    90% {\n",
              "      border-color: transparent;\n",
              "      border-bottom-color: var(--fill-color);\n",
              "    }\n",
              "  }\n",
              "</style>\n",
              "\n",
              "  <script>\n",
              "    async function quickchart(key) {\n",
              "      const quickchartButtonEl =\n",
              "        document.querySelector('#' + key + ' button');\n",
              "      quickchartButtonEl.disabled = true;  // To prevent multiple clicks.\n",
              "      quickchartButtonEl.classList.add('colab-df-spinner');\n",
              "      try {\n",
              "        const charts = await google.colab.kernel.invokeFunction(\n",
              "            'suggestCharts', [key], {});\n",
              "      } catch (error) {\n",
              "        console.error('Error during call to suggestCharts:', error);\n",
              "      }\n",
              "      quickchartButtonEl.classList.remove('colab-df-spinner');\n",
              "      quickchartButtonEl.classList.add('colab-df-quickchart-complete');\n",
              "    }\n",
              "    (() => {\n",
              "      let quickchartButtonEl =\n",
              "        document.querySelector('#df-f9b1b9ab-ca3b-4e06-9b65-bb1ae1fb8893 button');\n",
              "      quickchartButtonEl.style.display =\n",
              "        google.colab.kernel.accessAllowed ? 'block' : 'none';\n",
              "    })();\n",
              "  </script>\n",
              "</div>\n",
              "\n",
              "    </div>\n",
              "  </div>\n"
            ],
            "application/vnd.google.colaboratory.intrinsic+json": {
              "type": "dataframe",
              "variable_name": "telecom"
            }
          },
          "metadata": {},
          "execution_count": 58
        }
      ],
      "source": [
        "# Let's see the head of our master dataset\n",
        "telecom.head()\n",
        "\n"
      ]
    },
    {
      "cell_type": "code",
      "execution_count": null,
      "metadata": {
        "id": "4bC_eHNp1H28",
        "outputId": "474b1d8b-16b0-4711-d8aa-49435446d786",
        "colab": {
          "base_uri": "https://localhost:8080/",
          "height": 300
        }
      },
      "outputs": [
        {
          "output_type": "execute_result",
          "data": {
            "text/plain": [
              "            tenure  MonthlyCharges  SeniorCitizen\n",
              "count  7043.000000     7043.000000    7043.000000\n",
              "mean     32.371149       64.761692       0.162147\n",
              "std      24.559481       30.090047       0.368612\n",
              "min       0.000000       18.250000       0.000000\n",
              "25%       9.000000       35.500000       0.000000\n",
              "50%      29.000000       70.350000       0.000000\n",
              "75%      55.000000       89.850000       0.000000\n",
              "max      72.000000      118.750000       1.000000"
            ],
            "text/html": [
              "\n",
              "  <div id=\"df-88a2466a-cc2e-4d4d-8354-1da38664b524\" class=\"colab-df-container\">\n",
              "    <div>\n",
              "<style scoped>\n",
              "    .dataframe tbody tr th:only-of-type {\n",
              "        vertical-align: middle;\n",
              "    }\n",
              "\n",
              "    .dataframe tbody tr th {\n",
              "        vertical-align: top;\n",
              "    }\n",
              "\n",
              "    .dataframe thead th {\n",
              "        text-align: right;\n",
              "    }\n",
              "</style>\n",
              "<table border=\"1\" class=\"dataframe\">\n",
              "  <thead>\n",
              "    <tr style=\"text-align: right;\">\n",
              "      <th></th>\n",
              "      <th>tenure</th>\n",
              "      <th>MonthlyCharges</th>\n",
              "      <th>SeniorCitizen</th>\n",
              "    </tr>\n",
              "  </thead>\n",
              "  <tbody>\n",
              "    <tr>\n",
              "      <th>count</th>\n",
              "      <td>7043.000000</td>\n",
              "      <td>7043.000000</td>\n",
              "      <td>7043.000000</td>\n",
              "    </tr>\n",
              "    <tr>\n",
              "      <th>mean</th>\n",
              "      <td>32.371149</td>\n",
              "      <td>64.761692</td>\n",
              "      <td>0.162147</td>\n",
              "    </tr>\n",
              "    <tr>\n",
              "      <th>std</th>\n",
              "      <td>24.559481</td>\n",
              "      <td>30.090047</td>\n",
              "      <td>0.368612</td>\n",
              "    </tr>\n",
              "    <tr>\n",
              "      <th>min</th>\n",
              "      <td>0.000000</td>\n",
              "      <td>18.250000</td>\n",
              "      <td>0.000000</td>\n",
              "    </tr>\n",
              "    <tr>\n",
              "      <th>25%</th>\n",
              "      <td>9.000000</td>\n",
              "      <td>35.500000</td>\n",
              "      <td>0.000000</td>\n",
              "    </tr>\n",
              "    <tr>\n",
              "      <th>50%</th>\n",
              "      <td>29.000000</td>\n",
              "      <td>70.350000</td>\n",
              "      <td>0.000000</td>\n",
              "    </tr>\n",
              "    <tr>\n",
              "      <th>75%</th>\n",
              "      <td>55.000000</td>\n",
              "      <td>89.850000</td>\n",
              "      <td>0.000000</td>\n",
              "    </tr>\n",
              "    <tr>\n",
              "      <th>max</th>\n",
              "      <td>72.000000</td>\n",
              "      <td>118.750000</td>\n",
              "      <td>1.000000</td>\n",
              "    </tr>\n",
              "  </tbody>\n",
              "</table>\n",
              "</div>\n",
              "    <div class=\"colab-df-buttons\">\n",
              "\n",
              "  <div class=\"colab-df-container\">\n",
              "    <button class=\"colab-df-convert\" onclick=\"convertToInteractive('df-88a2466a-cc2e-4d4d-8354-1da38664b524')\"\n",
              "            title=\"Convert this dataframe to an interactive table.\"\n",
              "            style=\"display:none;\">\n",
              "\n",
              "  <svg xmlns=\"http://www.w3.org/2000/svg\" height=\"24px\" viewBox=\"0 -960 960 960\">\n",
              "    <path d=\"M120-120v-720h720v720H120Zm60-500h600v-160H180v160Zm220 220h160v-160H400v160Zm0 220h160v-160H400v160ZM180-400h160v-160H180v160Zm440 0h160v-160H620v160ZM180-180h160v-160H180v160Zm440 0h160v-160H620v160Z\"/>\n",
              "  </svg>\n",
              "    </button>\n",
              "\n",
              "  <style>\n",
              "    .colab-df-container {\n",
              "      display:flex;\n",
              "      gap: 12px;\n",
              "    }\n",
              "\n",
              "    .colab-df-convert {\n",
              "      background-color: #E8F0FE;\n",
              "      border: none;\n",
              "      border-radius: 50%;\n",
              "      cursor: pointer;\n",
              "      display: none;\n",
              "      fill: #1967D2;\n",
              "      height: 32px;\n",
              "      padding: 0 0 0 0;\n",
              "      width: 32px;\n",
              "    }\n",
              "\n",
              "    .colab-df-convert:hover {\n",
              "      background-color: #E2EBFA;\n",
              "      box-shadow: 0px 1px 2px rgba(60, 64, 67, 0.3), 0px 1px 3px 1px rgba(60, 64, 67, 0.15);\n",
              "      fill: #174EA6;\n",
              "    }\n",
              "\n",
              "    .colab-df-buttons div {\n",
              "      margin-bottom: 4px;\n",
              "    }\n",
              "\n",
              "    [theme=dark] .colab-df-convert {\n",
              "      background-color: #3B4455;\n",
              "      fill: #D2E3FC;\n",
              "    }\n",
              "\n",
              "    [theme=dark] .colab-df-convert:hover {\n",
              "      background-color: #434B5C;\n",
              "      box-shadow: 0px 1px 3px 1px rgba(0, 0, 0, 0.15);\n",
              "      filter: drop-shadow(0px 1px 2px rgba(0, 0, 0, 0.3));\n",
              "      fill: #FFFFFF;\n",
              "    }\n",
              "  </style>\n",
              "\n",
              "    <script>\n",
              "      const buttonEl =\n",
              "        document.querySelector('#df-88a2466a-cc2e-4d4d-8354-1da38664b524 button.colab-df-convert');\n",
              "      buttonEl.style.display =\n",
              "        google.colab.kernel.accessAllowed ? 'block' : 'none';\n",
              "\n",
              "      async function convertToInteractive(key) {\n",
              "        const element = document.querySelector('#df-88a2466a-cc2e-4d4d-8354-1da38664b524');\n",
              "        const dataTable =\n",
              "          await google.colab.kernel.invokeFunction('convertToInteractive',\n",
              "                                                    [key], {});\n",
              "        if (!dataTable) return;\n",
              "\n",
              "        const docLinkHtml = 'Like what you see? Visit the ' +\n",
              "          '<a target=\"_blank\" href=https://colab.research.google.com/notebooks/data_table.ipynb>data table notebook</a>'\n",
              "          + ' to learn more about interactive tables.';\n",
              "        element.innerHTML = '';\n",
              "        dataTable['output_type'] = 'display_data';\n",
              "        await google.colab.output.renderOutput(dataTable, element);\n",
              "        const docLink = document.createElement('div');\n",
              "        docLink.innerHTML = docLinkHtml;\n",
              "        element.appendChild(docLink);\n",
              "      }\n",
              "    </script>\n",
              "  </div>\n",
              "\n",
              "\n",
              "<div id=\"df-ccccbf56-e747-4649-bf85-2ec8abc05af0\">\n",
              "  <button class=\"colab-df-quickchart\" onclick=\"quickchart('df-ccccbf56-e747-4649-bf85-2ec8abc05af0')\"\n",
              "            title=\"Suggest charts\"\n",
              "            style=\"display:none;\">\n",
              "\n",
              "<svg xmlns=\"http://www.w3.org/2000/svg\" height=\"24px\"viewBox=\"0 0 24 24\"\n",
              "     width=\"24px\">\n",
              "    <g>\n",
              "        <path d=\"M19 3H5c-1.1 0-2 .9-2 2v14c0 1.1.9 2 2 2h14c1.1 0 2-.9 2-2V5c0-1.1-.9-2-2-2zM9 17H7v-7h2v7zm4 0h-2V7h2v10zm4 0h-2v-4h2v4z\"/>\n",
              "    </g>\n",
              "</svg>\n",
              "  </button>\n",
              "\n",
              "<style>\n",
              "  .colab-df-quickchart {\n",
              "      --bg-color: #E8F0FE;\n",
              "      --fill-color: #1967D2;\n",
              "      --hover-bg-color: #E2EBFA;\n",
              "      --hover-fill-color: #174EA6;\n",
              "      --disabled-fill-color: #AAA;\n",
              "      --disabled-bg-color: #DDD;\n",
              "  }\n",
              "\n",
              "  [theme=dark] .colab-df-quickchart {\n",
              "      --bg-color: #3B4455;\n",
              "      --fill-color: #D2E3FC;\n",
              "      --hover-bg-color: #434B5C;\n",
              "      --hover-fill-color: #FFFFFF;\n",
              "      --disabled-bg-color: #3B4455;\n",
              "      --disabled-fill-color: #666;\n",
              "  }\n",
              "\n",
              "  .colab-df-quickchart {\n",
              "    background-color: var(--bg-color);\n",
              "    border: none;\n",
              "    border-radius: 50%;\n",
              "    cursor: pointer;\n",
              "    display: none;\n",
              "    fill: var(--fill-color);\n",
              "    height: 32px;\n",
              "    padding: 0;\n",
              "    width: 32px;\n",
              "  }\n",
              "\n",
              "  .colab-df-quickchart:hover {\n",
              "    background-color: var(--hover-bg-color);\n",
              "    box-shadow: 0 1px 2px rgba(60, 64, 67, 0.3), 0 1px 3px 1px rgba(60, 64, 67, 0.15);\n",
              "    fill: var(--button-hover-fill-color);\n",
              "  }\n",
              "\n",
              "  .colab-df-quickchart-complete:disabled,\n",
              "  .colab-df-quickchart-complete:disabled:hover {\n",
              "    background-color: var(--disabled-bg-color);\n",
              "    fill: var(--disabled-fill-color);\n",
              "    box-shadow: none;\n",
              "  }\n",
              "\n",
              "  .colab-df-spinner {\n",
              "    border: 2px solid var(--fill-color);\n",
              "    border-color: transparent;\n",
              "    border-bottom-color: var(--fill-color);\n",
              "    animation:\n",
              "      spin 1s steps(1) infinite;\n",
              "  }\n",
              "\n",
              "  @keyframes spin {\n",
              "    0% {\n",
              "      border-color: transparent;\n",
              "      border-bottom-color: var(--fill-color);\n",
              "      border-left-color: var(--fill-color);\n",
              "    }\n",
              "    20% {\n",
              "      border-color: transparent;\n",
              "      border-left-color: var(--fill-color);\n",
              "      border-top-color: var(--fill-color);\n",
              "    }\n",
              "    30% {\n",
              "      border-color: transparent;\n",
              "      border-left-color: var(--fill-color);\n",
              "      border-top-color: var(--fill-color);\n",
              "      border-right-color: var(--fill-color);\n",
              "    }\n",
              "    40% {\n",
              "      border-color: transparent;\n",
              "      border-right-color: var(--fill-color);\n",
              "      border-top-color: var(--fill-color);\n",
              "    }\n",
              "    60% {\n",
              "      border-color: transparent;\n",
              "      border-right-color: var(--fill-color);\n",
              "    }\n",
              "    80% {\n",
              "      border-color: transparent;\n",
              "      border-right-color: var(--fill-color);\n",
              "      border-bottom-color: var(--fill-color);\n",
              "    }\n",
              "    90% {\n",
              "      border-color: transparent;\n",
              "      border-bottom-color: var(--fill-color);\n",
              "    }\n",
              "  }\n",
              "</style>\n",
              "\n",
              "  <script>\n",
              "    async function quickchart(key) {\n",
              "      const quickchartButtonEl =\n",
              "        document.querySelector('#' + key + ' button');\n",
              "      quickchartButtonEl.disabled = true;  // To prevent multiple clicks.\n",
              "      quickchartButtonEl.classList.add('colab-df-spinner');\n",
              "      try {\n",
              "        const charts = await google.colab.kernel.invokeFunction(\n",
              "            'suggestCharts', [key], {});\n",
              "      } catch (error) {\n",
              "        console.error('Error during call to suggestCharts:', error);\n",
              "      }\n",
              "      quickchartButtonEl.classList.remove('colab-df-spinner');\n",
              "      quickchartButtonEl.classList.add('colab-df-quickchart-complete');\n",
              "    }\n",
              "    (() => {\n",
              "      let quickchartButtonEl =\n",
              "        document.querySelector('#df-ccccbf56-e747-4649-bf85-2ec8abc05af0 button');\n",
              "      quickchartButtonEl.style.display =\n",
              "        google.colab.kernel.accessAllowed ? 'block' : 'none';\n",
              "    })();\n",
              "  </script>\n",
              "</div>\n",
              "\n",
              "    </div>\n",
              "  </div>\n"
            ],
            "application/vnd.google.colaboratory.intrinsic+json": {
              "type": "dataframe",
              "summary": "{\n  \"name\": \"telecom\",\n  \"rows\": 8,\n  \"fields\": [\n    {\n      \"column\": \"tenure\",\n      \"properties\": {\n        \"dtype\": \"number\",\n        \"std\": 2478.9752758409018,\n        \"min\": 0.0,\n        \"max\": 7043.0,\n        \"num_unique_values\": 8,\n        \"samples\": [\n          32.37114865824223,\n          29.0,\n          7043.0\n        ],\n        \"semantic_type\": \"\",\n        \"description\": \"\"\n      }\n    },\n    {\n      \"column\": \"MonthlyCharges\",\n      \"properties\": {\n        \"dtype\": \"number\",\n        \"std\": 2468.7047672837775,\n        \"min\": 18.25,\n        \"max\": 7043.0,\n        \"num_unique_values\": 8,\n        \"samples\": [\n          64.76169246059918,\n          70.35,\n          7043.0\n        ],\n        \"semantic_type\": \"\",\n        \"description\": \"\"\n      }\n    },\n    {\n      \"column\": \"SeniorCitizen\",\n      \"properties\": {\n        \"dtype\": \"number\",\n        \"std\": 2489.9992387084,\n        \"min\": 0.0,\n        \"max\": 7043.0,\n        \"num_unique_values\": 5,\n        \"samples\": [\n          0.1621468124378816,\n          1.0,\n          0.36861160561002687\n        ],\n        \"semantic_type\": \"\",\n        \"description\": \"\"\n      }\n    }\n  ]\n}"
            }
          },
          "metadata": {},
          "execution_count": 59
        }
      ],
      "source": [
        "#Lets see statistical description for our master data\n",
        "telecom.describe()\n",
        "\n"
      ]
    },
    {
      "cell_type": "code",
      "execution_count": null,
      "metadata": {
        "id": "Jc_C7ypW1H29",
        "outputId": "6f12dc7c-fcf0-4f39-8fd5-21c2469fea92",
        "colab": {
          "base_uri": "https://localhost:8080/"
        }
      },
      "outputs": [
        {
          "output_type": "stream",
          "name": "stdout",
          "text": [
            "<class 'pandas.core.frame.DataFrame'>\n",
            "RangeIndex: 7043 entries, 0 to 7042\n",
            "Data columns (total 21 columns):\n",
            " #   Column            Non-Null Count  Dtype  \n",
            "---  ------            --------------  -----  \n",
            " 0   customerID        7043 non-null   object \n",
            " 1   tenure            7043 non-null   int64  \n",
            " 2   PhoneService      7043 non-null   object \n",
            " 3   Contract          7043 non-null   object \n",
            " 4   PaperlessBilling  7043 non-null   object \n",
            " 5   PaymentMethod     7043 non-null   object \n",
            " 6   MonthlyCharges    7043 non-null   float64\n",
            " 7   TotalCharges      7043 non-null   object \n",
            " 8   Churn             7043 non-null   object \n",
            " 9   gender            7043 non-null   object \n",
            " 10  SeniorCitizen     7043 non-null   int64  \n",
            " 11  Partner           7043 non-null   object \n",
            " 12  Dependents        7043 non-null   object \n",
            " 13  MultipleLines     7043 non-null   object \n",
            " 14  InternetService   7043 non-null   object \n",
            " 15  OnlineSecurity    7043 non-null   object \n",
            " 16  OnlineBackup      7043 non-null   object \n",
            " 17  DeviceProtection  7043 non-null   object \n",
            " 18  TechSupport       7043 non-null   object \n",
            " 19  StreamingTV       7043 non-null   object \n",
            " 20  StreamingMovies   7043 non-null   object \n",
            "dtypes: float64(1), int64(2), object(18)\n",
            "memory usage: 1.1+ MB\n"
          ]
        }
      ],
      "source": [
        "# Let's see the type of each column\n",
        "telecom.info()\n",
        "\n"
      ]
    },
    {
      "cell_type": "markdown",
      "metadata": {
        "id": "TKAQu8Kx1H29"
      },
      "source": [
        "## **`Data Preparation`**\n",
        "<p style='text-align: right;'> 10 points</p>\n"
      ]
    },
    {
      "cell_type": "code",
      "execution_count": null,
      "metadata": {
        "id": "CUlS8zl81H2-"
      },
      "outputs": [],
      "source": [
        "# Converting Yes to 1 and No to 0 using map\n",
        "telecom['PhoneService'] = telecom['PhoneService'].map({'Yes':1,'No':0})\n",
        "\n",
        "telecom['PaperlessBilling'] = telecom['PaperlessBilling'].map({'Yes':1,'No':0})\n",
        "\n",
        "telecom['Churn'] = telecom['Churn'].map({'Yes':1,'No':0})\n",
        "\n",
        "telecom['Partner'] = telecom['Partner'].map({'Yes':1,'No':0})\n",
        "\n",
        "telecom['Dependents'] = telecom['Dependents'].map({'Yes':1,'No':0})\n",
        "\n"
      ]
    },
    {
      "cell_type": "markdown",
      "metadata": {
        "id": "t3g3q55L1H2-"
      },
      "source": [
        "### **`Dummy Variable Creation`**\n",
        "\n",
        "As you can see there are many textual information in our data set. Lets do encoding for these classes using get_dummies() function.\n",
        "\n",
        "Note: use prefix='column_name' where column_name is the column whose encoding has to be done."
      ]
    },
    {
      "cell_type": "code",
      "source": [
        "# Creating a dummy variable for the variable 'Contract' and keeping drop_first=True\n",
        "cont = pd.get_dummies(telecom['Contract'],prefix='Contract',drop_first=True)\n",
        "#cont = pd.get_dummies(telecom['Contract'],prefix='Contract',drop_first=True)\n",
        "#Adding the results to the master dataframe i.e telecom\n",
        "telecom = pd.concat([telecom,cont],axis=1)\n",
        "# Creating a dummy variable for the variable 'PaymentMethod' and keeping drop_first=True\n",
        "pm = pd.get_dummies(telecom['PaymentMethod'],prefix='PaymentMethod',drop_first=True)\n",
        "#Adding the results to the master dataframe\n",
        "telecom = pd.concat([telecom,pm],axis=1)\n",
        "# Creating a dummy variable for the variable 'gender' and keeping drop_first=True\n",
        "gen = pd.get_dummies(telecom['gender'],prefix='gender',drop_first=True)\n",
        "#Adding the results to the master dataframe\n",
        "telecom = pd.concat([telecom,gen],axis=1)\n",
        "# Creating a dummy variable for the variable 'MultipleLines' and keeping drop_first=True\n",
        "ml = pd.get_dummies(telecom['MultipleLines'],prefix='MultipleLines')\n",
        "# dropping MultipleLines_No phone service column\n",
        "ml1 = ml.drop(['MultipleLines_No phone service'],axis=1)\n",
        "#Adding the results to the master dataframe\n",
        "telecom = pd.concat([telecom,ml1],axis=1)\n",
        "# Creating a dummy variable for the variable 'InternetService' and keeping drop_first=True\n",
        "iser = pd.get_dummies(telecom['InternetService'],prefix='InternetService',drop_first=True)\n",
        "#Adding the results to the master dataframe\n",
        "telecom = pd.concat([telecom,iser],axis=1)\n",
        "# Creating a dummy variable for the variable 'OnlineSecurity'.\n",
        "os = pd.get_dummies(telecom['OnlineSecurity'],prefix='OnlineSecurity')\n",
        "#drop OnlineSecurity_No internet service column from os\n",
        "os1= os.drop(['OnlineSecurity_No internet service'],axis=1)\n",
        "#Adding os1 to the master dataframe\n",
        "telecom = pd.concat([telecom,os1],axis=1)\n",
        "# Creating a dummy variable for the variable 'OnlineBackup' and keeping drop_first=True\n",
        "ob =pd.get_dummies(telecom['OnlineBackup'],prefix='OnlineBackup')\n",
        "#dropping OnlineBackup_No internet service from ob\n",
        "ob1 =ob.drop(['OnlineBackup_No internet service'],axis=1)\n",
        "#Adding the results(ob1) to the master dataframe\n",
        "telecom = pd.concat([telecom,ob1],axis=1)\n",
        "# Creating a dummy variable for the variable 'DeviceProtection' and keeping drop_first=True\n",
        "dp =pd.get_dummies(telecom['DeviceProtection'],prefix='DeviceProtection')\n",
        "#dropping DeviceProtection_No internet service\n",
        "dp1 = dp.drop(['DeviceProtection_No internet service'],axis=1)\n",
        "#Adding the results(dp1) to the master dataframe\n",
        "telecom = pd.concat([telecom,dp1],axis=1)\n",
        "# Creating a dummy variable for the variable 'TechSupport' and keeping drop_first=True\n",
        "ts =pd.get_dummies(telecom['TechSupport'],prefix='TechSupport')\n",
        "#dropping TechSupport_No internet service from ts\n",
        "ts1 = ts.drop(['TechSupport_No internet service'],axis=1)\n",
        "#Adding the results(ts1) to the master dataframe\n",
        "telecom = pd.concat([telecom,ts1],axis=1)\n",
        "# Creating a dummy variable for the variable 'StreamingTV' and keeping drop_first=True\n",
        "st =pd.get_dummies(telecom['StreamingTV'],prefix='StreamingTV')\n",
        "#dropping StreamingTV_No internet service from st\n",
        "st1 = st.drop(['StreamingTV_No internet service'],axis=1)\n",
        "#Adding the results(st1) to the master dataframe\n",
        "telecom = pd.concat([telecom,st1],axis=1)\n",
        "# Creating a dummy variable for the variable 'StreamingMovies' and keeping drop_first=True\n",
        "sm =pd.get_dummies(telecom['StreamingMovies'],prefix='StreamingMovies')\n",
        "#dropping StreamingMovies_No internet service from sm\n",
        "sm1 = sm.drop(['StreamingMovies_No internet service'],axis=1)\n",
        "#Adding the results(sm1) to the master dataframe\n",
        "telecom = pd.concat([telecom,sm1],axis=1)"
      ],
      "metadata": {
        "id": "hgVO3ENR2biG"
      },
      "execution_count": null,
      "outputs": []
    },
    {
      "cell_type": "code",
      "execution_count": null,
      "metadata": {
        "id": "KZ0vG2Fo1H2_",
        "colab": {
          "base_uri": "https://localhost:8080/",
          "height": 582
        },
        "outputId": "6ec0f7f9-ca97-4902-8f96-83cb0e5155d9"
      },
      "outputs": [
        {
          "output_type": "error",
          "ename": "KeyError",
          "evalue": "'Contract'",
          "traceback": [
            "\u001b[0;31m---------------------------------------------------------------------------\u001b[0m",
            "\u001b[0;31mKeyError\u001b[0m                                  Traceback (most recent call last)",
            "\u001b[0;32m/usr/local/lib/python3.11/dist-packages/pandas/core/indexes/base.py\u001b[0m in \u001b[0;36mget_loc\u001b[0;34m(self, key)\u001b[0m\n\u001b[1;32m   3804\u001b[0m         \u001b[0;32mtry\u001b[0m\u001b[0;34m:\u001b[0m\u001b[0;34m\u001b[0m\u001b[0;34m\u001b[0m\u001b[0m\n\u001b[0;32m-> 3805\u001b[0;31m             \u001b[0;32mreturn\u001b[0m \u001b[0mself\u001b[0m\u001b[0;34m.\u001b[0m\u001b[0m_engine\u001b[0m\u001b[0;34m.\u001b[0m\u001b[0mget_loc\u001b[0m\u001b[0;34m(\u001b[0m\u001b[0mcasted_key\u001b[0m\u001b[0;34m)\u001b[0m\u001b[0;34m\u001b[0m\u001b[0;34m\u001b[0m\u001b[0m\n\u001b[0m\u001b[1;32m   3806\u001b[0m         \u001b[0;32mexcept\u001b[0m \u001b[0mKeyError\u001b[0m \u001b[0;32mas\u001b[0m \u001b[0merr\u001b[0m\u001b[0;34m:\u001b[0m\u001b[0;34m\u001b[0m\u001b[0;34m\u001b[0m\u001b[0m\n",
            "\u001b[0;32mindex.pyx\u001b[0m in \u001b[0;36mpandas._libs.index.IndexEngine.get_loc\u001b[0;34m()\u001b[0m\n",
            "\u001b[0;32mindex.pyx\u001b[0m in \u001b[0;36mpandas._libs.index.IndexEngine.get_loc\u001b[0;34m()\u001b[0m\n",
            "\u001b[0;32mindex.pyx\u001b[0m in \u001b[0;36mpandas._libs.index.IndexEngine._get_loc_duplicates\u001b[0;34m()\u001b[0m\n",
            "\u001b[0;32mindex.pyx\u001b[0m in \u001b[0;36mpandas._libs.index.IndexEngine._maybe_get_bool_indexer\u001b[0;34m()\u001b[0m\n",
            "\u001b[0;32mindex.pyx\u001b[0m in \u001b[0;36mpandas._libs.index._unpack_bool_indexer\u001b[0;34m()\u001b[0m\n",
            "\u001b[0;31mKeyError\u001b[0m: 'Contract'",
            "\nThe above exception was the direct cause of the following exception:\n",
            "\u001b[0;31mKeyError\u001b[0m                                  Traceback (most recent call last)",
            "\u001b[0;32m<ipython-input-50-7a676f2f496c>\u001b[0m in \u001b[0;36m<cell line: 0>\u001b[0;34m()\u001b[0m\n\u001b[1;32m      1\u001b[0m \u001b[0;31m# Creating a dummy variable for the variable 'Contract' and keeping drop_first=True\u001b[0m\u001b[0;34m\u001b[0m\u001b[0;34m\u001b[0m\u001b[0m\n\u001b[0;32m----> 2\u001b[0;31m \u001b[0mcont\u001b[0m \u001b[0;34m=\u001b[0m \u001b[0mpd\u001b[0m\u001b[0;34m.\u001b[0m\u001b[0mget_dummies\u001b[0m\u001b[0;34m(\u001b[0m\u001b[0mtelecom\u001b[0m\u001b[0;34m[\u001b[0m\u001b[0;34m'Contract'\u001b[0m\u001b[0;34m]\u001b[0m\u001b[0;34m,\u001b[0m \u001b[0mprefix\u001b[0m\u001b[0;34m=\u001b[0m\u001b[0;34m'Contract'\u001b[0m\u001b[0;34m,\u001b[0m \u001b[0mdrop_first\u001b[0m\u001b[0;34m=\u001b[0m\u001b[0;32mTrue\u001b[0m\u001b[0;34m)\u001b[0m\u001b[0;34m\u001b[0m\u001b[0;34m\u001b[0m\u001b[0m\n\u001b[0m\u001b[1;32m      3\u001b[0m \u001b[0;34m\u001b[0m\u001b[0m\n\u001b[1;32m      4\u001b[0m \u001b[0;31m#Adding the results to the master dataframe i.e telecom\u001b[0m\u001b[0;34m\u001b[0m\u001b[0;34m\u001b[0m\u001b[0m\n\u001b[1;32m      5\u001b[0m \u001b[0mtelecom\u001b[0m \u001b[0;34m=\u001b[0m \u001b[0mpd\u001b[0m\u001b[0;34m.\u001b[0m\u001b[0mconcat\u001b[0m\u001b[0;34m(\u001b[0m\u001b[0;34m[\u001b[0m\u001b[0mtelecom\u001b[0m\u001b[0;34m,\u001b[0m \u001b[0mcont\u001b[0m\u001b[0;34m]\u001b[0m\u001b[0;34m,\u001b[0m \u001b[0maxis\u001b[0m\u001b[0;34m=\u001b[0m\u001b[0;36m1\u001b[0m\u001b[0;34m)\u001b[0m\u001b[0;34m\u001b[0m\u001b[0;34m\u001b[0m\u001b[0m\n",
            "\u001b[0;32m/usr/local/lib/python3.11/dist-packages/pandas/core/frame.py\u001b[0m in \u001b[0;36m__getitem__\u001b[0;34m(self, key)\u001b[0m\n\u001b[1;32m   4100\u001b[0m             \u001b[0;32mif\u001b[0m \u001b[0mself\u001b[0m\u001b[0;34m.\u001b[0m\u001b[0mcolumns\u001b[0m\u001b[0;34m.\u001b[0m\u001b[0mnlevels\u001b[0m \u001b[0;34m>\u001b[0m \u001b[0;36m1\u001b[0m\u001b[0;34m:\u001b[0m\u001b[0;34m\u001b[0m\u001b[0;34m\u001b[0m\u001b[0m\n\u001b[1;32m   4101\u001b[0m                 \u001b[0;32mreturn\u001b[0m \u001b[0mself\u001b[0m\u001b[0;34m.\u001b[0m\u001b[0m_getitem_multilevel\u001b[0m\u001b[0;34m(\u001b[0m\u001b[0mkey\u001b[0m\u001b[0;34m)\u001b[0m\u001b[0;34m\u001b[0m\u001b[0;34m\u001b[0m\u001b[0m\n\u001b[0;32m-> 4102\u001b[0;31m             \u001b[0mindexer\u001b[0m \u001b[0;34m=\u001b[0m \u001b[0mself\u001b[0m\u001b[0;34m.\u001b[0m\u001b[0mcolumns\u001b[0m\u001b[0;34m.\u001b[0m\u001b[0mget_loc\u001b[0m\u001b[0;34m(\u001b[0m\u001b[0mkey\u001b[0m\u001b[0;34m)\u001b[0m\u001b[0;34m\u001b[0m\u001b[0;34m\u001b[0m\u001b[0m\n\u001b[0m\u001b[1;32m   4103\u001b[0m             \u001b[0;32mif\u001b[0m \u001b[0mis_integer\u001b[0m\u001b[0;34m(\u001b[0m\u001b[0mindexer\u001b[0m\u001b[0;34m)\u001b[0m\u001b[0;34m:\u001b[0m\u001b[0;34m\u001b[0m\u001b[0;34m\u001b[0m\u001b[0m\n\u001b[1;32m   4104\u001b[0m                 \u001b[0mindexer\u001b[0m \u001b[0;34m=\u001b[0m \u001b[0;34m[\u001b[0m\u001b[0mindexer\u001b[0m\u001b[0;34m]\u001b[0m\u001b[0;34m\u001b[0m\u001b[0;34m\u001b[0m\u001b[0m\n",
            "\u001b[0;32m/usr/local/lib/python3.11/dist-packages/pandas/core/indexes/base.py\u001b[0m in \u001b[0;36mget_loc\u001b[0;34m(self, key)\u001b[0m\n\u001b[1;32m   3810\u001b[0m             ):\n\u001b[1;32m   3811\u001b[0m                 \u001b[0;32mraise\u001b[0m \u001b[0mInvalidIndexError\u001b[0m\u001b[0;34m(\u001b[0m\u001b[0mkey\u001b[0m\u001b[0;34m)\u001b[0m\u001b[0;34m\u001b[0m\u001b[0;34m\u001b[0m\u001b[0m\n\u001b[0;32m-> 3812\u001b[0;31m             \u001b[0;32mraise\u001b[0m \u001b[0mKeyError\u001b[0m\u001b[0;34m(\u001b[0m\u001b[0mkey\u001b[0m\u001b[0;34m)\u001b[0m \u001b[0;32mfrom\u001b[0m \u001b[0merr\u001b[0m\u001b[0;34m\u001b[0m\u001b[0;34m\u001b[0m\u001b[0m\n\u001b[0m\u001b[1;32m   3813\u001b[0m         \u001b[0;32mexcept\u001b[0m \u001b[0mTypeError\u001b[0m\u001b[0;34m:\u001b[0m\u001b[0;34m\u001b[0m\u001b[0;34m\u001b[0m\u001b[0m\n\u001b[1;32m   3814\u001b[0m             \u001b[0;31m# If we have a listlike key, _check_indexing_error will raise\u001b[0m\u001b[0;34m\u001b[0m\u001b[0;34m\u001b[0m\u001b[0m\n",
            "\u001b[0;31mKeyError\u001b[0m: 'Contract'"
          ]
        }
      ],
      "source": [
        "# Creating a dummy variable for the variable 'Contract' and keeping drop_first=True\n",
        "#cont = pd.get_dummies(telecom['Contract'], prefix='Contract', drop_first=True)\n",
        "\n",
        "#Adding the results to the master dataframe i.e telecom\n",
        "telecom = pd.concat([telecom, cont], axis=1)\n",
        "\n",
        "\n",
        "# Creating a dummy variable for the variable 'PaymentMethod' and keeping drop_first=True\n",
        "pm = pd.get_dummies(telecom['PaymentMethod'], prefix='PaymentMethod', drop_first=True)\n",
        "\n",
        "#Adding the results to the master dataframe\n",
        "telecom = pd.concat([telecom, pm], axis=1)\n",
        "\n",
        "\n",
        "# Creating a dummy variable for the variable 'gender' and keeping drop_first=True\n",
        "gen = pd.get_dummies(telecom['gender'], prefix='gender', drop_first=True)\n",
        "\n",
        "#Adding the results to the master dataframe\n",
        "telecom = pd.concat([telecom, gen], axis=1)\n",
        "\n",
        "\n",
        "# Creating a dummy variable for the variable 'MultipleLines' and keeping drop_first=True\n",
        "ml = pd.get_dummies(telecom['MultipleLines'], prefix='MultipleLines', drop_first=True)\n",
        "\n",
        "#Adding the results to the master dataframe\n",
        "telecom = pd.concat([telecom, ml], axis=1)\n",
        "# Creating a dummy variable for the variable 'Contract' and keeping drop_first=True\n",
        "cont = pd.get_dummies(telecom['Contract'], prefix='Contract', drop_first=True)\n",
        "\n",
        "#Adding the results to the master dataframe i.e telecom\n",
        "telecom = pd.concat([telecom, cont], axis=1)\n",
        "\n",
        "\n",
        "# Creating a dummy variable for the variable 'PaymentMethod' and keeping drop_first=True\n",
        "pm = pd.get_dummies(telecom['PaymentMethod'], prefix='PaymentMethod', drop_first=True)\n",
        "\n",
        "#Adding the results to the master dataframe\n",
        "telecom = pd.concat([telecom, pm], axis=1)\n",
        "\n",
        "\n",
        "# Creating a dummy variable for the variable 'gender' and keeping drop_first=True\n",
        "gen = pd.get_dummies(telecom['gender'], prefix='gender', drop_first=True)\n",
        "\n",
        "#Adding the results to the master dataframe\n",
        "telecom = pd.concat([telecom, gen], axis=1)\n",
        "\n",
        "\n",
        "# Creating a dummy variable for the variable 'MultipleLines' and keeping drop_first=True\n",
        "ml = pd.get_dummies(telecom['MultipleLines'], prefix='MultipleLines', drop_first=True)\n",
        "\n",
        "#Adding the results to the master dataframe\n",
        "telecom = pd.concat([telecom, ml], axis=1)\n",
        "\n",
        "#  dropping MultipleLines_No phone service column\n",
        "ml1 = ml.drop(columns=['MultipleLines_No phone service'], axis=1)\n",
        "\n",
        "\n",
        "#Adding the results to the master dataframe\n",
        "telecom = pd.concat([telecom, ml1], axis=1)\n",
        "\n",
        "# Creating a dummy variable for the variable 'InternetService' and keeping drop_first=True\n",
        "iser = pd.get_dummies(telecom['InternetService'], prefix='InternetService', drop_first=True)\n",
        "\n",
        "#Adding the results to the master dataframe\n",
        "telecom = pd.concat([telecom, iser], axis=1)\n",
        "\n",
        "\n",
        "# Creating a dummy variable for the variable 'OnlineSecurity'.\n",
        "os = pd.get_dummies(telecom['OnlineSecurity'], prefix='OnlineSecurity', drop_first=True)\n",
        "\n",
        "#Adding the results to the master dataframe\n",
        "telecom = pd.concat([telecom, os], axis=1)\n",
        "\n",
        "#drop OnlineSecurity_No internet service column from os\n",
        "os1= os.drop(columns=['OnlineSecurity_No internet service'], axis=1)\n",
        "\n",
        "#Adding os1 to the master dataframe\n",
        "telecom = pd.concat([telecom, os1], axis=1)\n",
        "\n",
        "\n",
        "# Creating a dummy variable for the variable 'OnlineBackup' and keeping drop_first=True\n",
        "ob = pd.get_dummies(telecom['OnlineBackup'], prefix='OnlineBackup', drop_first=True)\n",
        "\n",
        "#Adding the results to the master dataframe\n",
        "telecom = pd.concat([telecom, ob], axis=1)\n",
        "\n",
        "#dropping OnlineBackup_No internet service from ob\n",
        "ob1 = ob.drop(columns=['OnlineBackup_No internet service'])\n",
        "\n",
        "#Adding the results(ob1) to the master dataframe\n",
        "telecom = pd.concat([telecom, ob1], axis=1)\n",
        "\n",
        "\n",
        "# Creating a dummy variable for the variable 'DeviceProtection' and keeping drop_first=True\n",
        "dp = pd.get_dummies(telecom['DeviceProtection'], prefix='DeviceProtection', drop_first=True)\n",
        "\n",
        "#Adding the results to the master dataframe\n",
        "telecom = pd.concat([telecom, dp], axis=1)\n",
        "\n",
        "#dropping DeviceProtection_No internet service\n",
        "dp1 = dp.drop(columns=['DeviceProtection_No internet service'])\n",
        "\n",
        "#Adding the results(dp1) to the master dataframe\n",
        "telecom =  pd.concat([telecom, dp1], axis=1)\n",
        "\n",
        "\n",
        "# Creating a dummy variable for the variable 'TechSupport' and keeping drop_first=True\n",
        "ts = pd.get_dummies(telecom['TechSupport'], prefix='TechSupport', drop_first=True)\n",
        "\n",
        "#Adding the results to the master dataframe\n",
        "telecom = pd.concat([telecom, ts], axis=1)\n",
        "\n",
        "#dropping TechSupport_No internet service from ts\n",
        "ts1 = ts.drop(columns=['TechSupport_No internet service'])\n",
        "\n",
        "#Adding the results(ts1) to the master dataframe\n",
        "telecom = pd.concat([telecom, ts1], axis=1)\n",
        "\n",
        "\n",
        "# Creating a dummy variable for the variable 'StreamingTV' and keeping drop_first=True\n",
        "st = pd.get_dummies(telecom['StreamingTV'], prefix='StreamingTV', drop_first=True)\n",
        "\n",
        "#Adding the results to the master dataframe\n",
        "telecom = pd.concat([telecom, st], axis=1)\n",
        "\n",
        "#dropping StreamingTV_No internet service from st\n",
        "st1 = st.drop(columns=['StreamingTV_No internet service'],axis=1)\n",
        "\n",
        "#Adding the results(st1) to the master dataframe\n",
        "telecom = pd.concat([telecom, st1], axis=1)\n",
        "\n",
        "\n",
        "# Creating a dummy variable for the variable 'StreamingMovies' and keeping drop_first=True\n",
        "sm = pd.get_dummies(telecom['StreamingMovies'], prefix='StreamingMovies', drop_first=True)\n",
        "\n",
        "#Adding the results to the master dataframe\n",
        "telecom = pd.concat([telecom, sm], axis=1)\n",
        "\n",
        "\n",
        "#dropping StreamingMovies_No internet service from sm\n",
        "sm1 = sm.drop(columns=['StreamingMovies_No internet service'],axis=1)\n",
        "#Adding the results(sm1) to the master dataframe\n",
        "telecom = pd.concat([telecom, sm1], axis=1)\n",
        "#Adding the results to the master dataframe\n",
        "telecom = pd.concat([telecom, ml1], axis=1)\n",
        "\n",
        "# Creating a dummy variable for the variable 'InternetService' and keeping drop_first=True\n",
        "iser = pd.get_dummies(telecom['InternetService'], prefix='InternetService', drop_first=True)\n",
        "\n",
        "#Adding the results to the master dataframe\n",
        "telecom = pd.concat([telecom, iser], axis=1)\n",
        "\n",
        "\n",
        "# Creating a dummy variable for the variable 'OnlineSecurity'.\n",
        "os = pd.get_dummies(telecom['OnlineSecurity'], prefix='OnlineSecurity', drop_first=True)\n",
        "\n",
        "#Adding the results to the master dataframe\n",
        "telecom = pd.concat([telecom, os], axis=1)\n",
        "\n",
        "#drop OnlineSecurity_No internet service column from os\n",
        "os1= os.drop(columns=['OnlineSecurity_No internet service'],axis=1)\n",
        "\n",
        "#Adding os1 to the master dataframe\n",
        "telecom = pd.concat([telecom, os1], axis=1)\n",
        "\n",
        "\n",
        "# Creating a dummy variable for the variable 'OnlineBackup' and keeping drop_first=True\n",
        "ob = pd.get_dummies(telecom['OnlineBackup'], prefix='OnlineBackup', drop_first=True)\n",
        "\n",
        "#Adding the results to the master dataframe\n",
        "telecom = pd.concat([telecom, ob], axis=1)\n",
        "\n",
        "#dropping OnlineBackup_No internet service from ob\n",
        "ob1 = ob.drop(columns=['OnlineBackup_No internet service'],axis=1)\n",
        "\n",
        "#Adding the results(ob1) to the master dataframe\n",
        "telecom = pd.concat([telecom, ob1], axis=1)\n",
        "\n",
        "\n",
        "# Creating a dummy variable for the variable 'DeviceProtection' and keeping drop_first=True\n",
        "dp = pd.get_dummies(telecom['DeviceProtection'], prefix='DeviceProtection', drop_first=True)\n",
        "\n",
        "#Adding the results to the master dataframe\n",
        "telecom = pd.concat([telecom, dp], axis=1)\n",
        "\n",
        "#dropping DeviceProtection_No internet service\n",
        "dp1 = dp.drop(columns=['DeviceProtection_No internet service'],axis=1)\n",
        "\n",
        "#Adding the results(dp1) to the master dataframe\n",
        "telecom =  pd.concat([telecom, dp1], axis=1)\n",
        "\n",
        "\n",
        "# Creating a dummy variable for the variable 'TechSupport' and keeping drop_first=True\n",
        "ts = pd.get_dummies(telecom['TechSupport'], prefix='TechSupport', drop_first=True)\n",
        "\n",
        "#Adding the results to the master dataframe\n",
        "telecom = pd.concat([telecom, ts], axis=1)\n",
        "\n",
        "#dropping TechSupport_No internet service from ts\n",
        "ts1 = ts.drop(columns=['TechSupport_No internet service'],axis=1)\n",
        "\n",
        "#Adding the results(ts1) to the master dataframe\n",
        "telecom = pd.concat([telecom, ts1], axis=1)\n",
        "\n",
        "\n",
        "# Creating a dummy variable for the variable 'StreamingTV' and keeping drop_first=True\n",
        "st = pd.get_dummies(telecom['StreamingTV'], prefix='StreamingTV', drop_first=True)\n",
        "\n",
        "#Adding the results to the master dataframe\n",
        "telecom = pd.concat([telecom, st], axis=1)\n",
        "\n",
        "#dropping StreamingTV_No internet service from st\n",
        "st1 = st.drop(columns=['StreamingTV_No internet service'],axis=1)\n",
        "\n",
        "#Adding the results(st1) to the master dataframe\n",
        "telecom = pd.concat([telecom, st1], axis=1)\n",
        "\n",
        "\n",
        "# Creating a dummy variable for the variable 'StreamingMovies' and keeping drop_first=True\n",
        "sm = pd.get_dummies(telecom['StreamingMovies'], prefix='StreamingMovies', drop_first=True)\n",
        "\n",
        "#Adding the results to the master dataframe\n",
        "telecom = pd.concat([telecom, sm], axis=1)\n",
        "\n",
        "\n",
        "#dropping StreamingMovies_No internet service from sm\n",
        "sm1 = sm.drop(columns=['StreamingMovies_No internet service'],axis=1)\n",
        "#Adding the results(sm1) to the master dataframe\n",
        "telecom = pd.concat([telecom, sm1], axis=1)"
      ]
    },
    {
      "cell_type": "markdown",
      "metadata": {
        "id": "WBXqiCLb1H3B"
      },
      "source": [
        "### **`Dropping the repeated variables`**\n",
        "\n",
        "Since We have already created dummies for the below variables\n",
        "    \n",
        "    'Contract',\n",
        "    'PaymentMethod',\n",
        "    'gender',\n",
        "    'MultipleLines',\n",
        "    'InternetService',\n",
        "    'OnlineSecurity',\n",
        "    'OnlineBackup',\n",
        "    'DeviceProtection',\n",
        "    'TechSupport',\n",
        "    'StreamingTV',\n",
        "    'StreamingMovies'\n",
        "so we can drop them off as they are now repeated in our master dataset\n"
      ]
    },
    {
      "cell_type": "code",
      "execution_count": null,
      "metadata": {
        "id": "TwpUTW_V1H3C"
      },
      "outputs": [],
      "source": [
        "# drop all duplicate columns\n",
        "telecom = telecom.drop(columns=['Contract', 'PaymentMethod', 'gender', 'MultipleLines', 'InternetService', 'OnlineSecurity', 'OnlineBackup', 'DeviceProtection', 'TechSupport', 'StreamingTV', 'StreamingMovies'])\n",
        "\n"
      ]
    },
    {
      "cell_type": "markdown",
      "metadata": {
        "id": "wUjXo8NE1H3D"
      },
      "source": [
        "The TotalCharges variable was imported as a string we need to convert it to numeric type<br>\n",
        "Hint: Use pandas.to_numeric() function. Refer:https://pandas.pydata.org/pandas-docs/stable/reference/api/pandas.to_numeric.html"
      ]
    },
    {
      "cell_type": "code",
      "execution_count": null,
      "metadata": {
        "id": "xxUdkcMG1H3E"
      },
      "outputs": [],
      "source": [
        "telecom['TotalCharges'] = pd.to_numeric(telecom['TotalCharges'], errors='coerce')"
      ]
    },
    {
      "cell_type": "code",
      "execution_count": null,
      "metadata": {
        "id": "_j9fnmyO1H3E",
        "outputId": "dcb0cc51-be2d-44a3-a940-98ce95171ef5",
        "colab": {
          "base_uri": "https://localhost:8080/"
        }
      },
      "outputs": [
        {
          "output_type": "stream",
          "name": "stdout",
          "text": [
            "<class 'pandas.core.frame.DataFrame'>\n",
            "RangeIndex: 7043 entries, 0 to 7042\n",
            "Data columns (total 74 columns):\n",
            " #   Column                                 Non-Null Count  Dtype  \n",
            "---  ------                                 --------------  -----  \n",
            " 0   customerID                             7043 non-null   object \n",
            " 1   tenure                                 7043 non-null   int64  \n",
            " 2   PhoneService                           7043 non-null   int64  \n",
            " 3   PaperlessBilling                       7043 non-null   int64  \n",
            " 4   MonthlyCharges                         7043 non-null   float64\n",
            " 5   TotalCharges                           7032 non-null   float64\n",
            " 6   Churn                                  7043 non-null   int64  \n",
            " 7   SeniorCitizen                          7043 non-null   int64  \n",
            " 8   Partner                                7043 non-null   int64  \n",
            " 9   Dependents                             7043 non-null   int64  \n",
            " 10  Contract_One year                      7043 non-null   bool   \n",
            " 11  Contract_Two year                      7043 non-null   bool   \n",
            " 12  PaymentMethod_Credit card (automatic)  7043 non-null   bool   \n",
            " 13  PaymentMethod_Electronic check         7043 non-null   bool   \n",
            " 14  PaymentMethod_Mailed check             7043 non-null   bool   \n",
            " 15  gender_Male                            7043 non-null   bool   \n",
            " 16  Contract_One year                      7043 non-null   bool   \n",
            " 17  Contract_Two year                      7043 non-null   bool   \n",
            " 18  PaymentMethod_Credit card (automatic)  7043 non-null   bool   \n",
            " 19  PaymentMethod_Electronic check         7043 non-null   bool   \n",
            " 20  PaymentMethod_Mailed check             7043 non-null   bool   \n",
            " 21  gender_Male                            7043 non-null   bool   \n",
            " 22  MultipleLines_No                       7043 non-null   bool   \n",
            " 23  MultipleLines_Yes                      7043 non-null   bool   \n",
            " 24  InternetService_Fiber optic            7043 non-null   bool   \n",
            " 25  InternetService_No                     7043 non-null   bool   \n",
            " 26  Contract_One year                      7043 non-null   bool   \n",
            " 27  Contract_Two year                      7043 non-null   bool   \n",
            " 28  PaymentMethod_Credit card (automatic)  7043 non-null   bool   \n",
            " 29  PaymentMethod_Electronic check         7043 non-null   bool   \n",
            " 30  PaymentMethod_Mailed check             7043 non-null   bool   \n",
            " 31  gender_Male                            7043 non-null   bool   \n",
            " 32  MultipleLines_No                       7043 non-null   bool   \n",
            " 33  MultipleLines_Yes                      7043 non-null   bool   \n",
            " 34  InternetService_Fiber optic            7043 non-null   bool   \n",
            " 35  InternetService_No                     7043 non-null   bool   \n",
            " 36  OnlineSecurity_No                      7043 non-null   bool   \n",
            " 37  OnlineSecurity_Yes                     7043 non-null   bool   \n",
            " 38  Contract_One year                      7043 non-null   bool   \n",
            " 39  Contract_Two year                      7043 non-null   bool   \n",
            " 40  PaymentMethod_Credit card (automatic)  7043 non-null   bool   \n",
            " 41  PaymentMethod_Electronic check         7043 non-null   bool   \n",
            " 42  PaymentMethod_Mailed check             7043 non-null   bool   \n",
            " 43  gender_Male                            7043 non-null   bool   \n",
            " 44  MultipleLines_No                       7043 non-null   bool   \n",
            " 45  MultipleLines_Yes                      7043 non-null   bool   \n",
            " 46  InternetService_Fiber optic            7043 non-null   bool   \n",
            " 47  InternetService_No                     7043 non-null   bool   \n",
            " 48  OnlineSecurity_No                      7043 non-null   bool   \n",
            " 49  OnlineSecurity_Yes                     7043 non-null   bool   \n",
            " 50  OnlineBackup_No                        7043 non-null   bool   \n",
            " 51  OnlineBackup_Yes                       7043 non-null   bool   \n",
            " 52  Contract_One year                      7043 non-null   bool   \n",
            " 53  Contract_Two year                      7043 non-null   bool   \n",
            " 54  PaymentMethod_Credit card (automatic)  7043 non-null   bool   \n",
            " 55  PaymentMethod_Electronic check         7043 non-null   bool   \n",
            " 56  PaymentMethod_Mailed check             7043 non-null   bool   \n",
            " 57  gender_Male                            7043 non-null   bool   \n",
            " 58  MultipleLines_No                       7043 non-null   bool   \n",
            " 59  MultipleLines_Yes                      7043 non-null   bool   \n",
            " 60  InternetService_Fiber optic            7043 non-null   bool   \n",
            " 61  InternetService_No                     7043 non-null   bool   \n",
            " 62  OnlineSecurity_No                      7043 non-null   bool   \n",
            " 63  OnlineSecurity_Yes                     7043 non-null   bool   \n",
            " 64  OnlineBackup_No                        7043 non-null   bool   \n",
            " 65  OnlineBackup_Yes                       7043 non-null   bool   \n",
            " 66  DeviceProtection_No                    7043 non-null   bool   \n",
            " 67  DeviceProtection_Yes                   7043 non-null   bool   \n",
            " 68  TechSupport_No                         7043 non-null   bool   \n",
            " 69  TechSupport_Yes                        7043 non-null   bool   \n",
            " 70  StreamingTV_No                         7043 non-null   bool   \n",
            " 71  StreamingTV_Yes                        7043 non-null   bool   \n",
            " 72  StreamingMovies_No                     7043 non-null   bool   \n",
            " 73  StreamingMovies_Yes                    7043 non-null   bool   \n",
            "dtypes: bool(64), float64(2), int64(7), object(1)\n",
            "memory usage: 990.6+ KB\n"
          ]
        }
      ],
      "source": [
        "# again check data type informationof our master dataset\n",
        "telecom.info()\n",
        "\n"
      ]
    },
    {
      "cell_type": "markdown",
      "metadata": {
        "id": "zobN4dzW1H3F"
      },
      "source": [
        "Now we can see we have all variables as integer."
      ]
    },
    {
      "cell_type": "markdown",
      "metadata": {
        "collapsed": true,
        "id": "F5ha-8X21H3F"
      },
      "source": [
        "### **`Checking for Outliers`**\n",
        "<p style='text-align: right;'> 4 points</p>\n",
        "\n",
        "\n",
        "Checking for outliers in the continuous variables like 'tenure','MonthlyCharges','SeniorCitizen','TotalCharges'\n"
      ]
    },
    {
      "cell_type": "code",
      "execution_count": null,
      "metadata": {
        "id": "88nugxmR1H3F"
      },
      "outputs": [],
      "source": [
        "# Getting all continues variables in separate dataframe\n",
        "num_telecom = telecom[['tenure','MonthlyCharges','SeniorCitizen','TotalCharges']]\n"
      ]
    },
    {
      "cell_type": "code",
      "execution_count": null,
      "metadata": {
        "id": "_nTW7FmY1H3G",
        "outputId": "4398c4b3-ebfd-4dc5-8045-807a6569b344",
        "colab": {
          "base_uri": "https://localhost:8080/",
          "height": 394
        }
      },
      "outputs": [
        {
          "output_type": "execute_result",
          "data": {
            "text/plain": [
              "            tenure  MonthlyCharges  SeniorCitizen  TotalCharges\n",
              "count  7043.000000     7043.000000    7043.000000   7032.000000\n",
              "mean     32.371149       64.761692       0.162147   2283.300441\n",
              "std      24.559481       30.090047       0.368612   2266.771362\n",
              "min       0.000000       18.250000       0.000000     18.800000\n",
              "25%       9.000000       35.500000       0.000000    401.450000\n",
              "50%      29.000000       70.350000       0.000000   1397.475000\n",
              "75%      55.000000       89.850000       0.000000   3794.737500\n",
              "90%      69.000000      102.600000       1.000000   5976.640000\n",
              "95%      72.000000      107.400000       1.000000   6923.590000\n",
              "99%      72.000000      114.729000       1.000000   8039.883000\n",
              "max      72.000000      118.750000       1.000000   8684.800000"
            ],
            "text/html": [
              "\n",
              "  <div id=\"df-18bcd1a6-cfbc-4d21-b378-3e18ee44e332\" class=\"colab-df-container\">\n",
              "    <div>\n",
              "<style scoped>\n",
              "    .dataframe tbody tr th:only-of-type {\n",
              "        vertical-align: middle;\n",
              "    }\n",
              "\n",
              "    .dataframe tbody tr th {\n",
              "        vertical-align: top;\n",
              "    }\n",
              "\n",
              "    .dataframe thead th {\n",
              "        text-align: right;\n",
              "    }\n",
              "</style>\n",
              "<table border=\"1\" class=\"dataframe\">\n",
              "  <thead>\n",
              "    <tr style=\"text-align: right;\">\n",
              "      <th></th>\n",
              "      <th>tenure</th>\n",
              "      <th>MonthlyCharges</th>\n",
              "      <th>SeniorCitizen</th>\n",
              "      <th>TotalCharges</th>\n",
              "    </tr>\n",
              "  </thead>\n",
              "  <tbody>\n",
              "    <tr>\n",
              "      <th>count</th>\n",
              "      <td>7043.000000</td>\n",
              "      <td>7043.000000</td>\n",
              "      <td>7043.000000</td>\n",
              "      <td>7032.000000</td>\n",
              "    </tr>\n",
              "    <tr>\n",
              "      <th>mean</th>\n",
              "      <td>32.371149</td>\n",
              "      <td>64.761692</td>\n",
              "      <td>0.162147</td>\n",
              "      <td>2283.300441</td>\n",
              "    </tr>\n",
              "    <tr>\n",
              "      <th>std</th>\n",
              "      <td>24.559481</td>\n",
              "      <td>30.090047</td>\n",
              "      <td>0.368612</td>\n",
              "      <td>2266.771362</td>\n",
              "    </tr>\n",
              "    <tr>\n",
              "      <th>min</th>\n",
              "      <td>0.000000</td>\n",
              "      <td>18.250000</td>\n",
              "      <td>0.000000</td>\n",
              "      <td>18.800000</td>\n",
              "    </tr>\n",
              "    <tr>\n",
              "      <th>25%</th>\n",
              "      <td>9.000000</td>\n",
              "      <td>35.500000</td>\n",
              "      <td>0.000000</td>\n",
              "      <td>401.450000</td>\n",
              "    </tr>\n",
              "    <tr>\n",
              "      <th>50%</th>\n",
              "      <td>29.000000</td>\n",
              "      <td>70.350000</td>\n",
              "      <td>0.000000</td>\n",
              "      <td>1397.475000</td>\n",
              "    </tr>\n",
              "    <tr>\n",
              "      <th>75%</th>\n",
              "      <td>55.000000</td>\n",
              "      <td>89.850000</td>\n",
              "      <td>0.000000</td>\n",
              "      <td>3794.737500</td>\n",
              "    </tr>\n",
              "    <tr>\n",
              "      <th>90%</th>\n",
              "      <td>69.000000</td>\n",
              "      <td>102.600000</td>\n",
              "      <td>1.000000</td>\n",
              "      <td>5976.640000</td>\n",
              "    </tr>\n",
              "    <tr>\n",
              "      <th>95%</th>\n",
              "      <td>72.000000</td>\n",
              "      <td>107.400000</td>\n",
              "      <td>1.000000</td>\n",
              "      <td>6923.590000</td>\n",
              "    </tr>\n",
              "    <tr>\n",
              "      <th>99%</th>\n",
              "      <td>72.000000</td>\n",
              "      <td>114.729000</td>\n",
              "      <td>1.000000</td>\n",
              "      <td>8039.883000</td>\n",
              "    </tr>\n",
              "    <tr>\n",
              "      <th>max</th>\n",
              "      <td>72.000000</td>\n",
              "      <td>118.750000</td>\n",
              "      <td>1.000000</td>\n",
              "      <td>8684.800000</td>\n",
              "    </tr>\n",
              "  </tbody>\n",
              "</table>\n",
              "</div>\n",
              "    <div class=\"colab-df-buttons\">\n",
              "\n",
              "  <div class=\"colab-df-container\">\n",
              "    <button class=\"colab-df-convert\" onclick=\"convertToInteractive('df-18bcd1a6-cfbc-4d21-b378-3e18ee44e332')\"\n",
              "            title=\"Convert this dataframe to an interactive table.\"\n",
              "            style=\"display:none;\">\n",
              "\n",
              "  <svg xmlns=\"http://www.w3.org/2000/svg\" height=\"24px\" viewBox=\"0 -960 960 960\">\n",
              "    <path d=\"M120-120v-720h720v720H120Zm60-500h600v-160H180v160Zm220 220h160v-160H400v160Zm0 220h160v-160H400v160ZM180-400h160v-160H180v160Zm440 0h160v-160H620v160ZM180-180h160v-160H180v160Zm440 0h160v-160H620v160Z\"/>\n",
              "  </svg>\n",
              "    </button>\n",
              "\n",
              "  <style>\n",
              "    .colab-df-container {\n",
              "      display:flex;\n",
              "      gap: 12px;\n",
              "    }\n",
              "\n",
              "    .colab-df-convert {\n",
              "      background-color: #E8F0FE;\n",
              "      border: none;\n",
              "      border-radius: 50%;\n",
              "      cursor: pointer;\n",
              "      display: none;\n",
              "      fill: #1967D2;\n",
              "      height: 32px;\n",
              "      padding: 0 0 0 0;\n",
              "      width: 32px;\n",
              "    }\n",
              "\n",
              "    .colab-df-convert:hover {\n",
              "      background-color: #E2EBFA;\n",
              "      box-shadow: 0px 1px 2px rgba(60, 64, 67, 0.3), 0px 1px 3px 1px rgba(60, 64, 67, 0.15);\n",
              "      fill: #174EA6;\n",
              "    }\n",
              "\n",
              "    .colab-df-buttons div {\n",
              "      margin-bottom: 4px;\n",
              "    }\n",
              "\n",
              "    [theme=dark] .colab-df-convert {\n",
              "      background-color: #3B4455;\n",
              "      fill: #D2E3FC;\n",
              "    }\n",
              "\n",
              "    [theme=dark] .colab-df-convert:hover {\n",
              "      background-color: #434B5C;\n",
              "      box-shadow: 0px 1px 3px 1px rgba(0, 0, 0, 0.15);\n",
              "      filter: drop-shadow(0px 1px 2px rgba(0, 0, 0, 0.3));\n",
              "      fill: #FFFFFF;\n",
              "    }\n",
              "  </style>\n",
              "\n",
              "    <script>\n",
              "      const buttonEl =\n",
              "        document.querySelector('#df-18bcd1a6-cfbc-4d21-b378-3e18ee44e332 button.colab-df-convert');\n",
              "      buttonEl.style.display =\n",
              "        google.colab.kernel.accessAllowed ? 'block' : 'none';\n",
              "\n",
              "      async function convertToInteractive(key) {\n",
              "        const element = document.querySelector('#df-18bcd1a6-cfbc-4d21-b378-3e18ee44e332');\n",
              "        const dataTable =\n",
              "          await google.colab.kernel.invokeFunction('convertToInteractive',\n",
              "                                                    [key], {});\n",
              "        if (!dataTable) return;\n",
              "\n",
              "        const docLinkHtml = 'Like what you see? Visit the ' +\n",
              "          '<a target=\"_blank\" href=https://colab.research.google.com/notebooks/data_table.ipynb>data table notebook</a>'\n",
              "          + ' to learn more about interactive tables.';\n",
              "        element.innerHTML = '';\n",
              "        dataTable['output_type'] = 'display_data';\n",
              "        await google.colab.output.renderOutput(dataTable, element);\n",
              "        const docLink = document.createElement('div');\n",
              "        docLink.innerHTML = docLinkHtml;\n",
              "        element.appendChild(docLink);\n",
              "      }\n",
              "    </script>\n",
              "  </div>\n",
              "\n",
              "\n",
              "<div id=\"df-0948fb37-1376-4a36-9db9-c8cec95a64b3\">\n",
              "  <button class=\"colab-df-quickchart\" onclick=\"quickchart('df-0948fb37-1376-4a36-9db9-c8cec95a64b3')\"\n",
              "            title=\"Suggest charts\"\n",
              "            style=\"display:none;\">\n",
              "\n",
              "<svg xmlns=\"http://www.w3.org/2000/svg\" height=\"24px\"viewBox=\"0 0 24 24\"\n",
              "     width=\"24px\">\n",
              "    <g>\n",
              "        <path d=\"M19 3H5c-1.1 0-2 .9-2 2v14c0 1.1.9 2 2 2h14c1.1 0 2-.9 2-2V5c0-1.1-.9-2-2-2zM9 17H7v-7h2v7zm4 0h-2V7h2v10zm4 0h-2v-4h2v4z\"/>\n",
              "    </g>\n",
              "</svg>\n",
              "  </button>\n",
              "\n",
              "<style>\n",
              "  .colab-df-quickchart {\n",
              "      --bg-color: #E8F0FE;\n",
              "      --fill-color: #1967D2;\n",
              "      --hover-bg-color: #E2EBFA;\n",
              "      --hover-fill-color: #174EA6;\n",
              "      --disabled-fill-color: #AAA;\n",
              "      --disabled-bg-color: #DDD;\n",
              "  }\n",
              "\n",
              "  [theme=dark] .colab-df-quickchart {\n",
              "      --bg-color: #3B4455;\n",
              "      --fill-color: #D2E3FC;\n",
              "      --hover-bg-color: #434B5C;\n",
              "      --hover-fill-color: #FFFFFF;\n",
              "      --disabled-bg-color: #3B4455;\n",
              "      --disabled-fill-color: #666;\n",
              "  }\n",
              "\n",
              "  .colab-df-quickchart {\n",
              "    background-color: var(--bg-color);\n",
              "    border: none;\n",
              "    border-radius: 50%;\n",
              "    cursor: pointer;\n",
              "    display: none;\n",
              "    fill: var(--fill-color);\n",
              "    height: 32px;\n",
              "    padding: 0;\n",
              "    width: 32px;\n",
              "  }\n",
              "\n",
              "  .colab-df-quickchart:hover {\n",
              "    background-color: var(--hover-bg-color);\n",
              "    box-shadow: 0 1px 2px rgba(60, 64, 67, 0.3), 0 1px 3px 1px rgba(60, 64, 67, 0.15);\n",
              "    fill: var(--button-hover-fill-color);\n",
              "  }\n",
              "\n",
              "  .colab-df-quickchart-complete:disabled,\n",
              "  .colab-df-quickchart-complete:disabled:hover {\n",
              "    background-color: var(--disabled-bg-color);\n",
              "    fill: var(--disabled-fill-color);\n",
              "    box-shadow: none;\n",
              "  }\n",
              "\n",
              "  .colab-df-spinner {\n",
              "    border: 2px solid var(--fill-color);\n",
              "    border-color: transparent;\n",
              "    border-bottom-color: var(--fill-color);\n",
              "    animation:\n",
              "      spin 1s steps(1) infinite;\n",
              "  }\n",
              "\n",
              "  @keyframes spin {\n",
              "    0% {\n",
              "      border-color: transparent;\n",
              "      border-bottom-color: var(--fill-color);\n",
              "      border-left-color: var(--fill-color);\n",
              "    }\n",
              "    20% {\n",
              "      border-color: transparent;\n",
              "      border-left-color: var(--fill-color);\n",
              "      border-top-color: var(--fill-color);\n",
              "    }\n",
              "    30% {\n",
              "      border-color: transparent;\n",
              "      border-left-color: var(--fill-color);\n",
              "      border-top-color: var(--fill-color);\n",
              "      border-right-color: var(--fill-color);\n",
              "    }\n",
              "    40% {\n",
              "      border-color: transparent;\n",
              "      border-right-color: var(--fill-color);\n",
              "      border-top-color: var(--fill-color);\n",
              "    }\n",
              "    60% {\n",
              "      border-color: transparent;\n",
              "      border-right-color: var(--fill-color);\n",
              "    }\n",
              "    80% {\n",
              "      border-color: transparent;\n",
              "      border-right-color: var(--fill-color);\n",
              "      border-bottom-color: var(--fill-color);\n",
              "    }\n",
              "    90% {\n",
              "      border-color: transparent;\n",
              "      border-bottom-color: var(--fill-color);\n",
              "    }\n",
              "  }\n",
              "</style>\n",
              "\n",
              "  <script>\n",
              "    async function quickchart(key) {\n",
              "      const quickchartButtonEl =\n",
              "        document.querySelector('#' + key + ' button');\n",
              "      quickchartButtonEl.disabled = true;  // To prevent multiple clicks.\n",
              "      quickchartButtonEl.classList.add('colab-df-spinner');\n",
              "      try {\n",
              "        const charts = await google.colab.kernel.invokeFunction(\n",
              "            'suggestCharts', [key], {});\n",
              "      } catch (error) {\n",
              "        console.error('Error during call to suggestCharts:', error);\n",
              "      }\n",
              "      quickchartButtonEl.classList.remove('colab-df-spinner');\n",
              "      quickchartButtonEl.classList.add('colab-df-quickchart-complete');\n",
              "    }\n",
              "    (() => {\n",
              "      let quickchartButtonEl =\n",
              "        document.querySelector('#df-0948fb37-1376-4a36-9db9-c8cec95a64b3 button');\n",
              "      quickchartButtonEl.style.display =\n",
              "        google.colab.kernel.accessAllowed ? 'block' : 'none';\n",
              "    })();\n",
              "  </script>\n",
              "</div>\n",
              "\n",
              "    </div>\n",
              "  </div>\n"
            ],
            "application/vnd.google.colaboratory.intrinsic+json": {
              "type": "dataframe",
              "summary": "{\n  \"name\": \"num_telecom\",\n  \"rows\": 11,\n  \"fields\": [\n    {\n      \"column\": \"tenure\",\n      \"properties\": {\n        \"dtype\": \"number\",\n        \"std\": 2110.596456305837,\n        \"min\": 0.0,\n        \"max\": 7043.0,\n        \"num_unique_values\": 9,\n        \"samples\": [\n          69.0,\n          32.37114865824223,\n          29.0\n        ],\n        \"semantic_type\": \"\",\n        \"description\": \"\"\n      }\n    },\n    {\n      \"column\": \"MonthlyCharges\",\n      \"properties\": {\n        \"dtype\": \"number\",\n        \"std\": 2101.1585238852367,\n        \"min\": 18.25,\n        \"max\": 7043.0,\n        \"num_unique_values\": 11,\n        \"samples\": [\n          70.35,\n          7043.0,\n          114.729\n        ],\n        \"semantic_type\": \"\",\n        \"description\": \"\"\n      }\n    },\n    {\n      \"column\": \"SeniorCitizen\",\n      \"properties\": {\n        \"dtype\": \"number\",\n        \"std\": 2123.4078420248275,\n        \"min\": 0.0,\n        \"max\": 7043.0,\n        \"num_unique_values\": 5,\n        \"samples\": [\n          0.1621468124378816,\n          1.0,\n          0.36861160561002687\n        ],\n        \"semantic_type\": \"\",\n        \"description\": \"\"\n      }\n    },\n    {\n      \"column\": \"TotalCharges\",\n      \"properties\": {\n        \"dtype\": \"number\",\n        \"std\": 3174.2522784503594,\n        \"min\": 18.8,\n        \"max\": 8684.8,\n        \"num_unique_values\": 11,\n        \"samples\": [\n          1397.475,\n          7032.0,\n          8039.882999999997\n        ],\n        \"semantic_type\": \"\",\n        \"description\": \"\"\n      }\n    }\n  ]\n}"
            }
          },
          "metadata": {},
          "execution_count": 71
        }
      ],
      "source": [
        "# Checking outliers at 25%,50%,75%,90%,95% and 99%\n",
        "num_telecom.describe(percentiles=[0.25,0.5,0.75,0.90,0.95,0.99])\n",
        "\n"
      ]
    },
    {
      "cell_type": "markdown",
      "metadata": {
        "id": "YdNiiA-b1H3G"
      },
      "source": [
        "From the distribution shown above, you can see that there no outliner in your data as the numbers are gradually increasing."
      ]
    },
    {
      "cell_type": "markdown",
      "metadata": {
        "id": "xFMBabi91H3H"
      },
      "source": [
        "### **`Checking for Missing Values and Inputing Them`**\n",
        "\n",
        "<p style='text-align: right;'> 5 points</p>\n"
      ]
    },
    {
      "cell_type": "code",
      "execution_count": null,
      "metadata": {
        "id": "QxR8EcTs1H3H",
        "outputId": "3de05e4f-94b5-4b27-ee07-1cf86ddcd608",
        "colab": {
          "base_uri": "https://localhost:8080/",
          "height": 458
        }
      },
      "outputs": [
        {
          "output_type": "execute_result",
          "data": {
            "text/plain": [
              "customerID             0\n",
              "tenure                 0\n",
              "PhoneService           0\n",
              "PaperlessBilling       0\n",
              "MonthlyCharges         0\n",
              "                      ..\n",
              "TechSupport_Yes        0\n",
              "StreamingTV_No         0\n",
              "StreamingTV_Yes        0\n",
              "StreamingMovies_No     0\n",
              "StreamingMovies_Yes    0\n",
              "Length: 74, dtype: int64"
            ],
            "text/html": [
              "<div>\n",
              "<style scoped>\n",
              "    .dataframe tbody tr th:only-of-type {\n",
              "        vertical-align: middle;\n",
              "    }\n",
              "\n",
              "    .dataframe tbody tr th {\n",
              "        vertical-align: top;\n",
              "    }\n",
              "\n",
              "    .dataframe thead th {\n",
              "        text-align: right;\n",
              "    }\n",
              "</style>\n",
              "<table border=\"1\" class=\"dataframe\">\n",
              "  <thead>\n",
              "    <tr style=\"text-align: right;\">\n",
              "      <th></th>\n",
              "      <th>0</th>\n",
              "    </tr>\n",
              "  </thead>\n",
              "  <tbody>\n",
              "    <tr>\n",
              "      <th>customerID</th>\n",
              "      <td>0</td>\n",
              "    </tr>\n",
              "    <tr>\n",
              "      <th>tenure</th>\n",
              "      <td>0</td>\n",
              "    </tr>\n",
              "    <tr>\n",
              "      <th>PhoneService</th>\n",
              "      <td>0</td>\n",
              "    </tr>\n",
              "    <tr>\n",
              "      <th>PaperlessBilling</th>\n",
              "      <td>0</td>\n",
              "    </tr>\n",
              "    <tr>\n",
              "      <th>MonthlyCharges</th>\n",
              "      <td>0</td>\n",
              "    </tr>\n",
              "    <tr>\n",
              "      <th>...</th>\n",
              "      <td>...</td>\n",
              "    </tr>\n",
              "    <tr>\n",
              "      <th>TechSupport_Yes</th>\n",
              "      <td>0</td>\n",
              "    </tr>\n",
              "    <tr>\n",
              "      <th>StreamingTV_No</th>\n",
              "      <td>0</td>\n",
              "    </tr>\n",
              "    <tr>\n",
              "      <th>StreamingTV_Yes</th>\n",
              "      <td>0</td>\n",
              "    </tr>\n",
              "    <tr>\n",
              "      <th>StreamingMovies_No</th>\n",
              "      <td>0</td>\n",
              "    </tr>\n",
              "    <tr>\n",
              "      <th>StreamingMovies_Yes</th>\n",
              "      <td>0</td>\n",
              "    </tr>\n",
              "  </tbody>\n",
              "</table>\n",
              "<p>74 rows × 1 columns</p>\n",
              "</div><br><label><b>dtype:</b> int64</label>"
            ]
          },
          "metadata": {},
          "execution_count": 72
        }
      ],
      "source": [
        "# Checking total missing values (column-wise)\n",
        "telecom.isnull().sum()\n",
        "\n"
      ]
    },
    {
      "cell_type": "code",
      "execution_count": null,
      "metadata": {
        "id": "9_e_fOrP1H3H",
        "outputId": "27d72d0e-8f8d-40ad-8562-a31bea43e876",
        "colab": {
          "base_uri": "https://localhost:8080/",
          "height": 458
        }
      },
      "outputs": [
        {
          "output_type": "execute_result",
          "data": {
            "text/plain": [
              "customerID             0.0\n",
              "tenure                 0.0\n",
              "PhoneService           0.0\n",
              "PaperlessBilling       0.0\n",
              "MonthlyCharges         0.0\n",
              "                      ... \n",
              "TechSupport_Yes        0.0\n",
              "StreamingTV_No         0.0\n",
              "StreamingTV_Yes        0.0\n",
              "StreamingMovies_No     0.0\n",
              "StreamingMovies_Yes    0.0\n",
              "Length: 74, dtype: float64"
            ],
            "text/html": [
              "<div>\n",
              "<style scoped>\n",
              "    .dataframe tbody tr th:only-of-type {\n",
              "        vertical-align: middle;\n",
              "    }\n",
              "\n",
              "    .dataframe tbody tr th {\n",
              "        vertical-align: top;\n",
              "    }\n",
              "\n",
              "    .dataframe thead th {\n",
              "        text-align: right;\n",
              "    }\n",
              "</style>\n",
              "<table border=\"1\" class=\"dataframe\">\n",
              "  <thead>\n",
              "    <tr style=\"text-align: right;\">\n",
              "      <th></th>\n",
              "      <th>0</th>\n",
              "    </tr>\n",
              "  </thead>\n",
              "  <tbody>\n",
              "    <tr>\n",
              "      <th>customerID</th>\n",
              "      <td>0.0</td>\n",
              "    </tr>\n",
              "    <tr>\n",
              "      <th>tenure</th>\n",
              "      <td>0.0</td>\n",
              "    </tr>\n",
              "    <tr>\n",
              "      <th>PhoneService</th>\n",
              "      <td>0.0</td>\n",
              "    </tr>\n",
              "    <tr>\n",
              "      <th>PaperlessBilling</th>\n",
              "      <td>0.0</td>\n",
              "    </tr>\n",
              "    <tr>\n",
              "      <th>MonthlyCharges</th>\n",
              "      <td>0.0</td>\n",
              "    </tr>\n",
              "    <tr>\n",
              "      <th>...</th>\n",
              "      <td>...</td>\n",
              "    </tr>\n",
              "    <tr>\n",
              "      <th>TechSupport_Yes</th>\n",
              "      <td>0.0</td>\n",
              "    </tr>\n",
              "    <tr>\n",
              "      <th>StreamingTV_No</th>\n",
              "      <td>0.0</td>\n",
              "    </tr>\n",
              "    <tr>\n",
              "      <th>StreamingTV_Yes</th>\n",
              "      <td>0.0</td>\n",
              "    </tr>\n",
              "    <tr>\n",
              "      <th>StreamingMovies_No</th>\n",
              "      <td>0.0</td>\n",
              "    </tr>\n",
              "    <tr>\n",
              "      <th>StreamingMovies_Yes</th>\n",
              "      <td>0.0</td>\n",
              "    </tr>\n",
              "  </tbody>\n",
              "</table>\n",
              "<p>74 rows × 1 columns</p>\n",
              "</div><br><label><b>dtype:</b> float64</label>"
            ]
          },
          "metadata": {},
          "execution_count": 73
        }
      ],
      "source": [
        "# Checking the percentage of missing values\n",
        "(telecom.isnull().sum()/telecom.shape[0])*100\n",
        "\n"
      ]
    },
    {
      "cell_type": "markdown",
      "metadata": {
        "id": "y_CUot3u1H3I"
      },
      "source": [
        "It means that 11/7043 = 0.001561834 i.e 0.15%, the best option to get rid of these null values in this scenario is to remove these observations from the analysis"
      ]
    },
    {
      "cell_type": "code",
      "execution_count": null,
      "metadata": {
        "id": "bM9HxD0Z1H3I"
      },
      "outputs": [],
      "source": [
        "# Removing NaN form TotalCharges rows\n",
        "telecom = telecom[~np.isnan(telecom['TotalCharges'])]\n"
      ]
    },
    {
      "cell_type": "code",
      "execution_count": null,
      "metadata": {
        "id": "lyBg-4fp1H3I",
        "outputId": "d07f9857-32d3-4656-b70c-2d2755cdbe1e",
        "colab": {
          "base_uri": "https://localhost:8080/",
          "height": 458
        }
      },
      "outputs": [
        {
          "output_type": "execute_result",
          "data": {
            "text/plain": [
              "customerID             0.0\n",
              "tenure                 0.0\n",
              "PhoneService           0.0\n",
              "PaperlessBilling       0.0\n",
              "MonthlyCharges         0.0\n",
              "                      ... \n",
              "TechSupport_Yes        0.0\n",
              "StreamingTV_No         0.0\n",
              "StreamingTV_Yes        0.0\n",
              "StreamingMovies_No     0.0\n",
              "StreamingMovies_Yes    0.0\n",
              "Length: 74, dtype: float64"
            ],
            "text/html": [
              "<div>\n",
              "<style scoped>\n",
              "    .dataframe tbody tr th:only-of-type {\n",
              "        vertical-align: middle;\n",
              "    }\n",
              "\n",
              "    .dataframe tbody tr th {\n",
              "        vertical-align: top;\n",
              "    }\n",
              "\n",
              "    .dataframe thead th {\n",
              "        text-align: right;\n",
              "    }\n",
              "</style>\n",
              "<table border=\"1\" class=\"dataframe\">\n",
              "  <thead>\n",
              "    <tr style=\"text-align: right;\">\n",
              "      <th></th>\n",
              "      <th>0</th>\n",
              "    </tr>\n",
              "  </thead>\n",
              "  <tbody>\n",
              "    <tr>\n",
              "      <th>customerID</th>\n",
              "      <td>0.0</td>\n",
              "    </tr>\n",
              "    <tr>\n",
              "      <th>tenure</th>\n",
              "      <td>0.0</td>\n",
              "    </tr>\n",
              "    <tr>\n",
              "      <th>PhoneService</th>\n",
              "      <td>0.0</td>\n",
              "    </tr>\n",
              "    <tr>\n",
              "      <th>PaperlessBilling</th>\n",
              "      <td>0.0</td>\n",
              "    </tr>\n",
              "    <tr>\n",
              "      <th>MonthlyCharges</th>\n",
              "      <td>0.0</td>\n",
              "    </tr>\n",
              "    <tr>\n",
              "      <th>...</th>\n",
              "      <td>...</td>\n",
              "    </tr>\n",
              "    <tr>\n",
              "      <th>TechSupport_Yes</th>\n",
              "      <td>0.0</td>\n",
              "    </tr>\n",
              "    <tr>\n",
              "      <th>StreamingTV_No</th>\n",
              "      <td>0.0</td>\n",
              "    </tr>\n",
              "    <tr>\n",
              "      <th>StreamingTV_Yes</th>\n",
              "      <td>0.0</td>\n",
              "    </tr>\n",
              "    <tr>\n",
              "      <th>StreamingMovies_No</th>\n",
              "      <td>0.0</td>\n",
              "    </tr>\n",
              "    <tr>\n",
              "      <th>StreamingMovies_Yes</th>\n",
              "      <td>0.0</td>\n",
              "    </tr>\n",
              "  </tbody>\n",
              "</table>\n",
              "<p>74 rows × 1 columns</p>\n",
              "</div><br><label><b>dtype:</b> float64</label>"
            ]
          },
          "metadata": {},
          "execution_count": 75
        }
      ],
      "source": [
        "# Lets Check percentage of missing values after removing the missing values\n",
        "(telecom.isnull().sum()/telecom.shape[0])*100\n",
        "\n"
      ]
    },
    {
      "cell_type": "markdown",
      "metadata": {
        "id": "xXxFMy8W1H3J"
      },
      "source": [
        "Now we don't have any missing values"
      ]
    },
    {
      "cell_type": "markdown",
      "metadata": {
        "id": "VB7WcLhv1H3K"
      },
      "source": [
        "### **`Feature Standardisation`**\n",
        "\n",
        "<p style='text-align: right;'> 6 points</p>\n",
        "\n",
        "\n",
        "Standardization is one of the scaling technique where the values are centered around the mean with a unit standard deviation. This means that the mean of the attribute becomes zero and the resultant distribution has a unit standard deviation.\n",
        "\n",
        "Here’s the formula for standardization:\n",
        "\n",
        "\n",
        "![image.png](attachment:image.png)\n",
        "\n",
        "![image-3.png](attachment:image-3.png)\n",
        "\n",
        "\n",
        "We are sure that you have got this Scaling concept clear from your previous assignements. But for the sake of your revision we\n",
        "provide you with following video."
      ]
    },
    {
      "cell_type": "markdown",
      "source": [
        "## **`Watch Video 4 : Normalization  & Standardization`**"
      ],
      "metadata": {
        "id": "Y0390FYRn3j6"
      }
    },
    {
      "cell_type": "code",
      "execution_count": null,
      "metadata": {
        "id": "3l8IBOU51H3V",
        "outputId": "ad9aec6e-f6cb-4ba4-f5a6-09d57845be77",
        "colab": {
          "base_uri": "https://localhost:8080/",
          "height": 458
        }
      },
      "outputs": [
        {
          "output_type": "execute_result",
          "data": {
            "text/plain": [
              "customerID             7032\n",
              "tenure                 7032\n",
              "PhoneService           7032\n",
              "PaperlessBilling       7032\n",
              "MonthlyCharges         7032\n",
              "                       ... \n",
              "TechSupport_Yes        7032\n",
              "StreamingTV_No         7032\n",
              "StreamingTV_Yes        7032\n",
              "StreamingMovies_No     7032\n",
              "StreamingMovies_Yes    7032\n",
              "Length: 74, dtype: int64"
            ],
            "text/html": [
              "<div>\n",
              "<style scoped>\n",
              "    .dataframe tbody tr th:only-of-type {\n",
              "        vertical-align: middle;\n",
              "    }\n",
              "\n",
              "    .dataframe tbody tr th {\n",
              "        vertical-align: top;\n",
              "    }\n",
              "\n",
              "    .dataframe thead th {\n",
              "        text-align: right;\n",
              "    }\n",
              "</style>\n",
              "<table border=\"1\" class=\"dataframe\">\n",
              "  <thead>\n",
              "    <tr style=\"text-align: right;\">\n",
              "      <th></th>\n",
              "      <th>0</th>\n",
              "    </tr>\n",
              "  </thead>\n",
              "  <tbody>\n",
              "    <tr>\n",
              "      <th>customerID</th>\n",
              "      <td>7032</td>\n",
              "    </tr>\n",
              "    <tr>\n",
              "      <th>tenure</th>\n",
              "      <td>7032</td>\n",
              "    </tr>\n",
              "    <tr>\n",
              "      <th>PhoneService</th>\n",
              "      <td>7032</td>\n",
              "    </tr>\n",
              "    <tr>\n",
              "      <th>PaperlessBilling</th>\n",
              "      <td>7032</td>\n",
              "    </tr>\n",
              "    <tr>\n",
              "      <th>MonthlyCharges</th>\n",
              "      <td>7032</td>\n",
              "    </tr>\n",
              "    <tr>\n",
              "      <th>...</th>\n",
              "      <td>...</td>\n",
              "    </tr>\n",
              "    <tr>\n",
              "      <th>TechSupport_Yes</th>\n",
              "      <td>7032</td>\n",
              "    </tr>\n",
              "    <tr>\n",
              "      <th>StreamingTV_No</th>\n",
              "      <td>7032</td>\n",
              "    </tr>\n",
              "    <tr>\n",
              "      <th>StreamingTV_Yes</th>\n",
              "      <td>7032</td>\n",
              "    </tr>\n",
              "    <tr>\n",
              "      <th>StreamingMovies_No</th>\n",
              "      <td>7032</td>\n",
              "    </tr>\n",
              "    <tr>\n",
              "      <th>StreamingMovies_Yes</th>\n",
              "      <td>7032</td>\n",
              "    </tr>\n",
              "  </tbody>\n",
              "</table>\n",
              "<p>74 rows × 1 columns</p>\n",
              "</div><br><label><b>dtype:</b> int64</label>"
            ]
          },
          "metadata": {},
          "execution_count": 76
        }
      ],
      "source": [
        "# print non null count in df\n",
        "telecom.count()\n"
      ]
    },
    {
      "cell_type": "code",
      "execution_count": null,
      "metadata": {
        "id": "Oi1eA9vX1H3W"
      },
      "outputs": [],
      "source": [
        "# Getting all desired continues variables like 'tenure','MonthlyCharges' and 'TotalCharges' into one dataframe.\n",
        "df = telecom[['tenure','MonthlyCharges','TotalCharges']]\n"
      ]
    },
    {
      "cell_type": "code",
      "execution_count": null,
      "metadata": {
        "id": "cCoZkjrR1H3X"
      },
      "outputs": [],
      "source": [
        "# Standardising above continuous features\n",
        "\n",
        "std_df= (df-df.mean())/df.std()\n"
      ]
    },
    {
      "cell_type": "code",
      "execution_count": null,
      "metadata": {
        "id": "Y1ZYQWrz1H3X"
      },
      "outputs": [],
      "source": [
        "# Dropping 'tenure','MonthlyCharges' and 'TotalCharges' from telecom as we want to add the standardised fetaures\n",
        "telecom =  telecom.drop(columns=['tenure','MonthlyCharges','TotalCharges'])\n"
      ]
    },
    {
      "cell_type": "code",
      "execution_count": null,
      "metadata": {
        "id": "jKICUQv51H3Y"
      },
      "outputs": [],
      "source": [
        "# Add std_df into telecom\n",
        "telecom = pd.concat([telecom, std_df], axis=1)\n"
      ]
    },
    {
      "cell_type": "code",
      "execution_count": null,
      "metadata": {
        "id": "acKybHHP1H3Y",
        "outputId": "17c06909-29f4-4883-c9d7-61d5b8f7aeb8",
        "colab": {
          "base_uri": "https://localhost:8080/",
          "height": 342
        }
      },
      "outputs": [
        {
          "output_type": "execute_result",
          "data": {
            "text/plain": [
              "      customerID  PhoneService  PaperlessBilling  Churn  SeniorCitizen  \\\n",
              "7038  6840-RESVB             1                 1      0              0   \n",
              "7039  2234-XADUH             1                 1      0              0   \n",
              "7040  4801-JZAZL             0                 1      0              0   \n",
              "7041  8361-LTMKD             1                 1      1              1   \n",
              "7042  3186-AJIEK             1                 1      0              0   \n",
              "\n",
              "      Partner  Dependents  Contract_One year  Contract_Two year  \\\n",
              "7038        1           1               True              False   \n",
              "7039        1           1               True              False   \n",
              "7040        1           1              False              False   \n",
              "7041        1           0              False              False   \n",
              "7042        0           0              False               True   \n",
              "\n",
              "      PaymentMethod_Credit card (automatic)  ...  DeviceProtection_Yes  \\\n",
              "7038                                  False  ...                  True   \n",
              "7039                                   True  ...                  True   \n",
              "7040                                  False  ...                 False   \n",
              "7041                                  False  ...                 False   \n",
              "7042                                  False  ...                  True   \n",
              "\n",
              "      TechSupport_No  TechSupport_Yes  StreamingTV_No  StreamingTV_Yes  \\\n",
              "7038           False             True           False             True   \n",
              "7039            True            False           False             True   \n",
              "7040            True            False            True            False   \n",
              "7041            True            False            True            False   \n",
              "7042           False             True           False             True   \n",
              "\n",
              "      StreamingMovies_No  StreamingMovies_Yes    tenure  MonthlyCharges  \\\n",
              "7038               False                 True -0.343113        0.664821   \n",
              "7039               False                 True  1.612459        1.276402   \n",
              "7040                True                False -0.872746       -1.169921   \n",
              "7041                True                False -1.157934        0.319145   \n",
              "7042               False                 True  1.368012        1.357835   \n",
              "\n",
              "      TotalCharges  \n",
              "7038     -0.129171  \n",
              "7039      2.240896  \n",
              "7040     -0.854453  \n",
              "7041     -0.872033  \n",
              "7042      2.012201  \n",
              "\n",
              "[5 rows x 74 columns]"
            ],
            "text/html": [
              "\n",
              "  <div id=\"df-74be03e4-673b-4400-803e-2801469a7e60\" class=\"colab-df-container\">\n",
              "    <div>\n",
              "<style scoped>\n",
              "    .dataframe tbody tr th:only-of-type {\n",
              "        vertical-align: middle;\n",
              "    }\n",
              "\n",
              "    .dataframe tbody tr th {\n",
              "        vertical-align: top;\n",
              "    }\n",
              "\n",
              "    .dataframe thead th {\n",
              "        text-align: right;\n",
              "    }\n",
              "</style>\n",
              "<table border=\"1\" class=\"dataframe\">\n",
              "  <thead>\n",
              "    <tr style=\"text-align: right;\">\n",
              "      <th></th>\n",
              "      <th>customerID</th>\n",
              "      <th>PhoneService</th>\n",
              "      <th>PaperlessBilling</th>\n",
              "      <th>Churn</th>\n",
              "      <th>SeniorCitizen</th>\n",
              "      <th>Partner</th>\n",
              "      <th>Dependents</th>\n",
              "      <th>Contract_One year</th>\n",
              "      <th>Contract_Two year</th>\n",
              "      <th>PaymentMethod_Credit card (automatic)</th>\n",
              "      <th>...</th>\n",
              "      <th>DeviceProtection_Yes</th>\n",
              "      <th>TechSupport_No</th>\n",
              "      <th>TechSupport_Yes</th>\n",
              "      <th>StreamingTV_No</th>\n",
              "      <th>StreamingTV_Yes</th>\n",
              "      <th>StreamingMovies_No</th>\n",
              "      <th>StreamingMovies_Yes</th>\n",
              "      <th>tenure</th>\n",
              "      <th>MonthlyCharges</th>\n",
              "      <th>TotalCharges</th>\n",
              "    </tr>\n",
              "  </thead>\n",
              "  <tbody>\n",
              "    <tr>\n",
              "      <th>7038</th>\n",
              "      <td>6840-RESVB</td>\n",
              "      <td>1</td>\n",
              "      <td>1</td>\n",
              "      <td>0</td>\n",
              "      <td>0</td>\n",
              "      <td>1</td>\n",
              "      <td>1</td>\n",
              "      <td>True</td>\n",
              "      <td>False</td>\n",
              "      <td>False</td>\n",
              "      <td>...</td>\n",
              "      <td>True</td>\n",
              "      <td>False</td>\n",
              "      <td>True</td>\n",
              "      <td>False</td>\n",
              "      <td>True</td>\n",
              "      <td>False</td>\n",
              "      <td>True</td>\n",
              "      <td>-0.343113</td>\n",
              "      <td>0.664821</td>\n",
              "      <td>-0.129171</td>\n",
              "    </tr>\n",
              "    <tr>\n",
              "      <th>7039</th>\n",
              "      <td>2234-XADUH</td>\n",
              "      <td>1</td>\n",
              "      <td>1</td>\n",
              "      <td>0</td>\n",
              "      <td>0</td>\n",
              "      <td>1</td>\n",
              "      <td>1</td>\n",
              "      <td>True</td>\n",
              "      <td>False</td>\n",
              "      <td>True</td>\n",
              "      <td>...</td>\n",
              "      <td>True</td>\n",
              "      <td>True</td>\n",
              "      <td>False</td>\n",
              "      <td>False</td>\n",
              "      <td>True</td>\n",
              "      <td>False</td>\n",
              "      <td>True</td>\n",
              "      <td>1.612459</td>\n",
              "      <td>1.276402</td>\n",
              "      <td>2.240896</td>\n",
              "    </tr>\n",
              "    <tr>\n",
              "      <th>7040</th>\n",
              "      <td>4801-JZAZL</td>\n",
              "      <td>0</td>\n",
              "      <td>1</td>\n",
              "      <td>0</td>\n",
              "      <td>0</td>\n",
              "      <td>1</td>\n",
              "      <td>1</td>\n",
              "      <td>False</td>\n",
              "      <td>False</td>\n",
              "      <td>False</td>\n",
              "      <td>...</td>\n",
              "      <td>False</td>\n",
              "      <td>True</td>\n",
              "      <td>False</td>\n",
              "      <td>True</td>\n",
              "      <td>False</td>\n",
              "      <td>True</td>\n",
              "      <td>False</td>\n",
              "      <td>-0.872746</td>\n",
              "      <td>-1.169921</td>\n",
              "      <td>-0.854453</td>\n",
              "    </tr>\n",
              "    <tr>\n",
              "      <th>7041</th>\n",
              "      <td>8361-LTMKD</td>\n",
              "      <td>1</td>\n",
              "      <td>1</td>\n",
              "      <td>1</td>\n",
              "      <td>1</td>\n",
              "      <td>1</td>\n",
              "      <td>0</td>\n",
              "      <td>False</td>\n",
              "      <td>False</td>\n",
              "      <td>False</td>\n",
              "      <td>...</td>\n",
              "      <td>False</td>\n",
              "      <td>True</td>\n",
              "      <td>False</td>\n",
              "      <td>True</td>\n",
              "      <td>False</td>\n",
              "      <td>True</td>\n",
              "      <td>False</td>\n",
              "      <td>-1.157934</td>\n",
              "      <td>0.319145</td>\n",
              "      <td>-0.872033</td>\n",
              "    </tr>\n",
              "    <tr>\n",
              "      <th>7042</th>\n",
              "      <td>3186-AJIEK</td>\n",
              "      <td>1</td>\n",
              "      <td>1</td>\n",
              "      <td>0</td>\n",
              "      <td>0</td>\n",
              "      <td>0</td>\n",
              "      <td>0</td>\n",
              "      <td>False</td>\n",
              "      <td>True</td>\n",
              "      <td>False</td>\n",
              "      <td>...</td>\n",
              "      <td>True</td>\n",
              "      <td>False</td>\n",
              "      <td>True</td>\n",
              "      <td>False</td>\n",
              "      <td>True</td>\n",
              "      <td>False</td>\n",
              "      <td>True</td>\n",
              "      <td>1.368012</td>\n",
              "      <td>1.357835</td>\n",
              "      <td>2.012201</td>\n",
              "    </tr>\n",
              "  </tbody>\n",
              "</table>\n",
              "<p>5 rows × 74 columns</p>\n",
              "</div>\n",
              "    <div class=\"colab-df-buttons\">\n",
              "\n",
              "  <div class=\"colab-df-container\">\n",
              "    <button class=\"colab-df-convert\" onclick=\"convertToInteractive('df-74be03e4-673b-4400-803e-2801469a7e60')\"\n",
              "            title=\"Convert this dataframe to an interactive table.\"\n",
              "            style=\"display:none;\">\n",
              "\n",
              "  <svg xmlns=\"http://www.w3.org/2000/svg\" height=\"24px\" viewBox=\"0 -960 960 960\">\n",
              "    <path d=\"M120-120v-720h720v720H120Zm60-500h600v-160H180v160Zm220 220h160v-160H400v160Zm0 220h160v-160H400v160ZM180-400h160v-160H180v160Zm440 0h160v-160H620v160ZM180-180h160v-160H180v160Zm440 0h160v-160H620v160Z\"/>\n",
              "  </svg>\n",
              "    </button>\n",
              "\n",
              "  <style>\n",
              "    .colab-df-container {\n",
              "      display:flex;\n",
              "      gap: 12px;\n",
              "    }\n",
              "\n",
              "    .colab-df-convert {\n",
              "      background-color: #E8F0FE;\n",
              "      border: none;\n",
              "      border-radius: 50%;\n",
              "      cursor: pointer;\n",
              "      display: none;\n",
              "      fill: #1967D2;\n",
              "      height: 32px;\n",
              "      padding: 0 0 0 0;\n",
              "      width: 32px;\n",
              "    }\n",
              "\n",
              "    .colab-df-convert:hover {\n",
              "      background-color: #E2EBFA;\n",
              "      box-shadow: 0px 1px 2px rgba(60, 64, 67, 0.3), 0px 1px 3px 1px rgba(60, 64, 67, 0.15);\n",
              "      fill: #174EA6;\n",
              "    }\n",
              "\n",
              "    .colab-df-buttons div {\n",
              "      margin-bottom: 4px;\n",
              "    }\n",
              "\n",
              "    [theme=dark] .colab-df-convert {\n",
              "      background-color: #3B4455;\n",
              "      fill: #D2E3FC;\n",
              "    }\n",
              "\n",
              "    [theme=dark] .colab-df-convert:hover {\n",
              "      background-color: #434B5C;\n",
              "      box-shadow: 0px 1px 3px 1px rgba(0, 0, 0, 0.15);\n",
              "      filter: drop-shadow(0px 1px 2px rgba(0, 0, 0, 0.3));\n",
              "      fill: #FFFFFF;\n",
              "    }\n",
              "  </style>\n",
              "\n",
              "    <script>\n",
              "      const buttonEl =\n",
              "        document.querySelector('#df-74be03e4-673b-4400-803e-2801469a7e60 button.colab-df-convert');\n",
              "      buttonEl.style.display =\n",
              "        google.colab.kernel.accessAllowed ? 'block' : 'none';\n",
              "\n",
              "      async function convertToInteractive(key) {\n",
              "        const element = document.querySelector('#df-74be03e4-673b-4400-803e-2801469a7e60');\n",
              "        const dataTable =\n",
              "          await google.colab.kernel.invokeFunction('convertToInteractive',\n",
              "                                                    [key], {});\n",
              "        if (!dataTable) return;\n",
              "\n",
              "        const docLinkHtml = 'Like what you see? Visit the ' +\n",
              "          '<a target=\"_blank\" href=https://colab.research.google.com/notebooks/data_table.ipynb>data table notebook</a>'\n",
              "          + ' to learn more about interactive tables.';\n",
              "        element.innerHTML = '';\n",
              "        dataTable['output_type'] = 'display_data';\n",
              "        await google.colab.output.renderOutput(dataTable, element);\n",
              "        const docLink = document.createElement('div');\n",
              "        docLink.innerHTML = docLinkHtml;\n",
              "        element.appendChild(docLink);\n",
              "      }\n",
              "    </script>\n",
              "  </div>\n",
              "\n",
              "\n",
              "<div id=\"df-08c6522c-11b7-49e2-8808-6bc4871e1008\">\n",
              "  <button class=\"colab-df-quickchart\" onclick=\"quickchart('df-08c6522c-11b7-49e2-8808-6bc4871e1008')\"\n",
              "            title=\"Suggest charts\"\n",
              "            style=\"display:none;\">\n",
              "\n",
              "<svg xmlns=\"http://www.w3.org/2000/svg\" height=\"24px\"viewBox=\"0 0 24 24\"\n",
              "     width=\"24px\">\n",
              "    <g>\n",
              "        <path d=\"M19 3H5c-1.1 0-2 .9-2 2v14c0 1.1.9 2 2 2h14c1.1 0 2-.9 2-2V5c0-1.1-.9-2-2-2zM9 17H7v-7h2v7zm4 0h-2V7h2v10zm4 0h-2v-4h2v4z\"/>\n",
              "    </g>\n",
              "</svg>\n",
              "  </button>\n",
              "\n",
              "<style>\n",
              "  .colab-df-quickchart {\n",
              "      --bg-color: #E8F0FE;\n",
              "      --fill-color: #1967D2;\n",
              "      --hover-bg-color: #E2EBFA;\n",
              "      --hover-fill-color: #174EA6;\n",
              "      --disabled-fill-color: #AAA;\n",
              "      --disabled-bg-color: #DDD;\n",
              "  }\n",
              "\n",
              "  [theme=dark] .colab-df-quickchart {\n",
              "      --bg-color: #3B4455;\n",
              "      --fill-color: #D2E3FC;\n",
              "      --hover-bg-color: #434B5C;\n",
              "      --hover-fill-color: #FFFFFF;\n",
              "      --disabled-bg-color: #3B4455;\n",
              "      --disabled-fill-color: #666;\n",
              "  }\n",
              "\n",
              "  .colab-df-quickchart {\n",
              "    background-color: var(--bg-color);\n",
              "    border: none;\n",
              "    border-radius: 50%;\n",
              "    cursor: pointer;\n",
              "    display: none;\n",
              "    fill: var(--fill-color);\n",
              "    height: 32px;\n",
              "    padding: 0;\n",
              "    width: 32px;\n",
              "  }\n",
              "\n",
              "  .colab-df-quickchart:hover {\n",
              "    background-color: var(--hover-bg-color);\n",
              "    box-shadow: 0 1px 2px rgba(60, 64, 67, 0.3), 0 1px 3px 1px rgba(60, 64, 67, 0.15);\n",
              "    fill: var(--button-hover-fill-color);\n",
              "  }\n",
              "\n",
              "  .colab-df-quickchart-complete:disabled,\n",
              "  .colab-df-quickchart-complete:disabled:hover {\n",
              "    background-color: var(--disabled-bg-color);\n",
              "    fill: var(--disabled-fill-color);\n",
              "    box-shadow: none;\n",
              "  }\n",
              "\n",
              "  .colab-df-spinner {\n",
              "    border: 2px solid var(--fill-color);\n",
              "    border-color: transparent;\n",
              "    border-bottom-color: var(--fill-color);\n",
              "    animation:\n",
              "      spin 1s steps(1) infinite;\n",
              "  }\n",
              "\n",
              "  @keyframes spin {\n",
              "    0% {\n",
              "      border-color: transparent;\n",
              "      border-bottom-color: var(--fill-color);\n",
              "      border-left-color: var(--fill-color);\n",
              "    }\n",
              "    20% {\n",
              "      border-color: transparent;\n",
              "      border-left-color: var(--fill-color);\n",
              "      border-top-color: var(--fill-color);\n",
              "    }\n",
              "    30% {\n",
              "      border-color: transparent;\n",
              "      border-left-color: var(--fill-color);\n",
              "      border-top-color: var(--fill-color);\n",
              "      border-right-color: var(--fill-color);\n",
              "    }\n",
              "    40% {\n",
              "      border-color: transparent;\n",
              "      border-right-color: var(--fill-color);\n",
              "      border-top-color: var(--fill-color);\n",
              "    }\n",
              "    60% {\n",
              "      border-color: transparent;\n",
              "      border-right-color: var(--fill-color);\n",
              "    }\n",
              "    80% {\n",
              "      border-color: transparent;\n",
              "      border-right-color: var(--fill-color);\n",
              "      border-bottom-color: var(--fill-color);\n",
              "    }\n",
              "    90% {\n",
              "      border-color: transparent;\n",
              "      border-bottom-color: var(--fill-color);\n",
              "    }\n",
              "  }\n",
              "</style>\n",
              "\n",
              "  <script>\n",
              "    async function quickchart(key) {\n",
              "      const quickchartButtonEl =\n",
              "        document.querySelector('#' + key + ' button');\n",
              "      quickchartButtonEl.disabled = true;  // To prevent multiple clicks.\n",
              "      quickchartButtonEl.classList.add('colab-df-spinner');\n",
              "      try {\n",
              "        const charts = await google.colab.kernel.invokeFunction(\n",
              "            'suggestCharts', [key], {});\n",
              "      } catch (error) {\n",
              "        console.error('Error during call to suggestCharts:', error);\n",
              "      }\n",
              "      quickchartButtonEl.classList.remove('colab-df-spinner');\n",
              "      quickchartButtonEl.classList.add('colab-df-quickchart-complete');\n",
              "    }\n",
              "    (() => {\n",
              "      let quickchartButtonEl =\n",
              "        document.querySelector('#df-08c6522c-11b7-49e2-8808-6bc4871e1008 button');\n",
              "      quickchartButtonEl.style.display =\n",
              "        google.colab.kernel.accessAllowed ? 'block' : 'none';\n",
              "    })();\n",
              "  </script>\n",
              "</div>\n",
              "\n",
              "    </div>\n",
              "  </div>\n"
            ],
            "application/vnd.google.colaboratory.intrinsic+json": {
              "type": "dataframe"
            }
          },
          "metadata": {},
          "execution_count": 81
        }
      ],
      "source": [
        "# print telecom tail\n",
        "telecom.tail()\n",
        "\n"
      ]
    },
    {
      "cell_type": "markdown",
      "metadata": {
        "id": "gnVBlgxe1H3Z"
      },
      "source": [
        "### **`Checking the Churn Rate`**\n",
        "\n",
        "<p style='text-align: right;'> 2 points</p>\n"
      ]
    },
    {
      "cell_type": "code",
      "execution_count": null,
      "metadata": {
        "id": "22ZbF7uR1H3Z"
      },
      "outputs": [],
      "source": [
        "#caluclating total churn percentage in our master dataframe\n",
        "churn = (sum(telecom['Churn'])/telecom.shape[0])*100\n"
      ]
    },
    {
      "cell_type": "code",
      "execution_count": null,
      "metadata": {
        "id": "_OTIzq7z1H3Z",
        "outputId": "c9f4eb52-52a1-439e-c0ea-cb1f5fbfd3d0",
        "colab": {
          "base_uri": "https://localhost:8080/"
        }
      },
      "outputs": [
        {
          "output_type": "stream",
          "name": "stdout",
          "text": [
            "26.578498293515356\n"
          ]
        }
      ],
      "source": [
        "# print churn\n",
        "print(churn)\n",
        "\n",
        "\n"
      ]
    },
    {
      "cell_type": "markdown",
      "metadata": {
        "id": "pidpQ9eF1H3a"
      },
      "source": [
        "We have almost 27% churn rate"
      ]
    },
    {
      "cell_type": "markdown",
      "metadata": {
        "id": "ygZztFai1H3a"
      },
      "source": [
        "## **`Model Building`**\n",
        "\n",
        "<p style='text-align: right;'> 11 points</p>\n",
        "\n",
        "Let's start by splitting our data into a training set and a test set."
      ]
    },
    {
      "cell_type": "code",
      "execution_count": null,
      "metadata": {
        "id": "HL2Tr-Yq1H3a"
      },
      "outputs": [],
      "source": [
        "# Putting feature variable to X. drop 'customerID' from features as its not informative for our prediction\n",
        "X = telecom.drop(columns=['customerID','Churn'])\n",
        "\n",
        "\n",
        "# Putting response variable to y\n",
        "y = telecom['Churn']\n"
      ]
    },
    {
      "cell_type": "code",
      "execution_count": null,
      "metadata": {
        "id": "GS23q7i61H3b",
        "outputId": "6c6bf5b6-2906-47f8-baf8-84c1bc4165fd",
        "colab": {
          "base_uri": "https://localhost:8080/",
          "height": 241
        }
      },
      "outputs": [
        {
          "output_type": "execute_result",
          "data": {
            "text/plain": [
              "0    0\n",
              "1    0\n",
              "2    1\n",
              "3    0\n",
              "4    1\n",
              "Name: Churn, dtype: int64"
            ],
            "text/html": [
              "<div>\n",
              "<style scoped>\n",
              "    .dataframe tbody tr th:only-of-type {\n",
              "        vertical-align: middle;\n",
              "    }\n",
              "\n",
              "    .dataframe tbody tr th {\n",
              "        vertical-align: top;\n",
              "    }\n",
              "\n",
              "    .dataframe thead th {\n",
              "        text-align: right;\n",
              "    }\n",
              "</style>\n",
              "<table border=\"1\" class=\"dataframe\">\n",
              "  <thead>\n",
              "    <tr style=\"text-align: right;\">\n",
              "      <th></th>\n",
              "      <th>Churn</th>\n",
              "    </tr>\n",
              "  </thead>\n",
              "  <tbody>\n",
              "    <tr>\n",
              "      <th>0</th>\n",
              "      <td>0</td>\n",
              "    </tr>\n",
              "    <tr>\n",
              "      <th>1</th>\n",
              "      <td>0</td>\n",
              "    </tr>\n",
              "    <tr>\n",
              "      <th>2</th>\n",
              "      <td>1</td>\n",
              "    </tr>\n",
              "    <tr>\n",
              "      <th>3</th>\n",
              "      <td>0</td>\n",
              "    </tr>\n",
              "    <tr>\n",
              "      <th>4</th>\n",
              "      <td>1</td>\n",
              "    </tr>\n",
              "  </tbody>\n",
              "</table>\n",
              "</div><br><label><b>dtype:</b> int64</label>"
            ]
          },
          "metadata": {},
          "execution_count": 85
        }
      ],
      "source": [
        "# print y head\n",
        "y.head()\n",
        "\n"
      ]
    },
    {
      "cell_type": "markdown",
      "metadata": {
        "id": "VH8SUUm81H3b"
      },
      "source": [
        "### **`Running Your First Training Model`**"
      ]
    },
    {
      "cell_type": "code",
      "execution_count": null,
      "metadata": {
        "id": "-zp-fMtU1H3b"
      },
      "outputs": [],
      "source": [
        "# import statsmodels api as sm\n",
        "import statsmodels.api as sm\n",
        "\n"
      ]
    },
    {
      "cell_type": "markdown",
      "metadata": {
        "id": "ZWukvXe11H3c"
      },
      "source": [
        "Statsmodels provides a Logit() function for performing logistic regression. The Logit() function accepts y and X as parameters and returns the Logit object. The model is then fitted to the data.\n",
        "\n",
        "Reference:"
      ]
    },
    {
      "cell_type": "markdown",
      "source": [
        "## **`Watch Video 5, 6 : Logistic Regression by Statsmodel(Theory) + Practical`**\n",
        "- File Used: https://drive.google.com/file/d/1bGq_HqmXhQSSf9fuL6Duol7QCRI-xxvs/view?usp=sharing\n",
        "- Dataset: https://www.kaggle.com/datasets/saurabh00007/diabetescsv"
      ],
      "metadata": {
        "id": "1eSB8-FWoE2o"
      }
    },
    {
      "cell_type": "markdown",
      "metadata": {
        "id": "4DV7Il-s1H3c"
      },
      "source": [
        "### **`Splitting Data into Training and Test Sets`**"
      ]
    },
    {
      "cell_type": "code",
      "execution_count": null,
      "metadata": {
        "id": "SWwmspOs1H3c"
      },
      "outputs": [],
      "source": [
        "# import train_test_split module\n",
        "#import numpy as np\n",
        "from statsmodels.formula.api import logit\n",
        "from sklearn.model_selection import train_test_split\n",
        "#from sklearn.linear_model import LogisticRegression\n",
        "#from sklearn import metrics\n",
        "\n"
      ]
    },
    {
      "cell_type": "code",
      "execution_count": null,
      "metadata": {
        "id": "kpA1h2wG1H3c"
      },
      "outputs": [],
      "source": [
        "# adding constant to X\n",
        "X= sm.add_constant(X)\n",
        "# Splitting the data into train and test with train_size=0.7 and random_state=100\n",
        "X_train, X_test, y_train, y_test = train_test_split(X, y, train_size=0.7, test_size=0.3,random_state=100)\n",
        "\n",
        "\n",
        "\n"
      ]
    },
    {
      "cell_type": "code",
      "execution_count": null,
      "metadata": {
        "scrolled": false,
        "id": "QCZCppxA1H3d",
        "outputId": "4ddf2518-0eea-4128-bfd6-0943d9c740e1",
        "colab": {
          "base_uri": "https://localhost:8080/",
          "height": 321
        }
      },
      "outputs": [
        {
          "output_type": "error",
          "ename": "ValueError",
          "evalue": "Pandas data cast to numpy dtype of object. Check input data with np.asarray(data).",
          "traceback": [
            "\u001b[0;31m---------------------------------------------------------------------------\u001b[0m",
            "\u001b[0;31mValueError\u001b[0m                                Traceback (most recent call last)",
            "\u001b[0;32m<ipython-input-97-457dba01bb58>\u001b[0m in \u001b[0;36m<cell line: 0>\u001b[0;34m()\u001b[0m\n\u001b[1;32m      1\u001b[0m \u001b[0;31m# Logistic regression model\u001b[0m\u001b[0;34m\u001b[0m\u001b[0;34m\u001b[0m\u001b[0m\n\u001b[0;32m----> 2\u001b[0;31m \u001b[0mlogm1\u001b[0m \u001b[0;34m=\u001b[0m \u001b[0msm\u001b[0m\u001b[0;34m.\u001b[0m\u001b[0mLogit\u001b[0m\u001b[0;34m(\u001b[0m\u001b[0my_train\u001b[0m\u001b[0;34m,\u001b[0m\u001b[0mX_train\u001b[0m\u001b[0;34m)\u001b[0m\u001b[0;34m\u001b[0m\u001b[0;34m\u001b[0m\u001b[0m\n\u001b[0m\u001b[1;32m      3\u001b[0m \u001b[0mlogm1\u001b[0m\u001b[0;34m.\u001b[0m\u001b[0mfit\u001b[0m\u001b[0;34m(\u001b[0m\u001b[0;34m)\u001b[0m\u001b[0;34m.\u001b[0m\u001b[0msummary\u001b[0m\u001b[0;34m(\u001b[0m\u001b[0;34m)\u001b[0m\u001b[0;34m\u001b[0m\u001b[0;34m\u001b[0m\u001b[0m\n",
            "\u001b[0;32m/usr/local/lib/python3.11/dist-packages/statsmodels/discrete/discrete_model.py\u001b[0m in \u001b[0;36m__init__\u001b[0;34m(self, endog, exog, offset, check_rank, **kwargs)\u001b[0m\n\u001b[1;32m    473\u001b[0m         \u001b[0;31m# unconditional check, requires no extra kwargs added by subclasses\u001b[0m\u001b[0;34m\u001b[0m\u001b[0;34m\u001b[0m\u001b[0m\n\u001b[1;32m    474\u001b[0m         \u001b[0mself\u001b[0m\u001b[0;34m.\u001b[0m\u001b[0m_check_kwargs\u001b[0m\u001b[0;34m(\u001b[0m\u001b[0mkwargs\u001b[0m\u001b[0;34m)\u001b[0m\u001b[0;34m\u001b[0m\u001b[0;34m\u001b[0m\u001b[0m\n\u001b[0;32m--> 475\u001b[0;31m         super().__init__(endog, exog, offset=offset, check_rank=check_rank,\n\u001b[0m\u001b[1;32m    476\u001b[0m                          **kwargs)\n\u001b[1;32m    477\u001b[0m         \u001b[0;32mif\u001b[0m \u001b[0;32mnot\u001b[0m \u001b[0missubclass\u001b[0m\u001b[0;34m(\u001b[0m\u001b[0mself\u001b[0m\u001b[0;34m.\u001b[0m\u001b[0m__class__\u001b[0m\u001b[0;34m,\u001b[0m \u001b[0mMultinomialModel\u001b[0m\u001b[0;34m)\u001b[0m\u001b[0;34m:\u001b[0m\u001b[0;34m\u001b[0m\u001b[0;34m\u001b[0m\u001b[0m\n",
            "\u001b[0;32m/usr/local/lib/python3.11/dist-packages/statsmodels/discrete/discrete_model.py\u001b[0m in \u001b[0;36m__init__\u001b[0;34m(self, endog, exog, check_rank, **kwargs)\u001b[0m\n\u001b[1;32m    183\u001b[0m     \u001b[0;32mdef\u001b[0m \u001b[0m__init__\u001b[0m\u001b[0;34m(\u001b[0m\u001b[0mself\u001b[0m\u001b[0;34m,\u001b[0m \u001b[0mendog\u001b[0m\u001b[0;34m,\u001b[0m \u001b[0mexog\u001b[0m\u001b[0;34m,\u001b[0m \u001b[0mcheck_rank\u001b[0m\u001b[0;34m=\u001b[0m\u001b[0;32mTrue\u001b[0m\u001b[0;34m,\u001b[0m \u001b[0;34m**\u001b[0m\u001b[0mkwargs\u001b[0m\u001b[0;34m)\u001b[0m\u001b[0;34m:\u001b[0m\u001b[0;34m\u001b[0m\u001b[0;34m\u001b[0m\u001b[0m\n\u001b[1;32m    184\u001b[0m         \u001b[0mself\u001b[0m\u001b[0;34m.\u001b[0m\u001b[0m_check_rank\u001b[0m \u001b[0;34m=\u001b[0m \u001b[0mcheck_rank\u001b[0m\u001b[0;34m\u001b[0m\u001b[0;34m\u001b[0m\u001b[0m\n\u001b[0;32m--> 185\u001b[0;31m         \u001b[0msuper\u001b[0m\u001b[0;34m(\u001b[0m\u001b[0;34m)\u001b[0m\u001b[0;34m.\u001b[0m\u001b[0m__init__\u001b[0m\u001b[0;34m(\u001b[0m\u001b[0mendog\u001b[0m\u001b[0;34m,\u001b[0m \u001b[0mexog\u001b[0m\u001b[0;34m,\u001b[0m \u001b[0;34m**\u001b[0m\u001b[0mkwargs\u001b[0m\u001b[0;34m)\u001b[0m\u001b[0;34m\u001b[0m\u001b[0;34m\u001b[0m\u001b[0m\n\u001b[0m\u001b[1;32m    186\u001b[0m         \u001b[0mself\u001b[0m\u001b[0;34m.\u001b[0m\u001b[0mraise_on_perfect_prediction\u001b[0m \u001b[0;34m=\u001b[0m \u001b[0;32mFalse\u001b[0m  \u001b[0;31m# keep for backwards compat\u001b[0m\u001b[0;34m\u001b[0m\u001b[0;34m\u001b[0m\u001b[0m\n\u001b[1;32m    187\u001b[0m         \u001b[0mself\u001b[0m\u001b[0;34m.\u001b[0m\u001b[0mk_extra\u001b[0m \u001b[0;34m=\u001b[0m \u001b[0;36m0\u001b[0m\u001b[0;34m\u001b[0m\u001b[0;34m\u001b[0m\u001b[0m\n",
            "\u001b[0;32m/usr/local/lib/python3.11/dist-packages/statsmodels/base/model.py\u001b[0m in \u001b[0;36m__init__\u001b[0;34m(self, endog, exog, **kwargs)\u001b[0m\n\u001b[1;32m    268\u001b[0m \u001b[0;34m\u001b[0m\u001b[0m\n\u001b[1;32m    269\u001b[0m     \u001b[0;32mdef\u001b[0m \u001b[0m__init__\u001b[0m\u001b[0;34m(\u001b[0m\u001b[0mself\u001b[0m\u001b[0;34m,\u001b[0m \u001b[0mendog\u001b[0m\u001b[0;34m,\u001b[0m \u001b[0mexog\u001b[0m\u001b[0;34m=\u001b[0m\u001b[0;32mNone\u001b[0m\u001b[0;34m,\u001b[0m \u001b[0;34m**\u001b[0m\u001b[0mkwargs\u001b[0m\u001b[0;34m)\u001b[0m\u001b[0;34m:\u001b[0m\u001b[0;34m\u001b[0m\u001b[0;34m\u001b[0m\u001b[0m\n\u001b[0;32m--> 270\u001b[0;31m         \u001b[0msuper\u001b[0m\u001b[0;34m(\u001b[0m\u001b[0;34m)\u001b[0m\u001b[0;34m.\u001b[0m\u001b[0m__init__\u001b[0m\u001b[0;34m(\u001b[0m\u001b[0mendog\u001b[0m\u001b[0;34m,\u001b[0m \u001b[0mexog\u001b[0m\u001b[0;34m,\u001b[0m \u001b[0;34m**\u001b[0m\u001b[0mkwargs\u001b[0m\u001b[0;34m)\u001b[0m\u001b[0;34m\u001b[0m\u001b[0;34m\u001b[0m\u001b[0m\n\u001b[0m\u001b[1;32m    271\u001b[0m         \u001b[0mself\u001b[0m\u001b[0;34m.\u001b[0m\u001b[0minitialize\u001b[0m\u001b[0;34m(\u001b[0m\u001b[0;34m)\u001b[0m\u001b[0;34m\u001b[0m\u001b[0;34m\u001b[0m\u001b[0m\n\u001b[1;32m    272\u001b[0m \u001b[0;34m\u001b[0m\u001b[0m\n",
            "\u001b[0;32m/usr/local/lib/python3.11/dist-packages/statsmodels/base/model.py\u001b[0m in \u001b[0;36m__init__\u001b[0;34m(self, endog, exog, **kwargs)\u001b[0m\n\u001b[1;32m     93\u001b[0m         \u001b[0mmissing\u001b[0m \u001b[0;34m=\u001b[0m \u001b[0mkwargs\u001b[0m\u001b[0;34m.\u001b[0m\u001b[0mpop\u001b[0m\u001b[0;34m(\u001b[0m\u001b[0;34m'missing'\u001b[0m\u001b[0;34m,\u001b[0m \u001b[0;34m'none'\u001b[0m\u001b[0;34m)\u001b[0m\u001b[0;34m\u001b[0m\u001b[0;34m\u001b[0m\u001b[0m\n\u001b[1;32m     94\u001b[0m         \u001b[0mhasconst\u001b[0m \u001b[0;34m=\u001b[0m \u001b[0mkwargs\u001b[0m\u001b[0;34m.\u001b[0m\u001b[0mpop\u001b[0m\u001b[0;34m(\u001b[0m\u001b[0;34m'hasconst'\u001b[0m\u001b[0;34m,\u001b[0m \u001b[0;32mNone\u001b[0m\u001b[0;34m)\u001b[0m\u001b[0;34m\u001b[0m\u001b[0;34m\u001b[0m\u001b[0m\n\u001b[0;32m---> 95\u001b[0;31m         self.data = self._handle_data(endog, exog, missing, hasconst,\n\u001b[0m\u001b[1;32m     96\u001b[0m                                       **kwargs)\n\u001b[1;32m     97\u001b[0m         \u001b[0mself\u001b[0m\u001b[0;34m.\u001b[0m\u001b[0mk_constant\u001b[0m \u001b[0;34m=\u001b[0m \u001b[0mself\u001b[0m\u001b[0;34m.\u001b[0m\u001b[0mdata\u001b[0m\u001b[0;34m.\u001b[0m\u001b[0mk_constant\u001b[0m\u001b[0;34m\u001b[0m\u001b[0;34m\u001b[0m\u001b[0m\n",
            "\u001b[0;32m/usr/local/lib/python3.11/dist-packages/statsmodels/base/model.py\u001b[0m in \u001b[0;36m_handle_data\u001b[0;34m(self, endog, exog, missing, hasconst, **kwargs)\u001b[0m\n\u001b[1;32m    133\u001b[0m \u001b[0;34m\u001b[0m\u001b[0m\n\u001b[1;32m    134\u001b[0m     \u001b[0;32mdef\u001b[0m \u001b[0m_handle_data\u001b[0m\u001b[0;34m(\u001b[0m\u001b[0mself\u001b[0m\u001b[0;34m,\u001b[0m \u001b[0mendog\u001b[0m\u001b[0;34m,\u001b[0m \u001b[0mexog\u001b[0m\u001b[0;34m,\u001b[0m \u001b[0mmissing\u001b[0m\u001b[0;34m,\u001b[0m \u001b[0mhasconst\u001b[0m\u001b[0;34m,\u001b[0m \u001b[0;34m**\u001b[0m\u001b[0mkwargs\u001b[0m\u001b[0;34m)\u001b[0m\u001b[0;34m:\u001b[0m\u001b[0;34m\u001b[0m\u001b[0;34m\u001b[0m\u001b[0m\n\u001b[0;32m--> 135\u001b[0;31m         \u001b[0mdata\u001b[0m \u001b[0;34m=\u001b[0m \u001b[0mhandle_data\u001b[0m\u001b[0;34m(\u001b[0m\u001b[0mendog\u001b[0m\u001b[0;34m,\u001b[0m \u001b[0mexog\u001b[0m\u001b[0;34m,\u001b[0m \u001b[0mmissing\u001b[0m\u001b[0;34m,\u001b[0m \u001b[0mhasconst\u001b[0m\u001b[0;34m,\u001b[0m \u001b[0;34m**\u001b[0m\u001b[0mkwargs\u001b[0m\u001b[0;34m)\u001b[0m\u001b[0;34m\u001b[0m\u001b[0;34m\u001b[0m\u001b[0m\n\u001b[0m\u001b[1;32m    136\u001b[0m         \u001b[0;31m# kwargs arrays could have changed, easier to just attach here\u001b[0m\u001b[0;34m\u001b[0m\u001b[0;34m\u001b[0m\u001b[0m\n\u001b[1;32m    137\u001b[0m         \u001b[0;32mfor\u001b[0m \u001b[0mkey\u001b[0m \u001b[0;32min\u001b[0m \u001b[0mkwargs\u001b[0m\u001b[0;34m:\u001b[0m\u001b[0;34m\u001b[0m\u001b[0;34m\u001b[0m\u001b[0m\n",
            "\u001b[0;32m/usr/local/lib/python3.11/dist-packages/statsmodels/base/data.py\u001b[0m in \u001b[0;36mhandle_data\u001b[0;34m(endog, exog, missing, hasconst, **kwargs)\u001b[0m\n\u001b[1;32m    673\u001b[0m \u001b[0;34m\u001b[0m\u001b[0m\n\u001b[1;32m    674\u001b[0m     \u001b[0mklass\u001b[0m \u001b[0;34m=\u001b[0m \u001b[0mhandle_data_class_factory\u001b[0m\u001b[0;34m(\u001b[0m\u001b[0mendog\u001b[0m\u001b[0;34m,\u001b[0m \u001b[0mexog\u001b[0m\u001b[0;34m)\u001b[0m\u001b[0;34m\u001b[0m\u001b[0;34m\u001b[0m\u001b[0m\n\u001b[0;32m--> 675\u001b[0;31m     return klass(endog, exog=exog, missing=missing, hasconst=hasconst,\n\u001b[0m\u001b[1;32m    676\u001b[0m                  **kwargs)\n",
            "\u001b[0;32m/usr/local/lib/python3.11/dist-packages/statsmodels/base/data.py\u001b[0m in \u001b[0;36m__init__\u001b[0;34m(self, endog, exog, missing, hasconst, **kwargs)\u001b[0m\n\u001b[1;32m     82\u001b[0m             \u001b[0mself\u001b[0m\u001b[0;34m.\u001b[0m\u001b[0morig_endog\u001b[0m \u001b[0;34m=\u001b[0m \u001b[0mendog\u001b[0m\u001b[0;34m\u001b[0m\u001b[0;34m\u001b[0m\u001b[0m\n\u001b[1;32m     83\u001b[0m             \u001b[0mself\u001b[0m\u001b[0;34m.\u001b[0m\u001b[0morig_exog\u001b[0m \u001b[0;34m=\u001b[0m \u001b[0mexog\u001b[0m\u001b[0;34m\u001b[0m\u001b[0;34m\u001b[0m\u001b[0m\n\u001b[0;32m---> 84\u001b[0;31m             \u001b[0mself\u001b[0m\u001b[0;34m.\u001b[0m\u001b[0mendog\u001b[0m\u001b[0;34m,\u001b[0m \u001b[0mself\u001b[0m\u001b[0;34m.\u001b[0m\u001b[0mexog\u001b[0m \u001b[0;34m=\u001b[0m \u001b[0mself\u001b[0m\u001b[0;34m.\u001b[0m\u001b[0m_convert_endog_exog\u001b[0m\u001b[0;34m(\u001b[0m\u001b[0mendog\u001b[0m\u001b[0;34m,\u001b[0m \u001b[0mexog\u001b[0m\u001b[0;34m)\u001b[0m\u001b[0;34m\u001b[0m\u001b[0;34m\u001b[0m\u001b[0m\n\u001b[0m\u001b[1;32m     85\u001b[0m \u001b[0;34m\u001b[0m\u001b[0m\n\u001b[1;32m     86\u001b[0m         \u001b[0mself\u001b[0m\u001b[0;34m.\u001b[0m\u001b[0mconst_idx\u001b[0m \u001b[0;34m=\u001b[0m \u001b[0;32mNone\u001b[0m\u001b[0;34m\u001b[0m\u001b[0;34m\u001b[0m\u001b[0m\n",
            "\u001b[0;32m/usr/local/lib/python3.11/dist-packages/statsmodels/base/data.py\u001b[0m in \u001b[0;36m_convert_endog_exog\u001b[0;34m(self, endog, exog)\u001b[0m\n\u001b[1;32m    507\u001b[0m         \u001b[0mexog\u001b[0m \u001b[0;34m=\u001b[0m \u001b[0mexog\u001b[0m \u001b[0;32mif\u001b[0m \u001b[0mexog\u001b[0m \u001b[0;32mis\u001b[0m \u001b[0;32mNone\u001b[0m \u001b[0;32melse\u001b[0m \u001b[0mnp\u001b[0m\u001b[0;34m.\u001b[0m\u001b[0masarray\u001b[0m\u001b[0;34m(\u001b[0m\u001b[0mexog\u001b[0m\u001b[0;34m)\u001b[0m\u001b[0;34m\u001b[0m\u001b[0;34m\u001b[0m\u001b[0m\n\u001b[1;32m    508\u001b[0m         \u001b[0;32mif\u001b[0m \u001b[0mendog\u001b[0m\u001b[0;34m.\u001b[0m\u001b[0mdtype\u001b[0m \u001b[0;34m==\u001b[0m \u001b[0mobject\u001b[0m \u001b[0;32mor\u001b[0m \u001b[0mexog\u001b[0m \u001b[0;32mis\u001b[0m \u001b[0;32mnot\u001b[0m \u001b[0;32mNone\u001b[0m \u001b[0;32mand\u001b[0m \u001b[0mexog\u001b[0m\u001b[0;34m.\u001b[0m\u001b[0mdtype\u001b[0m \u001b[0;34m==\u001b[0m \u001b[0mobject\u001b[0m\u001b[0;34m:\u001b[0m\u001b[0;34m\u001b[0m\u001b[0;34m\u001b[0m\u001b[0m\n\u001b[0;32m--> 509\u001b[0;31m             raise ValueError(\"Pandas data cast to numpy dtype of object. \"\n\u001b[0m\u001b[1;32m    510\u001b[0m                              \"Check input data with np.asarray(data).\")\n\u001b[1;32m    511\u001b[0m         \u001b[0;32mreturn\u001b[0m \u001b[0msuper\u001b[0m\u001b[0;34m(\u001b[0m\u001b[0;34m)\u001b[0m\u001b[0;34m.\u001b[0m\u001b[0m_convert_endog_exog\u001b[0m\u001b[0;34m(\u001b[0m\u001b[0mendog\u001b[0m\u001b[0;34m,\u001b[0m \u001b[0mexog\u001b[0m\u001b[0;34m)\u001b[0m\u001b[0;34m\u001b[0m\u001b[0;34m\u001b[0m\u001b[0m\n",
            "\u001b[0;31mValueError\u001b[0m: Pandas data cast to numpy dtype of object. Check input data with np.asarray(data)."
          ]
        }
      ],
      "source": [
        "# Logistic regression model\n",
        "logm1 = sm.Logit(y_train,X_train)\n",
        "logm1.fit().summary()"
      ]
    },
    {
      "cell_type": "markdown",
      "metadata": {
        "id": "KT5wCrDt1H3d"
      },
      "source": [
        "Hey buddy, from above you can see that there few statistically insignificant variables present in our dataset. Lets drop them off.\n",
        "\n",
        "Here drop those variables which has less than 70% confidence to reject the null hyposthesis looking into P values.\n",
        "\n",
        "Few insignificant variables we can see from above stats summary are:\n",
        "\n",
        "    partner\n",
        "    Dependents\n",
        "    PaymentMethod_Electronic check\n",
        "    gender_Male\n",
        "    InternetService_No\n",
        "    DeviceProtection_no\n",
        "    DeviceProtection_Yes\n",
        "    \n",
        "So lets drop them off from X\n",
        "\n",
        "Note: We are not dropping const variable as it is required for OLS model building"
      ]
    },
    {
      "cell_type": "code",
      "execution_count": null,
      "metadata": {
        "id": "xj4XnLzp1H3e"
      },
      "outputs": [],
      "source": [
        "x.drop['partner',gender_Male','Dependents','PaymentMethod_Electronic check','InternetService_No','DeviceProtection_no','DeviceProtection_Yes']\n"
      ]
    },
    {
      "cell_type": "markdown",
      "metadata": {
        "id": "30CVw0F71H3f"
      },
      "source": [
        "### **`Correlation Matrix`**\n",
        "\n",
        "<p style='text-align: right;'> 2 points</p>\n"
      ]
    },
    {
      "cell_type": "code",
      "execution_count": null,
      "metadata": {
        "id": "1MHpzxVj1H3f"
      },
      "outputs": [],
      "source": [
        "# Importing matplotlib and seaborn\n",
        "import matplotlib.pyplot as plt\n",
        "import seaborn as sns\n",
        "\n",
        "\n",
        "%matplotlib inline"
      ]
    },
    {
      "cell_type": "code",
      "execution_count": null,
      "metadata": {
        "id": "aD4eP2we1H3f"
      },
      "outputs": [],
      "source": [
        "# Let's see the correlation matrix\n",
        "corr = telecom.corr()\n",
        "\n",
        "       # Size of the figure\n",
        "plt.figure(figsize=(20,10))\n",
        "sns.heatmap(corr, annot=True)\n",
        "\n"
      ]
    },
    {
      "cell_type": "markdown",
      "metadata": {
        "id": "7ZW1asRD1H3g"
      },
      "source": [
        "### **`Dropping highly correlated variables.`**\n",
        "\n",
        "<p style='text-align: right;'> 4 points</p>\n",
        "\n",
        "\n",
        "Check video:\n",
        "## **`Watch Video 7 : Dropping Highly Correlated Variables`**\n"
      ]
    },
    {
      "cell_type": "code",
      "execution_count": null,
      "metadata": {
        "id": "NEIkIpKR1H3g"
      },
      "outputs": [],
      "source": [
        "# Write a correlation function to drop correlleation function to remove highly correlated variables (>70%)\n",
        "def correlation(dataset, threshold):\n",
        "    # Set of all the names of correlated columns\n",
        "    col_corr = set()\n",
        "    # Set of all the names of correlated columns\n",
        "    corr_matrix = dataset.corr()\n",
        "\n",
        "    # apply corr method on dataset\n",
        "    corr_matrix = corr_matrix.abs()\n",
        "\n",
        "    for i in range(len(corr_matrix.columns)):\n",
        "        for j in range(i):\n",
        "\n",
        "            # we are interested in absolute coeff value\n",
        "            if abs(corr_matrix.iloc[i, j]) > threshold:\n",
        "                colname = corr_matrix.columns[i]  # getting the name of column\n",
        "\n",
        "                # adding the correlated column name in set\n",
        "                # getting the name of column\n",
        "                colname =  corr_matrix.columns[i]\n",
        "                col_corr.add(colname)\n",
        "                # add in col_corr\n",
        "\n",
        "\n",
        "    # return col_corr\n",
        "    return col_corr\n"
      ]
    },
    {
      "cell_type": "code",
      "execution_count": null,
      "metadata": {
        "id": "6juWpSar1H3g"
      },
      "outputs": [],
      "source": [
        "# call the function with threshold\n",
        "corr_features = correlation(telecom, 0.7)\n",
        "\n",
        "len(set(corr_features))"
      ]
    },
    {
      "cell_type": "code",
      "execution_count": null,
      "metadata": {
        "id": "FlQRlllq1H3h"
      },
      "outputs": [],
      "source": [
        "# print corr_features\n",
        "print(corr_features)\n",
        "\n",
        "\n"
      ]
    },
    {
      "cell_type": "code",
      "execution_count": null,
      "metadata": {
        "id": "p88T9pA11H3h"
      },
      "outputs": [],
      "source": [
        "# Lets drop the above variables from X\n",
        "X = X.drop(columns=['partner','Dependents','PaymentMethod_Electronic check','gender_Male','InternetService_No','DeviceProtection_no','DeviceProtection_Yes'])\n",
        "\n",
        "\n"
      ]
    },
    {
      "cell_type": "markdown",
      "metadata": {
        "id": "EELjfVXY1H3h"
      },
      "source": [
        "## **`Dropping Variable with high VIF`**\n",
        "\n",
        "<p style='text-align: right;'> 5 points</p>\n",
        "\n",
        "\n",
        "Lets check multicollinearity using Variance inflation factor too!\n",
        "\n",
        "Reference:\n",
        "## **`Watch Video 8 : Variance Inflation Factor`**"
      ]
    },
    {
      "cell_type": "code",
      "execution_count": null,
      "metadata": {
        "id": "GYuOVzWL1H3i"
      },
      "outputs": [],
      "source": [
        "# Import library for VIF\n",
        "from statsmodels.stats.outliers_influence import variance_inflation_factor\n",
        "\n",
        "\n",
        "# empyty dataframe\n",
        "vif = pd.DataFrame()\n",
        "\n",
        "\n",
        "# VIF dataframe\n",
        "vif[\"VIF\"] = [variance_inflation_factor(X.values, i) for i in range(X.shape[1])]\n",
        "\n",
        "#variables names with all variables in column X\n",
        "vif[\"Features\"] = X.columns\n",
        "\n",
        "\n",
        "# Vif scores for corresponding features\n",
        "vif= vif.sort_values(by='VIF',ascending=False)\n",
        "\n"
      ]
    },
    {
      "cell_type": "code",
      "execution_count": null,
      "metadata": {
        "id": "fKlSd2LX1H3i"
      },
      "outputs": [],
      "source": [
        "# print vif\n",
        "virf.sort_values(by='VIF')\n",
        "\n"
      ]
    },
    {
      "cell_type": "markdown",
      "metadata": {
        "id": "6nretj_B1H3j"
      },
      "source": [
        "Lets drop variables which are having infinite vif scores.\n",
        "\n",
        "they are:\n",
        "    \n",
        "    OnlineSecurity_No\n",
        "    OnlineSecurity_Yes\n",
        "    OnlineBackup_No\n",
        "    OnlineBackup_Yes\n",
        "    TechSupport_No\n",
        "    TechSupport_Yes\n",
        "    StreamingTV_No\n",
        "    StreamingTV_Yes\n",
        "    StreamingMovies_No\n",
        "    StreamingMovies_Yes"
      ]
    },
    {
      "cell_type": "code",
      "execution_count": null,
      "metadata": {
        "id": "N6MKx85a1H3j"
      },
      "outputs": [],
      "source": [
        "# Lets drop above variables also from X\n",
        "X = X.drop(columns=['OnlineSecurity_No','OnlineSecurity_Yes','OnlineBackup_No','OnlineBackup_Yes','TechSupport_No','TechSupport_Yes','StreamingTV_No','StreamingTV_Yes','StreamingMovies_No','StreamingMovies_Yes'],1,inplace=true)\n",
        "\n",
        "\n"
      ]
    },
    {
      "cell_type": "markdown",
      "metadata": {
        "id": "eGgUVMtU1H3k"
      },
      "source": [
        "### **`Checking the Correlation Matrix again`**"
      ]
    },
    {
      "cell_type": "markdown",
      "metadata": {
        "id": "Lvq5A2d01H3k"
      },
      "source": [
        "After dropping highly correlated variables now let's check the correlation matrix again."
      ]
    },
    {
      "cell_type": "code",
      "execution_count": null,
      "metadata": {
        "id": "nVxaC9qu1H3k"
      },
      "outputs": [],
      "source": [
        "plt.figure(figsize=(20,10))\n",
        "sns.heatmap(X.corr(), annot=True)\n"
      ]
    },
    {
      "cell_type": "markdown",
      "metadata": {
        "id": "PXHfBp0r1H3l"
      },
      "source": [
        "### **`Re-Running the Model`**\n",
        "\n",
        "<p style='text-align: right;'> 3 points</p>\n"
      ]
    },
    {
      "cell_type": "markdown",
      "metadata": {
        "id": "epPRo8YU1H3l"
      },
      "source": [
        "Now let's run our model again after dropping highly correlated variables"
      ]
    },
    {
      "cell_type": "code",
      "execution_count": null,
      "metadata": {
        "id": "lNXBtlnx1H3l"
      },
      "outputs": [],
      "source": [
        "# Splitting the data into train and test with train_size=0.7 and random_state=100 again\n",
        "X_train, X_test, y_train, y_test =train_test_split(X, y, train_size=0.7, test_size=0.3,random_state=100)\n",
        "\n",
        "# call logit method on sm and pass train data\n",
        "logm2 =sm.logit(y_train,X_train) log2.fit().summary\n",
        "\n",
        "# fit the model\n",
        "logm2.fit().summary()\n",
        "\n",
        "# call fit and summary on logm2\n",
        "\n",
        "\n"
      ]
    },
    {
      "cell_type": "markdown",
      "metadata": {
        "id": "PXpR0xCX1H3l"
      },
      "source": [
        "Now you can see after removing all multicollinear features we got all P values to zero,  so now we can say that all features are statistically significant.\n",
        "\n",
        "### **`Feature Selection Using RFE`**\n",
        "\n",
        "<p style='text-align: right;'> 5 points</p>\n",
        "\n",
        "\n",
        "Lets do feature selection using LogisticRegression with RFE"
      ]
    },
    {
      "cell_type": "code",
      "execution_count": null,
      "metadata": {
        "id": "nWEc0C_61H3m"
      },
      "outputs": [],
      "source": [
        "# import RFE and LogisticRegression\n",
        "from sklearn.linear_model import LogisticRegression\n",
        "from sklearn.feature_selection import RFE\n",
        "\n",
        "\n",
        "\n",
        "\n",
        "# Initiate LogisticRegression()\n",
        "logreg = LogisticRegression()\n",
        "\n",
        "\n",
        " # Initialise RFE\n",
        "rfe = RFE(logreg, 10)\n",
        "\n",
        "\n",
        "# fitting RFE\n",
        "rfe = rfe.fit(X,y)\n",
        "\n",
        "\n",
        "# Printing the boolean results\n",
        "print(rfe.support_)\n",
        "\n",
        "\n",
        "# Printing the ranking\n",
        "print(rfe.ranking_)\n",
        "\n"
      ]
    },
    {
      "cell_type": "code",
      "execution_count": null,
      "metadata": {
        "id": "YChCL62I1H3m"
      },
      "outputs": [],
      "source": [
        "# printing column names which were suppported by RFE\n",
        "col = X.columns[rfe.support_]\n",
        "col\n",
        "\n"
      ]
    },
    {
      "cell_type": "code",
      "execution_count": null,
      "metadata": {
        "id": "eb2WtoHD1H3m"
      },
      "outputs": [],
      "source": [
        "# Variables selected by RFE\n",
        "col = X.columns[rfe.support_]\n"
      ]
    },
    {
      "cell_type": "code",
      "execution_count": null,
      "metadata": {
        "id": "ayk_X8eF1H3n"
      },
      "outputs": [],
      "source": [
        "# Let's run the model using the selected variables but this time we will use Logistic Regression\n",
        "# from sklearn import metrics\n",
        "# import statsmodels.api as sm\n",
        "\n",
        "#initialise Logistic Regression\n",
        "logsk = logistic Regression()\n",
        "\n",
        "\n",
        "#fitting model using above columns as input\n",
        "logsk.fit(X_train[col],y_train)\n",
        "\n",
        "\n",
        "#prediction on test data\n",
        "y_pred = logsk.predict(X_test[col])\n",
        "\n"
      ]
    },
    {
      "cell_type": "code",
      "execution_count": null,
      "metadata": {
        "id": "PMd9onip1H3n"
      },
      "outputs": [],
      "source": [
        "#recreating the model with StatsModels with RFE selecte columns\n",
        "\n",
        "logm3 = sm.logit(y_train,X_train[col])\n",
        "logm3.fit().summary()\n",
        "\n"
      ]
    },
    {
      "cell_type": "markdown",
      "metadata": {
        "id": "1znjQrQV1H3n"
      },
      "source": [
        "### **`Making Predictions`**\n",
        "\n",
        "<p style='text-align: right;'> 14 points</p>\n"
      ]
    },
    {
      "cell_type": "code",
      "execution_count": null,
      "metadata": {
        "id": "jKKiSDOw1H3o"
      },
      "outputs": [],
      "source": [
        "# Predicted probabilities\n",
        "y_pred = logsk.predict_proba(X_test[col])\n"
      ]
    },
    {
      "cell_type": "code",
      "execution_count": null,
      "metadata": {
        "id": "KtpTQ-sk1H3o"
      },
      "outputs": [],
      "source": [
        "# Converting y_pred to a dataframe which is an array\n",
        "y_pred_df = pd.DataFrame(y_pred)\n"
      ]
    },
    {
      "cell_type": "code",
      "execution_count": null,
      "metadata": {
        "id": "zkG_TQp61H3o"
      },
      "outputs": [],
      "source": [
        "# Converting to column dataframe\n",
        "y_pred_1 = y_pred_df.iloc[:,1]\n"
      ]
    },
    {
      "cell_type": "code",
      "execution_count": null,
      "metadata": {
        "id": "_F_059Zu1H3p"
      },
      "outputs": [],
      "source": [
        "# Let's see the head\n",
        "y_pred_1.head()\n",
        "\n"
      ]
    },
    {
      "cell_type": "code",
      "execution_count": null,
      "metadata": {
        "id": "Of_15GfG1H3p"
      },
      "outputs": [],
      "source": [
        "# Converting y_test to dataframe\n",
        "y_test_df = pd.DataFrame(y_test)\n"
      ]
    },
    {
      "cell_type": "code",
      "execution_count": null,
      "metadata": {
        "id": "9h9X1ZbJ1H3p"
      },
      "outputs": [],
      "source": [
        "# Putting CustID to index\n",
        "y_test_df['CustID'] = y_test_df.index\n",
        "\n"
      ]
    },
    {
      "cell_type": "code",
      "execution_count": null,
      "metadata": {
        "id": "TXnsX8A_1H3q"
      },
      "outputs": [],
      "source": [
        "# Removing index for both dataframes to append them side by side\n",
        "y_pred_1.reset_index(drop=True, inplace=True)\n",
        "y_test_df.reset_index(drop=True, inplace=True)\n",
        "\n",
        "\n"
      ]
    },
    {
      "cell_type": "code",
      "execution_count": null,
      "metadata": {
        "id": "u8cxefdw1H3q"
      },
      "outputs": [],
      "source": [
        "# Appending y_test_df and y_pred_1\n",
        "y_pred_final = pd.concat([y_test_df, y_pred_1],axis=1)\n"
      ]
    },
    {
      "cell_type": "code",
      "execution_count": null,
      "metadata": {
        "id": "ZUeXOxa21H3q"
      },
      "outputs": [],
      "source": [
        "# Renaming the column\n",
        "y_pred_final= y_pred_final.rename(columns={ 1 : 'Churn_Prob'})\n"
      ]
    },
    {
      "cell_type": "code",
      "execution_count": null,
      "metadata": {
        "id": "TQ94ksul1H3r"
      },
      "outputs": [],
      "source": [
        "#print y_pred_final\n",
        "y_pred_final.head()\n",
        "\n"
      ]
    },
    {
      "cell_type": "code",
      "execution_count": null,
      "metadata": {
        "id": "_f3enc511H3r"
      },
      "outputs": [],
      "source": [
        "# Rearranging the columns\n",
        "y_pred_final = y_pred_final.reindex(['CustID','Churn','Churn_Prob'], axis=1)\n"
      ]
    },
    {
      "cell_type": "code",
      "execution_count": null,
      "metadata": {
        "id": "YSbg8O-B1H3r"
      },
      "outputs": [],
      "source": [
        "# Let's see the head of y_pred_final\n",
        "y_pred_final.head()\n",
        "\n"
      ]
    },
    {
      "cell_type": "code",
      "execution_count": null,
      "metadata": {
        "id": "HktHyogD1H3s"
      },
      "outputs": [],
      "source": [
        "# Creating new column 'predicted' with 1 if Churn_Prob>0.5 else 0\n",
        "y_pred_final['predicted'] = y_pred_final.Churn_Prob.map(lambda x: 1 if x > 0.5 else 0)\n",
        "\n",
        "# Let's see the head\n",
        "y_pred_final.head()\n",
        "\n"
      ]
    },
    {
      "cell_type": "code",
      "execution_count": null,
      "metadata": {
        "id": "kLiC_mFj1H3s"
      },
      "outputs": [],
      "source": [
        "# Let's see the head\n",
        "y_pred_final.head()\n",
        "\n"
      ]
    },
    {
      "cell_type": "markdown",
      "metadata": {
        "id": "cbDwtvrU1H3s"
      },
      "source": [
        "### **`Model Evaluation`**\n",
        "\n",
        "<p style='text-align: right;'> 11 points</p>\n",
        "\n",
        "\n",
        "Choosing the right metric is very important in any classification problem.\n",
        "To know about various metrics for classification model evaluation refer:\n",
        "\n",
        "\n"
      ]
    },
    {
      "cell_type": "markdown",
      "source": [
        "## **`Watch Video 9 & 10 : Performace Measure for Classification(theory + practical)`**"
      ],
      "metadata": {
        "id": "WhS154bvpLdI"
      }
    },
    {
      "cell_type": "markdown",
      "source": [
        "Lets check Confusion matrix for model evaluation:"
      ],
      "metadata": {
        "id": "22Pi9B5opQ8z"
      }
    },
    {
      "cell_type": "code",
      "execution_count": null,
      "metadata": {
        "id": "lwo8VRBu1H3t"
      },
      "outputs": [],
      "source": [
        "# import metrics\n",
        "from sklearn import metrics\n",
        "\n"
      ]
    },
    {
      "cell_type": "code",
      "execution_count": null,
      "metadata": {
        "id": "z-K9JTfV1H3t"
      },
      "outputs": [],
      "source": [
        "# Lets check what all things python provides us in confusion matrix using help function.\n",
        "help(metrics.confusion_matrix)\n",
        "\n"
      ]
    },
    {
      "cell_type": "code",
      "execution_count": null,
      "metadata": {
        "id": "N2gG2DZp1H3u"
      },
      "outputs": [],
      "source": [
        "# get Confusion matrix\n",
        "confusion = metrics.confusion_matrix(y_test, y_pred_final.predicted)\n",
        "confusion\n"
      ]
    },
    {
      "cell_type": "code",
      "execution_count": null,
      "metadata": {
        "id": "4clwKBRm1H3u"
      },
      "outputs": [],
      "source": [
        "# meaning of above confusion matrix is\n",
        "\n",
        "# Predicted     not_churn    churn\n",
        "# Actual\n",
        "# not_churn        1363      165\n",
        "# churn            273       309"
      ]
    },
    {
      "cell_type": "code",
      "execution_count": null,
      "metadata": {
        "id": "CCLpWh1N1H3u"
      },
      "outputs": [],
      "source": [
        "#Let's check the overall accuracy.\n",
        "metrics.accuracy_score(y_test, y_pred_final.predicted)\n",
        "\n"
      ]
    },
    {
      "cell_type": "code",
      "execution_count": null,
      "metadata": {
        "id": "zSNRqJHr1H3v"
      },
      "outputs": [],
      "source": [
        "# Lets check true positive ,true negatives,false positives and false negatives\n",
        "\n",
        "TP = confusion[1,1]              # true positive\n",
        "TN = confusion[0,0]               # true negatives\n",
        "FP = confusion[0,1]              # false positives\n",
        "FN = confusion[1,0]               # false negatives"
      ]
    },
    {
      "cell_type": "code",
      "execution_count": null,
      "metadata": {
        "id": "PtHGFHO51H3v"
      },
      "outputs": [],
      "source": [
        "# Let's see the sensitivity of our logistic regression model\n",
        "TP / float(TP+FN)\n",
        "\n"
      ]
    },
    {
      "cell_type": "code",
      "execution_count": null,
      "metadata": {
        "id": "ahBYnwy21H3v"
      },
      "outputs": [],
      "source": [
        "# Let us calculate specificity\n",
        "TN / float(TN+FP)\n",
        "\n"
      ]
    },
    {
      "cell_type": "code",
      "execution_count": null,
      "metadata": {
        "id": "8yUiu9wD1H3w"
      },
      "outputs": [],
      "source": [
        "# Calculate false postive rate - predicting churn when customer does not have churned\n",
        "print(FP/ float(TN+FP))\n",
        "\n"
      ]
    },
    {
      "cell_type": "code",
      "execution_count": null,
      "metadata": {
        "id": "JQ1y9gL01H3w"
      },
      "outputs": [],
      "source": [
        "# positive predictive value\n",
        "print(TP / float(TP+FP))\n",
        "\n"
      ]
    },
    {
      "cell_type": "code",
      "execution_count": null,
      "metadata": {
        "id": "RjTXKBX41H3w"
      },
      "outputs": [],
      "source": [
        "# Negative predictive value\n",
        "print(TN / float(TN+ FN))\n",
        "\n"
      ]
    },
    {
      "cell_type": "markdown",
      "metadata": {
        "id": "4skjd4J41H3x"
      },
      "source": [
        "You can also use classification_report to get precision, recall, f1-score, support"
      ]
    },
    {
      "cell_type": "code",
      "execution_count": null,
      "metadata": {
        "id": "TDyES9EK1H3x"
      },
      "outputs": [],
      "source": [
        "#  import classification_report\n",
        "from sklearn.metrics import classification_report\n",
        "\n",
        "# print classification_report\n",
        "print(classification_report(y_test, y_pred_final.predicted))\n",
        "\n"
      ]
    },
    {
      "cell_type": "markdown",
      "metadata": {
        "collapsed": true,
        "id": "G18zerc_1H3x"
      },
      "source": [
        "### **`ROC Curve`**\n",
        "\n",
        "<p style='text-align: right;'> 1 points</p>\n"
      ]
    },
    {
      "cell_type": "markdown",
      "metadata": {
        "collapsed": true,
        "id": "XpkqfuTj1H3y"
      },
      "source": [
        "An ROC curve demonstrates several things:\n",
        "\n",
        "- It shows the tradeoff between sensitivity and specificity (any increase in sensitivity will be accompanied by a decrease in specificity).\n",
        "- The closer the curve follows the left-hand border and then the top border of the ROC space, the more accurate the test.\n",
        "- The closer the curve comes to the 45-degree diagonal of the ROC space, the less accurate the test."
      ]
    },
    {
      "cell_type": "markdown",
      "source": [
        "## **`Watch Video 11 : ROC-AUC`**"
      ],
      "metadata": {
        "id": "WOfCawUQqoqH"
      }
    },
    {
      "cell_type": "code",
      "execution_count": null,
      "metadata": {
        "id": "V0NtSBGq1H3y"
      },
      "outputs": [],
      "source": [
        "# Here we have given you a function to plot ROC curve\n",
        "\n",
        "def draw_roc( actual, probs ):\n",
        "    fpr, tpr, thresholds = metrics.roc_curve( actual, probs,\n",
        "                                              drop_intermediate = False )\n",
        "    auc_score = metrics.roc_auc_score( actual, probs )\n",
        "    plt.figure(figsize=(6, 4))\n",
        "    plt.plot( fpr, tpr, label='ROC curve (area = %0.2f)' % auc_score )\n",
        "    plt.plot([0, 1], [0, 1], 'k--')\n",
        "    plt.xlim([0.0, 1.0])\n",
        "    plt.ylim([0.0, 1.05])\n",
        "    plt.xlabel('False Positive Rate or [1 - True Negative Rate]')\n",
        "    plt.ylabel('True Positive Rate')\n",
        "    plt.title('Receiver operating characteristic example')\n",
        "    plt.legend(loc=\"lower right\")\n",
        "    plt.show()\n",
        "\n",
        "    return fpr, tpr, thresholds"
      ]
    },
    {
      "cell_type": "code",
      "execution_count": null,
      "metadata": {
        "id": "aqnNBU601H3z"
      },
      "outputs": [],
      "source": [
        "# Use above function to plot ROC curve\n",
        "fpr, tpr, thresholds = draw_roc(y_test, y_pred_final.Churn_Prob)\n",
        "\n"
      ]
    },
    {
      "cell_type": "markdown",
      "metadata": {
        "id": "JArvbRkt1H3z"
      },
      "source": [
        "### **`Finding Optimal Cutoff Point`**\n",
        "\n",
        "<p style='text-align: right;'> 6 points</p>\n"
      ]
    },
    {
      "cell_type": "markdown",
      "metadata": {
        "id": "gfX_KYdc1H3z"
      },
      "source": [
        "Optimal cutoff probability is that probability where we get balanced sensitivity and specificity"
      ]
    },
    {
      "cell_type": "code",
      "execution_count": null,
      "metadata": {
        "id": "j12ZEeuy1H3z"
      },
      "outputs": [],
      "source": [
        "# Let's create columns with different probability cutoffs\n",
        "\n",
        "numbers = [float(x)/10 for x in range(10)]\n",
        "\n",
        "# loop numbers and append churn probability to y_pred_final for different prob cutoff\n",
        "for i in numbers:\n",
        "    y_pred_final[i]= y_pred_final.Churn_Prob.map(lambda x: 1 if x > i else 0)\n",
        "\n",
        "\n",
        "# print  y_pred_final head\n",
        "y_pred_final.head()\n",
        "\n"
      ]
    },
    {
      "cell_type": "markdown",
      "metadata": {
        "id": "zj_SRqh-1H30"
      },
      "source": [
        "Now let's calculate accuracy sensitivity and specificity for various probability cutoffs.\n"
      ]
    },
    {
      "cell_type": "code",
      "execution_count": null,
      "metadata": {
        "id": "Y7AOLAhU1H34"
      },
      "outputs": [],
      "source": [
        "# Create an empty dataframe with columns 'prob','accuracy','sensi' and 'speci'\n",
        "cutoff_df = pd.DataFrame(columns=['prob','accuracy','sensi','speci'])\n",
        "\n",
        "num = [0.0,0.1,0.2,0.3,0.4,0.5,0.6,0.7,0.8,0.9]\n",
        "\n",
        "#iterate through num\n",
        "for i in num:\n",
        "    #calculate confusion metrics\n",
        "    cm1 = metrics.confusion_matrix(y_test, y_pred_final.predicted)\n",
        "\n",
        "    #total in cm1\n",
        "    total1= sum(sum(cm1))\n",
        "\n",
        "    #  accuracy\n",
        "    accuracy = (cm1[0,0]+cm1[1,1])/total1\n",
        "\n",
        "    #Calculate accuracy\n",
        "    accuracy = (cm1[0,0]+cm1[1,1])/total1\n",
        "\n",
        "    #calculate specificity\n",
        "    speci = cm1[1,1]/(cm1[1,0]+cm1[1,1])\n",
        "\n",
        "    #calculate sensitivity\n",
        "    sensi = cm1[0,0]/(cm1[0,1]+cm1[0,0])\n",
        "\n",
        "    #append prob,accuracy,sensi and speci to cutoff_df\n",
        "\n",
        "    #append rows in cutoff_df with cutoff values, accuracy, sensitivity and specificity\n",
        "    cutoff_df.loc[i] = [i,accuracy,sensi,speci]\n",
        "\n",
        "# print cutoff_df\n",
        "print(cutoff_df)\n",
        "\n"
      ]
    },
    {
      "cell_type": "code",
      "execution_count": null,
      "metadata": {
        "id": "3chWtzbs1H34"
      },
      "outputs": [],
      "source": [
        "# Let's plot accuracy sensitivity and specificity for various probabilities.\n",
        "cutoff_df.plot.line(x='prob', y=['accuracy','sensi','speci'])\n",
        "\n"
      ]
    },
    {
      "cell_type": "markdown",
      "metadata": {
        "id": "RjIQ3J271H35"
      },
      "source": [
        "### **`From the curve above, 0.3 is the optimum point to take it as a cutoff probability.`**\n",
        "\n",
        "<p style='text-align: right;'> 4 points</p>\n"
      ]
    },
    {
      "cell_type": "code",
      "execution_count": null,
      "metadata": {
        "id": "zELSnMG91H35"
      },
      "outputs": [],
      "source": [
        "# Now lets get another column with final_predicted which has 0.3 cutoff probability\n",
        "y_pred_final['final_predicted'] = y_pred_final.Churn_Prob.map(lambda x: 1 if x > 0.3 else 0)\n",
        "\n",
        "\n"
      ]
    },
    {
      "cell_type": "code",
      "execution_count": null,
      "metadata": {
        "id": "KrIDIUxe1H36"
      },
      "outputs": [],
      "source": [
        "y_pred_final.head()\n"
      ]
    },
    {
      "cell_type": "code",
      "execution_count": null,
      "metadata": {
        "id": "afE_KklT1H36"
      },
      "outputs": [],
      "source": [
        "#Let's check the overall accuracy now again\n",
        "metrics.accuracy_score(y_test, y_pred_final.final_predicted)\n",
        "\n"
      ]
    },
    {
      "cell_type": "code",
      "execution_count": null,
      "metadata": {
        "id": "PtH9OUDJ1H36"
      },
      "outputs": [],
      "source": [
        "y_pred_final_churn , y_pred_final[y_pred_final.final_predicted]\n"
      ]
    },
    {
      "cell_type": "markdown",
      "metadata": {
        "id": "9tlv8EQT1H37"
      },
      "source": [
        "Though this approach of finding best cutoff probability is perfectly fine, but as you can see our error got increased when cutoff is 0.3.\n",
        "\n",
        "\n",
        "The reason may be the features which we used to predict. We need go back and check them again. Else we can even try out different classification problems.\n",
        "\n",
        "\n",
        "Lets try using all the features available before doing RFE. i.e consider all features in X\n",
        "\n",
        "\n"
      ]
    },
    {
      "cell_type": "code",
      "execution_count": null,
      "metadata": {
        "id": "yDT0XAzt1H38"
      },
      "outputs": [],
      "source": [
        "# Splitting the data into train and test with train_size=0.7 and random_state=100 again\n",
        "\n",
        "X_train, X_test, y_train, y_test = train_test_split(X, y, train_size=0.7, test_size=0.3,random_state=100)\n",
        "\n"
      ]
    },
    {
      "cell_type": "code",
      "execution_count": null,
      "metadata": {
        "id": "dV7RcYtl1H38"
      },
      "outputs": [],
      "source": [
        "#initialise Logistic Regression\n",
        "logs2 = LogisticRegression()\n",
        "\n",
        "\n",
        "#fitting model using above columns as input\n",
        "logs2.fit(X_train,y_train)\n",
        "\n",
        "\n",
        "#prediction on test data\n",
        "y_pred = logs2.predict(X_test)\n",
        "\n",
        "\n",
        "\n",
        "#prediction on test data\n",
        "y_pred = logs2.predict(X_test)\n",
        "\n"
      ]
    },
    {
      "cell_type": "code",
      "execution_count": null,
      "metadata": {
        "id": "kV9n1bDu1H39"
      },
      "outputs": [],
      "source": [
        "# print classification_report\n",
        "print(classification_report(y_test, y_pred))\n",
        "\n",
        "\n"
      ]
    },
    {
      "cell_type": "code",
      "execution_count": null,
      "metadata": {
        "id": "bLDMwQGI1H39"
      },
      "outputs": [],
      "source": [
        "#print confusion metrix\n",
        "print(confusion)\n",
        "\n"
      ]
    },
    {
      "cell_type": "markdown",
      "metadata": {
        "id": "Dfmi_XfZ1H3-"
      },
      "source": [
        "So from above result we can see that our results are improved slightly after using all the features in X"
      ]
    },
    {
      "cell_type": "markdown",
      "metadata": {
        "id": "HBpKIZTI1H3_"
      },
      "source": [
        "## **`Summary`**\n",
        "\n",
        "1. Logistic Regression is a Machine Learning classification algorithm that is used to predict the probability of a categorical dependent variable.\n",
        "2. In logistic regression, the dependent variable is a binary variable that contains data coded as 1 (yes, success, etc.) or 0 (no, failure, etc.)\n",
        "\n",
        "\n",
        "\n",
        "\n",
        "\n",
        "\n",
        "\n",
        "\n",
        "\n",
        "\n",
        "\n",
        "\n",
        "\n",
        "\n",
        "\n",
        "\n",
        "\n",
        "So in this assignment you learned when to use and how to use logistic regression and what all important metrics we can look for.\n",
        "\n",
        "Well done buddy. So far so good.!\n",
        "\n",
        "------------------------------\n",
        "\n",
        "# Oh yeah! Congratulations you have made your first classification alogorithm! Very well done.\n",
        "\n",
        "-------------------------------------\n",
        "\n",
        "# Its Feedback Time!\n",
        "\n",
        "We hope you’ve enjoyed this course so far. We’re committed to help you use \"AI for All\" course to its full potential, so that you have a great learning experience. And that’s why we need your help in form of a feedback here.\n",
        "\n",
        "**Please fill this feedback form**\n",
        " https://zfrmz.in/MtRG5oWXBdesm6rmSM7N"
      ]
    },
    {
      "cell_type": "markdown",
      "metadata": {
        "id": "joJ4wU1u1H4A"
      },
      "source": [
        "_______________________________"
      ]
    }
  ],
  "metadata": {
    "kernelspec": {
      "display_name": "Python 3",
      "language": "python",
      "name": "python3"
    },
    "language_info": {
      "codemirror_mode": {
        "name": "ipython",
        "version": 3
      },
      "file_extension": ".py",
      "mimetype": "text/x-python",
      "name": "python",
      "nbconvert_exporter": "python",
      "pygments_lexer": "ipython3",
      "version": "3.8.5"
    },
    "colab": {
      "provenance": [],
      "include_colab_link": true
    }
  },
  "nbformat": 4,
  "nbformat_minor": 0
}