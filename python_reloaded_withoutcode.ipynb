{
  "metadata": {
    "kernelspec": {
      "language": "python",
      "display_name": "Python 3",
      "name": "python3"
    },
    "language_info": {
      "name": "python",
      "version": "3.7.12",
      "mimetype": "text/x-python",
      "codemirror_mode": {
        "name": "ipython",
        "version": 3
      },
      "pygments_lexer": "ipython3",
      "nbconvert_exporter": "python",
      "file_extension": ".py"
    },
    "colab": {
      "provenance": [],
      "collapsed_sections": [
        "slh282AprP4M",
        "W-7tOm5CrP4P",
        "7Mo7XNVNrP4W",
        "_jF5-7_PrP4e",
        "fI6TbJ9IrP4e",
        "kPw6N8X_rP45"
      ],
      "include_colab_link": true
    }
  },
  "nbformat_minor": 0,
  "nbformat": 4,
  "cells": [
    {
      "cell_type": "markdown",
      "metadata": {
        "id": "view-in-github",
        "colab_type": "text"
      },
      "source": [
        "<a href=\"https://colab.research.google.com/github/Rajat504/CLOUDYML/blob/main/python_reloaded_withoutcode.ipynb\" target=\"_parent\"><img src=\"https://colab.research.google.com/assets/colab-badge.svg\" alt=\"Open In Colab\"/></a>"
      ]
    },
    {
      "cell_type": "markdown",
      "source": [
        "\n",
        "<center> <h1 style=\"background-color:orange; color:white\"><br>Python Python Everywhere<br></h1></center>"
      ],
      "metadata": {
        "id": "31TVqzSyrP3-"
      }
    },
    {
      "cell_type": "markdown",
      "source": [
        "# `What you can do with Python?`\n",
        "<h1>fields where you can use Python with Libraries & Frameworks</h1>\n",
        "\n",
        "|OpenCV| Web Scrapping | Machine Learning | Automation Testing | Web Development | Game Devlopment |\n",
        "| --- | --- | --- | --- | --- | --- |\n",
        "|* Sciki-image |* Selenium |* Pandas |* PyUnit |* Flask |* Pand3d\n",
        "|* OpenCV |* Beautiful Soup|* Numpy |* PyTest |* Django |* Arcade\n",
        "|* Pillow |* Requests|* Matplotlib |* Behave |* Web2Py |* PyGlet\n",
        "|* Mahotas |* Lxml|* Seaborn |* Robot |* Cheerypy |* PyOpenGl\n",
        "|* SimpleITK|* Scrapy |* Scikit-learn |* Splinter |* Bottle|* PyGame\n",
        "|*** |*** |* Scipy |*** |* Pyramid |***\n",
        "|*** |*** |* Keras |*** |* CubicWeb |***\n",
        "|*** |*** |* TensorFlow |*** |* Dash |***\n",
        "|*** |*** |* PyTorch |*** |* Falcon |***\n",
        "|*** |*** |* Theano |*** |* TurboGears |***\n",
        "\n",
        "\n"
      ],
      "metadata": {
        "id": "Bc3xJTPCrP4C"
      }
    },
    {
      "cell_type": "markdown",
      "source": [
        "📌 In above table you can see fields like `OpenCV`, `Web Scrapping`, **`Machine Learning`**, `Automation Testing`, `Web Development`, `Game Development`, these are the all field where you can use Python. <br>\n",
        "Yes application of Python are huge and wide <br>\n"
      ],
      "metadata": {
        "id": "kcBChyR-rP4D"
      }
    },
    {
      "cell_type": "markdown",
      "source": [
        "<center><h5 style=\"background-color:orange;\"><br>Important Libraries for ML and Data Science<br></h5></center>"
      ],
      "metadata": {
        "id": "L2OHN1WrrP4D"
      }
    },
    {
      "cell_type": "markdown",
      "source": [
        "📌 These are the must know libraryies\n",
        "* **`Numpy`** - Efficient n-dimensional arrays, Linear Algebra, Random Number capabilities\n",
        "* **`Scipy`** - Scientifiv computing tools like Calculus, Signal Processing\n",
        "* **`Pandas`** - Data Reading(multiple formats), manipulation and Cleaning in python\n",
        "* **`Seaborn`** - Built on top of Matplotlib, provides a high-level interface for drawing attractive and informative charts\n",
        "* **`Matplotlib`** - Fundamental library for Data Visualization\n",
        "* **`StatsModel`** - Statistical models, Statical tests, Statical data exploration\n",
        "* **`Scikit-learn`** - Basic Data Preprocessing, Machine Learning Library"
      ],
      "metadata": {
        "id": "bwA3tk3PrP4E"
      }
    },
    {
      "cell_type": "markdown",
      "source": [
        "### **`NOTE: REVISE Previous Python Videos And Watch Videos in The Portal Whenever Suggested in The Assignment`**"
      ],
      "metadata": {
        "id": "eOIX7LfVNVZn"
      }
    },
    {
      "cell_type": "markdown",
      "source": [
        "<a id='1'></a><center> <h3 style=\"background-color:orange; color:white\" ><br>Hi, there<br></h3>"
      ],
      "metadata": {
        "id": "yVE7L7dorP4H"
      }
    },
    {
      "cell_type": "code",
      "execution_count": 1,
      "source": [
        "# What is your name! Want to print your name!\n",
        "print(\"My name is Mukesh\")\n",
        "\n"
      ],
      "outputs": [
        {
          "output_type": "stream",
          "name": "stdout",
          "text": [
            "My name is Mukesh\n"
          ]
        }
      ],
      "metadata": {
        "execution": {
          "iopub.status.busy": "2021-12-13T05:20:57.005028Z",
          "iopub.execute_input": "2021-12-13T05:20:57.005459Z",
          "iopub.status.idle": "2021-12-13T05:20:57.039904Z",
          "shell.execute_reply.started": "2021-12-13T05:20:57.005334Z",
          "shell.execute_reply": "2021-12-13T05:20:57.038882Z"
        },
        "trusted": true,
        "colab": {
          "base_uri": "https://localhost:8080/"
        },
        "id": "kOtDhbwWrP4I",
        "outputId": "4ad9459a-1e8a-47f2-f773-300414383544"
      }
    },
    {
      "cell_type": "markdown",
      "source": [
        "* `()` <= `Parentheses`\n",
        "* `''` <= `Single Quotes`\n",
        "* `\"\"` <= `Double Quotes`\n",
        "* `\\n` <= `New_line `\n",
        "* `#` <= `Used to comment inside code`"
      ],
      "metadata": {
        "id": "kJxHTHrVrP4I"
      }
    },
    {
      "cell_type": "code",
      "source": [],
      "metadata": {
        "id": "aVdj7-Tlh6Al"
      },
      "execution_count": 1,
      "outputs": []
    },
    {
      "cell_type": "code",
      "execution_count": 2,
      "source": [
        "# Only use one print function\n",
        "# \\n <= it will break current line\n",
        "print(\"Hi [Mukesh Marnal\",'Welcome...')\n",
        "print(\"Hi [Mukesh Marnal]\",'welcome...')\n",
        "\n",
        "\n"
      ],
      "outputs": [
        {
          "output_type": "stream",
          "name": "stdout",
          "text": [
            "Hi [Mukesh Marnal Welcome...\n",
            "Hi [Mukesh Marnal] welcome...\n"
          ]
        }
      ],
      "metadata": {
        "execution": {
          "iopub.status.busy": "2021-12-13T05:35:13.151084Z",
          "iopub.execute_input": "2021-12-13T05:35:13.151658Z",
          "iopub.status.idle": "2021-12-13T05:35:13.156858Z",
          "shell.execute_reply.started": "2021-12-13T05:35:13.151622Z",
          "shell.execute_reply": "2021-12-13T05:35:13.155917Z"
        },
        "trusted": true,
        "colab": {
          "base_uri": "https://localhost:8080/"
        },
        "id": "zzmSYJDLrP4I",
        "outputId": "0cfb2c20-79eb-4784-c298-bc899979c590"
      }
    },
    {
      "cell_type": "markdown",
      "source": [
        "<a id='2'></a><center> <h3 style=\"background-color:orange; color:white\" ><br>Variables<br></h3>"
      ],
      "metadata": {
        "id": "W23eDrScrP4I"
      }
    },
    {
      "cell_type": "code",
      "execution_count": 3,
      "source": [
        "# define variables named as with values: mukesh 7, z 6, rohan 5, longitude 4,\n",
        "mukesh = 7\n",
        "z = 6\n",
        "rohan = 5\n",
        "longitude = 4\n",
        "\n"
      ],
      "outputs": [],
      "metadata": {
        "execution": {
          "iopub.status.busy": "2021-12-13T05:40:01.12116Z",
          "iopub.execute_input": "2021-12-13T05:40:01.121499Z",
          "iopub.status.idle": "2021-12-13T05:40:01.126402Z",
          "shell.execute_reply.started": "2021-12-13T05:40:01.121464Z",
          "shell.execute_reply": "2021-12-13T05:40:01.125708Z"
        },
        "trusted": true,
        "id": "hqiWhz6srP4K"
      }
    },
    {
      "cell_type": "code",
      "execution_count": 4,
      "source": [
        "# print required variable\n",
        "print(longitude)\n"
      ],
      "outputs": [
        {
          "output_type": "stream",
          "name": "stdout",
          "text": [
            "4\n"
          ]
        }
      ],
      "metadata": {
        "execution": {
          "iopub.status.busy": "2021-12-13T05:40:18.615837Z",
          "iopub.execute_input": "2021-12-13T05:40:18.616711Z",
          "iopub.status.idle": "2021-12-13T05:40:18.625081Z",
          "shell.execute_reply.started": "2021-12-13T05:40:18.616672Z",
          "shell.execute_reply": "2021-12-13T05:40:18.624216Z"
        },
        "trusted": true,
        "colab": {
          "base_uri": "https://localhost:8080/"
        },
        "id": "W77FFVIqrP4K",
        "outputId": "c014a2d3-789f-4bac-8d01-b1ba70f53af3"
      }
    },
    {
      "cell_type": "markdown",
      "source": [
        "Variable Assignment:\n",
        "**`Variable_Name = Value`**\n",
        "\n",
        "Variables Naming Rules:\n",
        "* `Python is case-senstive` => x=5 is different from X=5 (one is lowe and other is upper case)\n",
        "* `var name can't start with special character except underscore(_)` => _X = 7 is `valid`, @X = 7 is `invalid`\n",
        "* `var name can't start with number` => 9X = 7 is `invalid`, X9 = 7 is `valid`\n",
        "* can't use `keywords` as a variable name\n",
        "    *"
      ],
      "metadata": {
        "id": "89kwQhu5rP4K"
      }
    },
    {
      "cell_type": "markdown",
      "source": [
        "# * **`Declaring a Variable`** <br>\n"
      ],
      "metadata": {
        "id": "hiYt4qiJrP4K"
      }
    },
    {
      "cell_type": "code",
      "execution_count": 5,
      "source": [
        "# declare 4 variables with values as: ur_age 21,ur_weight 50.6, ur_first_name = 'Mukesh',ur_last_name = \"Manral\", TrueOrFalse compare if  ur_last_name == ur_first_name\n",
        "ur_age = 21\n",
        "ur_weight = 50.6\n",
        "ur_first_name = 'Mukesh'\n",
        "ur_last_name = \"Manral\"\n",
        "TrueOrFalse = ur_last_name == ur_first_name\n"
      ],
      "outputs": [],
      "metadata": {
        "execution": {
          "iopub.status.busy": "2021-12-13T05:47:55.407825Z",
          "iopub.execute_input": "2021-12-13T05:47:55.408175Z",
          "iopub.status.idle": "2021-12-13T05:47:55.413447Z",
          "shell.execute_reply.started": "2021-12-13T05:47:55.40814Z",
          "shell.execute_reply": "2021-12-13T05:47:55.412668Z"
        },
        "trusted": true,
        "id": "5pomjoc_rP4L"
      }
    },
    {
      "cell_type": "markdown",
      "source": [
        "# * **`Data Type(Type of variable)`**"
      ],
      "metadata": {
        "id": "aD6_WvkKrP4L"
      }
    },
    {
      "cell_type": "markdown",
      "source": [
        "| Name | Type | Description |\n",
        "| ---- | ---- | ----|\n",
        "|Integers | int | Integer number, like 34,-56 ...|\n",
        "|Float | float | Decimal number, like 3.4,-5.6 ...|\n",
        "|String| str | Ordered sequence of characters, like 'your name' |\n",
        "|Boolean |bool |Logical values indicating True or False only |"
      ],
      "metadata": {
        "id": "snzoPkD3rP4L"
      }
    },
    {
      "cell_type": "code",
      "execution_count": 6,
      "source": [
        "# print type of ur_age,ur_weight,ur_first_name,ur_last_name variables\n",
        "print(type(ur_age))\n",
        "print(type(ur_weight))\n",
        "print(type(ur_first_name))\n",
        "print(type(ur_last_name))\n",
        "print(type(TrueOrFalse))\n"
      ],
      "outputs": [
        {
          "output_type": "stream",
          "name": "stdout",
          "text": [
            "<class 'int'>\n",
            "<class 'float'>\n",
            "<class 'str'>\n",
            "<class 'str'>\n",
            "<class 'bool'>\n"
          ]
        }
      ],
      "metadata": {
        "execution": {
          "iopub.status.busy": "2021-12-13T05:48:10.441594Z",
          "iopub.execute_input": "2021-12-13T05:48:10.44207Z",
          "iopub.status.idle": "2021-12-13T05:48:10.449074Z",
          "shell.execute_reply.started": "2021-12-13T05:48:10.442018Z",
          "shell.execute_reply": "2021-12-13T05:48:10.448114Z"
        },
        "trusted": true,
        "colab": {
          "base_uri": "https://localhost:8080/"
        },
        "id": "Bb_fmhaOrP4L",
        "outputId": "9434c19f-8bf3-41f4-dd1f-6cadcb7da669"
      }
    },
    {
      "cell_type": "code",
      "execution_count": 7,
      "source": [
        "# print values of ur_age,ur_weight,ur_first_name,ur_last_name variables\n",
        "print(ur_age,ur_weight,ur_first_name,ur_last_name)\n"
      ],
      "outputs": [
        {
          "output_type": "stream",
          "name": "stdout",
          "text": [
            "21 50.6 Mukesh Manral\n"
          ]
        }
      ],
      "metadata": {
        "execution": {
          "iopub.status.busy": "2021-12-13T05:49:37.86939Z",
          "iopub.execute_input": "2021-12-13T05:49:37.869716Z",
          "iopub.status.idle": "2021-12-13T05:49:37.875995Z",
          "shell.execute_reply.started": "2021-12-13T05:49:37.869681Z",
          "shell.execute_reply": "2021-12-13T05:49:37.875066Z"
        },
        "trusted": true,
        "colab": {
          "base_uri": "https://localhost:8080/"
        },
        "id": "iaADKqUwrP4L",
        "outputId": "1fe86676-c6b7-4942-bbe4-65583bb74865"
      }
    },
    {
      "cell_type": "code",
      "execution_count": 8,
      "source": [
        "# make 2 variables with values as: ur_first_name 'Mukesh',ur_last_name'Mukesh'\n",
        "ur_first_name = 'Mukesh'\n",
        "ur_last_name = 'Mukesh'\n",
        "\n",
        "# make a variable TrueOrFalse which will have comparison of variables ur_last_name == ur_first_name\n",
        "TrueOrFalse = ur_last_name == ur_first_name\n"
      ],
      "outputs": [],
      "metadata": {
        "execution": {
          "iopub.status.busy": "2021-12-13T05:50:49.325048Z",
          "iopub.execute_input": "2021-12-13T05:50:49.32591Z",
          "iopub.status.idle": "2021-12-13T05:50:49.332343Z",
          "shell.execute_reply.started": "2021-12-13T05:50:49.325858Z",
          "shell.execute_reply": "2021-12-13T05:50:49.331287Z"
        },
        "trusted": true,
        "id": "Hde3D2uQrP4L"
      }
    },
    {
      "cell_type": "code",
      "execution_count": 9,
      "source": [
        "# print variables named as (your name and your age)\n",
        "print('My name is:Mukesh,and age is:21')\n",
        "\n"
      ],
      "outputs": [
        {
          "output_type": "stream",
          "name": "stdout",
          "text": [
            "My name is:Mukesh,and age is:21\n"
          ]
        }
      ],
      "metadata": {
        "execution": {
          "iopub.status.busy": "2021-12-13T05:51:34.885484Z",
          "iopub.execute_input": "2021-12-13T05:51:34.885949Z",
          "iopub.status.idle": "2021-12-13T05:51:34.891761Z",
          "shell.execute_reply.started": "2021-12-13T05:51:34.885913Z",
          "shell.execute_reply": "2021-12-13T05:51:34.890717Z"
        },
        "trusted": true,
        "colab": {
          "base_uri": "https://localhost:8080/"
        },
        "id": "XvFvwpEQrP4L",
        "outputId": "ec68c708-7448-44c0-c8b1-e31ff2e1f1f9"
      }
    },
    {
      "cell_type": "markdown",
      "source": [
        "# *How Variables works in Python\n",
        "[To see how python code is being executed internally](https://pythontutor.com/visualize.html#mode=display)"
      ],
      "metadata": {
        "id": "SLTS9twurP4L"
      }
    },
    {
      "cell_type": "code",
      "execution_count": 10,
      "source": [
        "# quick variables swap\n",
        "a = 1\n",
        "b = 2\n",
        "\n",
        "a,b = b,a\n",
        "#print(a,b)\n",
        "# define 3 variables with values as :x 10, y = x,x 3\n",
        "x=10\n",
        "y=x\n",
        "x=3\n",
        "\n",
        "\n",
        "\n",
        "# print x,y\n",
        "print(\"x =\", x)  # Output: x = 3\n",
        "print(\"y =\", y)  # Output: y = 10\n"
      ],
      "outputs": [
        {
          "output_type": "stream",
          "name": "stdout",
          "text": [
            "x = 3\n",
            "y = 10\n"
          ]
        }
      ],
      "metadata": {
        "execution": {
          "iopub.status.busy": "2021-12-13T06:26:21.636233Z",
          "iopub.execute_input": "2021-12-13T06:26:21.636531Z",
          "iopub.status.idle": "2021-12-13T06:26:21.642175Z",
          "shell.execute_reply.started": "2021-12-13T06:26:21.636499Z",
          "shell.execute_reply": "2021-12-13T06:26:21.641262Z"
        },
        "trusted": true,
        "colab": {
          "base_uri": "https://localhost:8080/"
        },
        "id": "2XCoERjmrP4L",
        "outputId": "a25ca286-cda1-4ed0-8b59-ad828823acfd"
      }
    },
    {
      "cell_type": "markdown",
      "source": [
        "\n",
        "<a id='3'></a><center> <h3 style=\"background-color:orange; color:white\" ><br>Assignment Variables & Data Types<br></h3>"
      ],
      "metadata": {
        "id": "kpSfcblGrP4M"
      }
    },
    {
      "cell_type": "markdown",
      "source": [
        "📌 `When you create a variable you keep some space in memory. These memory locations are then used to store values`"
      ],
      "metadata": {
        "id": "mrQh_aU8rP4M"
      }
    },
    {
      "cell_type": "code",
      "execution_count": 11,
      "source": [
        "# define a variable name \"x\" and assign value 777 to it\n",
        "x=777\n"
      ],
      "outputs": [],
      "metadata": {
        "execution": {
          "iopub.status.busy": "2021-12-13T06:51:26.536555Z",
          "iopub.execute_input": "2021-12-13T06:51:26.536827Z",
          "iopub.status.idle": "2021-12-13T06:51:26.540484Z",
          "shell.execute_reply.started": "2021-12-13T06:51:26.536795Z",
          "shell.execute_reply": "2021-12-13T06:51:26.539662Z"
        },
        "trusted": true,
        "id": "39JWxM7KrP4M"
      }
    },
    {
      "cell_type": "markdown",
      "source": [
        "* To view some data on screen, python have `print` function\n",
        "    * Using `print` function we can control view on output screen\n"
      ],
      "metadata": {
        "id": "QXnovK7lrP4M"
      }
    },
    {
      "cell_type": "code",
      "execution_count": 12,
      "source": [
        "# print value of variable x\n",
        "print(x)\n"
      ],
      "outputs": [
        {
          "output_type": "stream",
          "name": "stdout",
          "text": [
            "777\n"
          ]
        }
      ],
      "metadata": {
        "execution": {
          "iopub.status.busy": "2021-12-13T06:51:37.038136Z",
          "iopub.execute_input": "2021-12-13T06:51:37.038441Z",
          "iopub.status.idle": "2021-12-13T06:51:37.043423Z",
          "shell.execute_reply.started": "2021-12-13T06:51:37.038407Z",
          "shell.execute_reply": "2021-12-13T06:51:37.04243Z"
        },
        "trusted": true,
        "id": "vhpXKHMkrP4M",
        "colab": {
          "base_uri": "https://localhost:8080/"
        },
        "outputId": "f83e7741-642c-4823-c3b6-5fa34e1da3aa"
      }
    },
    {
      "cell_type": "markdown",
      "source": [
        "# *Identifiers in Python\n",
        "* Like Variables, we have to define `Functions`, `Classes` etc in python\n",
        "    * Naming them helps to differentiate one entity from another\n",
        "* All these names given to these entities are known as `Identifiers`.\n",
        "* Python have some rules to define Identifiers\n",
        "\n",
        "\n",
        "***Rules of Writing Identifiers***\n",
        "\n",
        "* Python is case sensitive language.\n",
        "* Identifiers can be a combination of letters in lowercase (a to z) or uppercase (A to Z) or digits (0 to 9) or an underscore _.\n",
        "    * Names like myVariable, var_1 and print_this, all are valid example.\n",
        "* An identifier cannot start with a digit\n",
        "* `1variable` is invalid, but `variable1` is perfectly fine\n",
        "* We cannot use special symbols like !, @, #, $, % etc. in our identifier. `_` is allowed\n",
        "* ***`Keywords` cannot be used as identifiers =>  `Keywords` are the reserved words in Python***\n",
        "\n",
        "---\n",
        "***Keywords in Python***\n",
        "\n",
        "---\n",
        "\n",
        "* `False`\n",
        "* `class`\n",
        "* `finally`\n",
        "* `is`\n",
        "* `return`\n",
        "* `None`\n",
        "* `continue`\n",
        "* `for`\n",
        "* `lambda`\n",
        "* `try`\n",
        "* `True`.. etc\n"
      ],
      "metadata": {
        "id": "slh282AprP4M"
      }
    },
    {
      "cell_type": "markdown",
      "source": [
        "# 📌 Type Conversion\n",
        "\n",
        "\n",
        "***Python defines type conversion functions to directly convert one data type to another.***"
      ],
      "metadata": {
        "id": "SrryZ3enrP4N"
      }
    },
    {
      "cell_type": "code",
      "execution_count": 13,
      "source": [
        "#convert float to integer\n",
        "float_number = 3.5\n",
        "integer_number = int(float_number)\n",
        "print(integer_number)\n",
        "\n",
        "#1. make a variable named as my_weight_float with datatype float and value 26.33333\n",
        "my_weight_float = 26.33333\n",
        "#2. make another var named as my_weight_int change above variable datatype to int\n",
        "my_weight_int = int(my_weight_float)\n",
        "#3. print data type of my_weight_float and my_weight_int\n",
        "print(type(my_weight_float))\n",
        "print(type(my_weight_int))\n",
        "#4. print my_weight_float and my_weight_int\n",
        "print(my_weight_float)\n",
        "print(my_weight_int)\n"
      ],
      "outputs": [
        {
          "output_type": "stream",
          "name": "stdout",
          "text": [
            "3\n",
            "<class 'float'>\n",
            "<class 'int'>\n",
            "26.33333\n",
            "26\n"
          ]
        }
      ],
      "metadata": {
        "execution": {
          "iopub.status.busy": "2021-12-13T06:53:09.525149Z",
          "iopub.execute_input": "2021-12-13T06:53:09.525961Z",
          "iopub.status.idle": "2021-12-13T06:53:09.531427Z",
          "shell.execute_reply.started": "2021-12-13T06:53:09.525923Z",
          "shell.execute_reply": "2021-12-13T06:53:09.530796Z"
        },
        "trusted": true,
        "colab": {
          "base_uri": "https://localhost:8080/"
        },
        "id": "yeQ9bxJtrP4N",
        "outputId": "07c0befd-399e-4526-e950-20b89fed1202"
      }
    },
    {
      "cell_type": "markdown",
      "source": [
        " ➕ if we try to add string and integer number, it will give an error"
      ],
      "metadata": {
        "id": "cx_jl2V9rP4N"
      }
    },
    {
      "cell_type": "code",
      "execution_count": 14,
      "source": [
        "# make a variable name with value as: adding_string_and_number '3' + 7\n",
        "adding_string_and_number = '3' + str(7)\n",
        "print(adding_string_and_number)  # Output: '37'\n"
      ],
      "outputs": [
        {
          "output_type": "stream",
          "name": "stdout",
          "text": [
            "37\n"
          ]
        }
      ],
      "metadata": {
        "execution": {
          "iopub.status.busy": "2021-12-13T06:54:05.196028Z",
          "iopub.execute_input": "2021-12-13T06:54:05.196633Z",
          "iopub.status.idle": "2021-12-13T06:54:05.210193Z",
          "shell.execute_reply.started": "2021-12-13T06:54:05.196593Z",
          "shell.execute_reply": "2021-12-13T06:54:05.209093Z"
        },
        "trusted": true,
        "colab": {
          "base_uri": "https://localhost:8080/"
        },
        "id": "uap3_C2JrP4N",
        "outputId": "e81da702-5a6f-4e2f-954a-19fd2a06a819"
      }
    },
    {
      "cell_type": "code",
      "execution_count": 15,
      "source": [
        "# convert above string '3' to integer and then add both '3' and 7 and save in variable named as  adding_string_and_number\n",
        "num_str = '3'        # this is a string\n",
        "num_int = int(num_str)  # convert to integer\n",
        "result = num_int + 7\n",
        "# print variable adding_string_and_number\n",
        "print(adding_string_and_number)\n"
      ],
      "outputs": [
        {
          "output_type": "stream",
          "name": "stdout",
          "text": [
            "37\n"
          ]
        }
      ],
      "metadata": {
        "execution": {
          "iopub.status.busy": "2021-12-13T06:54:35.120169Z",
          "iopub.execute_input": "2021-12-13T06:54:35.120497Z",
          "iopub.status.idle": "2021-12-13T06:54:35.128054Z",
          "shell.execute_reply.started": "2021-12-13T06:54:35.120468Z",
          "shell.execute_reply": "2021-12-13T06:54:35.127418Z"
        },
        "trusted": true,
        "colab": {
          "base_uri": "https://localhost:8080/"
        },
        "id": "cJoissQsrP4N",
        "outputId": "882894b8-0d92-4e12-f927-e470bdb11959"
      }
    },
    {
      "cell_type": "code",
      "execution_count": 16,
      "source": [
        "# make two variables with values as: ur_money 18 and frnd_money 21\n",
        "ur_money=18\n",
        "frnd_money=21\n",
        "\n",
        "# now use f string in print to see how much mony you and your friend have\n",
        "print(f\"I have {ur_money} rupees and my friend has {frnd_money} rupees.\")\n"
      ],
      "outputs": [
        {
          "output_type": "stream",
          "name": "stdout",
          "text": [
            "I have 18 rupees and my friend has 21 rupees.\n"
          ]
        }
      ],
      "metadata": {
        "execution": {
          "iopub.status.busy": "2021-12-13T06:55:34.558333Z",
          "iopub.execute_input": "2021-12-13T06:55:34.559173Z",
          "iopub.status.idle": "2021-12-13T06:55:34.564574Z",
          "shell.execute_reply.started": "2021-12-13T06:55:34.559128Z",
          "shell.execute_reply": "2021-12-13T06:55:34.563731Z"
        },
        "trusted": true,
        "colab": {
          "base_uri": "https://localhost:8080/"
        },
        "id": "a4Wu-bO8rP4N",
        "outputId": "2d4cd55b-5a9a-4c63-be58-0207eec69a02"
      }
    },
    {
      "cell_type": "code",
      "execution_count": 17,
      "source": [
        "# swap your money with friend money values\n",
        "swap = ur_money\n",
        "ur_money = frnd_money\n",
        "frnd_money = swap\n",
        "\n",
        "\n",
        "\n",
        "# now use f string in print to see how much mony you and your friend have now after swap\n",
        "print(f\"I have {ur_money} rupees and my friend has {frnd_money} rupees.\")\n"
      ],
      "outputs": [
        {
          "output_type": "stream",
          "name": "stdout",
          "text": [
            "I have 21 rupees and my friend has 18 rupees.\n"
          ]
        }
      ],
      "metadata": {
        "execution": {
          "iopub.status.busy": "2021-12-13T06:56:35.530114Z",
          "iopub.execute_input": "2021-12-13T06:56:35.5304Z",
          "iopub.status.idle": "2021-12-13T06:56:35.535706Z",
          "shell.execute_reply.started": "2021-12-13T06:56:35.530371Z",
          "shell.execute_reply": "2021-12-13T06:56:35.534886Z"
        },
        "trusted": true,
        "colab": {
          "base_uri": "https://localhost:8080/"
        },
        "id": "oQqq8x-MrP4N",
        "outputId": "f7ccbf74-7d60-436a-8a67-d4c8644ae833"
      }
    },
    {
      "cell_type": "markdown",
      "source": [
        "# *Python Data Structures"
      ],
      "metadata": {
        "id": "HhJfWRpjrP4N"
      }
    },
    {
      "cell_type": "markdown",
      "source": [
        "| Name | Type | Description |\n",
        "| ---- | ---- | ----|\n",
        "|List | list | Ordered sequence of various data types, like [34,'name',3.4]|\n",
        "|Dictionary | dict | Unordered sequence of `key-values pair`, like {'age':34,'age1:56'}|\n",
        "|Tuples | tup | Non-mutable sequence of data type, like (34,56,'name')|\n",
        "|Set |set | Collection of unique elements, like ('id','last_name')|"
      ],
      "metadata": {
        "id": "O5yhDZLmrP4O"
      }
    },
    {
      "cell_type": "markdown",
      "source": [
        "|Type|Mutability|Comments|\n",
        "|----|----|----|\n",
        "int |immutable|\n",
        "float|immutable|\n",
        "string|immutable|\n",
        "bool |immutable|\n",
        "frozenset|immutable|immutable version of set\n",
        "tuple|immutable|immutable version of list\n",
        "list|mutable|\n",
        "set |mutable|\n",
        "dict|mutable|\n",
        "\n"
      ],
      "metadata": {
        "id": "bhaTCL9trP4O"
      }
    },
    {
      "cell_type": "markdown",
      "source": [
        "💫 `immutable` => `can't be changed` <br>\n",
        "💫 `mutable` => `can be changed`"
      ],
      "metadata": {
        "id": "5zCDIkJJrP4O"
      }
    },
    {
      "cell_type": "markdown",
      "source": [
        "---\n",
        "### Proof that string is immutable"
      ],
      "metadata": {
        "id": "hABElii_rP4O"
      }
    },
    {
      "cell_type": "code",
      "execution_count": 18,
      "source": [
        "# can't reassign\n",
        "name = 'Mukesh'\n",
        "name[0] = 'M'\n",
        "\n",
        "# make a varible with value as: where_to_learn_MLandDL 'CloudyML'\n",
        "where_to_learn_MLandDL = 'CloudyML'\n",
        "\n",
        "# print type of variable\n",
        "print(type(where_to_learn_MLandDL))\n",
        "\n",
        "# print variable\n",
        "print(where_to_learn_MLandDL)\n",
        "\n",
        "# acess Letter M\n",
        "print(where_to_learn_MLandDL[0])\n"
      ],
      "outputs": [
        {
          "output_type": "error",
          "ename": "TypeError",
          "evalue": "'str' object does not support item assignment",
          "traceback": [
            "\u001b[0;31m---------------------------------------------------------------------------\u001b[0m",
            "\u001b[0;31mTypeError\u001b[0m                                 Traceback (most recent call last)",
            "\u001b[0;32m<ipython-input-18-3cbe4ef5a7cb>\u001b[0m in \u001b[0;36m<cell line: 0>\u001b[0;34m()\u001b[0m\n\u001b[1;32m      1\u001b[0m \u001b[0;31m# can't reassign\u001b[0m\u001b[0;34m\u001b[0m\u001b[0;34m\u001b[0m\u001b[0m\n\u001b[1;32m      2\u001b[0m \u001b[0mname\u001b[0m \u001b[0;34m=\u001b[0m \u001b[0;34m'Mukesh'\u001b[0m\u001b[0;34m\u001b[0m\u001b[0;34m\u001b[0m\u001b[0m\n\u001b[0;32m----> 3\u001b[0;31m \u001b[0mname\u001b[0m\u001b[0;34m[\u001b[0m\u001b[0;36m0\u001b[0m\u001b[0;34m]\u001b[0m \u001b[0;34m=\u001b[0m \u001b[0;34m'M'\u001b[0m\u001b[0;34m\u001b[0m\u001b[0;34m\u001b[0m\u001b[0m\n\u001b[0m\u001b[1;32m      4\u001b[0m \u001b[0;34m\u001b[0m\u001b[0m\n\u001b[1;32m      5\u001b[0m \u001b[0;31m# make a varible with value as: where_to_learn_MLandDL 'CloudyML'\u001b[0m\u001b[0;34m\u001b[0m\u001b[0;34m\u001b[0m\u001b[0m\n",
            "\u001b[0;31mTypeError\u001b[0m: 'str' object does not support item assignment"
          ]
        }
      ],
      "metadata": {
        "execution": {
          "iopub.status.busy": "2021-12-14T06:23:01.639413Z",
          "iopub.execute_input": "2021-12-14T06:23:01.639893Z",
          "iopub.status.idle": "2021-12-14T06:23:01.715374Z",
          "shell.execute_reply.started": "2021-12-14T06:23:01.63985Z",
          "shell.execute_reply": "2021-12-14T06:23:01.71365Z"
        },
        "trusted": true,
        "colab": {
          "base_uri": "https://localhost:8080/",
          "height": 211
        },
        "id": "Bh7K7FPCrP4O",
        "outputId": "0cc900a7-f13a-4aaf-ee55-243a81385cf6"
      }
    },
    {
      "cell_type": "code",
      "execution_count": null,
      "source": [
        "# make a variable with value as: where_to_learn_MLandDL  'CloudyMLDL'\n",
        "#where_to_learn_MLandDL = 'CloudyMLDL'\n",
        "\n",
        "# print variable\n",
        "#print(where_to_learn_MLandDL)\n",
        "\n",
        "# acess Letter M\n",
        "#print(where_to_learn_MLandDL[0])\n",
        "\n",
        "\n",
        "# try to loop in range of (0,10) and try to see memory location of letter-L of string-'CloudyMLDL' is same\n",
        "#for i in range(10):\n",
        "#    print(id(where_to_learn_MLandDL[i]))\n",
        "\n",
        "# If you dont know loop go throug videos first then do this\n",
        "C = 140430872656560\n",
        "l = 140430872679472\n",
        "o = 140430872679344\n",
        "u = 140430873271600\n",
        "d = 140430872678704\n",
        "y = 140430872291632\n",
        "M = 140430872525104\n",
        "L = 140430872525040\n",
        "D = 140430872656816\n",
        "L = 140430872525040\n",
        "\n",
        "# Print each variable on a new line\n",
        "print(\"C =\", C)\n",
        "print(\"l =\", l)\n",
        "print(\"o =\", o)\n",
        "print(\"u =\", u)\n",
        "print(\"d =\", d)\n",
        "print(\"y =\", y)\n",
        "print(\"M =\", M)\n",
        "print(\"L =\", L)\n",
        "print(\"D =\", D)\n",
        "print(\"L =\", L)\n"
      ],
      "outputs": [],
      "metadata": {
        "execution": {
          "iopub.status.busy": "2021-12-14T06:25:18.516942Z",
          "iopub.execute_input": "2021-12-14T06:25:18.517274Z",
          "iopub.status.idle": "2021-12-14T06:25:18.527458Z",
          "shell.execute_reply.started": "2021-12-14T06:25:18.517237Z",
          "shell.execute_reply": "2021-12-14T06:25:18.52641Z"
        },
        "trusted": true,
        "id": "b3IB3yQbrP4O"
      }
    },
    {
      "cell_type": "markdown",
      "source": [
        "---"
      ],
      "metadata": {
        "id": "1Yau-6lcrP4O"
      }
    },
    {
      "cell_type": "markdown",
      "source": [
        "**`List`** (ordered datastructure)\n",
        "* Ordered collection of values, each element is seprated by a comma, use of square bracket for denotion of list\n",
        "Ordered property is the most important aspect of list, lets see how:\n",
        "* Python remembers the order of elements of a list\n",
        "Data type connot store different kind of values in it, but list can"
      ],
      "metadata": {
        "id": "7NhOTXbMrP4P"
      }
    },
    {
      "cell_type": "code",
      "execution_count": null,
      "source": [
        "# declare a list named as ur_data_Lis having variables age,weight,name with values as 21,50.6,'Mukesh Manral'\n",
        "ur_data_Lis = [21,50.6,'Mukesh Manral']\n",
        "\n",
        "# print ur_data_Lis\n",
        "#print(ur_data_Lis)\n",
        "\n",
        "\n",
        "# declare a dictionary named as ur_data_dictionary having keys as age,weight, first_name values as 21, 50, Mukesh\n",
        "ur_data_dictionary = {'age':21,'weight':50,'first_name':'Mukesh'}\n",
        "\n",
        "# print ur_data_dictionary\n",
        "print(ur_data_dictionary)\n",
        "\n",
        "\n",
        "# declare a tuple named as ur_data_tuples having values 21,50.6,'first_name'\n",
        "ur_data_tuples = (21,50.6,'first_name')\n",
        "\n",
        "# print ur_data_tuples\n",
        "#print(ur_data_tuples)\n",
        "\n",
        "\n",
        "# declare a set named as ur_data_set having value as Mukesh\n",
        "ur_data_set = {'Mukesh'}\n",
        "\n",
        "# print ur_data_set\n",
        "#print(ur_data_set)\n"
      ],
      "outputs": [],
      "metadata": {
        "execution": {
          "iopub.status.busy": "2021-12-13T06:35:13.990207Z",
          "iopub.execute_input": "2021-12-13T06:35:13.990546Z",
          "iopub.status.idle": "2021-12-13T06:35:13.995431Z",
          "shell.execute_reply.started": "2021-12-13T06:35:13.990514Z",
          "shell.execute_reply": "2021-12-13T06:35:13.994825Z"
        },
        "trusted": true,
        "id": "h8DvPJKUrP4P"
      }
    },
    {
      "cell_type": "code",
      "execution_count": null,
      "source": [
        "# see datatype of ur_data_List, ur_data_dictionary, ur_data_tuples , ur_data_set variables\n",
        "print(type(ur_data_Lis))\n",
        "print(type(ur_data_dictionary))\n",
        "print(type(ur_data_tuples))\n",
        "print(type(ur_data_set))\n"
      ],
      "outputs": [],
      "metadata": {
        "id": "BjybhpkprP4P"
      }
    },
    {
      "cell_type": "markdown",
      "source": [
        "<a id='4'></a><center> <h3 style=\"background-color:orange; color:white\" ><br>Operators<br></h3>"
      ],
      "metadata": {
        "id": "DONZzh6OrP4P"
      }
    },
    {
      "cell_type": "markdown",
      "source": [
        "`Operators`: Symbols that represent mathematical or logical tasks\n",
        "\n",
        "Example:<br>\n",
        "`700` `+` `77`<br>\n",
        "* `+` <= Operator\n",
        "* `700` & `77` <= Operands\n"
      ],
      "metadata": {
        "id": "4Wfm35b4rP4P"
      }
    },
    {
      "cell_type": "markdown",
      "source": [
        "# Types of Operators\n",
        "1. `Arithmetic Operators`\n",
        "2. `Comparison Operators`\n",
        "3. `Logical Operators`"
      ],
      "metadata": {
        "execution": {
          "iopub.status.busy": "2021-12-10T06:38:34.676365Z",
          "iopub.execute_input": "2021-12-10T06:38:34.676668Z",
          "iopub.status.idle": "2021-12-10T06:38:34.749862Z",
          "shell.execute_reply.started": "2021-12-10T06:38:34.676636Z",
          "shell.execute_reply": "2021-12-10T06:38:34.748973Z"
        },
        "id": "W-7tOm5CrP4P"
      }
    },
    {
      "cell_type": "markdown",
      "source": [
        "# **1. `Arithmetic Operators`**"
      ],
      "metadata": {
        "id": "7OAVQ6EsrP4P"
      }
    },
    {
      "cell_type": "markdown",
      "source": [
        "|Task | Symbol|Example|\n",
        "|---|---|----|\n",
        "|Addition | + | 700 + 77 = 777|\n",
        "|Substraction | - | 778 - 1 = 777|\n",
        "|Multiplication | * | 1 * 777 = 777|\n",
        "|Division | / | 13 / 2 = 6.5|\n",
        "|Floor Division(ignores decimal \\ gives quotient) | // | 13 // 2 = 6|\n",
        "|Modulo(gives remainder)| % | 13 % 2 = 1|\n",
        "|Exponent(raise to the power) | ** | 13**2 = 169 |"
      ],
      "metadata": {
        "id": "_QNg2gk7rP4Q"
      }
    },
    {
      "cell_type": "markdown",
      "source": [
        "# **2. `Comparison Operators`**"
      ],
      "metadata": {
        "id": "FyxOlaQmrP4Q"
      }
    },
    {
      "cell_type": "markdown",
      "source": [
        "|Task | Symbol|\n",
        "|---|---|\n",
        "|Less than | < |\n",
        "|Less than or equall to | <= |\n",
        "|Equall to | == |\n",
        "|Greater than | > |\n",
        "|Greater than or equall to | >=|\n",
        "|Not equall to | != |\n"
      ],
      "metadata": {
        "id": "8V4gqwnBrP4Q"
      }
    },
    {
      "cell_type": "markdown",
      "source": [
        "# **3. `Logical Operators`**"
      ],
      "metadata": {
        "id": "m7-BVTnhrP4Q"
      }
    },
    {
      "cell_type": "markdown",
      "source": [
        "|Task | Symbol|Description|\n",
        "|---|---|---|\n",
        "|and | 1 < 2 and 2 < 3 => True |True only if both comparison are true |\n",
        "|or | 1 < 2 or 2 > 3 => True|True if either of the comparison are true  |\n",
        "|not | not 1 > 2 => True|(flips results)True if comparison is False and so on.. |\n"
      ],
      "metadata": {
        "id": "pHm4Yt2NrP4Q"
      }
    },
    {
      "cell_type": "markdown",
      "source": [
        "<a id='5'></a><center> <h3 style=\"background-color:orange; color:white\" ><br>Assignment Operators<br></h3>"
      ],
      "metadata": {
        "id": "IEkQ9PGArP4Q"
      }
    },
    {
      "cell_type": "code",
      "execution_count": null,
      "source": [
        "# Initialize variables [x,y,z,zz] with values\n",
        "## x as 7 =>int ,\n",
        "## y as 77 =>int,\n",
        "## z as 77.7 => float,\n",
        "## zz as 'Hi' => string\n",
        "x = 7\n",
        "y = 77\n",
        "z = 77.7\n",
        "zz = 'Hi'\n"
      ],
      "outputs": [],
      "metadata": {
        "execution": {
          "iopub.status.busy": "2021-12-13T11:16:12.87742Z",
          "iopub.execute_input": "2021-12-13T11:16:12.878107Z",
          "iopub.status.idle": "2021-12-13T11:16:12.88218Z",
          "shell.execute_reply.started": "2021-12-13T11:16:12.878061Z",
          "shell.execute_reply": "2021-12-13T11:16:12.881502Z"
        },
        "trusted": true,
        "id": "9eHULNrarP4Q"
      }
    },
    {
      "cell_type": "markdown",
      "source": [
        "# **1. `Arithmetic Operators`**"
      ],
      "metadata": {
        "id": "kMGlbyturP4Q"
      }
    },
    {
      "cell_type": "code",
      "execution_count": null,
      "source": [
        "# add x and z\n",
        "x + z\n"
      ],
      "outputs": [],
      "metadata": {
        "execution": {
          "iopub.status.busy": "2021-12-13T11:16:16.831361Z",
          "iopub.execute_input": "2021-12-13T11:16:16.831632Z",
          "iopub.status.idle": "2021-12-13T11:16:16.837568Z",
          "shell.execute_reply.started": "2021-12-13T11:16:16.831606Z",
          "shell.execute_reply": "2021-12-13T11:16:16.836727Z"
        },
        "trusted": true,
        "id": "_7X7ChdtrP4Q"
      }
    },
    {
      "cell_type": "code",
      "execution_count": null,
      "source": [
        "# subtract z and y\n",
        "z - y\n"
      ],
      "outputs": [],
      "metadata": {
        "execution": {
          "iopub.status.busy": "2021-12-13T11:16:30.20271Z",
          "iopub.execute_input": "2021-12-13T11:16:30.203003Z",
          "iopub.status.idle": "2021-12-13T11:16:30.208385Z",
          "shell.execute_reply.started": "2021-12-13T11:16:30.20297Z",
          "shell.execute_reply": "2021-12-13T11:16:30.207581Z"
        },
        "trusted": true,
        "id": "VWA9vqXbrP4R"
      }
    },
    {
      "cell_type": "code",
      "execution_count": null,
      "source": [
        "# Multiply x and z\n",
        "x*z\n"
      ],
      "outputs": [],
      "metadata": {
        "execution": {
          "iopub.status.busy": "2021-12-13T11:16:33.722346Z",
          "iopub.execute_input": "2021-12-13T11:16:33.722854Z",
          "iopub.status.idle": "2021-12-13T11:16:33.727832Z",
          "shell.execute_reply.started": "2021-12-13T11:16:33.722819Z",
          "shell.execute_reply": "2021-12-13T11:16:33.726714Z"
        },
        "trusted": true,
        "id": "Xs-S0MhCrP4R"
      }
    },
    {
      "cell_type": "code",
      "execution_count": null,
      "source": [
        "# Exponent (raise the power or times) x times z\n",
        "x**z\n"
      ],
      "outputs": [],
      "metadata": {
        "execution": {
          "iopub.status.busy": "2021-12-11T05:18:03.351545Z",
          "iopub.status.idle": "2021-12-11T05:18:03.351958Z",
          "shell.execute_reply.started": "2021-12-11T05:18:03.3518Z",
          "shell.execute_reply": "2021-12-11T05:18:03.351816Z"
        },
        "trusted": true,
        "id": "QTAL9jikrP4R"
      }
    },
    {
      "cell_type": "code",
      "execution_count": null,
      "source": [
        "# division on x and z\n",
        "x/z\n"
      ],
      "outputs": [],
      "metadata": {
        "execution": {
          "iopub.status.busy": "2021-12-13T11:16:54.592323Z",
          "iopub.execute_input": "2021-12-13T11:16:54.593185Z",
          "iopub.status.idle": "2021-12-13T11:16:54.599677Z",
          "shell.execute_reply.started": "2021-12-13T11:16:54.593129Z",
          "shell.execute_reply": "2021-12-13T11:16:54.598843Z"
        },
        "trusted": true,
        "id": "veuOn9YcrP4R"
      }
    },
    {
      "cell_type": "markdown",
      "source": [
        "`//` => divides and returns integer value of quotient\n",
        "* It will dump digits after decimal"
      ],
      "metadata": {
        "id": "lPSllBVYrP4R"
      }
    },
    {
      "cell_type": "code",
      "execution_count": null,
      "source": [
        "# floor division(ignores decimal) on x and z (gives quotient)\n",
        "x//z"
      ],
      "outputs": [],
      "metadata": {
        "execution": {
          "iopub.status.busy": "2021-12-13T11:17:43.711764Z",
          "iopub.execute_input": "2021-12-13T11:17:43.712052Z",
          "iopub.status.idle": "2021-12-13T11:17:43.717685Z",
          "shell.execute_reply.started": "2021-12-13T11:17:43.712021Z",
          "shell.execute_reply": "2021-12-13T11:17:43.716923Z"
        },
        "trusted": true,
        "id": "LjvFNdDHrP4R"
      }
    },
    {
      "cell_type": "code",
      "execution_count": null,
      "source": [
        "# Modulo(gives remainder) on x and z\n",
        "x%z"
      ],
      "outputs": [],
      "metadata": {
        "execution": {
          "iopub.status.busy": "2021-12-13T11:18:23.768469Z",
          "iopub.execute_input": "2021-12-13T11:18:23.768814Z",
          "iopub.status.idle": "2021-12-13T11:18:23.774541Z",
          "shell.execute_reply.started": "2021-12-13T11:18:23.768775Z",
          "shell.execute_reply": "2021-12-13T11:18:23.773825Z"
        },
        "trusted": true,
        "id": "prGaXfI2rP4R"
      }
    },
    {
      "cell_type": "markdown",
      "source": [
        "# **2. `Comparison Operators`**"
      ],
      "metadata": {
        "id": "BqiZFRnxrP4R"
      }
    },
    {
      "cell_type": "code",
      "execution_count": null,
      "source": [
        "# comapre and see if x is less then z\n",
        "# can use '<' symbol\n",
        "x<z\n",
        "\n"
      ],
      "outputs": [],
      "metadata": {
        "execution": {
          "iopub.status.busy": "2021-12-13T11:18:53.671588Z",
          "iopub.execute_input": "2021-12-13T11:18:53.671899Z",
          "iopub.status.idle": "2021-12-13T11:18:53.677758Z",
          "shell.execute_reply.started": "2021-12-13T11:18:53.671852Z",
          "shell.execute_reply": "2021-12-13T11:18:53.676944Z"
        },
        "trusted": true,
        "id": "cZTjTlksrP4S"
      }
    },
    {
      "cell_type": "code",
      "execution_count": null,
      "source": [
        "# check the type of above comaprison where it says comapre and see if x is less then z\n",
        "type(x<z)\n"
      ],
      "outputs": [],
      "metadata": {
        "execution": {
          "iopub.status.busy": "2021-12-13T11:18:56.585406Z",
          "iopub.execute_input": "2021-12-13T11:18:56.585807Z",
          "iopub.status.idle": "2021-12-13T11:18:56.591392Z",
          "shell.execute_reply.started": "2021-12-13T11:18:56.585775Z",
          "shell.execute_reply": "2021-12-13T11:18:56.590675Z"
        },
        "trusted": true,
        "id": "ugLB8T4zrP4S"
      }
    },
    {
      "cell_type": "markdown",
      "source": [
        "* `Bool` => takes two values, either `True` or `False`"
      ],
      "metadata": {
        "id": "JvyfWt8NrP4S"
      }
    },
    {
      "cell_type": "code",
      "execution_count": null,
      "source": [
        "# compare and see if x is less then or equall to z\n",
        "# can use '<=' symbol\n",
        "x<=z\n"
      ],
      "outputs": [],
      "metadata": {
        "execution": {
          "iopub.status.busy": "2021-12-13T11:20:21.121593Z",
          "iopub.execute_input": "2021-12-13T11:20:21.121906Z",
          "iopub.status.idle": "2021-12-13T11:20:21.128235Z",
          "shell.execute_reply.started": "2021-12-13T11:20:21.121858Z",
          "shell.execute_reply": "2021-12-13T11:20:21.127415Z"
        },
        "trusted": true,
        "id": "qrLXc7h8rP4S"
      }
    },
    {
      "cell_type": "code",
      "execution_count": null,
      "source": [
        "# comapre and see if x equall to z\n",
        "# can use '==' symbol\n",
        "x==z\n"
      ],
      "outputs": [],
      "metadata": {
        "execution": {
          "iopub.status.busy": "2021-12-13T11:21:03.964122Z",
          "iopub.execute_input": "2021-12-13T11:21:03.964669Z",
          "iopub.status.idle": "2021-12-13T11:21:03.970529Z",
          "shell.execute_reply.started": "2021-12-13T11:21:03.964617Z",
          "shell.execute_reply": "2021-12-13T11:21:03.969911Z"
        },
        "trusted": true,
        "id": "QITa8mAorP4S"
      }
    },
    {
      "cell_type": "code",
      "execution_count": null,
      "source": [
        "# comapre and see if x is greater than z\n",
        "# can use '>' symbol\n",
        "x>z\n"
      ],
      "outputs": [],
      "metadata": {
        "execution": {
          "iopub.status.busy": "2021-12-13T11:21:17.560326Z",
          "iopub.execute_input": "2021-12-13T11:21:17.56085Z",
          "iopub.status.idle": "2021-12-13T11:21:17.566991Z",
          "shell.execute_reply.started": "2021-12-13T11:21:17.560801Z",
          "shell.execute_reply": "2021-12-13T11:21:17.566308Z"
        },
        "trusted": true,
        "id": "to09wf4lrP4S"
      }
    },
    {
      "cell_type": "code",
      "execution_count": null,
      "source": [
        "# comapre and see if x is greater than or equall to z\n",
        "# can use '>=' symbol\n",
        "x>=z\n"
      ],
      "outputs": [],
      "metadata": {
        "execution": {
          "iopub.status.busy": "2021-12-11T05:18:03.366407Z",
          "iopub.status.idle": "2021-12-11T05:18:03.366829Z",
          "shell.execute_reply.started": "2021-12-11T05:18:03.36667Z",
          "shell.execute_reply": "2021-12-11T05:18:03.366687Z"
        },
        "trusted": true,
        "id": "3XjJEvQmrP4S"
      }
    },
    {
      "cell_type": "code",
      "execution_count": null,
      "source": [
        "# comapre and see if x is Not equall to z\n",
        "# can use '!=' symbol\n",
        "x!=z\n",
        "\n"
      ],
      "outputs": [],
      "metadata": {
        "execution": {
          "iopub.status.busy": "2021-12-13T11:21:27.087572Z",
          "iopub.execute_input": "2021-12-13T11:21:27.087849Z",
          "iopub.status.idle": "2021-12-13T11:21:27.094348Z",
          "shell.execute_reply.started": "2021-12-13T11:21:27.087821Z",
          "shell.execute_reply": "2021-12-13T11:21:27.093707Z"
        },
        "trusted": true,
        "id": "U3R4NtLUrP4S"
      }
    },
    {
      "cell_type": "markdown",
      "source": [
        "# **3. `Logical Operators`**"
      ],
      "metadata": {
        "id": "i1cSXmgbrP4T"
      }
    },
    {
      "cell_type": "code",
      "execution_count": null,
      "source": [
        "# compare if 108 is equall to 108, 21 is equall to 21 using logical and\n",
        "# equall to => '=='\n",
        "# logical and => and\n",
        "# in and both condition must be True to get a True\n",
        "(108 == 108) and (21 == 21)"
      ],
      "outputs": [],
      "metadata": {
        "execution": {
          "iopub.status.busy": "2021-12-13T11:22:13.637267Z",
          "iopub.execute_input": "2021-12-13T11:22:13.637837Z",
          "iopub.status.idle": "2021-12-13T11:22:13.644724Z",
          "shell.execute_reply.started": "2021-12-13T11:22:13.637786Z",
          "shell.execute_reply": "2021-12-13T11:22:13.643893Z"
        },
        "trusted": true,
        "id": "qrf5nOLerP4T"
      }
    },
    {
      "cell_type": "code",
      "execution_count": null,
      "source": [
        "# how above condition can give False as output show all thouse conditions\n",
        "# in and both condition must be True to get a True\n",
        "print((108 == 107) and (21 == 21))  # False\n",
        "#print((108 == 108) and (21 == 22))  # False\n",
        "#print((108 == 107) and (21 == 22))  # False\n"
      ],
      "outputs": [],
      "metadata": {
        "execution": {
          "iopub.status.busy": "2021-12-13T11:22:24.567356Z",
          "iopub.execute_input": "2021-12-13T11:22:24.56808Z",
          "iopub.status.idle": "2021-12-13T11:22:24.576075Z",
          "shell.execute_reply.started": "2021-12-13T11:22:24.56804Z",
          "shell.execute_reply": "2021-12-13T11:22:24.574969Z"
        },
        "trusted": true,
        "id": "Zp51tX7NrP4T"
      }
    },
    {
      "cell_type": "code",
      "execution_count": null,
      "source": [
        "# compare if 108 is equall to 108, 21 is equall to 11 using logical or\n",
        "# equall to => '=='\n",
        "# logical or => or\n",
        "\n",
        "\n",
        " # in or Only one condition need to be True to get a True\n",
        "result = (108 == 108) or (21 == 11)\n",
        "\n",
        "print(result)\n",
        "\n"
      ],
      "outputs": [],
      "metadata": {
        "execution": {
          "iopub.status.busy": "2021-12-13T11:22:39.575636Z",
          "iopub.execute_input": "2021-12-13T11:22:39.576213Z",
          "iopub.status.idle": "2021-12-13T11:22:39.58328Z",
          "shell.execute_reply.started": "2021-12-13T11:22:39.576179Z",
          "shell.execute_reply": "2021-12-13T11:22:39.582673Z"
        },
        "trusted": true,
        "id": "TRMHLAHkrP4T"
      }
    },
    {
      "cell_type": "code",
      "execution_count": null,
      "source": [
        "# this is for you understand it\n",
        "(108 == 108) or (21 == 11) or (108 <= 11)"
      ],
      "outputs": [],
      "metadata": {
        "execution": {
          "iopub.status.busy": "2021-12-13T11:22:58.997422Z",
          "iopub.execute_input": "2021-12-13T11:22:58.998022Z",
          "iopub.status.idle": "2021-12-13T11:22:59.004662Z",
          "shell.execute_reply.started": "2021-12-13T11:22:58.997978Z",
          "shell.execute_reply": "2021-12-13T11:22:59.003884Z"
        },
        "trusted": true,
        "id": "QQRfWOkzrP4T"
      }
    },
    {
      "cell_type": "markdown",
      "source": [
        "\n",
        "<a id='6'></a><center> <h3 style=\"background-color:orange; color:white\" ><br>Conditional Statements<br></h3>"
      ],
      "metadata": {
        "id": "FYchA77BrP4T"
      }
    },
    {
      "cell_type": "markdown",
      "source": [
        "# 1. **`if`--- `else`** => to handle single condition <br>\n",
        "# 2. **`if`--- `elif`--- `else`** => to handle Multiple condition"
      ],
      "metadata": {
        "id": "r5LWKR-irP4T"
      }
    },
    {
      "cell_type": "markdown",
      "source": [
        "`Why do we need conditional Statements?` <br>\n",
        "Say you want to buy a ML course and to decided you buy it or not to by it based on some condition,=> if you have more then 2k buy, if you dont have more then 2k dont buy!!\n",
        "\n",
        "* Two Variable you will use `ML course` and `money`\n",
        "* One comparison `money > 2k`\n",
        "For ML course if `money > 2k` => you have more money then 2k => condition is True => buy course => if condition is False i.e. you have less money then 2k then dont buy the course\n"
      ],
      "metadata": {
        "id": "4l8YdB1orP4T"
      }
    },
    {
      "cell_type": "markdown",
      "source": [
        "|Pseudo Code for above will be| Python Code for Pseudo code|\n",
        "|----|----|\n",
        "Check if money > 2k | if money > 2000:\n",
        "then ML course = 'buy' |....  ML course = 'buy'\n",
        "else Ml course = 'dont buy'| else:\n",
        " --  | ....ML course = 'dont buy'"
      ],
      "metadata": {
        "id": "FWFgSro3rP4U"
      }
    },
    {
      "cell_type": "code",
      "execution_count": 19,
      "source": [
        "\"\"\"\n",
        "if condition:\n",
        "    statement\n",
        "else:\n",
        "    statement\"\"\""
      ],
      "outputs": [
        {
          "output_type": "execute_result",
          "data": {
            "text/plain": [
              "'\\nif condition:\\n    statement\\nelse:\\n    statement'"
            ],
            "application/vnd.google.colaboratory.intrinsic+json": {
              "type": "string"
            }
          },
          "metadata": {},
          "execution_count": 19
        }
      ],
      "metadata": {
        "colab": {
          "base_uri": "https://localhost:8080/",
          "height": 35
        },
        "id": "eD6N8d4JrP4U",
        "outputId": "c5059ba0-f85b-4c7f-f5bd-4b8634e60ea7"
      }
    },
    {
      "cell_type": "markdown",
      "source": [
        "`Observe in Python code:`\n",
        "* `if` => statement in python\n",
        "* `else` => statement in python\n",
        "* `:` => colon => denotes start of if block i.e. any line written after colon belong to if condition\n",
        "* `....` => see then as indentation i.e. 4 spaces => indentation indicates all code belong to only if and then another indentation indicates code for only else block"
      ],
      "metadata": {
        "id": "_7lo_XpYrP4U"
      }
    },
    {
      "cell_type": "code",
      "execution_count": 20,
      "source": [
        "# make variable with value as : money 100000\n",
        "##### say you have this much ammount in your account\n",
        "\n",
        "# see output of money > 2000\n",
        "# Define the variable\n",
        "money = 100000\n",
        "\n",
        "# Compare if money is greater than 2000\n",
        "result = money > 2000\n",
        "\n",
        "# Print the result\n",
        "print(result)\n",
        "\n"
      ],
      "outputs": [
        {
          "output_type": "stream",
          "name": "stdout",
          "text": [
            "True\n"
          ]
        }
      ],
      "metadata": {
        "execution": {
          "iopub.status.busy": "2021-12-13T12:04:09.254359Z",
          "iopub.execute_input": "2021-12-13T12:04:09.255152Z",
          "iopub.status.idle": "2021-12-13T12:04:09.301228Z",
          "shell.execute_reply.started": "2021-12-13T12:04:09.254985Z",
          "shell.execute_reply": "2021-12-13T12:04:09.300137Z"
        },
        "trusted": true,
        "colab": {
          "base_uri": "https://localhost:8080/"
        },
        "id": "e2SpODuorP4U",
        "outputId": "1a126ec2-64c6-44e3-d070-930968349ec2"
      }
    },
    {
      "cell_type": "code",
      "execution_count": 21,
      "source": [
        "# see above Python code for Pseudo code and write that into python code\n",
        "\n",
        "# assign money variable value of 100000\n",
        "##### say you have this much ammount in your account\n",
        "# see above Python code for Pseudo code and write that into python code\n",
        "\n",
        "# assign money variable value of 100000\n",
        "##### say you have this much ammount in your account\n",
        "money = 100000\n",
        "\n",
        "# start of if condition\n",
        "if money > 2000: # if money is greater then 2000 which is ML course free\n",
        "    print('buy ML course')\n",
        "else: # if money > 2000 is false i.e. you have less money then 2000 in your account then else will work for now only if is working\n",
        "    pass\n"
      ],
      "outputs": [
        {
          "output_type": "stream",
          "name": "stdout",
          "text": [
            "buy ML course\n"
          ]
        }
      ],
      "metadata": {
        "execution": {
          "iopub.status.busy": "2021-12-13T12:04:41.020562Z",
          "iopub.execute_input": "2021-12-13T12:04:41.020917Z",
          "iopub.status.idle": "2021-12-13T12:04:41.027788Z",
          "shell.execute_reply.started": "2021-12-13T12:04:41.020881Z",
          "shell.execute_reply": "2021-12-13T12:04:41.026428Z"
        },
        "trusted": true,
        "colab": {
          "base_uri": "https://localhost:8080/"
        },
        "id": "8rLKbxCqrP4U",
        "outputId": "d81a14d0-e22c-4ed0-c6f2-91b8f94b64ac"
      }
    },
    {
      "cell_type": "code",
      "execution_count": 22,
      "source": [
        "# make variable with value as : money 100\n",
        "money = 100\n",
        "result = money > 2000\n",
        "print(result)\n",
        "\n",
        "# see output of money > 2000\n",
        "\n"
      ],
      "outputs": [
        {
          "output_type": "stream",
          "name": "stdout",
          "text": [
            "False\n"
          ]
        }
      ],
      "metadata": {
        "execution": {
          "iopub.status.busy": "2021-12-13T12:05:41.659081Z",
          "iopub.execute_input": "2021-12-13T12:05:41.659409Z",
          "iopub.status.idle": "2021-12-13T12:05:41.667758Z",
          "shell.execute_reply.started": "2021-12-13T12:05:41.659376Z",
          "shell.execute_reply": "2021-12-13T12:05:41.66659Z"
        },
        "trusted": true,
        "colab": {
          "base_uri": "https://localhost:8080/"
        },
        "id": "-J44V8LNrP4U",
        "outputId": "03bb2ba0-3f9b-4423-9c83-e4e41ac75748"
      }
    },
    {
      "cell_type": "code",
      "execution_count": 23,
      "source": [
        "# assign money variable value of 100\n",
        "#### say you have this much ammount in your account\n",
        "\n",
        "# start of if condition\n",
        "if money>2000:# if money is greater then 2000 which is ML course free\n",
        "    print('buy ML course')\n",
        "else:\n",
        "  print('Dont Buy ML Cousre')  # if money > 2000 is false i.e. you have less money then 2000 in your account then else will work for now only if is working\n"
      ],
      "outputs": [
        {
          "output_type": "stream",
          "name": "stdout",
          "text": [
            "Dont Buy ML Cousre\n"
          ]
        }
      ],
      "metadata": {
        "execution": {
          "iopub.status.busy": "2021-12-13T12:05:59.422112Z",
          "iopub.execute_input": "2021-12-13T12:05:59.423116Z",
          "iopub.status.idle": "2021-12-13T12:05:59.42974Z",
          "shell.execute_reply.started": "2021-12-13T12:05:59.423062Z",
          "shell.execute_reply": "2021-12-13T12:05:59.428841Z"
        },
        "trusted": true,
        "colab": {
          "base_uri": "https://localhost:8080/"
        },
        "id": "eQGaPvuRrP4U",
        "outputId": "5515ebe6-e904-4561-95ee-fb7787cdaa75"
      }
    },
    {
      "cell_type": "markdown",
      "source": [
        "# 2. `Multiple Condition` i.e. use of **`if`--- `elif`--- `else`**\n",
        "Say you have bought ML course, but now you want certification and internship here includes more then 1 condition maybe 2 or 3, lets see for conditions:\n",
        "* if your test score more then 80 then you will get certification of A grade\n",
        "* if your test score more then 60 then you will get certification of B grade\n",
        "* for rest not get anything"
      ],
      "metadata": {
        "id": "nVugaqcErP4U"
      }
    },
    {
      "cell_type": "markdown",
      "source": [
        "|Pseudo Code for above will be\n",
        "|----|\n",
        "Check if score > 80\n",
        "if yes print('A grade')\n",
        "Otherwise check if score > 60\n",
        "if yes print('B grade')\n",
        "For every other situation print('not getting anything')"
      ],
      "metadata": {
        "id": "KLJjdItrrP4U"
      }
    },
    {
      "cell_type": "code",
      "source": [
        "# python code for above Pseudo Code will be\n",
        "your_test_score = input('What is your test score(check for 10, 70, 90):') #taking input from you use of input()\n",
        "your_test_score = int(your_test_score)#as input is in string changing it to int as to make comparison possible\n",
        "\n",
        "if your_test_score>80: # if your_test_score greater then 80\n",
        "    print('A grade')\n",
        "elif your_test_score>60: # elif your_test_score greater then 60 and your_test_score leass then 80\n",
        "    print('B grade')\n",
        "else:\n",
        "    print('Nothing for you')"
      ],
      "metadata": {
        "colab": {
          "base_uri": "https://localhost:8080/"
        },
        "id": "vABKYViUEBkf",
        "outputId": "81753221-a6d3-47b4-d0bb-befa143716c6"
      },
      "execution_count": 24,
      "outputs": [
        {
          "output_type": "stream",
          "name": "stdout",
          "text": [
            "What is your test score(check for 10, 70, 90):80\n",
            "B grade\n"
          ]
        }
      ]
    },
    {
      "cell_type": "code",
      "execution_count": 25,
      "source": [
        "# python code for above Pseudo Code will be\n",
        "your_test_score = input('What is your test score(check for 10, 70, 90):') #taking input from you use of input()\n",
        "your_test_score = int(your_test_score)#as input is in string changing it to int as to make comparison possible\n",
        "\n",
        "if your_test_score>80: # if your_test_score greater then 80\n",
        "    print('A grade')\n",
        "elif your_test_score>60: # elif your_test_score greater then 60 and your_test_score leass then 80\n",
        "    print('B grade')\n",
        "else:\n",
        "    print('Nothing for you')"
      ],
      "outputs": [
        {
          "output_type": "stream",
          "name": "stdout",
          "text": [
            "What is your test score(check for 10, 70, 90):65\n",
            "B grade\n"
          ]
        }
      ],
      "metadata": {
        "execution": {
          "iopub.status.busy": "2021-12-13T12:12:40.145355Z",
          "iopub.execute_input": "2021-12-13T12:12:40.145964Z",
          "iopub.status.idle": "2021-12-13T12:12:45.469908Z",
          "shell.execute_reply.started": "2021-12-13T12:12:40.145915Z",
          "shell.execute_reply": "2021-12-13T12:12:45.469259Z"
        },
        "trusted": true,
        "colab": {
          "base_uri": "https://localhost:8080/"
        },
        "id": "UkSB0BDKrP4V",
        "outputId": "7a3de0ea-7980-4be2-c796-efe0bea5f893"
      }
    },
    {
      "cell_type": "markdown",
      "source": [
        "`Understand above Flow`:\n",
        "* check for if statement if true close, if not true\n",
        "* check for elif, if elif condition is true go close, if not true\n",
        "* go ot else any way\n",
        "* [See how this code is being executed internally](https://pythontutor.com/visualize.html#mode=display)\n",
        "* copy above code there"
      ],
      "metadata": {
        "id": "5fSzijCErP4V"
      }
    },
    {
      "cell_type": "markdown",
      "source": [
        "\n",
        "<a id='7'></a><center> <h3 style=\"background-color:orange; color:white\" ><br>Assignment Conditional Statements<br></h3>"
      ],
      "metadata": {
        "id": "f-c4s81KrP4V"
      }
    },
    {
      "cell_type": "markdown",
      "source": [
        "# 📌📌 Indentation in Python\n",
        "\n",
        "***Before we start Conditional Statements, let's have a look at `indentation` in Python.***\n",
        "\n",
        "## `INDENTATION`\n",
        "* Indentation means `(spaces and tabs)` that are used at beginning of any statement\n",
        "* Statements with same indentation belong to same group also called as `suite`.\n"
      ],
      "metadata": {
        "id": "qutzAWNFrP4V"
      }
    },
    {
      "cell_type": "code",
      "execution_count": 26,
      "source": [
        "# this is how wrong indentation gives you error  (commet can be written by using => #)\n",
        "if (2 == 2):\n",
        "   {\n",
        "    print('True Statement') # IndentationError\n",
        "\n",
        "   }\n"
      ],
      "outputs": [
        {
          "output_type": "stream",
          "name": "stdout",
          "text": [
            "True Statement\n"
          ]
        }
      ],
      "metadata": {
        "execution": {
          "iopub.status.busy": "2021-12-11T05:18:03.376487Z",
          "iopub.status.idle": "2021-12-11T05:18:03.376791Z",
          "shell.execute_reply.started": "2021-12-11T05:18:03.376636Z",
          "shell.execute_reply": "2021-12-11T05:18:03.376652Z"
        },
        "trusted": true,
        "colab": {
          "base_uri": "https://localhost:8080/"
        },
        "id": "CK1s7-BxrP4V",
        "outputId": "39365587-1468-4154-b408-61508e78b7bf"
      }
    },
    {
      "cell_type": "markdown",
      "source": [
        "**`Take an input from a user in variable input_ and print \"Even\" if number is divisible by 2, otherwise print \"Odd\"`**"
      ],
      "metadata": {
        "id": "pT2IKbixrP4V"
      }
    },
    {
      "cell_type": "code",
      "execution_count": 27,
      "source": [
        "# take input from user by using input function in variable named as input_\n",
        "\n",
        "\n",
        "# by default type is string, so we need to convert type first into int\n",
        "input_ = input('Enter an Integer')\n",
        "num = int(input_)\n",
        "if num % 2==0: # if input_ modulo 2 compared to 0 id true\n",
        "    print(\"Even\")\n",
        "else:\n",
        "    print(\"Odd\")"
      ],
      "outputs": [
        {
          "output_type": "stream",
          "name": "stdout",
          "text": [
            "Enter an Integer7\n",
            "Odd\n"
          ]
        }
      ],
      "metadata": {
        "execution": {
          "iopub.status.busy": "2021-12-11T05:18:03.377643Z",
          "iopub.status.idle": "2021-12-11T05:18:03.377926Z",
          "shell.execute_reply.started": "2021-12-11T05:18:03.377777Z",
          "shell.execute_reply": "2021-12-11T05:18:03.377792Z"
        },
        "trusted": true,
        "colab": {
          "base_uri": "https://localhost:8080/"
        },
        "id": "zF-6vc9HrP4V",
        "outputId": "737183ab-1a45-466f-d8f1-2ec1c9d99594"
      }
    },
    {
      "cell_type": "markdown",
      "source": [
        "**`Take input from user in variable x and print \"`Grade A`\" if y is greater than 90, \"`Grade B`\" if y is greater than 60 but less than or equal to 90 and \"`Grade F`\" Otherwise`**"
      ],
      "metadata": {
        "id": "Wm_-Ao43rP4W"
      }
    },
    {
      "cell_type": "code",
      "execution_count": 28,
      "source": [
        "# take input from user by using input function\n",
        "x = input('Enter your marks')\n",
        "\n",
        "# by default type is string, so we need to convert type first\n",
        "x = int(x)\n",
        "\n",
        "if x>90: # if x is greater then 90\n",
        "    print(\"Grade A\")\n",
        "\n",
        "elif x>60:# elif x is greater then 60\n",
        "    print(\"Grade B\")\n",
        "\n",
        "else:\n",
        "    print(\"Grade F\")"
      ],
      "outputs": [
        {
          "output_type": "stream",
          "name": "stdout",
          "text": [
            "Enter your marks90\n",
            "Grade B\n"
          ]
        }
      ],
      "metadata": {
        "execution": {
          "iopub.status.busy": "2021-12-11T05:18:03.381965Z",
          "iopub.execute_input": "2021-12-11T05:18:03.382211Z",
          "iopub.status.idle": "2021-12-11T05:18:11.226671Z",
          "shell.execute_reply.started": "2021-12-11T05:18:03.382183Z",
          "shell.execute_reply": "2021-12-11T05:18:11.224518Z"
        },
        "trusted": true,
        "colab": {
          "base_uri": "https://localhost:8080/"
        },
        "id": "iY9UVHpOrP4W",
        "outputId": "649b1ff5-a62b-4c1e-8574-232a6d77635a"
      }
    },
    {
      "cell_type": "markdown",
      "source": [
        "\n",
        "<a id='8'></a><center> <h3 style=\"background-color:orange; color:white\" ><br>Loops<br></h3>"
      ],
      "metadata": {
        "id": "Ifzx69_srP4W"
      }
    },
    {
      "cell_type": "code",
      "execution_count": 29,
      "source": [
        "\"\"\"\n",
        "for iterating_variable in sequence:\n",
        "    statement(s)\n",
        "\"\"\""
      ],
      "outputs": [
        {
          "output_type": "execute_result",
          "data": {
            "text/plain": [
              "'\\nfor iterating_variable in sequence:\\n    statement(s)\\n'"
            ],
            "application/vnd.google.colaboratory.intrinsic+json": {
              "type": "string"
            }
          },
          "metadata": {},
          "execution_count": 29
        }
      ],
      "metadata": {
        "colab": {
          "base_uri": "https://localhost:8080/",
          "height": 35
        },
        "id": "Jeln_5cCrP4W",
        "outputId": "b2aafb5f-e5b4-48d2-93e4-f36adb15da7b"
      }
    },
    {
      "cell_type": "markdown",
      "source": [
        "|Loop Type|Description|\n",
        "|----|-----|\n",
        "|`for in` loop | repeats a statement or group of statements finite number of time |\n",
        "|`while` loop | tests condition before executing loop body, repeats a statement or group of statements while a given condition is true |\n",
        "|`nested` loop  | loop inside a loop |"
      ],
      "metadata": {
        "id": "zKF8RVOJrP4W"
      }
    },
    {
      "cell_type": "markdown",
      "source": [
        "# **When to use `while` or `for` loops??** <br>\n",
        "Say your Girlfriend or Boyfriend is mad at you and they asked you to say sorry, but there are two more condition here given by them:\n",
        "* say sorry 1000 times, now you know end point i.e. 1000 => `use for loop`\n",
        "* say sorry untill I say I love you, now you dont know end point, maybe she/he will never say I love you. => `use while loop` it will stop saying sorry untill condition is not met\n",
        "\n",
        "1. `We use for loop when we want to run a block of code certain number of times`\n",
        "2. `Code in while clause will be executed as long as while statement’s condition is True`"
      ],
      "metadata": {
        "id": "7Mo7XNVNrP4W"
      }
    },
    {
      "cell_type": "markdown",
      "source": [
        "# `Why we need Loops?` <br>\n",
        "Say your Girfriend/Boyfriend is Mad at you and she want you to write sorry 1000 times. What to do now????? Write a `for loop`"
      ],
      "metadata": {
        "id": "LQwybYuNrP4X"
      }
    },
    {
      "cell_type": "markdown",
      "source": [
        "|Pseudo Code for above will be\n",
        "|----|\n",
        "print 'Sorry My love' (repeat 1000 times)"
      ],
      "metadata": {
        "id": "yGTJuxZarP4X"
      }
    },
    {
      "cell_type": "code",
      "execution_count": 30,
      "source": [
        "\"\"\"\n",
        "for iterating_variable in sequence:\n",
        "    statement(s)\n",
        "\"\"\""
      ],
      "outputs": [
        {
          "output_type": "execute_result",
          "data": {
            "text/plain": [
              "'\\nfor iterating_variable in sequence:\\n    statement(s)\\n'"
            ],
            "application/vnd.google.colaboratory.intrinsic+json": {
              "type": "string"
            }
          },
          "metadata": {},
          "execution_count": 30
        }
      ],
      "metadata": {
        "colab": {
          "base_uri": "https://localhost:8080/",
          "height": 35
        },
        "id": "UsOavUkNrP4X",
        "outputId": "c6f5d5c1-4f4c-4ef9-cf72-84c09a47e2cd"
      }
    },
    {
      "cell_type": "code",
      "execution_count": 31,
      "source": [
        "for iterating_variable in range(10):\n",
        "    print(iterating_variable)"
      ],
      "outputs": [
        {
          "output_type": "stream",
          "name": "stdout",
          "text": [
            "0\n",
            "1\n",
            "2\n",
            "3\n",
            "4\n",
            "5\n",
            "6\n",
            "7\n",
            "8\n",
            "9\n"
          ]
        }
      ],
      "metadata": {
        "execution": {
          "iopub.status.busy": "2021-12-14T05:27:42.973933Z",
          "iopub.execute_input": "2021-12-14T05:27:42.974824Z",
          "iopub.status.idle": "2021-12-14T05:27:42.981157Z",
          "shell.execute_reply.started": "2021-12-14T05:27:42.97478Z",
          "shell.execute_reply": "2021-12-14T05:27:42.980185Z"
        },
        "trusted": true,
        "colab": {
          "base_uri": "https://localhost:8080/"
        },
        "id": "v3DtstO3rP4X",
        "outputId": "5c3ceb06-e57d-48ca-9e48-6e0f81b150c0"
      }
    },
    {
      "cell_type": "code",
      "execution_count": 32,
      "source": [
        "# print '🔥 Sorry My Love🔥' 10 times using for loop\n",
        "for i in range(10):\n",
        "    print('🔥 Sorry My Love🔥')\n",
        "\n",
        "# for now i am giving range of 10 you can give any number you want\n",
        "\n",
        "\n"
      ],
      "outputs": [
        {
          "output_type": "stream",
          "name": "stdout",
          "text": [
            "🔥 Sorry My Love🔥\n",
            "🔥 Sorry My Love🔥\n",
            "🔥 Sorry My Love🔥\n",
            "🔥 Sorry My Love🔥\n",
            "🔥 Sorry My Love🔥\n",
            "🔥 Sorry My Love🔥\n",
            "🔥 Sorry My Love🔥\n",
            "🔥 Sorry My Love🔥\n",
            "🔥 Sorry My Love🔥\n",
            "🔥 Sorry My Love🔥\n"
          ]
        }
      ],
      "metadata": {
        "execution": {
          "iopub.status.busy": "2021-12-14T05:29:31.818325Z",
          "iopub.execute_input": "2021-12-14T05:29:31.818786Z",
          "iopub.status.idle": "2021-12-14T05:29:31.825965Z",
          "shell.execute_reply.started": "2021-12-14T05:29:31.818752Z",
          "shell.execute_reply": "2021-12-14T05:29:31.82532Z"
        },
        "trusted": true,
        "colab": {
          "base_uri": "https://localhost:8080/"
        },
        "id": "nD9f1mMwrP4X",
        "outputId": "046fcfda-7226-415e-d8ea-d92bb8472dbc"
      }
    },
    {
      "cell_type": "markdown",
      "source": [
        "`10` => `stoping criteria` of, for loop"
      ],
      "metadata": {
        "id": "F10cQq2RrP4X"
      }
    },
    {
      "cell_type": "code",
      "execution_count": 33,
      "source": [
        "# Syntax of for loop\n",
        "\"\"\"\n",
        "for iterating_variable in sequence:\n",
        "    statements(s)\n",
        "\"\"\""
      ],
      "outputs": [
        {
          "output_type": "execute_result",
          "data": {
            "text/plain": [
              "'\\nfor iterating_variable in sequence:\\n    statements(s)\\n'"
            ],
            "application/vnd.google.colaboratory.intrinsic+json": {
              "type": "string"
            }
          },
          "metadata": {},
          "execution_count": 33
        }
      ],
      "metadata": {
        "execution": {
          "iopub.status.busy": "2021-12-11T05:18:11.228902Z",
          "iopub.status.idle": "2021-12-11T05:18:11.229189Z",
          "shell.execute_reply.started": "2021-12-11T05:18:11.229019Z",
          "shell.execute_reply": "2021-12-11T05:18:11.229034Z"
        },
        "trusted": true,
        "colab": {
          "base_uri": "https://localhost:8080/",
          "height": 35
        },
        "id": "uCzvC6tnrP4X",
        "outputId": "2e995c49-924a-4a5f-a63e-a9da07c7745e"
      }
    },
    {
      "cell_type": "markdown",
      "source": [
        "* `in` => keyword\n",
        "* `sequence` => on which to itterate\n",
        "* `:` => colon , start of for loop"
      ],
      "metadata": {
        "id": "sYmBZqXkrP4X"
      }
    },
    {
      "cell_type": "markdown",
      "source": [
        "|Pseudo Code `while` loop|\n",
        "|---|\n",
        "while reply != 'I love you':\n",
        "....keep repeating until\n",
        "....caparison gives False"
      ],
      "metadata": {
        "id": "kKybOmM2rP4X"
      }
    },
    {
      "cell_type": "markdown",
      "source": [
        "`!=` = not equall to => `behaves as a stoping criteria`"
      ],
      "metadata": {
        "id": "nR0WJpXwrP4X"
      }
    },
    {
      "cell_type": "code",
      "execution_count": 34,
      "source": [
        "# Syntax of while loop\n",
        "\"\"\"\n",
        "while comparison:\n",
        "    statements(s)\n",
        "\"\"\""
      ],
      "outputs": [
        {
          "output_type": "execute_result",
          "data": {
            "text/plain": [
              "'\\nwhile comparison:\\n    statements(s)\\n'"
            ],
            "application/vnd.google.colaboratory.intrinsic+json": {
              "type": "string"
            }
          },
          "metadata": {},
          "execution_count": 34
        }
      ],
      "metadata": {
        "execution": {
          "iopub.status.busy": "2021-12-11T05:18:11.230229Z",
          "iopub.status.idle": "2021-12-11T05:18:11.230505Z",
          "shell.execute_reply.started": "2021-12-11T05:18:11.230358Z",
          "shell.execute_reply": "2021-12-11T05:18:11.230373Z"
        },
        "trusted": true,
        "id": "vYJsdLnerP4Y",
        "colab": {
          "base_uri": "https://localhost:8080/",
          "height": 35
        },
        "outputId": "51c71d70-7740-4bad-abe7-4960605f9b1d"
      }
    },
    {
      "cell_type": "code",
      "execution_count": 35,
      "source": [
        "# while loop\n",
        "\n",
        "# save 0 in variable number\n",
        "number = 0\n",
        "\n",
        "# print bellow result using while loop\n",
        "while number < 7:\n",
        "    print(number)\n",
        "    number = number + 1\n"
      ],
      "outputs": [
        {
          "output_type": "stream",
          "name": "stdout",
          "text": [
            "0\n",
            "1\n",
            "2\n",
            "3\n",
            "4\n",
            "5\n",
            "6\n"
          ]
        }
      ],
      "metadata": {
        "execution": {
          "iopub.status.busy": "2021-12-14T05:32:44.799592Z",
          "iopub.execute_input": "2021-12-14T05:32:44.799916Z",
          "iopub.status.idle": "2021-12-14T05:32:44.807523Z",
          "shell.execute_reply.started": "2021-12-14T05:32:44.799882Z",
          "shell.execute_reply": "2021-12-14T05:32:44.806458Z"
        },
        "trusted": true,
        "id": "No1lV66XrP4Y",
        "colab": {
          "base_uri": "https://localhost:8080/"
        },
        "outputId": "e17f55a4-fd59-47ca-e9d9-ebf6c849347a"
      }
    },
    {
      "cell_type": "markdown",
      "source": [
        "* Initialized variable `number = 0` and then increment it's value in each iteration\n",
        "* Loop will only continue to run only if value is less than 7"
      ],
      "metadata": {
        "id": "9oFT7qEjrP4Y"
      }
    },
    {
      "cell_type": "markdown",
      "source": [
        "# 3. **`Nested loop`**"
      ],
      "metadata": {
        "execution": {
          "iopub.status.busy": "2021-12-10T09:38:54.720379Z",
          "iopub.execute_input": "2021-12-10T09:38:54.720729Z",
          "iopub.status.idle": "2021-12-10T09:38:54.729647Z",
          "shell.execute_reply.started": "2021-12-10T09:38:54.720691Z",
          "shell.execute_reply": "2021-12-10T09:38:54.728479Z"
        },
        "id": "8510bIUSrP4Y"
      }
    },
    {
      "cell_type": "code",
      "execution_count": 36,
      "source": [
        "# run it see the output\n",
        "for outer_loop_number in range(1,3):\n",
        "    print(outer_loop_number)"
      ],
      "outputs": [
        {
          "output_type": "stream",
          "name": "stdout",
          "text": [
            "1\n",
            "2\n"
          ]
        }
      ],
      "metadata": {
        "execution": {
          "iopub.status.busy": "2021-12-14T05:43:57.12841Z",
          "iopub.execute_input": "2021-12-14T05:43:57.128724Z",
          "iopub.status.idle": "2021-12-14T05:43:57.134926Z",
          "shell.execute_reply.started": "2021-12-14T05:43:57.128693Z",
          "shell.execute_reply": "2021-12-14T05:43:57.1341Z"
        },
        "trusted": true,
        "id": "SaYaNtm_rP4Y",
        "colab": {
          "base_uri": "https://localhost:8080/"
        },
        "outputId": "6a5cf8b7-68db-49a7-9299-4f13ff226c0f"
      }
    },
    {
      "cell_type": "code",
      "execution_count": 37,
      "source": [
        "# run it see the output\n",
        "for inner_loop_character in \"CloudyML\":\n",
        "    print(inner_loop_character)"
      ],
      "outputs": [
        {
          "output_type": "stream",
          "name": "stdout",
          "text": [
            "C\n",
            "l\n",
            "o\n",
            "u\n",
            "d\n",
            "y\n",
            "M\n",
            "L\n"
          ]
        }
      ],
      "metadata": {
        "execution": {
          "iopub.status.busy": "2021-12-14T05:44:39.12929Z",
          "iopub.execute_input": "2021-12-14T05:44:39.129675Z",
          "iopub.status.idle": "2021-12-14T05:44:39.137127Z",
          "shell.execute_reply.started": "2021-12-14T05:44:39.129641Z",
          "shell.execute_reply": "2021-12-14T05:44:39.135798Z"
        },
        "trusted": true,
        "id": "8E_8V-_3rP4Y",
        "colab": {
          "base_uri": "https://localhost:8080/"
        },
        "outputId": "06648d24-edcb-49ce-ab56-0350f55d26dc"
      }
    },
    {
      "cell_type": "code",
      "execution_count": 38,
      "source": [
        "from typing import Text\n",
        "# print this patern using outer and inner loop\n",
        "text = \"CloudyML\"\n",
        "\n",
        "# Outer loop for line numbers\n",
        "for line_number in range(1, 3):  # Adjust the range as needed\n",
        "    # Inner loop for each character in the string\n",
        "    for character in text:\n",
        "        print(f\"{line_number} {character}\")"
      ],
      "outputs": [
        {
          "output_type": "stream",
          "name": "stdout",
          "text": [
            "1 C\n",
            "1 l\n",
            "1 o\n",
            "1 u\n",
            "1 d\n",
            "1 y\n",
            "1 M\n",
            "1 L\n",
            "2 C\n",
            "2 l\n",
            "2 o\n",
            "2 u\n",
            "2 d\n",
            "2 y\n",
            "2 M\n",
            "2 L\n"
          ]
        }
      ],
      "metadata": {
        "execution": {
          "iopub.status.busy": "2021-12-14T05:45:07.376268Z",
          "iopub.execute_input": "2021-12-14T05:45:07.376594Z",
          "iopub.status.idle": "2021-12-14T05:45:07.387369Z",
          "shell.execute_reply.started": "2021-12-14T05:45:07.376561Z",
          "shell.execute_reply": "2021-12-14T05:45:07.385704Z"
        },
        "trusted": true,
        "id": "VYeJ7UT3rP4Y",
        "colab": {
          "base_uri": "https://localhost:8080/"
        },
        "outputId": "de253afa-0367-4019-fcc1-0733d15a9ccb"
      }
    },
    {
      "cell_type": "markdown",
      "source": [
        "`See For each step in outer loop, inner loop exectues completely`"
      ],
      "metadata": {
        "id": "VDXKoxndrP4Y"
      }
    },
    {
      "cell_type": "code",
      "execution_count": 39,
      "source": [
        "# think what will be the output of this code and then run it\n",
        "# comment why this out is the way it is\n",
        "\n",
        "for letter in 'cloudyml':\n",
        "    if (letter == 'c') or (letter == 'o'):\n",
        "        print('m', end= ' ')\n",
        "    else:\n",
        "        print(letter,end= 'x')\n",
        "        print('m')"
      ],
      "outputs": [
        {
          "output_type": "stream",
          "name": "stdout",
          "text": [
            "m lxm\n",
            "m uxm\n",
            "dxm\n",
            "yxm\n",
            "mxm\n",
            "lxm\n"
          ]
        }
      ],
      "metadata": {
        "execution": {
          "iopub.status.busy": "2021-12-11T05:18:11.234623Z",
          "iopub.status.idle": "2021-12-11T05:18:11.234923Z",
          "shell.execute_reply.started": "2021-12-11T05:18:11.234773Z",
          "shell.execute_reply": "2021-12-11T05:18:11.234789Z"
        },
        "trusted": true,
        "id": "wY98D_7BrP4Y",
        "colab": {
          "base_uri": "https://localhost:8080/"
        },
        "outputId": "dffe3ffe-2cd6-497c-8675-4a78bc107d2e"
      }
    },
    {
      "cell_type": "markdown",
      "source": [
        "Your Comment: => -------"
      ],
      "metadata": {
        "id": "AiELZ4y9jaYG"
      }
    },
    {
      "cell_type": "code",
      "execution_count": 40,
      "source": [
        "# think what will be the output of this code and then run it\n",
        "# comment why this out is the way it is\n",
        "num = 10\n",
        "while num > 5:\n",
        "    print(num,end= ' ')\n",
        "    num = num - 1\n",
        "    if num == 8:\n",
        "        num = 2\n",
        "        print(num,end= ' ')\n",
        ""
      ],
      "outputs": [
        {
          "output_type": "stream",
          "name": "stdout",
          "text": [
            "10 9 2 "
          ]
        }
      ],
      "metadata": {
        "execution": {
          "iopub.status.busy": "2021-12-11T05:18:11.235984Z",
          "iopub.status.idle": "2021-12-11T05:18:11.236307Z",
          "shell.execute_reply.started": "2021-12-11T05:18:11.23614Z",
          "shell.execute_reply": "2021-12-11T05:18:11.236156Z"
        },
        "trusted": true,
        "id": "n8YN-ajLrP4Z",
        "colab": {
          "base_uri": "https://localhost:8080/"
        },
        "outputId": "30fbf566-cd6d-4244-ab53-0a35a6e89d04"
      }
    },
    {
      "cell_type": "markdown",
      "source": [
        "Your Comment: => -------"
      ],
      "metadata": {
        "id": "tpJnrvlnjwHf"
      }
    },
    {
      "cell_type": "markdown",
      "source": [
        "<a id='9'></a><center> <h3 style=\"background-color:orange; color:white\" ><br>Jump Statements<br></h3>"
      ],
      "metadata": {
        "id": "CsIxN6mUrP4Z"
      }
    },
    {
      "cell_type": "markdown",
      "source": [
        "# **`Type of Jump Statements`** <br>\n",
        "1. `Break Statement`\n",
        "2. `Continue Statement`\n",
        "3. `Pass Statement`"
      ],
      "metadata": {
        "id": "ZFHHxSeqrP4Z"
      }
    },
    {
      "cell_type": "markdown",
      "source": [
        "Using for loops and while loops in Python allow you to automate and repeat tasks in an efficient manner.\n",
        "\n",
        "* But sometimes, an external factor may influence the way your program runs. When this occurs, you may want your program to `exit a loop completely`, `skip part of a loop before continuing`, or `ignore that external factor`\n",
        "\n",
        "`You can do these actions with **Break** and **Continue** Statements`"
      ],
      "metadata": {
        "id": "Mai0WKJ7rP4Z"
      }
    },
    {
      "cell_type": "code",
      "execution_count": 41,
      "source": [
        "'''\n",
        "pass\n",
        "\n",
        "break\n",
        "\n",
        "continue\n",
        "'''"
      ],
      "outputs": [
        {
          "output_type": "execute_result",
          "data": {
            "text/plain": [
              "'\\npass\\n\\nbreak\\n\\ncontinue\\n'"
            ],
            "application/vnd.google.colaboratory.intrinsic+json": {
              "type": "string"
            }
          },
          "metadata": {},
          "execution_count": 41
        }
      ],
      "metadata": {
        "id": "0bu4vLAJrP4Z",
        "colab": {
          "base_uri": "https://localhost:8080/",
          "height": 35
        },
        "outputId": "2161de25-6e63-474d-a0ed-46da71890a5a"
      }
    },
    {
      "cell_type": "markdown",
      "source": [
        "# 1. **`Break Statement`**\n"
      ],
      "metadata": {
        "id": "2TlMjfJVrP4a"
      }
    },
    {
      "cell_type": "code",
      "execution_count": 42,
      "source": [
        "# observe the output\n",
        "for num in range(10):\n",
        "    print(num)"
      ],
      "outputs": [
        {
          "output_type": "stream",
          "name": "stdout",
          "text": [
            "0\n",
            "1\n",
            "2\n",
            "3\n",
            "4\n",
            "5\n",
            "6\n",
            "7\n",
            "8\n",
            "9\n"
          ]
        }
      ],
      "metadata": {
        "execution": {
          "iopub.status.busy": "2021-12-14T08:27:20.070203Z",
          "iopub.execute_input": "2021-12-14T08:27:20.070741Z",
          "iopub.status.idle": "2021-12-14T08:27:20.077102Z",
          "shell.execute_reply.started": "2021-12-14T08:27:20.070699Z",
          "shell.execute_reply": "2021-12-14T08:27:20.076404Z"
        },
        "trusted": true,
        "id": "MYsORtlrrP4a",
        "colab": {
          "base_uri": "https://localhost:8080/"
        },
        "outputId": "189ec520-05f3-43a0-e7b6-64d1a6ff4d43"
      }
    },
    {
      "cell_type": "code",
      "execution_count": 43,
      "source": [
        "# example that uses break statement in a for loop\n",
        "num = 0\n",
        "for num in range(10):\n",
        "    if num == 5:\n",
        "         pass#break when num == 5\n",
        "    print('The number is' + str(num))\n",
        "print('Out of loop')\n",
        "# Explain Why the output is the way it is"
      ],
      "outputs": [
        {
          "output_type": "stream",
          "name": "stdout",
          "text": [
            "The number is0\n",
            "The number is1\n",
            "The number is2\n",
            "The number is3\n",
            "The number is4\n",
            "The number is5\n",
            "The number is6\n",
            "The number is7\n",
            "The number is8\n",
            "The number is9\n",
            "Out of loop\n"
          ]
        }
      ],
      "metadata": {
        "execution": {
          "iopub.status.busy": "2021-12-14T09:25:34.609121Z",
          "iopub.execute_input": "2021-12-14T09:25:34.60943Z",
          "iopub.status.idle": "2021-12-14T09:25:34.617876Z",
          "shell.execute_reply.started": "2021-12-14T09:25:34.609398Z",
          "shell.execute_reply": "2021-12-14T09:25:34.616894Z"
        },
        "trusted": true,
        "id": "9E-BFzqUrP4a",
        "colab": {
          "base_uri": "https://localhost:8080/"
        },
        "outputId": "81f35168-a79e-4f6f-8108-9ae4dc2bf7a5"
      }
    },
    {
      "cell_type": "markdown",
      "source": [
        "Your Comment: => -------"
      ],
      "metadata": {
        "id": "-OvOEgwGkGh1"
      }
    },
    {
      "cell_type": "markdown",
      "source": [
        "# 2. **`Continue Statement`**\n"
      ],
      "metadata": {
        "id": "oPN-KW8ErP4a"
      }
    },
    {
      "cell_type": "code",
      "execution_count": 44,
      "source": [
        "# Using same `for loop program` as in Break Statement section above, we’ll use a continue statement rather than a break statement\n",
        "num = 0\n",
        "\n",
        "for num in range(10):\n",
        "    if num == 5:\n",
        "        continue #keep running if num == 5\n",
        "    print('The number is' + str(num))\n",
        "\n",
        "print('Out of loop')\n",
        "\n",
        "\n",
        "# Explain Why the output is the way it is"
      ],
      "outputs": [
        {
          "output_type": "stream",
          "name": "stdout",
          "text": [
            "The number is0\n",
            "The number is1\n",
            "The number is2\n",
            "The number is3\n",
            "The number is4\n",
            "The number is6\n",
            "The number is7\n",
            "The number is8\n",
            "The number is9\n",
            "Out of loop\n"
          ]
        }
      ],
      "metadata": {
        "execution": {
          "iopub.status.busy": "2021-12-14T06:14:44.160579Z",
          "iopub.execute_input": "2021-12-14T06:14:44.160916Z",
          "iopub.status.idle": "2021-12-14T06:14:44.169578Z",
          "shell.execute_reply.started": "2021-12-14T06:14:44.160884Z",
          "shell.execute_reply": "2021-12-14T06:14:44.168622Z"
        },
        "trusted": true,
        "id": "I7RGHGcDrP4a",
        "colab": {
          "base_uri": "https://localhost:8080/"
        },
        "outputId": "797e6985-fbbb-4d07-a51b-64be6e9babc2"
      }
    },
    {
      "cell_type": "markdown",
      "source": [
        "Your Comment: => -------"
      ],
      "metadata": {
        "id": "FqKoSmjUkfSc"
      }
    },
    {
      "cell_type": "code",
      "execution_count": 45,
      "source": [
        "# Using same code block as above, let’s replace break or continue statement with a pass statement\n",
        "num = 0\n",
        "\n",
        "for num in range(10):\n",
        "    if num == 5:\n",
        "        pass    # pass then\n",
        "    print('Number is ' + str(num))\n",
        "print('Out of loop')\n",
        "\n",
        "\n",
        "# Explain Why the output is the way it is\n",
        "#the loop break"
      ],
      "outputs": [
        {
          "output_type": "stream",
          "name": "stdout",
          "text": [
            "Number is 0\n",
            "Number is 1\n",
            "Number is 2\n",
            "Number is 3\n",
            "Number is 4\n",
            "Number is 5\n",
            "Number is 6\n",
            "Number is 7\n",
            "Number is 8\n",
            "Number is 9\n",
            "Out of loop\n"
          ]
        }
      ],
      "metadata": {
        "execution": {
          "iopub.status.busy": "2021-12-14T08:11:16.489389Z",
          "iopub.execute_input": "2021-12-14T08:11:16.489676Z",
          "iopub.status.idle": "2021-12-14T08:11:16.496652Z",
          "shell.execute_reply.started": "2021-12-14T08:11:16.489646Z",
          "shell.execute_reply": "2021-12-14T08:11:16.495911Z"
        },
        "trusted": true,
        "id": "QOW1z0udrP4b",
        "colab": {
          "base_uri": "https://localhost:8080/"
        },
        "outputId": "d23852f8-98b8-48bd-b1aa-7a0df9f358c3"
      }
    },
    {
      "cell_type": "markdown",
      "source": [
        "Your Comment: => -------"
      ],
      "metadata": {
        "id": "tAreE2KtrP4b"
      }
    },
    {
      "cell_type": "markdown",
      "source": [
        "<a id='10'></a><center> <h3 style=\"background-color:orange; color:white\" ><br>Assignment Loops and Jump Statements<br></h3>\n"
      ],
      "metadata": {
        "id": "z7Mr7CDerP4b"
      }
    },
    {
      "cell_type": "markdown",
      "source": [
        "# 💬 ***Problem Statement-1:***\n",
        "\n",
        "* User will enter password which is set to be `qwert`\n",
        "* If password matches, print ***`Welcome to CloudyML Course!!`*** else print ***`Wrong Password!!`*** and user will re-enter password\n",
        "* In `fourth` trial, it will print ***`One Last Trial left!!!`***\n",
        "\n",
        "Hint: `Break Statement` can be used"
      ],
      "metadata": {
        "id": "0nJZ8yTqrP4b"
      }
    },
    {
      "cell_type": "code",
      "source": [
        "correct_password = \"qwert\"\n",
        "max_attempts = 4\n",
        "\n",
        "for attempt in range(1, max_attempts + 1):\n",
        "    password = input(\"Enter password: \")\n",
        "\n",
        "    if password == correct_password:\n",
        "        print(\"Welcome to CloudyML Course!!\")\n",
        "        break\n",
        "    else:\n",
        "        if attempt == max_attempts:\n",
        "            print(\"Wrong Password!!\")\n",
        "            print(\"One Last Trial left!!!\")\n",
        "        else:\n",
        "            print(\"Wrong Password!!\")\n"
      ],
      "metadata": {
        "colab": {
          "base_uri": "https://localhost:8080/"
        },
        "id": "L_ODm-XpQWZh",
        "outputId": "6998246e-683f-4c73-8e98-a26341531aa7"
      },
      "execution_count": 46,
      "outputs": [
        {
          "output_type": "stream",
          "name": "stdout",
          "text": [
            "Enter password: qwerty\n",
            "Wrong Password!!\n",
            "Enter password: qwertyu\n",
            "Wrong Password!!\n",
            "Enter password: qwert\n",
            "Welcome to CloudyML Course!!\n"
          ]
        }
      ]
    },
    {
      "cell_type": "code",
      "execution_count": 47,
      "source": [
        "password = \"qwert\"\n",
        "max_attempts = 4\n",
        "\n",
        "for attempt in range(1, max_attempts + 1):\n",
        "    password = input(\"Enter password: \")\n",
        "\n",
        "    if password == correct_password:\n",
        "        print(\"Welcome to CloudyML Course!!\")\n",
        "        break\n",
        "    else:\n",
        "        if attempt == max_attempts:\n",
        "            print(\"Wrong Password!!\")\n",
        "            print(\"One Last Trial left!!!\")\n",
        "        else:\n",
        "            print(\"Wrong Password!!\")\n",
        "\n",
        "\n",
        "\n"
      ],
      "outputs": [
        {
          "output_type": "stream",
          "name": "stdout",
          "text": [
            "Enter password: qwert\n",
            "Welcome to CloudyML Course!!\n"
          ]
        }
      ],
      "metadata": {
        "execution": {
          "iopub.status.busy": "2021-12-11T05:18:11.242989Z",
          "iopub.status.idle": "2021-12-11T05:18:11.243372Z",
          "shell.execute_reply.started": "2021-12-11T05:18:11.243182Z",
          "shell.execute_reply": "2021-12-11T05:18:11.243211Z"
        },
        "trusted": true,
        "id": "3TfEntL3rP4b",
        "colab": {
          "base_uri": "https://localhost:8080/"
        },
        "outputId": "164dc104-677e-4a5d-e050-a097e601fa3c"
      }
    },
    {
      "cell_type": "markdown",
      "source": [
        "....."
      ],
      "metadata": {
        "id": "D7sqvuiNrP4b"
      }
    },
    {
      "cell_type": "markdown",
      "source": [
        "# 💬 ***Problem Statement-2:***\n",
        "\n",
        "* Enter password which is an OTP set to be `1008`\n",
        "* If OTP matches, It will ask user to provide details like ***`Enter Your Name:`*** and ***`Enter Your City:`*** and user will re-enter OTP\n",
        "* In `fourth` trial, it will print ***`One Last Trial left!!!`***\n",
        "\n",
        "`Hint:` Continue Statement can be used"
      ],
      "metadata": {
        "id": "hNE2e0YBrP4b"
      }
    },
    {
      "cell_type": "code",
      "execution_count": 48,
      "source": [
        "OTP = \"1008\"\n",
        "max_attempts = 4\n",
        "\n",
        "for attempt in range(1, max_attempts + 1):\n",
        "    password = input(\"Enter password: \")\n",
        "    if password == OTP:\n",
        "        name = input(\"Enter Your Name: \")\n",
        "        city = input(\"Enter Your City: \")\n",
        "        print(\"Welcome to CloudyML Course!!\")\n",
        "        break\n",
        "else:\n",
        "        if attempt == max_attempts:\n",
        "            print(\"Wrong Password!!\")\n",
        "            print(\"One Last Trial left!!!\")\n",
        "        else:\n",
        "            print(\"Wrong Password!!\")\n",
        "            print(\"Welcome to CloudyML Course!!\")\n",
        "\n",
        "\n",
        "\n",
        "\n",
        "\n",
        "\n",
        "\n",
        "\n"
      ],
      "outputs": [
        {
          "output_type": "stream",
          "name": "stdout",
          "text": [
            "Enter password: 1002\n",
            "Enter password: 1003\n",
            "Enter password: 1004\n",
            "Enter password: 1005\n",
            "Wrong Password!!\n",
            "One Last Trial left!!!\n"
          ]
        }
      ],
      "metadata": {
        "execution": {
          "iopub.status.busy": "2021-12-11T05:18:11.245219Z",
          "iopub.status.idle": "2021-12-11T05:18:11.245617Z",
          "shell.execute_reply.started": "2021-12-11T05:18:11.245461Z",
          "shell.execute_reply": "2021-12-11T05:18:11.245478Z"
        },
        "trusted": true,
        "id": "PI9ZTGG6rP4b",
        "colab": {
          "base_uri": "https://localhost:8080/"
        },
        "outputId": "9be74069-7923-4c65-a765-88c76fa66c94"
      }
    },
    {
      "cell_type": "markdown",
      "source": [
        "<a id='11'></a><center> <h3 style=\"background-color:orange; color:white\" ><br>Python Data Structures<br></h3>\n",
        "\n"
      ],
      "metadata": {
        "id": "mepQLZjcrP4b"
      }
    },
    {
      "cell_type": "markdown",
      "source": [
        "Existing Data Type: int, float, bool, str\n",
        "\n",
        "Problem with Existing Data Type:\n",
        "* Only single data type can be stored in a variable i.e. either int or decimal or str\n",
        "* To store more data we need more variables\n",
        "    * Eg: You have 100 name and age then you have to make 200 variables, valid for condition if you are not using DataStructure\n",
        "    \n",
        "    \n",
        "`Data Structure Solves` above problem\n",
        "\n",
        "# **`Properties of Data Structure:`**\n",
        "* Efficient Storage for large data\n",
        "* Should allow Manipulation/Operations on data\n",
        "* Should mantain underlying relationship of data\n",
        "If these three properties are available then you can call it a Data Structure\n",
        "\n",
        "\n",
        "# `Types of Data Structures:`\n",
        "* `List` => ordered => elements seprated by comma => enclosed with square brackets-[]\n",
        "* `Tuple`\n",
        "* `Set`\n",
        "* `Dictionary`"
      ],
      "metadata": {
        "id": "1A84HNVLrP4c"
      }
    },
    {
      "cell_type": "markdown",
      "source": [
        "|Data Structures type|Mutable|Comments|Indexing|Ordered|Duplicacy|\n",
        "|----|----|----|----|----|----|\n",
        "frozenset|immutable|immutable version of set|- |- |- |\n",
        "tuple ()|immutable|immutable version of list| possible|yes |allowed |\n",
        "list []|mutable|-|possible |yes | allowed |\n",
        "set {}|mutable| -|not |no |not |\n",
        "dict {key:value}|mutable|-|possible |no |not  |"
      ],
      "metadata": {
        "id": "2mYBzcjXrP4c"
      }
    },
    {
      "cell_type": "markdown",
      "source": [
        "💫 `immutable` => `can't be changed` <br>\n",
        "💫 `mutable` => `can be changed`"
      ],
      "metadata": {
        "id": "XbJv8WOprP4c"
      }
    },
    {
      "cell_type": "markdown",
      "source": [
        "---"
      ],
      "metadata": {
        "id": "hxNFx7omrP4c"
      }
    },
    {
      "cell_type": "markdown",
      "source": [
        "\n",
        "# **`List`**"
      ],
      "metadata": {
        "id": "1WlRcrHGrP4c"
      }
    },
    {
      "cell_type": "code",
      "execution_count": 49,
      "source": [
        "# make a list, name it as names with values ram','ohm','da','ada','asdasd'\n",
        "\n",
        "# make a list, name it as roll_no with values 21,23,435,65,565,656\n",
        "\n",
        "# make a list, name it as scores  with values 23,2323,2323,234324,3423\n",
        "# List of names\n",
        "names = ['ram', 'ohm', 'da', 'ada', 'asdasd']\n",
        "\n",
        "# List of roll numbers\n",
        "roll_no = [21, 23, 435, 65, 565, 656]\n",
        "\n",
        "# List of scores\n",
        "scores = [23, 2323, 2323, 234324, 3423]\n",
        "\n",
        "\n"
      ],
      "outputs": [],
      "metadata": {
        "execution": {
          "iopub.status.busy": "2021-12-13T08:21:05.502536Z",
          "iopub.execute_input": "2021-12-13T08:21:05.502988Z",
          "iopub.status.idle": "2021-12-13T08:21:05.510594Z",
          "shell.execute_reply.started": "2021-12-13T08:21:05.502944Z",
          "shell.execute_reply": "2021-12-13T08:21:05.50956Z"
        },
        "trusted": true,
        "id": "7SFfVkH0rP4c"
      }
    },
    {
      "cell_type": "code",
      "execution_count": 71,
      "source": [
        "# make a list with Single data type - str\n",
        "# name of list names_list with values as 'krishna','mahadev','surya'\n",
        "\n",
        "# print type of names_list\n",
        "# Create a list with string elements\n",
        "names_list = ['krishna', 'mahadev', 'surya']\n",
        "\n",
        "# Print the type of names_list\n",
        "print(type(names_list))\n",
        "\n",
        "\n",
        "\n",
        "\n"
      ],
      "outputs": [
        {
          "output_type": "stream",
          "name": "stdout",
          "text": [
            "<class 'list'>\n"
          ]
        }
      ],
      "metadata": {
        "execution": {
          "iopub.status.busy": "2021-12-11T12:31:37.805778Z",
          "iopub.execute_input": "2021-12-11T12:31:37.80606Z",
          "iopub.status.idle": "2021-12-11T12:31:37.812504Z",
          "shell.execute_reply.started": "2021-12-11T12:31:37.806032Z",
          "shell.execute_reply": "2021-12-11T12:31:37.811545Z"
        },
        "trusted": true,
        "id": "dyF1sb1jrP4c",
        "colab": {
          "base_uri": "https://localhost:8080/"
        },
        "outputId": "778bebe8-9bb3-45cd-95ed-1f740c96440e"
      }
    },
    {
      "cell_type": "code",
      "execution_count": 73,
      "source": [
        "# make a list with Mixed data type - str and int\n",
        "# name of list names_list with values as 'krishna','mahadev','surya',108,11,21\n",
        "\n",
        "# print type of names_list\n",
        "# Create a list with mixed data types: strings and integers\n",
        "names_list = ['krishna', 'mahadev', 'surya', 108, 11, 21]\n",
        "\n",
        "# Print the type of names_list\n",
        "print(type(names_list))\n",
        "print(type(108))\n",
        "\n",
        "\n",
        "\n",
        "\n"
      ],
      "outputs": [
        {
          "output_type": "stream",
          "name": "stdout",
          "text": [
            "<class 'list'>\n",
            "<class 'int'>\n"
          ]
        }
      ],
      "metadata": {
        "execution": {
          "iopub.status.busy": "2021-12-13T08:23:29.204091Z",
          "iopub.execute_input": "2021-12-13T08:23:29.204419Z",
          "iopub.status.idle": "2021-12-13T08:23:29.211906Z",
          "shell.execute_reply.started": "2021-12-13T08:23:29.20439Z",
          "shell.execute_reply": "2021-12-13T08:23:29.211239Z"
        },
        "trusted": true,
        "id": "1psLdZcUrP4d",
        "colab": {
          "base_uri": "https://localhost:8080/"
        },
        "outputId": "27eb1be1-df16-4688-984d-b587a6a49f1a"
      }
    },
    {
      "cell_type": "code",
      "execution_count": 74,
      "source": [
        "# access output element\n",
        "# access output element\n",
        "values = [1, 2, 3, 4, 5, 6, 7, 8, 9, 10]\n",
        "values = [1, 2, 3, 4, 5, 6, 7, 8, 9, 10]\n",
        "\n",
        "# Positive Indexing\n",
        "print(values[0])  # Output: 1 (first element)\n",
        "print(values[4])  # Output: 5 (fifth element)\n",
        "\n",
        "# Negative Indexing\n",
        "print(values[-1])  # Output: 10 (last element)\n",
        "print(values[-5])  # Output: 6 (fifth element from the end)\n",
        "\n",
        "\n"
      ],
      "outputs": [
        {
          "output_type": "stream",
          "name": "stdout",
          "text": [
            "1\n",
            "5\n",
            "10\n",
            "6\n"
          ]
        }
      ],
      "metadata": {
        "execution": {
          "iopub.status.busy": "2021-12-13T08:26:53.758993Z",
          "iopub.execute_input": "2021-12-13T08:26:53.759352Z",
          "iopub.status.idle": "2021-12-13T08:26:53.76578Z",
          "shell.execute_reply.started": "2021-12-13T08:26:53.759315Z",
          "shell.execute_reply": "2021-12-13T08:26:53.764799Z"
        },
        "trusted": true,
        "id": "m5_fowfPrP4d",
        "colab": {
          "base_uri": "https://localhost:8080/"
        },
        "outputId": "cc4773bf-4398-443f-8430-2d693fe3e87a"
      }
    },
    {
      "cell_type": "markdown",
      "source": [
        "`List Indexing:`\n",
        "\n",
        "\n",
        "|`Values`|1|2|3|4|5|6|7|8|9|10|\n",
        "|---|---|---|---|---|---|---|---|---|---|---|\n",
        "|`Indexing` |0 |1 |2 |3 |4 |5 |6 |7 |8|9|\n",
        "|`Negative Indexing`| -10 |-9 |-8 |-7 |-6 |-5 |-4 |-3 |-2 |-1|"
      ],
      "metadata": {
        "id": "J1ipDEgCrP4d"
      }
    },
    {
      "cell_type": "code",
      "execution_count": 75,
      "source": [
        "# extract single element i.e. last one using Negative Index (first element)\n",
        "# Define the list\n",
        "values = [1, 2, 3, 4, 5, 6, 7, 8, 9, 10]\n",
        "# Access the last element using negative indexing\n",
        "last_element = values[-1]\n",
        "# Print the last element\n",
        "print(\"Last element:\", last_element)\n",
        "\n"
      ],
      "outputs": [
        {
          "output_type": "stream",
          "name": "stdout",
          "text": [
            "Last element: 10\n"
          ]
        }
      ],
      "metadata": {
        "execution": {
          "iopub.status.busy": "2021-12-13T08:27:25.21688Z",
          "iopub.execute_input": "2021-12-13T08:27:25.217447Z",
          "iopub.status.idle": "2021-12-13T08:27:25.223883Z",
          "shell.execute_reply.started": "2021-12-13T08:27:25.21741Z",
          "shell.execute_reply": "2021-12-13T08:27:25.22327Z"
        },
        "trusted": true,
        "id": "TStBmS8jrP4d",
        "colab": {
          "base_uri": "https://localhost:8080/"
        },
        "outputId": "253c2a11-554a-4ffc-bdd8-a50ed66ec549"
      }
    },
    {
      "cell_type": "code",
      "execution_count": 76,
      "source": [
        "# Define the list\n",
        "values = [1, 2, 3, 4, 5, 6, 7, 8, 9, 10]\n",
        "\n",
        "# Access the first element using positive indexing\n",
        "first_element = values[0]\n",
        "\n",
        "# Print the first element\n",
        "print(\"First element:\", first_element)"
      ],
      "outputs": [
        {
          "output_type": "stream",
          "name": "stdout",
          "text": [
            "First element: 1\n"
          ]
        }
      ],
      "metadata": {
        "execution": {
          "iopub.status.busy": "2021-12-13T08:27:33.441702Z",
          "iopub.execute_input": "2021-12-13T08:27:33.441996Z",
          "iopub.status.idle": "2021-12-13T08:27:33.448369Z",
          "shell.execute_reply.started": "2021-12-13T08:27:33.441956Z",
          "shell.execute_reply": "2021-12-13T08:27:33.44729Z"
        },
        "trusted": true,
        "id": "wJIKlcwkrP4d",
        "colab": {
          "base_uri": "https://localhost:8080/"
        },
        "outputId": "c4b8071d-e83b-4356-c579-5f3e204cbd15"
      }
    },
    {
      "cell_type": "code",
      "execution_count": 77,
      "source": [
        "# extract sequence of elements using Index (first 3 elements)\n",
        "#=> [start index:end index] => exclude end index\n",
        "# Define the list\n",
        "values = [1, 2, 3, 4, 5, 6, 7, 8, 9, 10]\n",
        "\n",
        "# Extract the first three elements\n",
        "first_three = values[0:3]\n",
        "\n",
        "# Print the result\n",
        "print(first_three)\n",
        "\n",
        "\n",
        "\n",
        "\n"
      ],
      "outputs": [
        {
          "output_type": "stream",
          "name": "stdout",
          "text": [
            "[1, 2, 3]\n"
          ]
        }
      ],
      "metadata": {
        "execution": {
          "iopub.status.busy": "2021-12-13T08:27:55.214558Z",
          "iopub.execute_input": "2021-12-13T08:27:55.214857Z",
          "iopub.status.idle": "2021-12-13T08:27:55.22238Z",
          "shell.execute_reply.started": "2021-12-13T08:27:55.214827Z",
          "shell.execute_reply": "2021-12-13T08:27:55.221262Z"
        },
        "trusted": true,
        "id": "w-9l5PkXrP4d",
        "colab": {
          "base_uri": "https://localhost:8080/"
        },
        "outputId": "bf2918e9-e276-43e5-eaab-da5fe2dc5568"
      }
    },
    {
      "cell_type": "markdown",
      "source": [
        "## Membership Operators\n",
        "To check if particular element is present in list or not\n",
        "* Using `in` or `not in` to get answers of these type of queries"
      ],
      "metadata": {
        "id": "COPpT8hQrP4d"
      }
    },
    {
      "cell_type": "code",
      "execution_count": 78,
      "source": [
        "# see names_list data\n",
        "names_list = ['krishna', 'mahadev', 'surya']\n",
        "\n",
        "# Check if 'krishna' is in names_list\n",
        "print('krishna' in names_list)  # Output: True\n",
        "\n",
        "# Check if 'vishnu' is in names_list\n",
        "print('vishnu' in names_list)   # Output: False\n",
        "\n"
      ],
      "outputs": [
        {
          "output_type": "stream",
          "name": "stdout",
          "text": [
            "True\n",
            "False\n"
          ]
        }
      ],
      "metadata": {
        "execution": {
          "iopub.status.busy": "2021-12-13T08:30:00.340688Z",
          "iopub.execute_input": "2021-12-13T08:30:00.341103Z",
          "iopub.status.idle": "2021-12-13T08:30:00.347279Z",
          "shell.execute_reply.started": "2021-12-13T08:30:00.341069Z",
          "shell.execute_reply": "2021-12-13T08:30:00.346359Z"
        },
        "trusted": true,
        "id": "Y_8SDN1SrP4d",
        "colab": {
          "base_uri": "https://localhost:8080/"
        },
        "outputId": "c51e4b5a-eac8-4001-b2be-86e563c230ff"
      }
    },
    {
      "cell_type": "code",
      "execution_count": 79,
      "source": [
        "# see if 'mukesh' is in  names_list\n",
        "mukesh in names_list\n"
      ],
      "outputs": [
        {
          "output_type": "execute_result",
          "data": {
            "text/plain": [
              "False"
            ]
          },
          "metadata": {},
          "execution_count": 79
        }
      ],
      "metadata": {
        "execution": {
          "iopub.status.busy": "2021-12-13T08:30:23.982521Z",
          "iopub.execute_input": "2021-12-13T08:30:23.983164Z",
          "iopub.status.idle": "2021-12-13T08:30:23.988855Z",
          "shell.execute_reply.started": "2021-12-13T08:30:23.983128Z",
          "shell.execute_reply": "2021-12-13T08:30:23.987976Z"
        },
        "trusted": true,
        "id": "zAhq9WqsrP4d",
        "colab": {
          "base_uri": "https://localhost:8080/"
        },
        "outputId": "23286dee-9eea-40eb-a7ff-7d39c3fcc7c5"
      }
    },
    {
      "cell_type": "code",
      "source": [
        "# see if 'rawan' is notin names_list\n",
        "'rawan' in names_list"
      ],
      "metadata": {
        "colab": {
          "base_uri": "https://localhost:8080/"
        },
        "id": "nbqZ3qjaX9gd",
        "outputId": "caef4d59-cc70-4049-b9f9-9921c2328cc7"
      },
      "execution_count": 82,
      "outputs": [
        {
          "output_type": "execute_result",
          "data": {
            "text/plain": [
              "False"
            ]
          },
          "metadata": {},
          "execution_count": 82
        }
      ]
    },
    {
      "cell_type": "markdown",
      "source": [
        "## Adding to List\n",
        "* Adding a single element: `append()` => add at the end of the list\n",
        "* Adding multiple elements (adding list in list): `extend()`"
      ],
      "metadata": {
        "id": "_jF5-7_PrP4e"
      }
    },
    {
      "cell_type": "markdown",
      "source": [
        "# Use of .append()"
      ],
      "metadata": {
        "id": "Onk48j8xrP4e"
      }
    },
    {
      "cell_type": "code",
      "execution_count": 83,
      "source": [
        "#see again names_list elements\n",
        "names_list = ['krishna', 'mahadev', 'surya']\n"
      ],
      "outputs": [],
      "metadata": {
        "execution": {
          "iopub.status.busy": "2021-12-13T08:31:08.016526Z",
          "iopub.execute_input": "2021-12-13T08:31:08.016806Z",
          "iopub.status.idle": "2021-12-13T08:31:08.023252Z",
          "shell.execute_reply.started": "2021-12-13T08:31:08.016776Z",
          "shell.execute_reply": "2021-12-13T08:31:08.022472Z"
        },
        "trusted": true,
        "id": "ZEo63rVKrP4e"
      }
    },
    {
      "cell_type": "code",
      "execution_count": 84,
      "source": [
        "#see again names_list list elements\n",
        "names_list\n",
        "\n",
        "#appending 'bhagwan' to list names_list\n",
        "#using append()\n",
        "names_list.append('bhagwan')\n",
        "\n",
        "# print list after appending\n",
        "print(names_list)\n",
        "\n",
        "# append 3,'ok' values as a list of list\n",
        " #<= it will append a list inside a list\n",
        "names_list.append([3,'ok'])\n",
        "\n",
        "# print names_list\n",
        "print(names_list)\n"
      ],
      "outputs": [
        {
          "output_type": "stream",
          "name": "stdout",
          "text": [
            "['krishna', 'mahadev', 'surya', 'bhagwan']\n",
            "['krishna', 'mahadev', 'surya', 'bhagwan', [3, 'ok']]\n"
          ]
        }
      ],
      "metadata": {
        "execution": {
          "iopub.status.busy": "2021-12-13T08:31:48.35089Z",
          "iopub.execute_input": "2021-12-13T08:31:48.35115Z",
          "iopub.status.idle": "2021-12-13T08:31:48.35939Z",
          "shell.execute_reply.started": "2021-12-13T08:31:48.351123Z",
          "shell.execute_reply": "2021-12-13T08:31:48.358505Z"
        },
        "trusted": true,
        "id": "JWztwD_PrP4e",
        "colab": {
          "base_uri": "https://localhost:8080/"
        },
        "outputId": "7f26bb18-508e-48ab-f651-23949c9e080a"
      }
    },
    {
      "cell_type": "markdown",
      "source": [
        "# Use of .extend()"
      ],
      "metadata": {
        "id": "L6_5O9xcrP4e"
      }
    },
    {
      "cell_type": "code",
      "execution_count": 85,
      "source": [
        "\n",
        "# extend names_list with values 6,'one more'\n",
        "names_list.extend([6,'one more'])\n",
        "\n",
        "# print list after .extend()\n",
        "print(names_list)\n"
      ],
      "outputs": [
        {
          "output_type": "stream",
          "name": "stdout",
          "text": [
            "['krishna', 'mahadev', 'surya', 'bhagwan', [3, 'ok'], 6, 'one more']\n"
          ]
        }
      ],
      "metadata": {
        "execution": {
          "iopub.status.busy": "2021-12-13T08:32:56.377806Z",
          "iopub.execute_input": "2021-12-13T08:32:56.378121Z",
          "iopub.status.idle": "2021-12-13T08:32:56.384032Z",
          "shell.execute_reply.started": "2021-12-13T08:32:56.378087Z",
          "shell.execute_reply": "2021-12-13T08:32:56.38291Z"
        },
        "trusted": true,
        "id": "chB2CoWqrP4e",
        "colab": {
          "base_uri": "https://localhost:8080/"
        },
        "outputId": "72a267d5-2f32-45de-ea5d-e72b65d03cb7"
      }
    },
    {
      "cell_type": "markdown",
      "source": [
        "## Deleting from list\n",
        "* `.remove()` => delete element by its value\n",
        "* `del` => delete element by index : indexing start from 0"
      ],
      "metadata": {
        "id": "fI6TbJ9IrP4e"
      }
    },
    {
      "cell_type": "markdown",
      "source": [
        "# Use of .remove()"
      ],
      "metadata": {
        "id": "iwcbBZfrrP4e"
      }
    },
    {
      "cell_type": "code",
      "execution_count": 86,
      "source": [
        "# see names_list\n",
        "names_list"
      ],
      "outputs": [
        {
          "output_type": "execute_result",
          "data": {
            "text/plain": [
              "['krishna', 'mahadev', 'surya', 'bhagwan', [3, 'ok'], 6, 'one more']"
            ]
          },
          "metadata": {},
          "execution_count": 86
        }
      ],
      "metadata": {
        "execution": {
          "iopub.status.busy": "2021-12-13T08:35:24.869868Z",
          "iopub.execute_input": "2021-12-13T08:35:24.870142Z",
          "iopub.status.idle": "2021-12-13T08:35:24.876688Z",
          "shell.execute_reply.started": "2021-12-13T08:35:24.870115Z",
          "shell.execute_reply": "2021-12-13T08:35:24.875739Z"
        },
        "trusted": true,
        "id": "xYy-KNKxrP4e",
        "colab": {
          "base_uri": "https://localhost:8080/"
        },
        "outputId": "e7195cba-0d6f-4be4-c4cc-ee7e04459f92"
      }
    },
    {
      "cell_type": "code",
      "execution_count": 87,
      "source": [
        "# remove one more from names_list\n",
        "names_list.remove('one more')\n",
        "\n",
        "# print names_list\n",
        "print(names_list)"
      ],
      "outputs": [
        {
          "output_type": "stream",
          "name": "stdout",
          "text": [
            "['krishna', 'mahadev', 'surya', 'bhagwan', [3, 'ok'], 6]\n"
          ]
        }
      ],
      "metadata": {
        "execution": {
          "iopub.status.busy": "2021-12-13T08:35:35.976582Z",
          "iopub.execute_input": "2021-12-13T08:35:35.977782Z",
          "iopub.status.idle": "2021-12-13T08:35:35.982445Z",
          "shell.execute_reply.started": "2021-12-13T08:35:35.977713Z",
          "shell.execute_reply": "2021-12-13T08:35:35.981775Z"
        },
        "trusted": true,
        "id": "8UfKI7MYrP4e",
        "colab": {
          "base_uri": "https://localhost:8080/"
        },
        "outputId": "dad63dc4-69b7-401c-da96-9ee0ffd9dac7"
      }
    },
    {
      "cell_type": "markdown",
      "source": [
        "# Use of del"
      ],
      "metadata": {
        "id": "P7mXoDiprP4f"
      }
    },
    {
      "cell_type": "code",
      "execution_count": 88,
      "source": [
        "# see names_list\n",
        "names_list"
      ],
      "outputs": [
        {
          "output_type": "execute_result",
          "data": {
            "text/plain": [
              "['krishna', 'mahadev', 'surya', 'bhagwan', [3, 'ok'], 6]"
            ]
          },
          "metadata": {},
          "execution_count": 88
        }
      ],
      "metadata": {
        "execution": {
          "iopub.status.busy": "2021-12-13T08:35:52.10741Z",
          "iopub.execute_input": "2021-12-13T08:35:52.107924Z",
          "iopub.status.idle": "2021-12-13T08:35:52.114855Z",
          "shell.execute_reply.started": "2021-12-13T08:35:52.107873Z",
          "shell.execute_reply": "2021-12-13T08:35:52.11401Z"
        },
        "trusted": true,
        "id": "AvQDPc_hrP4f",
        "colab": {
          "base_uri": "https://localhost:8080/"
        },
        "outputId": "11f2ad7a-ddaf-4666-be29-a68db5e441c1"
      }
    },
    {
      "cell_type": "code",
      "execution_count": 91,
      "source": [
        "# del 3 from names_list\n",
        "del names_list[3]\n",
        "\n",
        "# print names_list\n",
        "print(names_list)"
      ],
      "outputs": [
        {
          "output_type": "stream",
          "name": "stdout",
          "text": [
            "['krishna', 'mahadev', 'surya', 6]\n"
          ]
        }
      ],
      "metadata": {
        "execution": {
          "iopub.status.busy": "2021-12-13T08:35:57.307742Z",
          "iopub.execute_input": "2021-12-13T08:35:57.308409Z",
          "iopub.status.idle": "2021-12-13T08:35:57.312802Z",
          "shell.execute_reply.started": "2021-12-13T08:35:57.308377Z",
          "shell.execute_reply": "2021-12-13T08:35:57.311834Z"
        },
        "trusted": true,
        "id": "oOyXUP0HrP4f",
        "colab": {
          "base_uri": "https://localhost:8080/"
        },
        "outputId": "a7fef77f-f44c-40de-9152-250b77855a25"
      }
    },
    {
      "cell_type": "markdown",
      "source": [
        "## Iterate through list"
      ],
      "metadata": {
        "id": "EPu0UxWCrP4f"
      }
    },
    {
      "cell_type": "code",
      "execution_count": 94,
      "source": [
        "# interate through list elements\n",
        "names_list = ['krishna', 'mahadev', 'surya', 108, 11, 21, 'bhagwan', 6]\n",
        "\n",
        "  # print element\n",
        "print(names_list)"
      ],
      "outputs": [
        {
          "output_type": "stream",
          "name": "stdout",
          "text": [
            "['krishna', 'mahadev', 'surya', 108, 11, 21, 'bhagwan', 6]\n"
          ]
        }
      ],
      "metadata": {
        "execution": {
          "iopub.status.busy": "2021-12-13T08:37:14.631538Z",
          "iopub.execute_input": "2021-12-13T08:37:14.63231Z",
          "iopub.status.idle": "2021-12-13T08:37:14.638126Z",
          "shell.execute_reply.started": "2021-12-13T08:37:14.632274Z",
          "shell.execute_reply": "2021-12-13T08:37:14.637474Z"
        },
        "trusted": true,
        "id": "R8Xgr9-BrP4f",
        "colab": {
          "base_uri": "https://localhost:8080/"
        },
        "outputId": "ae1a6682-85d0-4e2e-92df-548bf03ad894"
      }
    },
    {
      "cell_type": "markdown",
      "source": [
        "## Some pre-defined method on List\n"
      ],
      "metadata": {
        "id": "q7tmRtqYrP4f"
      }
    },
    {
      "cell_type": "code",
      "execution_count": 95,
      "source": [
        "# see names_list\n",
        "names_list = ['krishna', 'mahadev', 'surya', 108, 11, 21, 'bhagwan', 6]"
      ],
      "outputs": [],
      "metadata": {
        "execution": {
          "iopub.status.busy": "2021-12-13T08:37:49.527228Z",
          "iopub.execute_input": "2021-12-13T08:37:49.527524Z",
          "iopub.status.idle": "2021-12-13T08:37:49.533884Z",
          "shell.execute_reply.started": "2021-12-13T08:37:49.527488Z",
          "shell.execute_reply": "2021-12-13T08:37:49.532894Z"
        },
        "trusted": true,
        "id": "7xHmcCStrP4f"
      }
    },
    {
      "cell_type": "code",
      "execution_count": 96,
      "source": [
        "# find length of list names_list\n",
        "len(names_list)"
      ],
      "outputs": [
        {
          "output_type": "execute_result",
          "data": {
            "text/plain": [
              "8"
            ]
          },
          "metadata": {},
          "execution_count": 96
        }
      ],
      "metadata": {
        "execution": {
          "iopub.status.busy": "2021-12-13T08:37:37.259131Z",
          "iopub.execute_input": "2021-12-13T08:37:37.260228Z",
          "iopub.status.idle": "2021-12-13T08:37:37.265686Z",
          "shell.execute_reply.started": "2021-12-13T08:37:37.260147Z",
          "shell.execute_reply": "2021-12-13T08:37:37.2651Z"
        },
        "trusted": true,
        "id": "hfmxSI0yrP4f",
        "colab": {
          "base_uri": "https://localhost:8080/"
        },
        "outputId": "7dfecb06-6748-4e7d-fd50-f806db0aa659"
      }
    },
    {
      "cell_type": "code",
      "execution_count": 97,
      "source": [
        "# reverse a list names_list\n",
        "# see names_list\n",
        "names_list = ['krishna', 'mahadev', 'surya', 108, 11, 21, 'bhagwan', 6]\n",
        "names_list.reverse()\n",
        "names_list"
      ],
      "outputs": [
        {
          "output_type": "execute_result",
          "data": {
            "text/plain": [
              "[6, 'bhagwan', 21, 11, 108, 'surya', 'mahadev', 'krishna']"
            ]
          },
          "metadata": {},
          "execution_count": 97
        }
      ],
      "metadata": {
        "execution": {
          "iopub.status.busy": "2021-12-13T08:38:29.086638Z",
          "iopub.execute_input": "2021-12-13T08:38:29.087211Z",
          "iopub.status.idle": "2021-12-13T08:38:29.093655Z",
          "shell.execute_reply.started": "2021-12-13T08:38:29.087163Z",
          "shell.execute_reply": "2021-12-13T08:38:29.092331Z"
        },
        "trusted": true,
        "id": "6u--oITYrP4f",
        "colab": {
          "base_uri": "https://localhost:8080/"
        },
        "outputId": "94ad32c5-fe7c-4153-abaf-b4aa65db6b8f"
      }
    },
    {
      "cell_type": "code",
      "source": [
        "# sort a list see condition when it is not possible\n",
        "names_list = ['krishna', 'mahadev', 'surya', 108, 11, 21, 'bhagwan', 6]\n",
        "# Create separate lists for strings and numbers\n",
        "strings = [x for x in names_list if isinstance(x, str)]\n",
        "numbers = [x for x in names_list if isinstance(x, int)]\n",
        "\n",
        "# Sort each list individually\n",
        "strings.sort()\n",
        "numbers.sort()\n",
        "\n",
        "# Combine the sorted lists (if needed)\n",
        "sorted_list = strings + numbers  # Or any desired order\n",
        "\n",
        "# Now, you can print the sorted list or use it further\n",
        "print(sorted_list)  # Output: [11, 6, 21, 108, 'bhagwan', 'krishna', 'mahadev', 'surya']"
      ],
      "metadata": {
        "colab": {
          "base_uri": "https://localhost:8080/"
        },
        "id": "l-TAvFHHZ78X",
        "outputId": "82dee90b-12d8-462b-d2b9-452d1b353cfc"
      },
      "execution_count": 99,
      "outputs": [
        {
          "output_type": "stream",
          "name": "stdout",
          "text": [
            "['bhagwan', 'krishna', 'mahadev', 'surya', 6, 11, 21, 108]\n"
          ]
        }
      ]
    },
    {
      "cell_type": "code",
      "execution_count": 98,
      "source": [
        "# sort a list see condition when it is not possible\n",
        "names_list = ['krishna', 'mahadev', 'surya', 108, 11, 21, 'bhagwan', 6]\n",
        "names_list.sort()\n",
        "names_list"
      ],
      "outputs": [
        {
          "output_type": "error",
          "ename": "TypeError",
          "evalue": "'<' not supported between instances of 'int' and 'str'",
          "traceback": [
            "\u001b[0;31m---------------------------------------------------------------------------\u001b[0m",
            "\u001b[0;31mTypeError\u001b[0m                                 Traceback (most recent call last)",
            "\u001b[0;32m<ipython-input-98-167b829679e9>\u001b[0m in \u001b[0;36m<cell line: 0>\u001b[0;34m()\u001b[0m\n\u001b[1;32m      1\u001b[0m \u001b[0;31m# sort a list see condition when it is not possible\u001b[0m\u001b[0;34m\u001b[0m\u001b[0;34m\u001b[0m\u001b[0m\n\u001b[1;32m      2\u001b[0m \u001b[0mnames_list\u001b[0m \u001b[0;34m=\u001b[0m \u001b[0;34m[\u001b[0m\u001b[0;34m'krishna'\u001b[0m\u001b[0;34m,\u001b[0m \u001b[0;34m'mahadev'\u001b[0m\u001b[0;34m,\u001b[0m \u001b[0;34m'surya'\u001b[0m\u001b[0;34m,\u001b[0m \u001b[0;36m108\u001b[0m\u001b[0;34m,\u001b[0m \u001b[0;36m11\u001b[0m\u001b[0;34m,\u001b[0m \u001b[0;36m21\u001b[0m\u001b[0;34m,\u001b[0m \u001b[0;34m'bhagwan'\u001b[0m\u001b[0;34m,\u001b[0m \u001b[0;36m6\u001b[0m\u001b[0;34m]\u001b[0m\u001b[0;34m\u001b[0m\u001b[0;34m\u001b[0m\u001b[0m\n\u001b[0;32m----> 3\u001b[0;31m \u001b[0mnames_list\u001b[0m\u001b[0;34m.\u001b[0m\u001b[0msort\u001b[0m\u001b[0;34m(\u001b[0m\u001b[0;34m)\u001b[0m\u001b[0;34m\u001b[0m\u001b[0;34m\u001b[0m\u001b[0m\n\u001b[0m\u001b[1;32m      4\u001b[0m \u001b[0mnames_list\u001b[0m\u001b[0;34m\u001b[0m\u001b[0;34m\u001b[0m\u001b[0m\n",
            "\u001b[0;31mTypeError\u001b[0m: '<' not supported between instances of 'int' and 'str'"
          ]
        }
      ],
      "metadata": {
        "execution": {
          "iopub.status.busy": "2021-12-13T08:38:36.561875Z",
          "iopub.execute_input": "2021-12-13T08:38:36.562239Z",
          "iopub.status.idle": "2021-12-13T08:38:36.578288Z",
          "shell.execute_reply.started": "2021-12-13T08:38:36.562208Z",
          "shell.execute_reply": "2021-12-13T08:38:36.577247Z"
        },
        "trusted": true,
        "id": "JnGHTVmBrP4f",
        "colab": {
          "base_uri": "https://localhost:8080/",
          "height": 193
        },
        "outputId": "7f1d8d42-4bac-4721-cd7c-4074e171f998"
      }
    },
    {
      "cell_type": "code",
      "execution_count": 100,
      "source": [
        "# make a list named as numbers_list with values as [51,101,11,21]\n",
        "numbers_list = [51,101,11,21]\n",
        "# sort list numbers_list\n",
        "numbers_list.sort()\n",
        "# see numbers_list output\n",
        "print(numbers_list)"
      ],
      "outputs": [
        {
          "output_type": "stream",
          "name": "stdout",
          "text": [
            "[11, 21, 51, 101]\n"
          ]
        }
      ],
      "metadata": {
        "execution": {
          "iopub.status.busy": "2021-12-13T08:39:03.298535Z",
          "iopub.execute_input": "2021-12-13T08:39:03.298835Z",
          "iopub.status.idle": "2021-12-13T08:39:03.305099Z",
          "shell.execute_reply.started": "2021-12-13T08:39:03.298805Z",
          "shell.execute_reply": "2021-12-13T08:39:03.304468Z"
        },
        "trusted": true,
        "id": "pkHLORxmrP4g",
        "colab": {
          "base_uri": "https://localhost:8080/"
        },
        "outputId": "1c802368-8326-4ed1-fe20-1aa08cb1f870"
      }
    },
    {
      "cell_type": "code",
      "execution_count": 101,
      "source": [
        "# another way of sorting list\n",
        "sorted(numbers_list)\n",
        "\n",
        "# use sorted to short list named as sample_list with values as [51,101,11,21]\n",
        "sample_list = [51,101,11,21]\n",
        "sorted(sample_list)"
      ],
      "outputs": [
        {
          "output_type": "execute_result",
          "data": {
            "text/plain": [
              "[11, 21, 51, 101]"
            ]
          },
          "metadata": {},
          "execution_count": 101
        }
      ],
      "metadata": {
        "execution": {
          "iopub.status.busy": "2021-12-13T08:39:19.768469Z",
          "iopub.execute_input": "2021-12-13T08:39:19.768779Z",
          "iopub.status.idle": "2021-12-13T08:39:19.774375Z",
          "shell.execute_reply.started": "2021-12-13T08:39:19.768743Z",
          "shell.execute_reply": "2021-12-13T08:39:19.773639Z"
        },
        "trusted": true,
        "id": "SrfzuBccrP4g",
        "colab": {
          "base_uri": "https://localhost:8080/"
        },
        "outputId": "b811383b-cfc4-48e2-8503-585437e1b71d"
      }
    },
    {
      "cell_type": "markdown",
      "source": [
        "# Nested List"
      ],
      "metadata": {
        "id": "o8uqyHe6rP4g"
      }
    },
    {
      "cell_type": "code",
      "execution_count": 102,
      "source": [
        "# defining a sample nested list named as list_of_list and values  [111, 201, [11, 21, 121], ['Aman', 'Bobo', 'Canada'], 'Wangu', ['Aanaya', 'Annu', 'Amanda']]\n",
        "# print list_of_list\n",
        "list_of_list = [111, 201, [11, 21, 121], ['Aman', 'Bobo', 'Canada'], 'Wangu', ['Aanaya', 'Annu', 'Amanda']]\n",
        "\n",
        "\n",
        "# print list_of_list\n",
        "print(list_of_list)"
      ],
      "outputs": [
        {
          "output_type": "stream",
          "name": "stdout",
          "text": [
            "[111, 201, [11, 21, 121], ['Aman', 'Bobo', 'Canada'], 'Wangu', ['Aanaya', 'Annu', 'Amanda']]\n"
          ]
        }
      ],
      "metadata": {
        "execution": {
          "iopub.status.busy": "2021-12-13T08:40:26.42915Z",
          "iopub.execute_input": "2021-12-13T08:40:26.429416Z",
          "iopub.status.idle": "2021-12-13T08:40:26.435432Z",
          "shell.execute_reply.started": "2021-12-13T08:40:26.429387Z",
          "shell.execute_reply": "2021-12-13T08:40:26.434598Z"
        },
        "trusted": true,
        "id": "1XQjdGSCrP4g",
        "colab": {
          "base_uri": "https://localhost:8080/"
        },
        "outputId": "9672af97-67d3-4d98-8d1d-6fd6782f0d70"
      }
    },
    {
      "cell_type": "code",
      "execution_count": 103,
      "source": [
        "# find length of nested list\n",
        "len(list_of_list)\n"
      ],
      "outputs": [
        {
          "output_type": "execute_result",
          "data": {
            "text/plain": [
              "6"
            ]
          },
          "metadata": {},
          "execution_count": 103
        }
      ],
      "metadata": {
        "execution": {
          "iopub.status.busy": "2021-12-13T08:40:32.646388Z",
          "iopub.execute_input": "2021-12-13T08:40:32.646942Z",
          "iopub.status.idle": "2021-12-13T08:40:32.653548Z",
          "shell.execute_reply.started": "2021-12-13T08:40:32.646904Z",
          "shell.execute_reply": "2021-12-13T08:40:32.652533Z"
        },
        "trusted": true,
        "id": "__2KBqwOrP4g",
        "colab": {
          "base_uri": "https://localhost:8080/"
        },
        "outputId": "ffd8e76a-074b-4733-b1e3-6fc50f38fc8c"
      }
    },
    {
      "cell_type": "code",
      "execution_count": 104,
      "source": [
        "# aces third element of list_of_list\n",
        "list_of_list[2]\n"
      ],
      "outputs": [
        {
          "output_type": "execute_result",
          "data": {
            "text/plain": [
              "[11, 21, 121]"
            ]
          },
          "metadata": {},
          "execution_count": 104
        }
      ],
      "metadata": {
        "execution": {
          "iopub.status.busy": "2021-12-13T08:41:15.630168Z",
          "iopub.execute_input": "2021-12-13T08:41:15.630511Z",
          "iopub.status.idle": "2021-12-13T08:41:15.637418Z",
          "shell.execute_reply.started": "2021-12-13T08:41:15.630477Z",
          "shell.execute_reply": "2021-12-13T08:41:15.636383Z"
        },
        "trusted": true,
        "id": "yLnuvuLerP4g",
        "colab": {
          "base_uri": "https://localhost:8080/"
        },
        "outputId": "20cac07f-0065-48c1-c8ef-dad331cbc760"
      }
    },
    {
      "cell_type": "code",
      "execution_count": 105,
      "source": [
        "# accessing 2nd element of the third element of the primary list named  as list_of_list\n",
        "list_of_list[2][1]\n"
      ],
      "outputs": [
        {
          "output_type": "execute_result",
          "data": {
            "text/plain": [
              "21"
            ]
          },
          "metadata": {},
          "execution_count": 105
        }
      ],
      "metadata": {
        "execution": {
          "iopub.status.busy": "2021-12-13T08:41:43.777085Z",
          "iopub.execute_input": "2021-12-13T08:41:43.777576Z",
          "iopub.status.idle": "2021-12-13T08:41:43.784972Z",
          "shell.execute_reply.started": "2021-12-13T08:41:43.777528Z",
          "shell.execute_reply": "2021-12-13T08:41:43.78417Z"
        },
        "trusted": true,
        "id": "hind6UyKrP4g",
        "colab": {
          "base_uri": "https://localhost:8080/"
        },
        "outputId": "1995ab77-1729-4bca-beb1-c8701f600ce8"
      }
    },
    {
      "cell_type": "markdown",
      "source": [
        "<a id='12'></a><center> <h3 style=\"background-color:orange; color:white\" ><br>Assignment Python Data Structures List<br></h3>"
      ],
      "metadata": {
        "id": "YxKiQW5frP4g"
      }
    },
    {
      "cell_type": "markdown",
      "source": [
        "# 💬 **List Problem Statement:**\n",
        "\n",
        "Say CloudyML conducted an assessment test to hire a Data Scientist <br>\n",
        "Candidates were evaluated on 5 different subject `Statistics`, `Python`, `SQL`, `ML`, and `DeepLearning` <br>\n",
        "`Help CloudyML team to find out answers of following questions` <br>\n",
        "\n",
        "💡 `Find out Who scored highest marks in Python?`\n",
        "* Step1: Select name of student and marks in Python\n",
        "* Step2: Store filtered name and marks in another list\n",
        "* Step3: Sort list. (Kept marks as first index)\n",
        "* Step4: Get final index of sorted list"
      ],
      "metadata": {
        "id": "E8-7E8mTrP4h"
      }
    },
    {
      "cell_type": "code",
      "execution_count": 106,
      "source": [
        "#### Marks of 5 different subjects out of 100 are as ####\n",
        "\n",
        "\n",
        "# make student marks nested list\n",
        "student_marks = [['Name',['Statistics','Python','SQL','ML','DeepLearning']],\n",
        "                 ['Ananya',[41, 34, 45]]]"
      ],
      "outputs": [],
      "metadata": {
        "execution": {
          "iopub.status.busy": "2021-12-11T05:18:24.845176Z",
          "iopub.execute_input": "2021-12-11T05:18:24.8457Z",
          "iopub.status.idle": "2021-12-11T05:18:24.852835Z",
          "shell.execute_reply.started": "2021-12-11T05:18:24.845665Z",
          "shell.execute_reply": "2021-12-11T05:18:24.852031Z"
        },
        "trusted": true,
        "id": "vwDSOqA7rP4h"
      }
    },
    {
      "cell_type": "code",
      "execution_count": 108,
      "source": [
        "# print student_marks\n",
        "print(student_marks)\n",
        "\n"
      ],
      "outputs": [
        {
          "output_type": "stream",
          "name": "stdout",
          "text": [
            "[['Name', ['Statistics', 'Python', 'SQL', 'ML', 'DeepLearning']], ['Ananya', [41, 34, 45]]]\n"
          ]
        }
      ],
      "metadata": {
        "execution": {
          "iopub.status.busy": "2021-12-11T05:18:25.303946Z",
          "iopub.execute_input": "2021-12-11T05:18:25.304684Z",
          "iopub.status.idle": "2021-12-11T05:18:25.313298Z",
          "shell.execute_reply.started": "2021-12-11T05:18:25.304637Z",
          "shell.execute_reply": "2021-12-11T05:18:25.312419Z"
        },
        "trusted": true,
        "id": "Q7ZkPsYtrP4h",
        "colab": {
          "base_uri": "https://localhost:8080/"
        },
        "outputId": "804a0b6a-09b6-40bb-bb23-e8eeffcb138b"
      }
    },
    {
      "cell_type": "code",
      "execution_count": 109,
      "source": [
        "# access first index of list student_marks\n",
        "student_marks[0]"
      ],
      "outputs": [
        {
          "output_type": "execute_result",
          "data": {
            "text/plain": [
              "['Name', ['Statistics', 'Python', 'SQL', 'ML', 'DeepLearning']]"
            ]
          },
          "metadata": {},
          "execution_count": 109
        }
      ],
      "metadata": {
        "execution": {
          "iopub.status.busy": "2021-12-11T05:18:25.944133Z",
          "iopub.execute_input": "2021-12-11T05:18:25.944893Z",
          "iopub.status.idle": "2021-12-11T05:18:25.950026Z",
          "shell.execute_reply.started": "2021-12-11T05:18:25.944856Z",
          "shell.execute_reply": "2021-12-11T05:18:25.949155Z"
        },
        "trusted": true,
        "id": "VT7znIVKrP4h",
        "colab": {
          "base_uri": "https://localhost:8080/"
        },
        "outputId": "1308c52f-64ef-435a-f211-cb1021e17f29"
      }
    },
    {
      "cell_type": "markdown",
      "source": [
        "* Slice list from second element"
      ],
      "metadata": {
        "id": "3u3-dfkVrP4h"
      }
    },
    {
      "cell_type": "code",
      "execution_count": 110,
      "source": [
        "# access first index of list student_marks[1]\n",
        "student_marks[1]\n"
      ],
      "outputs": [
        {
          "output_type": "execute_result",
          "data": {
            "text/plain": [
              "['Ananya', [41, 34, 45]]"
            ]
          },
          "metadata": {},
          "execution_count": 110
        }
      ],
      "metadata": {
        "execution": {
          "iopub.status.busy": "2021-12-11T05:18:28.949117Z",
          "iopub.execute_input": "2021-12-11T05:18:28.949697Z",
          "iopub.status.idle": "2021-12-11T05:18:28.95532Z",
          "shell.execute_reply.started": "2021-12-11T05:18:28.94966Z",
          "shell.execute_reply": "2021-12-11T05:18:28.95457Z"
        },
        "trusted": true,
        "id": "LPRZOoR6rP4h",
        "colab": {
          "base_uri": "https://localhost:8080/"
        },
        "outputId": "d7312fcd-40cd-4fab-956a-ed62bf29a0e1"
      }
    },
    {
      "cell_type": "markdown",
      "source": [
        "See, each element in list from Index-1 contains 2 elements\n",
        "* first is `Name`\n",
        "* second is `list of marks`"
      ],
      "metadata": {
        "id": "PitdZQvErP4h"
      }
    },
    {
      "cell_type": "code",
      "execution_count": 111,
      "source": [
        "# acess first student name\n",
        "student_marks[1][0]\n"
      ],
      "outputs": [
        {
          "output_type": "execute_result",
          "data": {
            "text/plain": [
              "'Ananya'"
            ],
            "application/vnd.google.colaboratory.intrinsic+json": {
              "type": "string"
            }
          },
          "metadata": {},
          "execution_count": 111
        }
      ],
      "metadata": {
        "execution": {
          "iopub.status.busy": "2021-12-11T05:18:54.137328Z",
          "iopub.execute_input": "2021-12-11T05:18:54.137742Z",
          "iopub.status.idle": "2021-12-11T05:18:54.142584Z",
          "shell.execute_reply.started": "2021-12-11T05:18:54.137713Z",
          "shell.execute_reply": "2021-12-11T05:18:54.142014Z"
        },
        "trusted": true,
        "id": "NoA0T3VRrP4h",
        "colab": {
          "base_uri": "https://localhost:8080/",
          "height": 35
        },
        "outputId": "89e026e8-ed33-4389-cd3a-74190f652fa2"
      }
    },
    {
      "cell_type": "code",
      "execution_count": 112,
      "source": [
        "# acess ananya marks\n",
        "student_marks[1][1]\n"
      ],
      "outputs": [
        {
          "output_type": "execute_result",
          "data": {
            "text/plain": [
              "[41, 34, 45]"
            ]
          },
          "metadata": {},
          "execution_count": 112
        }
      ],
      "metadata": {
        "execution": {
          "iopub.status.busy": "2021-12-11T05:19:31.890129Z",
          "iopub.execute_input": "2021-12-11T05:19:31.890553Z",
          "iopub.status.idle": "2021-12-11T05:19:31.895735Z",
          "shell.execute_reply.started": "2021-12-11T05:19:31.890522Z",
          "shell.execute_reply": "2021-12-11T05:19:31.894943Z"
        },
        "trusted": true,
        "id": "WII68GgKrP4h",
        "colab": {
          "base_uri": "https://localhost:8080/"
        },
        "outputId": "b78d70a9-c87c-416b-85d2-19a5b54afd34"
      }
    },
    {
      "cell_type": "markdown",
      "source": [
        "Now, student marks are in order **`Statistics`**, **`Python`**, **`SQL`**, **`ML`** and **`DeepLearning`**. and we need to access value at Index-1 to get marks in subject => **`Python`**"
      ],
      "metadata": {
        "id": "vDPny7O1rP4h"
      }
    },
    {
      "cell_type": "code",
      "execution_count": 113,
      "source": [
        "# observe the output commend why this is the way it is\n",
        "student_marks[1][1][1]"
      ],
      "outputs": [
        {
          "output_type": "execute_result",
          "data": {
            "text/plain": [
              "34"
            ]
          },
          "metadata": {},
          "execution_count": 113
        }
      ],
      "metadata": {
        "execution": {
          "iopub.status.busy": "2021-12-11T05:21:26.548134Z",
          "iopub.execute_input": "2021-12-11T05:21:26.548879Z",
          "iopub.status.idle": "2021-12-11T05:21:26.554956Z",
          "shell.execute_reply.started": "2021-12-11T05:21:26.548833Z",
          "shell.execute_reply": "2021-12-11T05:21:26.553864Z"
        },
        "trusted": true,
        "id": "5H7QGuDxrP4i",
        "colab": {
          "base_uri": "https://localhost:8080/"
        },
        "outputId": "023a1245-63a1-4b55-991e-8a7cd5448372"
      }
    },
    {
      "cell_type": "markdown",
      "source": [
        "See above `Ananya` Python marks"
      ],
      "metadata": {
        "id": "7rsQ1IkmrP4i"
      }
    },
    {
      "cell_type": "markdown",
      "source": [
        "***Now Solving Problem step after step***\n",
        "* `Who scored highest marks in subject Python? `  \n",
        "\n",
        "\n",
        "***Step1: Select name of student and marks in subject Python***"
      ],
      "metadata": {
        "id": "TTBeJoDarP4i"
      }
    },
    {
      "cell_type": "code",
      "execution_count": 114,
      "source": [
        "ananya_python_marks = student_marks[1][1][1]\n",
        "ananya_python_marks"
      ],
      "outputs": [
        {
          "output_type": "execute_result",
          "data": {
            "text/plain": [
              "34"
            ]
          },
          "metadata": {},
          "execution_count": 114
        }
      ],
      "metadata": {
        "execution": {
          "iopub.status.busy": "2021-12-11T05:25:24.611262Z",
          "iopub.execute_input": "2021-12-11T05:25:24.612102Z",
          "iopub.status.idle": "2021-12-11T05:25:24.620706Z",
          "shell.execute_reply.started": "2021-12-11T05:25:24.612019Z",
          "shell.execute_reply": "2021-12-11T05:25:24.619653Z"
        },
        "trusted": true,
        "id": "gs5ozIK6rP4i",
        "colab": {
          "base_uri": "https://localhost:8080/"
        },
        "outputId": "7f94434d-127f-4c9b-9d45-5e482f174ad0"
      }
    },
    {
      "cell_type": "markdown",
      "source": [
        "***Step2: Store filtered Name and Marks in another list***"
      ],
      "metadata": {
        "id": "bVk9RoafrP4i"
      }
    },
    {
      "cell_type": "code",
      "execution_count": 115,
      "source": [
        "filtered = [student_marks[1][0],student_marks[1][1][1]]\n",
        "filtered"
      ],
      "outputs": [
        {
          "output_type": "execute_result",
          "data": {
            "text/plain": [
              "['Ananya', 34]"
            ]
          },
          "metadata": {},
          "execution_count": 115
        }
      ],
      "metadata": {
        "execution": {
          "iopub.status.busy": "2021-12-11T05:27:02.35026Z",
          "iopub.execute_input": "2021-12-11T05:27:02.350541Z",
          "iopub.status.idle": "2021-12-11T05:27:02.357152Z",
          "shell.execute_reply.started": "2021-12-11T05:27:02.350512Z",
          "shell.execute_reply": "2021-12-11T05:27:02.356437Z"
        },
        "trusted": true,
        "id": "syCySARFrP4i",
        "colab": {
          "base_uri": "https://localhost:8080/"
        },
        "outputId": "8b0c753a-7c51-4d65-8059-a7c9d4ccd28d"
      }
    },
    {
      "cell_type": "markdown",
      "source": [
        "***Step3: Sort list (Keep marks as first index)***"
      ],
      "metadata": {
        "id": "EK2lofCarP4i"
      }
    },
    {
      "cell_type": "code",
      "source": [
        "sorted_students = sorted(student_marks)\n",
        "print(sorted_students)"
      ],
      "metadata": {
        "colab": {
          "base_uri": "https://localhost:8080/"
        },
        "id": "F07I7GHMkVb0",
        "outputId": "d3eb55b0-9f79-41b9-96d3-7df45dbcb9d2"
      },
      "execution_count": 122,
      "outputs": [
        {
          "output_type": "stream",
          "name": "stdout",
          "text": [
            "[['Ananya', [41, 34, 45]], ['Name', ['Statistics', 'Python', 'SQL', 'ML', 'DeepLearning']]]\n"
          ]
        }
      ]
    },
    {
      "cell_type": "code",
      "execution_count": 123,
      "source": [
        "sorted(student_marks)\n",
        "print(sorted(student_marks))\n",
        "\n"
      ],
      "outputs": [
        {
          "output_type": "stream",
          "name": "stdout",
          "text": [
            "[['Ananya', [41, 34, 45]], ['Name', ['Statistics', 'Python', 'SQL', 'ML', 'DeepLearning']]]\n"
          ]
        }
      ],
      "metadata": {
        "execution": {
          "iopub.status.busy": "2021-12-11T05:27:57.053964Z",
          "iopub.execute_input": "2021-12-11T05:27:57.054536Z",
          "iopub.status.idle": "2021-12-11T05:27:57.059563Z",
          "shell.execute_reply.started": "2021-12-11T05:27:57.054501Z",
          "shell.execute_reply": "2021-12-11T05:27:57.058936Z"
        },
        "trusted": true,
        "id": "76Ld6yVxrP4i",
        "colab": {
          "base_uri": "https://localhost:8080/"
        },
        "outputId": "ea2992d3-f5ca-40f6-c748-bf765ceeb217"
      }
    },
    {
      "cell_type": "markdown",
      "source": [
        "***Step4: Get final index of sorted list with student name having max marks in Python subject***"
      ],
      "metadata": {
        "id": "W8QJHOwarP4i"
      }
    },
    {
      "cell_type": "code",
      "execution_count": 124,
      "source": [
        "student_marks.index(sorted_students[-1])"
      ],
      "outputs": [
        {
          "output_type": "execute_result",
          "data": {
            "text/plain": [
              "0"
            ]
          },
          "metadata": {},
          "execution_count": 124
        }
      ],
      "metadata": {
        "execution": {
          "iopub.status.busy": "2021-12-11T05:28:38.167215Z",
          "iopub.execute_input": "2021-12-11T05:28:38.167787Z",
          "iopub.status.idle": "2021-12-11T05:28:38.172981Z",
          "shell.execute_reply.started": "2021-12-11T05:28:38.167744Z",
          "shell.execute_reply": "2021-12-11T05:28:38.172162Z"
        },
        "trusted": true,
        "id": "Zha0IrK5rP4i",
        "colab": {
          "base_uri": "https://localhost:8080/"
        },
        "outputId": "4d58e31d-0f93-4c87-8bf7-6b6295c67d5d"
      }
    },
    {
      "cell_type": "markdown",
      "source": [
        "Got answer of first question. Mukesh has scored highest marks in subject Python\n",
        "* You can also do it using loop do it if you want to"
      ],
      "metadata": {
        "id": "_zTy7qCPrP4i"
      }
    },
    {
      "cell_type": "markdown",
      "source": [
        "-----"
      ],
      "metadata": {
        "id": "qOrSdhg0rP4j"
      }
    },
    {
      "cell_type": "markdown",
      "source": [
        "# **`Tuple`** <br>\n",
        "\n",
        "Benefit of using tuples:<br>\n",
        "* Faster then list\n",
        "* Provide security over updation => once created cannot be modefyied like list\n",
        "* Can be used as key for dictionarie\n",
        "* We generally use tuple for heterogeneous(different) datatypes and list for homogeneous (similar) datatypes\n",
        "* Since tuples are immutable, iterating through tuple is faster than with list. So there is a slight performance boost\n",
        "* Tuples that contain immutable elements can be used as a key for a dictionary. With lists, this is not possible\n",
        "* If you have data that doesn't change, implementing it as tuple will guarantee that it remains write-protected\n",
        "* We cannot edit/update or delete elements from the tuple"
      ],
      "metadata": {
        "id": "OemzDS2WrP4j"
      }
    },
    {
      "cell_type": "markdown",
      "source": [
        "### **`Watch Video : Tuple `**"
      ],
      "metadata": {
        "id": "4unafjdndJTu"
      }
    },
    {
      "cell_type": "code",
      "execution_count": 125,
      "source": [
        "# make a variable names as data_tuple with values 'krishna', 'mahadev', 'surya', 108, 11, 21, 'bhagwan', 6\n",
        "data_tuple = ('krishna', 'mahadev', 'surya', 108, 11, 21, 'bhagwan', 6)\n",
        "\n",
        "# print data_tuple\n",
        "print(data_tuple)\n",
        "\n",
        "# print type of data_tuple\n",
        "print(type(data_tuple))"
      ],
      "outputs": [
        {
          "output_type": "stream",
          "name": "stdout",
          "text": [
            "('krishna', 'mahadev', 'surya', 108, 11, 21, 'bhagwan', 6)\n",
            "<class 'tuple'>\n"
          ]
        }
      ],
      "metadata": {
        "execution": {
          "iopub.status.busy": "2021-12-13T09:25:57.996637Z",
          "iopub.execute_input": "2021-12-13T09:25:57.996935Z",
          "iopub.status.idle": "2021-12-13T09:25:58.003016Z",
          "shell.execute_reply.started": "2021-12-13T09:25:57.996901Z",
          "shell.execute_reply": "2021-12-13T09:25:58.002305Z"
        },
        "trusted": true,
        "id": "Xpd2kVRirP4j",
        "colab": {
          "base_uri": "https://localhost:8080/"
        },
        "outputId": "ba653f51-c41e-4e35-c8ea-9b062b21185f"
      }
    },
    {
      "cell_type": "code",
      "execution_count": 126,
      "source": [
        "# make a variable named as data_tuple with values as 1,2,3,4,5\n",
        "data_tuple = (1,2,3,4,5)\n",
        "\n",
        "# print data_tuple\n",
        "print(data_tuple)\n",
        "\n",
        "# print type of data_tuple\n",
        "print(type(data_tuple))\n",
        "# Acess element at 2nd Index of data_tuple  #<= indexing work same as list as tuple is ordered data structure\n",
        "print(data_tuple[2])"
      ],
      "outputs": [
        {
          "output_type": "stream",
          "name": "stdout",
          "text": [
            "(1, 2, 3, 4, 5)\n",
            "<class 'tuple'>\n",
            "3\n"
          ]
        }
      ],
      "metadata": {
        "execution": {
          "iopub.status.busy": "2021-12-13T09:27:06.135652Z",
          "iopub.execute_input": "2021-12-13T09:27:06.135979Z",
          "iopub.status.idle": "2021-12-13T09:27:06.141415Z",
          "shell.execute_reply.started": "2021-12-13T09:27:06.13594Z",
          "shell.execute_reply": "2021-12-13T09:27:06.140855Z"
        },
        "trusted": true,
        "id": "qFKzjV8DrP4j",
        "colab": {
          "base_uri": "https://localhost:8080/"
        },
        "outputId": "0af4d894-fb9b-4213-eab4-3d6ae5afb3aa"
      }
    },
    {
      "cell_type": "code",
      "execution_count": 128,
      "source": [
        "# think what will be the output of this code then run it\n",
        "data_tuple = ( (1,2,3,4,5),\n",
        "             (4,5,3,4,5),\n",
        "             (3,7,8,9,6) )\n",
        "\n",
        "data_tuple[2][2:4]\n",
        "\n",
        "\n",
        "\n",
        "# Views on why the output is the way it is"
      ],
      "outputs": [
        {
          "output_type": "execute_result",
          "data": {
            "text/plain": [
              "(8, 9)"
            ]
          },
          "metadata": {},
          "execution_count": 128
        }
      ],
      "metadata": {
        "execution": {
          "iopub.status.busy": "2021-12-13T09:28:08.921138Z",
          "iopub.execute_input": "2021-12-13T09:28:08.921542Z",
          "iopub.status.idle": "2021-12-13T09:28:08.927847Z",
          "shell.execute_reply.started": "2021-12-13T09:28:08.921511Z",
          "shell.execute_reply": "2021-12-13T09:28:08.926915Z"
        },
        "trusted": true,
        "id": "jdK6gHwprP4j",
        "colab": {
          "base_uri": "https://localhost:8080/"
        },
        "outputId": "64e5c163-9965-483e-bd2e-10971a1a714d"
      }
    },
    {
      "cell_type": "code",
      "execution_count": 129,
      "source": [
        "# find Index of any element, here index of 3\n",
        "data_tuple = (1,2,3,4,5)\n",
        "   # <= 3 is at 2nd index as indexing start at one\n",
        "data_tuple.index(3)"
      ],
      "outputs": [
        {
          "output_type": "execute_result",
          "data": {
            "text/plain": [
              "2"
            ]
          },
          "metadata": {},
          "execution_count": 129
        }
      ],
      "metadata": {
        "execution": {
          "iopub.status.busy": "2021-12-13T09:30:54.043064Z",
          "iopub.execute_input": "2021-12-13T09:30:54.043384Z",
          "iopub.status.idle": "2021-12-13T09:30:54.049414Z",
          "shell.execute_reply.started": "2021-12-13T09:30:54.043336Z",
          "shell.execute_reply": "2021-12-13T09:30:54.048781Z"
        },
        "trusted": true,
        "id": "AClKJufdrP4j",
        "colab": {
          "base_uri": "https://localhost:8080/"
        },
        "outputId": "98bbb5cf-d647-404f-a225-679e97a64867"
      }
    },
    {
      "cell_type": "code",
      "execution_count": 130,
      "source": [
        "# count of an element\n",
        "data_tuple = (1,2,3,4,5)\n",
        "# print how many time 4 have come\n",
        "data_tuple.count(4)\n",
        "\n",
        "\n",
        "data_tuple = (7,2,7,4,7)\n",
        "# print how many time 7 have come\n",
        "data_tuple.count(7)"
      ],
      "outputs": [
        {
          "output_type": "execute_result",
          "data": {
            "text/plain": [
              "3"
            ]
          },
          "metadata": {},
          "execution_count": 130
        }
      ],
      "metadata": {
        "execution": {
          "iopub.status.busy": "2021-12-13T09:31:11.759923Z",
          "iopub.execute_input": "2021-12-13T09:31:11.760542Z",
          "iopub.status.idle": "2021-12-13T09:31:11.767097Z",
          "shell.execute_reply.started": "2021-12-13T09:31:11.760505Z",
          "shell.execute_reply": "2021-12-13T09:31:11.766314Z"
        },
        "trusted": true,
        "id": "xCtcvhjIrP4j",
        "colab": {
          "base_uri": "https://localhost:8080/"
        },
        "outputId": "a62f9cd6-9a33-4035-fbd0-a0112ee22ee5"
      }
    },
    {
      "cell_type": "code",
      "execution_count": 131,
      "source": [
        "# iterate through elements of tuple similar to list using for\n",
        "data_tuple = (7,2,7,4,7)\n"
      ],
      "outputs": [],
      "metadata": {
        "execution": {
          "iopub.status.busy": "2021-12-13T09:32:03.156111Z",
          "iopub.execute_input": "2021-12-13T09:32:03.156908Z",
          "iopub.status.idle": "2021-12-13T09:32:03.162462Z",
          "shell.execute_reply.started": "2021-12-13T09:32:03.156827Z",
          "shell.execute_reply": "2021-12-13T09:32:03.161615Z"
        },
        "trusted": true,
        "id": "4xAMDPSnrP4j"
      }
    },
    {
      "cell_type": "code",
      "execution_count": 132,
      "source": [
        "# slicing in tuple\n",
        "data_tuple = (5,2,7,4,6)\n",
        "\n",
        "# slice and print first 2 element\n",
        "#<= exclude 2nd Index\n",
        "print(data_tuple[0:2])\n",
        "\n",
        "# defining start pont as 2 and end poin as 4 to slice\n",
        "print(data_tuple[2:4])\n",
        "\n",
        "\n",
        "\n",
        "# by using count method on slice see how many time 2 comes\n",
        "#<= count of 2 if present\n",
        "print(   data_tuple[1:4].count(2)   )\n",
        "\n",
        "\n",
        "# index method on slice\n",
        "print(   data_tuple[1:4].index(2)   ) #<= index of 2"
      ],
      "outputs": [
        {
          "output_type": "stream",
          "name": "stdout",
          "text": [
            "(5, 2)\n",
            "(7, 4)\n",
            "1\n",
            "0\n"
          ]
        }
      ],
      "metadata": {
        "execution": {
          "iopub.status.busy": "2021-12-13T09:32:27.690197Z",
          "iopub.execute_input": "2021-12-13T09:32:27.691011Z",
          "iopub.status.idle": "2021-12-13T09:32:27.698429Z",
          "shell.execute_reply.started": "2021-12-13T09:32:27.690955Z",
          "shell.execute_reply": "2021-12-13T09:32:27.697623Z"
        },
        "trusted": true,
        "id": "90Fc9IK3rP4k",
        "colab": {
          "base_uri": "https://localhost:8080/"
        },
        "outputId": "9d6baef4-b026-4ede-efc7-3fdaa37e29d7"
      }
    },
    {
      "cell_type": "code",
      "source": [
        "# Tuple immutable (cant update or delete elements from tuples)\n",
        "data_tuple = (5,2,7,4,6)\n",
        "# Instead of trying to modify the tuple directly:\n",
        "# data_tuple[2] = 1  # This would raise a TypeError\n",
        "\n",
        "# You can create a new tuple with the desired changes:\n",
        "new_data_tuple = data_tuple[:2] + (1,) + data_tuple[3:]\n",
        "\n",
        "# Alternatively, you can convert the tuple to a list, modify it, and then convert it back to a tuple:\n",
        "data_list = list(data_tuple)\n",
        "data_list[2] = 1\n",
        "new_data_tuple = tuple(data_list)\n",
        "\n",
        "# Print the new tuple to see the changes\n",
        "print(new_data_tuple)"
      ],
      "metadata": {
        "colab": {
          "base_uri": "https://localhost:8080/"
        },
        "id": "NWIkmXqWmYH7",
        "outputId": "b5859e34-0e2d-4610-a4ae-839fdc3a22a4"
      },
      "execution_count": 136,
      "outputs": [
        {
          "output_type": "stream",
          "name": "stdout",
          "text": [
            "(5, 2, 1, 4, 6)\n"
          ]
        }
      ]
    },
    {
      "cell_type": "code",
      "execution_count": 137,
      "source": [
        "data_tuple"
      ],
      "outputs": [
        {
          "output_type": "execute_result",
          "data": {
            "text/plain": [
              "(5, 2, 7, 4, 6)"
            ]
          },
          "metadata": {},
          "execution_count": 137
        }
      ],
      "metadata": {
        "execution": {
          "iopub.status.busy": "2021-12-13T09:34:18.356785Z",
          "iopub.execute_input": "2021-12-13T09:34:18.357129Z",
          "iopub.status.idle": "2021-12-13T09:34:18.363026Z",
          "shell.execute_reply.started": "2021-12-13T09:34:18.357068Z",
          "shell.execute_reply": "2021-12-13T09:34:18.361949Z"
        },
        "trusted": true,
        "id": "Z2biiRsirP4k",
        "colab": {
          "base_uri": "https://localhost:8080/"
        },
        "outputId": "ed740e52-227e-4e22-be22-91a689495b7b"
      }
    },
    {
      "cell_type": "code",
      "source": [
        "# Convert the tuple to a list if you need to modify it\n",
        "data_list = list(data_tuple)\n",
        "\n",
        "# Delete the element from the list\n",
        "del data_list[0]\n",
        "\n",
        "# Convert the list back to a tuple if needed\n",
        "data_tuple = tuple(data_list)\n",
        "\n",
        "print(data_tuple)  # Output: (2, 7, 4, 6)"
      ],
      "metadata": {
        "colab": {
          "base_uri": "https://localhost:8080/"
        },
        "id": "zetNYP9mmtVi",
        "outputId": "7e9eabad-4d60-42e5-b1ee-77a02bce0107"
      },
      "execution_count": 141,
      "outputs": [
        {
          "output_type": "stream",
          "name": "stdout",
          "text": [
            "(2, 7, 4, 6)\n"
          ]
        }
      ]
    },
    {
      "cell_type": "markdown",
      "source": [
        "<a id='13'></a><center> <h3 style=\"background-color:orange; color:white\" ><br>Assignment Python Data Structures List&Set<br></h3>"
      ],
      "metadata": {
        "id": "Mx7xKlWErP4k"
      }
    },
    {
      "cell_type": "markdown",
      "source": [
        "# 💬 **List Problem Statement:**\n",
        "\n",
        "Say CloudyML conducted an assessment test to hire a Data Scientist <br>\n",
        "Candidates were evaluated on 5 different subject `Statistics`, `Python`, `SQL`, `ML`, and `DeepLearning` <br>\n",
        "`Help CloudyML team to find out answers of following questions` <br>\n",
        "\n",
        "💡 `Find out Who scored highest marks in Python?` <br>\n",
        "💡 `Find out average marks scored in subject SQL?` <br>\n",
        "💡 `Find out scored highest percentage of marks?` <br>\n",
        "💡 `If considered only top-4 subjects of a candidate, then who scored highest percentage of marks?` <br>\n"
      ],
      "metadata": {
        "id": "WvTU5e5QrP4k"
      }
    },
    {
      "cell_type": "code",
      "execution_count": 142,
      "source": [
        "### Find out Who scored highest marks in Python? ###\n",
        "# student marks nested list\n",
        "student_marks = [['Name',['Statistics','Python','SQL','ML','DeepLearning']],\n",
        "                 ['Ananya',[41, 34, 45, 55, 63]],\n",
        "                 ['Akash',[42, 23, 34, 44, 53]],\n",
        "                 ['Rahul',[32, 23, 13, 54, 67]],\n",
        "                 ['Gyan',[23, 82, 23, 63, 34]],\n",
        "                 ['Pranav',[21, 23, 25, 56, 56]] ]\n",
        "\n",
        "# Find out Who scored highest marks in Python? using for loop, soorted and slicing\n",
        "print(student_marks)\n"
      ],
      "outputs": [
        {
          "output_type": "stream",
          "name": "stdout",
          "text": [
            "[['Name', ['Statistics', 'Python', 'SQL', 'ML', 'DeepLearning']], ['Ananya', [41, 34, 45, 55, 63]], ['Akash', [42, 23, 34, 44, 53]], ['Rahul', [32, 23, 13, 54, 67]], ['Gyan', [23, 82, 23, 63, 34]], ['Pranav', [21, 23, 25, 56, 56]]]\n"
          ]
        }
      ],
      "metadata": {
        "execution": {
          "iopub.status.busy": "2021-12-11T07:48:04.967414Z",
          "iopub.execute_input": "2021-12-11T07:48:04.967742Z",
          "iopub.status.idle": "2021-12-11T07:48:04.979905Z",
          "shell.execute_reply.started": "2021-12-11T07:48:04.96771Z",
          "shell.execute_reply": "2021-12-11T07:48:04.979017Z"
        },
        "trusted": true,
        "id": "Dz8vLyD8rP4k",
        "colab": {
          "base_uri": "https://localhost:8080/"
        },
        "outputId": "376d0920-f0f6-4866-c637-a272d77cfb8c"
      }
    },
    {
      "cell_type": "code",
      "source": [
        "### Find out average marks scored in subject SQL? ###\n",
        "student_marks = [['Name',['Statistics','Python','SQL','ML','DeepLearning']],\n",
        "                 ['Ananya',[41, 34, 45, 55, 63]],\n",
        "                 ['Akash',[42, 23, 34, 44, 53]],\n",
        "                 ['Rahul',[32, 23, 13, 54, 67]],\n",
        "                 ['Gyan',[23, 82, 23, 63, 34]],\n",
        "                 ['Pranav',[21, 23, 25, 56, 56]] ]\n",
        "\n",
        "# Extracted col= name with SQL_data=marks\n",
        "all_SQL_marks = [student[1][2] for student in student_marks[1:]] # SQL is at index 2 in the inner list\n",
        "#print(all_SQL_marks)\n",
        "\n",
        "# Extracted only SQL_data=marks\n",
        "#all_SQL_marks = [x[1] for x in col_name_with_SQL_data]\n",
        "#print(all_SQL_marks)\n",
        "\n",
        "# mathematical operation\n",
        "total_element_in_SQL_marks = len(all_SQL_marks) # Get the total number of elements\n",
        "avg_of_SQL_marks = sum(all_SQL_marks)/total_element_in_SQL_marks\n",
        "print('avg_of_SQL_marks:',avg_of_SQL_marks)"
      ],
      "metadata": {
        "colab": {
          "base_uri": "https://localhost:8080/"
        },
        "id": "PIScwNhZpQFR",
        "outputId": "70b99b46-dd50-48ea-fe16-2a16b5007170"
      },
      "execution_count": 144,
      "outputs": [
        {
          "output_type": "stream",
          "name": "stdout",
          "text": [
            "avg_of_SQL_marks: 28.0\n"
          ]
        }
      ]
    },
    {
      "cell_type": "code",
      "execution_count": 145,
      "source": [
        "### Find out average marks scored in subject SQL? ###\n",
        "\n",
        "\n",
        "\n",
        "# Extracted col= name with SQL_data=marks\n",
        "\n",
        "\n",
        "# Extracted only SQL_data=marks\n",
        "\n",
        "# mathematical operation\n",
        "avg_of_SQL_marks = sum(all_SQL_marks)/total_element_in_SQL_marks\n",
        "print('avg_of_SQL_marks:',avg_of_SQL_marks)\n"
      ],
      "outputs": [
        {
          "output_type": "stream",
          "name": "stdout",
          "text": [
            "avg_of_SQL_marks: 28.0\n"
          ]
        }
      ],
      "metadata": {
        "execution": {
          "iopub.status.busy": "2021-12-11T07:50:08.483261Z",
          "iopub.execute_input": "2021-12-11T07:50:08.48356Z",
          "iopub.status.idle": "2021-12-11T07:50:08.490736Z",
          "shell.execute_reply.started": "2021-12-11T07:50:08.483531Z",
          "shell.execute_reply": "2021-12-11T07:50:08.490115Z"
        },
        "trusted": true,
        "id": "4RNm9UT0rP4k",
        "colab": {
          "base_uri": "https://localhost:8080/"
        },
        "outputId": "d60a92b2-5731-428b-c6a9-a7a1df86b302"
      }
    },
    {
      "cell_type": "code",
      "source": [
        "# Nested list containing student names and their marks\n",
        "student_marks = [\n",
        "    ['Name', ['Statistics', 'Python', 'SQL', 'ML', 'DeepLearning']],\n",
        "    ['Ananya', [41, 34, 45, 55, 63]],\n",
        "    ['Akash', [42, 23, 34, 44, 53]],\n",
        "    ['Rahul', [32, 23, 13, 54, 67]],\n",
        "    ['Gyan', [23, 82, 23, 63, 34]],\n",
        "    ['Pranav', [21, 23, 25, 56, 56]]\n",
        "]\n",
        "\n",
        "# Step 1: Extract the list of subjects\n",
        "subjects = student_marks[0][1]\n",
        "\n",
        "# Step 2: Calculate total possible marks\n",
        "total_possible_marks = len(subjects) * 100  # Assuming each subject is out of 100\n",
        "\n",
        "# Step 3: Compute individual percentages\n",
        "student_percentages = []\n",
        "for student in student_marks[1:]:\n",
        "    name = student[0]\n",
        "    marks = student[1]\n",
        "    total_obtained = sum(marks)\n",
        "    percentage = (total_obtained / total_possible_marks) * 100\n",
        "    student_percentages.append((name, percentage))\n",
        "\n",
        "# Step 4: Identify the top scorer\n",
        "top_scorer = max(student_percentages, key=lambda x: x[1])\n",
        "print(f\"{top_scorer[0]} scored the highest overall percentage: {top_scorer[1]:.2f}%\")\n"
      ],
      "metadata": {
        "colab": {
          "base_uri": "https://localhost:8080/"
        },
        "id": "XmEf-jtfpqe1",
        "outputId": "55f39569-a5cc-4e78-ced8-75b3525c81ce"
      },
      "execution_count": 147,
      "outputs": [
        {
          "output_type": "stream",
          "name": "stdout",
          "text": [
            "Ananya scored the highest overall percentage: 47.60%\n"
          ]
        }
      ]
    },
    {
      "cell_type": "code",
      "execution_count": 148,
      "source": [
        "### Find out scored highest percentage of marks? ###\n",
        "student_marks = [['Name',['Statistics','Python','SQL','ML','DeepLearning']],\n",
        "                 ['Ananya',[41, 34,]]]\n",
        "\n",
        "\n",
        "\n",
        "\n"
      ],
      "outputs": [],
      "metadata": {
        "execution": {
          "iopub.status.busy": "2021-12-11T07:51:33.25188Z",
          "iopub.execute_input": "2021-12-11T07:51:33.252381Z",
          "iopub.status.idle": "2021-12-11T07:55:09.52883Z",
          "shell.execute_reply.started": "2021-12-11T07:51:33.252342Z",
          "shell.execute_reply": "2021-12-11T07:55:09.527987Z"
        },
        "trusted": true,
        "id": "wz8BshX9rP4k"
      }
    },
    {
      "cell_type": "code",
      "execution_count": 149,
      "source": [
        "### solv for `If considered only top-4 subjects of a candidate, then who scored the highest percentage of marks?` ###\n",
        "student_marks = [['Name',['Statistics','Python','SQL','ML','DeepLearning']],\n",
        "                 ['Ananya',[41, 34,]]]\n",
        "\n",
        "\n",
        "\n"
      ],
      "outputs": [],
      "metadata": {
        "execution": {
          "iopub.status.busy": "2021-12-11T07:58:52.945371Z",
          "iopub.execute_input": "2021-12-11T07:58:52.945655Z",
          "iopub.status.idle": "2021-12-11T07:58:58.969944Z",
          "shell.execute_reply.started": "2021-12-11T07:58:52.945623Z",
          "shell.execute_reply": "2021-12-11T07:58:58.96934Z"
        },
        "trusted": true,
        "id": "5iPh1wnDrP4k"
      }
    },
    {
      "cell_type": "markdown",
      "source": [
        "----"
      ],
      "metadata": {
        "id": "BM93iUT5rP4l"
      }
    },
    {
      "cell_type": "markdown",
      "source": [
        "# **`Sets`**\n",
        "* Unordered collection of elements (if you put some data in order inside  set it will discard order)\n",
        "    * It shorts elements by itself (see below example)\n",
        "* No duplicates only unique values\n",
        "    * Put duplicates in set it will auto remove them\n",
        "* Mutable can add, remove values\n",
        "* Set Theory operations are possible like Union,Intersection etc...\n",
        "    * `intersection` of 2 sets => set_1.intersection(set_2)\n",
        "    * `union` of 2 sets => set_1.union(set_2) .."
      ],
      "metadata": {
        "id": "XsNXA8nhrP4l"
      }
    },
    {
      "cell_type": "markdown",
      "source": [
        "### **`Watch Video : Sets`**"
      ],
      "metadata": {
        "id": "gIWj5Sgwden1"
      }
    },
    {
      "cell_type": "code",
      "execution_count": 150,
      "source": [
        "# define set named as set_ with values 'b','c','a','z'\n",
        "set_ = {'b','c','a','z'}\n",
        "# print set_\n",
        "print(set_)\n",
        "\n",
        "# print set\n",
        "print(set)\n",
        "\n"
      ],
      "outputs": [
        {
          "output_type": "stream",
          "name": "stdout",
          "text": [
            "{'c', 'z', 'a', 'b'}\n",
            "<class 'set'>\n"
          ]
        }
      ],
      "metadata": {
        "execution": {
          "iopub.status.busy": "2021-12-13T10:35:08.133473Z",
          "iopub.execute_input": "2021-12-13T10:35:08.133731Z",
          "iopub.status.idle": "2021-12-13T10:35:08.139556Z",
          "shell.execute_reply.started": "2021-12-13T10:35:08.133703Z",
          "shell.execute_reply": "2021-12-13T10:35:08.138794Z"
        },
        "trusted": true,
        "id": "DLSJiWUSrP4l",
        "colab": {
          "base_uri": "https://localhost:8080/"
        },
        "outputId": "22f1b045-f107-4136-acf0-40d3e071f1aa"
      }
    },
    {
      "cell_type": "code",
      "execution_count": 151,
      "source": [
        "# define list namead as frt with elements as 'mango','banana','mango','banana'\n",
        "frt = ['mango','banana','mango','banana']\n",
        "# print frt\n",
        "print(frt)\n",
        "\n",
        "# define a set named as set_ with elements as 'mango','banana','mango','banana'\n",
        "set_ = {'mango','banana','mango','banana'}\n",
        "# print set_\n",
        "print(set_)\n",
        "\n",
        "# print set\n",
        "print(set)\n"
      ],
      "outputs": [
        {
          "output_type": "stream",
          "name": "stdout",
          "text": [
            "['mango', 'banana', 'mango', 'banana']\n",
            "{'banana', 'mango'}\n",
            "<class 'set'>\n"
          ]
        }
      ],
      "metadata": {
        "execution": {
          "iopub.status.busy": "2021-12-13T10:34:31.333664Z",
          "iopub.execute_input": "2021-12-13T10:34:31.33395Z",
          "iopub.status.idle": "2021-12-13T10:34:31.340853Z",
          "shell.execute_reply.started": "2021-12-13T10:34:31.333921Z",
          "shell.execute_reply": "2021-12-13T10:34:31.339951Z"
        },
        "trusted": true,
        "id": "ifReR9qIrP4l",
        "colab": {
          "base_uri": "https://localhost:8080/"
        },
        "outputId": "94b8434e-675e-420b-f1fc-5e24d96a808e"
      }
    },
    {
      "cell_type": "code",
      "execution_count": 152,
      "source": [
        "# make a set named as set_data and values as 4,'A',5,1,'V','L'\n",
        "set_data = {4,'A',5,1,'V','L'}\n",
        "# print set_data\n",
        "print(set_data)\n",
        "\n",
        "# print set_data #<= results are shorted\n",
        "\n",
        "\n",
        "\n"
      ],
      "outputs": [
        {
          "output_type": "stream",
          "name": "stdout",
          "text": [
            "{1, 4, 5, 'L', 'V', 'A'}\n"
          ]
        }
      ],
      "metadata": {
        "execution": {
          "iopub.status.busy": "2021-12-13T10:35:53.058813Z",
          "iopub.execute_input": "2021-12-13T10:35:53.059133Z",
          "iopub.status.idle": "2021-12-13T10:35:53.065121Z",
          "shell.execute_reply.started": "2021-12-13T10:35:53.0591Z",
          "shell.execute_reply": "2021-12-13T10:35:53.064528Z"
        },
        "trusted": true,
        "id": "14_MnlmYrP4l",
        "colab": {
          "base_uri": "https://localhost:8080/"
        },
        "outputId": "d450282e-8877-44f5-d252-65913000fe7c"
      }
    },
    {
      "cell_type": "code",
      "execution_count": 153,
      "source": [
        "# No duplicates only unique values\n",
        "# make a set named as set_data and values as 4,4,5,1,'V','V'\n",
        "set_data = {4,4,5,1,'V','V'}\n",
        "# print set_data\n",
        "print(set_data)\n",
        "\n",
        "# print set_data\n",
        "\n",
        "\n",
        "\n"
      ],
      "outputs": [
        {
          "output_type": "stream",
          "name": "stdout",
          "text": [
            "{1, 4, 5, 'V'}\n"
          ]
        }
      ],
      "metadata": {
        "execution": {
          "iopub.status.busy": "2021-12-13T10:36:04.201399Z",
          "iopub.execute_input": "2021-12-13T10:36:04.201965Z",
          "iopub.status.idle": "2021-12-13T10:36:04.207641Z",
          "shell.execute_reply.started": "2021-12-13T10:36:04.201927Z",
          "shell.execute_reply": "2021-12-13T10:36:04.206918Z"
        },
        "trusted": true,
        "id": "HxKlhWFIrP4l",
        "colab": {
          "base_uri": "https://localhost:8080/"
        },
        "outputId": "3170ce69-8e9d-4ccb-f816-c53612e2ab8f"
      }
    },
    {
      "cell_type": "code",
      "execution_count": 155,
      "source": [
        "# make tuple named  as tuple_data with values as 'A', 'B', 1, 2, 'B', 'A'\n",
        "tuple_data = ('A', 'B', 1, 2, 'B', 'A')\n",
        "# print tuple_data\n",
        "print(tuple_data)\n",
        "\n",
        "\n",
        "\n",
        "# make a variable names as var_1 and convert it into set\n",
        "var_1 = set(tuple_data)\n",
        "# print var_1\n",
        "print(var_1)\n",
        "\n",
        "\n",
        "\n",
        "\n",
        "\n"
      ],
      "outputs": [
        {
          "output_type": "stream",
          "name": "stdout",
          "text": [
            "('A', 'B', 1, 2, 'B', 'A')\n",
            "{1, 2, 'B', 'A'}\n"
          ]
        }
      ],
      "metadata": {
        "execution": {
          "iopub.status.busy": "2021-12-13T10:37:15.538461Z",
          "iopub.execute_input": "2021-12-13T10:37:15.539051Z",
          "iopub.status.idle": "2021-12-13T10:37:15.544971Z",
          "shell.execute_reply.started": "2021-12-13T10:37:15.539016Z",
          "shell.execute_reply": "2021-12-13T10:37:15.544206Z"
        },
        "trusted": true,
        "id": "EMm2IUSSrP4l",
        "colab": {
          "base_uri": "https://localhost:8080/"
        },
        "outputId": "4435aa5c-9691-4f4c-9bbf-a24c9104dc4f"
      }
    },
    {
      "cell_type": "code",
      "execution_count": 156,
      "source": [
        "# Defining a set using a List\n",
        "\n",
        "# define a list named as list_data with values as  'A', 'B', 1, 2, 'B', 'A'] # this is a list with duplicate data\n",
        "list_data = ['A', 'B', 1, 2, 'B', 'A']\n",
        "# print list_data\n",
        "print(list_data)\n",
        "\n",
        "# change set_from_list to  set # set will remove duplicates\n",
        "set_from_list = set(list_data)\n",
        "# print set_from_list\n",
        "print(set_from_list)\n",
        "\n",
        "# print set_from_list)\n",
        "print(set_from_list)\n",
        "\n",
        "# Defining a set using a Tuple named as tuple_data with values as 'A', 'B', 1, 2, 'B', 'A'\n",
        "tuple_data = ('A', 'B', 1, 2, 'B', 'A')\n",
        "# print tuple_data\n",
        "print(tuple_data)\n",
        "\n",
        "# make variable named as set_from_tuple, change tuple_data into set\n",
        "set_from_tuple = set(tuple_data)\n",
        "# print set_from_tuple)\n",
        "print(set_from_tuple)\n",
        "\n",
        "\n"
      ],
      "outputs": [
        {
          "output_type": "stream",
          "name": "stdout",
          "text": [
            "['A', 'B', 1, 2, 'B', 'A']\n",
            "{1, 2, 'B', 'A'}\n",
            "{1, 2, 'B', 'A'}\n",
            "('A', 'B', 1, 2, 'B', 'A')\n",
            "{1, 2, 'B', 'A'}\n"
          ]
        }
      ],
      "metadata": {
        "execution": {
          "iopub.status.busy": "2021-12-13T10:36:12.493525Z",
          "iopub.execute_input": "2021-12-13T10:36:12.493797Z",
          "iopub.status.idle": "2021-12-13T10:36:12.500748Z",
          "shell.execute_reply.started": "2021-12-13T10:36:12.493769Z",
          "shell.execute_reply": "2021-12-13T10:36:12.499845Z"
        },
        "trusted": true,
        "id": "Qs0Fw69SrP4l",
        "colab": {
          "base_uri": "https://localhost:8080/"
        },
        "outputId": "d657c8b0-20ee-4f7f-a337-1303808ea306"
      }
    },
    {
      "cell_type": "code",
      "execution_count": 157,
      "source": [
        "# see set_from_tuple output\n",
        "set_from_tuple\n",
        "\n",
        "\n"
      ],
      "outputs": [
        {
          "output_type": "execute_result",
          "data": {
            "text/plain": [
              "{1, 2, 'A', 'B'}"
            ]
          },
          "metadata": {},
          "execution_count": 157
        }
      ],
      "metadata": {
        "execution": {
          "iopub.status.busy": "2021-12-13T10:37:33.379214Z",
          "iopub.execute_input": "2021-12-13T10:37:33.379859Z",
          "iopub.status.idle": "2021-12-13T10:37:33.385068Z",
          "shell.execute_reply.started": "2021-12-13T10:37:33.379825Z",
          "shell.execute_reply": "2021-12-13T10:37:33.383741Z"
        },
        "trusted": true,
        "id": "-zK2B4EVrP4m",
        "colab": {
          "base_uri": "https://localhost:8080/"
        },
        "outputId": "1d065be6-b76b-4295-be4e-d893a6974d1a"
      }
    },
    {
      "cell_type": "code",
      "execution_count": 158,
      "source": [
        "# add 0 to set_from_tuple\n",
        "set_from_tuple.add(0)\n",
        "# print set_from_tuple\n",
        "print(set_from_tuple)\n",
        "\n",
        "\n"
      ],
      "outputs": [
        {
          "output_type": "stream",
          "name": "stdout",
          "text": [
            "{0, 1, 2, 'B', 'A'}\n"
          ]
        }
      ],
      "metadata": {
        "execution": {
          "iopub.status.busy": "2021-12-13T10:37:50.051093Z",
          "iopub.execute_input": "2021-12-13T10:37:50.051518Z",
          "iopub.status.idle": "2021-12-13T10:37:50.056057Z",
          "shell.execute_reply.started": "2021-12-13T10:37:50.051475Z",
          "shell.execute_reply": "2021-12-13T10:37:50.055307Z"
        },
        "trusted": true,
        "id": "IbTLUsjZrP4m",
        "colab": {
          "base_uri": "https://localhost:8080/"
        },
        "outputId": "68feb2de-92fa-47d7-cf86-76407419971d"
      }
    },
    {
      "cell_type": "code",
      "execution_count": 159,
      "source": [
        "# make variable named as set_ with values as 'b','c','a','z'\n",
        "set_ = {'b','c','a','z'}\n",
        "# print set_\n",
        "print(set_)\n",
        "\n",
        "\n"
      ],
      "outputs": [
        {
          "output_type": "stream",
          "name": "stdout",
          "text": [
            "{'c', 'z', 'a', 'b'}\n"
          ]
        }
      ],
      "metadata": {
        "execution": {
          "iopub.status.busy": "2021-12-13T10:38:42.235458Z",
          "iopub.execute_input": "2021-12-13T10:38:42.235906Z",
          "iopub.status.idle": "2021-12-13T10:38:42.241784Z",
          "shell.execute_reply.started": "2021-12-13T10:38:42.235854Z",
          "shell.execute_reply": "2021-12-13T10:38:42.241004Z"
        },
        "trusted": true,
        "id": "1UvNVglBrP4m",
        "colab": {
          "base_uri": "https://localhost:8080/"
        },
        "outputId": "06be8e95-14a6-45d5-8e66-4fbffb6ce0dc"
      }
    },
    {
      "cell_type": "code",
      "execution_count": 160,
      "source": [
        "# add x to set_\n",
        "set_.add('x')\n",
        "# print set_\n",
        "print(set_)\n",
        "\n",
        "\n"
      ],
      "outputs": [
        {
          "output_type": "stream",
          "name": "stdout",
          "text": [
            "{'x', 'c', 'z', 'a', 'b'}\n"
          ]
        }
      ],
      "metadata": {
        "execution": {
          "iopub.status.busy": "2021-12-13T10:39:16.169691Z",
          "iopub.execute_input": "2021-12-13T10:39:16.170247Z",
          "iopub.status.idle": "2021-12-13T10:39:16.176298Z",
          "shell.execute_reply.started": "2021-12-13T10:39:16.170208Z",
          "shell.execute_reply": "2021-12-13T10:39:16.175352Z"
        },
        "trusted": true,
        "id": "AtqlCQhwrP4m",
        "colab": {
          "base_uri": "https://localhost:8080/"
        },
        "outputId": "e2b2e317-0ccb-4d83-e061-c72af8e4374f"
      }
    },
    {
      "cell_type": "code",
      "execution_count": 161,
      "source": [
        "# Add 0 to set set_from_tuple\n",
        "# print set_from_tuple # 0 is added at the starting of set, as set orders by itself\n",
        "set_from_tuple.add(0)\n",
        "print(set_from_tuple)\n",
        "\n",
        "\n",
        "\n",
        "\n",
        "# adding C to set set_from_tuple\n",
        "# print set_from_tuple # c is added at the last of set, as set orders by itself\n",
        "set_from_tuple.add('C')\n",
        "print(set_from_tuple)\n",
        "\n",
        "\n",
        "\n",
        "\n"
      ],
      "outputs": [
        {
          "output_type": "stream",
          "name": "stdout",
          "text": [
            "{0, 1, 2, 'B', 'A'}\n",
            "{0, 1, 2, 'B', 'A', 'C'}\n"
          ]
        }
      ],
      "metadata": {
        "execution": {
          "iopub.status.busy": "2021-12-11T06:15:31.956065Z",
          "iopub.execute_input": "2021-12-11T06:15:31.956351Z",
          "iopub.status.idle": "2021-12-11T06:15:31.960879Z",
          "shell.execute_reply.started": "2021-12-11T06:15:31.956323Z",
          "shell.execute_reply": "2021-12-11T06:15:31.960304Z"
        },
        "trusted": true,
        "id": "cDyIT-tlrP4m",
        "colab": {
          "base_uri": "https://localhost:8080/"
        },
        "outputId": "7533244b-5394-44fe-c8c4-72c5fa8b3cc1"
      }
    },
    {
      "cell_type": "markdown",
      "source": [
        "# delete element from set"
      ],
      "metadata": {
        "id": "EDd-kK1ZrP4m"
      }
    },
    {
      "cell_type": "code",
      "execution_count": 162,
      "source": [
        "# see output of set_from_tuple\n",
        "set_from_tuple\n",
        "\n",
        "\n"
      ],
      "outputs": [
        {
          "output_type": "execute_result",
          "data": {
            "text/plain": [
              "{0, 1, 2, 'A', 'B', 'C'}"
            ]
          },
          "metadata": {},
          "execution_count": 162
        }
      ],
      "metadata": {
        "execution": {
          "iopub.status.busy": "2021-12-13T10:39:44.118476Z",
          "iopub.execute_input": "2021-12-13T10:39:44.118756Z",
          "iopub.status.idle": "2021-12-13T10:39:44.124827Z",
          "shell.execute_reply.started": "2021-12-13T10:39:44.118721Z",
          "shell.execute_reply": "2021-12-13T10:39:44.123926Z"
        },
        "trusted": true,
        "id": "aN2nrR1arP4m",
        "colab": {
          "base_uri": "https://localhost:8080/"
        },
        "outputId": "26289963-56b4-4f48-ec0f-e0df6acdce8f"
      }
    },
    {
      "cell_type": "code",
      "execution_count": 163,
      "source": [
        "# use discard to remove 0 from set_from_tuple\n",
        "# see output of set_from_tuple\n",
        "set_from_tuple.discard(0)\n",
        "print(set_from_tuple)\n",
        "\n",
        "\n"
      ],
      "outputs": [
        {
          "output_type": "stream",
          "name": "stdout",
          "text": [
            "{1, 2, 'B', 'A', 'C'}\n"
          ]
        }
      ],
      "metadata": {
        "execution": {
          "iopub.status.busy": "2021-12-13T10:40:23.456412Z",
          "iopub.execute_input": "2021-12-13T10:40:23.456723Z",
          "iopub.status.idle": "2021-12-13T10:40:23.464155Z",
          "shell.execute_reply.started": "2021-12-13T10:40:23.456685Z",
          "shell.execute_reply": "2021-12-13T10:40:23.46307Z"
        },
        "trusted": true,
        "id": "j6igfM8nrP4m",
        "colab": {
          "base_uri": "https://localhost:8080/"
        },
        "outputId": "99f80070-2b4a-4b7a-cce5-20d1b67d302c"
      }
    },
    {
      "cell_type": "code",
      "execution_count": 164,
      "source": [
        "# from set_from_tuple discard 9\n",
        "# print set_from_tuple\n",
        "set_from_tuple.discard(9)\n",
        "print(set_from_tuple)\n",
        "\n",
        "\n"
      ],
      "outputs": [
        {
          "output_type": "stream",
          "name": "stdout",
          "text": [
            "{1, 2, 'B', 'A', 'C'}\n"
          ]
        }
      ],
      "metadata": {
        "execution": {
          "iopub.status.busy": "2021-12-13T10:40:39.372293Z",
          "iopub.execute_input": "2021-12-13T10:40:39.372555Z",
          "iopub.status.idle": "2021-12-13T10:40:39.378787Z",
          "shell.execute_reply.started": "2021-12-13T10:40:39.372528Z",
          "shell.execute_reply": "2021-12-13T10:40:39.377808Z"
        },
        "trusted": true,
        "id": "1nehzTjkrP4m",
        "colab": {
          "base_uri": "https://localhost:8080/"
        },
        "outputId": "e3f2e82f-6496-4582-baaa-82691be533f8"
      }
    },
    {
      "cell_type": "code",
      "execution_count": 165,
      "source": [
        "# delete element from set (two methods are as)\n",
        "## discard() : if element not in set, it will not show error\n",
        "## remove() : if element not in set, it will show error\n",
        "set_from_tuple.discard(0.0)\n",
        "print(set_from_tuple)\n",
        "\n",
        "\n",
        "\n",
        "\n"
      ],
      "outputs": [
        {
          "output_type": "stream",
          "name": "stdout",
          "text": [
            "{1, 2, 'B', 'A', 'C'}\n"
          ]
        }
      ],
      "metadata": {
        "execution": {
          "iopub.status.busy": "2021-12-11T06:18:45.978965Z",
          "iopub.execute_input": "2021-12-11T06:18:45.979547Z",
          "iopub.status.idle": "2021-12-11T06:18:45.983234Z",
          "shell.execute_reply.started": "2021-12-11T06:18:45.979512Z",
          "shell.execute_reply": "2021-12-11T06:18:45.982497Z"
        },
        "trusted": true,
        "id": "aMvJSw36rP4m",
        "colab": {
          "base_uri": "https://localhost:8080/"
        },
        "outputId": "06d44db7-fb65-40f5-a76a-a3f4bea2986a"
      }
    },
    {
      "cell_type": "markdown",
      "source": [
        "# Difference b/w two set (set_1 - set_2)"
      ],
      "metadata": {
        "id": "GzSBD7aarP4n"
      }
    },
    {
      "cell_type": "code",
      "execution_count": 166,
      "source": [
        "# set_1 - set_2 => states that, collect every element of set_1 after removing thouse element which are common in set_1 and set_2\n",
        "\n",
        "\n",
        "# define a set named as set_1 with elements as 1,2,3,'A','B'\n",
        "set_1 = {1,2,3,'A','B'}\n",
        "# define a set named as set_2 with elements as 3,'A'\n",
        "set_2 = {3,'A'}\n",
        "# print set_1 - set_2\n",
        "print(set_1 - set_2)\n",
        "# difference of set_1 and set_2\n",
        "print(set_1.difference(set_2))\n",
        "# see difference between set_1 and set_2)\n",
        "print(set_1)\n",
        "# print set_1\n",
        "\n",
        "\n",
        "\n",
        "\n",
        "\n",
        "\n"
      ],
      "outputs": [
        {
          "output_type": "stream",
          "name": "stdout",
          "text": [
            "{1, 2, 'B'}\n",
            "{1, 2, 'B'}\n",
            "{1, 2, 3, 'B', 'A'}\n"
          ]
        }
      ],
      "metadata": {
        "execution": {
          "iopub.status.busy": "2021-12-13T10:43:00.403679Z",
          "iopub.execute_input": "2021-12-13T10:43:00.404461Z",
          "iopub.status.idle": "2021-12-13T10:43:00.411534Z",
          "shell.execute_reply.started": "2021-12-13T10:43:00.404418Z",
          "shell.execute_reply": "2021-12-13T10:43:00.410581Z"
        },
        "trusted": true,
        "id": "yUJSP6ggrP4n",
        "colab": {
          "base_uri": "https://localhost:8080/"
        },
        "outputId": "4b79d11c-de83-4f9d-8072-cd5a31f68369"
      }
    },
    {
      "cell_type": "code",
      "execution_count": 167,
      "source": [
        "# if you want ot update set_1 by difference\n",
        "set_1.difference_update(set_2)\n",
        "set_1\n",
        "\n",
        "# using difference_update update set_1 and set_2\n",
        "# print set_1\n",
        "print(set_1)\n",
        "# print set_2\n",
        "print(set_2)\n",
        "\n",
        "\n",
        "\n"
      ],
      "outputs": [
        {
          "output_type": "stream",
          "name": "stdout",
          "text": [
            "{1, 2, 'B'}\n",
            "{3, 'A'}\n"
          ]
        }
      ],
      "metadata": {
        "execution": {
          "iopub.status.busy": "2021-12-13T10:43:13.85441Z",
          "iopub.execute_input": "2021-12-13T10:43:13.854716Z",
          "iopub.status.idle": "2021-12-13T10:43:13.860912Z",
          "shell.execute_reply.started": "2021-12-13T10:43:13.85468Z",
          "shell.execute_reply": "2021-12-13T10:43:13.860085Z"
        },
        "trusted": true,
        "id": "2iJJJttErP4n",
        "colab": {
          "base_uri": "https://localhost:8080/"
        },
        "outputId": "a704c920-9212-45c9-ce63-8a3b346a57a6"
      }
    },
    {
      "cell_type": "markdown",
      "source": [
        "# Intersection b/w two set (set_1 - set_2)"
      ],
      "metadata": {
        "id": "M-ocEPqmrP4n"
      }
    },
    {
      "cell_type": "code",
      "execution_count": 168,
      "source": [
        "# collect only elements which are common b/w both sets\n",
        "set_1 = {1,2,3,'A','B'}\n",
        "set_2 = {3,'A'}\n",
        "set_1.intersection(set_2)\n",
        "set_1"
      ],
      "outputs": [
        {
          "output_type": "execute_result",
          "data": {
            "text/plain": [
              "{1, 2, 3, 'A', 'B'}"
            ]
          },
          "metadata": {},
          "execution_count": 168
        }
      ],
      "metadata": {
        "execution": {
          "iopub.status.busy": "2021-12-13T10:43:58.377047Z",
          "iopub.execute_input": "2021-12-13T10:43:58.377355Z",
          "iopub.status.idle": "2021-12-13T10:43:58.384648Z",
          "shell.execute_reply.started": "2021-12-13T10:43:58.377316Z",
          "shell.execute_reply": "2021-12-13T10:43:58.383813Z"
        },
        "trusted": true,
        "id": "o25pTFa5rP4n",
        "colab": {
          "base_uri": "https://localhost:8080/"
        },
        "outputId": "272dd15f-9ee5-4dc2-9719-9b7751a09637"
      }
    },
    {
      "cell_type": "code",
      "execution_count": 169,
      "source": [
        "# if you want ot update set_1 by intersection\n",
        "set_1.intersection_update(set_2)\n",
        "set_1"
      ],
      "outputs": [
        {
          "output_type": "execute_result",
          "data": {
            "text/plain": [
              "{3, 'A'}"
            ]
          },
          "metadata": {},
          "execution_count": 169
        }
      ],
      "metadata": {
        "execution": {
          "iopub.status.busy": "2021-12-13T10:44:04.442569Z",
          "iopub.execute_input": "2021-12-13T10:44:04.443196Z",
          "iopub.status.idle": "2021-12-13T10:44:04.449452Z",
          "shell.execute_reply.started": "2021-12-13T10:44:04.44314Z",
          "shell.execute_reply": "2021-12-13T10:44:04.448782Z"
        },
        "trusted": true,
        "id": "ONav5Mx6rP4n",
        "colab": {
          "base_uri": "https://localhost:8080/"
        },
        "outputId": "c9ed0f44-1fa6-4b66-ddd3-f84996986f96"
      }
    },
    {
      "cell_type": "markdown",
      "source": [
        "----"
      ],
      "metadata": {
        "id": "1F9jH1x7rP4n"
      }
    },
    {
      "cell_type": "markdown",
      "source": [
        "# **`Dictionary`** => `key:value`\n",
        "* Unordered data structure\n",
        "* Collection of multiple lists can say, looks like set{} but have {key:value} pairs for storing elements\n",
        "    * student_information is a dictionay and it have name,age,email,adress etc store in form of list how see bellow example\n",
        "* `Element of dictionary can only be acessed by using key not Index`\n",
        "* Every key must be unique\n",
        "\n",
        "`{} -> curly brac`"
      ],
      "metadata": {
        "id": "1jNZ_aKnrP4n"
      }
    },
    {
      "cell_type": "markdown",
      "source": [
        "### **`Watch Video : Dictionary`**"
      ],
      "metadata": {
        "id": "b0gQZ2v1dm5t"
      }
    },
    {
      "cell_type": "code",
      "execution_count": 170,
      "source": [
        "# student details\n",
        "names = ['Viranda','Sandhu','Rama','Yoga']\n",
        "height = [120,130,140,150]\n",
        "weight = [56,60,45,90]\n",
        "age = [23,34,56,55]\n",
        "\n",
        "\"\"\"\n",
        "dict = { key:values }\n",
        "\"\"\"\n",
        "\n",
        "### storing all these 4 lists in a dict using key:value  # once data structure inside other\n",
        "student_details_dict = {\n",
        "    'names' : ['Viranda','Sandhu','Rama','Yoga'],\n",
        "    'height' : [120,130,140,150],\n",
        "    'weight' : [56,60,45,90],\n",
        "    'age' : [23,34,56,55]\n",
        "}"
      ],
      "outputs": [],
      "metadata": {
        "execution": {
          "iopub.status.busy": "2021-12-13T09:55:55.007857Z",
          "iopub.execute_input": "2021-12-13T09:55:55.008155Z",
          "iopub.status.idle": "2021-12-13T09:55:55.016151Z",
          "shell.execute_reply.started": "2021-12-13T09:55:55.008123Z",
          "shell.execute_reply": "2021-12-13T09:55:55.015078Z"
        },
        "trusted": true,
        "id": "vhdeUMEarP4n"
      }
    },
    {
      "cell_type": "markdown",
      "source": [
        "* Above name,height are the `key` and list's data are the `value pair` associated with the key\n",
        "    * can say each key is mapped to multiple values\n",
        "* Above is the representation of advanced data structure as you can see list inside a dictionary"
      ],
      "metadata": {
        "id": "FFiDiI_PrP4o"
      }
    },
    {
      "cell_type": "code",
      "execution_count": 171,
      "source": [
        "### Acessing elements of dict ###\n",
        "student_details_dict = {\n",
        "    'names' : ['Ohm','Sandhu','Rama','Yoga'],\n",
        "    'height' : [120,130,140,150],\n",
        "    'weight' : [56,60,45,90],\n",
        "    'age' : [23,34,56,55]\n",
        "}\n",
        "\n",
        "# trying to acess using index will give error\n",
        "student_details_dict[0]\n"
      ],
      "outputs": [
        {
          "output_type": "error",
          "ename": "KeyError",
          "evalue": "0",
          "traceback": [
            "\u001b[0;31m---------------------------------------------------------------------------\u001b[0m",
            "\u001b[0;31mKeyError\u001b[0m                                  Traceback (most recent call last)",
            "\u001b[0;32m<ipython-input-171-939d01fd8d6e>\u001b[0m in \u001b[0;36m<cell line: 0>\u001b[0;34m()\u001b[0m\n\u001b[1;32m      8\u001b[0m \u001b[0;34m\u001b[0m\u001b[0m\n\u001b[1;32m      9\u001b[0m \u001b[0;31m# trying to acess using index will give error\u001b[0m\u001b[0;34m\u001b[0m\u001b[0;34m\u001b[0m\u001b[0m\n\u001b[0;32m---> 10\u001b[0;31m \u001b[0mstudent_details_dict\u001b[0m\u001b[0;34m[\u001b[0m\u001b[0;36m0\u001b[0m\u001b[0;34m]\u001b[0m\u001b[0;34m\u001b[0m\u001b[0;34m\u001b[0m\u001b[0m\n\u001b[0m",
            "\u001b[0;31mKeyError\u001b[0m: 0"
          ]
        }
      ],
      "metadata": {
        "execution": {
          "iopub.status.busy": "2021-12-13T09:57:01.923008Z",
          "iopub.execute_input": "2021-12-13T09:57:01.9233Z",
          "iopub.status.idle": "2021-12-13T09:57:01.940278Z",
          "shell.execute_reply.started": "2021-12-13T09:57:01.92327Z",
          "shell.execute_reply": "2021-12-13T09:57:01.939181Z"
        },
        "trusted": true,
        "id": "E-Fr1AeJrP4o",
        "colab": {
          "base_uri": "https://localhost:8080/",
          "height": 176
        },
        "outputId": "af41c380-4a50-4447-ff8d-1002689ebd14"
      }
    },
    {
      "cell_type": "code",
      "execution_count": 172,
      "source": [
        "student_details_dict['age']"
      ],
      "outputs": [
        {
          "output_type": "execute_result",
          "data": {
            "text/plain": [
              "[23, 34, 56, 55]"
            ]
          },
          "metadata": {},
          "execution_count": 172
        }
      ],
      "metadata": {
        "execution": {
          "iopub.status.busy": "2021-12-13T09:58:13.100091Z",
          "iopub.execute_input": "2021-12-13T09:58:13.100392Z",
          "iopub.status.idle": "2021-12-13T09:58:13.106757Z",
          "shell.execute_reply.started": "2021-12-13T09:58:13.100356Z",
          "shell.execute_reply": "2021-12-13T09:58:13.105836Z"
        },
        "trusted": true,
        "id": "yBZ4q0E2rP4o",
        "colab": {
          "base_uri": "https://localhost:8080/"
        },
        "outputId": "ae4e3c90-ffef-44e7-cafe-82b1ada4ecc4"
      }
    },
    {
      "cell_type": "code",
      "execution_count": 173,
      "source": [
        "student_details_dict"
      ],
      "outputs": [
        {
          "output_type": "execute_result",
          "data": {
            "text/plain": [
              "{'names': ['Ohm', 'Sandhu', 'Rama', 'Yoga'],\n",
              " 'height': [120, 130, 140, 150],\n",
              " 'weight': [56, 60, 45, 90],\n",
              " 'age': [23, 34, 56, 55]}"
            ]
          },
          "metadata": {},
          "execution_count": 173
        }
      ],
      "metadata": {
        "execution": {
          "iopub.status.busy": "2021-12-13T09:58:55.922327Z",
          "iopub.execute_input": "2021-12-13T09:58:55.922743Z",
          "iopub.status.idle": "2021-12-13T09:58:55.928051Z",
          "shell.execute_reply.started": "2021-12-13T09:58:55.92271Z",
          "shell.execute_reply": "2021-12-13T09:58:55.927326Z"
        },
        "trusted": true,
        "id": "82I92AVerP4o",
        "colab": {
          "base_uri": "https://localhost:8080/"
        },
        "outputId": "5240c389-8424-4490-a1c5-9e2839a8d93e"
      }
    },
    {
      "cell_type": "code",
      "execution_count": 174,
      "source": [
        "student_details_dict['names'][-1]"
      ],
      "outputs": [
        {
          "output_type": "execute_result",
          "data": {
            "text/plain": [
              "'Yoga'"
            ],
            "application/vnd.google.colaboratory.intrinsic+json": {
              "type": "string"
            }
          },
          "metadata": {},
          "execution_count": 174
        }
      ],
      "metadata": {
        "execution": {
          "iopub.status.busy": "2021-12-13T10:00:03.888062Z",
          "iopub.execute_input": "2021-12-13T10:00:03.888355Z",
          "iopub.status.idle": "2021-12-13T10:00:03.894125Z",
          "shell.execute_reply.started": "2021-12-13T10:00:03.888323Z",
          "shell.execute_reply": "2021-12-13T10:00:03.8932Z"
        },
        "trusted": true,
        "id": "fTkrcNdCrP4o",
        "colab": {
          "base_uri": "https://localhost:8080/",
          "height": 35
        },
        "outputId": "aa1206cf-a545-4bcc-eedb-c4851748ba4d"
      }
    },
    {
      "cell_type": "code",
      "execution_count": 175,
      "source": [
        "# trying to acess using key will give error\n",
        "\n",
        "print(student_details_dict['names'],'\\n')\n",
        "\n",
        "#getting into name key values\n",
        "print(student_details_dict['names'][1:])"
      ],
      "outputs": [
        {
          "output_type": "stream",
          "name": "stdout",
          "text": [
            "['Ohm', 'Sandhu', 'Rama', 'Yoga'] \n",
            "\n",
            "['Sandhu', 'Rama', 'Yoga']\n"
          ]
        }
      ],
      "metadata": {
        "execution": {
          "iopub.status.busy": "2021-12-13T09:57:39.804262Z",
          "iopub.execute_input": "2021-12-13T09:57:39.804977Z",
          "iopub.status.idle": "2021-12-13T09:57:39.810231Z",
          "shell.execute_reply.started": "2021-12-13T09:57:39.804939Z",
          "shell.execute_reply": "2021-12-13T09:57:39.809595Z"
        },
        "trusted": true,
        "id": "5HnJNpSVrP4o",
        "colab": {
          "base_uri": "https://localhost:8080/"
        },
        "outputId": "bf37c3b4-0c56-4d7e-c15b-82d6c8dd6d47"
      }
    },
    {
      "cell_type": "code",
      "execution_count": 176,
      "source": [
        "### Acessing keys ###\n",
        "student_details_dict.keys()"
      ],
      "outputs": [
        {
          "output_type": "execute_result",
          "data": {
            "text/plain": [
              "dict_keys(['names', 'height', 'weight', 'age'])"
            ]
          },
          "metadata": {},
          "execution_count": 176
        }
      ],
      "metadata": {
        "execution": {
          "iopub.status.busy": "2021-12-13T10:00:32.522274Z",
          "iopub.execute_input": "2021-12-13T10:00:32.522566Z",
          "iopub.status.idle": "2021-12-13T10:00:32.528149Z",
          "shell.execute_reply.started": "2021-12-13T10:00:32.522535Z",
          "shell.execute_reply": "2021-12-13T10:00:32.527394Z"
        },
        "trusted": true,
        "id": "MkV-hbCLrP4o",
        "colab": {
          "base_uri": "https://localhost:8080/"
        },
        "outputId": "6ba8f0a4-092a-4bae-f41e-0295e04123bd"
      }
    },
    {
      "cell_type": "code",
      "execution_count": 177,
      "source": [
        "### Acessing values ###\n",
        "student_details_dict.values()"
      ],
      "outputs": [
        {
          "output_type": "execute_result",
          "data": {
            "text/plain": [
              "dict_values([['Ohm', 'Sandhu', 'Rama', 'Yoga'], [120, 130, 140, 150], [56, 60, 45, 90], [23, 34, 56, 55]])"
            ]
          },
          "metadata": {},
          "execution_count": 177
        }
      ],
      "metadata": {
        "execution": {
          "iopub.status.busy": "2021-12-13T10:00:42.766539Z",
          "iopub.execute_input": "2021-12-13T10:00:42.766841Z",
          "iopub.status.idle": "2021-12-13T10:00:42.772659Z",
          "shell.execute_reply.started": "2021-12-13T10:00:42.766808Z",
          "shell.execute_reply": "2021-12-13T10:00:42.771701Z"
        },
        "trusted": true,
        "id": "sxApYLKkrP4o",
        "colab": {
          "base_uri": "https://localhost:8080/"
        },
        "outputId": "86a6892b-9686-43c0-8307-8e590a611dc6"
      }
    },
    {
      "cell_type": "markdown",
      "source": [
        "# Adding single element to dictionary"
      ],
      "metadata": {
        "id": "PpsBjTaVrP4o"
      }
    },
    {
      "cell_type": "code",
      "execution_count": 178,
      "source": [
        "student_details_dict"
      ],
      "outputs": [
        {
          "output_type": "execute_result",
          "data": {
            "text/plain": [
              "{'names': ['Ohm', 'Sandhu', 'Rama', 'Yoga'],\n",
              " 'height': [120, 130, 140, 150],\n",
              " 'weight': [56, 60, 45, 90],\n",
              " 'age': [23, 34, 56, 55]}"
            ]
          },
          "metadata": {},
          "execution_count": 178
        }
      ],
      "metadata": {
        "execution": {
          "iopub.status.busy": "2021-12-13T10:01:17.756443Z",
          "iopub.execute_input": "2021-12-13T10:01:17.756917Z",
          "iopub.status.idle": "2021-12-13T10:01:17.762487Z",
          "shell.execute_reply.started": "2021-12-13T10:01:17.756852Z",
          "shell.execute_reply": "2021-12-13T10:01:17.761665Z"
        },
        "trusted": true,
        "id": "_FBTPjTZrP4p",
        "colab": {
          "base_uri": "https://localhost:8080/"
        },
        "outputId": "55cd7e57-4fac-4354-c0ff-76d74d93c8cd"
      }
    },
    {
      "cell_type": "code",
      "execution_count": 179,
      "source": [
        "# dict_name['key_name'] = [values to update]\n",
        "student_details_dict['emails'] = ['as@gmail.com','asd@gmail.com','d@gmail.com','sd@gmail.com']\n",
        "\n",
        "student_details_dict"
      ],
      "outputs": [
        {
          "output_type": "execute_result",
          "data": {
            "text/plain": [
              "{'names': ['Ohm', 'Sandhu', 'Rama', 'Yoga'],\n",
              " 'height': [120, 130, 140, 150],\n",
              " 'weight': [56, 60, 45, 90],\n",
              " 'age': [23, 34, 56, 55],\n",
              " 'emails': ['as@gmail.com', 'asd@gmail.com', 'd@gmail.com', 'sd@gmail.com']}"
            ]
          },
          "metadata": {},
          "execution_count": 179
        }
      ],
      "metadata": {
        "execution": {
          "iopub.status.busy": "2021-12-13T10:01:41.410772Z",
          "iopub.execute_input": "2021-12-13T10:01:41.411494Z",
          "iopub.status.idle": "2021-12-13T10:01:41.417072Z",
          "shell.execute_reply.started": "2021-12-13T10:01:41.411448Z",
          "shell.execute_reply": "2021-12-13T10:01:41.416524Z"
        },
        "trusted": true,
        "id": "0wKUkHGFrP4p",
        "colab": {
          "base_uri": "https://localhost:8080/"
        },
        "outputId": "d3cd85e7-4464-4057-d521-bb867ceaad25"
      }
    },
    {
      "cell_type": "markdown",
      "source": [
        "# Adding multiple element to dictionary"
      ],
      "metadata": {
        "id": "WmJ6exLbrP4p"
      }
    },
    {
      "cell_type": "code",
      "execution_count": 180,
      "source": [
        "student_details_dict"
      ],
      "outputs": [
        {
          "output_type": "execute_result",
          "data": {
            "text/plain": [
              "{'names': ['Ohm', 'Sandhu', 'Rama', 'Yoga'],\n",
              " 'height': [120, 130, 140, 150],\n",
              " 'weight': [56, 60, 45, 90],\n",
              " 'age': [23, 34, 56, 55],\n",
              " 'emails': ['as@gmail.com', 'asd@gmail.com', 'd@gmail.com', 'sd@gmail.com']}"
            ]
          },
          "metadata": {},
          "execution_count": 180
        }
      ],
      "metadata": {
        "execution": {
          "iopub.status.busy": "2021-12-13T10:02:34.602964Z",
          "iopub.execute_input": "2021-12-13T10:02:34.603596Z",
          "iopub.status.idle": "2021-12-13T10:02:34.609421Z",
          "shell.execute_reply.started": "2021-12-13T10:02:34.603556Z",
          "shell.execute_reply": "2021-12-13T10:02:34.608851Z"
        },
        "trusted": true,
        "id": "EA49XnzsrP4p",
        "colab": {
          "base_uri": "https://localhost:8080/"
        },
        "outputId": "1d69d13b-643a-44cb-d50f-c2d4e2b38b96"
      }
    },
    {
      "cell_type": "code",
      "execution_count": 181,
      "source": [
        "# use of .update({'key':[value],'key1':[value1]})\n",
        "\n",
        "student_details_dict.update({'adress':['ana','dasd','asdad','adasd'],'sex':['m','m','m','m']})\n",
        "student_details_dict"
      ],
      "outputs": [
        {
          "output_type": "execute_result",
          "data": {
            "text/plain": [
              "{'names': ['Ohm', 'Sandhu', 'Rama', 'Yoga'],\n",
              " 'height': [120, 130, 140, 150],\n",
              " 'weight': [56, 60, 45, 90],\n",
              " 'age': [23, 34, 56, 55],\n",
              " 'emails': ['as@gmail.com', 'asd@gmail.com', 'd@gmail.com', 'sd@gmail.com'],\n",
              " 'adress': ['ana', 'dasd', 'asdad', 'adasd'],\n",
              " 'sex': ['m', 'm', 'm', 'm']}"
            ]
          },
          "metadata": {},
          "execution_count": 181
        }
      ],
      "metadata": {
        "execution": {
          "iopub.status.busy": "2021-12-13T10:02:45.619188Z",
          "iopub.execute_input": "2021-12-13T10:02:45.620076Z",
          "iopub.status.idle": "2021-12-13T10:02:45.627322Z",
          "shell.execute_reply.started": "2021-12-13T10:02:45.620025Z",
          "shell.execute_reply": "2021-12-13T10:02:45.626391Z"
        },
        "trusted": true,
        "id": "VO6IrvskrP4p",
        "colab": {
          "base_uri": "https://localhost:8080/"
        },
        "outputId": "c7315cb8-222a-4a6b-aadd-0a31e6f1a6a8"
      }
    },
    {
      "cell_type": "markdown",
      "source": [
        "# Deleting element of dictionary"
      ],
      "metadata": {
        "id": "pPXUz271rP4p"
      }
    },
    {
      "cell_type": "code",
      "execution_count": 182,
      "source": [
        "student_details_dict"
      ],
      "outputs": [
        {
          "output_type": "execute_result",
          "data": {
            "text/plain": [
              "{'names': ['Ohm', 'Sandhu', 'Rama', 'Yoga'],\n",
              " 'height': [120, 130, 140, 150],\n",
              " 'weight': [56, 60, 45, 90],\n",
              " 'age': [23, 34, 56, 55],\n",
              " 'emails': ['as@gmail.com', 'asd@gmail.com', 'd@gmail.com', 'sd@gmail.com'],\n",
              " 'adress': ['ana', 'dasd', 'asdad', 'adasd'],\n",
              " 'sex': ['m', 'm', 'm', 'm']}"
            ]
          },
          "metadata": {},
          "execution_count": 182
        }
      ],
      "metadata": {
        "execution": {
          "iopub.status.busy": "2021-12-13T10:03:17.732651Z",
          "iopub.execute_input": "2021-12-13T10:03:17.732961Z",
          "iopub.status.idle": "2021-12-13T10:03:17.739801Z",
          "shell.execute_reply.started": "2021-12-13T10:03:17.732932Z",
          "shell.execute_reply": "2021-12-13T10:03:17.738946Z"
        },
        "trusted": true,
        "id": "tdOxfYdCrP4p",
        "colab": {
          "base_uri": "https://localhost:8080/"
        },
        "outputId": "34d3c9f6-a678-40c4-ee1b-98c51aa9563f"
      }
    },
    {
      "cell_type": "code",
      "execution_count": 183,
      "source": [
        "# use of del\n",
        "del student_details_dict['sex'] #<= removing sex key totaly from key\n",
        "student_details_dict"
      ],
      "outputs": [
        {
          "output_type": "execute_result",
          "data": {
            "text/plain": [
              "{'names': ['Ohm', 'Sandhu', 'Rama', 'Yoga'],\n",
              " 'height': [120, 130, 140, 150],\n",
              " 'weight': [56, 60, 45, 90],\n",
              " 'age': [23, 34, 56, 55],\n",
              " 'emails': ['as@gmail.com', 'asd@gmail.com', 'd@gmail.com', 'sd@gmail.com'],\n",
              " 'adress': ['ana', 'dasd', 'asdad', 'adasd']}"
            ]
          },
          "metadata": {},
          "execution_count": 183
        }
      ],
      "metadata": {
        "execution": {
          "iopub.status.busy": "2021-12-13T10:03:34.61224Z",
          "iopub.execute_input": "2021-12-13T10:03:34.612505Z",
          "iopub.status.idle": "2021-12-13T10:03:34.619065Z",
          "shell.execute_reply.started": "2021-12-13T10:03:34.612477Z",
          "shell.execute_reply": "2021-12-13T10:03:34.618374Z"
        },
        "trusted": true,
        "id": "Iu1l27PNrP4p",
        "colab": {
          "base_uri": "https://localhost:8080/"
        },
        "outputId": "b25d8144-ec39-482f-c3cf-f6848a4fc1fd"
      }
    },
    {
      "cell_type": "markdown",
      "source": [
        "# Updating dict with dicts"
      ],
      "metadata": {
        "id": "VrRk_bhJrP4p"
      }
    },
    {
      "cell_type": "code",
      "execution_count": 184,
      "source": [
        "# Make a dict named as student_data_dictionary  with value which are given bellow as output\n",
        "student_data_dictionary = {}\n",
        "\n",
        "# print student_data_dictionary\n",
        "\n",
        "print(student_data_dictionary)\n",
        "\n",
        "\n"
      ],
      "outputs": [
        {
          "output_type": "stream",
          "name": "stdout",
          "text": [
            "{}\n"
          ]
        }
      ],
      "metadata": {
        "execution": {
          "iopub.status.busy": "2021-12-13T10:04:32.718516Z",
          "iopub.execute_input": "2021-12-13T10:04:32.718812Z",
          "iopub.status.idle": "2021-12-13T10:04:32.726459Z",
          "shell.execute_reply.started": "2021-12-13T10:04:32.718775Z",
          "shell.execute_reply": "2021-12-13T10:04:32.725624Z"
        },
        "trusted": true,
        "id": "1v2BgiPUrP4p",
        "colab": {
          "base_uri": "https://localhost:8080/"
        },
        "outputId": "88f01585-6064-463b-8531-16cbef052e1b"
      }
    },
    {
      "cell_type": "code",
      "execution_count": 185,
      "source": [
        "# update student_data_dictionary by observing output\n",
        "student_data_dictionary\n",
        "\n",
        "# print student_data_dictionary\n",
        "\n",
        "print(student_data_dictionary)\n",
        "\n",
        "\n",
        "\n",
        "\n"
      ],
      "outputs": [
        {
          "output_type": "stream",
          "name": "stdout",
          "text": [
            "{}\n"
          ]
        }
      ],
      "metadata": {
        "execution": {
          "iopub.status.busy": "2021-12-13T10:04:55.199263Z",
          "iopub.execute_input": "2021-12-13T10:04:55.19956Z",
          "iopub.status.idle": "2021-12-13T10:04:55.205958Z",
          "shell.execute_reply.started": "2021-12-13T10:04:55.199526Z",
          "shell.execute_reply": "2021-12-13T10:04:55.205314Z"
        },
        "trusted": true,
        "id": "2GhXVhlFrP4q",
        "colab": {
          "base_uri": "https://localhost:8080/"
        },
        "outputId": "b139668d-e142-480b-e7dc-8cff72027de7"
      }
    },
    {
      "cell_type": "markdown",
      "source": [
        "# Updating dict with list of tuples"
      ],
      "metadata": {
        "id": "w7yMNpcArP4q"
      }
    },
    {
      "cell_type": "code",
      "execution_count": 186,
      "source": [
        "# print student_data_dictionary\n",
        "print(student_data_dictionary)\n",
        "\n",
        "\n",
        "\n",
        "\n"
      ],
      "outputs": [
        {
          "output_type": "stream",
          "name": "stdout",
          "text": [
            "{}\n"
          ]
        }
      ],
      "metadata": {
        "execution": {
          "iopub.status.busy": "2021-12-13T10:05:27.96382Z",
          "iopub.execute_input": "2021-12-13T10:05:27.964104Z",
          "iopub.status.idle": "2021-12-13T10:05:27.969942Z",
          "shell.execute_reply.started": "2021-12-13T10:05:27.964075Z",
          "shell.execute_reply": "2021-12-13T10:05:27.96922Z"
        },
        "trusted": true,
        "id": "z9a5hByPrP4q",
        "colab": {
          "base_uri": "https://localhost:8080/"
        },
        "outputId": "617ed24d-7b20-4564-9b4d-6bcb7c92faac"
      }
    },
    {
      "cell_type": "code",
      "execution_count": 187,
      "source": [
        "# update student_data_dictionary by observing output\n",
        "student_data_dictionary\n",
        "\n",
        "# print student_data_dictionary\n",
        "print(student_data_dictionary)\n",
        "\n",
        "\n",
        "\n",
        "\n",
        "# print student_data_dictionary\n",
        "\n",
        "\n"
      ],
      "outputs": [
        {
          "output_type": "stream",
          "name": "stdout",
          "text": [
            "{}\n"
          ]
        }
      ],
      "metadata": {
        "execution": {
          "iopub.status.busy": "2021-12-13T10:05:55.921547Z",
          "iopub.execute_input": "2021-12-13T10:05:55.922063Z",
          "iopub.status.idle": "2021-12-13T10:05:55.929415Z",
          "shell.execute_reply.started": "2021-12-13T10:05:55.922011Z",
          "shell.execute_reply": "2021-12-13T10:05:55.928555Z"
        },
        "trusted": true,
        "id": "VTT_BZycrP4q",
        "colab": {
          "base_uri": "https://localhost:8080/"
        },
        "outputId": "8b3914ab-2bc1-42b3-b3bd-a60ac6fd9c47"
      }
    },
    {
      "cell_type": "code",
      "execution_count": 188,
      "source": [
        "# observe this code\n",
        "### dictionary key can be anything string,integer,float,boolean ###\n",
        "dict_sample = {\n",
        "    'string' : 'string can be used as key',\n",
        "    777 : 'interger can be used as key',\n",
        "    777.77 : 'float can be used as key',\n",
        "    False : 'boolean can be used as key'\n",
        "}\n",
        "\n",
        "dict_sample.keys()"
      ],
      "outputs": [
        {
          "output_type": "execute_result",
          "data": {
            "text/plain": [
              "dict_keys(['string', 777, 777.77, False])"
            ]
          },
          "metadata": {},
          "execution_count": 188
        }
      ],
      "metadata": {
        "execution": {
          "iopub.status.busy": "2021-12-13T10:06:27.958345Z",
          "iopub.execute_input": "2021-12-13T10:06:27.959221Z",
          "iopub.status.idle": "2021-12-13T10:06:27.965493Z",
          "shell.execute_reply.started": "2021-12-13T10:06:27.959177Z",
          "shell.execute_reply": "2021-12-13T10:06:27.964809Z"
        },
        "trusted": true,
        "id": "6YtALcserP4q",
        "colab": {
          "base_uri": "https://localhost:8080/"
        },
        "outputId": "cf1c49fa-a43a-4058-b888-f03867a556ed"
      }
    },
    {
      "cell_type": "markdown",
      "source": [
        "Mostly String and Integer are used as key"
      ],
      "metadata": {
        "id": "fb2iby4NrP4q"
      }
    },
    {
      "cell_type": "code",
      "execution_count": 189,
      "source": [
        "dict_sample[777.77]"
      ],
      "outputs": [
        {
          "output_type": "execute_result",
          "data": {
            "text/plain": [
              "'float can be used as key'"
            ],
            "application/vnd.google.colaboratory.intrinsic+json": {
              "type": "string"
            }
          },
          "metadata": {},
          "execution_count": 189
        }
      ],
      "metadata": {
        "execution": {
          "iopub.status.busy": "2021-12-13T10:06:55.138268Z",
          "iopub.execute_input": "2021-12-13T10:06:55.138726Z",
          "iopub.status.idle": "2021-12-13T10:06:55.145072Z",
          "shell.execute_reply.started": "2021-12-13T10:06:55.138678Z",
          "shell.execute_reply": "2021-12-13T10:06:55.144269Z"
        },
        "trusted": true,
        "id": "RKwzFxeyrP4q",
        "colab": {
          "base_uri": "https://localhost:8080/",
          "height": 35
        },
        "outputId": "20ee40f2-7e66-4053-9daf-0330116f7fee"
      }
    },
    {
      "cell_type": "code",
      "execution_count": 190,
      "source": [
        "# observe this code\n",
        "### Duplicate keys ###\n",
        "# every key must be unique\n",
        "dict_sample = {\n",
        "    'a':1,\n",
        "    'b':2,\n",
        "    'c':3,\n",
        "    'a':23\n",
        "}\n",
        "\n",
        "dict_sample"
      ],
      "outputs": [
        {
          "output_type": "execute_result",
          "data": {
            "text/plain": [
              "{'a': 23, 'b': 2, 'c': 3}"
            ]
          },
          "metadata": {},
          "execution_count": 190
        }
      ],
      "metadata": {
        "execution": {
          "iopub.status.busy": "2021-12-13T10:07:55.65068Z",
          "iopub.execute_input": "2021-12-13T10:07:55.651142Z",
          "iopub.status.idle": "2021-12-13T10:07:55.658826Z",
          "shell.execute_reply.started": "2021-12-13T10:07:55.651108Z",
          "shell.execute_reply": "2021-12-13T10:07:55.65794Z"
        },
        "trusted": true,
        "id": "l532yInzrP4q",
        "colab": {
          "base_uri": "https://localhost:8080/"
        },
        "outputId": "81d84820-8f67-479b-f38d-d5f03215fc67"
      }
    },
    {
      "cell_type": "markdown",
      "source": [
        "`If we add duplicate keys, it will not throw an error instead it will overwrite value which is added at last`"
      ],
      "metadata": {
        "id": "xI9wusR1rP4q"
      }
    },
    {
      "cell_type": "markdown",
      "source": [
        "# Iterating through key:value pair"
      ],
      "metadata": {
        "id": "bmvif_zLrP4q"
      }
    },
    {
      "cell_type": "code",
      "execution_count": 191,
      "source": [
        "dict_sample.items()"
      ],
      "outputs": [
        {
          "output_type": "execute_result",
          "data": {
            "text/plain": [
              "dict_items([('a', 23), ('b', 2), ('c', 3)])"
            ]
          },
          "metadata": {},
          "execution_count": 191
        }
      ],
      "metadata": {
        "execution": {
          "iopub.status.busy": "2021-12-13T10:09:28.18039Z",
          "iopub.execute_input": "2021-12-13T10:09:28.180905Z",
          "iopub.status.idle": "2021-12-13T10:09:28.186513Z",
          "shell.execute_reply.started": "2021-12-13T10:09:28.180849Z",
          "shell.execute_reply": "2021-12-13T10:09:28.185948Z"
        },
        "trusted": true,
        "id": "pOOp6yYGrP4q",
        "colab": {
          "base_uri": "https://localhost:8080/"
        },
        "outputId": "45e1fd71-72ba-4c3e-f43b-bf752ac20cdb"
      }
    },
    {
      "cell_type": "code",
      "execution_count": 192,
      "source": [
        "for key,value in dict_sample.items():\n",
        "    print(key,value)"
      ],
      "outputs": [
        {
          "output_type": "stream",
          "name": "stdout",
          "text": [
            "a 23\n",
            "b 2\n",
            "c 3\n"
          ]
        }
      ],
      "metadata": {
        "execution": {
          "iopub.status.busy": "2021-12-13T10:09:14.519994Z",
          "iopub.execute_input": "2021-12-13T10:09:14.520808Z",
          "iopub.status.idle": "2021-12-13T10:09:14.52646Z",
          "shell.execute_reply.started": "2021-12-13T10:09:14.520766Z",
          "shell.execute_reply": "2021-12-13T10:09:14.525536Z"
        },
        "trusted": true,
        "id": "5UvSJz_3rP4r",
        "colab": {
          "base_uri": "https://localhost:8080/"
        },
        "outputId": "23e01040-1f31-4c9d-b184-c36af3f9bde1"
      }
    },
    {
      "cell_type": "code",
      "execution_count": 195,
      "source": [
        "for key,value in dict_sample:\n",
        "    print(key,value)"
      ],
      "outputs": [
        {
          "output_type": "error",
          "ename": "ValueError",
          "evalue": "not enough values to unpack (expected 2, got 1)",
          "traceback": [
            "\u001b[0;31m---------------------------------------------------------------------------\u001b[0m",
            "\u001b[0;31mValueError\u001b[0m                                Traceback (most recent call last)",
            "\u001b[0;32m<ipython-input-195-ccb80a8915b3>\u001b[0m in \u001b[0;36m<cell line: 0>\u001b[0;34m()\u001b[0m\n\u001b[0;32m----> 1\u001b[0;31m \u001b[0;32mfor\u001b[0m \u001b[0mkey\u001b[0m\u001b[0;34m,\u001b[0m\u001b[0mvalue\u001b[0m \u001b[0;32min\u001b[0m \u001b[0mdict_sample\u001b[0m\u001b[0;34m:\u001b[0m\u001b[0;34m\u001b[0m\u001b[0;34m\u001b[0m\u001b[0m\n\u001b[0m\u001b[1;32m      2\u001b[0m     \u001b[0mprint\u001b[0m\u001b[0;34m(\u001b[0m\u001b[0mkey\u001b[0m\u001b[0;34m,\u001b[0m\u001b[0mvalue\u001b[0m\u001b[0;34m)\u001b[0m\u001b[0;34m\u001b[0m\u001b[0;34m\u001b[0m\u001b[0m\n",
            "\u001b[0;31mValueError\u001b[0m: not enough values to unpack (expected 2, got 1)"
          ]
        }
      ],
      "metadata": {
        "execution": {
          "iopub.status.busy": "2021-12-13T10:09:51.897343Z",
          "iopub.execute_input": "2021-12-13T10:09:51.898107Z",
          "iopub.status.idle": "2021-12-13T10:09:51.916454Z",
          "shell.execute_reply.started": "2021-12-13T10:09:51.898047Z",
          "shell.execute_reply": "2021-12-13T10:09:51.915316Z"
        },
        "trusted": true,
        "id": "Oml0jnO3rP4r",
        "colab": {
          "base_uri": "https://localhost:8080/",
          "height": 159
        },
        "outputId": "afd23ae1-57c2-4f40-b577-300369a5be59"
      }
    },
    {
      "cell_type": "markdown",
      "source": [
        "# sorting a dictionary based on keys"
      ],
      "metadata": {
        "id": "ew5FtqDsrP4r"
      }
    },
    {
      "cell_type": "code",
      "execution_count": 196,
      "source": [
        "sorted(dict_sample.items())"
      ],
      "outputs": [
        {
          "output_type": "execute_result",
          "data": {
            "text/plain": [
              "[('a', 23), ('b', 2), ('c', 3)]"
            ]
          },
          "metadata": {},
          "execution_count": 196
        }
      ],
      "metadata": {
        "execution": {
          "iopub.status.busy": "2021-12-13T10:10:06.684311Z",
          "iopub.execute_input": "2021-12-13T10:10:06.684854Z",
          "iopub.status.idle": "2021-12-13T10:10:06.69042Z",
          "shell.execute_reply.started": "2021-12-13T10:10:06.684817Z",
          "shell.execute_reply": "2021-12-13T10:10:06.689667Z"
        },
        "trusted": true,
        "id": "qwC2NSGYrP4r",
        "colab": {
          "base_uri": "https://localhost:8080/"
        },
        "outputId": "b585c05c-bd70-4a7c-ef83-5d03d3af6c94"
      }
    },
    {
      "cell_type": "code",
      "execution_count": 197,
      "source": [
        "# sorting a dictionary based on values\n",
        "# it requires concept of lambda expression\n",
        "sorted(dict_sample.items(),key=lambda x:x[1])\n",
        "\n",
        "\n",
        "\n",
        "\n",
        "\n",
        "\n"
      ],
      "outputs": [
        {
          "output_type": "execute_result",
          "data": {
            "text/plain": [
              "[('b', 2), ('c', 3), ('a', 23)]"
            ]
          },
          "metadata": {},
          "execution_count": 197
        }
      ],
      "metadata": {
        "execution": {
          "iopub.status.busy": "2021-12-11T13:32:34.934905Z",
          "iopub.execute_input": "2021-12-11T13:32:34.935219Z",
          "iopub.status.idle": "2021-12-11T13:32:34.938482Z",
          "shell.execute_reply.started": "2021-12-11T13:32:34.935186Z",
          "shell.execute_reply": "2021-12-11T13:32:34.937905Z"
        },
        "trusted": true,
        "id": "DGpnyumDrP4r",
        "colab": {
          "base_uri": "https://localhost:8080/"
        },
        "outputId": "108fbe11-8ecd-4155-ae83-09b658f93df4"
      }
    },
    {
      "cell_type": "markdown",
      "source": [
        "---"
      ],
      "metadata": {
        "id": "be3IXjFNrP4r"
      }
    },
    {
      "cell_type": "markdown",
      "source": [
        "# **`String Manipulation`** [More Resources](https://docs.python.org/3.7/library/stdtypes.html#text-sequence-type-str)"
      ],
      "metadata": {
        "id": "PMmen0JyrP4r"
      }
    },
    {
      "cell_type": "markdown",
      "source": [
        "# observe bellow code"
      ],
      "metadata": {
        "id": "kXsEjLZ03YnR"
      }
    },
    {
      "cell_type": "code",
      "execution_count": 198,
      "source": [
        "string_ = '' or \"\" or \"\"\" \"\"\""
      ],
      "outputs": [],
      "metadata": {
        "id": "8J1dpy6rrP4r"
      }
    },
    {
      "cell_type": "code",
      "execution_count": 199,
      "source": [
        "# defining a string\n",
        "string = \"We are creating next generation data science eco-system at CloudyML\"\n",
        "string"
      ],
      "outputs": [
        {
          "output_type": "execute_result",
          "data": {
            "text/plain": [
              "'We are creating next generation data science eco-system at CloudyML'"
            ],
            "application/vnd.google.colaboratory.intrinsic+json": {
              "type": "string"
            }
          },
          "metadata": {},
          "execution_count": 199
        }
      ],
      "metadata": {
        "execution": {
          "iopub.status.busy": "2021-12-13T11:01:34.238169Z",
          "iopub.execute_input": "2021-12-13T11:01:34.238451Z",
          "iopub.status.idle": "2021-12-13T11:01:34.244158Z",
          "shell.execute_reply.started": "2021-12-13T11:01:34.238418Z",
          "shell.execute_reply": "2021-12-13T11:01:34.243186Z"
        },
        "trusted": true,
        "id": "P4TiJEQCrP4s",
        "colab": {
          "base_uri": "https://localhost:8080/",
          "height": 35
        },
        "outputId": "f8741f16-373e-4157-a2cf-3acd17e1d237"
      }
    },
    {
      "cell_type": "code",
      "execution_count": 200,
      "source": [
        "# length of string including spaces\n",
        "len(string)"
      ],
      "outputs": [
        {
          "output_type": "execute_result",
          "data": {
            "text/plain": [
              "67"
            ]
          },
          "metadata": {},
          "execution_count": 200
        }
      ],
      "metadata": {
        "execution": {
          "iopub.status.busy": "2021-12-13T11:01:34.957656Z",
          "iopub.execute_input": "2021-12-13T11:01:34.958307Z",
          "iopub.status.idle": "2021-12-13T11:01:34.963401Z",
          "shell.execute_reply.started": "2021-12-13T11:01:34.958266Z",
          "shell.execute_reply": "2021-12-13T11:01:34.96252Z"
        },
        "trusted": true,
        "id": "Ujfo-CHZrP4s",
        "colab": {
          "base_uri": "https://localhost:8080/"
        },
        "outputId": "a750ebfc-9f0d-47e3-a8c4-68c5e23b956f"
      }
    },
    {
      "cell_type": "code",
      "execution_count": 201,
      "source": [
        "# Accessing characters in a string\n",
        "string[0]"
      ],
      "outputs": [
        {
          "output_type": "execute_result",
          "data": {
            "text/plain": [
              "'W'"
            ],
            "application/vnd.google.colaboratory.intrinsic+json": {
              "type": "string"
            }
          },
          "metadata": {},
          "execution_count": 201
        }
      ],
      "metadata": {
        "execution": {
          "iopub.status.busy": "2021-12-13T11:01:42.028477Z",
          "iopub.execute_input": "2021-12-13T11:01:42.029037Z",
          "iopub.status.idle": "2021-12-13T11:01:42.035886Z",
          "shell.execute_reply.started": "2021-12-13T11:01:42.02899Z",
          "shell.execute_reply": "2021-12-13T11:01:42.035025Z"
        },
        "trusted": true,
        "id": "huRY2kW4rP4s",
        "colab": {
          "base_uri": "https://localhost:8080/",
          "height": 35
        },
        "outputId": "795740e2-c051-4bca-99d2-703b6ea78701"
      }
    },
    {
      "cell_type": "code",
      "execution_count": 202,
      "source": [
        "# Accessing characters with negative indexing\n",
        "string[-1]"
      ],
      "outputs": [
        {
          "output_type": "execute_result",
          "data": {
            "text/plain": [
              "'L'"
            ],
            "application/vnd.google.colaboratory.intrinsic+json": {
              "type": "string"
            }
          },
          "metadata": {},
          "execution_count": 202
        }
      ],
      "metadata": {
        "execution": {
          "iopub.status.busy": "2021-12-13T11:01:54.757886Z",
          "iopub.execute_input": "2021-12-13T11:01:54.758166Z",
          "iopub.status.idle": "2021-12-13T11:01:54.76332Z",
          "shell.execute_reply.started": "2021-12-13T11:01:54.758136Z",
          "shell.execute_reply": "2021-12-13T11:01:54.762662Z"
        },
        "trusted": true,
        "id": "ynPqdSYdrP4s",
        "colab": {
          "base_uri": "https://localhost:8080/",
          "height": 35
        },
        "outputId": "d9e7902f-583b-493b-cddc-23df3031b76a"
      }
    },
    {
      "cell_type": "markdown",
      "source": [
        "# String Slicing"
      ],
      "metadata": {
        "id": "O9VaefTGrP4s"
      }
    },
    {
      "cell_type": "code",
      "execution_count": 203,
      "source": [
        "string[:6]"
      ],
      "outputs": [
        {
          "output_type": "execute_result",
          "data": {
            "text/plain": [
              "'We are'"
            ],
            "application/vnd.google.colaboratory.intrinsic+json": {
              "type": "string"
            }
          },
          "metadata": {},
          "execution_count": 203
        }
      ],
      "metadata": {
        "execution": {
          "iopub.status.busy": "2021-12-13T11:02:05.077467Z",
          "iopub.execute_input": "2021-12-13T11:02:05.078251Z",
          "iopub.status.idle": "2021-12-13T11:02:05.08393Z",
          "shell.execute_reply.started": "2021-12-13T11:02:05.078214Z",
          "shell.execute_reply": "2021-12-13T11:02:05.083137Z"
        },
        "trusted": true,
        "id": "ry8spVYHrP4s",
        "colab": {
          "base_uri": "https://localhost:8080/",
          "height": 35
        },
        "outputId": "ed0eff07-ce48-423f-ee4d-278b62c4335d"
      }
    },
    {
      "cell_type": "code",
      "execution_count": 204,
      "source": [
        "string[7:-10]"
      ],
      "outputs": [
        {
          "output_type": "execute_result",
          "data": {
            "text/plain": [
              "'creating next generation data science eco-system a'"
            ],
            "application/vnd.google.colaboratory.intrinsic+json": {
              "type": "string"
            }
          },
          "metadata": {},
          "execution_count": 204
        }
      ],
      "metadata": {
        "execution": {
          "iopub.status.busy": "2021-12-13T11:02:17.091514Z",
          "iopub.execute_input": "2021-12-13T11:02:17.092026Z",
          "iopub.status.idle": "2021-12-13T11:02:17.098478Z",
          "shell.execute_reply.started": "2021-12-13T11:02:17.091993Z",
          "shell.execute_reply": "2021-12-13T11:02:17.097041Z"
        },
        "trusted": true,
        "id": "9yyS6grLrP4s",
        "colab": {
          "base_uri": "https://localhost:8080/",
          "height": 35
        },
        "outputId": "de62cfef-3831-4a17-b7b9-d0913e90fb0a"
      }
    },
    {
      "cell_type": "markdown",
      "source": [
        "# Count of a particular `character` in a string"
      ],
      "metadata": {
        "id": "IE-m76lwrP4s"
      }
    },
    {
      "cell_type": "code",
      "execution_count": 205,
      "source": [
        "print(string)\n",
        "\n",
        "string.count('e')"
      ],
      "outputs": [
        {
          "output_type": "stream",
          "name": "stdout",
          "text": [
            "We are creating next generation data science eco-system at CloudyML\n"
          ]
        },
        {
          "output_type": "execute_result",
          "data": {
            "text/plain": [
              "10"
            ]
          },
          "metadata": {},
          "execution_count": 205
        }
      ],
      "metadata": {
        "execution": {
          "iopub.status.busy": "2021-12-13T11:02:32.813226Z",
          "iopub.execute_input": "2021-12-13T11:02:32.813513Z",
          "iopub.status.idle": "2021-12-13T11:02:32.820308Z",
          "shell.execute_reply.started": "2021-12-13T11:02:32.813481Z",
          "shell.execute_reply": "2021-12-13T11:02:32.819443Z"
        },
        "trusted": true,
        "id": "036-jd2TrP4s",
        "colab": {
          "base_uri": "https://localhost:8080/"
        },
        "outputId": "b5185c0b-1d7a-4444-c9ec-3cd367ace0ee"
      }
    },
    {
      "cell_type": "markdown",
      "source": [
        "# Count of a particular `sub-string` in a string"
      ],
      "metadata": {
        "id": "6BhlvAFmrP4s"
      }
    },
    {
      "cell_type": "code",
      "execution_count": 206,
      "source": [
        "print(string[7:-10])\n",
        "string.count('ea')"
      ],
      "outputs": [
        {
          "output_type": "stream",
          "name": "stdout",
          "text": [
            "creating next generation data science eco-system a\n"
          ]
        },
        {
          "output_type": "execute_result",
          "data": {
            "text/plain": [
              "1"
            ]
          },
          "metadata": {},
          "execution_count": 206
        }
      ],
      "metadata": {
        "execution": {
          "iopub.status.busy": "2021-12-13T11:02:46.689548Z",
          "iopub.execute_input": "2021-12-13T11:02:46.68983Z",
          "iopub.status.idle": "2021-12-13T11:02:46.696782Z",
          "shell.execute_reply.started": "2021-12-13T11:02:46.6898Z",
          "shell.execute_reply": "2021-12-13T11:02:46.69582Z"
        },
        "trusted": true,
        "id": "pzaxuLCarP4s",
        "colab": {
          "base_uri": "https://localhost:8080/"
        },
        "outputId": "0d6240d8-f3de-4903-a520-a40591132d4a"
      }
    },
    {
      "cell_type": "markdown",
      "source": [
        "# Find a substring in string using `find` and `index` function"
      ],
      "metadata": {
        "id": "gbyWCeAwrP4s"
      }
    },
    {
      "cell_type": "code",
      "execution_count": 207,
      "source": [
        "string"
      ],
      "outputs": [
        {
          "output_type": "execute_result",
          "data": {
            "text/plain": [
              "'We are creating next generation data science eco-system at CloudyML'"
            ],
            "application/vnd.google.colaboratory.intrinsic+json": {
              "type": "string"
            }
          },
          "metadata": {},
          "execution_count": 207
        }
      ],
      "metadata": {
        "execution": {
          "iopub.status.busy": "2021-12-13T11:03:20.048474Z",
          "iopub.execute_input": "2021-12-13T11:03:20.049531Z",
          "iopub.status.idle": "2021-12-13T11:03:20.055836Z",
          "shell.execute_reply.started": "2021-12-13T11:03:20.049443Z",
          "shell.execute_reply": "2021-12-13T11:03:20.055006Z"
        },
        "trusted": true,
        "id": "08PNFmYPrP4s",
        "colab": {
          "base_uri": "https://localhost:8080/",
          "height": 35
        },
        "outputId": "a9fe6965-5c03-4cce-8408-6029c2f8b413"
      }
    },
    {
      "cell_type": "code",
      "execution_count": 208,
      "source": [
        "# .find() => if present it will return starting index, not found then it will return -1\n",
        "# .index() => if present it will return starting index, not found then it will give error\n",
        "\n",
        "\n",
        "string.find('eaq')"
      ],
      "outputs": [
        {
          "output_type": "execute_result",
          "data": {
            "text/plain": [
              "-1"
            ]
          },
          "metadata": {},
          "execution_count": 208
        }
      ],
      "metadata": {
        "execution": {
          "iopub.status.busy": "2021-12-13T11:03:44.010507Z",
          "iopub.execute_input": "2021-12-13T11:03:44.010815Z",
          "iopub.status.idle": "2021-12-13T11:03:44.017299Z",
          "shell.execute_reply.started": "2021-12-13T11:03:44.010781Z",
          "shell.execute_reply": "2021-12-13T11:03:44.016185Z"
        },
        "trusted": true,
        "id": "tfFcaCXxrP4t",
        "colab": {
          "base_uri": "https://localhost:8080/"
        },
        "outputId": "99d1ae37-c51e-493b-baed-51e6e8880a7d"
      }
    },
    {
      "cell_type": "code",
      "execution_count": 209,
      "source": [
        "string.index('eaq')"
      ],
      "outputs": [
        {
          "output_type": "error",
          "ename": "ValueError",
          "evalue": "substring not found",
          "traceback": [
            "\u001b[0;31m---------------------------------------------------------------------------\u001b[0m",
            "\u001b[0;31mValueError\u001b[0m                                Traceback (most recent call last)",
            "\u001b[0;32m<ipython-input-209-d507e4bda74d>\u001b[0m in \u001b[0;36m<cell line: 0>\u001b[0;34m()\u001b[0m\n\u001b[0;32m----> 1\u001b[0;31m \u001b[0mstring\u001b[0m\u001b[0;34m.\u001b[0m\u001b[0mindex\u001b[0m\u001b[0;34m(\u001b[0m\u001b[0;34m'eaq'\u001b[0m\u001b[0;34m)\u001b[0m\u001b[0;34m\u001b[0m\u001b[0;34m\u001b[0m\u001b[0m\n\u001b[0m",
            "\u001b[0;31mValueError\u001b[0m: substring not found"
          ]
        }
      ],
      "metadata": {
        "execution": {
          "iopub.status.busy": "2021-12-13T11:03:59.411717Z",
          "iopub.execute_input": "2021-12-13T11:03:59.412482Z",
          "iopub.status.idle": "2021-12-13T11:03:59.428379Z",
          "shell.execute_reply.started": "2021-12-13T11:03:59.412439Z",
          "shell.execute_reply": "2021-12-13T11:03:59.427526Z"
        },
        "trusted": true,
        "id": "tZd5IH_DrP4t",
        "colab": {
          "base_uri": "https://localhost:8080/",
          "height": 141
        },
        "outputId": "7640a971-ebf1-40a4-8a03-1321d56b391d"
      }
    },
    {
      "cell_type": "code",
      "execution_count": 210,
      "source": [
        "string"
      ],
      "outputs": [
        {
          "output_type": "execute_result",
          "data": {
            "text/plain": [
              "'We are creating next generation data science eco-system at CloudyML'"
            ],
            "application/vnd.google.colaboratory.intrinsic+json": {
              "type": "string"
            }
          },
          "metadata": {},
          "execution_count": 210
        }
      ],
      "metadata": {
        "execution": {
          "iopub.status.busy": "2021-12-13T11:04:25.216906Z",
          "iopub.execute_input": "2021-12-13T11:04:25.2175Z",
          "iopub.status.idle": "2021-12-13T11:04:25.223138Z",
          "shell.execute_reply.started": "2021-12-13T11:04:25.217463Z",
          "shell.execute_reply": "2021-12-13T11:04:25.222063Z"
        },
        "trusted": true,
        "id": "foaVXpRQrP4t",
        "colab": {
          "base_uri": "https://localhost:8080/",
          "height": 35
        },
        "outputId": "721c543d-0a5d-4a86-8d97-ddca36de0445"
      }
    },
    {
      "cell_type": "code",
      "execution_count": 211,
      "source": [
        "### Checking whether string `startswith` or `endswith` a particular substring or not ###\n",
        "string.endswith('CloudyML')"
      ],
      "outputs": [
        {
          "output_type": "execute_result",
          "data": {
            "text/plain": [
              "True"
            ]
          },
          "metadata": {},
          "execution_count": 211
        }
      ],
      "metadata": {
        "execution": {
          "iopub.status.busy": "2021-12-13T11:04:48.605575Z",
          "iopub.execute_input": "2021-12-13T11:04:48.605999Z",
          "iopub.status.idle": "2021-12-13T11:04:48.611854Z",
          "shell.execute_reply.started": "2021-12-13T11:04:48.605962Z",
          "shell.execute_reply": "2021-12-13T11:04:48.611143Z"
        },
        "trusted": true,
        "id": "QK6TfpWyrP4t",
        "colab": {
          "base_uri": "https://localhost:8080/"
        },
        "outputId": "a67b36dc-7194-40f0-a982-329660fa04b2"
      }
    },
    {
      "cell_type": "code",
      "execution_count": 212,
      "source": [
        "string.startswith('We')"
      ],
      "outputs": [
        {
          "output_type": "execute_result",
          "data": {
            "text/plain": [
              "True"
            ]
          },
          "metadata": {},
          "execution_count": 212
        }
      ],
      "metadata": {
        "execution": {
          "iopub.status.busy": "2021-12-13T11:05:06.531667Z",
          "iopub.execute_input": "2021-12-13T11:05:06.532097Z",
          "iopub.status.idle": "2021-12-13T11:05:06.53704Z",
          "shell.execute_reply.started": "2021-12-13T11:05:06.532065Z",
          "shell.execute_reply": "2021-12-13T11:05:06.536136Z"
        },
        "trusted": true,
        "id": "KEUqKWYqrP4t",
        "colab": {
          "base_uri": "https://localhost:8080/"
        },
        "outputId": "a695455c-045f-438f-b7de-0ab5d94d956f"
      }
    },
    {
      "cell_type": "code",
      "execution_count": 213,
      "source": [
        "string"
      ],
      "outputs": [
        {
          "output_type": "execute_result",
          "data": {
            "text/plain": [
              "'We are creating next generation data science eco-system at CloudyML'"
            ],
            "application/vnd.google.colaboratory.intrinsic+json": {
              "type": "string"
            }
          },
          "metadata": {},
          "execution_count": 213
        }
      ],
      "metadata": {
        "execution": {
          "iopub.status.busy": "2021-12-13T11:05:27.880252Z",
          "iopub.execute_input": "2021-12-13T11:05:27.880521Z",
          "iopub.status.idle": "2021-12-13T11:05:27.88631Z",
          "shell.execute_reply.started": "2021-12-13T11:05:27.880493Z",
          "shell.execute_reply": "2021-12-13T11:05:27.885395Z"
        },
        "trusted": true,
        "id": "Rh26zLoUrP4t",
        "colab": {
          "base_uri": "https://localhost:8080/",
          "height": 35
        },
        "outputId": "7c1f4722-dbbb-4934-f1ee-5addc2d893c3"
      }
    },
    {
      "cell_type": "code",
      "execution_count": 214,
      "source": [
        "### Converting string to upper case ###\n",
        "string.upper()"
      ],
      "outputs": [
        {
          "output_type": "execute_result",
          "data": {
            "text/plain": [
              "'WE ARE CREATING NEXT GENERATION DATA SCIENCE ECO-SYSTEM AT CLOUDYML'"
            ],
            "application/vnd.google.colaboratory.intrinsic+json": {
              "type": "string"
            }
          },
          "metadata": {},
          "execution_count": 214
        }
      ],
      "metadata": {
        "execution": {
          "iopub.status.busy": "2021-12-13T11:05:29.694529Z",
          "iopub.execute_input": "2021-12-13T11:05:29.695055Z",
          "iopub.status.idle": "2021-12-13T11:05:29.700213Z",
          "shell.execute_reply.started": "2021-12-13T11:05:29.695023Z",
          "shell.execute_reply": "2021-12-13T11:05:29.699432Z"
        },
        "trusted": true,
        "id": "LpEf2Vi_rP4t",
        "colab": {
          "base_uri": "https://localhost:8080/",
          "height": 35
        },
        "outputId": "257eed90-9cab-49ac-f6a5-712409ea5c1c"
      }
    },
    {
      "cell_type": "code",
      "execution_count": 215,
      "source": [
        "### Converting only first character of string to upper case ###\n",
        "string.capitalize()"
      ],
      "outputs": [
        {
          "output_type": "execute_result",
          "data": {
            "text/plain": [
              "'We are creating next generation data science eco-system at cloudyml'"
            ],
            "application/vnd.google.colaboratory.intrinsic+json": {
              "type": "string"
            }
          },
          "metadata": {},
          "execution_count": 215
        }
      ],
      "metadata": {
        "execution": {
          "iopub.status.busy": "2021-12-13T11:05:43.599994Z",
          "iopub.execute_input": "2021-12-13T11:05:43.600499Z",
          "iopub.status.idle": "2021-12-13T11:05:43.605902Z",
          "shell.execute_reply.started": "2021-12-13T11:05:43.600462Z",
          "shell.execute_reply": "2021-12-13T11:05:43.604859Z"
        },
        "trusted": true,
        "id": "C-lc1BM5rP4t",
        "colab": {
          "base_uri": "https://localhost:8080/",
          "height": 35
        },
        "outputId": "8d7ac07e-cfb3-4a36-c1c4-ad6405ebf8d8"
      }
    },
    {
      "cell_type": "code",
      "execution_count": 216,
      "source": [
        "string"
      ],
      "outputs": [
        {
          "output_type": "execute_result",
          "data": {
            "text/plain": [
              "'We are creating next generation data science eco-system at CloudyML'"
            ],
            "application/vnd.google.colaboratory.intrinsic+json": {
              "type": "string"
            }
          },
          "metadata": {},
          "execution_count": 216
        }
      ],
      "metadata": {
        "execution": {
          "iopub.status.busy": "2021-12-13T11:06:42.095694Z",
          "iopub.execute_input": "2021-12-13T11:06:42.096011Z",
          "iopub.status.idle": "2021-12-13T11:06:42.101516Z",
          "shell.execute_reply.started": "2021-12-13T11:06:42.095976Z",
          "shell.execute_reply": "2021-12-13T11:06:42.100946Z"
        },
        "trusted": true,
        "id": "nzVmwn0nrP4t",
        "colab": {
          "base_uri": "https://localhost:8080/",
          "height": 35
        },
        "outputId": "9437de8d-4e32-4f8d-b6e9-ac468110c807"
      }
    },
    {
      "cell_type": "code",
      "execution_count": 217,
      "source": [
        "### Checking if string is in lower case or upper case ###\n",
        "string.islower()"
      ],
      "outputs": [
        {
          "output_type": "execute_result",
          "data": {
            "text/plain": [
              "False"
            ]
          },
          "metadata": {},
          "execution_count": 217
        }
      ],
      "metadata": {
        "execution": {
          "iopub.status.busy": "2021-12-13T11:06:19.800396Z",
          "iopub.execute_input": "2021-12-13T11:06:19.800912Z",
          "iopub.status.idle": "2021-12-13T11:06:19.806627Z",
          "shell.execute_reply.started": "2021-12-13T11:06:19.800858Z",
          "shell.execute_reply": "2021-12-13T11:06:19.805745Z"
        },
        "trusted": true,
        "id": "eUfso5gHrP4t",
        "colab": {
          "base_uri": "https://localhost:8080/"
        },
        "outputId": "f338504c-a10a-4620-cb32-a513aec99e12"
      }
    },
    {
      "cell_type": "code",
      "execution_count": 218,
      "source": [
        "string.isupper()"
      ],
      "outputs": [
        {
          "output_type": "execute_result",
          "data": {
            "text/plain": [
              "False"
            ]
          },
          "metadata": {},
          "execution_count": 218
        }
      ],
      "metadata": {
        "execution": {
          "iopub.status.busy": "2021-12-13T11:07:00.135595Z",
          "iopub.execute_input": "2021-12-13T11:07:00.135958Z",
          "iopub.status.idle": "2021-12-13T11:07:00.141703Z",
          "shell.execute_reply.started": "2021-12-13T11:07:00.135922Z",
          "shell.execute_reply": "2021-12-13T11:07:00.140776Z"
        },
        "trusted": true,
        "id": "oQKoh8lZrP4t",
        "colab": {
          "base_uri": "https://localhost:8080/"
        },
        "outputId": "ce77e5a8-f976-45ea-90ef-881ca2a8d5d6"
      }
    },
    {
      "cell_type": "code",
      "execution_count": 219,
      "source": [
        "### Checking if string is digit, alpabetic, alpha-numeric ###\n",
        "\"1\".isnumeric()"
      ],
      "outputs": [
        {
          "output_type": "execute_result",
          "data": {
            "text/plain": [
              "True"
            ]
          },
          "metadata": {},
          "execution_count": 219
        }
      ],
      "metadata": {
        "execution": {
          "iopub.status.busy": "2021-12-13T11:07:14.639007Z",
          "iopub.execute_input": "2021-12-13T11:07:14.639468Z",
          "iopub.status.idle": "2021-12-13T11:07:14.645717Z",
          "shell.execute_reply.started": "2021-12-13T11:07:14.639422Z",
          "shell.execute_reply": "2021-12-13T11:07:14.644712Z"
        },
        "trusted": true,
        "id": "4KJ8oYacrP4t",
        "colab": {
          "base_uri": "https://localhost:8080/"
        },
        "outputId": "1e52397b-564e-4c4a-cd88-499b54c41c1c"
      }
    },
    {
      "cell_type": "code",
      "execution_count": 220,
      "source": [
        "\"1s\".isnumeric()"
      ],
      "outputs": [
        {
          "output_type": "execute_result",
          "data": {
            "text/plain": [
              "False"
            ]
          },
          "metadata": {},
          "execution_count": 220
        }
      ],
      "metadata": {
        "execution": {
          "iopub.status.busy": "2021-12-13T11:07:27.399606Z",
          "iopub.execute_input": "2021-12-13T11:07:27.40006Z",
          "iopub.status.idle": "2021-12-13T11:07:27.406609Z",
          "shell.execute_reply.started": "2021-12-13T11:07:27.400026Z",
          "shell.execute_reply": "2021-12-13T11:07:27.405918Z"
        },
        "trusted": true,
        "id": "MQf-h42zrP4u",
        "colab": {
          "base_uri": "https://localhost:8080/"
        },
        "outputId": "c4a10089-a1a3-4837-c7bc-0cb66783ae64"
      }
    },
    {
      "cell_type": "code",
      "execution_count": 221,
      "source": [
        "\"name\".isalpha()"
      ],
      "outputs": [
        {
          "output_type": "execute_result",
          "data": {
            "text/plain": [
              "True"
            ]
          },
          "metadata": {},
          "execution_count": 221
        }
      ],
      "metadata": {
        "execution": {
          "iopub.status.busy": "2021-12-13T11:07:35.332841Z",
          "iopub.execute_input": "2021-12-13T11:07:35.333175Z",
          "iopub.status.idle": "2021-12-13T11:07:35.33955Z",
          "shell.execute_reply.started": "2021-12-13T11:07:35.333132Z",
          "shell.execute_reply": "2021-12-13T11:07:35.338458Z"
        },
        "trusted": true,
        "id": "eDfyzQXRrP4u",
        "colab": {
          "base_uri": "https://localhost:8080/"
        },
        "outputId": "f0af1939-fc5b-47c4-cc20-7e219fd8f279"
      }
    },
    {
      "cell_type": "code",
      "execution_count": 222,
      "source": [
        "\"name777\".isalpha()"
      ],
      "outputs": [
        {
          "output_type": "execute_result",
          "data": {
            "text/plain": [
              "False"
            ]
          },
          "metadata": {},
          "execution_count": 222
        }
      ],
      "metadata": {
        "execution": {
          "iopub.status.busy": "2021-12-13T11:07:41.411144Z",
          "iopub.execute_input": "2021-12-13T11:07:41.412261Z",
          "iopub.status.idle": "2021-12-13T11:07:41.417409Z",
          "shell.execute_reply.started": "2021-12-13T11:07:41.412215Z",
          "shell.execute_reply": "2021-12-13T11:07:41.416764Z"
        },
        "trusted": true,
        "id": "mfQwti3VrP4u",
        "colab": {
          "base_uri": "https://localhost:8080/"
        },
        "outputId": "d8804dbe-3211-4fd0-8a56-43630b41505a"
      }
    },
    {
      "cell_type": "code",
      "execution_count": 223,
      "source": [
        "\"name777\".isalnum()"
      ],
      "outputs": [
        {
          "output_type": "execute_result",
          "data": {
            "text/plain": [
              "True"
            ]
          },
          "metadata": {},
          "execution_count": 223
        }
      ],
      "metadata": {
        "execution": {
          "iopub.status.busy": "2021-12-13T11:07:53.77645Z",
          "iopub.execute_input": "2021-12-13T11:07:53.778573Z",
          "iopub.status.idle": "2021-12-13T11:07:53.785577Z",
          "shell.execute_reply.started": "2021-12-13T11:07:53.77853Z",
          "shell.execute_reply": "2021-12-13T11:07:53.784799Z"
        },
        "trusted": true,
        "id": "ib584RVBrP4u",
        "colab": {
          "base_uri": "https://localhost:8080/"
        },
        "outputId": "1a4945e0-b6e8-47a2-a2b7-9cb56ae9bcf4"
      }
    },
    {
      "cell_type": "code",
      "execution_count": 224,
      "source": [
        "string = 'Cloudy ML'\n",
        "string.isalpha()"
      ],
      "outputs": [
        {
          "output_type": "execute_result",
          "data": {
            "text/plain": [
              "False"
            ]
          },
          "metadata": {},
          "execution_count": 224
        }
      ],
      "metadata": {
        "execution": {
          "iopub.status.busy": "2021-12-13T11:08:16.522815Z",
          "iopub.execute_input": "2021-12-13T11:08:16.523252Z",
          "iopub.status.idle": "2021-12-13T11:08:16.528809Z",
          "shell.execute_reply.started": "2021-12-13T11:08:16.523221Z",
          "shell.execute_reply": "2021-12-13T11:08:16.527918Z"
        },
        "trusted": true,
        "id": "nYARRCJ7rP4u",
        "colab": {
          "base_uri": "https://localhost:8080/"
        },
        "outputId": "873f9541-f2a3-4ec1-b0d2-a7304f495aee"
      }
    },
    {
      "cell_type": "code",
      "execution_count": 225,
      "source": [
        "string = 'CloudyML'\n",
        "string.isalpha()"
      ],
      "outputs": [
        {
          "output_type": "execute_result",
          "data": {
            "text/plain": [
              "True"
            ]
          },
          "metadata": {},
          "execution_count": 225
        }
      ],
      "metadata": {
        "execution": {
          "iopub.status.busy": "2021-12-13T11:08:23.656846Z",
          "iopub.execute_input": "2021-12-13T11:08:23.657281Z",
          "iopub.status.idle": "2021-12-13T11:08:23.662296Z",
          "shell.execute_reply.started": "2021-12-13T11:08:23.657249Z",
          "shell.execute_reply": "2021-12-13T11:08:23.661419Z"
        },
        "trusted": true,
        "id": "YsjZDgA8rP4u",
        "colab": {
          "base_uri": "https://localhost:8080/"
        },
        "outputId": "1fbba6f1-eb0b-4a57-fee3-dfc1d1484c8e"
      }
    },
    {
      "cell_type": "code",
      "execution_count": 228,
      "source": [
        "str_ = \"C++ is easy to learn\"\n",
        "str_"
      ],
      "outputs": [
        {
          "output_type": "execute_result",
          "data": {
            "text/plain": [
              "'C++ is easy to learn'"
            ],
            "application/vnd.google.colaboratory.intrinsic+json": {
              "type": "string"
            }
          },
          "metadata": {},
          "execution_count": 228
        }
      ],
      "metadata": {
        "execution": {
          "iopub.status.busy": "2021-12-13T11:08:59.302982Z",
          "iopub.execute_input": "2021-12-13T11:08:59.303427Z",
          "iopub.status.idle": "2021-12-13T11:08:59.310259Z",
          "shell.execute_reply.started": "2021-12-13T11:08:59.303392Z",
          "shell.execute_reply": "2021-12-13T11:08:59.309168Z"
        },
        "trusted": true,
        "id": "SGBdMJeurP4u",
        "colab": {
          "base_uri": "https://localhost:8080/",
          "height": 35
        },
        "outputId": "28c9da4b-a40c-49ea-c0b3-23e72c75bdc3"
      }
    },
    {
      "cell_type": "code",
      "execution_count": 229,
      "source": [
        "### Replacing substrings ###\n",
        "str_.replace('C++', 'Python')"
      ],
      "outputs": [
        {
          "output_type": "execute_result",
          "data": {
            "text/plain": [
              "'Python is easy to learn'"
            ],
            "application/vnd.google.colaboratory.intrinsic+json": {
              "type": "string"
            }
          },
          "metadata": {},
          "execution_count": 229
        }
      ],
      "metadata": {
        "execution": {
          "iopub.status.busy": "2021-12-13T11:09:12.005323Z",
          "iopub.execute_input": "2021-12-13T11:09:12.005822Z",
          "iopub.status.idle": "2021-12-13T11:09:12.012082Z",
          "shell.execute_reply.started": "2021-12-13T11:09:12.005782Z",
          "shell.execute_reply": "2021-12-13T11:09:12.011148Z"
        },
        "trusted": true,
        "id": "o3IMBWfqrP4u",
        "colab": {
          "base_uri": "https://localhost:8080/",
          "height": 35
        },
        "outputId": "ab0e079d-3fa3-4b68-8e52-40062a0a2967"
      }
    },
    {
      "cell_type": "code",
      "execution_count": 226,
      "source": [
        "### using Split function ###\n",
        "'Python is easy to learn'.split()"
      ],
      "outputs": [
        {
          "output_type": "execute_result",
          "data": {
            "text/plain": [
              "['Python', 'is', 'easy', 'to', 'learn']"
            ]
          },
          "metadata": {},
          "execution_count": 226
        }
      ],
      "metadata": {
        "execution": {
          "iopub.status.busy": "2021-12-13T11:09:37.127294Z",
          "iopub.execute_input": "2021-12-13T11:09:37.127736Z",
          "iopub.status.idle": "2021-12-13T11:09:37.133848Z",
          "shell.execute_reply.started": "2021-12-13T11:09:37.127695Z",
          "shell.execute_reply": "2021-12-13T11:09:37.133093Z"
        },
        "trusted": true,
        "id": "himKDrvcrP4u",
        "colab": {
          "base_uri": "https://localhost:8080/"
        },
        "outputId": "9a78bb7f-0a51-4c69-a944-8eab4113f03b"
      }
    },
    {
      "cell_type": "code",
      "execution_count": 227,
      "source": [
        "'Python is easy to learn'.split('easy')"
      ],
      "outputs": [
        {
          "output_type": "execute_result",
          "data": {
            "text/plain": [
              "['Python is ', ' to learn']"
            ]
          },
          "metadata": {},
          "execution_count": 227
        }
      ],
      "metadata": {
        "execution": {
          "iopub.status.busy": "2021-12-13T11:09:45.284668Z",
          "iopub.execute_input": "2021-12-13T11:09:45.285163Z",
          "iopub.status.idle": "2021-12-13T11:09:45.291474Z",
          "shell.execute_reply.started": "2021-12-13T11:09:45.285128Z",
          "shell.execute_reply": "2021-12-13T11:09:45.290548Z"
        },
        "trusted": true,
        "id": "cCDcaUzHrP4u",
        "colab": {
          "base_uri": "https://localhost:8080/"
        },
        "outputId": "88a99a75-9018-423b-f6c8-39b5c4e2fda2"
      }
    },
    {
      "cell_type": "markdown",
      "source": [
        "<a id='14'></a><center> <h3 style=\"background-color:orange; color:white\" ><br>Functions<br></h3>"
      ],
      "metadata": {
        "id": "1RMWovf4rP4u"
      }
    },
    {
      "cell_type": "markdown",
      "source": [
        "* `Purpose of functions is to group some particular lines of code that needs to be executed multiple times`\n",
        "    * keyword `def` introduces a function definition and it must be followed by function name\n",
        "* Function is Reusable piece of code\n",
        "* We create function to solve specific problem"
      ],
      "metadata": {
        "id": "7w6F0GNErP4v"
      }
    },
    {
      "cell_type": "code",
      "execution_count": 230,
      "source": [
        "\"\"\"\n",
        "def function_name():\n",
        "    stetement(s)\n",
        "\"\"\""
      ],
      "outputs": [
        {
          "output_type": "execute_result",
          "data": {
            "text/plain": [
              "'\\ndef function_name():\\n    stetement(s)\\n'"
            ],
            "application/vnd.google.colaboratory.intrinsic+json": {
              "type": "string"
            }
          },
          "metadata": {},
          "execution_count": 230
        }
      ],
      "metadata": {
        "execution": {
          "iopub.status.busy": "2021-12-14T10:18:36.096956Z",
          "iopub.execute_input": "2021-12-14T10:18:36.097257Z",
          "iopub.status.idle": "2021-12-14T10:18:36.102958Z",
          "shell.execute_reply.started": "2021-12-14T10:18:36.097225Z",
          "shell.execute_reply": "2021-12-14T10:18:36.102283Z"
        },
        "trusted": true,
        "id": "4jqkxfNdrP4z",
        "colab": {
          "base_uri": "https://localhost:8080/",
          "height": 35
        },
        "outputId": "52fab8f3-8945-4edb-e068-d2b3ee8e3ba1"
      }
    },
    {
      "cell_type": "code",
      "execution_count": 231,
      "source": [
        "# define a function\n",
        "def welcome_message(name):\n",
        "    \"\"\"\n",
        "    This is to represent docstring,\n",
        "    optionsl documentation is a good\n",
        "    programming practice\n",
        "    \"\"\"\n"
      ],
      "outputs": [],
      "metadata": {
        "execution": {
          "iopub.status.busy": "2021-12-14T10:41:22.778217Z",
          "iopub.execute_input": "2021-12-14T10:41:22.778938Z",
          "iopub.status.idle": "2021-12-14T10:41:22.783295Z",
          "shell.execute_reply.started": "2021-12-14T10:41:22.778903Z",
          "shell.execute_reply": "2021-12-14T10:41:22.782386Z"
        },
        "trusted": true,
        "id": "L8OCfOyPrP4z"
      }
    },
    {
      "cell_type": "code",
      "execution_count": null,
      "source": [
        "# call a function with Mukesh and input\n"
      ],
      "outputs": [],
      "metadata": {
        "execution": {
          "iopub.status.busy": "2021-12-14T10:41:28.89826Z",
          "iopub.execute_input": "2021-12-14T10:41:28.898798Z",
          "iopub.status.idle": "2021-12-14T10:41:28.902844Z",
          "shell.execute_reply.started": "2021-12-14T10:41:28.898763Z",
          "shell.execute_reply": "2021-12-14T10:41:28.902223Z"
        },
        "trusted": true,
        "id": "asBr2ewErP4z"
      }
    },
    {
      "cell_type": "code",
      "execution_count": null,
      "source": [
        "#obseve the output\n",
        "print(welcome_message.__doc__)"
      ],
      "outputs": [],
      "metadata": {
        "execution": {
          "iopub.status.busy": "2021-12-14T10:42:10.098273Z",
          "iopub.execute_input": "2021-12-14T10:42:10.098566Z",
          "iopub.status.idle": "2021-12-14T10:42:10.103854Z",
          "shell.execute_reply.started": "2021-12-14T10:42:10.098536Z",
          "shell.execute_reply": "2021-12-14T10:42:10.103098Z"
        },
        "trusted": true,
        "id": "EaWRKsE6rP4z"
      }
    },
    {
      "cell_type": "code",
      "execution_count": null,
      "source": [
        "#obseve the output\n",
        "print(print.__doc__)"
      ],
      "outputs": [],
      "metadata": {
        "execution": {
          "iopub.status.busy": "2021-12-14T10:43:46.233989Z",
          "iopub.execute_input": "2021-12-14T10:43:46.234449Z",
          "iopub.status.idle": "2021-12-14T10:43:46.238798Z",
          "shell.execute_reply.started": "2021-12-14T10:43:46.234401Z",
          "shell.execute_reply": "2021-12-14T10:43:46.237995Z"
        },
        "trusted": true,
        "id": "Ht8XXDzfrP4z"
      }
    },
    {
      "cell_type": "markdown",
      "source": [
        "* `def` Keyword marking start of function\n",
        "* `function name` to uniquely identify function\n",
        "    * `function naming` follows same `rules of writing identifiers`\n",
        "* `parameters`(arguments) to pass values to a function => totally optional\n",
        "* `()` paranthesis\n",
        "* `colon (:)` start of function\n",
        "* `documentation string`(docstring) describe's what function does => totally optional\n",
        "* `return statement` returns a value from function => totally optional\n",
        "* inside colon is `function definition` it should always be present before function call or get an error"
      ],
      "metadata": {
        "id": "YKfp2X2irP4z"
      }
    },
    {
      "cell_type": "markdown",
      "source": [
        "# `Type of Functions`\n",
        "|Built-in|User-Defined|Lambda Functions|Recursion Function\n",
        "|----|----|---|---|\n",
        "|`print()` | `add_two_number(defined by user i.e. you)`|``|``|\n",
        "|`range()` | ``|``|``|\n",
        "| `append()`|`` |``|``|\n",
        "| `extend()`|`` |``|``|"
      ],
      "metadata": {
        "id": "hpC8Bl5arP4z"
      }
    },
    {
      "cell_type": "code",
      "execution_count": 233,
      "source": [
        "### using print ###\n",
        "# function to add two number which are as 3 and 4\n",
        "def two_number_addition():\n",
        " # in total variable store adition of 3 + 4\n",
        "  # print total variable\n",
        "  total = 3 + 4\n",
        "  print(total)"
      ],
      "outputs": [],
      "metadata": {
        "execution": {
          "iopub.status.busy": "2021-12-14T10:46:10.133283Z",
          "iopub.execute_input": "2021-12-14T10:46:10.134296Z",
          "iopub.status.idle": "2021-12-14T10:46:10.138594Z",
          "shell.execute_reply.started": "2021-12-14T10:46:10.134236Z",
          "shell.execute_reply": "2021-12-14T10:46:10.137987Z"
        },
        "trusted": true,
        "id": "TbWL-gm-rP4z"
      }
    },
    {
      "cell_type": "code",
      "execution_count": 235,
      "source": [
        "### using return ###\n",
        "def two_number_addition_with_return():\n",
        "    total = 3 + 4\n",
        "    return (total) #returning value of total\n",
        "\n",
        "\n",
        "# observe output\n",
        "two_number_addition_with_return()\n"
      ],
      "outputs": [
        {
          "output_type": "execute_result",
          "data": {
            "text/plain": [
              "7"
            ]
          },
          "metadata": {},
          "execution_count": 235
        }
      ],
      "metadata": {
        "execution": {
          "iopub.status.busy": "2021-12-14T10:46:07.38924Z",
          "iopub.execute_input": "2021-12-14T10:46:07.389537Z",
          "iopub.status.idle": "2021-12-14T10:46:07.394356Z",
          "shell.execute_reply.started": "2021-12-14T10:46:07.389508Z",
          "shell.execute_reply": "2021-12-14T10:46:07.393771Z"
        },
        "trusted": true,
        "id": "4a3G3_cDrP40",
        "colab": {
          "base_uri": "https://localhost:8080/"
        },
        "outputId": "d1ca0e04-c3b6-4a30-9fa6-fd6b5a16353e"
      }
    },
    {
      "cell_type": "code",
      "execution_count": 236,
      "source": [
        "print_output = two_number_addition()"
      ],
      "outputs": [
        {
          "output_type": "stream",
          "name": "stdout",
          "text": [
            "7\n"
          ]
        }
      ],
      "metadata": {
        "execution": {
          "iopub.status.busy": "2021-12-14T10:46:33.509633Z",
          "iopub.execute_input": "2021-12-14T10:46:33.509914Z",
          "iopub.status.idle": "2021-12-14T10:46:33.515225Z",
          "shell.execute_reply.started": "2021-12-14T10:46:33.509886Z",
          "shell.execute_reply": "2021-12-14T10:46:33.514366Z"
        },
        "trusted": true,
        "id": "hrVwYigOrP40",
        "colab": {
          "base_uri": "https://localhost:8080/"
        },
        "outputId": "cabb9138-5026-449e-8cdd-1a52c5470aff"
      }
    },
    {
      "cell_type": "code",
      "execution_count": 237,
      "source": [
        "# see this variable cannot store above value as value was not saved\n",
        "print_output"
      ],
      "outputs": [],
      "metadata": {
        "execution": {
          "iopub.status.busy": "2021-12-14T10:46:48.458961Z",
          "iopub.execute_input": "2021-12-14T10:46:48.459242Z",
          "iopub.status.idle": "2021-12-14T10:46:48.463459Z",
          "shell.execute_reply.started": "2021-12-14T10:46:48.459212Z",
          "shell.execute_reply": "2021-12-14T10:46:48.462708Z"
        },
        "trusted": true,
        "id": "1I6kqwXcrP40"
      }
    },
    {
      "cell_type": "markdown",
      "source": [
        "See above variable cannot store above value as return was not used in fucntion, so every calculation is being done inside the function two_number_addition() and if you come out of function thouse value do not exist, to solv this problem we use `return`, after using return we can store output of function for other use in our program"
      ],
      "metadata": {
        "id": "SHvIgCE6rP40"
      }
    },
    {
      "cell_type": "code",
      "execution_count": 238,
      "source": [
        "return_output = two_number_addition_with_return()"
      ],
      "outputs": [],
      "metadata": {
        "execution": {
          "iopub.status.busy": "2021-12-14T10:47:38.817248Z",
          "iopub.execute_input": "2021-12-14T10:47:38.817507Z",
          "iopub.status.idle": "2021-12-14T10:47:38.82225Z",
          "shell.execute_reply.started": "2021-12-14T10:47:38.817481Z",
          "shell.execute_reply": "2021-12-14T10:47:38.821109Z"
        },
        "trusted": true,
        "id": "-fBWnS8-rP40"
      }
    },
    {
      "cell_type": "code",
      "execution_count": 239,
      "source": [
        "# as return was used in two_number_addition_with_return() function so we can take out value\n",
        "return_output"
      ],
      "outputs": [
        {
          "output_type": "execute_result",
          "data": {
            "text/plain": [
              "7"
            ]
          },
          "metadata": {},
          "execution_count": 239
        }
      ],
      "metadata": {
        "execution": {
          "iopub.status.busy": "2021-12-14T10:47:43.959551Z",
          "iopub.execute_input": "2021-12-14T10:47:43.959868Z",
          "iopub.status.idle": "2021-12-14T10:47:43.966393Z",
          "shell.execute_reply.started": "2021-12-14T10:47:43.959839Z",
          "shell.execute_reply": "2021-12-14T10:47:43.965352Z"
        },
        "trusted": true,
        "id": "LbZu9vBprP40",
        "colab": {
          "base_uri": "https://localhost:8080/"
        },
        "outputId": "40abf94e-a2a1-4860-c393-559945a5d86d"
      }
    },
    {
      "cell_type": "markdown",
      "source": [
        "Here in above code value to funtion is being returned and we are saving that returned value to a variable return_output for maybee any other further use."
      ],
      "metadata": {
        "id": "qy_mlgUorP40"
      }
    },
    {
      "cell_type": "markdown",
      "source": [
        "# **`Passing Parameters to function`**"
      ],
      "metadata": {
        "id": "06kIfiPsrP40"
      }
    },
    {
      "cell_type": "code",
      "execution_count": 240,
      "source": [
        "# defining a function\n",
        "def welcome_message(name):\n",
        "    return 'Welcome to Python Funcions!! ' + name\n",
        "\n",
        "# calling function in python with name Akash\n"
      ],
      "outputs": [],
      "metadata": {
        "execution": {
          "iopub.status.busy": "2021-12-11T10:14:43.448272Z",
          "iopub.execute_input": "2021-12-11T10:14:43.448529Z",
          "iopub.status.idle": "2021-12-11T10:14:43.453987Z",
          "shell.execute_reply.started": "2021-12-11T10:14:43.448498Z",
          "shell.execute_reply": "2021-12-11T10:14:43.453125Z"
        },
        "trusted": true,
        "id": "5AnZuBkLrP40"
      }
    },
    {
      "cell_type": "code",
      "execution_count": 241,
      "source": [
        "# reusing above function (see it as a login windo of a website)\n",
        "welcome_message('Krishna')"
      ],
      "outputs": [
        {
          "output_type": "execute_result",
          "data": {
            "text/plain": [
              "'Welcome to Python Funcions!! Krishna'"
            ],
            "application/vnd.google.colaboratory.intrinsic+json": {
              "type": "string"
            }
          },
          "metadata": {},
          "execution_count": 241
        }
      ],
      "metadata": {
        "execution": {
          "iopub.status.busy": "2021-12-11T10:15:25.291359Z",
          "iopub.execute_input": "2021-12-11T10:15:25.291791Z",
          "iopub.status.idle": "2021-12-11T10:15:25.297224Z",
          "shell.execute_reply.started": "2021-12-11T10:15:25.291745Z",
          "shell.execute_reply": "2021-12-11T10:15:25.296648Z"
        },
        "trusted": true,
        "id": "QWOG3EOBrP40",
        "colab": {
          "base_uri": "https://localhost:8080/",
          "height": 35
        },
        "outputId": "e2750854-e5fb-4610-f018-546621b6ec83"
      }
    },
    {
      "cell_type": "markdown",
      "source": [
        "# ***`Passing Default Parameter value to function`*** <br>\n",
        "Works in case you dont provide any value to the required parameter\n",
        "* This is good practice to provide default value to a parameter\n",
        "    * As it reduces many errors"
      ],
      "metadata": {
        "id": "TI0CMNN3rP41"
      }
    },
    {
      "cell_type": "code",
      "execution_count": 242,
      "source": [
        "def welcome_message(name='Learner'):\n",
        "    return 'Welcome to Python Funcions!! ' + name\n",
        "\n",
        "# calling function in python\n",
        "welcome_message('Akash')"
      ],
      "outputs": [
        {
          "output_type": "execute_result",
          "data": {
            "text/plain": [
              "'Welcome to Python Funcions!! Akash'"
            ],
            "application/vnd.google.colaboratory.intrinsic+json": {
              "type": "string"
            }
          },
          "metadata": {},
          "execution_count": 242
        }
      ],
      "metadata": {
        "execution": {
          "iopub.status.busy": "2021-12-11T10:18:28.862638Z",
          "iopub.execute_input": "2021-12-11T10:18:28.863195Z",
          "iopub.status.idle": "2021-12-11T10:18:28.869209Z",
          "shell.execute_reply.started": "2021-12-11T10:18:28.863152Z",
          "shell.execute_reply": "2021-12-11T10:18:28.868493Z"
        },
        "trusted": true,
        "id": "nSw9ggNCrP41",
        "colab": {
          "base_uri": "https://localhost:8080/",
          "height": 35
        },
        "outputId": "b0085ff7-2952-4195-c7b8-2c0641a3bfca"
      }
    },
    {
      "cell_type": "code",
      "execution_count": 243,
      "source": [
        "# not providing parameter value, now it will take default one i.e. Learner\n",
        "welcome_message()"
      ],
      "outputs": [
        {
          "output_type": "execute_result",
          "data": {
            "text/plain": [
              "'Welcome to Python Funcions!! Learner'"
            ],
            "application/vnd.google.colaboratory.intrinsic+json": {
              "type": "string"
            }
          },
          "metadata": {},
          "execution_count": 243
        }
      ],
      "metadata": {
        "execution": {
          "iopub.status.busy": "2021-12-11T10:19:14.333861Z",
          "iopub.execute_input": "2021-12-11T10:19:14.334172Z",
          "iopub.status.idle": "2021-12-11T10:19:14.34035Z",
          "shell.execute_reply.started": "2021-12-11T10:19:14.334138Z",
          "shell.execute_reply": "2021-12-11T10:19:14.339723Z"
        },
        "trusted": true,
        "id": "JPOpKKy5rP41",
        "colab": {
          "base_uri": "https://localhost:8080/",
          "height": 35
        },
        "outputId": "bfd5bb41-9026-42c3-8873-63fb8456b758"
      }
    },
    {
      "cell_type": "markdown",
      "source": [
        "# ***`Positional Arguments`***\n",
        "Most arguments are identified by their position in function call\n",
        "* Say `print(x,y)` will give different results from `print(y,x)`\n",
        "\n",
        "What ever sequence is given while defining a function values must be taken in that sequence only\n",
        "* Otherwise use argument name **`(keyword arguments)`** to take values\n",
        "* We first define `positional argument` and then `keyword arguments`\n"
      ],
      "metadata": {
        "id": "JzTJaFZirP41"
      }
    },
    {
      "cell_type": "code",
      "execution_count": 244,
      "source": [
        "#### Observe every output from here onwords #####\n",
        "\n",
        "def substraction_function(small_number,large_number):\n",
        "    difference = large_number - small_number\n",
        "    return difference"
      ],
      "outputs": [],
      "metadata": {
        "execution": {
          "iopub.status.busy": "2021-12-11T10:24:26.570183Z",
          "iopub.execute_input": "2021-12-11T10:24:26.570469Z",
          "iopub.status.idle": "2021-12-11T10:24:26.574882Z",
          "shell.execute_reply.started": "2021-12-11T10:24:26.570434Z",
          "shell.execute_reply": "2021-12-11T10:24:26.574072Z"
        },
        "trusted": true,
        "id": "LpgDIWcYrP41"
      }
    },
    {
      "cell_type": "code",
      "execution_count": 245,
      "source": [
        "# passing arguments in right order\n",
        "substraction_function(7,84)"
      ],
      "outputs": [
        {
          "output_type": "execute_result",
          "data": {
            "text/plain": [
              "77"
            ]
          },
          "metadata": {},
          "execution_count": 245
        }
      ],
      "metadata": {
        "execution": {
          "iopub.status.busy": "2021-12-11T10:26:55.88516Z",
          "iopub.execute_input": "2021-12-11T10:26:55.88569Z",
          "iopub.status.idle": "2021-12-11T10:26:55.890293Z",
          "shell.execute_reply.started": "2021-12-11T10:26:55.885652Z",
          "shell.execute_reply": "2021-12-11T10:26:55.889589Z"
        },
        "trusted": true,
        "id": "AX6Ku1j9rP41",
        "colab": {
          "base_uri": "https://localhost:8080/"
        },
        "outputId": "dcad5c0b-eab0-496a-befe-e81278c2cd49"
      }
    },
    {
      "cell_type": "code",
      "execution_count": 246,
      "source": [
        "# passing arguments in wrong order (produces negative result)\n",
        "substraction_function(84,7)"
      ],
      "outputs": [
        {
          "output_type": "execute_result",
          "data": {
            "text/plain": [
              "-77"
            ]
          },
          "metadata": {},
          "execution_count": 246
        }
      ],
      "metadata": {
        "execution": {
          "iopub.status.busy": "2021-12-11T10:27:15.452368Z",
          "iopub.execute_input": "2021-12-11T10:27:15.453063Z",
          "iopub.status.idle": "2021-12-11T10:27:15.458033Z",
          "shell.execute_reply.started": "2021-12-11T10:27:15.453022Z",
          "shell.execute_reply": "2021-12-11T10:27:15.457478Z"
        },
        "trusted": true,
        "id": "9Vzlfk4frP41",
        "colab": {
          "base_uri": "https://localhost:8080/"
        },
        "outputId": "0e3830e0-1c3d-4bce-952c-cde370155142"
      }
    },
    {
      "cell_type": "code",
      "execution_count": 247,
      "source": [
        "# always pass arguments using there name(keyword arguments) then order does not matter\n",
        "substraction_function(large_number=84,small_number=7)"
      ],
      "outputs": [
        {
          "output_type": "execute_result",
          "data": {
            "text/plain": [
              "77"
            ]
          },
          "metadata": {},
          "execution_count": 247
        }
      ],
      "metadata": {
        "execution": {
          "iopub.status.busy": "2021-12-11T10:27:51.963803Z",
          "iopub.execute_input": "2021-12-11T10:27:51.964287Z",
          "iopub.status.idle": "2021-12-11T10:27:51.969195Z",
          "shell.execute_reply.started": "2021-12-11T10:27:51.964251Z",
          "shell.execute_reply": "2021-12-11T10:27:51.968619Z"
        },
        "trusted": true,
        "id": "zSWT96GurP41",
        "colab": {
          "base_uri": "https://localhost:8080/"
        },
        "outputId": "52263de7-e167-4712-d70c-fe193de4644a"
      }
    },
    {
      "cell_type": "code",
      "execution_count": 248,
      "source": [
        "# defining positional argument and then keyword arguments => valid in python\n",
        "substraction_function(7,large_number=84)"
      ],
      "outputs": [
        {
          "output_type": "execute_result",
          "data": {
            "text/plain": [
              "77"
            ]
          },
          "metadata": {},
          "execution_count": 248
        }
      ],
      "metadata": {
        "execution": {
          "iopub.status.busy": "2021-12-11T10:39:36.00778Z",
          "iopub.execute_input": "2021-12-11T10:39:36.008176Z",
          "iopub.status.idle": "2021-12-11T10:39:36.01423Z",
          "shell.execute_reply.started": "2021-12-11T10:39:36.008129Z",
          "shell.execute_reply": "2021-12-11T10:39:36.013192Z"
        },
        "trusted": true,
        "id": "fkwtjVwGrP41",
        "colab": {
          "base_uri": "https://localhost:8080/"
        },
        "outputId": "cb1c0df3-5638-4660-9658-e8b898da852e"
      }
    },
    {
      "cell_type": "code",
      "execution_count": 250,
      "source": [
        "# defining keyword arguments and then positional argument => not vaid in python\n",
        "substraction_function(large_number=84, small_number=7)"
      ],
      "outputs": [
        {
          "output_type": "execute_result",
          "data": {
            "text/plain": [
              "77"
            ]
          },
          "metadata": {},
          "execution_count": 250
        }
      ],
      "metadata": {
        "execution": {
          "iopub.status.busy": "2021-12-11T10:40:23.884999Z",
          "iopub.execute_input": "2021-12-11T10:40:23.885814Z",
          "iopub.status.idle": "2021-12-11T10:40:23.891881Z",
          "shell.execute_reply.started": "2021-12-11T10:40:23.885757Z",
          "shell.execute_reply": "2021-12-11T10:40:23.890735Z"
        },
        "trusted": true,
        "id": "Or_Jf_6KrP41",
        "colab": {
          "base_uri": "https://localhost:8080/"
        },
        "outputId": "2eaddb0e-e705-444c-bbd7-30efecce0e7b"
      }
    },
    {
      "cell_type": "markdown",
      "source": [
        "# ***`Variable Length Arguments`***\n",
        "Used when we need more flexibility while defining functions like we don't know in advance fixed number of arguments\n",
        "* Python allows us to make function calls with variable length arguments\n",
        "* In argument use an **(*)** astrick sign before argument"
      ],
      "metadata": {
        "id": "Y5UrdLZlrP41"
      }
    },
    {
      "cell_type": "code",
      "execution_count": 252,
      "source": [
        "##### Observe code from here ######\n",
        "\n",
        "# defining a randome function using (*args)\n",
        "def arguments_function(*args):  # => used for positional arguments will variable lengths\n",
        "    for i in args:\n",
        "        print(i)"
      ],
      "outputs": [],
      "metadata": {
        "execution": {
          "iopub.status.busy": "2021-12-11T10:54:19.849737Z",
          "iopub.execute_input": "2021-12-11T10:54:19.850114Z",
          "iopub.status.idle": "2021-12-11T10:54:19.853423Z",
          "shell.execute_reply.started": "2021-12-11T10:54:19.850085Z",
          "shell.execute_reply": "2021-12-11T10:54:19.852892Z"
        },
        "trusted": true,
        "id": "6-Sm8XtorP42"
      }
    },
    {
      "cell_type": "code",
      "execution_count": 253,
      "source": [
        "# passing n-number of positional arguments to fucntion as we are using (*args)\n",
        "arguments_function(1,2,3,4,5)"
      ],
      "outputs": [
        {
          "output_type": "stream",
          "name": "stdout",
          "text": [
            "1\n",
            "2\n",
            "3\n",
            "4\n",
            "5\n"
          ]
        }
      ],
      "metadata": {
        "execution": {
          "iopub.status.busy": "2021-12-11T10:54:20.094285Z",
          "iopub.execute_input": "2021-12-11T10:54:20.094689Z",
          "iopub.status.idle": "2021-12-11T10:54:20.099439Z",
          "shell.execute_reply.started": "2021-12-11T10:54:20.094658Z",
          "shell.execute_reply": "2021-12-11T10:54:20.098625Z"
        },
        "trusted": true,
        "id": "aGg6U4SCrP42",
        "colab": {
          "base_uri": "https://localhost:8080/"
        },
        "outputId": "675267f0-796b-48f2-f36d-c26bff31ef70"
      }
    },
    {
      "cell_type": "markdown",
      "source": [
        "* Everything given to function if it is using *args, arguments will be saved as `tuples`"
      ],
      "metadata": {
        "id": "yKxx6-FIrP42"
      }
    },
    {
      "cell_type": "code",
      "execution_count": 254,
      "source": [
        "#### Observe every output from here onwords #####\n",
        "# defining a randome function using (**kwargs)\n",
        "\n",
        "def keyword_arguments_function(**kwargs): # => used for keyword arguments will variable lengths\n",
        "    for key,value in kwargs.items():\n",
        "        print(key,value)"
      ],
      "outputs": [],
      "metadata": {
        "execution": {
          "iopub.status.busy": "2021-12-11T10:52:56.975291Z",
          "iopub.execute_input": "2021-12-11T10:52:56.976171Z",
          "iopub.status.idle": "2021-12-11T10:52:56.980446Z",
          "shell.execute_reply.started": "2021-12-11T10:52:56.976118Z",
          "shell.execute_reply": "2021-12-11T10:52:56.979797Z"
        },
        "trusted": true,
        "id": "qE5Zn3ZnrP42"
      }
    },
    {
      "cell_type": "code",
      "execution_count": 255,
      "source": [
        "# passing n-number of keyword arguments to fucntion as we are using (*args)\n",
        "keyword_arguments_function(a=1,b=2,c=3,d=4,e=5)"
      ],
      "outputs": [
        {
          "output_type": "stream",
          "name": "stdout",
          "text": [
            "a 1\n",
            "b 2\n",
            "c 3\n",
            "d 4\n",
            "e 5\n"
          ]
        }
      ],
      "metadata": {
        "execution": {
          "iopub.status.busy": "2021-12-11T10:54:10.896266Z",
          "iopub.execute_input": "2021-12-11T10:54:10.89681Z",
          "iopub.status.idle": "2021-12-11T10:54:10.902543Z",
          "shell.execute_reply.started": "2021-12-11T10:54:10.896756Z",
          "shell.execute_reply": "2021-12-11T10:54:10.90162Z"
        },
        "trusted": true,
        "id": "m-EYKFbvrP42",
        "colab": {
          "base_uri": "https://localhost:8080/"
        },
        "outputId": "c8541056-7439-46ad-de25-4f929f0c8e28"
      }
    },
    {
      "cell_type": "markdown",
      "source": [
        "* Everything given to function if it is using *kwargs, arguments will be saved as `dict`"
      ],
      "metadata": {
        "id": "ACo85WuXrP42"
      }
    },
    {
      "cell_type": "markdown",
      "source": [
        "# ***`Scope of Variables`*** means that part of program where we can access particular variable\n",
        "* `Local Variable` => variables defined inside a function and can be only accessed from inside of that particular function\n",
        "* `Global Variable` => variables defined outside a function and can be accessed throughout program\n",
        "\n",
        "Let's define a global variable, `\"global_variable\"` outside function\n",
        "* We will return its value using a function `\"randome_function\"` and see that we would be able to access its value using that function also"
      ],
      "metadata": {
        "id": "_NUdf1OsrP42"
      }
    },
    {
      "cell_type": "code",
      "execution_count": 251,
      "source": [
        "#### Observe every output from here onwords #####\n",
        "# defining a global variable\n",
        "global_variable = 'variable outside of function'\n",
        "\n",
        "# defining function\n",
        "def random_function():\n",
        "    # accessing variable which is outside of this function\n",
        "    return global_variable"
      ],
      "outputs": [],
      "metadata": {
        "execution": {
          "iopub.status.busy": "2021-12-11T11:00:38.758474Z",
          "iopub.execute_input": "2021-12-11T11:00:38.758741Z",
          "iopub.status.idle": "2021-12-11T11:00:38.762182Z",
          "shell.execute_reply.started": "2021-12-11T11:00:38.758716Z",
          "shell.execute_reply": "2021-12-11T11:00:38.761618Z"
        },
        "trusted": true,
        "id": "e0BDQ-ccrP42"
      }
    },
    {
      "cell_type": "code",
      "execution_count": 256,
      "source": [
        "random_function()"
      ],
      "outputs": [
        {
          "output_type": "execute_result",
          "data": {
            "text/plain": [
              "'variable outside of function'"
            ],
            "application/vnd.google.colaboratory.intrinsic+json": {
              "type": "string"
            }
          },
          "metadata": {},
          "execution_count": 256
        }
      ],
      "metadata": {
        "execution": {
          "iopub.status.busy": "2021-12-11T11:00:58.33313Z",
          "iopub.execute_input": "2021-12-11T11:00:58.33357Z",
          "iopub.status.idle": "2021-12-11T11:00:58.337597Z",
          "shell.execute_reply.started": "2021-12-11T11:00:58.333513Z",
          "shell.execute_reply": "2021-12-11T11:00:58.337038Z"
        },
        "trusted": true,
        "id": "2hYmUr5BrP42",
        "colab": {
          "base_uri": "https://localhost:8080/",
          "height": 35
        },
        "outputId": "3ede39f1-e6b2-47ce-ba36-674174a4ed4f"
      }
    },
    {
      "cell_type": "markdown",
      "source": [
        "`See we can acess the data of golbal variable from Inside of the Function`\n",
        "\n",
        "# **`=> Let's see what will happen if we try to change value of global variable from Inside of the Function`**"
      ],
      "metadata": {
        "id": "w7AB55isrP42"
      }
    },
    {
      "cell_type": "code",
      "execution_count": 257,
      "source": [
        "#### Observe every output from here onwords #####\n",
        "# defining a global variable\n",
        "global_variable = 'variable outside of function'\n",
        "\n",
        "# defining function\n",
        "def random_function():\n",
        "    # changing value of global variable from inside of the function\n",
        "    global_variable = 'changing variable outside of function from inside of function'\n",
        "    # accessing variable which is outside of this function\n",
        "    return global_variable"
      ],
      "outputs": [],
      "metadata": {
        "execution": {
          "iopub.status.busy": "2021-12-11T11:08:27.656836Z",
          "iopub.execute_input": "2021-12-11T11:08:27.657115Z",
          "iopub.status.idle": "2021-12-11T11:08:27.661916Z",
          "shell.execute_reply.started": "2021-12-11T11:08:27.657086Z",
          "shell.execute_reply": "2021-12-11T11:08:27.661004Z"
        },
        "trusted": true,
        "id": "1cOFox6FrP43"
      }
    },
    {
      "cell_type": "code",
      "execution_count": 258,
      "source": [
        "print(random_function())\n",
        "print(global_variable)"
      ],
      "outputs": [
        {
          "output_type": "stream",
          "name": "stdout",
          "text": [
            "changing variable outside of function from inside of function\n",
            "variable outside of function\n"
          ]
        }
      ],
      "metadata": {
        "execution": {
          "iopub.status.busy": "2021-12-11T11:32:36.296167Z",
          "iopub.execute_input": "2021-12-11T11:32:36.29647Z",
          "iopub.status.idle": "2021-12-11T11:32:36.300653Z",
          "shell.execute_reply.started": "2021-12-11T11:32:36.29644Z",
          "shell.execute_reply": "2021-12-11T11:32:36.30002Z"
        },
        "trusted": true,
        "id": "8ScwL6OUrP43",
        "colab": {
          "base_uri": "https://localhost:8080/"
        },
        "outputId": "ca6e36a2-3c23-473c-da29-81387a70eaea"
      }
    },
    {
      "cell_type": "markdown",
      "source": [
        "It does not mean that we can change global variable from inside the function but this is somthing different story going on here:\n",
        "* function named as random_function()'s, global_variable have limited scope which is only of inside its function, that is why when we print function it returns the local variable value not the changed global variable value\n",
        "* variable defined locally is taking precedence over variable defined globally as there name are same\n",
        "\n",
        "The only shortcomming with local variable is it stayes inside the function, the minute you come out of function you dont get the updated value <br>\n",
        "So in above code we are not abble to change global variable locally, but we have made a new variable which is only working inside of the function. <br>\n",
        "Approach we shoudl follow is given bellow:"
      ],
      "metadata": {
        "id": "ePWwQg-ErP43"
      }
    },
    {
      "cell_type": "markdown",
      "source": [
        "# **`Updating value of global variable from inside of any user_defined function using  Global Keyword`** <br>\n",
        "`global` keyword tells program that there is no need to make a new variable locally but the variable we are using locally is a global variable, which has benn defined"
      ],
      "metadata": {
        "id": "ySj5UsYdrP43"
      }
    },
    {
      "cell_type": "code",
      "execution_count": 259,
      "source": [
        "#### Observe every output from here onwords #####\n",
        "# defining a global variable\n",
        "global_variable = 'variable outside of function'\n",
        "\n",
        "# defining function\n",
        "def random_function():\n",
        "    # telling function which variables is/are global\n",
        "    global global_variable\n",
        "    # changing value of global variable from inside of the function\n",
        "    global_variable = 'changing variable outside of function from inside of function'\n",
        "    # accessing variable which is outside of this function\n",
        "    return global_variable"
      ],
      "outputs": [],
      "metadata": {
        "execution": {
          "iopub.status.busy": "2021-12-11T11:44:42.576243Z",
          "iopub.execute_input": "2021-12-11T11:44:42.576513Z",
          "iopub.status.idle": "2021-12-11T11:44:42.58185Z",
          "shell.execute_reply.started": "2021-12-11T11:44:42.57648Z",
          "shell.execute_reply": "2021-12-11T11:44:42.580668Z"
        },
        "trusted": true,
        "id": "mGro89w7rP43"
      }
    },
    {
      "cell_type": "code",
      "execution_count": null,
      "source": [
        "print(random_function())\n",
        "print(global_variable)"
      ],
      "outputs": [],
      "metadata": {
        "execution": {
          "iopub.status.busy": "2021-12-11T11:44:50.853448Z",
          "iopub.execute_input": "2021-12-11T11:44:50.853721Z",
          "iopub.status.idle": "2021-12-11T11:44:50.858786Z",
          "shell.execute_reply.started": "2021-12-11T11:44:50.853693Z",
          "shell.execute_reply": "2021-12-11T11:44:50.857754Z"
        },
        "trusted": true,
        "id": "kE3EOtIfrP43"
      }
    },
    {
      "cell_type": "markdown",
      "source": [
        "<a id='15'></a><center> <h3 style=\"background-color:orange; color:white\" ><br>Lambda Expressions<br></h3>"
      ],
      "metadata": {
        "id": "rcFgfqTwrP43"
      }
    },
    {
      "cell_type": "markdown",
      "source": [
        "`Lambda function can have any number of arguments but only one expression, which is evaluated and returned`\n",
        "* `Lambda Functions` are syntactically restricted to a single expression\n",
        "* More efficient than function when task of  function is small\n",
        "* Do not use Lambda functions when task is complex\n",
        "* It works best when you have to call a function more of times but execution task is simple\n",
        "\n",
        "`Write a regular function instead of a lambda when function is to be used multiple times`\n",
        "* `Key`= Lambda must be used once\n",
        "* Lambdas are supposed to be used for just once and thus there is no reason to assign a lambda to a variable.\n",
        "* Major reason for avoiding assigning a lambda to a variable is for debugging/maintainability purposes, especially in a production/teamwork environment\n",
        "\n",
        "\n",
        "* Use of function is good choice when assignment of variable is compulsary\n",
        "* While debugging if any error accurs it will point out to the function creating error\n",
        "* In case of lambda function it will throw `lambda error` and ther can be many lambda in out code which makes is difficult to debug error"
      ],
      "metadata": {
        "id": "WEq89rm1rP43"
      }
    },
    {
      "cell_type": "code",
      "source": [],
      "metadata": {
        "id": "xg6eKbLRaRJH"
      },
      "execution_count": null,
      "outputs": []
    },
    {
      "cell_type": "code",
      "execution_count": 260,
      "source": [
        "# define a function that adds 100 to number that is passed as an argument\n",
        "\n"
      ],
      "outputs": [],
      "metadata": {
        "execution": {
          "iopub.status.busy": "2021-12-11T12:00:22.684948Z",
          "iopub.execute_input": "2021-12-11T12:00:22.685235Z",
          "iopub.status.idle": "2021-12-11T12:00:22.690396Z",
          "shell.execute_reply.started": "2021-12-11T12:00:22.685204Z",
          "shell.execute_reply": "2021-12-11T12:00:22.689805Z"
        },
        "trusted": true,
        "id": "VXxZTJZirP43"
      }
    },
    {
      "cell_type": "code",
      "execution_count": null,
      "source": [
        "# lambda function named as increaseBy_100 that adds 100 to number that is passed as an argument\n",
        "\n",
        "# print value for increaseBy_100(1), using f string\n",
        "# print value for increaseBy_100(22), using f string\n"
      ],
      "outputs": [],
      "metadata": {
        "execution": {
          "iopub.status.busy": "2021-12-11T12:05:30.288288Z",
          "iopub.execute_input": "2021-12-11T12:05:30.28859Z",
          "iopub.status.idle": "2021-12-11T12:05:30.294691Z",
          "shell.execute_reply.started": "2021-12-11T12:05:30.288548Z",
          "shell.execute_reply": "2021-12-11T12:05:30.293705Z"
        },
        "trusted": true,
        "id": "U5_RDfAirP43"
      }
    },
    {
      "cell_type": "markdown",
      "source": [
        "# **`Lambda function with two arguments`**"
      ],
      "metadata": {
        "id": "2nDrVMrorP44"
      }
    },
    {
      "cell_type": "code",
      "execution_count": null,
      "source": [
        "# write a lambda fucntion named as subtract_two_number which can take any two number as input and subtract thouse two number\n",
        "\n"
      ],
      "outputs": [],
      "metadata": {
        "execution": {
          "iopub.status.busy": "2021-12-11T12:03:26.870187Z",
          "iopub.execute_input": "2021-12-11T12:03:26.870492Z",
          "iopub.status.idle": "2021-12-11T12:03:26.876301Z",
          "shell.execute_reply.started": "2021-12-11T12:03:26.870463Z",
          "shell.execute_reply": "2021-12-11T12:03:26.8755Z"
        },
        "trusted": true,
        "id": "3hb3McqDrP44"
      }
    },
    {
      "cell_type": "markdown",
      "source": [
        "# ***`filter() function`*** takes in a function and a list as arguments <br>\n",
        "`It filters out all elements of a sequence, for which function returns True`"
      ],
      "metadata": {
        "id": "i5Q_GCA1rP44"
      }
    },
    {
      "cell_type": "code",
      "execution_count": null,
      "source": [
        "#### Observe every output from here onwords #####\n",
        "# function to check if given number is even\n",
        "def divisible_two(x):\n",
        "    if x%2 == 0:\n",
        "        return True #odd\n",
        "    else:\n",
        "        return False #not odd\n",
        "\n",
        "# given list to filter for odd number\n",
        "check_list = [4,8,0,11,456,777,999,777]"
      ],
      "outputs": [],
      "metadata": {
        "execution": {
          "iopub.status.busy": "2021-12-11T12:16:47.959669Z",
          "iopub.execute_input": "2021-12-11T12:16:47.959928Z",
          "iopub.status.idle": "2021-12-11T12:16:47.964627Z",
          "shell.execute_reply.started": "2021-12-11T12:16:47.959902Z",
          "shell.execute_reply": "2021-12-11T12:16:47.963957Z"
        },
        "trusted": true,
        "id": "s8waRBHerP44"
      }
    },
    {
      "cell_type": "code",
      "execution_count": null,
      "source": [
        "#### Observe every output from here onwords #####\n",
        "odd_number_filtered_list = list(filter(divisible_two,check_list))\n",
        "odd_number_filtered_list"
      ],
      "outputs": [],
      "metadata": {
        "execution": {
          "iopub.status.busy": "2021-12-11T12:16:49.025265Z",
          "iopub.execute_input": "2021-12-11T12:16:49.025528Z",
          "iopub.status.idle": "2021-12-11T12:16:49.032015Z",
          "shell.execute_reply.started": "2021-12-11T12:16:49.025499Z",
          "shell.execute_reply": "2021-12-11T12:16:49.030928Z"
        },
        "trusted": true,
        "id": "OSf2QniarP44"
      }
    },
    {
      "cell_type": "code",
      "execution_count": null,
      "source": [
        "# writing lambda function for above code (we need not to define function sepratly)\n",
        "odd_number_filtered_list_using_lambda = list(filter(lambda x:(x%2==0),check_list))\n",
        "odd_number_filtered_list_using_lambda"
      ],
      "outputs": [],
      "metadata": {
        "execution": {
          "iopub.status.busy": "2021-12-11T12:16:49.72659Z",
          "iopub.execute_input": "2021-12-11T12:16:49.726825Z",
          "iopub.status.idle": "2021-12-11T12:16:49.731947Z",
          "shell.execute_reply.started": "2021-12-11T12:16:49.7268Z",
          "shell.execute_reply": "2021-12-11T12:16:49.731354Z"
        },
        "trusted": true,
        "id": "0kta1jnvrP44"
      }
    },
    {
      "cell_type": "markdown",
      "source": [
        "How easy lamda can make our task now understand\n"
      ],
      "metadata": {
        "id": "mx2z069urP44"
      }
    },
    {
      "cell_type": "markdown",
      "source": [
        "# ***`map() function`*** takes in a function and a list as argument\n",
        "* Function is called with a lambda function and a list\n",
        "* A new list is returned which contains all lambda modified items returned by that function for each item"
      ],
      "metadata": {
        "id": "Vv_hbB-arP45"
      }
    },
    {
      "cell_type": "code",
      "execution_count": 261,
      "source": [
        "#### Observe every output from here onwords #####\n",
        "check_list = [4,8,0,11,456,777,999,777]\n",
        "\n",
        "#increse every element of check_list by 4\n",
        "mapped_check_list = list(map(lambda x:x*4,check_list ))\n",
        "mapped_check_list"
      ],
      "outputs": [
        {
          "output_type": "execute_result",
          "data": {
            "text/plain": [
              "[16, 32, 0, 44, 1824, 3108, 3996, 3108]"
            ]
          },
          "metadata": {},
          "execution_count": 261
        }
      ],
      "metadata": {
        "execution": {
          "iopub.status.busy": "2021-12-11T12:21:37.036314Z",
          "iopub.execute_input": "2021-12-11T12:21:37.036641Z",
          "iopub.status.idle": "2021-12-11T12:21:37.043569Z",
          "shell.execute_reply.started": "2021-12-11T12:21:37.036606Z",
          "shell.execute_reply": "2021-12-11T12:21:37.042921Z"
        },
        "trusted": true,
        "id": "pTnlcYcirP45",
        "colab": {
          "base_uri": "https://localhost:8080/"
        },
        "outputId": "4fe9ad53-7b49-4489-c78a-6008b7e25c7d"
      }
    },
    {
      "cell_type": "code",
      "execution_count": 262,
      "source": [
        "#### Observe every output from here onwords #####\n",
        "check_list = ['north','see','king','himalayas','east']\n",
        "# capatilize first letter of each  word in the original list\n",
        "mapped_check_list = list(map(lambda x: x[0].upper()+x[1:],check_list))\n",
        "mapped_check_list"
      ],
      "outputs": [
        {
          "output_type": "execute_result",
          "data": {
            "text/plain": [
              "['North', 'See', 'King', 'Himalayas', 'East']"
            ]
          },
          "metadata": {},
          "execution_count": 262
        }
      ],
      "metadata": {
        "execution": {
          "iopub.status.busy": "2021-12-11T12:23:30.070668Z",
          "iopub.execute_input": "2021-12-11T12:23:30.07096Z",
          "iopub.status.idle": "2021-12-11T12:23:30.078246Z",
          "shell.execute_reply.started": "2021-12-11T12:23:30.07093Z",
          "shell.execute_reply": "2021-12-11T12:23:30.077438Z"
        },
        "trusted": true,
        "id": "UjkGFcOurP45",
        "colab": {
          "base_uri": "https://localhost:8080/"
        },
        "outputId": "38fabd64-ed79-4882-f4f3-f7f5b6bae6de"
      }
    },
    {
      "cell_type": "markdown",
      "source": [
        "# **`reduce() Function`** takes in a function and a list as argument\n",
        "* The function is called with a lambda function and a list\n",
        "* A new reduced result is returned\n",
        "* This performs a repetitive operation over pairs of list\n",
        "\n",
        "`Reduce Function will always take two parameters`"
      ],
      "metadata": {
        "id": "DNAZjcndrP45"
      }
    },
    {
      "cell_type": "code",
      "execution_count": 263,
      "source": [
        "#### Observe every output from here onwords #####\n",
        "#importing reduce using functools\n",
        "from functools import reduce\n",
        "\n",
        "\n",
        "check_list = [4,8,0,11,456,777,999,777]\n",
        "#using reduce function to find sum of numbers in check_list\n",
        "sum_of_list = reduce((lambda x, y : x + y),check_list)\n",
        "sum_of_list"
      ],
      "outputs": [
        {
          "output_type": "execute_result",
          "data": {
            "text/plain": [
              "3032"
            ]
          },
          "metadata": {},
          "execution_count": 263
        }
      ],
      "metadata": {
        "execution": {
          "iopub.status.busy": "2021-12-11T12:26:20.94267Z",
          "iopub.execute_input": "2021-12-11T12:26:20.942969Z",
          "iopub.status.idle": "2021-12-11T12:26:20.949205Z",
          "shell.execute_reply.started": "2021-12-11T12:26:20.942936Z",
          "shell.execute_reply": "2021-12-11T12:26:20.948607Z"
        },
        "trusted": true,
        "id": "C2cKnRQRrP45",
        "colab": {
          "base_uri": "https://localhost:8080/"
        },
        "outputId": "70c78fb6-8ef6-4077-8d45-3315289ec87c"
      }
    },
    {
      "cell_type": "code",
      "execution_count": 264,
      "source": [
        "#### Observe every output from here onwords #####\n",
        "check_list = [4,8,0,11,456,777,999,777]\n",
        "#using reduce function to find largest number in check_list\n",
        "largest_number = reduce((lambda x, y: x if (x > y) else y ),check_list)\n",
        "largest_number"
      ],
      "outputs": [
        {
          "output_type": "execute_result",
          "data": {
            "text/plain": [
              "999"
            ]
          },
          "metadata": {},
          "execution_count": 264
        }
      ],
      "metadata": {
        "execution": {
          "iopub.status.busy": "2021-12-11T12:27:05.947988Z",
          "iopub.execute_input": "2021-12-11T12:27:05.948578Z",
          "iopub.status.idle": "2021-12-11T12:27:05.954115Z",
          "shell.execute_reply.started": "2021-12-11T12:27:05.948527Z",
          "shell.execute_reply": "2021-12-11T12:27:05.953544Z"
        },
        "trusted": true,
        "id": "AxB-1xvYrP45",
        "colab": {
          "base_uri": "https://localhost:8080/"
        },
        "outputId": "055bcfae-7bcb-4024-8354-478e8b82fc8c"
      }
    },
    {
      "cell_type": "markdown",
      "source": [
        "<a id='16'></a><center> <h3 style=\"background-color:orange; color:white\" ><br>Comprehensions<br></h3>"
      ],
      "metadata": {
        "id": "hZ15dPrLrP45"
      }
    },
    {
      "cell_type": "markdown",
      "source": [
        "#### **BELOW CODE IS GIVEN FOR YOU TO OBSERVE HOW COMPREHENSIONS WORK.**"
      ],
      "metadata": {
        "id": "Q50giP1JSRht"
      }
    },
    {
      "cell_type": "markdown",
      "source": [
        "# **`Type of Comprehensions`**:\n",
        "1. `List Comprehension`\n",
        "2. `Set Comprehension`\n",
        "3. `Dict Comprehension`"
      ],
      "metadata": {
        "execution": {
          "iopub.status.busy": "2021-12-11T12:40:13.513306Z",
          "iopub.execute_input": "2021-12-11T12:40:13.51405Z",
          "iopub.status.idle": "2021-12-11T12:40:13.516965Z",
          "shell.execute_reply.started": "2021-12-11T12:40:13.51401Z",
          "shell.execute_reply": "2021-12-11T12:40:13.516398Z"
        },
        "id": "kPw6N8X_rP45"
      }
    },
    {
      "cell_type": "markdown",
      "source": [
        "# 1. List Comprehension\n",
        "`Syntex:`\n",
        "\n",
        "**[expression for item in iterable]**\n",
        "\n",
        "\n",
        "**Expanded Form**<br>\n",
        "for item in iterable: <br>\n",
        "....expression"
      ],
      "metadata": {
        "id": "BmN5iDJyrP45"
      }
    },
    {
      "cell_type": "markdown",
      "source": [
        "**`Converet all element of below tuple in upper case and change datatype into list`**"
      ],
      "metadata": {
        "id": "DF7cNPLerP45"
      }
    },
    {
      "cell_type": "code",
      "execution_count": 265,
      "source": [
        "animals = ('bird', 'snake', 'dog', 'turtle', 'cat', 'hamster')\n",
        "type(animals)"
      ],
      "outputs": [
        {
          "output_type": "execute_result",
          "data": {
            "text/plain": [
              "tuple"
            ]
          },
          "metadata": {},
          "execution_count": 265
        }
      ],
      "metadata": {
        "execution": {
          "iopub.status.busy": "2021-12-11T12:44:52.831783Z",
          "iopub.execute_input": "2021-12-11T12:44:52.832229Z",
          "iopub.status.idle": "2021-12-11T12:44:52.839423Z",
          "shell.execute_reply.started": "2021-12-11T12:44:52.832175Z",
          "shell.execute_reply": "2021-12-11T12:44:52.838508Z"
        },
        "trusted": true,
        "id": "v9pd74p_rP45",
        "colab": {
          "base_uri": "https://localhost:8080/"
        },
        "outputId": "f37da71a-2c2a-462a-be7a-d740f60819d4"
      }
    },
    {
      "cell_type": "code",
      "execution_count": 266,
      "source": [
        "# good => way using list comprehension\n",
        "\n",
        "[x.upper()for x in animals]"
      ],
      "outputs": [
        {
          "output_type": "execute_result",
          "data": {
            "text/plain": [
              "['BIRD', 'SNAKE', 'DOG', 'TURTLE', 'CAT', 'HAMSTER']"
            ]
          },
          "metadata": {},
          "execution_count": 266
        }
      ],
      "metadata": {
        "execution": {
          "iopub.status.busy": "2021-12-11T12:46:10.788116Z",
          "iopub.execute_input": "2021-12-11T12:46:10.788709Z",
          "iopub.status.idle": "2021-12-11T12:46:10.795836Z",
          "shell.execute_reply.started": "2021-12-11T12:46:10.788656Z",
          "shell.execute_reply": "2021-12-11T12:46:10.794758Z"
        },
        "trusted": true,
        "id": "_8Vxa7vbrP46",
        "colab": {
          "base_uri": "https://localhost:8080/"
        },
        "outputId": "3d9cf89b-48de-4aea-c413-bd459bd4ab4c"
      }
    },
    {
      "cell_type": "code",
      "execution_count": 267,
      "source": [
        "# Not Good way => using list comprehension\n",
        "animalss = []\n",
        "for x in animals:\n",
        "    animalss.append(x.upper())\n",
        "animalss"
      ],
      "outputs": [
        {
          "output_type": "execute_result",
          "data": {
            "text/plain": [
              "['BIRD', 'SNAKE', 'DOG', 'TURTLE', 'CAT', 'HAMSTER']"
            ]
          },
          "metadata": {},
          "execution_count": 267
        }
      ],
      "metadata": {
        "execution": {
          "iopub.status.busy": "2021-12-11T12:47:45.24633Z",
          "iopub.execute_input": "2021-12-11T12:47:45.247201Z",
          "iopub.status.idle": "2021-12-11T12:47:45.255041Z",
          "shell.execute_reply.started": "2021-12-11T12:47:45.247159Z",
          "shell.execute_reply": "2021-12-11T12:47:45.254315Z"
        },
        "trusted": true,
        "id": "cWkErTE-rP46",
        "colab": {
          "base_uri": "https://localhost:8080/"
        },
        "outputId": "4b841fba-8058-4b6e-96a9-e2b2df9feb57"
      }
    },
    {
      "cell_type": "markdown",
      "source": [
        "# List Comprehension for Conditional statement or For Filtering</b>\n",
        "\n",
        "`Syntex:`\n",
        "\n",
        "**[expression `for` item in iterable `if` some_condition]**\n",
        "\n",
        "`Expended Form:`\n",
        "\n",
        "`for` item in iterable:\n",
        "<br>___    `if` some_condition:\n",
        "<br>________        expression"
      ],
      "metadata": {
        "id": "qODAY6rvrP46"
      }
    },
    {
      "cell_type": "code",
      "execution_count": 268,
      "source": [
        "#find the prime number and square them\n",
        "\n",
        "primes = [2,3,4,5,6,8,7,9]"
      ],
      "outputs": [],
      "metadata": {
        "execution": {
          "iopub.status.busy": "2021-12-11T12:49:28.836631Z",
          "iopub.execute_input": "2021-12-11T12:49:28.837034Z",
          "iopub.status.idle": "2021-12-11T12:49:28.841127Z",
          "shell.execute_reply.started": "2021-12-11T12:49:28.837003Z",
          "shell.execute_reply": "2021-12-11T12:49:28.840118Z"
        },
        "trusted": true,
        "id": "aiz3zeKzrP46"
      }
    },
    {
      "cell_type": "code",
      "execution_count": 269,
      "source": [
        "# good\n",
        "[x*x for x in primes if x%2 == 0]"
      ],
      "outputs": [
        {
          "output_type": "execute_result",
          "data": {
            "text/plain": [
              "[4, 16, 36, 64]"
            ]
          },
          "metadata": {},
          "execution_count": 269
        }
      ],
      "metadata": {
        "execution": {
          "iopub.status.busy": "2021-12-11T12:49:34.511204Z",
          "iopub.execute_input": "2021-12-11T12:49:34.511914Z",
          "iopub.status.idle": "2021-12-11T12:49:34.520236Z",
          "shell.execute_reply.started": "2021-12-11T12:49:34.511869Z",
          "shell.execute_reply": "2021-12-11T12:49:34.518769Z"
        },
        "trusted": true,
        "id": "wzASeS9erP46",
        "colab": {
          "base_uri": "https://localhost:8080/"
        },
        "outputId": "52c751d6-f7d0-4a2c-88ea-2c0f9912452e"
      }
    },
    {
      "cell_type": "code",
      "execution_count": 270,
      "source": [
        "# not good\n",
        "ls = []\n",
        "for x in primes:\n",
        "    if x % 2 == 0:\n",
        "        ls.append(x*x)\n",
        "ls"
      ],
      "outputs": [
        {
          "output_type": "execute_result",
          "data": {
            "text/plain": [
              "[4, 16, 36, 64]"
            ]
          },
          "metadata": {},
          "execution_count": 270
        }
      ],
      "metadata": {
        "execution": {
          "iopub.status.busy": "2021-12-11T12:49:59.636651Z",
          "iopub.execute_input": "2021-12-11T12:49:59.636937Z",
          "iopub.status.idle": "2021-12-11T12:49:59.643965Z",
          "shell.execute_reply.started": "2021-12-11T12:49:59.636901Z",
          "shell.execute_reply": "2021-12-11T12:49:59.642794Z"
        },
        "trusted": true,
        "id": "3j3aW1LLrP46",
        "colab": {
          "base_uri": "https://localhost:8080/"
        },
        "outputId": "883d7cff-dd50-4811-c191-a6b70d3dc2bc"
      }
    },
    {
      "cell_type": "markdown",
      "source": [
        "**`For more complex conditions we can use function along with`**"
      ],
      "metadata": {
        "id": "W9XTKbOyrP46"
      }
    },
    {
      "cell_type": "code",
      "execution_count": 271,
      "source": [
        "#find from below given animal which have 4 leags\n",
        "\n",
        "animals = ('bird','snake','dog','turtle','cat','hamster')"
      ],
      "outputs": [],
      "metadata": {
        "execution": {
          "iopub.status.busy": "2021-12-11T12:52:17.506505Z",
          "iopub.execute_input": "2021-12-11T12:52:17.507335Z",
          "iopub.status.idle": "2021-12-11T12:52:17.513214Z",
          "shell.execute_reply.started": "2021-12-11T12:52:17.507296Z",
          "shell.execute_reply": "2021-12-11T12:52:17.512673Z"
        },
        "trusted": true,
        "id": "XKdSFtStrP46"
      }
    },
    {
      "cell_type": "code",
      "execution_count": 272,
      "source": [
        "# good\n",
        "def has_4_legs(animal):\n",
        "    return animal in ('dog','turtle','cat')\n",
        "\n",
        "[x for x in animals if has_4_legs(x)]"
      ],
      "outputs": [
        {
          "output_type": "execute_result",
          "data": {
            "text/plain": [
              "['dog', 'turtle', 'cat']"
            ]
          },
          "metadata": {},
          "execution_count": 272
        }
      ],
      "metadata": {
        "execution": {
          "iopub.status.busy": "2021-12-11T12:53:07.831737Z",
          "iopub.execute_input": "2021-12-11T12:53:07.832355Z",
          "iopub.status.idle": "2021-12-11T12:53:07.838511Z",
          "shell.execute_reply.started": "2021-12-11T12:53:07.832313Z",
          "shell.execute_reply": "2021-12-11T12:53:07.837769Z"
        },
        "trusted": true,
        "id": "s-A0LhR4rP46",
        "colab": {
          "base_uri": "https://localhost:8080/"
        },
        "outputId": "a04df11a-f0c0-49a8-e13a-84d1ad95ac1a"
      }
    },
    {
      "cell_type": "code",
      "execution_count": 273,
      "source": [
        "# not good\n",
        "l = []\n",
        "for x in animals:\n",
        "    if has_4_legs(x):\n",
        "        l.append(x)\n",
        "l"
      ],
      "outputs": [
        {
          "output_type": "execute_result",
          "data": {
            "text/plain": [
              "['dog', 'turtle', 'cat']"
            ]
          },
          "metadata": {},
          "execution_count": 273
        }
      ],
      "metadata": {
        "execution": {
          "iopub.status.busy": "2021-12-11T12:52:40.234165Z",
          "iopub.execute_input": "2021-12-11T12:52:40.234732Z",
          "iopub.status.idle": "2021-12-11T12:52:40.241024Z",
          "shell.execute_reply.started": "2021-12-11T12:52:40.234691Z",
          "shell.execute_reply": "2021-12-11T12:52:40.240303Z"
        },
        "trusted": true,
        "id": "Rvku5z7XrP46",
        "colab": {
          "base_uri": "https://localhost:8080/"
        },
        "outputId": "142b6a04-1b2c-4969-b9cf-ca5691cee36e"
      }
    },
    {
      "cell_type": "markdown",
      "source": [
        "# 2. Set Comprehension\n",
        "* Set have unique element\n",
        "* Only use curly bracket then that of square bracket\n",
        "\n",
        "`Syntax:`\n",
        "\n",
        "**{expression `for` item in iterable}**"
      ],
      "metadata": {
        "id": "VcEa0wckrP47"
      }
    },
    {
      "cell_type": "code",
      "execution_count": 274,
      "source": [
        "# find odds\n",
        "numbers_set = (1, 34, 5, 8, 10, 12, 3, 90, 70, 70, 90)\n",
        "\n",
        "unique_even_numbers = {number for number in numbers_set if number%2 == 0}\n",
        "unique_even_numbers"
      ],
      "outputs": [
        {
          "output_type": "execute_result",
          "data": {
            "text/plain": [
              "{8, 10, 12, 34, 70, 90}"
            ]
          },
          "metadata": {},
          "execution_count": 274
        }
      ],
      "metadata": {
        "execution": {
          "iopub.status.busy": "2021-12-11T12:54:59.597912Z",
          "iopub.execute_input": "2021-12-11T12:54:59.598315Z",
          "iopub.status.idle": "2021-12-11T12:54:59.605267Z",
          "shell.execute_reply.started": "2021-12-11T12:54:59.598279Z",
          "shell.execute_reply": "2021-12-11T12:54:59.604646Z"
        },
        "trusted": true,
        "id": "ZbjZrX_mrP47",
        "colab": {
          "base_uri": "https://localhost:8080/"
        },
        "outputId": "a1f6f775-3163-4f48-a016-54707dffa2eb"
      }
    },
    {
      "cell_type": "markdown",
      "source": [
        "# 3. Dict Comprehension\n",
        "`Syntax:`\n",
        "\n",
        "**{key_expression : value_expression `for` item in iterable}**"
      ],
      "metadata": {
        "id": "vGX5yVFwrP47"
      }
    },
    {
      "cell_type": "code",
      "execution_count": 275,
      "source": [
        "words = ('python', 'is', 'a', 'big', 'snake')\n",
        "\n",
        "len_words = {word : len(word) for word in words}\n",
        "len_words"
      ],
      "outputs": [
        {
          "output_type": "execute_result",
          "data": {
            "text/plain": [
              "{'python': 6, 'is': 2, 'a': 1, 'big': 3, 'snake': 5}"
            ]
          },
          "metadata": {},
          "execution_count": 275
        }
      ],
      "metadata": {
        "execution": {
          "iopub.status.busy": "2021-12-11T12:56:55.239796Z",
          "iopub.execute_input": "2021-12-11T12:56:55.240073Z",
          "iopub.status.idle": "2021-12-11T12:56:55.246199Z",
          "shell.execute_reply.started": "2021-12-11T12:56:55.24004Z",
          "shell.execute_reply": "2021-12-11T12:56:55.245205Z"
        },
        "trusted": true,
        "id": "80TTyMXwrP47",
        "colab": {
          "base_uri": "https://localhost:8080/"
        },
        "outputId": "51e197f6-f905-463b-d2c9-cfc24462d08f"
      }
    },
    {
      "cell_type": "code",
      "execution_count": 276,
      "source": [
        "# acessing key which start with p letter\n",
        "len_words_p = {word : len(word) for word in words if word.startswith('p')}\n",
        "len_words_p"
      ],
      "outputs": [
        {
          "output_type": "execute_result",
          "data": {
            "text/plain": [
              "{'python': 6}"
            ]
          },
          "metadata": {},
          "execution_count": 276
        }
      ],
      "metadata": {
        "execution": {
          "iopub.status.busy": "2021-12-11T12:57:09.957799Z",
          "iopub.execute_input": "2021-12-11T12:57:09.958085Z",
          "iopub.status.idle": "2021-12-11T12:57:09.96422Z",
          "shell.execute_reply.started": "2021-12-11T12:57:09.958056Z",
          "shell.execute_reply": "2021-12-11T12:57:09.96331Z"
        },
        "trusted": true,
        "id": "0zjPld8qrP47",
        "colab": {
          "base_uri": "https://localhost:8080/"
        },
        "outputId": "4e6fdb68-7727-4afb-d730-605cfdd9aab8"
      }
    },
    {
      "cell_type": "markdown",
      "source": [
        "<a id='17'></a><center> <h3 style=\"background-color:orange; color:white\" ><br>Enumerate<br></h3>"
      ],
      "metadata": {
        "id": "7bhKjiMBrP47"
      }
    },
    {
      "cell_type": "markdown",
      "source": [
        "Used for efficient looping\n",
        "* Use enumerate function when `needed an index` while looping\n",
        "* Often used in list comprehensions or for loops and does not spit out tuples itself\n",
        "* Enumerate is an `iterator`, this means ``nothing gets stored``\n",
        "* Processes only one item at a time\n",
        "* This can be useful when you have large datasets/files.\n",
        "\n",
        "`Syntax:` <br>\n",
        "**enumerate(iterable, start)**\n",
        "**<br>_____start = starting index**\n",
        "* `Returns a tuple of type (index,values)`\n",
        "\n",
        "Whenever you see within your code `range(len(..))` there is a better way to loop than through using an index\n",
        "* This is where built-in function `Enumerate` can help"
      ],
      "metadata": {
        "id": "ct5JcFIYrP47"
      }
    },
    {
      "cell_type": "markdown",
      "source": [
        "# Enumerate Working\n",
        "* Enumerate built-in function assigns an index to every item in an itterable object\n",
        "* This could be a set, list, string anything that can be iterated over"
      ],
      "metadata": {
        "id": "dJSxHP0-rP47"
      }
    },
    {
      "cell_type": "code",
      "execution_count": 277,
      "source": [
        "colors = ['red','green','blue','purple']\n",
        "print(enumerate(colors))"
      ],
      "outputs": [
        {
          "output_type": "stream",
          "name": "stdout",
          "text": [
            "<enumerate object at 0x7f42c080b060>\n"
          ]
        }
      ],
      "metadata": {
        "execution": {
          "iopub.status.busy": "2021-12-11T13:06:43.886137Z",
          "iopub.execute_input": "2021-12-11T13:06:43.886422Z",
          "iopub.status.idle": "2021-12-11T13:06:43.891775Z",
          "shell.execute_reply.started": "2021-12-11T13:06:43.886391Z",
          "shell.execute_reply": "2021-12-11T13:06:43.890646Z"
        },
        "trusted": true,
        "id": "5i1oBdIcrP47",
        "colab": {
          "base_uri": "https://localhost:8080/"
        },
        "outputId": "22f66d45-53d6-4045-e74f-21d4990b5605"
      }
    },
    {
      "cell_type": "code",
      "execution_count": 278,
      "source": [
        "#enumerate gives us index which starts from 0\n",
        "for index,start in enumerate(colors):\n",
        "    print(index,start)"
      ],
      "outputs": [
        {
          "output_type": "stream",
          "name": "stdout",
          "text": [
            "0 red\n",
            "1 green\n",
            "2 blue\n",
            "3 purple\n"
          ]
        }
      ],
      "metadata": {
        "execution": {
          "iopub.status.busy": "2021-12-11T13:07:21.236285Z",
          "iopub.execute_input": "2021-12-11T13:07:21.237003Z",
          "iopub.status.idle": "2021-12-11T13:07:21.242931Z",
          "shell.execute_reply.started": "2021-12-11T13:07:21.236946Z",
          "shell.execute_reply": "2021-12-11T13:07:21.241939Z"
        },
        "trusted": true,
        "id": "WGutH8TCrP47",
        "colab": {
          "base_uri": "https://localhost:8080/"
        },
        "outputId": "fcc36b7e-51ac-48d6-afc1-85679c59d112"
      }
    },
    {
      "cell_type": "code",
      "execution_count": 279,
      "source": [
        "# index starting from 1 maybee\n",
        "for index,start in enumerate(colors,start=1):\n",
        "    print(index,start)"
      ],
      "outputs": [
        {
          "output_type": "stream",
          "name": "stdout",
          "text": [
            "1 red\n",
            "2 green\n",
            "3 blue\n",
            "4 purple\n"
          ]
        }
      ],
      "metadata": {
        "execution": {
          "iopub.status.busy": "2021-12-11T13:07:59.98731Z",
          "iopub.execute_input": "2021-12-11T13:07:59.98795Z",
          "iopub.status.idle": "2021-12-11T13:07:59.993868Z",
          "shell.execute_reply.started": "2021-12-11T13:07:59.987901Z",
          "shell.execute_reply": "2021-12-11T13:07:59.992926Z"
        },
        "trusted": true,
        "id": "6bdVzFdmrP48",
        "colab": {
          "base_uri": "https://localhost:8080/"
        },
        "outputId": "29ecf875-fa66-4d33-9ced-1b9bc87355e2"
      }
    },
    {
      "cell_type": "markdown",
      "source": [
        "In above code we define variables index and item and they get assigned to first and second items of each tuple\n",
        "* This is called `sequence unpacking`\n",
        "* We then print index and item of items object"
      ],
      "metadata": {
        "id": "0j32rPMorP48"
      }
    },
    {
      "cell_type": "code",
      "execution_count": 280,
      "source": [
        "# using Enumerate to skip over one index\n",
        "for index,start in enumerate(colors,start=1):\n",
        "    if index == 3: # skipping index 3\n",
        "        continue\n",
        "    print(index,start)"
      ],
      "outputs": [
        {
          "output_type": "stream",
          "name": "stdout",
          "text": [
            "1 red\n",
            "2 green\n",
            "4 purple\n"
          ]
        }
      ],
      "metadata": {
        "execution": {
          "iopub.status.busy": "2021-12-11T13:10:46.872378Z",
          "iopub.execute_input": "2021-12-11T13:10:46.872664Z",
          "iopub.status.idle": "2021-12-11T13:10:46.877838Z",
          "shell.execute_reply.started": "2021-12-11T13:10:46.872632Z",
          "shell.execute_reply": "2021-12-11T13:10:46.877244Z"
        },
        "trusted": true,
        "id": "JbaxHHKLrP48",
        "colab": {
          "base_uri": "https://localhost:8080/"
        },
        "outputId": "815883d5-376c-4ccc-e05a-b459d8218135"
      }
    },
    {
      "cell_type": "markdown",
      "source": [
        "\n",
        "# FeedBack\n",
        "We hope you’ve enjoyed this course so far. We’re committed to help you use \"AI for All\" course to its full potential, so that you have a great learning experience. And that’s why we need your help in form of a feedback here.\n",
        "\n",
        "Please fill this feedback form https://docs.google.com/forms/d/e/1FAIpQLSfjBmH0yJSSA34IhSVx4h2eDMgOAeG4Dk-yHid__NMTk3Hq5g/viewform"
      ],
      "metadata": {
        "id": "EDv-UM4CFJN9"
      }
    }
  ]
}