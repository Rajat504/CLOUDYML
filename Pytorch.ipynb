{
  "nbformat": 4,
  "nbformat_minor": 0,
  "metadata": {
    "colab": {
      "provenance": [],
      "include_colab_link": true
    },
    "kernelspec": {
      "name": "python3",
      "display_name": "Python 3"
    },
    "language_info": {
      "name": "python"
    }
  },
  "cells": [
    {
      "cell_type": "markdown",
      "metadata": {
        "id": "view-in-github",
        "colab_type": "text"
      },
      "source": [
        "<a href=\"https://colab.research.google.com/github/Rajat504/CLOUDYML/blob/main/Pytorch.ipynb\" target=\"_parent\"><img src=\"https://colab.research.google.com/assets/colab-badge.svg\" alt=\"Open In Colab\"/></a>"
      ]
    },
    {
      "cell_type": "markdown",
      "metadata": {
        "id": "xIhd9cU3bBdO"
      },
      "source": [
        "![picture](https://upload.wikimedia.org/wikipedia/commons/9/96/Pytorch_logo.png)"
      ]
    },
    {
      "cell_type": "markdown",
      "metadata": {
        "id": "pSuFVuyj1Yve"
      },
      "source": [
        "## Python lists or tuples of numbers are collections of Python objects that are individually allocated in memory."
      ]
    },
    {
      "cell_type": "code",
      "metadata": {
        "colab": {
          "base_uri": "https://localhost:8080/"
        },
        "id": "X-eq-Mpaz0rt",
        "outputId": "ced66b47-34ce-4b47-da64-a775aafecd1c"
      },
      "source": [
        "# first let's define a list and see the size it occupies\n",
        "a = [1.0, 2.0, 3.0]\n",
        "print(type(a))\n",
        "print(a.__sizeof__())"
      ],
      "execution_count": 1,
      "outputs": [
        {
          "output_type": "stream",
          "name": "stdout",
          "text": [
            "<class 'list'>\n",
            "72\n"
          ]
        }
      ]
    },
    {
      "cell_type": "markdown",
      "metadata": {
        "id": "Lx9l8OtaJU71"
      },
      "source": [
        "**Task 1**"
      ]
    },
    {
      "cell_type": "code",
      "metadata": {
        "id": "sRCctAw3JIaO"
      },
      "source": [
        "# define a list of integers and see the size it occupies\n",
        "# print exactly like we did in previous cell\n",
        "## code below"
      ],
      "execution_count": null,
      "outputs": []
    },
    {
      "cell_type": "markdown",
      "metadata": {
        "id": "zGjH5xX_3KYa"
      },
      "source": [
        "## PyTorch tensors or NumPy arrays, on the other hand, are views over typically) contiguous memory blocks containing unboxed C numeric types rather than Python objects. Each element is 32 bit (4-byte for 32 bit and 8 byte for 64 bit in general)  float in this case used in pytorch by default. This means storing a 1D tensor of 1000,000 float numbers will require exactly 4,000,000 contiguous bytes, plus a small overhead for the metadata (such as dimensions and numeric type)."
      ]
    },
    {
      "cell_type": "code",
      "metadata": {
        "colab": {
          "base_uri": "https://localhost:8080/"
        },
        "id": "fiOUDgYL0uxl",
        "outputId": "ce04c2c8-17f8-4277-a8c0-e24f1403201a"
      },
      "source": [
        "import numpy as np\n",
        "a = np.array([1.0, 2.0, 3.0])\n",
        "print(\"a: {}, and it's dtype: {}\".format(a, a.dtype))\n",
        "print(a.nbytes)"
      ],
      "execution_count": 2,
      "outputs": [
        {
          "output_type": "stream",
          "name": "stdout",
          "text": [
            "a: [1. 2. 3.], and it's dtype: float64\n",
            "24\n"
          ]
        }
      ]
    },
    {
      "cell_type": "code",
      "metadata": {
        "colab": {
          "base_uri": "https://localhost:8080/"
        },
        "id": "fAWe0k8U1_Sm",
        "outputId": "d99a1697-c993-4d11-ef2f-e98f5536dd54"
      },
      "source": [
        "import torch as t\n",
        "a = t.ones(3)\n",
        "print(\"a: {}, and it's dtpe: {}\".format(a, a.dtype))\n",
        "print(\"size: \", a.element_size()*a.nelement())"
      ],
      "execution_count": 3,
      "outputs": [
        {
          "output_type": "stream",
          "name": "stdout",
          "text": [
            "a: tensor([1., 1., 1.]), and it's dtpe: torch.float32\n",
            "size:  12\n"
          ]
        }
      ]
    },
    {
      "cell_type": "code",
      "metadata": {
        "colab": {
          "base_uri": "https://localhost:8080/"
        },
        "id": "U3y7jXac8-PR",
        "outputId": "a1c1a5de-569a-4e23-d982-ad6647168d98"
      },
      "source": [
        "# we can create a tensor of zeros and replace it's values\n",
        "my_tensor = t.zeros((3, 2))\n",
        "my_tensor"
      ],
      "execution_count": 4,
      "outputs": [
        {
          "output_type": "execute_result",
          "data": {
            "text/plain": [
              "tensor([[0., 0.],\n",
              "        [0., 0.],\n",
              "        [0., 0.]])"
            ]
          },
          "metadata": {},
          "execution_count": 4
        }
      ]
    },
    {
      "cell_type": "code",
      "metadata": {
        "id": "lw-bBT8m4LaC"
      },
      "source": [
        "# replace it's zeros with 1., 2., 3., 4., 5., 6.\n",
        "my_tensor[0, 0] = 1.\n",
        "my_tensor[0, 1] = 2.\n",
        "my_tensor[1, 0] = 3.\n",
        "my_tensor[1, 1] = 4.\n",
        "my_tensor[2, 0] = 5.\n",
        "my_tensor[2, 1] = 6."
      ],
      "execution_count": 5,
      "outputs": []
    },
    {
      "cell_type": "code",
      "metadata": {
        "colab": {
          "base_uri": "https://localhost:8080/"
        },
        "id": "8mxPPS_W9fMd",
        "outputId": "d7a35715-732a-4e29-d52b-6182b2c64d6d"
      },
      "source": [
        "# print my_tensor\n",
        "my_tensor"
      ],
      "execution_count": 6,
      "outputs": [
        {
          "output_type": "execute_result",
          "data": {
            "text/plain": [
              "tensor([[1., 2.],\n",
              "        [3., 4.],\n",
              "        [5., 6.]])"
            ]
          },
          "metadata": {},
          "execution_count": 6
        }
      ]
    },
    {
      "cell_type": "markdown",
      "metadata": {
        "id": "emf5no8GJonP"
      },
      "source": [
        "**Task 2**"
      ]
    },
    {
      "cell_type": "code",
      "metadata": {
        "id": "Lc-LW66WJnoY"
      },
      "source": [
        "# create a tensor of ones with size (5,5) and replace each element's values with any value you like\n",
        "# then print the tensor\n",
        "## code below"
      ],
      "execution_count": null,
      "outputs": []
    },
    {
      "cell_type": "code",
      "metadata": {
        "colab": {
          "base_uri": "https://localhost:8080/"
        },
        "id": "NCPvfU8M9gtm",
        "outputId": "692df36a-67bd-4f10-bfde-85a84f0e2eed"
      },
      "source": [
        "# we can pass lists of list to create a tensor\n",
        "two_D_tensor = t.tensor([[4.0, 1.0], [5.0, 3.0], [2.0, 1.0]])\n",
        "two_D_tensor"
      ],
      "execution_count": 7,
      "outputs": [
        {
          "output_type": "execute_result",
          "data": {
            "text/plain": [
              "tensor([[4., 1.],\n",
              "        [5., 3.],\n",
              "        [2., 1.]])"
            ]
          },
          "metadata": {},
          "execution_count": 7
        }
      ]
    },
    {
      "cell_type": "markdown",
      "metadata": {
        "id": "C82mOnQpKR_x"
      },
      "source": [
        "**Task 3**"
      ]
    },
    {
      "cell_type": "code",
      "metadata": {
        "id": "DMmAJjuyKYCL"
      },
      "source": [
        "# create a list of lists and pass into t.tensor and print your tensor\n",
        "## code below"
      ],
      "execution_count": null,
      "outputs": []
    },
    {
      "cell_type": "code",
      "metadata": {
        "colab": {
          "base_uri": "https://localhost:8080/"
        },
        "id": "vZWvavNy_jt6",
        "outputId": "253eab00-5173-409f-997e-a143d37d0333"
      },
      "source": [
        "# creating 3-d tensor\n",
        "random_tensor = t.randn((3,4,3)) # here 3,4,3 ---> refers channels, rows, columns\n",
        "random_tensor"
      ],
      "execution_count": 8,
      "outputs": [
        {
          "output_type": "execute_result",
          "data": {
            "text/plain": [
              "tensor([[[ 0.3901, -0.1084, -0.9375],\n",
              "         [ 0.7833,  0.0586,  0.3608],\n",
              "         [ 1.1631, -0.0456,  0.5842],\n",
              "         [-0.6643,  2.3973,  0.5900]],\n",
              "\n",
              "        [[ 1.1614, -1.0143, -0.6267],\n",
              "         [-0.4939, -0.6173, -1.5561],\n",
              "         [-0.9763,  0.3731,  0.4721],\n",
              "         [-0.3258,  0.3556, -0.2403]],\n",
              "\n",
              "        [[ 0.3293,  1.2775,  1.5897],\n",
              "         [-0.4690, -1.1267, -0.2100],\n",
              "         [ 0.9623,  0.1553, -1.2117],\n",
              "         [ 0.8597, -0.6362,  0.0107]]])"
            ]
          },
          "metadata": {},
          "execution_count": 8
        }
      ]
    },
    {
      "cell_type": "code",
      "metadata": {
        "id": "y35wGm_hANv_",
        "colab": {
          "base_uri": "https://localhost:8080/"
        },
        "outputId": "98229272-167d-4a57-c966-bcf110ef53dd"
      },
      "source": [
        "# indexing tensors\n",
        "print(\"Printing 4th row last element of first (4,3) matrix: \", random_tensor[0][3][2])\n",
        "print(\"Printing 1st row first element of second (4,3) matrix: \", random_tensor[1][0][0])\n",
        "print(\"Printing 2nd row 2nd element of second (4,3) matrix: \", random_tensor[1][1][1])\n",
        "print(\"Printing 4th row first element of last (4,3) matrix: \", random_tensor[2][3][0])\n"
      ],
      "execution_count": 9,
      "outputs": [
        {
          "output_type": "stream",
          "name": "stdout",
          "text": [
            "Printing 4th row last element of first (4,3) matrix:  tensor(0.5900)\n",
            "Printing 1st row first element of second (4,3) matrix:  tensor(1.1614)\n",
            "Printing 2nd row 2nd element of second (4,3) matrix:  tensor(-0.6173)\n",
            "Printing 4th row first element of last (4,3) matrix:  tensor(0.8597)\n"
          ]
        }
      ]
    },
    {
      "cell_type": "markdown",
      "metadata": {
        "id": "ViNAhwBJLc1P"
      },
      "source": [
        "**Task 4**"
      ]
    },
    {
      "cell_type": "code",
      "metadata": {
        "id": "u8Ah7B0o88WO",
        "colab": {
          "base_uri": "https://localhost:8080/"
        },
        "outputId": "1c423e34-dd3b-472a-8029-78107ebf44c4"
      },
      "source": [
        "# Print 3rd row last element of first (4,3) matrix\n",
        "# Print 2nd row first element of second (4,3) matrix\n",
        "# Print 1st row 2nd element of first (4,3) matrix\n",
        "# Print 1st row first element of last (4,3) matrix\n",
        "print(random_tensor[0][2][2])\n",
        "print(random_tensor[1][0][0])\n",
        "print(random_tensor[0][1][1])\n",
        "print(random_tensor[2][0][0])"
      ],
      "execution_count": 12,
      "outputs": [
        {
          "output_type": "stream",
          "name": "stdout",
          "text": [
            "tensor(0.5842)\n",
            "tensor(1.1614)\n",
            "tensor(0.0586)\n",
            "tensor(0.3293)\n"
          ]
        }
      ]
    },
    {
      "cell_type": "markdown",
      "metadata": {
        "id": "Mg1q9u7GK3b4"
      },
      "source": [
        "**Task 5**"
      ]
    },
    {
      "cell_type": "code",
      "metadata": {
        "id": "hEjgH3MwK7-T"
      },
      "source": [
        "# create a 3d tensor of channels=5, rows=6, columns=3\n",
        "## print your tensor and try to access each element with indexing like we did above\n",
        "## code below"
      ],
      "execution_count": null,
      "outputs": []
    },
    {
      "cell_type": "code",
      "metadata": {
        "colab": {
          "base_uri": "https://localhost:8080/"
        },
        "id": "V6is1sthCeq8",
        "outputId": "acb90b1b-f336-4192-8e69-5b435a7c9f53"
      },
      "source": [
        "# Create a tensor with a fixed value for every element\n",
        "fixed_tensor = t.full((3, 3), 100)\n",
        "fixed_tensor"
      ],
      "execution_count": 10,
      "outputs": [
        {
          "output_type": "execute_result",
          "data": {
            "text/plain": [
              "tensor([[100, 100, 100],\n",
              "        [100, 100, 100],\n",
              "        [100, 100, 100]])"
            ]
          },
          "metadata": {},
          "execution_count": 10
        }
      ]
    },
    {
      "cell_type": "markdown",
      "metadata": {
        "id": "TBnlGS3bMgkZ"
      },
      "source": [
        "**Task 6**"
      ]
    },
    {
      "cell_type": "code",
      "metadata": {
        "id": "CmYuwzWtMlck"
      },
      "source": [
        "# create a tensor of shape of your choice and fill with value 50 like we did above\n",
        "# print your tensor"
      ],
      "execution_count": null,
      "outputs": []
    },
    {
      "cell_type": "code",
      "metadata": {
        "colab": {
          "base_uri": "https://localhost:8080/"
        },
        "id": "G5P_00ryCetH",
        "outputId": "4b2132bc-3e4e-4d4e-8083-56a0e8a54944"
      },
      "source": [
        "# Concatenate two tensors with compatible shapes\n",
        "concat_tensor = t.cat((fixed_tensor, t.full((3,3), 50)))\n",
        "concat_tensor"
      ],
      "execution_count": 11,
      "outputs": [
        {
          "output_type": "execute_result",
          "data": {
            "text/plain": [
              "tensor([[100, 100, 100],\n",
              "        [100, 100, 100],\n",
              "        [100, 100, 100],\n",
              "        [ 50,  50,  50],\n",
              "        [ 50,  50,  50],\n",
              "        [ 50,  50,  50]])"
            ]
          },
          "metadata": {},
          "execution_count": 11
        }
      ]
    },
    {
      "cell_type": "markdown",
      "metadata": {
        "id": "lX9Wmh0MM4yl"
      },
      "source": [
        "**Task 7**"
      ]
    },
    {
      "cell_type": "code",
      "metadata": {
        "id": "8mtmpFgQM8TP",
        "colab": {
          "base_uri": "https://localhost:8080/"
        },
        "outputId": "899356dd-4dd4-4b8d-ba17-4e9e8c7b1ca9"
      },
      "source": [
        "# create two tensors of your favorite shape and concatenate them using t.cat as we did above\n",
        "# print both tensor before concatenation and also print concatenated tensor\n",
        "print(fixed_tensor)\n",
        "print(concat_tensor)"
      ],
      "execution_count": 14,
      "outputs": [
        {
          "output_type": "stream",
          "name": "stdout",
          "text": [
            "tensor([[100, 100, 100],\n",
            "        [100, 100, 100],\n",
            "        [100, 100, 100]])\n",
            "tensor([[100, 100, 100],\n",
            "        [100, 100, 100],\n",
            "        [100, 100, 100],\n",
            "        [ 50,  50,  50],\n",
            "        [ 50,  50,  50],\n",
            "        [ 50,  50,  50]])\n"
          ]
        }
      ]
    },
    {
      "cell_type": "code",
      "metadata": {
        "colab": {
          "base_uri": "https://localhost:8080/"
        },
        "id": "ospFZfrKCevQ",
        "outputId": "666d9036-83fe-449f-e789-e845a9ac46ea"
      },
      "source": [
        "# Change the shape of a tensor\n",
        "reshaped = concat_tensor.reshape(3, 3, 2)\n",
        "reshaped"
      ],
      "execution_count": 13,
      "outputs": [
        {
          "output_type": "execute_result",
          "data": {
            "text/plain": [
              "tensor([[[100, 100],\n",
              "         [100, 100],\n",
              "         [100, 100]],\n",
              "\n",
              "        [[100, 100],\n",
              "         [100,  50],\n",
              "         [ 50,  50]],\n",
              "\n",
              "        [[ 50,  50],\n",
              "         [ 50,  50],\n",
              "         [ 50,  50]]])"
            ]
          },
          "metadata": {},
          "execution_count": 13
        }
      ]
    },
    {
      "cell_type": "markdown",
      "metadata": {
        "id": "yUj_uqJwVxsm"
      },
      "source": [
        "**Task 8**"
      ]
    },
    {
      "cell_type": "code",
      "metadata": {
        "id": "PHqL1oKAV1zd"
      },
      "source": [
        "# create a tensor of shape (5,4,2) and then reshape it into some other dimension of your choice\n",
        "\n"
      ],
      "execution_count": 16,
      "outputs": []
    },
    {
      "cell_type": "code",
      "metadata": {
        "colab": {
          "base_uri": "https://localhost:8080/"
        },
        "id": "FVQewuYTCeyE",
        "outputId": "5d72102d-f9b7-4c5f-ad84-a2ed337596d4"
      },
      "source": [
        "# creating tensor from numpy array\n",
        "x = np.array([[1, 2], [3, 4.]])\n",
        "array_to_tensor = t.from_numpy(x)\n",
        "array_to_tensor"
      ],
      "execution_count": 17,
      "outputs": [
        {
          "output_type": "execute_result",
          "data": {
            "text/plain": [
              "tensor([[1., 2.],\n",
              "        [3., 4.]], dtype=torch.float64)"
            ]
          },
          "metadata": {},
          "execution_count": 17
        }
      ]
    },
    {
      "cell_type": "code",
      "metadata": {
        "colab": {
          "base_uri": "https://localhost:8080/"
        },
        "id": "6LByHq5-JEcp",
        "outputId": "dd19a964-eef9-4480-84b6-f986938a131a"
      },
      "source": [
        "# Convert a torch tensor to a numpy array\n",
        "tensor_to_array = array_to_tensor.numpy()\n",
        "tensor_to_array"
      ],
      "execution_count": 18,
      "outputs": [
        {
          "output_type": "execute_result",
          "data": {
            "text/plain": [
              "array([[1., 2.],\n",
              "       [3., 4.]])"
            ]
          },
          "metadata": {},
          "execution_count": 18
        }
      ]
    },
    {
      "cell_type": "markdown",
      "metadata": {
        "id": "pZolGJ8nWIiW"
      },
      "source": [
        "**Task 9**"
      ]
    },
    {
      "cell_type": "code",
      "metadata": {
        "id": "sKzDH-eEWI0h"
      },
      "source": [
        "# create a 2-D numpy array of your choice and then convert into tensor using from_numpy and convert tensor back to array using .numpy()\n"
      ],
      "execution_count": null,
      "outputs": []
    },
    {
      "cell_type": "code",
      "metadata": {
        "colab": {
          "base_uri": "https://localhost:8080/"
        },
        "id": "UO7nLHZTg59t",
        "outputId": "8ba8d578-3510-4803-d204-205c75dc17ed"
      },
      "source": [
        "# multiplying tensors\n",
        "a = t.tensor([[1,2,3], [4,5,6]]) # observe the shape (2,3)\n",
        "b = t.tensor([[0,1], [4,5], [1,2]]) # observe the shape (3,2)\n",
        "a.matmul(b)"
      ],
      "execution_count": 19,
      "outputs": [
        {
          "output_type": "execute_result",
          "data": {
            "text/plain": [
              "tensor([[11, 17],\n",
              "        [26, 41]])"
            ]
          },
          "metadata": {},
          "execution_count": 19
        }
      ]
    },
    {
      "cell_type": "markdown",
      "metadata": {
        "id": "mhiDt_7uWjDb"
      },
      "source": [
        "**Task 10**"
      ]
    },
    {
      "cell_type": "code",
      "metadata": {
        "id": "9eCkFwcpWjPk"
      },
      "source": [
        "# create two tensors like we did above and multiply them using matmul"
      ],
      "execution_count": null,
      "outputs": []
    },
    {
      "cell_type": "code",
      "metadata": {
        "id": "LBr-fo9oiFVg"
      },
      "source": [
        "# check it's documentation\n",
        "? t.linalg.matrix_power"
      ],
      "execution_count": 20,
      "outputs": []
    },
    {
      "cell_type": "code",
      "metadata": {
        "colab": {
          "base_uri": "https://localhost:8080/"
        },
        "id": "5tA0ptdviiEk",
        "outputId": "2ade18d0-1da3-4af8-8a36-754e93abbcad"
      },
      "source": [
        "# To compute nth power of a square matrix\n",
        "sq_matrix = t.ones((2,2))\n",
        "print(\"sq matrix: \", sq_matrix)\n",
        "t.linalg.matrix_power(sq_matrix, 3)"
      ],
      "execution_count": 21,
      "outputs": [
        {
          "output_type": "stream",
          "name": "stdout",
          "text": [
            "sq matrix:  tensor([[1., 1.],\n",
            "        [1., 1.]])\n"
          ]
        },
        {
          "output_type": "execute_result",
          "data": {
            "text/plain": [
              "tensor([[4., 4.],\n",
              "        [4., 4.]])"
            ]
          },
          "metadata": {},
          "execution_count": 21
        }
      ]
    },
    {
      "cell_type": "markdown",
      "metadata": {
        "id": "hh2rEztC9wHE"
      },
      "source": [
        "**Tensor Operations and How to do Gradients**"
      ]
    },
    {
      "cell_type": "code",
      "metadata": {
        "colab": {
          "base_uri": "https://localhost:8080/"
        },
        "id": "5qr3yj7A9noj",
        "outputId": "d64e803f-8dd3-4e9c-ef7f-2ccd92b015ac"
      },
      "source": [
        "# Create tensors.\n",
        "x = t.tensor(7.)\n",
        "w = t.tensor(4., requires_grad=True)\n",
        "b = t.tensor(3., requires_grad=True)\n",
        "x, w, b"
      ],
      "execution_count": 22,
      "outputs": [
        {
          "output_type": "execute_result",
          "data": {
            "text/plain": [
              "(tensor(7.), tensor(4., requires_grad=True), tensor(3., requires_grad=True))"
            ]
          },
          "metadata": {},
          "execution_count": 22
        }
      ]
    },
    {
      "cell_type": "code",
      "metadata": {
        "colab": {
          "base_uri": "https://localhost:8080/"
        },
        "id": "zpHnQIcn-OfI",
        "outputId": "96e22b94-b814-4de3-c4a0-d178d23040b3"
      },
      "source": [
        "# Making the equation by arithmetic operation\n",
        "y = w * x + b\n",
        "y"
      ],
      "execution_count": 23,
      "outputs": [
        {
          "output_type": "execute_result",
          "data": {
            "text/plain": [
              "tensor(31., grad_fn=<AddBackward0>)"
            ]
          },
          "metadata": {},
          "execution_count": 23
        }
      ]
    },
    {
      "cell_type": "code",
      "metadata": {
        "id": "Zra92KNi_Un3"
      },
      "source": [
        "# Computing derivatives\n",
        "y.backward()"
      ],
      "execution_count": 24,
      "outputs": []
    },
    {
      "cell_type": "code",
      "metadata": {
        "colab": {
          "base_uri": "https://localhost:8080/"
        },
        "id": "uVbuErRw_oOT",
        "outputId": "bbcef967-76af-4dc9-eb02-132bd644a4cf"
      },
      "source": [
        "# Display gradients\n",
        "print('dy/dx:', x.grad)\n",
        "print('dy/dw:', w.grad)\n",
        "print('dy/db:', b.grad)"
      ],
      "execution_count": 25,
      "outputs": [
        {
          "output_type": "stream",
          "name": "stdout",
          "text": [
            "dy/dx: None\n",
            "dy/dw: tensor(7.)\n",
            "dy/db: tensor(1.)\n"
          ]
        }
      ]
    },
    {
      "cell_type": "markdown",
      "metadata": {
        "id": "7jnqoQ54XtbU"
      },
      "source": [
        "As expected, `dy/dw` has the same value as `x`, i.e., `7`, and `dy/db` has the value `1`. Note that `x.grad` is `None` because `x` doesn't have `requires_grad` set to `True`.\n",
        "\n",
        "The \"grad\" in `w.grad` is short for _gradient_, which is another term for derivative. The term _gradient_ is primarily used while dealing with vectors and matrices."
      ]
    },
    {
      "cell_type": "markdown",
      "metadata": {
        "id": "0tEzio1iYUi4"
      },
      "source": [
        "**Task 11**"
      ]
    },
    {
      "cell_type": "code",
      "metadata": {
        "id": "CeelhMquYXkb"
      },
      "source": [
        "# create 3 tensors x,w,b of your choice and then compute y=w*x + b. After defining y, compute gradients like we did in previous steps.\n",
        "# observe all the steps of tensor operations and gradients. Look into the documentation of tensor if needed.\n",
        "x = t.tensor(7.)\n",
        "w = t.tensor(4., requires_grad=True)\n",
        "b = t.tensor(3., requires_grad=True)\n",
        "y = w * x + b\n",
        "y.backward()"
      ],
      "execution_count": 26,
      "outputs": []
    },
    {
      "cell_type": "markdown",
      "metadata": {
        "id": "igQ6jkGeGVt5"
      },
      "source": [
        "**Task 12**\n",
        "\n",
        "Understand the whole Linear Regression From Scratch in next section. Then implement the same by taking input as area of the house and output as price of the house. You can take some random inputs of your own choice just like we did."
      ]
    },
    {
      "cell_type": "markdown",
      "metadata": {
        "id": "Z-az-tKzpjsV"
      },
      "source": [
        "**Linear Regression From Scratch**\n",
        "\n"
      ]
    },
    {
      "cell_type": "markdown",
      "metadata": {
        "id": "MmD3erUL4APO"
      },
      "source": [
        "In a linear regression model, each target variable is estimated to be a weighted sum of the input variables, offset by some constant, known as a bias :\n",
        "\n",
        "```\n",
        "percent  = w11 * maths + w12 * physics + w13 * chemistry + b1\n",
        "\n",
        "```\n",
        "\n",
        "![linear-regression-graph](https://i.stack.imgur.com/O5036.png)"
      ]
    },
    {
      "cell_type": "code",
      "metadata": {
        "id": "jJHNB0iapap5"
      },
      "source": [
        "# Here i'm taking marks of maths, physics, chemistry as input and i'm creating an array of it\n",
        "marks = np.array([[60, 70, 75],\n",
        "                  [70, 75, 80],\n",
        "                  [70, 72, 77],\n",
        "                  [90, 91, 95],\n",
        "                  [95, 95, 99],\n",
        "                  [50, 60, 65]], dtype='float32')\n",
        "\n",
        "# target is percentage which a person will get\n",
        "percent = np.array([68.3, 75.0, 76.3, 92.0, 96.3, 58.3], dtype='float32')"
      ],
      "execution_count": 27,
      "outputs": []
    },
    {
      "cell_type": "code",
      "metadata": {
        "id": "CfCHK17hpasI",
        "colab": {
          "base_uri": "https://localhost:8080/"
        },
        "outputId": "cf848c80-4800-4749-8641-cf2c4e875492"
      },
      "source": [
        "# converting array into tensor\n",
        "marks = t.from_numpy(marks)\n",
        "percent = t.from_numpy(percent)\n",
        "\n",
        "# printing marks and percentage both\n",
        "print(marks)\n",
        "print(percent)"
      ],
      "execution_count": 28,
      "outputs": [
        {
          "output_type": "stream",
          "name": "stdout",
          "text": [
            "tensor([[60., 70., 75.],\n",
            "        [70., 75., 80.],\n",
            "        [70., 72., 77.],\n",
            "        [90., 91., 95.],\n",
            "        [95., 95., 99.],\n",
            "        [50., 60., 65.]])\n",
            "tensor([68.3000, 75.0000, 76.3000, 92.0000, 96.3000, 58.3000])\n"
          ]
        }
      ]
    },
    {
      "cell_type": "markdown",
      "metadata": {
        "id": "lOGc9yEj7mM-"
      },
      "source": [
        "The weights and biases (w11, w12,... w23, b1 & b2) can also be represented as matrices, initialized as random values. The first row of w and the first element of b are used to predict the first target variable which is percent.\n",
        "\n",
        "Notice, our input is having 3 features, and output is 1, so our weight will be (1,3) shape and bias will be 1."
      ]
    },
    {
      "cell_type": "code",
      "metadata": {
        "id": "YLLF7R6tpauw",
        "colab": {
          "base_uri": "https://localhost:8080/"
        },
        "outputId": "3d290aa1-a3a6-46f0-ef4e-115fe37db0a8"
      },
      "source": [
        "# creating weights and biases using randn function\n",
        "marks_wt = t.randn(1, 3, requires_grad=True)\n",
        "marks_bias = t.randn(1, requires_grad=True)\n",
        "print(marks_bias)\n",
        "print(marks_wt)"
      ],
      "execution_count": 29,
      "outputs": [
        {
          "output_type": "stream",
          "name": "stdout",
          "text": [
            "tensor([-0.6750], requires_grad=True)\n",
            "tensor([[ 9.7497e-01, -7.1779e-04,  4.8359e-01]], requires_grad=True)\n"
          ]
        }
      ]
    },
    {
      "cell_type": "code",
      "metadata": {
        "id": "Qugl5wPcpaxl"
      },
      "source": [
        "# creating the model\n",
        "#  @ represents matrix multiplication in PyTorch, and the .t method returns the transpose of a tensor.\n",
        "def marks_model(x):\n",
        "  return x @ marks_wt.t() + marks_bias"
      ],
      "execution_count": 30,
      "outputs": []
    },
    {
      "cell_type": "code",
      "metadata": {
        "id": "wykz91mvqR1y",
        "colab": {
          "base_uri": "https://localhost:8080/"
        },
        "outputId": "88f81881-8e92-4d9a-d6c9-2e71b1d91e18"
      },
      "source": [
        "# Generate predictions\n",
        "percent_pred = marks_model(marks)\n",
        "print(percent_pred)"
      ],
      "execution_count": 31,
      "outputs": [
        {
          "output_type": "stream",
          "name": "stdout",
          "text": [
            "tensor([[ 94.0419],\n",
            "        [106.2059],\n",
            "        [104.7573],\n",
            "        [132.9476],\n",
            "        [139.7539],\n",
            "        [ 79.4635]], grad_fn=<AddBackward0>)\n"
          ]
        }
      ]
    },
    {
      "cell_type": "code",
      "metadata": {
        "id": "w38jLYZiqR4j",
        "colab": {
          "base_uri": "https://localhost:8080/"
        },
        "outputId": "10511ae7-a318-4508-809c-c28f9e322c26"
      },
      "source": [
        "# Compare with percent\n",
        "print(percent)"
      ],
      "execution_count": 32,
      "outputs": [
        {
          "output_type": "stream",
          "name": "stdout",
          "text": [
            "tensor([68.3000, 75.0000, 76.3000, 92.0000, 96.3000, 58.3000])\n"
          ]
        }
      ]
    },
    {
      "cell_type": "markdown",
      "metadata": {
        "id": "82LLmuB8qfeW"
      },
      "source": [
        "You can see a big difference between our model's predictions and the actual targets because we've initialized our model with random weights and biases. Obviously, we can't expect a randomly initialized model to just work.\n"
      ]
    },
    {
      "cell_type": "markdown",
      "metadata": {
        "id": "rQ-WJN4x9qAm"
      },
      "source": [
        "## Loss function\n",
        "\n",
        "How to define a loss function ?\n",
        "\n",
        "\n",
        "* Calculate the difference between the two matrices (`marks` and `percent`).\n",
        "* Square all elements of the difference matrix to remove negative values.\n",
        "* Calculate the average of the elements in the resulting matrix.\n",
        "\n",
        "You will get in the end,  **mean squared error** (MSE)."
      ]
    },
    {
      "cell_type": "code",
      "metadata": {
        "id": "aR5Soo8kqZ2e"
      },
      "source": [
        "# t.sum returns the sum of all the elements in a tensor.\n",
        "# The .numel method of a tensor returns the number of elements in a tensor.\n",
        "# MSE loss\n",
        "def mse(t1, t2):\n",
        "    diff = t1 - t2\n",
        "    return t.sum(diff * diff) / diff.numel()"
      ],
      "execution_count": 33,
      "outputs": []
    },
    {
      "cell_type": "code",
      "metadata": {
        "id": "6Kzx3d5tqZ5Q",
        "colab": {
          "base_uri": "https://localhost:8080/"
        },
        "outputId": "a85437bf-e7cd-41df-ea8f-009a7051a5b6"
      },
      "source": [
        "# Let's check the loss\n",
        "percent_loss = mse(percent_pred, percent)\n",
        "print(percent_loss)"
      ],
      "execution_count": 34,
      "outputs": [
        {
          "output_type": "stream",
          "name": "stdout",
          "text": [
            "tensor(1623.7094, grad_fn=<DivBackward0>)\n"
          ]
        }
      ]
    },
    {
      "cell_type": "markdown",
      "metadata": {
        "id": "q15ME5KyrVsz"
      },
      "source": [
        "Here’s how we can interpret the result: On average, each element in the prediction differs from the actual target by the square root of the loss."
      ]
    },
    {
      "cell_type": "markdown",
      "metadata": {
        "id": "lcRJQNP1rVz0"
      },
      "source": [
        "\n",
        "\n",
        "```\n",
        "# This is formatted as code\n",
        "```\n",
        "\n",
        "## Compute gradients\n",
        "\n",
        "With PyTorch, we can automatically compute the gradient or derivative of the loss w.r.t. to the weights and biases because they have requires_grad set to True. We'll see how this is useful in just a moment."
      ]
    },
    {
      "cell_type": "code",
      "metadata": {
        "id": "T4a_otlsrYFw"
      },
      "source": [
        "# Compute gradients\n",
        "percent_loss.backward()"
      ],
      "execution_count": 35,
      "outputs": []
    },
    {
      "cell_type": "code",
      "metadata": {
        "id": "4EKbOsqOrfl0",
        "colab": {
          "base_uri": "https://localhost:8080/"
        },
        "outputId": "fc34f7c4-d3f3-4edd-c67e-71ce8b225dc7"
      },
      "source": [
        "# check weights and it's gradient\n",
        "print(marks_wt)\n",
        "print(marks_wt.grad)"
      ],
      "execution_count": 36,
      "outputs": [
        {
          "output_type": "stream",
          "name": "stdout",
          "text": [
            "tensor([[ 9.7497e-01, -7.1779e-04,  4.8359e-01]], requires_grad=True)\n",
            "tensor([[5275.1733, 5419.4883, 5698.6714]])\n"
          ]
        }
      ]
    },
    {
      "cell_type": "markdown",
      "metadata": {
        "id": "T-6C8NdQ_0If"
      },
      "source": [
        "## How to adjust weights and biases to reduce the loss?\n",
        "\n",
        "If a gradient element is **positive**:\n",
        "\n",
        "* **increasing** the weight element's value slightly will **increase** the loss, and will go towards local maxima.\n",
        "* **decreasing** the weight element's value slightly will **decrease** the loss and will go towards local minima.\n",
        "\n",
        "![postive-gradient](https://i.imgur.com/WLzJ4xP.png)\n",
        "\n",
        "If a gradient element is **negative**:\n",
        "\n",
        "\n",
        "* **increasing** the weight element's value slightly will **decrease** the loss, will go towards local minima.\n",
        "* **decreasing** the weight element's value slightly will **increase** the loss, will go towards local maxima.\n",
        "\n",
        "![negative=gradient](https://i.imgur.com/dvG2fxU.png)\n",
        "\n",
        "In 3-D, local minima and global minima will look like this:\n",
        "![3-D=gradient](https://blog.paperspace.com/content/images/2018/05/challenges-1.png)\n"
      ]
    },
    {
      "cell_type": "code",
      "metadata": {
        "id": "pnDoGCB7rfoj"
      },
      "source": [
        "# We can subtract from each weight element a small quantity proportional to the derivative of the loss w.r.t. that element to reduce the loss slightly.\n",
        "with t.no_grad():\n",
        "\n",
        "    marks_wt -= marks_wt.grad * 1e-5\n",
        "    marks_bias -= marks_bias.grad * 1e-5\n",
        "    marks_wt.grad.zero_() # note this step of resetting the gradient to zero\n",
        "    marks_bias.grad.zero_() # We need to do this because PyTorch accumulates gradients, which may lead to unexpected results."
      ],
      "execution_count": 37,
      "outputs": []
    },
    {
      "cell_type": "markdown",
      "metadata": {
        "id": "XQtgueLAr_Mp"
      },
      "source": [
        "Here 1e-5 is the learning rate.\n",
        "We multiply the gradients with a very small number (10^-5 in this case) to ensure that we don't modify the weights by a very large amount. We want to take a small step in the downhill direction of the gradient, not a giant leap. This number is called the learning rate of the algorithm.\n",
        "\n",
        "We use torch.no_grad to indicate to PyTorch that we shouldn't track, calculate, or modify gradients while updating the weights and biases."
      ]
    },
    {
      "cell_type": "code",
      "metadata": {
        "id": "J6rN580bsAc9",
        "colab": {
          "base_uri": "https://localhost:8080/"
        },
        "outputId": "d44d8a34-dfcf-4192-933a-348ce76fbea2"
      },
      "source": [
        "# Let's verify that the loss is actually lower\n",
        "percent_pred = marks_model(marks)\n",
        "percent_loss = mse(percent_pred, percent)\n",
        "print(percent_loss)"
      ],
      "execution_count": 38,
      "outputs": [
        {
          "output_type": "stream",
          "name": "stdout",
          "text": [
            "tensor(892.1155, grad_fn=<DivBackward0>)\n"
          ]
        }
      ]
    },
    {
      "cell_type": "markdown",
      "metadata": {
        "id": "OlyKOiDHsJjh"
      },
      "source": [
        "Before we proceed, we reset the gradients to zero by invoking the .zero_() method. We need to do this because PyTorch accumulates gradients. Otherwise, the next time we invoke .backward on the loss, the new gradient values are added to the existing gradients, which may lead to unexpected results."
      ]
    },
    {
      "cell_type": "code",
      "metadata": {
        "id": "3WFmmDK8sII6",
        "colab": {
          "base_uri": "https://localhost:8080/"
        },
        "outputId": "bf83edd1-9a85-49bf-c009-4f00f7dde463"
      },
      "source": [
        "# You can check if gradients are set to zero or not\n",
        "print(marks_wt.grad)\n",
        "print(marks_bias.grad)"
      ],
      "execution_count": 39,
      "outputs": [
        {
          "output_type": "stream",
          "name": "stdout",
          "text": [
            "tensor([[0., 0., 0.]])\n",
            "tensor([0.])\n"
          ]
        }
      ]
    },
    {
      "cell_type": "markdown",
      "metadata": {
        "id": "tjTgkqgLbr0S"
      },
      "source": [
        "## Training the model with these steps:\n",
        "\n",
        "\n",
        "1) Generating predictions\n",
        "\n",
        "2) Calculating the loss\n",
        "\n",
        "3) Compute gradients w.r.t the weights and biases\n",
        "\n",
        "4) Adjust the weights by subtracting a small quantity proportional to the gradient\n",
        "\n",
        "5) Reset the gradients to zero"
      ]
    },
    {
      "cell_type": "code",
      "metadata": {
        "id": "OVGxZBpIbuLa",
        "colab": {
          "base_uri": "https://localhost:8080/"
        },
        "outputId": "361f5711-5ace-4831-e07b-767a1c2e0f3c"
      },
      "source": [
        "# Generate predictions\n",
        "percent_pred = marks_model(marks)\n",
        "print(percent_pred)"
      ],
      "execution_count": 40,
      "outputs": [
        {
          "output_type": "stream",
          "name": "stdout",
          "text": [
            "tensor([[ 82.8085],\n",
            "        [ 93.8891],\n",
            "        [ 92.7740],\n",
            "        [117.8538],\n",
            "        [123.9517],\n",
            "        [ 69.8695]], grad_fn=<AddBackward0>)\n"
          ]
        }
      ]
    },
    {
      "cell_type": "code",
      "metadata": {
        "id": "aU5RU5Y1cWwn",
        "colab": {
          "base_uri": "https://localhost:8080/"
        },
        "outputId": "33070a8f-8968-4f3b-895e-91bf65a164f6"
      },
      "source": [
        "# Calculate the loss\n",
        "percent_loss = mse(percent_pred, percent)\n",
        "print(percent_loss)"
      ],
      "execution_count": 41,
      "outputs": [
        {
          "output_type": "stream",
          "name": "stdout",
          "text": [
            "tensor(892.1155, grad_fn=<DivBackward0>)\n"
          ]
        }
      ]
    },
    {
      "cell_type": "code",
      "metadata": {
        "id": "cdotRts-ckPA",
        "colab": {
          "base_uri": "https://localhost:8080/"
        },
        "outputId": "d4f881e0-42ab-416c-b815-ea9854663208"
      },
      "source": [
        "# Compute gradients and print gradients of weight and bias\n",
        "percent_loss.backward()\n",
        "print(marks_wt.grad)\n",
        "print(marks_bias.grad)"
      ],
      "execution_count": 42,
      "outputs": [
        {
          "output_type": "stream",
          "name": "stdout",
          "text": [
            "tensor([[3370.3853, 3411.7273, 3574.5032]])\n",
            "tensor([38.3155])\n"
          ]
        }
      ]
    },
    {
      "cell_type": "markdown",
      "metadata": {
        "id": "25Hbxg-sdEG7"
      },
      "source": [
        "Let's update the weights and biases using the gradients computed above."
      ]
    },
    {
      "cell_type": "code",
      "metadata": {
        "id": "3I6kOI4ac4VC"
      },
      "source": [
        "# Adjust weights & reset gradients\n",
        "with t.no_grad():\n",
        "    marks_wt -= marks_wt.grad * 1e-5\n",
        "    marks_bias -= marks_bias.grad * 1e-5\n",
        "    marks_wt.grad.zero_()\n",
        "    marks_bias.grad.zero_()"
      ],
      "execution_count": 43,
      "outputs": []
    },
    {
      "cell_type": "code",
      "metadata": {
        "id": "Bza9Se6tdX5L",
        "colab": {
          "base_uri": "https://localhost:8080/"
        },
        "outputId": "e2935e6e-4cef-46b5-eecc-7881405f3f20"
      },
      "source": [
        "# looking at new weight and bias\n",
        "print(marks_wt)\n",
        "print(marks_bias)"
      ],
      "execution_count": 44,
      "outputs": [
        {
          "output_type": "stream",
          "name": "stdout",
          "text": [
            "tensor([[ 0.8885, -0.0890,  0.3909]], requires_grad=True)\n",
            "tensor([-0.6761], requires_grad=True)\n"
          ]
        }
      ]
    },
    {
      "cell_type": "markdown",
      "metadata": {
        "id": "ZNhR3_hvdLvi"
      },
      "source": [
        "With the new weights and biases, the model should have a lower loss"
      ]
    },
    {
      "cell_type": "code",
      "metadata": {
        "id": "rJUdUR_gdKs8",
        "colab": {
          "base_uri": "https://localhost:8080/"
        },
        "outputId": "e8ee498b-9431-488e-aff1-651f3cd23a05"
      },
      "source": [
        "# Calculate loss\n",
        "preds = marks_model(marks)\n",
        "loss = mse(preds, percent)\n",
        "print(loss)"
      ],
      "execution_count": 45,
      "outputs": [
        {
          "output_type": "stream",
          "name": "stdout",
          "text": [
            "tensor(600.2183, grad_fn=<DivBackward0>)\n"
          ]
        }
      ]
    },
    {
      "cell_type": "markdown",
      "metadata": {
        "id": "8zOsPU2-dhZD"
      },
      "source": [
        "We have achieved a little reduction in the loss merely by adjusting the weights and biases slightly using gradient descent."
      ]
    },
    {
      "cell_type": "markdown",
      "metadata": {
        "id": "vD6E_L5Fdupd"
      },
      "source": [
        "To reduce the loss further, we can repeat the process of adjusting the weights and biases using the gradients multiple times. Each iteration is called an epoch. Let's train the model for 50 epochs."
      ]
    },
    {
      "cell_type": "code",
      "metadata": {
        "id": "94Urmas6dnBs"
      },
      "source": [
        "# training for multiple epochs\n",
        "\n",
        "for i in range(150):\n",
        "  percent_pred = marks_model(marks)\n",
        "  percent_loss = mse(percent_pred, percent)\n",
        "  percent_loss.backward()\n",
        "  with t.no_grad():\n",
        "    marks_wt -= marks_wt.grad * 1e-5\n",
        "    marks_bias -= marks_bias.grad * 1e-5\n",
        "    marks_wt.grad.zero_()\n",
        "    marks_bias.grad.zero_()"
      ],
      "execution_count": 46,
      "outputs": []
    },
    {
      "cell_type": "code",
      "metadata": {
        "id": "M4NbSRBud3jc",
        "colab": {
          "base_uri": "https://localhost:8080/"
        },
        "outputId": "5e956f24-3ebf-4bf1-f029-c440d6a9a6e9"
      },
      "source": [
        "# calculate loss\n",
        "\n",
        "percent_pred = marks_model(marks)\n",
        "percent_loss = mse(percent_pred, percent)\n",
        "print(percent_loss)"
      ],
      "execution_count": 47,
      "outputs": [
        {
          "output_type": "stream",
          "name": "stdout",
          "text": [
            "tensor(383.3313, grad_fn=<DivBackward0>)\n"
          ]
        }
      ]
    },
    {
      "cell_type": "markdown",
      "metadata": {
        "id": "wj_Rlutdd9k5"
      },
      "source": [
        "The loss is now much lower than its initial value. Let's look at the model's predictions and compare them with the targets."
      ]
    },
    {
      "cell_type": "code",
      "metadata": {
        "id": "mxOqoxd7eCE2",
        "colab": {
          "base_uri": "https://localhost:8080/"
        },
        "outputId": "857f9e80-e83e-478e-d13c-2635a0bdbdd0"
      },
      "source": [
        "# result is good and we can make it better with more epochs\n",
        "print(percent_pred)\n",
        "print(percent)"
      ],
      "execution_count": 48,
      "outputs": [
        {
          "output_type": "stream",
          "name": "stdout",
          "text": [
            "tensor([[64.6263],\n",
            "        [73.0169],\n",
            "        [72.0550],\n",
            "        [91.2963],\n",
            "        [95.9725],\n",
            "        [54.6326]], grad_fn=<AddBackward0>)\n",
            "tensor([68.3000, 75.0000, 76.3000, 92.0000, 96.3000, 58.3000])\n"
          ]
        }
      ]
    },
    {
      "cell_type": "markdown",
      "metadata": {
        "id": "-9H7Cr6mSaGa"
      },
      "source": [
        "**FEEDBACK FORM**\n",
        "\n",
        "Please help us to improve by filling this form.\n",
        "https://forms.zohopublic.in/cloudyml/form/CloudyMLDeepLearningFeedbackForm/formperma/VCFbldnXAnbcgAIl0lWv2blgHdSldheO4RfktMdgK7s"
      ]
    },
    {
      "cell_type": "markdown",
      "metadata": {
        "id": "jLhxz4T2HUzF"
      },
      "source": [
        "![](https://images.freeimages.com/images/large-previews/737/track-finish-1442273.jpg)"
      ]
    },
    {
      "cell_type": "code",
      "metadata": {
        "id": "bw77TkgDIA6F"
      },
      "source": [],
      "execution_count": null,
      "outputs": []
    }
  ]
}