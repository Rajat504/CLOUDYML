{
  "nbformat": 4,
  "nbformat_minor": 0,
  "metadata": {
    "colab": {
      "provenance": [],
      "include_colab_link": true
    },
    "kernelspec": {
      "name": "ir",
      "display_name": "R"
    },
    "language_info": {
      "name": "R"
    }
  },
  "cells": [
    {
      "cell_type": "markdown",
      "metadata": {
        "id": "view-in-github",
        "colab_type": "text"
      },
      "source": [
        "<a href=\"https://colab.research.google.com/github/Rajat504/CLOUDYML/blob/main/DataFrame.ipynb\" target=\"_parent\"><img src=\"https://colab.research.google.com/assets/colab-badge.svg\" alt=\"Open In Colab\"/></a>"
      ]
    },
    {
      "cell_type": "markdown",
      "source": [
        " Data Frames in R Language are generic data objects of R which are used to store the tabular data. Data frames can also be interpreted as matrices where each column of a matrix can be of the different data types. DataFrame is made up of three principal components, the data, rows, and columns."
      ],
      "metadata": {
        "id": "2vMO6gGJc4dr"
      }
    },
    {
      "cell_type": "markdown",
      "source": [
        "# Create Dataframe in R Programming Language\n"
      ],
      "metadata": {
        "id": "ebwLXRAkdHB5"
      }
    },
    {
      "cell_type": "code",
      "source": [
        "# using list\n",
        "l1=list(\"A1\"=LETTERS[10:17],\"A2\"=seq(20,160,20),\"A3\"=as.integer(runif(8,1,100)))\n",
        "df=as.data.frame(l1)\n",
        "df\n",
        "is.data.frame(df)\n"
      ],
      "metadata": {
        "colab": {
          "base_uri": "https://localhost:8080/",
          "height": 366
        },
        "id": "Oh3cL0jmdIm8",
        "outputId": "12f2720f-7302-4adb-bca4-6da4dc70ddd4"
      },
      "execution_count": 14,
      "outputs": [
        {
          "output_type": "display_data",
          "data": {
            "text/html": [
              "<table class=\"dataframe\">\n",
              "<caption>A data.frame: 8 × 3</caption>\n",
              "<thead>\n",
              "\t<tr><th scope=col>A1</th><th scope=col>A2</th><th scope=col>A3</th></tr>\n",
              "\t<tr><th scope=col>&lt;chr&gt;</th><th scope=col>&lt;dbl&gt;</th><th scope=col>&lt;int&gt;</th></tr>\n",
              "</thead>\n",
              "<tbody>\n",
              "\t<tr><td>J</td><td> 20</td><td>72</td></tr>\n",
              "\t<tr><td>K</td><td> 40</td><td>85</td></tr>\n",
              "\t<tr><td>L</td><td> 60</td><td> 4</td></tr>\n",
              "\t<tr><td>M</td><td> 80</td><td>87</td></tr>\n",
              "\t<tr><td>N</td><td>100</td><td>68</td></tr>\n",
              "\t<tr><td>O</td><td>120</td><td> 1</td></tr>\n",
              "\t<tr><td>P</td><td>140</td><td>12</td></tr>\n",
              "\t<tr><td>Q</td><td>160</td><td>12</td></tr>\n",
              "</tbody>\n",
              "</table>\n"
            ],
            "text/markdown": "\nA data.frame: 8 × 3\n\n| A1 &lt;chr&gt; | A2 &lt;dbl&gt; | A3 &lt;int&gt; |\n|---|---|---|\n| J |  20 | 72 |\n| K |  40 | 85 |\n| L |  60 |  4 |\n| M |  80 | 87 |\n| N | 100 | 68 |\n| O | 120 |  1 |\n| P | 140 | 12 |\n| Q | 160 | 12 |\n\n",
            "text/latex": "A data.frame: 8 × 3\n\\begin{tabular}{lll}\n A1 & A2 & A3\\\\\n <chr> & <dbl> & <int>\\\\\n\\hline\n\t J &  20 & 72\\\\\n\t K &  40 & 85\\\\\n\t L &  60 &  4\\\\\n\t M &  80 & 87\\\\\n\t N & 100 & 68\\\\\n\t O & 120 &  1\\\\\n\t P & 140 & 12\\\\\n\t Q & 160 & 12\\\\\n\\end{tabular}\n",
            "text/plain": [
              "  A1 A2  A3\n",
              "1 J   20 72\n",
              "2 K   40 85\n",
              "3 L   60  4\n",
              "4 M   80 87\n",
              "5 N  100 68\n",
              "6 O  120  1\n",
              "7 P  140 12\n",
              "8 Q  160 12"
            ]
          },
          "metadata": {}
        },
        {
          "output_type": "display_data",
          "data": {
            "text/html": [
              "TRUE"
            ],
            "text/markdown": "TRUE",
            "text/latex": "TRUE",
            "text/plain": [
              "[1] TRUE"
            ]
          },
          "metadata": {}
        }
      ]
    },
    {
      "cell_type": "code",
      "source": [
        "# Using Matrix\n",
        "set.seed(101)\n",
        "mat=matrix(data=as.integer(runif(40,10,100)),nrow = 10,ncol=4)\n",
        "df1=as.data.frame(mat)\n",
        "df1\n"
      ],
      "metadata": {
        "colab": {
          "base_uri": "https://localhost:8080/",
          "height": 412
        },
        "id": "HD-_DvjJec7h",
        "outputId": "06e213ff-0ce5-4abb-902c-799ce1d4c5fe"
      },
      "execution_count": 15,
      "outputs": [
        {
          "output_type": "display_data",
          "data": {
            "text/html": [
              "<table class=\"dataframe\">\n",
              "<caption>A data.frame: 10 × 4</caption>\n",
              "<thead>\n",
              "\t<tr><th scope=col>V1</th><th scope=col>V2</th><th scope=col>V3</th><th scope=col>V4</th></tr>\n",
              "\t<tr><th scope=col>&lt;int&gt;</th><th scope=col>&lt;int&gt;</th><th scope=col>&lt;int&gt;</th><th scope=col>&lt;int&gt;</th></tr>\n",
              "</thead>\n",
              "<tbody>\n",
              "\t<tr><td>43</td><td>89</td><td>73</td><td>48</td></tr>\n",
              "\t<tr><td>13</td><td>73</td><td>96</td><td>38</td></tr>\n",
              "\t<tr><td>73</td><td>75</td><td>29</td><td>27</td></tr>\n",
              "\t<tr><td>69</td><td>93</td><td>69</td><td>24</td></tr>\n",
              "\t<tr><td>32</td><td>50</td><td>93</td><td>57</td></tr>\n",
              "\t<tr><td>37</td><td>63</td><td>81</td><td>92</td></tr>\n",
              "\t<tr><td>62</td><td>83</td><td>16</td><td>28</td></tr>\n",
              "\t<tr><td>40</td><td>30</td><td>45</td><td>83</td></tr>\n",
              "\t<tr><td>65</td><td>47</td><td>46</td><td>11</td></tr>\n",
              "\t<tr><td>59</td><td>13</td><td>69</td><td>93</td></tr>\n",
              "</tbody>\n",
              "</table>\n"
            ],
            "text/markdown": "\nA data.frame: 10 × 4\n\n| V1 &lt;int&gt; | V2 &lt;int&gt; | V3 &lt;int&gt; | V4 &lt;int&gt; |\n|---|---|---|---|\n| 43 | 89 | 73 | 48 |\n| 13 | 73 | 96 | 38 |\n| 73 | 75 | 29 | 27 |\n| 69 | 93 | 69 | 24 |\n| 32 | 50 | 93 | 57 |\n| 37 | 63 | 81 | 92 |\n| 62 | 83 | 16 | 28 |\n| 40 | 30 | 45 | 83 |\n| 65 | 47 | 46 | 11 |\n| 59 | 13 | 69 | 93 |\n\n",
            "text/latex": "A data.frame: 10 × 4\n\\begin{tabular}{llll}\n V1 & V2 & V3 & V4\\\\\n <int> & <int> & <int> & <int>\\\\\n\\hline\n\t 43 & 89 & 73 & 48\\\\\n\t 13 & 73 & 96 & 38\\\\\n\t 73 & 75 & 29 & 27\\\\\n\t 69 & 93 & 69 & 24\\\\\n\t 32 & 50 & 93 & 57\\\\\n\t 37 & 63 & 81 & 92\\\\\n\t 62 & 83 & 16 & 28\\\\\n\t 40 & 30 & 45 & 83\\\\\n\t 65 & 47 & 46 & 11\\\\\n\t 59 & 13 & 69 & 93\\\\\n\\end{tabular}\n",
            "text/plain": [
              "   V1 V2 V3 V4\n",
              "1  43 89 73 48\n",
              "2  13 73 96 38\n",
              "3  73 75 29 27\n",
              "4  69 93 69 24\n",
              "5  32 50 93 57\n",
              "6  37 63 81 92\n",
              "7  62 83 16 28\n",
              "8  40 30 45 83\n",
              "9  65 47 46 11\n",
              "10 59 13 69 93"
            ]
          },
          "metadata": {}
        }
      ]
    },
    {
      "cell_type": "code",
      "source": [
        "# read the csv file.\n",
        "df=read.csv(\"/content/data.csv\")"
      ],
      "metadata": {
        "id": "8xokzFEsgUVb"
      },
      "execution_count": 21,
      "outputs": []
    },
    {
      "cell_type": "code",
      "source": [
        "# read the head\n",
        "head(df)\n"
      ],
      "metadata": {
        "colab": {
          "base_uri": "https://localhost:8080/",
          "height": 286
        },
        "id": "xdi_zsCkhNkW",
        "outputId": "f5b4adf2-cc47-4ff7-a99a-0395488c516f"
      },
      "execution_count": 22,
      "outputs": [
        {
          "output_type": "display_data",
          "data": {
            "text/html": [
              "<table class=\"dataframe\">\n",
              "<caption>A data.frame: 6 × 5</caption>\n",
              "<thead>\n",
              "\t<tr><th></th><th scope=col>experience</th><th scope=col>job_desig</th><th scope=col>location</th><th scope=col>salary</th><th scope=col>placement_count</th></tr>\n",
              "\t<tr><th></th><th scope=col>&lt;chr&gt;</th><th scope=col>&lt;chr&gt;</th><th scope=col>&lt;chr&gt;</th><th scope=col>&lt;chr&gt;</th><th scope=col>&lt;int&gt;</th></tr>\n",
              "</thead>\n",
              "<tbody>\n",
              "\t<tr><th scope=row>1</th><td>2-4 yrs </td><td>Analytics </td><td>Mumbai   </td><td>6to10 </td><td>4479</td></tr>\n",
              "\t<tr><th scope=row>2</th><td>5-10 yrs</td><td>Analytics </td><td>Delhi NCR</td><td>6to10 </td><td>1969</td></tr>\n",
              "\t<tr><th scope=row>3</th><td>3-8 yrs </td><td>Growth    </td><td>Mumbai   </td><td>15to25</td><td>3319</td></tr>\n",
              "\t<tr><th scope=row>4</th><td>2-6 yrs </td><td>Analytics </td><td>Bengaluru</td><td>6to10 </td><td> 330</td></tr>\n",
              "\t<tr><th scope=row>5</th><td>6-8 yrs </td><td>Analytics </td><td>Delhi NCR</td><td>25to50</td><td>2665</td></tr>\n",
              "\t<tr><th scope=row>6</th><td>2-5 yrs </td><td>Consultant</td><td>Bengaluru</td><td>3to6  </td><td> 314</td></tr>\n",
              "</tbody>\n",
              "</table>\n"
            ],
            "text/markdown": "\nA data.frame: 6 × 5\n\n| <!--/--> | experience &lt;chr&gt; | job_desig &lt;chr&gt; | location &lt;chr&gt; | salary &lt;chr&gt; | placement_count &lt;int&gt; |\n|---|---|---|---|---|---|\n| 1 | 2-4 yrs  | Analytics  | Mumbai    | 6to10  | 4479 |\n| 2 | 5-10 yrs | Analytics  | Delhi NCR | 6to10  | 1969 |\n| 3 | 3-8 yrs  | Growth     | Mumbai    | 15to25 | 3319 |\n| 4 | 2-6 yrs  | Analytics  | Bengaluru | 6to10  |  330 |\n| 5 | 6-8 yrs  | Analytics  | Delhi NCR | 25to50 | 2665 |\n| 6 | 2-5 yrs  | Consultant | Bengaluru | 3to6   |  314 |\n\n",
            "text/latex": "A data.frame: 6 × 5\n\\begin{tabular}{r|lllll}\n  & experience & job\\_desig & location & salary & placement\\_count\\\\\n  & <chr> & <chr> & <chr> & <chr> & <int>\\\\\n\\hline\n\t1 & 2-4 yrs  & Analytics  & Mumbai    & 6to10  & 4479\\\\\n\t2 & 5-10 yrs & Analytics  & Delhi NCR & 6to10  & 1969\\\\\n\t3 & 3-8 yrs  & Growth     & Mumbai    & 15to25 & 3319\\\\\n\t4 & 2-6 yrs  & Analytics  & Bengaluru & 6to10  &  330\\\\\n\t5 & 6-8 yrs  & Analytics  & Delhi NCR & 25to50 & 2665\\\\\n\t6 & 2-5 yrs  & Consultant & Bengaluru & 3to6   &  314\\\\\n\\end{tabular}\n",
            "text/plain": [
              "  experience job_desig  location  salary placement_count\n",
              "1 2-4 yrs    Analytics  Mumbai    6to10  4479           \n",
              "2 5-10 yrs   Analytics  Delhi NCR 6to10  1969           \n",
              "3 3-8 yrs    Growth     Mumbai    15to25 3319           \n",
              "4 2-6 yrs    Analytics  Bengaluru 6to10   330           \n",
              "5 6-8 yrs    Analytics  Delhi NCR 25to50 2665           \n",
              "6 2-5 yrs    Consultant Bengaluru 3to6    314           "
            ]
          },
          "metadata": {}
        }
      ]
    },
    {
      "cell_type": "code",
      "source": [
        "# READ tail\n",
        "tail(df)\n"
      ],
      "metadata": {
        "colab": {
          "base_uri": "https://localhost:8080/",
          "height": 286
        },
        "id": "fVGXgxnhhSF6",
        "outputId": "11f6dd18-1557-4fae-9881-e4e4140aca81"
      },
      "execution_count": 23,
      "outputs": [
        {
          "output_type": "display_data",
          "data": {
            "text/html": [
              "<table class=\"dataframe\">\n",
              "<caption>A data.frame: 6 × 5</caption>\n",
              "<thead>\n",
              "\t<tr><th></th><th scope=col>experience</th><th scope=col>job_desig</th><th scope=col>location</th><th scope=col>salary</th><th scope=col>placement_count</th></tr>\n",
              "\t<tr><th></th><th scope=col>&lt;chr&gt;</th><th scope=col>&lt;chr&gt;</th><th scope=col>&lt;chr&gt;</th><th scope=col>&lt;chr&gt;</th><th scope=col>&lt;int&gt;</th></tr>\n",
              "</thead>\n",
              "<tbody>\n",
              "\t<tr><th scope=row>100</th><td>3-8 yrs </td><td>Growth   </td><td>Mumbai   </td><td>15to25</td><td>3319</td></tr>\n",
              "\t<tr><th scope=row>101</th><td>6-9 yrs </td><td>Data     </td><td>Bengaluru</td><td>15to25</td><td>3076</td></tr>\n",
              "\t<tr><th scope=row>102</th><td>4-8 yrs </td><td>Analytics</td><td>Mumbai   </td><td>3to6  </td><td>3767</td></tr>\n",
              "\t<tr><th scope=row>103</th><td>8-13 yrs</td><td>Analytics</td><td>Delhi NCR</td><td>25to50</td><td>2574</td></tr>\n",
              "\t<tr><th scope=row>104</th><td>1-6 yrs </td><td>Senior   </td><td>Bengaluru</td><td>15to25</td><td>1217</td></tr>\n",
              "\t<tr><th scope=row>105</th><td>1-3 yrs </td><td>Analytics</td><td>Chennai  </td><td>10to15</td><td> 860</td></tr>\n",
              "</tbody>\n",
              "</table>\n"
            ],
            "text/markdown": "\nA data.frame: 6 × 5\n\n| <!--/--> | experience &lt;chr&gt; | job_desig &lt;chr&gt; | location &lt;chr&gt; | salary &lt;chr&gt; | placement_count &lt;int&gt; |\n|---|---|---|---|---|---|\n| 100 | 3-8 yrs  | Growth    | Mumbai    | 15to25 | 3319 |\n| 101 | 6-9 yrs  | Data      | Bengaluru | 15to25 | 3076 |\n| 102 | 4-8 yrs  | Analytics | Mumbai    | 3to6   | 3767 |\n| 103 | 8-13 yrs | Analytics | Delhi NCR | 25to50 | 2574 |\n| 104 | 1-6 yrs  | Senior    | Bengaluru | 15to25 | 1217 |\n| 105 | 1-3 yrs  | Analytics | Chennai   | 10to15 |  860 |\n\n",
            "text/latex": "A data.frame: 6 × 5\n\\begin{tabular}{r|lllll}\n  & experience & job\\_desig & location & salary & placement\\_count\\\\\n  & <chr> & <chr> & <chr> & <chr> & <int>\\\\\n\\hline\n\t100 & 3-8 yrs  & Growth    & Mumbai    & 15to25 & 3319\\\\\n\t101 & 6-9 yrs  & Data      & Bengaluru & 15to25 & 3076\\\\\n\t102 & 4-8 yrs  & Analytics & Mumbai    & 3to6   & 3767\\\\\n\t103 & 8-13 yrs & Analytics & Delhi NCR & 25to50 & 2574\\\\\n\t104 & 1-6 yrs  & Senior    & Bengaluru & 15to25 & 1217\\\\\n\t105 & 1-3 yrs  & Analytics & Chennai   & 10to15 &  860\\\\\n\\end{tabular}\n",
            "text/plain": [
              "    experience job_desig location  salary placement_count\n",
              "100 3-8 yrs    Growth    Mumbai    15to25 3319           \n",
              "101 6-9 yrs    Data      Bengaluru 15to25 3076           \n",
              "102 4-8 yrs    Analytics Mumbai    3to6   3767           \n",
              "103 8-13 yrs   Analytics Delhi NCR 25to50 2574           \n",
              "104 1-6 yrs    Senior    Bengaluru 15to25 1217           \n",
              "105 1-3 yrs    Analytics Chennai   10to15  860           "
            ]
          },
          "metadata": {}
        }
      ]
    },
    {
      "cell_type": "code",
      "source": [
        "#shape of the dataframe\n",
        "dim(df)"
      ],
      "metadata": {
        "colab": {
          "base_uri": "https://localhost:8080/",
          "height": 34
        },
        "id": "ItfpBrnBhVZV",
        "outputId": "4783829d-f48e-4c68-d996-15d4f25aa536"
      },
      "execution_count": 24,
      "outputs": [
        {
          "output_type": "display_data",
          "data": {
            "text/html": [
              "<style>\n",
              ".list-inline {list-style: none; margin:0; padding: 0}\n",
              ".list-inline>li {display: inline-block}\n",
              ".list-inline>li:not(:last-child)::after {content: \"\\00b7\"; padding: 0 .5ex}\n",
              "</style>\n",
              "<ol class=list-inline><li>105</li><li>5</li></ol>\n"
            ],
            "text/markdown": "1. 105\n2. 5\n\n\n",
            "text/latex": "\\begin{enumerate*}\n\\item 105\n\\item 5\n\\end{enumerate*}\n",
            "text/plain": [
              "[1] 105   5"
            ]
          },
          "metadata": {}
        }
      ]
    },
    {
      "cell_type": "code",
      "source": [
        "# read 2nd column\n",
        "df[\"job_desig\"]"
      ],
      "metadata": {
        "colab": {
          "base_uri": "https://localhost:8080/",
          "height": 1000
        },
        "id": "aDIxbG4thZuL",
        "outputId": "f5a559da-a5d9-4964-e42d-6f86d2482c41"
      },
      "execution_count": 25,
      "outputs": [
        {
          "output_type": "display_data",
          "data": {
            "text/html": [
              "<table class=\"dataframe\">\n",
              "<caption>A data.frame: 105 × 1</caption>\n",
              "<thead>\n",
              "\t<tr><th scope=col>job_desig</th></tr>\n",
              "\t<tr><th scope=col>&lt;chr&gt;</th></tr>\n",
              "</thead>\n",
              "<tbody>\n",
              "\t<tr><td>Analytics </td></tr>\n",
              "\t<tr><td>Analytics </td></tr>\n",
              "\t<tr><td>Growth    </td></tr>\n",
              "\t<tr><td>Analytics </td></tr>\n",
              "\t<tr><td>Analytics </td></tr>\n",
              "\t<tr><td>Consultant</td></tr>\n",
              "\t<tr><td>Analytics </td></tr>\n",
              "\t<tr><td>Industry  </td></tr>\n",
              "\t<tr><td>Data      </td></tr>\n",
              "\t<tr><td>Data      </td></tr>\n",
              "\t<tr><td>Business  </td></tr>\n",
              "\t<tr><td>Analytics </td></tr>\n",
              "\t<tr><td>Analytics </td></tr>\n",
              "\t<tr><td>Analytics </td></tr>\n",
              "\t<tr><td>Senior    </td></tr>\n",
              "\t<tr><td>Analytics </td></tr>\n",
              "\t<tr><td>IBM       </td></tr>\n",
              "\t<tr><td>NON       </td></tr>\n",
              "\t<tr><td>Analytics </td></tr>\n",
              "\t<tr><td>Consultant</td></tr>\n",
              "\t<tr><td>Senior    </td></tr>\n",
              "\t<tr><td>Consultant</td></tr>\n",
              "\t<tr><td>Analytics </td></tr>\n",
              "\t<tr><td>Data      </td></tr>\n",
              "\t<tr><td>Analytics </td></tr>\n",
              "\t<tr><td>SEO       </td></tr>\n",
              "\t<tr><td>Analytics </td></tr>\n",
              "\t<tr><td>Data      </td></tr>\n",
              "\t<tr><td>Analytics </td></tr>\n",
              "\t<tr><td>Senior    </td></tr>\n",
              "\t<tr><td>⋮</td></tr>\n",
              "\t<tr><td>Analytics</td></tr>\n",
              "\t<tr><td>Hiring   </td></tr>\n",
              "\t<tr><td>Analytics</td></tr>\n",
              "\t<tr><td>Analytics</td></tr>\n",
              "\t<tr><td>Product  </td></tr>\n",
              "\t<tr><td>Principal</td></tr>\n",
              "\t<tr><td>Lead     </td></tr>\n",
              "\t<tr><td>Analytics</td></tr>\n",
              "\t<tr><td>Analytics</td></tr>\n",
              "\t<tr><td>Analytics</td></tr>\n",
              "\t<tr><td>Senior   </td></tr>\n",
              "\t<tr><td>Analytics</td></tr>\n",
              "\t<tr><td>Analytics</td></tr>\n",
              "\t<tr><td>Analytics</td></tr>\n",
              "\t<tr><td>Analytics</td></tr>\n",
              "\t<tr><td>Business </td></tr>\n",
              "\t<tr><td>Analytics</td></tr>\n",
              "\t<tr><td>Data     </td></tr>\n",
              "\t<tr><td>Analytics</td></tr>\n",
              "\t<tr><td>Analytics</td></tr>\n",
              "\t<tr><td>Data     </td></tr>\n",
              "\t<tr><td>Data     </td></tr>\n",
              "\t<tr><td>Business </td></tr>\n",
              "\t<tr><td>Analytics</td></tr>\n",
              "\t<tr><td>Growth   </td></tr>\n",
              "\t<tr><td>Data     </td></tr>\n",
              "\t<tr><td>Analytics</td></tr>\n",
              "\t<tr><td>Analytics</td></tr>\n",
              "\t<tr><td>Senior   </td></tr>\n",
              "\t<tr><td>Analytics</td></tr>\n",
              "</tbody>\n",
              "</table>\n"
            ],
            "text/markdown": "\nA data.frame: 105 × 1\n\n| job_desig &lt;chr&gt; |\n|---|\n| Analytics  |\n| Analytics  |\n| Growth     |\n| Analytics  |\n| Analytics  |\n| Consultant |\n| Analytics  |\n| Industry   |\n| Data       |\n| Data       |\n| Business   |\n| Analytics  |\n| Analytics  |\n| Analytics  |\n| Senior     |\n| Analytics  |\n| IBM        |\n| NON        |\n| Analytics  |\n| Consultant |\n| Senior     |\n| Consultant |\n| Analytics  |\n| Data       |\n| Analytics  |\n| SEO        |\n| Analytics  |\n| Data       |\n| Analytics  |\n| Senior     |\n| ⋮ |\n| Analytics |\n| Hiring    |\n| Analytics |\n| Analytics |\n| Product   |\n| Principal |\n| Lead      |\n| Analytics |\n| Analytics |\n| Analytics |\n| Senior    |\n| Analytics |\n| Analytics |\n| Analytics |\n| Analytics |\n| Business  |\n| Analytics |\n| Data      |\n| Analytics |\n| Analytics |\n| Data      |\n| Data      |\n| Business  |\n| Analytics |\n| Growth    |\n| Data      |\n| Analytics |\n| Analytics |\n| Senior    |\n| Analytics |\n\n",
            "text/latex": "A data.frame: 105 × 1\n\\begin{tabular}{l}\n job\\_desig\\\\\n <chr>\\\\\n\\hline\n\t Analytics \\\\\n\t Analytics \\\\\n\t Growth    \\\\\n\t Analytics \\\\\n\t Analytics \\\\\n\t Consultant\\\\\n\t Analytics \\\\\n\t Industry  \\\\\n\t Data      \\\\\n\t Data      \\\\\n\t Business  \\\\\n\t Analytics \\\\\n\t Analytics \\\\\n\t Analytics \\\\\n\t Senior    \\\\\n\t Analytics \\\\\n\t IBM       \\\\\n\t NON       \\\\\n\t Analytics \\\\\n\t Consultant\\\\\n\t Senior    \\\\\n\t Consultant\\\\\n\t Analytics \\\\\n\t Data      \\\\\n\t Analytics \\\\\n\t SEO       \\\\\n\t Analytics \\\\\n\t Data      \\\\\n\t Analytics \\\\\n\t Senior    \\\\\n\t ⋮\\\\\n\t Analytics\\\\\n\t Hiring   \\\\\n\t Analytics\\\\\n\t Analytics\\\\\n\t Product  \\\\\n\t Principal\\\\\n\t Lead     \\\\\n\t Analytics\\\\\n\t Analytics\\\\\n\t Analytics\\\\\n\t Senior   \\\\\n\t Analytics\\\\\n\t Analytics\\\\\n\t Analytics\\\\\n\t Analytics\\\\\n\t Business \\\\\n\t Analytics\\\\\n\t Data     \\\\\n\t Analytics\\\\\n\t Analytics\\\\\n\t Data     \\\\\n\t Data     \\\\\n\t Business \\\\\n\t Analytics\\\\\n\t Growth   \\\\\n\t Data     \\\\\n\t Analytics\\\\\n\t Analytics\\\\\n\t Senior   \\\\\n\t Analytics\\\\\n\\end{tabular}\n",
            "text/plain": [
              "    job_desig \n",
              "1   Analytics \n",
              "2   Analytics \n",
              "3   Growth    \n",
              "4   Analytics \n",
              "5   Analytics \n",
              "6   Consultant\n",
              "7   Analytics \n",
              "8   Industry  \n",
              "9   Data      \n",
              "10  Data      \n",
              "11  Business  \n",
              "12  Analytics \n",
              "13  Analytics \n",
              "14  Analytics \n",
              "15  Senior    \n",
              "16  Analytics \n",
              "17  IBM       \n",
              "18  NON       \n",
              "19  Analytics \n",
              "20  Consultant\n",
              "21  Senior    \n",
              "22  Consultant\n",
              "23  Analytics \n",
              "24  Data      \n",
              "25  Analytics \n",
              "26  SEO       \n",
              "27  Analytics \n",
              "28  Data      \n",
              "29  Analytics \n",
              "30  Senior    \n",
              "⋮   ⋮         \n",
              "76  Analytics \n",
              "77  Hiring    \n",
              "78  Analytics \n",
              "79  Analytics \n",
              "80  Product   \n",
              "81  Principal \n",
              "82  Lead      \n",
              "83  Analytics \n",
              "84  Analytics \n",
              "85  Analytics \n",
              "86  Senior    \n",
              "87  Analytics \n",
              "88  Analytics \n",
              "89  Analytics \n",
              "90  Analytics \n",
              "91  Business  \n",
              "92  Analytics \n",
              "93  Data      \n",
              "94  Analytics \n",
              "95  Analytics \n",
              "96  Data      \n",
              "97  Data      \n",
              "98  Business  \n",
              "99  Analytics \n",
              "100 Growth    \n",
              "101 Data      \n",
              "102 Analytics \n",
              "103 Analytics \n",
              "104 Senior    \n",
              "105 Analytics "
            ]
          },
          "metadata": {}
        }
      ]
    },
    {
      "cell_type": "code",
      "source": [
        "# read column experience and location for rows between 10 and 20\n",
        "df[10:20,c(\"experience\",\"location\")]\n"
      ],
      "metadata": {
        "colab": {
          "base_uri": "https://localhost:8080/",
          "height": 443
        },
        "id": "62nNNoCehmjG",
        "outputId": "551030a7-24af-4301-a4d8-2bf0474b1ccd"
      },
      "execution_count": 26,
      "outputs": [
        {
          "output_type": "display_data",
          "data": {
            "text/html": [
              "<table class=\"dataframe\">\n",
              "<caption>A data.frame: 11 × 2</caption>\n",
              "<thead>\n",
              "\t<tr><th></th><th scope=col>experience</th><th scope=col>location</th></tr>\n",
              "\t<tr><th></th><th scope=col>&lt;chr&gt;</th><th scope=col>&lt;chr&gt;</th></tr>\n",
              "</thead>\n",
              "<tbody>\n",
              "\t<tr><th scope=row>10</th><td>6-11 yrs</td><td>Mumbai   </td></tr>\n",
              "\t<tr><th scope=row>11</th><td>0-3 yrs </td><td>Bengaluru</td></tr>\n",
              "\t<tr><th scope=row>12</th><td>5-10 yrs</td><td>Delhi NCR</td></tr>\n",
              "\t<tr><th scope=row>13</th><td>3-6 yrs </td><td>Bengaluru</td></tr>\n",
              "\t<tr><th scope=row>14</th><td>2-4 yrs </td><td>Chennai  </td></tr>\n",
              "\t<tr><th scope=row>15</th><td>2-6 yrs </td><td>Delhi NCR</td></tr>\n",
              "\t<tr><th scope=row>16</th><td>7-12 yrs</td><td>Delhi NCR</td></tr>\n",
              "\t<tr><th scope=row>17</th><td>2-5 yrs </td><td>Bengaluru</td></tr>\n",
              "\t<tr><th scope=row>18</th><td>2-7 yrs </td><td>Bengaluru</td></tr>\n",
              "\t<tr><th scope=row>19</th><td>2-7 yrs </td><td>Mumbai   </td></tr>\n",
              "\t<tr><th scope=row>20</th><td>2-4 yrs </td><td>Mumbai   </td></tr>\n",
              "</tbody>\n",
              "</table>\n"
            ],
            "text/markdown": "\nA data.frame: 11 × 2\n\n| <!--/--> | experience &lt;chr&gt; | location &lt;chr&gt; |\n|---|---|---|\n| 10 | 6-11 yrs | Mumbai    |\n| 11 | 0-3 yrs  | Bengaluru |\n| 12 | 5-10 yrs | Delhi NCR |\n| 13 | 3-6 yrs  | Bengaluru |\n| 14 | 2-4 yrs  | Chennai   |\n| 15 | 2-6 yrs  | Delhi NCR |\n| 16 | 7-12 yrs | Delhi NCR |\n| 17 | 2-5 yrs  | Bengaluru |\n| 18 | 2-7 yrs  | Bengaluru |\n| 19 | 2-7 yrs  | Mumbai    |\n| 20 | 2-4 yrs  | Mumbai    |\n\n",
            "text/latex": "A data.frame: 11 × 2\n\\begin{tabular}{r|ll}\n  & experience & location\\\\\n  & <chr> & <chr>\\\\\n\\hline\n\t10 & 6-11 yrs & Mumbai   \\\\\n\t11 & 0-3 yrs  & Bengaluru\\\\\n\t12 & 5-10 yrs & Delhi NCR\\\\\n\t13 & 3-6 yrs  & Bengaluru\\\\\n\t14 & 2-4 yrs  & Chennai  \\\\\n\t15 & 2-6 yrs  & Delhi NCR\\\\\n\t16 & 7-12 yrs & Delhi NCR\\\\\n\t17 & 2-5 yrs  & Bengaluru\\\\\n\t18 & 2-7 yrs  & Bengaluru\\\\\n\t19 & 2-7 yrs  & Mumbai   \\\\\n\t20 & 2-4 yrs  & Mumbai   \\\\\n\\end{tabular}\n",
            "text/plain": [
              "   experience location \n",
              "10 6-11 yrs   Mumbai   \n",
              "11 0-3 yrs    Bengaluru\n",
              "12 5-10 yrs   Delhi NCR\n",
              "13 3-6 yrs    Bengaluru\n",
              "14 2-4 yrs    Chennai  \n",
              "15 2-6 yrs    Delhi NCR\n",
              "16 7-12 yrs   Delhi NCR\n",
              "17 2-5 yrs    Bengaluru\n",
              "18 2-7 yrs    Bengaluru\n",
              "19 2-7 yrs    Mumbai   \n",
              "20 2-4 yrs    Mumbai   "
            ]
          },
          "metadata": {}
        }
      ]
    },
    {
      "cell_type": "code",
      "source": [
        "# read between 10 to 15 rows for entire dataset except placement_count\n",
        "df[10:15,-5]"
      ],
      "metadata": {
        "colab": {
          "base_uri": "https://localhost:8080/",
          "height": 286
        },
        "id": "z0p6ZSFKh_Wo",
        "outputId": "4e9c3d1b-7967-4948-c547-c5f943280832"
      },
      "execution_count": 27,
      "outputs": [
        {
          "output_type": "display_data",
          "data": {
            "text/html": [
              "<table class=\"dataframe\">\n",
              "<caption>A data.frame: 6 × 4</caption>\n",
              "<thead>\n",
              "\t<tr><th></th><th scope=col>experience</th><th scope=col>job_desig</th><th scope=col>location</th><th scope=col>salary</th></tr>\n",
              "\t<tr><th></th><th scope=col>&lt;chr&gt;</th><th scope=col>&lt;chr&gt;</th><th scope=col>&lt;chr&gt;</th><th scope=col>&lt;chr&gt;</th></tr>\n",
              "</thead>\n",
              "<tbody>\n",
              "\t<tr><th scope=row>10</th><td>6-11 yrs</td><td>Data     </td><td>Mumbai   </td><td>6to10 </td></tr>\n",
              "\t<tr><th scope=row>11</th><td>0-3 yrs </td><td>Business </td><td>Bengaluru</td><td>3to6  </td></tr>\n",
              "\t<tr><th scope=row>12</th><td>5-10 yrs</td><td>Analytics</td><td>Delhi NCR</td><td>15to25</td></tr>\n",
              "\t<tr><th scope=row>13</th><td>3-6 yrs </td><td>Analytics</td><td>Bengaluru</td><td>3to6  </td></tr>\n",
              "\t<tr><th scope=row>14</th><td>2-4 yrs </td><td>Analytics</td><td>Chennai  </td><td>10to15</td></tr>\n",
              "\t<tr><th scope=row>15</th><td>2-6 yrs </td><td>Senior   </td><td>Delhi NCR</td><td>15to25</td></tr>\n",
              "</tbody>\n",
              "</table>\n"
            ],
            "text/markdown": "\nA data.frame: 6 × 4\n\n| <!--/--> | experience &lt;chr&gt; | job_desig &lt;chr&gt; | location &lt;chr&gt; | salary &lt;chr&gt; |\n|---|---|---|---|---|\n| 10 | 6-11 yrs | Data      | Mumbai    | 6to10  |\n| 11 | 0-3 yrs  | Business  | Bengaluru | 3to6   |\n| 12 | 5-10 yrs | Analytics | Delhi NCR | 15to25 |\n| 13 | 3-6 yrs  | Analytics | Bengaluru | 3to6   |\n| 14 | 2-4 yrs  | Analytics | Chennai   | 10to15 |\n| 15 | 2-6 yrs  | Senior    | Delhi NCR | 15to25 |\n\n",
            "text/latex": "A data.frame: 6 × 4\n\\begin{tabular}{r|llll}\n  & experience & job\\_desig & location & salary\\\\\n  & <chr> & <chr> & <chr> & <chr>\\\\\n\\hline\n\t10 & 6-11 yrs & Data      & Mumbai    & 6to10 \\\\\n\t11 & 0-3 yrs  & Business  & Bengaluru & 3to6  \\\\\n\t12 & 5-10 yrs & Analytics & Delhi NCR & 15to25\\\\\n\t13 & 3-6 yrs  & Analytics & Bengaluru & 3to6  \\\\\n\t14 & 2-4 yrs  & Analytics & Chennai   & 10to15\\\\\n\t15 & 2-6 yrs  & Senior    & Delhi NCR & 15to25\\\\\n\\end{tabular}\n",
            "text/plain": [
              "   experience job_desig location  salary\n",
              "10 6-11 yrs   Data      Mumbai    6to10 \n",
              "11 0-3 yrs    Business  Bengaluru 3to6  \n",
              "12 5-10 yrs   Analytics Delhi NCR 15to25\n",
              "13 3-6 yrs    Analytics Bengaluru 3to6  \n",
              "14 2-4 yrs    Analytics Chennai   10to15\n",
              "15 2-6 yrs    Senior    Delhi NCR 15to25"
            ]
          },
          "metadata": {}
        }
      ]
    },
    {
      "cell_type": "code",
      "source": [
        "# 6. Unique, Nunique\n",
        "unique(df$job_desig)"
      ],
      "metadata": {
        "colab": {
          "base_uri": "https://localhost:8080/",
          "height": 34
        },
        "id": "s_orplXliIuX",
        "outputId": "9db4f6e8-9a25-4280-bd53-8301ce57de3a"
      },
      "execution_count": 28,
      "outputs": [
        {
          "output_type": "display_data",
          "data": {
            "text/html": [
              "<style>\n",
              ".list-inline {list-style: none; margin:0; padding: 0}\n",
              ".list-inline>li {display: inline-block}\n",
              ".list-inline>li:not(:last-child)::after {content: \"\\00b7\"; padding: 0 .5ex}\n",
              "</style>\n",
              "<ol class=list-inline><li>'Analytics'</li><li>'Growth'</li><li>'Consultant'</li><li>'Industry'</li><li>'Data'</li><li>'Business'</li><li>'Senior'</li><li>'IBM'</li><li>'NON'</li><li>'SEO'</li><li>'Program'</li><li>'Hiring'</li><li>'Head'</li><li>'Social'</li><li>'SMM'</li><li>'Lead'</li><li>'Ui/ux'</li><li>'Product'</li><li>'Principal'</li></ol>\n"
            ],
            "text/markdown": "1. 'Analytics'\n2. 'Growth'\n3. 'Consultant'\n4. 'Industry'\n5. 'Data'\n6. 'Business'\n7. 'Senior'\n8. 'IBM'\n9. 'NON'\n10. 'SEO'\n11. 'Program'\n12. 'Hiring'\n13. 'Head'\n14. 'Social'\n15. 'SMM'\n16. 'Lead'\n17. 'Ui/ux'\n18. 'Product'\n19. 'Principal'\n\n\n",
            "text/latex": "\\begin{enumerate*}\n\\item 'Analytics'\n\\item 'Growth'\n\\item 'Consultant'\n\\item 'Industry'\n\\item 'Data'\n\\item 'Business'\n\\item 'Senior'\n\\item 'IBM'\n\\item 'NON'\n\\item 'SEO'\n\\item 'Program'\n\\item 'Hiring'\n\\item 'Head'\n\\item 'Social'\n\\item 'SMM'\n\\item 'Lead'\n\\item 'Ui/ux'\n\\item 'Product'\n\\item 'Principal'\n\\end{enumerate*}\n",
            "text/plain": [
              " [1] \"Analytics\"  \"Growth\"     \"Consultant\" \"Industry\"   \"Data\"      \n",
              " [6] \"Business\"   \"Senior\"     \"IBM\"        \"NON\"        \"SEO\"       \n",
              "[11] \"Program\"    \"Hiring\"     \"Head\"       \"Social\"     \"SMM\"       \n",
              "[16] \"Lead\"       \"Ui/ux\"      \"Product\"    \"Principal\" "
            ]
          },
          "metadata": {}
        }
      ]
    },
    {
      "cell_type": "code",
      "source": [
        "# Drop Duplicates\n",
        "dim(df)\n",
        "df1=unique(df)\n",
        "dim(df1)\n"
      ],
      "metadata": {
        "colab": {
          "base_uri": "https://localhost:8080/",
          "height": 52
        },
        "id": "MuF6RYORigt-",
        "outputId": "393a464e-775c-401d-84cc-fc8d8724b698"
      },
      "execution_count": 29,
      "outputs": [
        {
          "output_type": "display_data",
          "data": {
            "text/html": [
              "<style>\n",
              ".list-inline {list-style: none; margin:0; padding: 0}\n",
              ".list-inline>li {display: inline-block}\n",
              ".list-inline>li:not(:last-child)::after {content: \"\\00b7\"; padding: 0 .5ex}\n",
              "</style>\n",
              "<ol class=list-inline><li>105</li><li>5</li></ol>\n"
            ],
            "text/markdown": "1. 105\n2. 5\n\n\n",
            "text/latex": "\\begin{enumerate*}\n\\item 105\n\\item 5\n\\end{enumerate*}\n",
            "text/plain": [
              "[1] 105   5"
            ]
          },
          "metadata": {}
        },
        {
          "output_type": "display_data",
          "data": {
            "text/html": [
              "<style>\n",
              ".list-inline {list-style: none; margin:0; padding: 0}\n",
              ".list-inline>li {display: inline-block}\n",
              ".list-inline>li:not(:last-child)::after {content: \"\\00b7\"; padding: 0 .5ex}\n",
              "</style>\n",
              "<ol class=list-inline><li>97</li><li>5</li></ol>\n"
            ],
            "text/markdown": "1. 97\n2. 5\n\n\n",
            "text/latex": "\\begin{enumerate*}\n\\item 97\n\\item 5\n\\end{enumerate*}\n",
            "text/plain": [
              "[1] 97  5"
            ]
          },
          "metadata": {}
        }
      ]
    },
    {
      "cell_type": "code",
      "source": [
        "# dropping a column\n",
        "df1=unique(df)\n",
        "df1"
      ],
      "metadata": {
        "colab": {
          "base_uri": "https://localhost:8080/",
          "height": 1000
        },
        "id": "aI-Fvc_Ai-_q",
        "outputId": "a6a02c43-4609-4cea-f482-7027f96e5327"
      },
      "execution_count": 30,
      "outputs": [
        {
          "output_type": "display_data",
          "data": {
            "text/html": [
              "<table class=\"dataframe\">\n",
              "<caption>A data.frame: 97 × 5</caption>\n",
              "<thead>\n",
              "\t<tr><th></th><th scope=col>experience</th><th scope=col>job_desig</th><th scope=col>location</th><th scope=col>salary</th><th scope=col>placement_count</th></tr>\n",
              "\t<tr><th></th><th scope=col>&lt;chr&gt;</th><th scope=col>&lt;chr&gt;</th><th scope=col>&lt;chr&gt;</th><th scope=col>&lt;chr&gt;</th><th scope=col>&lt;int&gt;</th></tr>\n",
              "</thead>\n",
              "<tbody>\n",
              "\t<tr><th scope=row>1</th><td>2-4 yrs  </td><td>Analytics </td><td>Mumbai   </td><td>6to10 </td><td>4479</td></tr>\n",
              "\t<tr><th scope=row>2</th><td>5-10 yrs </td><td>Analytics </td><td>Delhi NCR</td><td>6to10 </td><td>1969</td></tr>\n",
              "\t<tr><th scope=row>3</th><td>3-8 yrs  </td><td>Growth    </td><td>Mumbai   </td><td>15to25</td><td>3319</td></tr>\n",
              "\t<tr><th scope=row>4</th><td>2-6 yrs  </td><td>Analytics </td><td>Bengaluru</td><td>6to10 </td><td> 330</td></tr>\n",
              "\t<tr><th scope=row>5</th><td>6-8 yrs  </td><td>Analytics </td><td>Delhi NCR</td><td>25to50</td><td>2665</td></tr>\n",
              "\t<tr><th scope=row>6</th><td>2-5 yrs  </td><td>Consultant</td><td>Bengaluru</td><td>3to6  </td><td> 314</td></tr>\n",
              "\t<tr><th scope=row>7</th><td>5-10 yrs </td><td>Analytics </td><td>Chennai  </td><td>10to15</td><td>3382</td></tr>\n",
              "\t<tr><th scope=row>8</th><td>8-13 yrs </td><td>Industry  </td><td>Chennai  </td><td>15to25</td><td>2922</td></tr>\n",
              "\t<tr><th scope=row>9</th><td>5-10 yrs </td><td>Data      </td><td>Bengaluru</td><td>15to25</td><td>2807</td></tr>\n",
              "\t<tr><th scope=row>10</th><td>6-11 yrs </td><td>Data      </td><td>Mumbai   </td><td>6to10 </td><td>1176</td></tr>\n",
              "\t<tr><th scope=row>11</th><td>0-3 yrs  </td><td>Business  </td><td>Bengaluru</td><td>3to6  </td><td> 107</td></tr>\n",
              "\t<tr><th scope=row>12</th><td>5-10 yrs </td><td>Analytics </td><td>Delhi NCR</td><td>15to25</td><td>1989</td></tr>\n",
              "\t<tr><th scope=row>13</th><td>3-6 yrs  </td><td>Analytics </td><td>Bengaluru</td><td>3to6  </td><td> 190</td></tr>\n",
              "\t<tr><th scope=row>14</th><td>2-4 yrs  </td><td>Analytics </td><td>Chennai  </td><td>10to15</td><td>1783</td></tr>\n",
              "\t<tr><th scope=row>15</th><td>2-6 yrs  </td><td>Senior    </td><td>Delhi NCR</td><td>15to25</td><td>1988</td></tr>\n",
              "\t<tr><th scope=row>16</th><td>7-12 yrs </td><td>Analytics </td><td>Delhi NCR</td><td>10to15</td><td>1969</td></tr>\n",
              "\t<tr><th scope=row>17</th><td>2-5 yrs  </td><td>IBM       </td><td>Bengaluru</td><td>3to6  </td><td> 190</td></tr>\n",
              "\t<tr><th scope=row>18</th><td>2-7 yrs  </td><td>NON       </td><td>Bengaluru</td><td>6to10 </td><td>2402</td></tr>\n",
              "\t<tr><th scope=row>19</th><td>2-7 yrs  </td><td>Analytics </td><td>Mumbai   </td><td>15to25</td><td>4167</td></tr>\n",
              "\t<tr><th scope=row>20</th><td>2-4 yrs  </td><td>Consultant</td><td>Mumbai   </td><td>15to25</td><td>3383</td></tr>\n",
              "\t<tr><th scope=row>21</th><td>1-5 yrs  </td><td>Senior    </td><td>Mumbai   </td><td>6to10 </td><td>4448</td></tr>\n",
              "\t<tr><th scope=row>22</th><td>2-5 yrs  </td><td>Consultant</td><td>Bengaluru</td><td>3to6  </td><td>1473</td></tr>\n",
              "\t<tr><th scope=row>23</th><td>2-5 yrs  </td><td>Analytics </td><td>Mumbai   </td><td>10to15</td><td>3848</td></tr>\n",
              "\t<tr><th scope=row>24</th><td>4-7 yrs  </td><td>Data      </td><td>Delhi NCR</td><td>10to15</td><td>1730</td></tr>\n",
              "\t<tr><th scope=row>25</th><td>0-0 yrs  </td><td>Analytics </td><td>Mumbai   </td><td>0to3  </td><td>1167</td></tr>\n",
              "\t<tr><th scope=row>26</th><td>0-3 yrs  </td><td>SEO       </td><td>Ahmedabad</td><td>3to6  </td><td>1248</td></tr>\n",
              "\t<tr><th scope=row>27</th><td>12-20 yrs</td><td>Analytics </td><td>Chennai  </td><td>25to50</td><td> 464</td></tr>\n",
              "\t<tr><th scope=row>28</th><td>6-10 yrs </td><td>Data      </td><td>Delhi NCR</td><td>10to15</td><td>2827</td></tr>\n",
              "\t<tr><th scope=row>29</th><td>2-5 yrs  </td><td>Analytics </td><td>Bengaluru</td><td>6to10 </td><td> 190</td></tr>\n",
              "\t<tr><th scope=row>30</th><td>2-5 yrs  </td><td>Senior    </td><td>Mumbai   </td><td>3to6  </td><td>4011</td></tr>\n",
              "\t<tr><th scope=row>⋮</th><td>⋮</td><td>⋮</td><td>⋮</td><td>⋮</td><td>⋮</td></tr>\n",
              "\t<tr><th scope=row>68</th><td>2-5 yrs  </td><td>Senior   </td><td>Delhi NCR</td><td>3to6  </td><td>3322</td></tr>\n",
              "\t<tr><th scope=row>70</th><td>1-3 yrs  </td><td>Data     </td><td>Delhi NCR</td><td>10to15</td><td> 769</td></tr>\n",
              "\t<tr><th scope=row>71</th><td>8-13 yrs </td><td>Analytics</td><td>Delhi NCR</td><td>15to25</td><td>3319</td></tr>\n",
              "\t<tr><th scope=row>72</th><td>3-8 yrs  </td><td>Analytics</td><td>Delhi NCR</td><td>6to10 </td><td>4330</td></tr>\n",
              "\t<tr><th scope=row>73</th><td>5-10 yrs </td><td>Data     </td><td>Mumbai   </td><td>3to6  </td><td>1831</td></tr>\n",
              "\t<tr><th scope=row>74</th><td>2-5 yrs  </td><td>Analytics</td><td>Bengaluru</td><td>3to6  </td><td> 190</td></tr>\n",
              "\t<tr><th scope=row>75</th><td>3-7 yrs  </td><td>Analytics</td><td>Delhi NCR</td><td>15to25</td><td> 191</td></tr>\n",
              "\t<tr><th scope=row>76</th><td>8-11 yrs </td><td>Analytics</td><td>Bengaluru</td><td>25to50</td><td>2884</td></tr>\n",
              "\t<tr><th scope=row>77</th><td>0-2 yrs  </td><td>Hiring   </td><td>Mumbai   </td><td>0to3  </td><td> 921</td></tr>\n",
              "\t<tr><th scope=row>78</th><td>15-25 yrs</td><td>Analytics</td><td>Mumbai   </td><td>25to50</td><td> 322</td></tr>\n",
              "\t<tr><th scope=row>79</th><td>2-3 yrs  </td><td>Analytics</td><td>Bengaluru</td><td>3to6  </td><td> 190</td></tr>\n",
              "\t<tr><th scope=row>80</th><td>1-3 yrs  </td><td>Product  </td><td>Delhi NCR</td><td>10to15</td><td>2388</td></tr>\n",
              "\t<tr><th scope=row>81</th><td>12-20 yrs</td><td>Principal</td><td>Bengaluru</td><td>25to50</td><td> 753</td></tr>\n",
              "\t<tr><th scope=row>82</th><td>12-20 yrs</td><td>Lead     </td><td>Bengaluru</td><td>25to50</td><td>2981</td></tr>\n",
              "\t<tr><th scope=row>83</th><td>5-7 yrs  </td><td>Analytics</td><td>Delhi NCR</td><td>6to10 </td><td>2676</td></tr>\n",
              "\t<tr><th scope=row>84</th><td>4-8 yrs  </td><td>Analytics</td><td>Mumbai   </td><td>3to6  </td><td>3767</td></tr>\n",
              "\t<tr><th scope=row>85</th><td>8-13 yrs </td><td>Analytics</td><td>Delhi NCR</td><td>25to50</td><td>2574</td></tr>\n",
              "\t<tr><th scope=row>86</th><td>1-6 yrs  </td><td>Senior   </td><td>Bengaluru</td><td>15to25</td><td>1217</td></tr>\n",
              "\t<tr><th scope=row>87</th><td>1-3 yrs  </td><td>Analytics</td><td>Chennai  </td><td>10to15</td><td> 860</td></tr>\n",
              "\t<tr><th scope=row>88</th><td>6-10 yrs </td><td>Analytics</td><td>Delhi NCR</td><td>10to15</td><td>1970</td></tr>\n",
              "\t<tr><th scope=row>89</th><td>6-11 yrs </td><td>Analytics</td><td>Delhi NCR</td><td>15to25</td><td>2059</td></tr>\n",
              "\t<tr><th scope=row>90</th><td>2-3 yrs  </td><td>Analytics</td><td>Delhi NCR</td><td>10to15</td><td>2665</td></tr>\n",
              "\t<tr><th scope=row>91</th><td>4-9 yrs  </td><td>Business </td><td>Mumbai   </td><td>6to10 </td><td>2434</td></tr>\n",
              "\t<tr><th scope=row>93</th><td>6-9 yrs  </td><td>Data     </td><td>Bengaluru</td><td>15to25</td><td>3076</td></tr>\n",
              "\t<tr><th scope=row>94</th><td>3-7 yrs  </td><td>Analytics</td><td>Delhi NCR</td><td>6to10 </td><td>1969</td></tr>\n",
              "\t<tr><th scope=row>95</th><td>4-8 yrs  </td><td>Analytics</td><td>Kolkata  </td><td>10to15</td><td> 772</td></tr>\n",
              "\t<tr><th scope=row>96</th><td>3-5 yrs  </td><td>Data     </td><td>Mumbai   </td><td>10to15</td><td>4904</td></tr>\n",
              "\t<tr><th scope=row>97</th><td>7-11 yrs </td><td>Data     </td><td>Ahmedabad</td><td>10to15</td><td>1301</td></tr>\n",
              "\t<tr><th scope=row>98</th><td>11-15 yrs</td><td>Business </td><td>Bengaluru</td><td>15to25</td><td> 280</td></tr>\n",
              "\t<tr><th scope=row>99</th><td>4-9 yrs  </td><td>Analytics</td><td>Mumbai   </td><td>10to15</td><td>1863</td></tr>\n",
              "</tbody>\n",
              "</table>\n"
            ],
            "text/markdown": "\nA data.frame: 97 × 5\n\n| <!--/--> | experience &lt;chr&gt; | job_desig &lt;chr&gt; | location &lt;chr&gt; | salary &lt;chr&gt; | placement_count &lt;int&gt; |\n|---|---|---|---|---|---|\n| 1 | 2-4 yrs   | Analytics  | Mumbai    | 6to10  | 4479 |\n| 2 | 5-10 yrs  | Analytics  | Delhi NCR | 6to10  | 1969 |\n| 3 | 3-8 yrs   | Growth     | Mumbai    | 15to25 | 3319 |\n| 4 | 2-6 yrs   | Analytics  | Bengaluru | 6to10  |  330 |\n| 5 | 6-8 yrs   | Analytics  | Delhi NCR | 25to50 | 2665 |\n| 6 | 2-5 yrs   | Consultant | Bengaluru | 3to6   |  314 |\n| 7 | 5-10 yrs  | Analytics  | Chennai   | 10to15 | 3382 |\n| 8 | 8-13 yrs  | Industry   | Chennai   | 15to25 | 2922 |\n| 9 | 5-10 yrs  | Data       | Bengaluru | 15to25 | 2807 |\n| 10 | 6-11 yrs  | Data       | Mumbai    | 6to10  | 1176 |\n| 11 | 0-3 yrs   | Business   | Bengaluru | 3to6   |  107 |\n| 12 | 5-10 yrs  | Analytics  | Delhi NCR | 15to25 | 1989 |\n| 13 | 3-6 yrs   | Analytics  | Bengaluru | 3to6   |  190 |\n| 14 | 2-4 yrs   | Analytics  | Chennai   | 10to15 | 1783 |\n| 15 | 2-6 yrs   | Senior     | Delhi NCR | 15to25 | 1988 |\n| 16 | 7-12 yrs  | Analytics  | Delhi NCR | 10to15 | 1969 |\n| 17 | 2-5 yrs   | IBM        | Bengaluru | 3to6   |  190 |\n| 18 | 2-7 yrs   | NON        | Bengaluru | 6to10  | 2402 |\n| 19 | 2-7 yrs   | Analytics  | Mumbai    | 15to25 | 4167 |\n| 20 | 2-4 yrs   | Consultant | Mumbai    | 15to25 | 3383 |\n| 21 | 1-5 yrs   | Senior     | Mumbai    | 6to10  | 4448 |\n| 22 | 2-5 yrs   | Consultant | Bengaluru | 3to6   | 1473 |\n| 23 | 2-5 yrs   | Analytics  | Mumbai    | 10to15 | 3848 |\n| 24 | 4-7 yrs   | Data       | Delhi NCR | 10to15 | 1730 |\n| 25 | 0-0 yrs   | Analytics  | Mumbai    | 0to3   | 1167 |\n| 26 | 0-3 yrs   | SEO        | Ahmedabad | 3to6   | 1248 |\n| 27 | 12-20 yrs | Analytics  | Chennai   | 25to50 |  464 |\n| 28 | 6-10 yrs  | Data       | Delhi NCR | 10to15 | 2827 |\n| 29 | 2-5 yrs   | Analytics  | Bengaluru | 6to10  |  190 |\n| 30 | 2-5 yrs   | Senior     | Mumbai    | 3to6   | 4011 |\n| ⋮ | ⋮ | ⋮ | ⋮ | ⋮ | ⋮ |\n| 68 | 2-5 yrs   | Senior    | Delhi NCR | 3to6   | 3322 |\n| 70 | 1-3 yrs   | Data      | Delhi NCR | 10to15 |  769 |\n| 71 | 8-13 yrs  | Analytics | Delhi NCR | 15to25 | 3319 |\n| 72 | 3-8 yrs   | Analytics | Delhi NCR | 6to10  | 4330 |\n| 73 | 5-10 yrs  | Data      | Mumbai    | 3to6   | 1831 |\n| 74 | 2-5 yrs   | Analytics | Bengaluru | 3to6   |  190 |\n| 75 | 3-7 yrs   | Analytics | Delhi NCR | 15to25 |  191 |\n| 76 | 8-11 yrs  | Analytics | Bengaluru | 25to50 | 2884 |\n| 77 | 0-2 yrs   | Hiring    | Mumbai    | 0to3   |  921 |\n| 78 | 15-25 yrs | Analytics | Mumbai    | 25to50 |  322 |\n| 79 | 2-3 yrs   | Analytics | Bengaluru | 3to6   |  190 |\n| 80 | 1-3 yrs   | Product   | Delhi NCR | 10to15 | 2388 |\n| 81 | 12-20 yrs | Principal | Bengaluru | 25to50 |  753 |\n| 82 | 12-20 yrs | Lead      | Bengaluru | 25to50 | 2981 |\n| 83 | 5-7 yrs   | Analytics | Delhi NCR | 6to10  | 2676 |\n| 84 | 4-8 yrs   | Analytics | Mumbai    | 3to6   | 3767 |\n| 85 | 8-13 yrs  | Analytics | Delhi NCR | 25to50 | 2574 |\n| 86 | 1-6 yrs   | Senior    | Bengaluru | 15to25 | 1217 |\n| 87 | 1-3 yrs   | Analytics | Chennai   | 10to15 |  860 |\n| 88 | 6-10 yrs  | Analytics | Delhi NCR | 10to15 | 1970 |\n| 89 | 6-11 yrs  | Analytics | Delhi NCR | 15to25 | 2059 |\n| 90 | 2-3 yrs   | Analytics | Delhi NCR | 10to15 | 2665 |\n| 91 | 4-9 yrs   | Business  | Mumbai    | 6to10  | 2434 |\n| 93 | 6-9 yrs   | Data      | Bengaluru | 15to25 | 3076 |\n| 94 | 3-7 yrs   | Analytics | Delhi NCR | 6to10  | 1969 |\n| 95 | 4-8 yrs   | Analytics | Kolkata   | 10to15 |  772 |\n| 96 | 3-5 yrs   | Data      | Mumbai    | 10to15 | 4904 |\n| 97 | 7-11 yrs  | Data      | Ahmedabad | 10to15 | 1301 |\n| 98 | 11-15 yrs | Business  | Bengaluru | 15to25 |  280 |\n| 99 | 4-9 yrs   | Analytics | Mumbai    | 10to15 | 1863 |\n\n",
            "text/latex": "A data.frame: 97 × 5\n\\begin{tabular}{r|lllll}\n  & experience & job\\_desig & location & salary & placement\\_count\\\\\n  & <chr> & <chr> & <chr> & <chr> & <int>\\\\\n\\hline\n\t1 & 2-4 yrs   & Analytics  & Mumbai    & 6to10  & 4479\\\\\n\t2 & 5-10 yrs  & Analytics  & Delhi NCR & 6to10  & 1969\\\\\n\t3 & 3-8 yrs   & Growth     & Mumbai    & 15to25 & 3319\\\\\n\t4 & 2-6 yrs   & Analytics  & Bengaluru & 6to10  &  330\\\\\n\t5 & 6-8 yrs   & Analytics  & Delhi NCR & 25to50 & 2665\\\\\n\t6 & 2-5 yrs   & Consultant & Bengaluru & 3to6   &  314\\\\\n\t7 & 5-10 yrs  & Analytics  & Chennai   & 10to15 & 3382\\\\\n\t8 & 8-13 yrs  & Industry   & Chennai   & 15to25 & 2922\\\\\n\t9 & 5-10 yrs  & Data       & Bengaluru & 15to25 & 2807\\\\\n\t10 & 6-11 yrs  & Data       & Mumbai    & 6to10  & 1176\\\\\n\t11 & 0-3 yrs   & Business   & Bengaluru & 3to6   &  107\\\\\n\t12 & 5-10 yrs  & Analytics  & Delhi NCR & 15to25 & 1989\\\\\n\t13 & 3-6 yrs   & Analytics  & Bengaluru & 3to6   &  190\\\\\n\t14 & 2-4 yrs   & Analytics  & Chennai   & 10to15 & 1783\\\\\n\t15 & 2-6 yrs   & Senior     & Delhi NCR & 15to25 & 1988\\\\\n\t16 & 7-12 yrs  & Analytics  & Delhi NCR & 10to15 & 1969\\\\\n\t17 & 2-5 yrs   & IBM        & Bengaluru & 3to6   &  190\\\\\n\t18 & 2-7 yrs   & NON        & Bengaluru & 6to10  & 2402\\\\\n\t19 & 2-7 yrs   & Analytics  & Mumbai    & 15to25 & 4167\\\\\n\t20 & 2-4 yrs   & Consultant & Mumbai    & 15to25 & 3383\\\\\n\t21 & 1-5 yrs   & Senior     & Mumbai    & 6to10  & 4448\\\\\n\t22 & 2-5 yrs   & Consultant & Bengaluru & 3to6   & 1473\\\\\n\t23 & 2-5 yrs   & Analytics  & Mumbai    & 10to15 & 3848\\\\\n\t24 & 4-7 yrs   & Data       & Delhi NCR & 10to15 & 1730\\\\\n\t25 & 0-0 yrs   & Analytics  & Mumbai    & 0to3   & 1167\\\\\n\t26 & 0-3 yrs   & SEO        & Ahmedabad & 3to6   & 1248\\\\\n\t27 & 12-20 yrs & Analytics  & Chennai   & 25to50 &  464\\\\\n\t28 & 6-10 yrs  & Data       & Delhi NCR & 10to15 & 2827\\\\\n\t29 & 2-5 yrs   & Analytics  & Bengaluru & 6to10  &  190\\\\\n\t30 & 2-5 yrs   & Senior     & Mumbai    & 3to6   & 4011\\\\\n\t⋮ & ⋮ & ⋮ & ⋮ & ⋮ & ⋮\\\\\n\t68 & 2-5 yrs   & Senior    & Delhi NCR & 3to6   & 3322\\\\\n\t70 & 1-3 yrs   & Data      & Delhi NCR & 10to15 &  769\\\\\n\t71 & 8-13 yrs  & Analytics & Delhi NCR & 15to25 & 3319\\\\\n\t72 & 3-8 yrs   & Analytics & Delhi NCR & 6to10  & 4330\\\\\n\t73 & 5-10 yrs  & Data      & Mumbai    & 3to6   & 1831\\\\\n\t74 & 2-5 yrs   & Analytics & Bengaluru & 3to6   &  190\\\\\n\t75 & 3-7 yrs   & Analytics & Delhi NCR & 15to25 &  191\\\\\n\t76 & 8-11 yrs  & Analytics & Bengaluru & 25to50 & 2884\\\\\n\t77 & 0-2 yrs   & Hiring    & Mumbai    & 0to3   &  921\\\\\n\t78 & 15-25 yrs & Analytics & Mumbai    & 25to50 &  322\\\\\n\t79 & 2-3 yrs   & Analytics & Bengaluru & 3to6   &  190\\\\\n\t80 & 1-3 yrs   & Product   & Delhi NCR & 10to15 & 2388\\\\\n\t81 & 12-20 yrs & Principal & Bengaluru & 25to50 &  753\\\\\n\t82 & 12-20 yrs & Lead      & Bengaluru & 25to50 & 2981\\\\\n\t83 & 5-7 yrs   & Analytics & Delhi NCR & 6to10  & 2676\\\\\n\t84 & 4-8 yrs   & Analytics & Mumbai    & 3to6   & 3767\\\\\n\t85 & 8-13 yrs  & Analytics & Delhi NCR & 25to50 & 2574\\\\\n\t86 & 1-6 yrs   & Senior    & Bengaluru & 15to25 & 1217\\\\\n\t87 & 1-3 yrs   & Analytics & Chennai   & 10to15 &  860\\\\\n\t88 & 6-10 yrs  & Analytics & Delhi NCR & 10to15 & 1970\\\\\n\t89 & 6-11 yrs  & Analytics & Delhi NCR & 15to25 & 2059\\\\\n\t90 & 2-3 yrs   & Analytics & Delhi NCR & 10to15 & 2665\\\\\n\t91 & 4-9 yrs   & Business  & Mumbai    & 6to10  & 2434\\\\\n\t93 & 6-9 yrs   & Data      & Bengaluru & 15to25 & 3076\\\\\n\t94 & 3-7 yrs   & Analytics & Delhi NCR & 6to10  & 1969\\\\\n\t95 & 4-8 yrs   & Analytics & Kolkata   & 10to15 &  772\\\\\n\t96 & 3-5 yrs   & Data      & Mumbai    & 10to15 & 4904\\\\\n\t97 & 7-11 yrs  & Data      & Ahmedabad & 10to15 & 1301\\\\\n\t98 & 11-15 yrs & Business  & Bengaluru & 15to25 &  280\\\\\n\t99 & 4-9 yrs   & Analytics & Mumbai    & 10to15 & 1863\\\\\n\\end{tabular}\n",
            "text/plain": [
              "   experience job_desig  location  salary placement_count\n",
              "1  2-4 yrs    Analytics  Mumbai    6to10  4479           \n",
              "2  5-10 yrs   Analytics  Delhi NCR 6to10  1969           \n",
              "3  3-8 yrs    Growth     Mumbai    15to25 3319           \n",
              "4  2-6 yrs    Analytics  Bengaluru 6to10   330           \n",
              "5  6-8 yrs    Analytics  Delhi NCR 25to50 2665           \n",
              "6  2-5 yrs    Consultant Bengaluru 3to6    314           \n",
              "7  5-10 yrs   Analytics  Chennai   10to15 3382           \n",
              "8  8-13 yrs   Industry   Chennai   15to25 2922           \n",
              "9  5-10 yrs   Data       Bengaluru 15to25 2807           \n",
              "10 6-11 yrs   Data       Mumbai    6to10  1176           \n",
              "11 0-3 yrs    Business   Bengaluru 3to6    107           \n",
              "12 5-10 yrs   Analytics  Delhi NCR 15to25 1989           \n",
              "13 3-6 yrs    Analytics  Bengaluru 3to6    190           \n",
              "14 2-4 yrs    Analytics  Chennai   10to15 1783           \n",
              "15 2-6 yrs    Senior     Delhi NCR 15to25 1988           \n",
              "16 7-12 yrs   Analytics  Delhi NCR 10to15 1969           \n",
              "17 2-5 yrs    IBM        Bengaluru 3to6    190           \n",
              "18 2-7 yrs    NON        Bengaluru 6to10  2402           \n",
              "19 2-7 yrs    Analytics  Mumbai    15to25 4167           \n",
              "20 2-4 yrs    Consultant Mumbai    15to25 3383           \n",
              "21 1-5 yrs    Senior     Mumbai    6to10  4448           \n",
              "22 2-5 yrs    Consultant Bengaluru 3to6   1473           \n",
              "23 2-5 yrs    Analytics  Mumbai    10to15 3848           \n",
              "24 4-7 yrs    Data       Delhi NCR 10to15 1730           \n",
              "25 0-0 yrs    Analytics  Mumbai    0to3   1167           \n",
              "26 0-3 yrs    SEO        Ahmedabad 3to6   1248           \n",
              "27 12-20 yrs  Analytics  Chennai   25to50  464           \n",
              "28 6-10 yrs   Data       Delhi NCR 10to15 2827           \n",
              "29 2-5 yrs    Analytics  Bengaluru 6to10   190           \n",
              "30 2-5 yrs    Senior     Mumbai    3to6   4011           \n",
              "⋮  ⋮          ⋮          ⋮         ⋮      ⋮              \n",
              "68 2-5 yrs    Senior     Delhi NCR 3to6   3322           \n",
              "70 1-3 yrs    Data       Delhi NCR 10to15  769           \n",
              "71 8-13 yrs   Analytics  Delhi NCR 15to25 3319           \n",
              "72 3-8 yrs    Analytics  Delhi NCR 6to10  4330           \n",
              "73 5-10 yrs   Data       Mumbai    3to6   1831           \n",
              "74 2-5 yrs    Analytics  Bengaluru 3to6    190           \n",
              "75 3-7 yrs    Analytics  Delhi NCR 15to25  191           \n",
              "76 8-11 yrs   Analytics  Bengaluru 25to50 2884           \n",
              "77 0-2 yrs    Hiring     Mumbai    0to3    921           \n",
              "78 15-25 yrs  Analytics  Mumbai    25to50  322           \n",
              "79 2-3 yrs    Analytics  Bengaluru 3to6    190           \n",
              "80 1-3 yrs    Product    Delhi NCR 10to15 2388           \n",
              "81 12-20 yrs  Principal  Bengaluru 25to50  753           \n",
              "82 12-20 yrs  Lead       Bengaluru 25to50 2981           \n",
              "83 5-7 yrs    Analytics  Delhi NCR 6to10  2676           \n",
              "84 4-8 yrs    Analytics  Mumbai    3to6   3767           \n",
              "85 8-13 yrs   Analytics  Delhi NCR 25to50 2574           \n",
              "86 1-6 yrs    Senior     Bengaluru 15to25 1217           \n",
              "87 1-3 yrs    Analytics  Chennai   10to15  860           \n",
              "88 6-10 yrs   Analytics  Delhi NCR 10to15 1970           \n",
              "89 6-11 yrs   Analytics  Delhi NCR 15to25 2059           \n",
              "90 2-3 yrs    Analytics  Delhi NCR 10to15 2665           \n",
              "91 4-9 yrs    Business   Mumbai    6to10  2434           \n",
              "93 6-9 yrs    Data       Bengaluru 15to25 3076           \n",
              "94 3-7 yrs    Analytics  Delhi NCR 6to10  1969           \n",
              "95 4-8 yrs    Analytics  Kolkata   10to15  772           \n",
              "96 3-5 yrs    Data       Mumbai    10to15 4904           \n",
              "97 7-11 yrs   Data       Ahmedabad 10to15 1301           \n",
              "98 11-15 yrs  Business   Bengaluru 15to25  280           \n",
              "99 4-9 yrs    Analytics  Mumbai    10to15 1863           "
            ]
          },
          "metadata": {}
        }
      ]
    },
    {
      "cell_type": "code",
      "source": [
        "# read the dataset where experience >= 10\n",
        "df[which(df$experience>10),]"
      ],
      "metadata": {
        "colab": {
          "base_uri": "https://localhost:8080/",
          "height": 1000
        },
        "id": "uXzS_2OxjMuH",
        "outputId": "c673c0f9-02e4-4f5a-fb54-f139f6ba7b8d"
      },
      "execution_count": 31,
      "outputs": [
        {
          "output_type": "display_data",
          "data": {
            "text/html": [
              "<table class=\"dataframe\">\n",
              "<caption>A data.frame: 89 × 5</caption>\n",
              "<thead>\n",
              "\t<tr><th></th><th scope=col>experience</th><th scope=col>job_desig</th><th scope=col>location</th><th scope=col>salary</th><th scope=col>placement_count</th></tr>\n",
              "\t<tr><th></th><th scope=col>&lt;chr&gt;</th><th scope=col>&lt;chr&gt;</th><th scope=col>&lt;chr&gt;</th><th scope=col>&lt;chr&gt;</th><th scope=col>&lt;int&gt;</th></tr>\n",
              "</thead>\n",
              "<tbody>\n",
              "\t<tr><th scope=row>1</th><td>2-4 yrs  </td><td>Analytics </td><td>Mumbai   </td><td>6to10 </td><td>4479</td></tr>\n",
              "\t<tr><th scope=row>2</th><td>5-10 yrs </td><td>Analytics </td><td>Delhi NCR</td><td>6to10 </td><td>1969</td></tr>\n",
              "\t<tr><th scope=row>3</th><td>3-8 yrs  </td><td>Growth    </td><td>Mumbai   </td><td>15to25</td><td>3319</td></tr>\n",
              "\t<tr><th scope=row>4</th><td>2-6 yrs  </td><td>Analytics </td><td>Bengaluru</td><td>6to10 </td><td> 330</td></tr>\n",
              "\t<tr><th scope=row>5</th><td>6-8 yrs  </td><td>Analytics </td><td>Delhi NCR</td><td>25to50</td><td>2665</td></tr>\n",
              "\t<tr><th scope=row>6</th><td>2-5 yrs  </td><td>Consultant</td><td>Bengaluru</td><td>3to6  </td><td> 314</td></tr>\n",
              "\t<tr><th scope=row>7</th><td>5-10 yrs </td><td>Analytics </td><td>Chennai  </td><td>10to15</td><td>3382</td></tr>\n",
              "\t<tr><th scope=row>8</th><td>8-13 yrs </td><td>Industry  </td><td>Chennai  </td><td>15to25</td><td>2922</td></tr>\n",
              "\t<tr><th scope=row>9</th><td>5-10 yrs </td><td>Data      </td><td>Bengaluru</td><td>15to25</td><td>2807</td></tr>\n",
              "\t<tr><th scope=row>10</th><td>6-11 yrs </td><td>Data      </td><td>Mumbai   </td><td>6to10 </td><td>1176</td></tr>\n",
              "\t<tr><th scope=row>12</th><td>5-10 yrs </td><td>Analytics </td><td>Delhi NCR</td><td>15to25</td><td>1989</td></tr>\n",
              "\t<tr><th scope=row>13</th><td>3-6 yrs  </td><td>Analytics </td><td>Bengaluru</td><td>3to6  </td><td> 190</td></tr>\n",
              "\t<tr><th scope=row>14</th><td>2-4 yrs  </td><td>Analytics </td><td>Chennai  </td><td>10to15</td><td>1783</td></tr>\n",
              "\t<tr><th scope=row>15</th><td>2-6 yrs  </td><td>Senior    </td><td>Delhi NCR</td><td>15to25</td><td>1988</td></tr>\n",
              "\t<tr><th scope=row>16</th><td>7-12 yrs </td><td>Analytics </td><td>Delhi NCR</td><td>10to15</td><td>1969</td></tr>\n",
              "\t<tr><th scope=row>17</th><td>2-5 yrs  </td><td>IBM       </td><td>Bengaluru</td><td>3to6  </td><td> 190</td></tr>\n",
              "\t<tr><th scope=row>18</th><td>2-7 yrs  </td><td>NON       </td><td>Bengaluru</td><td>6to10 </td><td>2402</td></tr>\n",
              "\t<tr><th scope=row>19</th><td>2-7 yrs  </td><td>Analytics </td><td>Mumbai   </td><td>15to25</td><td>4167</td></tr>\n",
              "\t<tr><th scope=row>20</th><td>2-4 yrs  </td><td>Consultant</td><td>Mumbai   </td><td>15to25</td><td>3383</td></tr>\n",
              "\t<tr><th scope=row>22</th><td>2-5 yrs  </td><td>Consultant</td><td>Bengaluru</td><td>3to6  </td><td>1473</td></tr>\n",
              "\t<tr><th scope=row>23</th><td>2-5 yrs  </td><td>Analytics </td><td>Mumbai   </td><td>10to15</td><td>3848</td></tr>\n",
              "\t<tr><th scope=row>24</th><td>4-7 yrs  </td><td>Data      </td><td>Delhi NCR</td><td>10to15</td><td>1730</td></tr>\n",
              "\t<tr><th scope=row>27</th><td>12-20 yrs</td><td>Analytics </td><td>Chennai  </td><td>25to50</td><td> 464</td></tr>\n",
              "\t<tr><th scope=row>28</th><td>6-10 yrs </td><td>Data      </td><td>Delhi NCR</td><td>10to15</td><td>2827</td></tr>\n",
              "\t<tr><th scope=row>29</th><td>2-5 yrs  </td><td>Analytics </td><td>Bengaluru</td><td>6to10 </td><td> 190</td></tr>\n",
              "\t<tr><th scope=row>30</th><td>2-5 yrs  </td><td>Senior    </td><td>Mumbai   </td><td>3to6  </td><td>4011</td></tr>\n",
              "\t<tr><th scope=row>31</th><td>2-7 yrs  </td><td>Analytics </td><td>Mumbai   </td><td>10to15</td><td>3838</td></tr>\n",
              "\t<tr><th scope=row>33</th><td>10-15 yrs</td><td>Data      </td><td>Bengaluru</td><td>15to25</td><td>3241</td></tr>\n",
              "\t<tr><th scope=row>34</th><td>7-12 yrs </td><td>Analytics </td><td>Delhi NCR</td><td>25to50</td><td>1988</td></tr>\n",
              "\t<tr><th scope=row>35</th><td>2-5 yrs  </td><td>Program   </td><td>Mumbai   </td><td>3to6  </td><td> 190</td></tr>\n",
              "\t<tr><th scope=row>⋮</th><td>⋮</td><td>⋮</td><td>⋮</td><td>⋮</td><td>⋮</td></tr>\n",
              "\t<tr><th scope=row>69</th><td>2-5 yrs  </td><td>Program  </td><td>Mumbai   </td><td>3to6  </td><td> 190</td></tr>\n",
              "\t<tr><th scope=row>71</th><td>8-13 yrs </td><td>Analytics</td><td>Delhi NCR</td><td>15to25</td><td>3319</td></tr>\n",
              "\t<tr><th scope=row>72</th><td>3-8 yrs  </td><td>Analytics</td><td>Delhi NCR</td><td>6to10 </td><td>4330</td></tr>\n",
              "\t<tr><th scope=row>73</th><td>5-10 yrs </td><td>Data     </td><td>Mumbai   </td><td>3to6  </td><td>1831</td></tr>\n",
              "\t<tr><th scope=row>74</th><td>2-5 yrs  </td><td>Analytics</td><td>Bengaluru</td><td>3to6  </td><td> 190</td></tr>\n",
              "\t<tr><th scope=row>75</th><td>3-7 yrs  </td><td>Analytics</td><td>Delhi NCR</td><td>15to25</td><td> 191</td></tr>\n",
              "\t<tr><th scope=row>76</th><td>8-11 yrs </td><td>Analytics</td><td>Bengaluru</td><td>25to50</td><td>2884</td></tr>\n",
              "\t<tr><th scope=row>78</th><td>15-25 yrs</td><td>Analytics</td><td>Mumbai   </td><td>25to50</td><td> 322</td></tr>\n",
              "\t<tr><th scope=row>79</th><td>2-3 yrs  </td><td>Analytics</td><td>Bengaluru</td><td>3to6  </td><td> 190</td></tr>\n",
              "\t<tr><th scope=row>81</th><td>12-20 yrs</td><td>Principal</td><td>Bengaluru</td><td>25to50</td><td> 753</td></tr>\n",
              "\t<tr><th scope=row>82</th><td>12-20 yrs</td><td>Lead     </td><td>Bengaluru</td><td>25to50</td><td>2981</td></tr>\n",
              "\t<tr><th scope=row>83</th><td>5-7 yrs  </td><td>Analytics</td><td>Delhi NCR</td><td>6to10 </td><td>2676</td></tr>\n",
              "\t<tr><th scope=row>84</th><td>4-8 yrs  </td><td>Analytics</td><td>Mumbai   </td><td>3to6  </td><td>3767</td></tr>\n",
              "\t<tr><th scope=row>85</th><td>8-13 yrs </td><td>Analytics</td><td>Delhi NCR</td><td>25to50</td><td>2574</td></tr>\n",
              "\t<tr><th scope=row>88</th><td>6-10 yrs </td><td>Analytics</td><td>Delhi NCR</td><td>10to15</td><td>1970</td></tr>\n",
              "\t<tr><th scope=row>89</th><td>6-11 yrs </td><td>Analytics</td><td>Delhi NCR</td><td>15to25</td><td>2059</td></tr>\n",
              "\t<tr><th scope=row>90</th><td>2-3 yrs  </td><td>Analytics</td><td>Delhi NCR</td><td>10to15</td><td>2665</td></tr>\n",
              "\t<tr><th scope=row>91</th><td>4-9 yrs  </td><td>Business </td><td>Mumbai   </td><td>6to10 </td><td>2434</td></tr>\n",
              "\t<tr><th scope=row>92</th><td>8-11 yrs </td><td>Analytics</td><td>Bengaluru</td><td>25to50</td><td>2884</td></tr>\n",
              "\t<tr><th scope=row>93</th><td>6-9 yrs  </td><td>Data     </td><td>Bengaluru</td><td>15to25</td><td>3076</td></tr>\n",
              "\t<tr><th scope=row>94</th><td>3-7 yrs  </td><td>Analytics</td><td>Delhi NCR</td><td>6to10 </td><td>1969</td></tr>\n",
              "\t<tr><th scope=row>95</th><td>4-8 yrs  </td><td>Analytics</td><td>Kolkata  </td><td>10to15</td><td> 772</td></tr>\n",
              "\t<tr><th scope=row>96</th><td>3-5 yrs  </td><td>Data     </td><td>Mumbai   </td><td>10to15</td><td>4904</td></tr>\n",
              "\t<tr><th scope=row>97</th><td>7-11 yrs </td><td>Data     </td><td>Ahmedabad</td><td>10to15</td><td>1301</td></tr>\n",
              "\t<tr><th scope=row>98</th><td>11-15 yrs</td><td>Business </td><td>Bengaluru</td><td>15to25</td><td> 280</td></tr>\n",
              "\t<tr><th scope=row>99</th><td>4-9 yrs  </td><td>Analytics</td><td>Mumbai   </td><td>10to15</td><td>1863</td></tr>\n",
              "\t<tr><th scope=row>100</th><td>3-8 yrs  </td><td>Growth   </td><td>Mumbai   </td><td>15to25</td><td>3319</td></tr>\n",
              "\t<tr><th scope=row>101</th><td>6-9 yrs  </td><td>Data     </td><td>Bengaluru</td><td>15to25</td><td>3076</td></tr>\n",
              "\t<tr><th scope=row>102</th><td>4-8 yrs  </td><td>Analytics</td><td>Mumbai   </td><td>3to6  </td><td>3767</td></tr>\n",
              "\t<tr><th scope=row>103</th><td>8-13 yrs </td><td>Analytics</td><td>Delhi NCR</td><td>25to50</td><td>2574</td></tr>\n",
              "</tbody>\n",
              "</table>\n"
            ],
            "text/markdown": "\nA data.frame: 89 × 5\n\n| <!--/--> | experience &lt;chr&gt; | job_desig &lt;chr&gt; | location &lt;chr&gt; | salary &lt;chr&gt; | placement_count &lt;int&gt; |\n|---|---|---|---|---|---|\n| 1 | 2-4 yrs   | Analytics  | Mumbai    | 6to10  | 4479 |\n| 2 | 5-10 yrs  | Analytics  | Delhi NCR | 6to10  | 1969 |\n| 3 | 3-8 yrs   | Growth     | Mumbai    | 15to25 | 3319 |\n| 4 | 2-6 yrs   | Analytics  | Bengaluru | 6to10  |  330 |\n| 5 | 6-8 yrs   | Analytics  | Delhi NCR | 25to50 | 2665 |\n| 6 | 2-5 yrs   | Consultant | Bengaluru | 3to6   |  314 |\n| 7 | 5-10 yrs  | Analytics  | Chennai   | 10to15 | 3382 |\n| 8 | 8-13 yrs  | Industry   | Chennai   | 15to25 | 2922 |\n| 9 | 5-10 yrs  | Data       | Bengaluru | 15to25 | 2807 |\n| 10 | 6-11 yrs  | Data       | Mumbai    | 6to10  | 1176 |\n| 12 | 5-10 yrs  | Analytics  | Delhi NCR | 15to25 | 1989 |\n| 13 | 3-6 yrs   | Analytics  | Bengaluru | 3to6   |  190 |\n| 14 | 2-4 yrs   | Analytics  | Chennai   | 10to15 | 1783 |\n| 15 | 2-6 yrs   | Senior     | Delhi NCR | 15to25 | 1988 |\n| 16 | 7-12 yrs  | Analytics  | Delhi NCR | 10to15 | 1969 |\n| 17 | 2-5 yrs   | IBM        | Bengaluru | 3to6   |  190 |\n| 18 | 2-7 yrs   | NON        | Bengaluru | 6to10  | 2402 |\n| 19 | 2-7 yrs   | Analytics  | Mumbai    | 15to25 | 4167 |\n| 20 | 2-4 yrs   | Consultant | Mumbai    | 15to25 | 3383 |\n| 22 | 2-5 yrs   | Consultant | Bengaluru | 3to6   | 1473 |\n| 23 | 2-5 yrs   | Analytics  | Mumbai    | 10to15 | 3848 |\n| 24 | 4-7 yrs   | Data       | Delhi NCR | 10to15 | 1730 |\n| 27 | 12-20 yrs | Analytics  | Chennai   | 25to50 |  464 |\n| 28 | 6-10 yrs  | Data       | Delhi NCR | 10to15 | 2827 |\n| 29 | 2-5 yrs   | Analytics  | Bengaluru | 6to10  |  190 |\n| 30 | 2-5 yrs   | Senior     | Mumbai    | 3to6   | 4011 |\n| 31 | 2-7 yrs   | Analytics  | Mumbai    | 10to15 | 3838 |\n| 33 | 10-15 yrs | Data       | Bengaluru | 15to25 | 3241 |\n| 34 | 7-12 yrs  | Analytics  | Delhi NCR | 25to50 | 1988 |\n| 35 | 2-5 yrs   | Program    | Mumbai    | 3to6   |  190 |\n| ⋮ | ⋮ | ⋮ | ⋮ | ⋮ | ⋮ |\n| 69 | 2-5 yrs   | Program   | Mumbai    | 3to6   |  190 |\n| 71 | 8-13 yrs  | Analytics | Delhi NCR | 15to25 | 3319 |\n| 72 | 3-8 yrs   | Analytics | Delhi NCR | 6to10  | 4330 |\n| 73 | 5-10 yrs  | Data      | Mumbai    | 3to6   | 1831 |\n| 74 | 2-5 yrs   | Analytics | Bengaluru | 3to6   |  190 |\n| 75 | 3-7 yrs   | Analytics | Delhi NCR | 15to25 |  191 |\n| 76 | 8-11 yrs  | Analytics | Bengaluru | 25to50 | 2884 |\n| 78 | 15-25 yrs | Analytics | Mumbai    | 25to50 |  322 |\n| 79 | 2-3 yrs   | Analytics | Bengaluru | 3to6   |  190 |\n| 81 | 12-20 yrs | Principal | Bengaluru | 25to50 |  753 |\n| 82 | 12-20 yrs | Lead      | Bengaluru | 25to50 | 2981 |\n| 83 | 5-7 yrs   | Analytics | Delhi NCR | 6to10  | 2676 |\n| 84 | 4-8 yrs   | Analytics | Mumbai    | 3to6   | 3767 |\n| 85 | 8-13 yrs  | Analytics | Delhi NCR | 25to50 | 2574 |\n| 88 | 6-10 yrs  | Analytics | Delhi NCR | 10to15 | 1970 |\n| 89 | 6-11 yrs  | Analytics | Delhi NCR | 15to25 | 2059 |\n| 90 | 2-3 yrs   | Analytics | Delhi NCR | 10to15 | 2665 |\n| 91 | 4-9 yrs   | Business  | Mumbai    | 6to10  | 2434 |\n| 92 | 8-11 yrs  | Analytics | Bengaluru | 25to50 | 2884 |\n| 93 | 6-9 yrs   | Data      | Bengaluru | 15to25 | 3076 |\n| 94 | 3-7 yrs   | Analytics | Delhi NCR | 6to10  | 1969 |\n| 95 | 4-8 yrs   | Analytics | Kolkata   | 10to15 |  772 |\n| 96 | 3-5 yrs   | Data      | Mumbai    | 10to15 | 4904 |\n| 97 | 7-11 yrs  | Data      | Ahmedabad | 10to15 | 1301 |\n| 98 | 11-15 yrs | Business  | Bengaluru | 15to25 |  280 |\n| 99 | 4-9 yrs   | Analytics | Mumbai    | 10to15 | 1863 |\n| 100 | 3-8 yrs   | Growth    | Mumbai    | 15to25 | 3319 |\n| 101 | 6-9 yrs   | Data      | Bengaluru | 15to25 | 3076 |\n| 102 | 4-8 yrs   | Analytics | Mumbai    | 3to6   | 3767 |\n| 103 | 8-13 yrs  | Analytics | Delhi NCR | 25to50 | 2574 |\n\n",
            "text/latex": "A data.frame: 89 × 5\n\\begin{tabular}{r|lllll}\n  & experience & job\\_desig & location & salary & placement\\_count\\\\\n  & <chr> & <chr> & <chr> & <chr> & <int>\\\\\n\\hline\n\t1 & 2-4 yrs   & Analytics  & Mumbai    & 6to10  & 4479\\\\\n\t2 & 5-10 yrs  & Analytics  & Delhi NCR & 6to10  & 1969\\\\\n\t3 & 3-8 yrs   & Growth     & Mumbai    & 15to25 & 3319\\\\\n\t4 & 2-6 yrs   & Analytics  & Bengaluru & 6to10  &  330\\\\\n\t5 & 6-8 yrs   & Analytics  & Delhi NCR & 25to50 & 2665\\\\\n\t6 & 2-5 yrs   & Consultant & Bengaluru & 3to6   &  314\\\\\n\t7 & 5-10 yrs  & Analytics  & Chennai   & 10to15 & 3382\\\\\n\t8 & 8-13 yrs  & Industry   & Chennai   & 15to25 & 2922\\\\\n\t9 & 5-10 yrs  & Data       & Bengaluru & 15to25 & 2807\\\\\n\t10 & 6-11 yrs  & Data       & Mumbai    & 6to10  & 1176\\\\\n\t12 & 5-10 yrs  & Analytics  & Delhi NCR & 15to25 & 1989\\\\\n\t13 & 3-6 yrs   & Analytics  & Bengaluru & 3to6   &  190\\\\\n\t14 & 2-4 yrs   & Analytics  & Chennai   & 10to15 & 1783\\\\\n\t15 & 2-6 yrs   & Senior     & Delhi NCR & 15to25 & 1988\\\\\n\t16 & 7-12 yrs  & Analytics  & Delhi NCR & 10to15 & 1969\\\\\n\t17 & 2-5 yrs   & IBM        & Bengaluru & 3to6   &  190\\\\\n\t18 & 2-7 yrs   & NON        & Bengaluru & 6to10  & 2402\\\\\n\t19 & 2-7 yrs   & Analytics  & Mumbai    & 15to25 & 4167\\\\\n\t20 & 2-4 yrs   & Consultant & Mumbai    & 15to25 & 3383\\\\\n\t22 & 2-5 yrs   & Consultant & Bengaluru & 3to6   & 1473\\\\\n\t23 & 2-5 yrs   & Analytics  & Mumbai    & 10to15 & 3848\\\\\n\t24 & 4-7 yrs   & Data       & Delhi NCR & 10to15 & 1730\\\\\n\t27 & 12-20 yrs & Analytics  & Chennai   & 25to50 &  464\\\\\n\t28 & 6-10 yrs  & Data       & Delhi NCR & 10to15 & 2827\\\\\n\t29 & 2-5 yrs   & Analytics  & Bengaluru & 6to10  &  190\\\\\n\t30 & 2-5 yrs   & Senior     & Mumbai    & 3to6   & 4011\\\\\n\t31 & 2-7 yrs   & Analytics  & Mumbai    & 10to15 & 3838\\\\\n\t33 & 10-15 yrs & Data       & Bengaluru & 15to25 & 3241\\\\\n\t34 & 7-12 yrs  & Analytics  & Delhi NCR & 25to50 & 1988\\\\\n\t35 & 2-5 yrs   & Program    & Mumbai    & 3to6   &  190\\\\\n\t⋮ & ⋮ & ⋮ & ⋮ & ⋮ & ⋮\\\\\n\t69 & 2-5 yrs   & Program   & Mumbai    & 3to6   &  190\\\\\n\t71 & 8-13 yrs  & Analytics & Delhi NCR & 15to25 & 3319\\\\\n\t72 & 3-8 yrs   & Analytics & Delhi NCR & 6to10  & 4330\\\\\n\t73 & 5-10 yrs  & Data      & Mumbai    & 3to6   & 1831\\\\\n\t74 & 2-5 yrs   & Analytics & Bengaluru & 3to6   &  190\\\\\n\t75 & 3-7 yrs   & Analytics & Delhi NCR & 15to25 &  191\\\\\n\t76 & 8-11 yrs  & Analytics & Bengaluru & 25to50 & 2884\\\\\n\t78 & 15-25 yrs & Analytics & Mumbai    & 25to50 &  322\\\\\n\t79 & 2-3 yrs   & Analytics & Bengaluru & 3to6   &  190\\\\\n\t81 & 12-20 yrs & Principal & Bengaluru & 25to50 &  753\\\\\n\t82 & 12-20 yrs & Lead      & Bengaluru & 25to50 & 2981\\\\\n\t83 & 5-7 yrs   & Analytics & Delhi NCR & 6to10  & 2676\\\\\n\t84 & 4-8 yrs   & Analytics & Mumbai    & 3to6   & 3767\\\\\n\t85 & 8-13 yrs  & Analytics & Delhi NCR & 25to50 & 2574\\\\\n\t88 & 6-10 yrs  & Analytics & Delhi NCR & 10to15 & 1970\\\\\n\t89 & 6-11 yrs  & Analytics & Delhi NCR & 15to25 & 2059\\\\\n\t90 & 2-3 yrs   & Analytics & Delhi NCR & 10to15 & 2665\\\\\n\t91 & 4-9 yrs   & Business  & Mumbai    & 6to10  & 2434\\\\\n\t92 & 8-11 yrs  & Analytics & Bengaluru & 25to50 & 2884\\\\\n\t93 & 6-9 yrs   & Data      & Bengaluru & 15to25 & 3076\\\\\n\t94 & 3-7 yrs   & Analytics & Delhi NCR & 6to10  & 1969\\\\\n\t95 & 4-8 yrs   & Analytics & Kolkata   & 10to15 &  772\\\\\n\t96 & 3-5 yrs   & Data      & Mumbai    & 10to15 & 4904\\\\\n\t97 & 7-11 yrs  & Data      & Ahmedabad & 10to15 & 1301\\\\\n\t98 & 11-15 yrs & Business  & Bengaluru & 15to25 &  280\\\\\n\t99 & 4-9 yrs   & Analytics & Mumbai    & 10to15 & 1863\\\\\n\t100 & 3-8 yrs   & Growth    & Mumbai    & 15to25 & 3319\\\\\n\t101 & 6-9 yrs   & Data      & Bengaluru & 15to25 & 3076\\\\\n\t102 & 4-8 yrs   & Analytics & Mumbai    & 3to6   & 3767\\\\\n\t103 & 8-13 yrs  & Analytics & Delhi NCR & 25to50 & 2574\\\\\n\\end{tabular}\n",
            "text/plain": [
              "    experience job_desig  location  salary placement_count\n",
              "1   2-4 yrs    Analytics  Mumbai    6to10  4479           \n",
              "2   5-10 yrs   Analytics  Delhi NCR 6to10  1969           \n",
              "3   3-8 yrs    Growth     Mumbai    15to25 3319           \n",
              "4   2-6 yrs    Analytics  Bengaluru 6to10   330           \n",
              "5   6-8 yrs    Analytics  Delhi NCR 25to50 2665           \n",
              "6   2-5 yrs    Consultant Bengaluru 3to6    314           \n",
              "7   5-10 yrs   Analytics  Chennai   10to15 3382           \n",
              "8   8-13 yrs   Industry   Chennai   15to25 2922           \n",
              "9   5-10 yrs   Data       Bengaluru 15to25 2807           \n",
              "10  6-11 yrs   Data       Mumbai    6to10  1176           \n",
              "12  5-10 yrs   Analytics  Delhi NCR 15to25 1989           \n",
              "13  3-6 yrs    Analytics  Bengaluru 3to6    190           \n",
              "14  2-4 yrs    Analytics  Chennai   10to15 1783           \n",
              "15  2-6 yrs    Senior     Delhi NCR 15to25 1988           \n",
              "16  7-12 yrs   Analytics  Delhi NCR 10to15 1969           \n",
              "17  2-5 yrs    IBM        Bengaluru 3to6    190           \n",
              "18  2-7 yrs    NON        Bengaluru 6to10  2402           \n",
              "19  2-7 yrs    Analytics  Mumbai    15to25 4167           \n",
              "20  2-4 yrs    Consultant Mumbai    15to25 3383           \n",
              "22  2-5 yrs    Consultant Bengaluru 3to6   1473           \n",
              "23  2-5 yrs    Analytics  Mumbai    10to15 3848           \n",
              "24  4-7 yrs    Data       Delhi NCR 10to15 1730           \n",
              "27  12-20 yrs  Analytics  Chennai   25to50  464           \n",
              "28  6-10 yrs   Data       Delhi NCR 10to15 2827           \n",
              "29  2-5 yrs    Analytics  Bengaluru 6to10   190           \n",
              "30  2-5 yrs    Senior     Mumbai    3to6   4011           \n",
              "31  2-7 yrs    Analytics  Mumbai    10to15 3838           \n",
              "33  10-15 yrs  Data       Bengaluru 15to25 3241           \n",
              "34  7-12 yrs   Analytics  Delhi NCR 25to50 1988           \n",
              "35  2-5 yrs    Program    Mumbai    3to6    190           \n",
              "⋮   ⋮          ⋮          ⋮         ⋮      ⋮              \n",
              "69  2-5 yrs    Program    Mumbai    3to6    190           \n",
              "71  8-13 yrs   Analytics  Delhi NCR 15to25 3319           \n",
              "72  3-8 yrs    Analytics  Delhi NCR 6to10  4330           \n",
              "73  5-10 yrs   Data       Mumbai    3to6   1831           \n",
              "74  2-5 yrs    Analytics  Bengaluru 3to6    190           \n",
              "75  3-7 yrs    Analytics  Delhi NCR 15to25  191           \n",
              "76  8-11 yrs   Analytics  Bengaluru 25to50 2884           \n",
              "78  15-25 yrs  Analytics  Mumbai    25to50  322           \n",
              "79  2-3 yrs    Analytics  Bengaluru 3to6    190           \n",
              "81  12-20 yrs  Principal  Bengaluru 25to50  753           \n",
              "82  12-20 yrs  Lead       Bengaluru 25to50 2981           \n",
              "83  5-7 yrs    Analytics  Delhi NCR 6to10  2676           \n",
              "84  4-8 yrs    Analytics  Mumbai    3to6   3767           \n",
              "85  8-13 yrs   Analytics  Delhi NCR 25to50 2574           \n",
              "88  6-10 yrs   Analytics  Delhi NCR 10to15 1970           \n",
              "89  6-11 yrs   Analytics  Delhi NCR 15to25 2059           \n",
              "90  2-3 yrs    Analytics  Delhi NCR 10to15 2665           \n",
              "91  4-9 yrs    Business   Mumbai    6to10  2434           \n",
              "92  8-11 yrs   Analytics  Bengaluru 25to50 2884           \n",
              "93  6-9 yrs    Data       Bengaluru 15to25 3076           \n",
              "94  3-7 yrs    Analytics  Delhi NCR 6to10  1969           \n",
              "95  4-8 yrs    Analytics  Kolkata   10to15  772           \n",
              "96  3-5 yrs    Data       Mumbai    10to15 4904           \n",
              "97  7-11 yrs   Data       Ahmedabad 10to15 1301           \n",
              "98  11-15 yrs  Business   Bengaluru 15to25  280           \n",
              "99  4-9 yrs    Analytics  Mumbai    10to15 1863           \n",
              "100 3-8 yrs    Growth     Mumbai    15to25 3319           \n",
              "101 6-9 yrs    Data       Bengaluru 15to25 3076           \n",
              "102 4-8 yrs    Analytics  Mumbai    3to6   3767           \n",
              "103 8-13 yrs   Analytics  Delhi NCR 25to50 2574           "
            ]
          },
          "metadata": {}
        }
      ]
    },
    {
      "cell_type": "code",
      "source": [
        "# extract records where job_desig  is Analytics\n",
        "df[which(df$job_desig==\"Analytics\"),]\n",
        "\n"
      ],
      "metadata": {
        "colab": {
          "base_uri": "https://localhost:8080/",
          "height": 1000
        },
        "id": "EzS32Z9wkHMV",
        "outputId": "7055241e-8e96-4965-c65a-95b0de434f74"
      },
      "execution_count": 32,
      "outputs": [
        {
          "output_type": "display_data",
          "data": {
            "text/html": [
              "<table class=\"dataframe\">\n",
              "<caption>A data.frame: 54 × 5</caption>\n",
              "<thead>\n",
              "\t<tr><th></th><th scope=col>experience</th><th scope=col>job_desig</th><th scope=col>location</th><th scope=col>salary</th><th scope=col>placement_count</th></tr>\n",
              "\t<tr><th></th><th scope=col>&lt;chr&gt;</th><th scope=col>&lt;chr&gt;</th><th scope=col>&lt;chr&gt;</th><th scope=col>&lt;chr&gt;</th><th scope=col>&lt;int&gt;</th></tr>\n",
              "</thead>\n",
              "<tbody>\n",
              "\t<tr><th scope=row>1</th><td>2-4 yrs  </td><td>Analytics</td><td>Mumbai   </td><td>6to10 </td><td>4479</td></tr>\n",
              "\t<tr><th scope=row>2</th><td>5-10 yrs </td><td>Analytics</td><td>Delhi NCR</td><td>6to10 </td><td>1969</td></tr>\n",
              "\t<tr><th scope=row>4</th><td>2-6 yrs  </td><td>Analytics</td><td>Bengaluru</td><td>6to10 </td><td> 330</td></tr>\n",
              "\t<tr><th scope=row>5</th><td>6-8 yrs  </td><td>Analytics</td><td>Delhi NCR</td><td>25to50</td><td>2665</td></tr>\n",
              "\t<tr><th scope=row>7</th><td>5-10 yrs </td><td>Analytics</td><td>Chennai  </td><td>10to15</td><td>3382</td></tr>\n",
              "\t<tr><th scope=row>12</th><td>5-10 yrs </td><td>Analytics</td><td>Delhi NCR</td><td>15to25</td><td>1989</td></tr>\n",
              "\t<tr><th scope=row>13</th><td>3-6 yrs  </td><td>Analytics</td><td>Bengaluru</td><td>3to6  </td><td> 190</td></tr>\n",
              "\t<tr><th scope=row>14</th><td>2-4 yrs  </td><td>Analytics</td><td>Chennai  </td><td>10to15</td><td>1783</td></tr>\n",
              "\t<tr><th scope=row>16</th><td>7-12 yrs </td><td>Analytics</td><td>Delhi NCR</td><td>10to15</td><td>1969</td></tr>\n",
              "\t<tr><th scope=row>19</th><td>2-7 yrs  </td><td>Analytics</td><td>Mumbai   </td><td>15to25</td><td>4167</td></tr>\n",
              "\t<tr><th scope=row>23</th><td>2-5 yrs  </td><td>Analytics</td><td>Mumbai   </td><td>10to15</td><td>3848</td></tr>\n",
              "\t<tr><th scope=row>25</th><td>0-0 yrs  </td><td>Analytics</td><td>Mumbai   </td><td>0to3  </td><td>1167</td></tr>\n",
              "\t<tr><th scope=row>27</th><td>12-20 yrs</td><td>Analytics</td><td>Chennai  </td><td>25to50</td><td> 464</td></tr>\n",
              "\t<tr><th scope=row>29</th><td>2-5 yrs  </td><td>Analytics</td><td>Bengaluru</td><td>6to10 </td><td> 190</td></tr>\n",
              "\t<tr><th scope=row>31</th><td>2-7 yrs  </td><td>Analytics</td><td>Mumbai   </td><td>10to15</td><td>3838</td></tr>\n",
              "\t<tr><th scope=row>32</th><td>1-5 yrs  </td><td>Analytics</td><td>Bengaluru</td><td>6to10 </td><td> 190</td></tr>\n",
              "\t<tr><th scope=row>34</th><td>7-12 yrs </td><td>Analytics</td><td>Delhi NCR</td><td>25to50</td><td>1988</td></tr>\n",
              "\t<tr><th scope=row>38</th><td>4-6 yrs  </td><td>Analytics</td><td>Delhi NCR</td><td>15to25</td><td> 193</td></tr>\n",
              "\t<tr><th scope=row>40</th><td>1-5 yrs  </td><td>Analytics</td><td>Delhi NCR</td><td>6to10 </td><td> 190</td></tr>\n",
              "\t<tr><th scope=row>41</th><td>3-6 yrs  </td><td>Analytics</td><td>Chennai  </td><td>10to15</td><td> 898</td></tr>\n",
              "\t<tr><th scope=row>44</th><td>4-8 yrs  </td><td>Analytics</td><td>Delhi NCR</td><td>6to10 </td><td>1989</td></tr>\n",
              "\t<tr><th scope=row>46</th><td>5-6 yrs  </td><td>Analytics</td><td>Kolkata  </td><td>6to10 </td><td>3636</td></tr>\n",
              "\t<tr><th scope=row>47</th><td>8-10 yrs </td><td>Analytics</td><td>Bengaluru</td><td>10to15</td><td>4541</td></tr>\n",
              "\t<tr><th scope=row>48</th><td>10-18 yrs</td><td>Analytics</td><td>Delhi NCR</td><td>25to50</td><td>2914</td></tr>\n",
              "\t<tr><th scope=row>49</th><td>8-13 yrs </td><td>Analytics</td><td>Bengaluru</td><td>25to50</td><td>1893</td></tr>\n",
              "\t<tr><th scope=row>52</th><td>2-4 yrs  </td><td>Analytics</td><td>Bengaluru</td><td>10to15</td><td>1969</td></tr>\n",
              "\t<tr><th scope=row>53</th><td>4-8 yrs  </td><td>Analytics</td><td>Mumbai   </td><td>6to10 </td><td>4840</td></tr>\n",
              "\t<tr><th scope=row>54</th><td>3-7 yrs  </td><td>Analytics</td><td>Bengaluru</td><td>25to50</td><td>1993</td></tr>\n",
              "\t<tr><th scope=row>56</th><td>3-4 yrs  </td><td>Analytics</td><td>Bengaluru</td><td>3to6  </td><td>1173</td></tr>\n",
              "\t<tr><th scope=row>59</th><td>5-10 yrs </td><td>Analytics</td><td>Delhi NCR</td><td>10to15</td><td>1616</td></tr>\n",
              "\t<tr><th scope=row>64</th><td>5-8 yrs  </td><td>Analytics</td><td>Chennai  </td><td>6to10 </td><td>3612</td></tr>\n",
              "\t<tr><th scope=row>66</th><td>8-12 yrs </td><td>Analytics</td><td>Delhi NCR</td><td>25to50</td><td>4470</td></tr>\n",
              "\t<tr><th scope=row>67</th><td>10-15 yrs</td><td>Analytics</td><td>Bengaluru</td><td>6to10 </td><td>3612</td></tr>\n",
              "\t<tr><th scope=row>71</th><td>8-13 yrs </td><td>Analytics</td><td>Delhi NCR</td><td>15to25</td><td>3319</td></tr>\n",
              "\t<tr><th scope=row>72</th><td>3-8 yrs  </td><td>Analytics</td><td>Delhi NCR</td><td>6to10 </td><td>4330</td></tr>\n",
              "\t<tr><th scope=row>74</th><td>2-5 yrs  </td><td>Analytics</td><td>Bengaluru</td><td>3to6  </td><td> 190</td></tr>\n",
              "\t<tr><th scope=row>75</th><td>3-7 yrs  </td><td>Analytics</td><td>Delhi NCR</td><td>15to25</td><td> 191</td></tr>\n",
              "\t<tr><th scope=row>76</th><td>8-11 yrs </td><td>Analytics</td><td>Bengaluru</td><td>25to50</td><td>2884</td></tr>\n",
              "\t<tr><th scope=row>78</th><td>15-25 yrs</td><td>Analytics</td><td>Mumbai   </td><td>25to50</td><td> 322</td></tr>\n",
              "\t<tr><th scope=row>79</th><td>2-3 yrs  </td><td>Analytics</td><td>Bengaluru</td><td>3to6  </td><td> 190</td></tr>\n",
              "\t<tr><th scope=row>83</th><td>5-7 yrs  </td><td>Analytics</td><td>Delhi NCR</td><td>6to10 </td><td>2676</td></tr>\n",
              "\t<tr><th scope=row>84</th><td>4-8 yrs  </td><td>Analytics</td><td>Mumbai   </td><td>3to6  </td><td>3767</td></tr>\n",
              "\t<tr><th scope=row>85</th><td>8-13 yrs </td><td>Analytics</td><td>Delhi NCR</td><td>25to50</td><td>2574</td></tr>\n",
              "\t<tr><th scope=row>87</th><td>1-3 yrs  </td><td>Analytics</td><td>Chennai  </td><td>10to15</td><td> 860</td></tr>\n",
              "\t<tr><th scope=row>88</th><td>6-10 yrs </td><td>Analytics</td><td>Delhi NCR</td><td>10to15</td><td>1970</td></tr>\n",
              "\t<tr><th scope=row>89</th><td>6-11 yrs </td><td>Analytics</td><td>Delhi NCR</td><td>15to25</td><td>2059</td></tr>\n",
              "\t<tr><th scope=row>90</th><td>2-3 yrs  </td><td>Analytics</td><td>Delhi NCR</td><td>10to15</td><td>2665</td></tr>\n",
              "\t<tr><th scope=row>92</th><td>8-11 yrs </td><td>Analytics</td><td>Bengaluru</td><td>25to50</td><td>2884</td></tr>\n",
              "\t<tr><th scope=row>94</th><td>3-7 yrs  </td><td>Analytics</td><td>Delhi NCR</td><td>6to10 </td><td>1969</td></tr>\n",
              "\t<tr><th scope=row>95</th><td>4-8 yrs  </td><td>Analytics</td><td>Kolkata  </td><td>10to15</td><td> 772</td></tr>\n",
              "\t<tr><th scope=row>99</th><td>4-9 yrs  </td><td>Analytics</td><td>Mumbai   </td><td>10to15</td><td>1863</td></tr>\n",
              "\t<tr><th scope=row>102</th><td>4-8 yrs  </td><td>Analytics</td><td>Mumbai   </td><td>3to6  </td><td>3767</td></tr>\n",
              "\t<tr><th scope=row>103</th><td>8-13 yrs </td><td>Analytics</td><td>Delhi NCR</td><td>25to50</td><td>2574</td></tr>\n",
              "\t<tr><th scope=row>105</th><td>1-3 yrs  </td><td>Analytics</td><td>Chennai  </td><td>10to15</td><td> 860</td></tr>\n",
              "</tbody>\n",
              "</table>\n"
            ],
            "text/markdown": "\nA data.frame: 54 × 5\n\n| <!--/--> | experience &lt;chr&gt; | job_desig &lt;chr&gt; | location &lt;chr&gt; | salary &lt;chr&gt; | placement_count &lt;int&gt; |\n|---|---|---|---|---|---|\n| 1 | 2-4 yrs   | Analytics | Mumbai    | 6to10  | 4479 |\n| 2 | 5-10 yrs  | Analytics | Delhi NCR | 6to10  | 1969 |\n| 4 | 2-6 yrs   | Analytics | Bengaluru | 6to10  |  330 |\n| 5 | 6-8 yrs   | Analytics | Delhi NCR | 25to50 | 2665 |\n| 7 | 5-10 yrs  | Analytics | Chennai   | 10to15 | 3382 |\n| 12 | 5-10 yrs  | Analytics | Delhi NCR | 15to25 | 1989 |\n| 13 | 3-6 yrs   | Analytics | Bengaluru | 3to6   |  190 |\n| 14 | 2-4 yrs   | Analytics | Chennai   | 10to15 | 1783 |\n| 16 | 7-12 yrs  | Analytics | Delhi NCR | 10to15 | 1969 |\n| 19 | 2-7 yrs   | Analytics | Mumbai    | 15to25 | 4167 |\n| 23 | 2-5 yrs   | Analytics | Mumbai    | 10to15 | 3848 |\n| 25 | 0-0 yrs   | Analytics | Mumbai    | 0to3   | 1167 |\n| 27 | 12-20 yrs | Analytics | Chennai   | 25to50 |  464 |\n| 29 | 2-5 yrs   | Analytics | Bengaluru | 6to10  |  190 |\n| 31 | 2-7 yrs   | Analytics | Mumbai    | 10to15 | 3838 |\n| 32 | 1-5 yrs   | Analytics | Bengaluru | 6to10  |  190 |\n| 34 | 7-12 yrs  | Analytics | Delhi NCR | 25to50 | 1988 |\n| 38 | 4-6 yrs   | Analytics | Delhi NCR | 15to25 |  193 |\n| 40 | 1-5 yrs   | Analytics | Delhi NCR | 6to10  |  190 |\n| 41 | 3-6 yrs   | Analytics | Chennai   | 10to15 |  898 |\n| 44 | 4-8 yrs   | Analytics | Delhi NCR | 6to10  | 1989 |\n| 46 | 5-6 yrs   | Analytics | Kolkata   | 6to10  | 3636 |\n| 47 | 8-10 yrs  | Analytics | Bengaluru | 10to15 | 4541 |\n| 48 | 10-18 yrs | Analytics | Delhi NCR | 25to50 | 2914 |\n| 49 | 8-13 yrs  | Analytics | Bengaluru | 25to50 | 1893 |\n| 52 | 2-4 yrs   | Analytics | Bengaluru | 10to15 | 1969 |\n| 53 | 4-8 yrs   | Analytics | Mumbai    | 6to10  | 4840 |\n| 54 | 3-7 yrs   | Analytics | Bengaluru | 25to50 | 1993 |\n| 56 | 3-4 yrs   | Analytics | Bengaluru | 3to6   | 1173 |\n| 59 | 5-10 yrs  | Analytics | Delhi NCR | 10to15 | 1616 |\n| 64 | 5-8 yrs   | Analytics | Chennai   | 6to10  | 3612 |\n| 66 | 8-12 yrs  | Analytics | Delhi NCR | 25to50 | 4470 |\n| 67 | 10-15 yrs | Analytics | Bengaluru | 6to10  | 3612 |\n| 71 | 8-13 yrs  | Analytics | Delhi NCR | 15to25 | 3319 |\n| 72 | 3-8 yrs   | Analytics | Delhi NCR | 6to10  | 4330 |\n| 74 | 2-5 yrs   | Analytics | Bengaluru | 3to6   |  190 |\n| 75 | 3-7 yrs   | Analytics | Delhi NCR | 15to25 |  191 |\n| 76 | 8-11 yrs  | Analytics | Bengaluru | 25to50 | 2884 |\n| 78 | 15-25 yrs | Analytics | Mumbai    | 25to50 |  322 |\n| 79 | 2-3 yrs   | Analytics | Bengaluru | 3to6   |  190 |\n| 83 | 5-7 yrs   | Analytics | Delhi NCR | 6to10  | 2676 |\n| 84 | 4-8 yrs   | Analytics | Mumbai    | 3to6   | 3767 |\n| 85 | 8-13 yrs  | Analytics | Delhi NCR | 25to50 | 2574 |\n| 87 | 1-3 yrs   | Analytics | Chennai   | 10to15 |  860 |\n| 88 | 6-10 yrs  | Analytics | Delhi NCR | 10to15 | 1970 |\n| 89 | 6-11 yrs  | Analytics | Delhi NCR | 15to25 | 2059 |\n| 90 | 2-3 yrs   | Analytics | Delhi NCR | 10to15 | 2665 |\n| 92 | 8-11 yrs  | Analytics | Bengaluru | 25to50 | 2884 |\n| 94 | 3-7 yrs   | Analytics | Delhi NCR | 6to10  | 1969 |\n| 95 | 4-8 yrs   | Analytics | Kolkata   | 10to15 |  772 |\n| 99 | 4-9 yrs   | Analytics | Mumbai    | 10to15 | 1863 |\n| 102 | 4-8 yrs   | Analytics | Mumbai    | 3to6   | 3767 |\n| 103 | 8-13 yrs  | Analytics | Delhi NCR | 25to50 | 2574 |\n| 105 | 1-3 yrs   | Analytics | Chennai   | 10to15 |  860 |\n\n",
            "text/latex": "A data.frame: 54 × 5\n\\begin{tabular}{r|lllll}\n  & experience & job\\_desig & location & salary & placement\\_count\\\\\n  & <chr> & <chr> & <chr> & <chr> & <int>\\\\\n\\hline\n\t1 & 2-4 yrs   & Analytics & Mumbai    & 6to10  & 4479\\\\\n\t2 & 5-10 yrs  & Analytics & Delhi NCR & 6to10  & 1969\\\\\n\t4 & 2-6 yrs   & Analytics & Bengaluru & 6to10  &  330\\\\\n\t5 & 6-8 yrs   & Analytics & Delhi NCR & 25to50 & 2665\\\\\n\t7 & 5-10 yrs  & Analytics & Chennai   & 10to15 & 3382\\\\\n\t12 & 5-10 yrs  & Analytics & Delhi NCR & 15to25 & 1989\\\\\n\t13 & 3-6 yrs   & Analytics & Bengaluru & 3to6   &  190\\\\\n\t14 & 2-4 yrs   & Analytics & Chennai   & 10to15 & 1783\\\\\n\t16 & 7-12 yrs  & Analytics & Delhi NCR & 10to15 & 1969\\\\\n\t19 & 2-7 yrs   & Analytics & Mumbai    & 15to25 & 4167\\\\\n\t23 & 2-5 yrs   & Analytics & Mumbai    & 10to15 & 3848\\\\\n\t25 & 0-0 yrs   & Analytics & Mumbai    & 0to3   & 1167\\\\\n\t27 & 12-20 yrs & Analytics & Chennai   & 25to50 &  464\\\\\n\t29 & 2-5 yrs   & Analytics & Bengaluru & 6to10  &  190\\\\\n\t31 & 2-7 yrs   & Analytics & Mumbai    & 10to15 & 3838\\\\\n\t32 & 1-5 yrs   & Analytics & Bengaluru & 6to10  &  190\\\\\n\t34 & 7-12 yrs  & Analytics & Delhi NCR & 25to50 & 1988\\\\\n\t38 & 4-6 yrs   & Analytics & Delhi NCR & 15to25 &  193\\\\\n\t40 & 1-5 yrs   & Analytics & Delhi NCR & 6to10  &  190\\\\\n\t41 & 3-6 yrs   & Analytics & Chennai   & 10to15 &  898\\\\\n\t44 & 4-8 yrs   & Analytics & Delhi NCR & 6to10  & 1989\\\\\n\t46 & 5-6 yrs   & Analytics & Kolkata   & 6to10  & 3636\\\\\n\t47 & 8-10 yrs  & Analytics & Bengaluru & 10to15 & 4541\\\\\n\t48 & 10-18 yrs & Analytics & Delhi NCR & 25to50 & 2914\\\\\n\t49 & 8-13 yrs  & Analytics & Bengaluru & 25to50 & 1893\\\\\n\t52 & 2-4 yrs   & Analytics & Bengaluru & 10to15 & 1969\\\\\n\t53 & 4-8 yrs   & Analytics & Mumbai    & 6to10  & 4840\\\\\n\t54 & 3-7 yrs   & Analytics & Bengaluru & 25to50 & 1993\\\\\n\t56 & 3-4 yrs   & Analytics & Bengaluru & 3to6   & 1173\\\\\n\t59 & 5-10 yrs  & Analytics & Delhi NCR & 10to15 & 1616\\\\\n\t64 & 5-8 yrs   & Analytics & Chennai   & 6to10  & 3612\\\\\n\t66 & 8-12 yrs  & Analytics & Delhi NCR & 25to50 & 4470\\\\\n\t67 & 10-15 yrs & Analytics & Bengaluru & 6to10  & 3612\\\\\n\t71 & 8-13 yrs  & Analytics & Delhi NCR & 15to25 & 3319\\\\\n\t72 & 3-8 yrs   & Analytics & Delhi NCR & 6to10  & 4330\\\\\n\t74 & 2-5 yrs   & Analytics & Bengaluru & 3to6   &  190\\\\\n\t75 & 3-7 yrs   & Analytics & Delhi NCR & 15to25 &  191\\\\\n\t76 & 8-11 yrs  & Analytics & Bengaluru & 25to50 & 2884\\\\\n\t78 & 15-25 yrs & Analytics & Mumbai    & 25to50 &  322\\\\\n\t79 & 2-3 yrs   & Analytics & Bengaluru & 3to6   &  190\\\\\n\t83 & 5-7 yrs   & Analytics & Delhi NCR & 6to10  & 2676\\\\\n\t84 & 4-8 yrs   & Analytics & Mumbai    & 3to6   & 3767\\\\\n\t85 & 8-13 yrs  & Analytics & Delhi NCR & 25to50 & 2574\\\\\n\t87 & 1-3 yrs   & Analytics & Chennai   & 10to15 &  860\\\\\n\t88 & 6-10 yrs  & Analytics & Delhi NCR & 10to15 & 1970\\\\\n\t89 & 6-11 yrs  & Analytics & Delhi NCR & 15to25 & 2059\\\\\n\t90 & 2-3 yrs   & Analytics & Delhi NCR & 10to15 & 2665\\\\\n\t92 & 8-11 yrs  & Analytics & Bengaluru & 25to50 & 2884\\\\\n\t94 & 3-7 yrs   & Analytics & Delhi NCR & 6to10  & 1969\\\\\n\t95 & 4-8 yrs   & Analytics & Kolkata   & 10to15 &  772\\\\\n\t99 & 4-9 yrs   & Analytics & Mumbai    & 10to15 & 1863\\\\\n\t102 & 4-8 yrs   & Analytics & Mumbai    & 3to6   & 3767\\\\\n\t103 & 8-13 yrs  & Analytics & Delhi NCR & 25to50 & 2574\\\\\n\t105 & 1-3 yrs   & Analytics & Chennai   & 10to15 &  860\\\\\n\\end{tabular}\n",
            "text/plain": [
              "    experience job_desig location  salary placement_count\n",
              "1   2-4 yrs    Analytics Mumbai    6to10  4479           \n",
              "2   5-10 yrs   Analytics Delhi NCR 6to10  1969           \n",
              "4   2-6 yrs    Analytics Bengaluru 6to10   330           \n",
              "5   6-8 yrs    Analytics Delhi NCR 25to50 2665           \n",
              "7   5-10 yrs   Analytics Chennai   10to15 3382           \n",
              "12  5-10 yrs   Analytics Delhi NCR 15to25 1989           \n",
              "13  3-6 yrs    Analytics Bengaluru 3to6    190           \n",
              "14  2-4 yrs    Analytics Chennai   10to15 1783           \n",
              "16  7-12 yrs   Analytics Delhi NCR 10to15 1969           \n",
              "19  2-7 yrs    Analytics Mumbai    15to25 4167           \n",
              "23  2-5 yrs    Analytics Mumbai    10to15 3848           \n",
              "25  0-0 yrs    Analytics Mumbai    0to3   1167           \n",
              "27  12-20 yrs  Analytics Chennai   25to50  464           \n",
              "29  2-5 yrs    Analytics Bengaluru 6to10   190           \n",
              "31  2-7 yrs    Analytics Mumbai    10to15 3838           \n",
              "32  1-5 yrs    Analytics Bengaluru 6to10   190           \n",
              "34  7-12 yrs   Analytics Delhi NCR 25to50 1988           \n",
              "38  4-6 yrs    Analytics Delhi NCR 15to25  193           \n",
              "40  1-5 yrs    Analytics Delhi NCR 6to10   190           \n",
              "41  3-6 yrs    Analytics Chennai   10to15  898           \n",
              "44  4-8 yrs    Analytics Delhi NCR 6to10  1989           \n",
              "46  5-6 yrs    Analytics Kolkata   6to10  3636           \n",
              "47  8-10 yrs   Analytics Bengaluru 10to15 4541           \n",
              "48  10-18 yrs  Analytics Delhi NCR 25to50 2914           \n",
              "49  8-13 yrs   Analytics Bengaluru 25to50 1893           \n",
              "52  2-4 yrs    Analytics Bengaluru 10to15 1969           \n",
              "53  4-8 yrs    Analytics Mumbai    6to10  4840           \n",
              "54  3-7 yrs    Analytics Bengaluru 25to50 1993           \n",
              "56  3-4 yrs    Analytics Bengaluru 3to6   1173           \n",
              "59  5-10 yrs   Analytics Delhi NCR 10to15 1616           \n",
              "64  5-8 yrs    Analytics Chennai   6to10  3612           \n",
              "66  8-12 yrs   Analytics Delhi NCR 25to50 4470           \n",
              "67  10-15 yrs  Analytics Bengaluru 6to10  3612           \n",
              "71  8-13 yrs   Analytics Delhi NCR 15to25 3319           \n",
              "72  3-8 yrs    Analytics Delhi NCR 6to10  4330           \n",
              "74  2-5 yrs    Analytics Bengaluru 3to6    190           \n",
              "75  3-7 yrs    Analytics Delhi NCR 15to25  191           \n",
              "76  8-11 yrs   Analytics Bengaluru 25to50 2884           \n",
              "78  15-25 yrs  Analytics Mumbai    25to50  322           \n",
              "79  2-3 yrs    Analytics Bengaluru 3to6    190           \n",
              "83  5-7 yrs    Analytics Delhi NCR 6to10  2676           \n",
              "84  4-8 yrs    Analytics Mumbai    3to6   3767           \n",
              "85  8-13 yrs   Analytics Delhi NCR 25to50 2574           \n",
              "87  1-3 yrs    Analytics Chennai   10to15  860           \n",
              "88  6-10 yrs   Analytics Delhi NCR 10to15 1970           \n",
              "89  6-11 yrs   Analytics Delhi NCR 15to25 2059           \n",
              "90  2-3 yrs    Analytics Delhi NCR 10to15 2665           \n",
              "92  8-11 yrs   Analytics Bengaluru 25to50 2884           \n",
              "94  3-7 yrs    Analytics Delhi NCR 6to10  1969           \n",
              "95  4-8 yrs    Analytics Kolkata   10to15  772           \n",
              "99  4-9 yrs    Analytics Mumbai    10to15 1863           \n",
              "102 4-8 yrs    Analytics Mumbai    3to6   3767           \n",
              "103 8-13 yrs   Analytics Delhi NCR 25to50 2574           \n",
              "105 1-3 yrs    Analytics Chennai   10to15  860           "
            ]
          },
          "metadata": {}
        }
      ]
    },
    {
      "cell_type": "code",
      "source": [
        "# extract records where job_desig  is Analytics and experience >= 10 70\n",
        "#filtered_df<-df[df$job_desig == \"Analytics\",]\n",
        "\n",
        "#final_df<-filtered_df[filtered_df$experience > 10 & filtered_df$experience <= 70,]\n",
        "\n",
        "#print(final_df)\n",
        "filtered_fields <- subset(df, job_desig == \"Analytics\" & experience >= 10:70)[, c(\"job_desig\", \"experience\")]\n",
        "print(filtered_fields)\n"
      ],
      "metadata": {
        "colab": {
          "base_uri": "https://localhost:8080/"
        },
        "id": "KIjggRD1kean",
        "outputId": "b23e3aad-6a20-4882-877d-f390470a0ac9"
      },
      "execution_count": 33,
      "outputs": [
        {
          "output_type": "stream",
          "name": "stderr",
          "text": [
            "Warning message in experience >= 10:70:\n",
            "“longer object length is not a multiple of shorter object length”\n"
          ]
        },
        {
          "output_type": "stream",
          "name": "stdout",
          "text": [
            "    job_desig experience\n",
            "1   Analytics    2-4 yrs\n",
            "2   Analytics   5-10 yrs\n",
            "4   Analytics    2-6 yrs\n",
            "5   Analytics    6-8 yrs\n",
            "7   Analytics   5-10 yrs\n",
            "12  Analytics   5-10 yrs\n",
            "13  Analytics    3-6 yrs\n",
            "16  Analytics   7-12 yrs\n",
            "34  Analytics   7-12 yrs\n",
            "47  Analytics   8-10 yrs\n",
            "49  Analytics   8-13 yrs\n",
            "64  Analytics    5-8 yrs\n",
            "66  Analytics   8-12 yrs\n",
            "71  Analytics   8-13 yrs\n",
            "72  Analytics    3-8 yrs\n",
            "75  Analytics    3-7 yrs\n",
            "76  Analytics   8-11 yrs\n",
            "83  Analytics    5-7 yrs\n",
            "84  Analytics    4-8 yrs\n",
            "85  Analytics   8-13 yrs\n",
            "88  Analytics   6-10 yrs\n",
            "89  Analytics   6-11 yrs\n",
            "92  Analytics   8-11 yrs\n",
            "103 Analytics   8-13 yrs\n"
          ]
        }
      ]
    },
    {
      "cell_type": "code",
      "source": [
        "# extract records where job_desig  is Analytics or experience >= 10 70\n",
        "filtered_fields <- subset(df, job_desig == \"Analytics\" & experience >= 10:70)[, c(\"job_desig\", \"experience\")]\n",
        "print(filtered_fields)\n",
        "\n",
        "\n"
      ],
      "metadata": {
        "colab": {
          "base_uri": "https://localhost:8080/"
        },
        "id": "rbJgye2blKsA",
        "outputId": "5cbbcc54-1b3b-4a25-94a5-efa2995237cd"
      },
      "execution_count": 34,
      "outputs": [
        {
          "output_type": "stream",
          "name": "stderr",
          "text": [
            "Warning message in experience >= 10:70:\n",
            "“longer object length is not a multiple of shorter object length”\n"
          ]
        },
        {
          "output_type": "stream",
          "name": "stdout",
          "text": [
            "    job_desig experience\n",
            "1   Analytics    2-4 yrs\n",
            "2   Analytics   5-10 yrs\n",
            "4   Analytics    2-6 yrs\n",
            "5   Analytics    6-8 yrs\n",
            "7   Analytics   5-10 yrs\n",
            "12  Analytics   5-10 yrs\n",
            "13  Analytics    3-6 yrs\n",
            "16  Analytics   7-12 yrs\n",
            "34  Analytics   7-12 yrs\n",
            "47  Analytics   8-10 yrs\n",
            "49  Analytics   8-13 yrs\n",
            "64  Analytics    5-8 yrs\n",
            "66  Analytics   8-12 yrs\n",
            "71  Analytics   8-13 yrs\n",
            "72  Analytics    3-8 yrs\n",
            "75  Analytics    3-7 yrs\n",
            "76  Analytics   8-11 yrs\n",
            "83  Analytics    5-7 yrs\n",
            "84  Analytics    4-8 yrs\n",
            "85  Analytics   8-13 yrs\n",
            "88  Analytics   6-10 yrs\n",
            "89  Analytics   6-11 yrs\n",
            "92  Analytics   8-11 yrs\n",
            "103 Analytics   8-13 yrs\n"
          ]
        }
      ]
    },
    {
      "cell_type": "code",
      "source": [],
      "metadata": {
        "id": "snTQ8PbBlSRb"
      },
      "execution_count": null,
      "outputs": []
    }
  ]
}