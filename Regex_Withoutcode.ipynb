{
  "cells": [
    {
      "cell_type": "markdown",
      "metadata": {
        "id": "view-in-github",
        "colab_type": "text"
      },
      "source": [
        "<a href=\"https://colab.research.google.com/github/Rajat504/CLOUDYML/blob/main/Regex_Withoutcode.ipynb\" target=\"_parent\"><img src=\"https://colab.research.google.com/assets/colab-badge.svg\" alt=\"Open In Colab\"/></a>"
      ]
    },
    {
      "cell_type": "markdown",
      "metadata": {
        "id": "FSjo1RkHwHtF"
      },
      "source": [
        "## <center><u>Regular Expression</u></center>\n",
        "\n",
        "\n",
        "Regular Expression – better known as Regex – is pattern matching. As regular expressions are regular, it means they are used to match well-defined patterns. Regular expression or pattern matching tools identify words and phrases with common patterns.  A typical use case for Regex is find and replace, however as it is not able to understand syntax, grammar, or context, Regex solutions tend to operate on a very small well-defined problem set. Basically, Regex solutions are using pattern matching to merely identify similarities and differences in patterns of words and phrases. They are not able to identify words and phrases taking into consideration syntax, grammar and ultimately context.\n",
        "\n",
        "\n",
        "You will be facing some challenging questions on Regex in this assignment. Below **`following steps`** would help you to complete this assignment:\n",
        "\n",
        "- **`1. Read the question`**\n",
        "- **`2. Go to the link given under the question`**\n",
        "- **`3. You will land on Hakerrank page, if not then create your Hakerrank account.`**\n",
        "- **`4. Once you land on hankerank page mentioned under question, go through the given problem carefully.`**\n",
        "- **`5. Solve it in the editor given in the page. Select python3 as your language in the editor and click 'Run Code' Button`**\n",
        "- **`6. Once you have passed all the sample test cases, write your solution in this assignment against each question, save the file and then submit on portal.`**\n",
        "\n",
        "\n",
        "If you need any assistence on Regex, then please refer below links:\n",
        "\n",
        "## **`Watch Video 18: Regex Tutorial`**\n",
        "\n",
        "Regex doc: https://docs.python.org/3/howto/regex.html\n",
        "\n",
        "\n"
      ]
    },
    {
      "cell_type": "markdown",
      "metadata": {
        "id": "0kkaVALuwHtK"
      },
      "source": [
        "*italicized text*#### Q1. Matching string problem\n",
        "\n",
        "https://www.hackerrank.com/challenges/matching-specific-string/problem"
      ]
    },
    {
      "cell_type": "code",
      "source": [
        "Regex_Pattern = r'hackerrank'\t# Do not delete 'r'.\n"
      ],
      "metadata": {
        "id": "jL2M3dqPwbv3"
      },
      "execution_count": null,
      "outputs": []
    },
    {
      "cell_type": "markdown",
      "metadata": {
        "id": "96u-5hSQwHtM"
      },
      "source": [
        "#### Q2 Matching anything\n",
        "\n",
        "link - https://www.hackerrank.com/challenges/matching-anything-but-new-line/problem\n"
      ]
    },
    {
      "cell_type": "code",
      "source": [
        "regex_pattern = r\"^...\\....\\....\\....$\"\t# Do not delete 'r'.\n",
        "\n"
      ],
      "metadata": {
        "id": "vLhIrsWgwd-w"
      },
      "execution_count": null,
      "outputs": []
    },
    {
      "cell_type": "markdown",
      "metadata": {
        "id": "2r69G5X6wHtN"
      },
      "source": [
        "#### Q3 Matching non digit character\n",
        "\n",
        "link - https://www.hackerrank.com/challenges/matching-digits-non-digit-character/problem"
      ]
    },
    {
      "cell_type": "code",
      "source": [
        "Regex_Pattern = r\"\\d\\d\\D\\d\\d\\D\\d\\d\\d\\d\"\t# Do not delete 'r'.\n"
      ],
      "metadata": {
        "id": "ewXFBXv-whb0"
      },
      "execution_count": null,
      "outputs": []
    },
    {
      "cell_type": "markdown",
      "metadata": {
        "id": "nAwYC2WWwHtO"
      },
      "source": [
        "#### Q4 matching whitespace - non whitespace\n",
        "\n",
        "\n",
        "link - https://www.hackerrank.com/challenges/matching-whitespace-non-whitespace-character/problem?h_r=next-challenge&h_v=zen\n"
      ]
    },
    {
      "cell_type": "code",
      "source": [
        "Regex_Pattern = r\"\\S\\S\\s\\S\\S\\s\\S\\S\"\t# Do not delete 'r'.\n"
      ],
      "metadata": {
        "id": "u-b0idauwk4k"
      },
      "execution_count": null,
      "outputs": []
    },
    {
      "cell_type": "markdown",
      "metadata": {
        "id": "BmfTWoPhwHtP"
      },
      "source": [
        "#### Q5 matching start end problem\n",
        "\n",
        "\n",
        "\n",
        "link - https://www.hackerrank.com/challenges/matching-start-end/problem?h_r=next-challenge&h_v=zen&h_r=next-challenge&h_v=zen&h_r=next-challenge&h_v=zen"
      ]
    },
    {
      "cell_type": "code",
      "source": [
        "Regex_Pattern = r\"^\\d\\w{4}\\.$\"\t# Do not delete 'r'.\n",
        "\n"
      ],
      "metadata": {
        "id": "2YrxQ2htwYYR"
      },
      "execution_count": null,
      "outputs": []
    },
    {
      "cell_type": "markdown",
      "metadata": {
        "id": "y0zG45zvwHtQ"
      },
      "source": [
        "#### Q6 negative lookbehind\n",
        "\n",
        "link - https://www.hackerrank.com/challenges/negative-lookbehind/problem"
      ]
    },
    {
      "cell_type": "code",
      "source": [
        "Regex_Pattern = r\"(?<![aeiouAEIOU]).\"\t# Do not delete 'r'.\n"
      ],
      "metadata": {
        "id": "Nc8Eh8yHwVO9"
      },
      "execution_count": null,
      "outputs": []
    },
    {
      "cell_type": "markdown",
      "metadata": {
        "id": "GvFxBjskwHtR"
      },
      "source": [
        "#### Q7 Html attribute problem\n",
        "\n",
        "link - https://www.hackerrank.com/challenges/html-attributes/problem"
      ]
    },
    {
      "cell_type": "code",
      "source": [
        "import re\n",
        "import sys\n",
        "n = int(input())\n",
        "html = sys.stdin.read()\n",
        "pattern_tag = r'<(\\w+)(\\s\\w+=[\"\\'].*?[\"\\'])?\\s?/?>'\n",
        "matches = re.findall(pattern_tag, html)\n",
        "dict_tag = {}\n",
        "for match in matches:\n",
        "    pattern_attribute = r'\\s(\\w+)='\n",
        "    atts = re.findall(pattern_attribute, match[1])\n",
        "    if match[0] in dict_tag:\n",
        "        dict_tag[match[0]].update(atts)\n",
        "    else:\n",
        "        dict_tag[match[0]] = set(atts)\n",
        "dict_tag = dict(sorted(dict_tag.items()))\n",
        "for k, v in dict_tag.items():\n",
        "    print(k,\":\", sep=\"\", end=\"\")\n",
        "    atts = sorted(list(v))\n",
        "    print(\",\".join(atts))\n"
      ],
      "metadata": {
        "id": "U-YXLhpGwSXR",
        "colab": {
          "base_uri": "https://localhost:8080/"
        },
        "outputId": "0363a0ce-ca37-4c99-c441-2b579a9f4df6"
      },
      "execution_count": null,
      "outputs": [
        {
          "name": "stdout",
          "output_type": "stream",
          "text": [
            "2\n"
          ]
        }
      ]
    },
    {
      "cell_type": "markdown",
      "metadata": {
        "id": "AnyIRWVNwHtR"
      },
      "source": [
        "#### Q8 detect html tags\n",
        "\n",
        "link - https://www.hackerrank.com/challenges/detect-html-tags/problem\n"
      ]
    },
    {
      "cell_type": "code",
      "source": [
        "import re\n",
        "N = int(input())\n",
        "box = []\n",
        "for i in range(N):\n",
        "    s = input()\n",
        "    regex_pattern = re.findall(r\"<\\s*[A-Za-z0-9]+\\s*>?\", s)\n",
        "    for i in regex_pattern:\n",
        "        x =i.replace(\"<\",\"\").replace(\">\",\"\").strip()\n",
        "        box.append(x)\n",
        "\n",
        "print(\";\".join(sorted(list(set(box)))))"
      ],
      "metadata": {
        "id": "TVM2MPcZwowT",
        "colab": {
          "base_uri": "https://localhost:8080/"
        },
        "outputId": "35ca56ad-c209-4759-bcaa-b945393fef35"
      },
      "execution_count": null,
      "outputs": [
        {
          "output_type": "stream",
          "name": "stdout",
          "text": [
            "2\n",
            "3\n",
            "4\n",
            "\n"
          ]
        }
      ]
    },
    {
      "cell_type": "markdown",
      "metadata": {
        "id": "u7G_61dNwHtS"
      },
      "source": [
        "#### Q9 final substring problem\n",
        "\n",
        "link - https://www.hackerrank.com/challenges/find-substring/problem\n"
      ]
    },
    {
      "cell_type": "code",
      "source": [
        "import re\n",
        "import sys\n",
        "data = sys.stdin.read()\n",
        "pattern=r'\\n[0-9]*\\n([A-z\\n]*)'\n",
        "matches = re.findall(pattern, data)\n",
        "for word in matches[0].split(\"\\n\"):\n",
        "    myregex= r\"([A-z]\" + re.escape(word) + r\"[A-z])\"\n",
        "    print(len(re.findall(myregex, data, re.IGNORECASE)))\n",
        "\n"
      ],
      "metadata": {
        "id": "H7HfMdAmwrV0",
        "colab": {
          "base_uri": "https://localhost:8080/",
          "height": 211
        },
        "outputId": "a79b675c-4dbf-48a9-e45b-5bd4580cbcb5"
      },
      "execution_count": null,
      "outputs": [
        {
          "output_type": "error",
          "ename": "IndexError",
          "evalue": "list index out of range",
          "traceback": [
            "\u001b[0;31m---------------------------------------------------------------------------\u001b[0m",
            "\u001b[0;31mIndexError\u001b[0m                                Traceback (most recent call last)",
            "\u001b[0;32m<ipython-input-22-cfc9f1a9c445>\u001b[0m in \u001b[0;36m<cell line: 0>\u001b[0;34m()\u001b[0m\n\u001b[1;32m      4\u001b[0m \u001b[0mpattern\u001b[0m\u001b[0;34m=\u001b[0m\u001b[0;34mr'\\n[0-9]*\\n([A-z\\n]*)'\u001b[0m\u001b[0;34m\u001b[0m\u001b[0;34m\u001b[0m\u001b[0m\n\u001b[1;32m      5\u001b[0m \u001b[0mmatches\u001b[0m \u001b[0;34m=\u001b[0m \u001b[0mre\u001b[0m\u001b[0;34m.\u001b[0m\u001b[0mfindall\u001b[0m\u001b[0;34m(\u001b[0m\u001b[0mpattern\u001b[0m\u001b[0;34m,\u001b[0m \u001b[0mdata\u001b[0m\u001b[0;34m)\u001b[0m\u001b[0;34m\u001b[0m\u001b[0;34m\u001b[0m\u001b[0m\n\u001b[0;32m----> 6\u001b[0;31m \u001b[0;32mfor\u001b[0m \u001b[0mword\u001b[0m \u001b[0;32min\u001b[0m \u001b[0mmatches\u001b[0m\u001b[0;34m[\u001b[0m\u001b[0;36m0\u001b[0m\u001b[0;34m]\u001b[0m\u001b[0;34m.\u001b[0m\u001b[0msplit\u001b[0m\u001b[0;34m(\u001b[0m\u001b[0;34m\"\\n\"\u001b[0m\u001b[0;34m)\u001b[0m\u001b[0;34m:\u001b[0m\u001b[0;34m\u001b[0m\u001b[0;34m\u001b[0m\u001b[0m\n\u001b[0m\u001b[1;32m      7\u001b[0m     \u001b[0mmyregex\u001b[0m\u001b[0;34m=\u001b[0m \u001b[0;34mr\"([A-z]\"\u001b[0m \u001b[0;34m+\u001b[0m \u001b[0mre\u001b[0m\u001b[0;34m.\u001b[0m\u001b[0mescape\u001b[0m\u001b[0;34m(\u001b[0m\u001b[0mword\u001b[0m\u001b[0;34m)\u001b[0m \u001b[0;34m+\u001b[0m \u001b[0;34mr\"[A-z])\"\u001b[0m\u001b[0;34m\u001b[0m\u001b[0;34m\u001b[0m\u001b[0m\n\u001b[1;32m      8\u001b[0m     \u001b[0mprint\u001b[0m\u001b[0;34m(\u001b[0m\u001b[0mlen\u001b[0m\u001b[0;34m(\u001b[0m\u001b[0mre\u001b[0m\u001b[0;34m.\u001b[0m\u001b[0mfindall\u001b[0m\u001b[0;34m(\u001b[0m\u001b[0mmyregex\u001b[0m\u001b[0;34m,\u001b[0m \u001b[0mdata\u001b[0m\u001b[0;34m,\u001b[0m \u001b[0mre\u001b[0m\u001b[0;34m.\u001b[0m\u001b[0mIGNORECASE\u001b[0m\u001b[0;34m)\u001b[0m\u001b[0;34m)\u001b[0m\u001b[0;34m)\u001b[0m\u001b[0;34m\u001b[0m\u001b[0;34m\u001b[0m\u001b[0m\n",
            "\u001b[0;31mIndexError\u001b[0m: list index out of range"
          ]
        }
      ]
    },
    {
      "cell_type": "markdown",
      "metadata": {
        "id": "o2t6Cf8wwHtT"
      },
      "source": [
        "#### Q 10 Alien username\n",
        "\n",
        "link - https://www.hackerrank.com/challenges/alien-username/problem"
      ]
    },
    {
      "cell_type": "code",
      "source": [
        "import re\n",
        "N = int(input())\n",
        "for _ in range(N):\n",
        "    S = input()\n",
        "    if re.search(r\"^[_.]\\d{1,}[a-zA-Z]*_?$\",S):\n",
        "        print(\"VALID\")\n",
        "    else:\n",
        "        print(\"INVALID\")"
      ],
      "metadata": {
        "id": "gXoOLapuwuDz",
        "colab": {
          "base_uri": "https://localhost:8080/"
        },
        "outputId": "50fb2f66-3934-4686-82e0-87f61c7535c8"
      },
      "execution_count": null,
      "outputs": [
        {
          "output_type": "stream",
          "name": "stdout",
          "text": [
            "3\n",
            "4\n",
            "INVALID\n",
            "5\n",
            "INVALID\n",
            "2\n",
            "INVALID\n"
          ]
        }
      ]
    },
    {
      "cell_type": "markdown",
      "metadata": {
        "id": "BnGmmBnwwHtT"
      },
      "source": [
        "#### Q11 ip address validation\n",
        "\n",
        "link - https://www.hackerrank.com/challenges/ip-address-validation/problem"
      ]
    },
    {
      "cell_type": "code",
      "source": [
        "import re\n",
        "n = int(input())\n",
        "for _ in range(n):\n",
        "    address = input()\n",
        "    regexv4 = r\"^((25[0-5]|2[0-4][0-9]|1[0-9]{2}|[1-9]?[0-9])\\.){3}(25[0-5]|2[0-4][0-9]|1[0-9]{2}|[1-9]?[0-9])$\"\n",
        "    regexv6 = r\"^([a-f0-9]{1,4}:){7}([a-f0-9]{1,4})$\"\n",
        "    if re.match(regexv4, address):\n",
        "        print(\"IPv4\")\n",
        "    elif re.match(regexv6, address):\n",
        "        print(\"IPv6\")\n",
        "    else:\n",
        "        print(\"Neither\")"
      ],
      "metadata": {
        "id": "gBwwV5nbwwxo",
        "colab": {
          "base_uri": "https://localhost:8080/"
        },
        "outputId": "48b77c96-0005-4eeb-ecef-4dc172ae5164"
      },
      "execution_count": null,
      "outputs": [
        {
          "output_type": "stream",
          "name": "stdout",
          "text": [
            "7\n",
            "This line has junk text.  \n",
            "Neither\n",
            "121.18.19.20  \n",
            "Neither\n",
            "2001:0db8:0000:0000:0000:ff00:0042:8329  \n",
            "Neither\n",
            "3\n",
            "Neither\n",
            "22.231.113.64\n",
            "IPv4\n",
            "22.231.113.164\n",
            "IPv4\n",
            "222.231.113.64\n",
            "IPv4\n"
          ]
        }
      ]
    },
    {
      "cell_type": "markdown",
      "metadata": {
        "id": "D8mN4d5_wHtU"
      },
      "source": [
        "\n",
        "#### Q 12 find a word problem\n",
        "\n",
        "link - https://www.hackerrank.com/challenges/find-a-word/problem\n"
      ]
    },
    {
      "cell_type": "code",
      "source": [
        "import re\n",
        "sentences = []\n",
        "N = int(input())\n",
        "for _ in range(N):\n",
        "    sentences.append(str(input()))\n",
        "T = int(input())\n",
        "for _ in range(T):\n",
        "    total = 0\n",
        "    word = str(input())\n",
        "    pattern = r'(?:(?<=\\b)|(?<=\\W))'+word+r'(?=\\b|\\W)'\n",
        "    for sentence in sentences:\n",
        "        wfound = re.findall(pattern, sentence)\n",
        "        total += len(wfound)\n",
        "    print(total)"
      ],
      "metadata": {
        "id": "C8mbWsWdwz6O",
        "colab": {
          "base_uri": "https://localhost:8080/"
        },
        "outputId": "d3d5fc63-81eb-4195-f2aa-7820c26600b1"
      },
      "execution_count": null,
      "outputs": [
        {
          "output_type": "stream",
          "name": "stdout",
          "text": [
            "1\n",
            "foo bar (foo) bar foo-bar foo_bar foo'bar bar-foo bar, foo.\n",
            "1\n",
            "foo\n",
            "6\n"
          ]
        }
      ]
    },
    {
      "cell_type": "markdown",
      "metadata": {
        "id": "tYt22wTJwHtU"
      },
      "source": [
        "#### Q13 detect the email address\n",
        "\n",
        "link - https://www.hackerrank.com/challenges/detect-the-email-addresses/problem"
      ]
    },
    {
      "cell_type": "code",
      "source": [
        "import re\n",
        "import sys\n",
        "n = int(input())\n",
        "string = sys.stdin.read()\n",
        "\n",
        "pattern = r'((\\w+(\\.\\w+)*)@(\\w+(\\.\\w+)*))'\n",
        "matches = re.finditer(pattern, string)\n",
        "email = set()\n",
        "for match in matches:\n",
        "    email.add(match.group(0))\n",
        "print(\";\".join(sorted(list(email))))"
      ],
      "metadata": {
        "id": "3H8Yy3YTw2P-",
        "colab": {
          "base_uri": "https://localhost:8080/"
        },
        "outputId": "af691a56-7c39-413b-de49-3332cfebcf54"
      },
      "execution_count": null,
      "outputs": [
        {
          "output_type": "stream",
          "name": "stdout",
          "text": [
            "19\n",
            "\n"
          ]
        }
      ]
    },
    {
      "cell_type": "markdown",
      "metadata": {
        "id": "kqfXJBm6wHtU"
      },
      "source": [
        "Q14 detect the domain problem\n",
        "\n",
        "link - https://www.hackerrank.com/challenges/detect-the-domain-name/problem"
      ]
    },
    {
      "cell_type": "code",
      "source": [
        "import re, sys\n",
        "n = int(input())\n",
        "html = sys.stdin.read()\n",
        "pattern = r'https?://(www\\.|ww2\\.)?([a-z0-9\\-]+\\.[\\.a-z0-9\\-]+)'\n",
        "matches = re.findall(pattern, html)\n",
        "st = set()\n",
        "for match in matches:\n",
        "    st.add(match[1])\n",
        "print(\";\".join(sorted(list(st))))\n",
        "\n"
      ],
      "metadata": {
        "id": "YB7UCwwsw4-Q",
        "colab": {
          "base_uri": "https://localhost:8080/"
        },
        "outputId": "c0fd07cd-98d7-49a0-8646-c089c1e51b2d"
      },
      "execution_count": 1,
      "outputs": [
        {
          "output_type": "stream",
          "name": "stdout",
          "text": [
            "10\n",
            "\n"
          ]
        }
      ]
    },
    {
      "cell_type": "markdown",
      "metadata": {
        "id": "dUm16gwFwHtV"
      },
      "source": [
        "#### Q15 ide challenge\n",
        "\n",
        "link - https://www.hackerrank.com/challenges/ide-identifying-comments/problem"
      ]
    },
    {
      "cell_type": "code",
      "source": [
        "import sys\n",
        "import re\n",
        "string = sys.stdin.read()\n",
        "matches = re.findall(r'\\/\\*[\\s\\S]*?\\*\\/|\\/\\/.*', string)\n",
        "for match in matches:\n",
        "    print(re.sub(r'\\n[ \\t]+', '\\n', match))\n"
      ],
      "metadata": {
        "id": "IdrLo4VUw7dV"
      },
      "execution_count": 2,
      "outputs": []
    },
    {
      "cell_type": "markdown",
      "metadata": {
        "id": "nODVXXxdwHtV"
      },
      "source": [
        "#### Q16 programming language detection problem\n",
        "\n",
        "link - https://www.hackerrank.com/challenges/programming-language-detection/problem"
      ]
    },
    {
      "cell_type": "code",
      "source": [
        "import re\n",
        "import sys\n",
        "string = sys.stdin.read()\n",
        "if bool(re.findall(r'\\bdef\\b|[^\\.]print\\b', string)):\n",
        "    print(\"Python\")\n",
        "elif bool(re.findall(r\"\\bpublic\\s+class\\b|\\bpublic\\s+static\\s+void\\s+main\\b|\\bSystem\\.out\\.println\\b\", string)):\n",
        "    print('Java')\n",
        "elif bool(re.findall(r'\\b#include\\b|\\bint\\s+main\\b|\\bprintf\\b', string)):\n",
        "    print('C')"
      ],
      "metadata": {
        "id": "oQ2Zyx_0w9_a"
      },
      "execution_count": 3,
      "outputs": []
    },
    {
      "cell_type": "markdown",
      "metadata": {
        "id": "yTdfWG8VwHtV"
      },
      "source": [
        "\n",
        "---------------------------------\n",
        "\n",
        "# \"Holly jolly\":) Congratulations! you have completed the REGEX assignment.\n",
        "\n",
        "--------------------------------\n",
        "\n",
        "# FeedBack\n",
        "We hope you’ve enjoyed this course so far. We’re committed to help you use \"AI for All\" course to its full potential, so that you have a great learning experience. And that’s why we need your help in form of a feedback here.\n",
        "\n",
        "Please fill this feedback form  https://zfrmz.in/MtRG5oWXBdesm6rmSM7N"
      ]
    }
  ],
  "metadata": {
    "kernelspec": {
      "display_name": "Python 3",
      "language": "python",
      "name": "python3"
    },
    "language_info": {
      "codemirror_mode": {
        "name": "ipython",
        "version": 3
      },
      "file_extension": ".py",
      "mimetype": "text/x-python",
      "name": "python",
      "nbconvert_exporter": "python",
      "pygments_lexer": "ipython3",
      "version": "3.8.5"
    },
    "colab": {
      "provenance": [],
      "include_colab_link": true
    }
  },
  "nbformat": 4,
  "nbformat_minor": 0
}