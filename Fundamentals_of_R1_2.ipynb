{
  "nbformat": 4,
  "nbformat_minor": 0,
  "metadata": {
    "colab": {
      "provenance": [],
      "include_colab_link": true
    },
    "kernelspec": {
      "name": "ir",
      "display_name": "R"
    },
    "language_info": {
      "name": "R"
    }
  },
  "cells": [
    {
      "cell_type": "markdown",
      "metadata": {
        "id": "view-in-github",
        "colab_type": "text"
      },
      "source": [
        "<a href=\"https://colab.research.google.com/github/Rajat504/CLOUDYML/blob/main/Fundamentals_of_R1_2.ipynb\" target=\"_parent\"><img src=\"https://colab.research.google.com/assets/colab-badge.svg\" alt=\"Open In Colab\"/></a>"
      ]
    },
    {
      "cell_type": "markdown",
      "source": [
        "# R PROGRAMMING"
      ],
      "metadata": {
        "id": "bCEUMD1cyjwS"
      }
    },
    {
      "cell_type": "markdown",
      "source": [
        "### What is R used for?\n",
        "\n",
        "We use R for Data Science. It gives us a broad variety of libraries related to statistics\n",
        "\n"
      ],
      "metadata": {
        "id": "BmmAxzJryq6n"
      }
    },
    {
      "cell_type": "markdown",
      "source": [
        "# HELLO WORLD\n",
        "\n"
      ],
      "metadata": {
        "id": "QwGGEnT2zZ0L"
      }
    },
    {
      "cell_type": "markdown",
      "source": [
        "In R there are various methods to print the output. Most common method to print output in R program, there is a function called print() is used. Also if the program of R is written over the console line by line then the output is printed normally, no need to use any function for print that output. To do this just select the output variable and press run button. Example:"
      ],
      "metadata": {
        "id": "nGDbwhc-Ef4N"
      }
    },
    {
      "cell_type": "markdown",
      "source": [
        "For the HelloWorld program, we just need a print function. No need of any packages or main functions, just a simple print function is enough."
      ],
      "metadata": {
        "id": "NsuVLne3zndP"
      }
    },
    {
      "cell_type": "code",
      "source": [
        "# print Hello World\n",
        "print(\"hello world\")\n",
        "\n",
        "\n"
      ],
      "metadata": {
        "colab": {
          "base_uri": "https://localhost:8080/"
        },
        "id": "th_qw2lbztSs",
        "outputId": "e86a345e-cfef-4175-ac30-9298f231b97f"
      },
      "execution_count": null,
      "outputs": [
        {
          "output_type": "stream",
          "name": "stdout",
          "text": [
            "[1] \"hello world\"\n"
          ]
        }
      ]
    },
    {
      "cell_type": "markdown",
      "source": [
        "print() is a function which is used to print the values on to the output screen. It also has arguments, we can use it if needed. For example, in the above program, the output is printed with quotes by default we can remove it if needed."
      ],
      "metadata": {
        "id": "PnvfKlESz6cO"
      }
    },
    {
      "cell_type": "code",
      "source": [
        "# print Hello World without quotes.\n",
        "print(\"hello world\",quote = FALSE)\n",
        "\n",
        "\n",
        "\n"
      ],
      "metadata": {
        "colab": {
          "base_uri": "https://localhost:8080/"
        },
        "id": "dDVwB5-Hz7HJ",
        "outputId": "93f637ea-b962-4a50-ee95-097286780e93"
      },
      "execution_count": null,
      "outputs": [
        {
          "output_type": "stream",
          "name": "stdout",
          "text": [
            "[1] hello world\n"
          ]
        }
      ]
    },
    {
      "cell_type": "markdown",
      "source": [
        "Print output using paste() function inside print() function\n",
        "R provides a method paste() to print output with string and variable together. This method defined inside the print() function. paste() converts its arguments to character strings."
      ],
      "metadata": {
        "id": "05_weG3XE2Sq"
      }
    },
    {
      "cell_type": "code",
      "source": [
        "# If there are more than 1 item, we can concatenate using paste()\n",
        "# print how are you using paste.\n",
        "print(paste(\"how\",\"Are\",\"You\",\"?\"))\n",
        "\n",
        "\n"
      ],
      "metadata": {
        "colab": {
          "base_uri": "https://localhost:8080/"
        },
        "id": "Phk008BsE5wg",
        "outputId": "53db84ec-9365-4f07-dfdc-05c901892d5f"
      },
      "execution_count": null,
      "outputs": [
        {
          "output_type": "stream",
          "name": "stdout",
          "text": [
            "[1] \"how Are You ?\"\n"
          ]
        }
      ]
    },
    {
      "cell_type": "markdown",
      "source": [
        "# ASSIGNMENT OPERATOR:\n",
        "R supports three ways of variable assignment:\n",
        "\n",
        "1.Using equal operator- data is copied from right to left.\n",
        "\n",
        "2.Using leftward operator- data is copied from right to left.\n",
        "\n",
        "3.Using rightward operator- data is copied from left to right.\n",
        "\n",
        "\n"
      ],
      "metadata": {
        "id": "k0x0syam04X_"
      }
    },
    {
      "cell_type": "code",
      "source": [
        "# R program to illustrate\n",
        "# Initialization of variables\n",
        "#<-\n",
        "#->\n",
        "#=\n",
        "\n",
        "\n",
        "# using equal to operator\n",
        "# print CLOUDYML\n",
        " x=\"CLOUDYML\"\n",
        " x\n",
        "\n",
        "\n",
        "# using leftward operator\n",
        "# print AKASH\n",
        "y<-\"AKASH\"\n",
        "y\n",
        "\n",
        "\n",
        "# using rightward operator\n",
        "# print CloudyML\n",
        "\"CloudyML\"->z\n",
        "z\n",
        "\n"
      ],
      "metadata": {
        "colab": {
          "base_uri": "https://localhost:8080/",
          "height": 69
        },
        "id": "MjWBPYfBPN99",
        "outputId": "38729811-f4a3-44c8-85f3-38a612ffc68d"
      },
      "execution_count": null,
      "outputs": [
        {
          "output_type": "display_data",
          "data": {
            "text/html": [
              "'CLOUDYML'"
            ],
            "text/markdown": "'CLOUDYML'",
            "text/latex": "'CLOUDYML'",
            "text/plain": [
              "[1] \"CLOUDYML\""
            ]
          },
          "metadata": {}
        },
        {
          "output_type": "display_data",
          "data": {
            "text/html": [
              "'AKASH'"
            ],
            "text/markdown": "'AKASH'",
            "text/latex": "'AKASH'",
            "text/plain": [
              "[1] \"AKASH\""
            ]
          },
          "metadata": {}
        },
        {
          "output_type": "display_data",
          "data": {
            "text/html": [
              "'CloudyML'"
            ],
            "text/markdown": "'CloudyML'",
            "text/latex": "'CloudyML'",
            "text/plain": [
              "[1] \"CloudyML\""
            ]
          },
          "metadata": {}
        }
      ]
    },
    {
      "cell_type": "code",
      "source": [
        "# Assigning values to variables\n",
        "#assign 9 to a, and 4 to b\n",
        "a<-9\n",
        "b<-4\n",
        "print(a)\n",
        "print(b)\n",
        "\n"
      ],
      "metadata": {
        "colab": {
          "base_uri": "https://localhost:8080/"
        },
        "id": "X82_llCa07YQ",
        "outputId": "92fc1200-120f-467f-8377-c9d318edaed1"
      },
      "execution_count": null,
      "outputs": [
        {
          "output_type": "stream",
          "name": "stdout",
          "text": [
            "[1] 9\n",
            "[1] 4\n"
          ]
        }
      ]
    },
    {
      "cell_type": "markdown",
      "source": [
        "# Taking Input from User\n",
        "In R language readline() method takes input in string format."
      ],
      "metadata": {
        "id": "OCQ6bDwyFOd7"
      }
    },
    {
      "cell_type": "code",
      "source": [
        "# take name from the user and then print.\n",
        "x=readline(\"Enter your Name:\")\n",
        "print(x)\n",
        "\n",
        "\n"
      ],
      "metadata": {
        "colab": {
          "base_uri": "https://localhost:8080/"
        },
        "id": "xrMp7ei-FX2Q",
        "outputId": "88325d70-0893-4361-9e39-263cccec82b3"
      },
      "execution_count": null,
      "outputs": [
        {
          "output_type": "stream",
          "name": "stdout",
          "text": [
            "Enter your Name:rajat\n",
            "[1] \"rajat\"\n"
          ]
        }
      ]
    },
    {
      "cell_type": "markdown",
      "source": [
        "By default the datatype in readline is Character, To convert the inputted value to the desired data type, there are some functions in R,\n",
        "\n",
        "\n",
        "1.as.integer(n); —> convert to integer\n",
        "\n",
        "2.as.numeric(n); —> convert to numeric type (float, double etc)\n",
        "\n",
        "3.as.complex(n); —> convert to complex number (i.e 3+2i)\n",
        "\n",
        "4.as.Date(n) —> convert to date …, etc"
      ],
      "metadata": {
        "id": "0jmYAAvsFnXE"
      }
    },
    {
      "cell_type": "code",
      "source": [
        "my.name <-readline(\"Enter Your Name:\")\n",
        "my.age <-as.integer(readline(\"Enter your Age:\"))\n",
        "# convert character into integer\n",
        "print(paste(\"Hi,\", my.name, \"next year you will be\", my.age+1, \"years old.\"))"
      ],
      "metadata": {
        "colab": {
          "base_uri": "https://localhost:8080/"
        },
        "id": "lSKo2bwFGg49",
        "outputId": "226395e9-6538-49e5-94d8-e517df30007e"
      },
      "execution_count": null,
      "outputs": [
        {
          "output_type": "stream",
          "name": "stdout",
          "text": [
            "Enter Your Name:rajat\n",
            "Enter your Age:24\n",
            "[1] \"Hi, rajat next year you will be 25 years old.\"\n"
          ]
        }
      ]
    },
    {
      "cell_type": "markdown",
      "source": [
        "# OPERATORS:\n",
        "Operators are the symbols directing the compiler to perform various kinds of operations between the operands. Operators simulate the various mathematical, logical, and decision operations performed on a set of Complex Numbers, Integers, and Numericals as input operands\n",
        "\n",
        "---\n",
        "\n"
      ],
      "metadata": {
        "id": "UO-J9vD9EDby"
      }
    },
    {
      "cell_type": "markdown",
      "source": [
        "# ARITHMETIC OPERATOR\n",
        "Arithmetic operations simulate various math operations, like addition, subtraction, multiplication, division, and modulo using the specified operator between operands, which may be either scalar values, complex numbers, or vectors. The operations are performed element-wise at the corresponding positions of the vectors."
      ],
      "metadata": {
        "id": "PUdwnDVAEJeF"
      }
    },
    {
      "cell_type": "code",
      "source": [
        "# SUM\n",
        "# sum of 2 and 20\n",
        "a=2\n",
        "b=20\n",
        "print(a+b)\n",
        "\n"
      ],
      "metadata": {
        "colab": {
          "base_uri": "https://localhost:8080/"
        },
        "id": "ZFYvgyoQEOR_",
        "outputId": "792b5604-40c2-4bfb-8f54-552753f2d4e7"
      },
      "execution_count": null,
      "outputs": [
        {
          "output_type": "stream",
          "name": "stdout",
          "text": [
            "[1] 22\n"
          ]
        }
      ]
    },
    {
      "cell_type": "code",
      "source": [
        "# SUBSTRACTION\n",
        "#difference between 20 and 2\n",
        "a=20\n",
        "b=2\n",
        "print(a-b)\n",
        "\n"
      ],
      "metadata": {
        "colab": {
          "base_uri": "https://localhost:8080/"
        },
        "id": "-M8xEHdEG5xQ",
        "outputId": "0239fc5b-2d1d-4733-92b1-066c29dfa23e"
      },
      "execution_count": null,
      "outputs": [
        {
          "output_type": "stream",
          "name": "stdout",
          "text": [
            "[1] 18\n"
          ]
        }
      ]
    },
    {
      "cell_type": "code",
      "source": [
        "#MULTIPLICATION\n",
        "# multiplication between 20 and 2.\n",
        "a=20\n",
        "b=2\n",
        "print(a*b)\n",
        "\n"
      ],
      "metadata": {
        "colab": {
          "base_uri": "https://localhost:8080/"
        },
        "id": "RPJWR1KiHF21",
        "outputId": "46485bbc-85c0-4156-efa8-bc69cd3d8255"
      },
      "execution_count": null,
      "outputs": [
        {
          "output_type": "stream",
          "name": "stdout",
          "text": [
            "[1] 40\n"
          ]
        }
      ]
    },
    {
      "cell_type": "code",
      "source": [
        "# DIVISON\n",
        "# divide 20 by 2\n",
        "a=-20\n",
        "b=2\n",
        "print(a/b)\n",
        "\n",
        "\n"
      ],
      "metadata": {
        "colab": {
          "base_uri": "https://localhost:8080/"
        },
        "id": "6vSSMa5yHT96",
        "outputId": "f11033ee-6565-49d9-abb6-ea96e4f2473a"
      },
      "execution_count": null,
      "outputs": [
        {
          "output_type": "stream",
          "name": "stdout",
          "text": [
            "[1] -10\n"
          ]
        }
      ]
    },
    {
      "cell_type": "code",
      "source": [
        "# MODULO OPERATOR: The remainder of the first operand divided by the second operand is returned.\n",
        "# 20 by2\n",
        "a=20\n",
        "b=2\n",
        "print(a%%b)\n",
        "\n"
      ],
      "metadata": {
        "colab": {
          "base_uri": "https://localhost:8080/"
        },
        "id": "PQYxscMQHd51",
        "outputId": "b04c479a-3408-486d-bdda-84ccb795f194"
      },
      "execution_count": null,
      "outputs": [
        {
          "output_type": "stream",
          "name": "stdout",
          "text": [
            "[1] 0\n"
          ]
        }
      ]
    },
    {
      "cell_type": "code",
      "source": [
        "\n",
        "# R program to illustrate\n",
        "# the use of Arithmetic operators\n",
        "a <- 333\n",
        "b <-43\n",
        "# Performing operations on Operands\n",
        "cat (\"Addition of a and b :\",376)\n",
        "cat (\"Subtraction of a and b :\",290 )\n",
        "cat (\"Multiplication of a and b :\",14319 )\n",
        "cat (\"Division of a and b :\", 7.44)\n",
        "cat (\"Modulo of a and b :\",32 )\n",
        "cat (\"Power a and b :\",29181125)"
      ],
      "metadata": {
        "colab": {
          "base_uri": "https://localhost:8080/"
        },
        "id": "LQ53jb0RJN2d",
        "outputId": "3a3918a0-b6a8-40f4-b7fa-aee27894a4c7"
      },
      "execution_count": null,
      "outputs": [
        {
          "output_type": "stream",
          "name": "stdout",
          "text": [
            "Addition of a and b : 376Subtraction of a and b : 290Multiplication of a and b : 14319Division of a and b : 7.44Modulo of a and b : 32Power a and b : 29181125"
          ]
        }
      ]
    },
    {
      "cell_type": "markdown",
      "source": [
        "# Logical Operators\n",
        "\n",
        "Logical operations simulate element-wise decision operations, based on the specified operator between the operands, which are then evaluated to either a True or False boolean value. Any non-zero integer value is considered as a TRUE value, be it a complex or real number.\n",
        "\n"
      ],
      "metadata": {
        "id": "Fu8ltnkuH9Tg"
      }
    },
    {
      "cell_type": "code",
      "source": [
        " # R program to illustrate\n",
        "# the use of Logical operators\n",
        "a <- 3\n",
        "b <-0\n",
        "print(a & b)\n",
        "print(a|b)"
      ],
      "metadata": {
        "colab": {
          "base_uri": "https://localhost:8080/"
        },
        "id": "cz2B4jHuK2H9",
        "outputId": "c8fcc7e8-3f05-4ccc-e205-17e181cbccbb"
      },
      "execution_count": null,
      "outputs": [
        {
          "output_type": "stream",
          "name": "stdout",
          "text": [
            "[1] FALSE\n",
            "[1] TRUE\n"
          ]
        }
      ]
    },
    {
      "cell_type": "code",
      "source": [
        "# AND OPERATOR\n",
        "a<-0\n",
        "b<-3\n",
        "\n",
        "# print a and b\n",
        "print(a&b)\n",
        "\n"
      ],
      "metadata": {
        "colab": {
          "base_uri": "https://localhost:8080/"
        },
        "id": "KAu62Z7fIA40",
        "outputId": "cfed5fa5-5ac8-42f8-bed8-6c91faabb8d1"
      },
      "execution_count": null,
      "outputs": [
        {
          "output_type": "stream",
          "name": "stdout",
          "text": [
            "[1] FALSE\n"
          ]
        }
      ]
    },
    {
      "cell_type": "code",
      "source": [
        "# OR OPERATOR\n",
        "a<-0\n",
        "b<-3\n",
        "\n",
        "# print a or b\n",
        "print(a|b)\n",
        "\n",
        "\n"
      ],
      "metadata": {
        "colab": {
          "base_uri": "https://localhost:8080/"
        },
        "id": "xp12KqLgJ3Gf",
        "outputId": "04090d10-ccd2-414a-c4a6-37ecae26f1f7"
      },
      "execution_count": null,
      "outputs": [
        {
          "output_type": "stream",
          "name": "stdout",
          "text": [
            "[1] TRUE\n"
          ]
        }
      ]
    },
    {
      "cell_type": "markdown",
      "source": [
        "# Relational Operators\n",
        "The relational operators carry out comparison operations between the corresponding elements of the operands. Returns a boolean TRUE value if the first operand satisfies the relation compared to the second. A TRUE value is always considered to be greater than the FALSE."
      ],
      "metadata": {
        "id": "IimGWDsVKqQL"
      }
    },
    {
      "cell_type": "code",
      "source": [
        "a <- 2989\n",
        "b <-6987\n",
        "print(a<b)\n",
        "print(a>b)\n",
        "print(a==b)"
      ],
      "metadata": {
        "colab": {
          "base_uri": "https://localhost:8080/"
        },
        "id": "VhA_HIuRKtze",
        "outputId": "68e3ea0d-a63e-4328-f2e0-c20797085d77"
      },
      "execution_count": null,
      "outputs": [
        {
          "output_type": "stream",
          "name": "stdout",
          "text": [
            "[1] TRUE\n",
            "[1] FALSE\n",
            "[1] FALSE\n"
          ]
        }
      ]
    },
    {
      "cell_type": "code",
      "source": [
        "\n",
        "# R program to illustrate\n",
        "# the use of Relational operators\n",
        "a<-3244566\n",
        "b<-908080\n",
        "# use different relational operator to display this output.\n",
        "print(a<b)\n",
        "print(a>b)\n",
        "print(a==b)"
      ],
      "metadata": {
        "colab": {
          "base_uri": "https://localhost:8080/"
        },
        "id": "uiDUfaZULLm7",
        "outputId": "bf65b13a-77c7-465c-898c-0d6f987b144c"
      },
      "execution_count": null,
      "outputs": [
        {
          "output_type": "stream",
          "name": "stdout",
          "text": [
            "[1] FALSE\n",
            "[1] TRUE\n",
            "[1] FALSE\n"
          ]
        }
      ]
    },
    {
      "cell_type": "markdown",
      "source": [
        "# DATATYPE:\n",
        "Each variable in R has an associated data type. Each data type requires different amounts of memory and has some specific operations which can be performed over it. R Programming language has the following basic data types:\n",
        "\n",
        "Basic Data Types\n",
        "1.Numeric:Set of all real numbers\n",
        "\n",
        "2.Integer: Set of all integers, Z\n",
        "\n",
        "3.Logical: TRUE and FALSE\n",
        "\n",
        "4.Complex: Set of complex numbers\n",
        "\n",
        "5.Character: “a”, “b”, “c”, …, “@”, “#”, “$”, …., “1”, “2”, …etc\n",
        "\n",
        "\n"
      ],
      "metadata": {
        "id": "EKzFV2kmL1EY"
      }
    },
    {
      "cell_type": "markdown",
      "source": [
        "### Numeric Datatype\n",
        "Decimal values are called numerics in R. It is the default data type for numbers in R. If you assign a decimal value to a variable x as follows, x will be of numeric type."
      ],
      "metadata": {
        "id": "NRxWqT3PMXAa"
      }
    },
    {
      "cell_type": "code",
      "source": [
        "# A simple R program\n",
        "# to illustrate Numeric data type\n",
        "\n",
        "# Assign a decimal value to x\n",
        "x=5.5\n",
        "\n",
        "# print the class name of variable\n",
        "print(class(x))\n",
        "\n",
        "# print the type of variable\n",
        "print(typeof(y))"
      ],
      "metadata": {
        "colab": {
          "base_uri": "https://localhost:8080/"
        },
        "id": "BChLL90qMYrX",
        "outputId": "04021c54-6c37-45f7-dd35-a7a8415a336e"
      },
      "execution_count": null,
      "outputs": [
        {
          "output_type": "stream",
          "name": "stdout",
          "text": [
            "[1] \"numeric\"\n",
            "[1] \"character\"\n"
          ]
        }
      ]
    },
    {
      "cell_type": "code",
      "source": [
        "# A simple R program\n",
        "# to illustrate Numeric data type\n",
        "\n",
        "# Assign an integer value to y\n",
        "y=6\n",
        "\n",
        "# print the class name of variable\n",
        "print(class(y))\n",
        "\n",
        "# print the type of variable\n",
        "print(typeof(y))"
      ],
      "metadata": {
        "colab": {
          "base_uri": "https://localhost:8080/"
        },
        "id": "Z9kpCdOWMcUM",
        "outputId": "3f08e050-bd16-4414-9c8e-fc7b00260504"
      },
      "execution_count": null,
      "outputs": [
        {
          "output_type": "stream",
          "name": "stdout",
          "text": [
            "[1] \"numeric\"\n",
            "[1] \"double\"\n"
          ]
        }
      ]
    },
    {
      "cell_type": "markdown",
      "source": [
        "When R stores a number in a variable, it converts the number into a “double” value or a decimal type with at least two decimal places. This means that a value such as “7” here, is stored as 7.00 with a type of double and a class of numeric. And also y is not an integer here can be confirmed with the is.integer() function."
      ],
      "metadata": {
        "id": "EL3Na4mCMlgM"
      }
    },
    {
      "cell_type": "code",
      "source": [
        "# A simple R program\n",
        "# to illustrate Numeric data type\n",
        "\n",
        "# Assign a integer value to y\n",
        "y=6\n",
        "\n",
        "# is y an integer?\n",
        "print(is.integer(y))"
      ],
      "metadata": {
        "colab": {
          "base_uri": "https://localhost:8080/"
        },
        "id": "-qC5vrycMmXd",
        "outputId": "24b8d43c-9999-4a3b-d01f-f180e7d8aaee"
      },
      "execution_count": null,
      "outputs": [
        {
          "output_type": "stream",
          "name": "stdout",
          "text": [
            "[1] FALSE\n"
          ]
        }
      ]
    },
    {
      "cell_type": "markdown",
      "source": [
        "### Integer Datatype\n",
        "R supports integer data types which are the set of all integers. You can create as well as convert a value into an integer type using the as.integer() function. You can also use the capital ‘L’ notation as a suffix to denote that a particular value is of the integer data type."
      ],
      "metadata": {
        "id": "pRrH57HtM7M3"
      }
    },
    {
      "cell_type": "code",
      "source": [
        "\n",
        "# A simple R program\n",
        "# to illustrate integer data type\n",
        "\n",
        "# Create an integer value\n",
        "x=as.integer(6)\n",
        "\n",
        "# print the class name of x\n",
        "print(class(x))\n",
        "\n",
        "# print the type of x\n",
        "print(typeof(x))\n",
        "\n",
        "# Declare an integer by appending an L suffix.\n",
        "y=6L\n",
        "\n",
        "# print the class name of y\n",
        "print(class(y))\n",
        "\n",
        "# print the type of y\n",
        "print(typeof(y))"
      ],
      "metadata": {
        "colab": {
          "base_uri": "https://localhost:8080/"
        },
        "id": "qgZW39AfM9ei",
        "outputId": "2d48e186-2409-4aba-be30-bf69f4f71bc6"
      },
      "execution_count": null,
      "outputs": [
        {
          "output_type": "stream",
          "name": "stdout",
          "text": [
            "[1] \"integer\"\n",
            "[1] \"integer\"\n",
            "[1] \"integer\"\n",
            "[1] \"integer\"\n"
          ]
        }
      ]
    },
    {
      "cell_type": "markdown",
      "source": [
        "### Logical Datatype\n",
        "R has logical data types that take either a value of true or false. A logical value is often created via a comparison between variables."
      ],
      "metadata": {
        "id": "NLmaUktlNQUB"
      }
    },
    {
      "cell_type": "code",
      "source": [
        "# A simple R program\n",
        "# to illustrate logical data type\n",
        "\n",
        "# Sample values\n",
        "x=6\n",
        "y=7\n",
        "\n",
        "# Comparing two values\n",
        "z=x>y\n",
        "\n",
        "# print the logical value\n",
        "print(z)\n",
        "\n",
        "# print the class name of z\n",
        "print(class(z))\n",
        "\n",
        "# print the type of z\n",
        "print(typeof(z))"
      ],
      "metadata": {
        "colab": {
          "base_uri": "https://localhost:8080/"
        },
        "id": "MLBlNwHsNR8w",
        "outputId": "0ec695f5-1cb8-4ce3-de5b-43185434f8af"
      },
      "execution_count": null,
      "outputs": [
        {
          "output_type": "stream",
          "name": "stdout",
          "text": [
            "[1] FALSE\n",
            "[1] \"logical\"\n",
            "[1] \"logical\"\n"
          ]
        }
      ]
    },
    {
      "cell_type": "markdown",
      "source": [
        "### Complex Datatype\n",
        "R supports complex data types that are set of all the complex numbers. The complex data type is to store numbers with an imaginary component."
      ],
      "metadata": {
        "id": "oCw0dA-jNm1I"
      }
    },
    {
      "cell_type": "code",
      "source": [
        "# A simple R program\n",
        "# to illustrate complex data type\n",
        "\n",
        "# Assign a complex value to x\n",
        "x=6+6i\n",
        "\n",
        "# print the class name of x\n",
        "print(class(x))\n",
        "\n",
        "# print the type of x\n",
        "print(typeof(x))"
      ],
      "metadata": {
        "colab": {
          "base_uri": "https://localhost:8080/"
        },
        "id": "-k3ar_nTNnzp",
        "outputId": "52225754-1d06-4bd7-8517-3cfaa478197d"
      },
      "execution_count": null,
      "outputs": [
        {
          "output_type": "stream",
          "name": "stdout",
          "text": [
            "[1] \"complex\"\n",
            "[1] \"complex\"\n"
          ]
        }
      ]
    },
    {
      "cell_type": "markdown",
      "source": [
        "### Character Datatype\n",
        "R supports character data types where you have all the alphabets and special characters. It stores character values or strings. Strings in R can contain alphabets, numbers, and symbols. The easiest way to denote that a value is of character type in R is to wrap the value inside single or double inverted commas."
      ],
      "metadata": {
        "id": "TXxIVO-LNwvQ"
      }
    },
    {
      "cell_type": "code",
      "source": [
        "# A simple R program\n",
        "# to illustrate character data type\n",
        "\n",
        "# Assign a character value to char\n",
        "x='cloudyml'\n",
        "\n",
        "# print the class name of char\n",
        "print(class(x))\n",
        "\n",
        "# print the type of char\n",
        "print(typeof(x))"
      ],
      "metadata": {
        "colab": {
          "base_uri": "https://localhost:8080/"
        },
        "id": "t4MLt90rNxzZ",
        "outputId": "93ec1eef-372c-49b4-f6a4-c2d69bcf648c"
      },
      "execution_count": null,
      "outputs": [
        {
          "output_type": "stream",
          "name": "stdout",
          "text": [
            "[1] \"character\"\n",
            "[1] \"character\"\n"
          ]
        }
      ]
    },
    {
      "cell_type": "markdown",
      "source": [
        "# ***Type verification***\n",
        "To do that, you need to use the prefix “is.” before the data type as a command. The syntax for that is, is.data_type() of the object you have to verify."
      ],
      "metadata": {
        "id": "5ho5f89HOBta"
      }
    },
    {
      "cell_type": "code",
      "source": [],
      "metadata": {
        "id": "uGQIKu2NO03N"
      },
      "execution_count": null,
      "outputs": []
    }
  ]
}