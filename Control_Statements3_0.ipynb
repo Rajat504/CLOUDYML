{
  "nbformat": 4,
  "nbformat_minor": 0,
  "metadata": {
    "colab": {
      "provenance": [],
      "include_colab_link": true
    },
    "kernelspec": {
      "name": "ir",
      "display_name": "R"
    },
    "language_info": {
      "name": "R"
    }
  },
  "cells": [
    {
      "cell_type": "markdown",
      "metadata": {
        "id": "view-in-github",
        "colab_type": "text"
      },
      "source": [
        "<a href=\"https://colab.research.google.com/github/Rajat504/CLOUDYML/blob/main/Control_Statements3_0.ipynb\" target=\"_parent\"><img src=\"https://colab.research.google.com/assets/colab-badge.svg\" alt=\"Open In Colab\"/></a>"
      ]
    },
    {
      "cell_type": "markdown",
      "source": [
        "# ADDITION OF TWO NUMBERS:\n",
        "\n",
        "We can add two vectors together using the + operator.\n",
        "\n",
        "One thing to keep in mind while adding (or other arithmetic operations) two vectors together is the recycling rule.\n",
        "\n",
        "If the two vectors are of equal length then there is no issue. But if the lengths are different, the shorter one is recycled (repeated) until its length is equal to that of the longer one.\n",
        "\n",
        "This recycling process will give a warning if the longer vector is not an integral multiple of the shorter one."
      ],
      "metadata": {
        "id": "8TQxkC0GOm2g"
      }
    },
    {
      "cell_type": "code",
      "source": [
        "x=c(3, 6, 8)\n",
        "y=c(2,9,0)\n",
        "# sum of x and y\n",
        "x+y\n",
        "#sum of x + 1    # 1 is recycled to (1,1,1)\n",
        "x+1\n",
        "#sum of x and c(1,4)   #(1,4) is recycled to (1,4,1) but warning issued\n",
        "x+c(1,4)\n"
      ],
      "metadata": {
        "colab": {
          "base_uri": "https://localhost:8080/",
          "height": 104
        },
        "id": "6TS8dFpgOrYj",
        "outputId": "92fabe09-14d3-4f2a-e987-567c34945b95"
      },
      "execution_count": 2,
      "outputs": [
        {
          "output_type": "display_data",
          "data": {
            "text/html": [
              "<style>\n",
              ".list-inline {list-style: none; margin:0; padding: 0}\n",
              ".list-inline>li {display: inline-block}\n",
              ".list-inline>li:not(:last-child)::after {content: \"\\00b7\"; padding: 0 .5ex}\n",
              "</style>\n",
              "<ol class=list-inline><li>5</li><li>15</li><li>8</li></ol>\n"
            ],
            "text/markdown": "1. 5\n2. 15\n3. 8\n\n\n",
            "text/latex": "\\begin{enumerate*}\n\\item 5\n\\item 15\n\\item 8\n\\end{enumerate*}\n",
            "text/plain": [
              "[1]  5 15  8"
            ]
          },
          "metadata": {}
        },
        {
          "output_type": "display_data",
          "data": {
            "text/html": [
              "<style>\n",
              ".list-inline {list-style: none; margin:0; padding: 0}\n",
              ".list-inline>li {display: inline-block}\n",
              ".list-inline>li:not(:last-child)::after {content: \"\\00b7\"; padding: 0 .5ex}\n",
              "</style>\n",
              "<ol class=list-inline><li>4</li><li>7</li><li>9</li></ol>\n"
            ],
            "text/markdown": "1. 4\n2. 7\n3. 9\n\n\n",
            "text/latex": "\\begin{enumerate*}\n\\item 4\n\\item 7\n\\item 9\n\\end{enumerate*}\n",
            "text/plain": [
              "[1] 4 7 9"
            ]
          },
          "metadata": {}
        },
        {
          "output_type": "stream",
          "name": "stderr",
          "text": [
            "Warning message in x + c(1, 4):\n",
            "“longer object length is not a multiple of shorter object length”\n"
          ]
        },
        {
          "output_type": "display_data",
          "data": {
            "text/html": [
              "<style>\n",
              ".list-inline {list-style: none; margin:0; padding: 0}\n",
              ".list-inline>li {display: inline-block}\n",
              ".list-inline>li:not(:last-child)::after {content: \"\\00b7\"; padding: 0 .5ex}\n",
              "</style>\n",
              "<ol class=list-inline><li>4</li><li>10</li><li>9</li></ol>\n"
            ],
            "text/markdown": "1. 4\n2. 10\n3. 9\n\n\n",
            "text/latex": "\\begin{enumerate*}\n\\item 4\n\\item 10\n\\item 9\n\\end{enumerate*}\n",
            "text/plain": [
              "[1]  4 10  9"
            ]
          },
          "metadata": {}
        }
      ]
    },
    {
      "cell_type": "markdown",
      "source": [
        "As we can see above the two vectors x and y are of equal length so they can be added together without difficulty.\n",
        "\n",
        "The expression x + 1 also works fine because the single 1 is recycled into a vector of three 1's.\n",
        "\n",
        "Similarly, in the last example, a two element vector is recycled into a three element vector. But a warning is issued in this case as 3 is not an integral multiple of 2."
      ],
      "metadata": {
        "id": "mrYziU3BPKn6"
      }
    },
    {
      "cell_type": "markdown",
      "source": [
        "# Find Sum, Mean and Product of Vector in R Programming"
      ],
      "metadata": {
        "id": "X1dHtdsxPVWN"
      }
    },
    {
      "cell_type": "code",
      "source": [
        "# sum of (2,7,5)\n",
        "sum(2,7,5)\n",
        "x=c(2, NA , 3 , 1,  4)\n",
        "    # if any element is NA or NaN, result is NA or NaN\n",
        "sum(x)\n",
        "sum(x, na.rm=TRUE)    # this way we can ignore NA and NaN values\n",
        "#mean of x\n",
        "x=c(2, NA , 3 , 1,  4)\n",
        "mean (x, na.rm=TRUE)\n",
        "# product of x\n",
        "x=c(2, NA , 3 , 1,  4)\n",
        "prod(x, na.rm=TRUE)"
      ],
      "metadata": {
        "colab": {
          "base_uri": "https://localhost:8080/",
          "height": 104
        },
        "id": "XFKtrSc3PYis",
        "outputId": "1c84dd96-15ae-46c0-edef-2ca3913fe03f"
      },
      "execution_count": 3,
      "outputs": [
        {
          "output_type": "display_data",
          "data": {
            "text/html": [
              "14"
            ],
            "text/markdown": "14",
            "text/latex": "14",
            "text/plain": [
              "[1] 14"
            ]
          },
          "metadata": {}
        },
        {
          "output_type": "display_data",
          "data": {
            "text/html": [
              "&lt;NA&gt;"
            ],
            "text/markdown": "&lt;NA&gt;",
            "text/latex": "<NA>",
            "text/plain": [
              "[1] NA"
            ]
          },
          "metadata": {}
        },
        {
          "output_type": "display_data",
          "data": {
            "text/html": [
              "10"
            ],
            "text/markdown": "10",
            "text/latex": "10",
            "text/plain": [
              "[1] 10"
            ]
          },
          "metadata": {}
        },
        {
          "output_type": "display_data",
          "data": {
            "text/html": [
              "2.5"
            ],
            "text/markdown": "2.5",
            "text/latex": "2.5",
            "text/plain": [
              "[1] 2.5"
            ]
          },
          "metadata": {}
        },
        {
          "output_type": "display_data",
          "data": {
            "text/html": [
              "24"
            ],
            "text/markdown": "24",
            "text/latex": "24",
            "text/plain": [
              "[1] 24"
            ]
          },
          "metadata": {}
        }
      ]
    },
    {
      "cell_type": "markdown",
      "source": [
        "Whenever a vector contains NA (Not Available) or NaN (Not a Number), functions such as sum(), mean(), prod() etc. produce NA or NaN respectively.\n",
        "\n",
        "In order to ignore such values, we pass in the argument na.rm = TRUE."
      ],
      "metadata": {
        "id": "76zatnvzPyJr"
      }
    },
    {
      "cell_type": "markdown",
      "source": [
        "# R Program to Find the Factorial of a Number\n"
      ],
      "metadata": {
        "id": "sIgbq_5eQIWW"
      }
    },
    {
      "cell_type": "code",
      "source": [
        "# take input from the user\n",
        "num = as.integer(readline(prompt=\"Enter a number: \"))\n",
        "factorial = 1\n",
        "# check, is the number is negative, positive or zero\n",
        "if(num < 0) {\n",
        "  print('Sorry, factorial does not exist for negative numbers.')\n",
        "} else if(num == 0) {\n",
        "  print('The factorial is 1.')\n",
        "} else {\n",
        "  for(i in 1:num) {\n",
        "    factorial = factorial * i\n",
        "  }\n",
        "print(paste(\"The factorial of\", num ,\"is\",factorial))\n",
        "}\n"
      ],
      "metadata": {
        "colab": {
          "base_uri": "https://localhost:8080/"
        },
        "id": "y2fYhUopQKCe",
        "outputId": "a0164cff-99ec-4a48-e7e6-bc12b7794c72"
      },
      "execution_count": 4,
      "outputs": [
        {
          "output_type": "stream",
          "name": "stdout",
          "text": [
            "Enter a number: 4\n",
            "[1] \"The factorial of 4 is 24\"\n"
          ]
        }
      ]
    },
    {
      "cell_type": "markdown",
      "source": [
        "Here, we take input from the user and check if the number is negative, zero or positive using if...else statement.\n",
        "\n",
        "If the number is positive, we use for loop to calculate the factorial.\n",
        "\n",
        "We can also use the built-in function factorial() for this."
      ],
      "metadata": {
        "id": "7HDe2gs6Rmnl"
      }
    },
    {
      "cell_type": "code",
      "source": [
        "factorial(4)"
      ],
      "metadata": {
        "colab": {
          "base_uri": "https://localhost:8080/",
          "height": 34
        },
        "id": "7bdaEr1xQPa3",
        "outputId": "f5409192-ebe0-40d6-c402-80884239ef8c"
      },
      "execution_count": null,
      "outputs": [
        {
          "output_type": "display_data",
          "data": {
            "text/html": [
              "24"
            ],
            "text/markdown": "24",
            "text/latex": "24",
            "text/plain": [
              "[1] 24"
            ]
          },
          "metadata": {}
        }
      ]
    },
    {
      "cell_type": "markdown",
      "source": [
        "# Check Prime Number"
      ],
      "metadata": {
        "id": "FXRXeQ0nR1kA"
      }
    },
    {
      "cell_type": "code",
      "source": [
        "# Program to check if the input number is prime or not\n",
        "# take input from the user\n",
        "num = as.integer(readline(prompt=\"Enter a number: \"))\n",
        "flag = 0\n",
        "# prime numbers are greater than 1\n",
        "if(num>1){\n",
        "  flag=1\n",
        "  for(i in 2:(num-1)){\n",
        "    if((num%%i)==0){\n",
        "      flag=0\n",
        "      break\n",
        "    }\n",
        "  }\n",
        "}\n",
        "if(num==2)flag=1\n",
        "if(flag==1){\n",
        "  print(paste(num,\"is prime\"))\n",
        "}else{\n",
        "  print(paste(num,\"is not prime\"))\n",
        "}\n",
        "# check for factors\n"
      ],
      "metadata": {
        "colab": {
          "base_uri": "https://localhost:8080/"
        },
        "id": "toP_zZXkR2qY",
        "outputId": "ac4c921f-da57-40d5-db9c-e20adb91f5a8"
      },
      "execution_count": 5,
      "outputs": [
        {
          "output_type": "stream",
          "name": "stdout",
          "text": [
            "Enter a number: 7\n",
            "[1] \"7 is prime\"\n"
          ]
        }
      ]
    },
    {
      "cell_type": "markdown",
      "source": [
        "#  Check Leap Year\n"
      ],
      "metadata": {
        "id": "2FTKMRCOSbX-"
      }
    },
    {
      "cell_type": "code",
      "source": [
        " # Program to check if the input year is a leap year or not\n",
        "year = as.integer(readline(prompt=\"Enter a year: \"))\n",
        "if((year%%4)==0){\n",
        "  if((year%%100)==0){\n",
        "    if((year%%400)==0){\n",
        "      print(paste(year,\"leap year\"))\n",
        "    }else{\n",
        "       print(paste(year,\"is not a leap year\"))\n",
        "}\n",
        "  }else{\n",
        "    print(paste(year,\"leap year\"))\n",
        "  }\n",
        "}else{\n",
        "   print(paste(year,\" is not a leap year\"))\n",
        "}\n",
        "\n",
        "\n"
      ],
      "metadata": {
        "colab": {
          "base_uri": "https://localhost:8080/"
        },
        "id": "f__RgiM4SfMT",
        "outputId": "51be186b-0be4-44ec-dfc2-332b862dfb70"
      },
      "execution_count": 1,
      "outputs": [
        {
          "output_type": "stream",
          "name": "stdout",
          "text": [
            "Enter a year: 1996\n",
            "[1] \"1996 leap year\"\n"
          ]
        }
      ]
    },
    {
      "cell_type": "markdown",
      "source": [
        "# Check if a Number is Odd or Even\n"
      ],
      "metadata": {
        "id": "uidGqxCrSpyK"
      }
    },
    {
      "cell_type": "code",
      "source": [
        "# Program to check if the input number is odd or even.\n",
        "# A number is even if division by 2 give a remainder of 0.\n",
        "# If remainder is 1, it is odd.\n",
        "num = as.integer(readline(prompt=\"Enter a number: \"))\n",
        "# Check if the number is odd or even\n",
        "if (num %% 2 == 0) {\n",
        "  print(paste(num, \"is an even number.\"))\n",
        "} else {\n",
        "  print(paste(num, \"is an odd number.\"))\n",
        "}\n",
        "\n",
        "\n"
      ],
      "metadata": {
        "colab": {
          "base_uri": "https://localhost:8080/"
        },
        "id": "_7R_6vUfSr81",
        "outputId": "add66021-4789-4c54-903a-755bf5db2517"
      },
      "execution_count": 7,
      "outputs": [
        {
          "output_type": "stream",
          "name": "stdout",
          "text": [
            "Enter a number: 35\n",
            "[1] \"35 is an odd number.\"\n"
          ]
        }
      ]
    },
    {
      "cell_type": "markdown",
      "source": [
        "# Check Positive, Negative or Zero"
      ],
      "metadata": {
        "id": "YX87a58jS3S3"
      }
    },
    {
      "cell_type": "code",
      "source": [
        "# In this program, we input a number check if the number is positive or negative or zero\n",
        "num = as.double(readline(prompt=\"Enter a number: \"))\n",
        "if(num > 0) {\n",
        "  print(paste(num, \"is a positive number.\"))\n",
        "} else if (num < 0) {\n",
        "  print(paste(num, \"is a negative number.\"))\n",
        "} else {\n",
        "  print(\"The number is zero.\")\n",
        "}\n",
        "\n",
        "\n"
      ],
      "metadata": {
        "colab": {
          "base_uri": "https://localhost:8080/"
        },
        "id": "iRm-bqLlS4k6",
        "outputId": "c103fee6-6d73-4c8c-82bd-737b614edc3b"
      },
      "execution_count": 9,
      "outputs": [
        {
          "output_type": "stream",
          "name": "stdout",
          "text": [
            "Enter a number: 0\n",
            "[1] \"The number is zero.\"\n"
          ]
        }
      ]
    },
    {
      "cell_type": "code",
      "source": [],
      "metadata": {
        "id": "QFKYkIXITQwA"
      },
      "execution_count": null,
      "outputs": []
    }
  ]
}