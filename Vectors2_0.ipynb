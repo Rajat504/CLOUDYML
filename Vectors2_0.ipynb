{
  "nbformat": 4,
  "nbformat_minor": 0,
  "metadata": {
    "colab": {
      "provenance": [],
      "include_colab_link": true
    },
    "kernelspec": {
      "name": "ir",
      "display_name": "R"
    },
    "language_info": {
      "name": "R"
    }
  },
  "cells": [
    {
      "cell_type": "markdown",
      "metadata": {
        "id": "view-in-github",
        "colab_type": "text"
      },
      "source": [
        "<a href=\"https://colab.research.google.com/github/Rajat504/CLOUDYML/blob/main/Vectors2_0.ipynb\" target=\"_parent\"><img src=\"https://colab.research.google.com/assets/colab-badge.svg\" alt=\"Open In Colab\"/></a>"
      ]
    },
    {
      "cell_type": "markdown",
      "source": [
        "# **VECTORS:**\n",
        "Vectors in R are the same as the arrays in C language which are used to hold multiple data values of the same type. One major key point is that in R the indexing of the vector will start from ‘1’ and not from ‘0’. We can create numeric vectors and character vectors as well.\n",
        "\n",
        "Vectors are of different types which are used in R. Following are some of the types of vectors:\n",
        "\n",
        "1. Numeric Vector\n",
        "\n",
        "2. Character Vector\n",
        "\n",
        "3. Logical Vector\n",
        "\n"
      ],
      "metadata": {
        "id": "4Py8EQNPQ2bq"
      }
    },
    {
      "cell_type": "markdown",
      "source": [
        "### Numeric vectors\n",
        "Numeric vectors are those which contain numeric values such as integer, float, etc."
      ],
      "metadata": {
        "id": "KoSR4zFzRcC7"
      }
    },
    {
      "cell_type": "code",
      "source": [
        "# R program to create numeric Vectors\n",
        "\n",
        "# creation of vectors using c() function.\n",
        "v1<-c(4,5,6,7)\n",
        "\n",
        "# display type of vector\n",
        "typeof(v1)\n",
        "\n",
        "# by using 'L' we can specify that we want integer values.\n",
        "v1<-c(4L,5L,6L,7L)\n",
        "\n",
        "# display type of vector\n",
        "typeof(v1)"
      ],
      "metadata": {
        "colab": {
          "base_uri": "https://localhost:8080/",
          "height": 52
        },
        "id": "ISpXZXR8RdOH",
        "outputId": "455ec805-b1e8-4393-e732-b5d9d451d493"
      },
      "execution_count": 3,
      "outputs": [
        {
          "output_type": "display_data",
          "data": {
            "text/html": [
              "'double'"
            ],
            "text/markdown": "'double'",
            "text/latex": "'double'",
            "text/plain": [
              "[1] \"double\""
            ]
          },
          "metadata": {}
        },
        {
          "output_type": "display_data",
          "data": {
            "text/html": [
              "'integer'"
            ],
            "text/markdown": "'integer'",
            "text/latex": "'integer'",
            "text/plain": [
              "[1] \"integer\""
            ]
          },
          "metadata": {}
        }
      ]
    },
    {
      "cell_type": "markdown",
      "source": [
        "### Character vectors\n",
        "Character vectors contain alphanumeric values and special characters."
      ],
      "metadata": {
        "id": "M7P5vLYpRuon"
      }
    },
    {
      "cell_type": "code",
      "source": [
        "# R program to create Character Vectors\n",
        "\n",
        "# by default numeric values\n",
        "# are converted into characters\n",
        "v1<-c('cloudyml','2','Akash')\n",
        "\n",
        "# Displaying type of vector\n",
        "typeof(v1)"
      ],
      "metadata": {
        "colab": {
          "base_uri": "https://localhost:8080/",
          "height": 34
        },
        "id": "Vp9ywjrwRwsN",
        "outputId": "48fcf36c-fd91-4346-c435-5327604735d6"
      },
      "execution_count": 5,
      "outputs": [
        {
          "output_type": "display_data",
          "data": {
            "text/html": [
              "'character'"
            ],
            "text/markdown": "'character'",
            "text/latex": "'character'",
            "text/plain": [
              "[1] \"character\""
            ]
          },
          "metadata": {}
        }
      ]
    },
    {
      "cell_type": "markdown",
      "source": [
        "### Logical vectors\n",
        "Logical vectors contain boolean values such as TRUE, FALSE and NA for Null values."
      ],
      "metadata": {
        "id": "E1l87Z85SBQ9"
      }
    },
    {
      "cell_type": "code",
      "source": [
        "# R program to create Logical Vectors\n",
        "\n",
        "# Creating logical vector\n",
        "# using c() function\n",
        "v1<-c(TRUE,FALSE,TRUE)\n",
        "\n",
        "# Displaying type of vector\n",
        "typeof(v1)"
      ],
      "metadata": {
        "colab": {
          "base_uri": "https://localhost:8080/",
          "height": 34
        },
        "id": "c9tdGXnuSEu-",
        "outputId": "aa3cfb9a-4612-4d11-c4f4-bba318fdcf24"
      },
      "execution_count": 6,
      "outputs": [
        {
          "output_type": "display_data",
          "data": {
            "text/html": [
              "'logical'"
            ],
            "text/markdown": "'logical'",
            "text/latex": "'logical'",
            "text/plain": [
              "[1] \"logical\""
            ]
          },
          "metadata": {}
        }
      ]
    },
    {
      "cell_type": "markdown",
      "source": [
        "# HOW TO CREATE A VECTOR?"
      ],
      "metadata": {
        "id": "dUoz3pJySPiS"
      }
    },
    {
      "cell_type": "markdown",
      "source": [
        "1.  Numerical Sequence using :\n",
        "\n",
        "2. Using  c()\n",
        "\n",
        "3.  INBUILT FUNCTION- seq\n"
      ],
      "metadata": {
        "id": "iRdAE05ASpqg"
      }
    },
    {
      "cell_type": "code",
      "source": [
        "# R program to create Vectors\n",
        "\n",
        "# we can use the c function\n",
        "# to combine the values as a vector.\n",
        "# By default the type will be double\n",
        "v=c(1,2,3,4)\n",
        "v\n",
        "\n",
        "# seq() function for creating\n",
        "# a sequence of continuous values.\n",
        "# length.out defines the length of vector.\n",
        "v2=seq(from = 1,to=10,by = 2.5)\n",
        "v2\n",
        "\n",
        "# use':' to create a vector\n",
        "# of continuous values.\n",
        "v3=2:7\n",
        "v3"
      ],
      "metadata": {
        "colab": {
          "base_uri": "https://localhost:8080/",
          "height": 69
        },
        "id": "dBAsagPhTIxm",
        "outputId": "daf1df8d-f081-4925-997d-43bc7b40eb1c"
      },
      "execution_count": 10,
      "outputs": [
        {
          "output_type": "display_data",
          "data": {
            "text/html": [
              "<style>\n",
              ".list-inline {list-style: none; margin:0; padding: 0}\n",
              ".list-inline>li {display: inline-block}\n",
              ".list-inline>li:not(:last-child)::after {content: \"\\00b7\"; padding: 0 .5ex}\n",
              "</style>\n",
              "<ol class=list-inline><li>1</li><li>2</li><li>3</li><li>4</li></ol>\n"
            ],
            "text/markdown": "1. 1\n2. 2\n3. 3\n4. 4\n\n\n",
            "text/latex": "\\begin{enumerate*}\n\\item 1\n\\item 2\n\\item 3\n\\item 4\n\\end{enumerate*}\n",
            "text/plain": [
              "[1] 1 2 3 4"
            ]
          },
          "metadata": {}
        },
        {
          "output_type": "display_data",
          "data": {
            "text/html": [
              "<style>\n",
              ".list-inline {list-style: none; margin:0; padding: 0}\n",
              ".list-inline>li {display: inline-block}\n",
              ".list-inline>li:not(:last-child)::after {content: \"\\00b7\"; padding: 0 .5ex}\n",
              "</style>\n",
              "<ol class=list-inline><li>1</li><li>3.5</li><li>6</li><li>8.5</li></ol>\n"
            ],
            "text/markdown": "1. 1\n2. 3.5\n3. 6\n4. 8.5\n\n\n",
            "text/latex": "\\begin{enumerate*}\n\\item 1\n\\item 3.5\n\\item 6\n\\item 8.5\n\\end{enumerate*}\n",
            "text/plain": [
              "[1] 1.0 3.5 6.0 8.5"
            ]
          },
          "metadata": {}
        },
        {
          "output_type": "display_data",
          "data": {
            "text/html": [
              "<style>\n",
              ".list-inline {list-style: none; margin:0; padding: 0}\n",
              ".list-inline>li {display: inline-block}\n",
              ".list-inline>li:not(:last-child)::after {content: \"\\00b7\"; padding: 0 .5ex}\n",
              "</style>\n",
              "<ol class=list-inline><li>2</li><li>3</li><li>4</li><li>5</li><li>6</li><li>7</li></ol>\n"
            ],
            "text/markdown": "1. 2\n2. 3\n3. 4\n4. 5\n5. 6\n6. 7\n\n\n",
            "text/latex": "\\begin{enumerate*}\n\\item 2\n\\item 3\n\\item 4\n\\item 5\n\\item 6\n\\item 7\n\\end{enumerate*}\n",
            "text/plain": [
              "[1] 2 3 4 5 6 7"
            ]
          },
          "metadata": {}
        }
      ]
    },
    {
      "cell_type": "code",
      "source": [
        "\n",
        "# how we can go from 100 to 0 by the step size of 10?\n",
        "v=seq(100,0,-10)\n",
        "v\n",
        "typeof(v)\n",
        "is.vector(v)\n",
        "# even number till 100\n",
        "v=seq(0,100,2)\n",
        "v\n",
        "\n",
        "\n",
        "# 50 to 500 with the difference of 50\n",
        "v=seq(50,500,50)\n",
        "v\n"
      ],
      "metadata": {
        "colab": {
          "base_uri": "https://localhost:8080/",
          "height": 104
        },
        "id": "sA2fEyXaUore",
        "outputId": "c7f0d231-63ce-4373-c85d-c6f975be7cf0"
      },
      "execution_count": 16,
      "outputs": [
        {
          "output_type": "display_data",
          "data": {
            "text/html": [
              "<style>\n",
              ".list-inline {list-style: none; margin:0; padding: 0}\n",
              ".list-inline>li {display: inline-block}\n",
              ".list-inline>li:not(:last-child)::after {content: \"\\00b7\"; padding: 0 .5ex}\n",
              "</style>\n",
              "<ol class=list-inline><li>100</li><li>90</li><li>80</li><li>70</li><li>60</li><li>50</li><li>40</li><li>30</li><li>20</li><li>10</li><li>0</li></ol>\n"
            ],
            "text/markdown": "1. 100\n2. 90\n3. 80\n4. 70\n5. 60\n6. 50\n7. 40\n8. 30\n9. 20\n10. 10\n11. 0\n\n\n",
            "text/latex": "\\begin{enumerate*}\n\\item 100\n\\item 90\n\\item 80\n\\item 70\n\\item 60\n\\item 50\n\\item 40\n\\item 30\n\\item 20\n\\item 10\n\\item 0\n\\end{enumerate*}\n",
            "text/plain": [
              " [1] 100  90  80  70  60  50  40  30  20  10   0"
            ]
          },
          "metadata": {}
        },
        {
          "output_type": "display_data",
          "data": {
            "text/html": [
              "'double'"
            ],
            "text/markdown": "'double'",
            "text/latex": "'double'",
            "text/plain": [
              "[1] \"double\""
            ]
          },
          "metadata": {}
        },
        {
          "output_type": "display_data",
          "data": {
            "text/html": [
              "TRUE"
            ],
            "text/markdown": "TRUE",
            "text/latex": "TRUE",
            "text/plain": [
              "[1] TRUE"
            ]
          },
          "metadata": {}
        },
        {
          "output_type": "display_data",
          "data": {
            "text/html": [
              "<style>\n",
              ".list-inline {list-style: none; margin:0; padding: 0}\n",
              ".list-inline>li {display: inline-block}\n",
              ".list-inline>li:not(:last-child)::after {content: \"\\00b7\"; padding: 0 .5ex}\n",
              "</style>\n",
              "<ol class=list-inline><li>0</li><li>2</li><li>4</li><li>6</li><li>8</li><li>10</li><li>12</li><li>14</li><li>16</li><li>18</li><li>20</li><li>22</li><li>24</li><li>26</li><li>28</li><li>30</li><li>32</li><li>34</li><li>36</li><li>38</li><li>40</li><li>42</li><li>44</li><li>46</li><li>48</li><li>50</li><li>52</li><li>54</li><li>56</li><li>58</li><li>60</li><li>62</li><li>64</li><li>66</li><li>68</li><li>70</li><li>72</li><li>74</li><li>76</li><li>78</li><li>80</li><li>82</li><li>84</li><li>86</li><li>88</li><li>90</li><li>92</li><li>94</li><li>96</li><li>98</li><li>100</li></ol>\n"
            ],
            "text/markdown": "1. 0\n2. 2\n3. 4\n4. 6\n5. 8\n6. 10\n7. 12\n8. 14\n9. 16\n10. 18\n11. 20\n12. 22\n13. 24\n14. 26\n15. 28\n16. 30\n17. 32\n18. 34\n19. 36\n20. 38\n21. 40\n22. 42\n23. 44\n24. 46\n25. 48\n26. 50\n27. 52\n28. 54\n29. 56\n30. 58\n31. 60\n32. 62\n33. 64\n34. 66\n35. 68\n36. 70\n37. 72\n38. 74\n39. 76\n40. 78\n41. 80\n42. 82\n43. 84\n44. 86\n45. 88\n46. 90\n47. 92\n48. 94\n49. 96\n50. 98\n51. 100\n\n\n",
            "text/latex": "\\begin{enumerate*}\n\\item 0\n\\item 2\n\\item 4\n\\item 6\n\\item 8\n\\item 10\n\\item 12\n\\item 14\n\\item 16\n\\item 18\n\\item 20\n\\item 22\n\\item 24\n\\item 26\n\\item 28\n\\item 30\n\\item 32\n\\item 34\n\\item 36\n\\item 38\n\\item 40\n\\item 42\n\\item 44\n\\item 46\n\\item 48\n\\item 50\n\\item 52\n\\item 54\n\\item 56\n\\item 58\n\\item 60\n\\item 62\n\\item 64\n\\item 66\n\\item 68\n\\item 70\n\\item 72\n\\item 74\n\\item 76\n\\item 78\n\\item 80\n\\item 82\n\\item 84\n\\item 86\n\\item 88\n\\item 90\n\\item 92\n\\item 94\n\\item 96\n\\item 98\n\\item 100\n\\end{enumerate*}\n",
            "text/plain": [
              " [1]   0   2   4   6   8  10  12  14  16  18  20  22  24  26  28  30  32  34  36\n",
              "[20]  38  40  42  44  46  48  50  52  54  56  58  60  62  64  66  68  70  72  74\n",
              "[39]  76  78  80  82  84  86  88  90  92  94  96  98 100"
            ]
          },
          "metadata": {}
        },
        {
          "output_type": "display_data",
          "data": {
            "text/html": [
              "<style>\n",
              ".list-inline {list-style: none; margin:0; padding: 0}\n",
              ".list-inline>li {display: inline-block}\n",
              ".list-inline>li:not(:last-child)::after {content: \"\\00b7\"; padding: 0 .5ex}\n",
              "</style>\n",
              "<ol class=list-inline><li>50</li><li>100</li><li>150</li><li>200</li><li>250</li><li>300</li><li>350</li><li>400</li><li>450</li><li>500</li></ol>\n"
            ],
            "text/markdown": "1. 50\n2. 100\n3. 150\n4. 200\n5. 250\n6. 300\n7. 350\n8. 400\n9. 450\n10. 500\n\n\n",
            "text/latex": "\\begin{enumerate*}\n\\item 50\n\\item 100\n\\item 150\n\\item 200\n\\item 250\n\\item 300\n\\item 350\n\\item 400\n\\item 450\n\\item 500\n\\end{enumerate*}\n",
            "text/plain": [
              " [1]  50 100 150 200 250 300 350 400 450 500"
            ]
          },
          "metadata": {}
        }
      ]
    },
    {
      "cell_type": "markdown",
      "source": [
        "# VECTOR OPERATIONS.\n",
        "\n"
      ],
      "metadata": {
        "id": "kUf525QJUQWQ"
      }
    },
    {
      "cell_type": "code",
      "source": [
        "# 1.Length(): Returns total elements inside the vector\n",
        "vec=2:26\n",
        "length(vec)\n",
        "print(paste(\"the length of the vector is\",length(vec)))"
      ],
      "metadata": {
        "colab": {
          "base_uri": "https://localhost:8080/",
          "height": 52
        },
        "id": "N9OiUosJVpu6",
        "outputId": "5622a062-05d1-4e1b-ebde-bba0a442a9ec"
      },
      "execution_count": 17,
      "outputs": [
        {
          "output_type": "display_data",
          "data": {
            "text/html": [
              "25"
            ],
            "text/markdown": "25",
            "text/latex": "25",
            "text/plain": [
              "[1] 25"
            ]
          },
          "metadata": {}
        },
        {
          "output_type": "stream",
          "name": "stdout",
          "text": [
            "[1] \"the length of the vector is 25\"\n"
          ]
        }
      ]
    },
    {
      "cell_type": "code",
      "source": [
        "#2. Indexing- Return the element at integer position number, Index starts from 1 in R\n",
        "# IN R, we only read from LHS to RHS, hence negative index is not here.\n",
        "# VecNAME[Position]\n",
        "vec=seq(3,30,3)\n",
        "vec\n",
        "#read the 2nd element\n",
        "vec[2]\n",
        "#read the 1st element\n",
        "vec[1]"
      ],
      "metadata": {
        "colab": {
          "base_uri": "https://localhost:8080/",
          "height": 69
        },
        "id": "fN3ZjgfsV2KS",
        "outputId": "983245b3-b331-498b-bfdd-8f73c7a90f9e"
      },
      "execution_count": 19,
      "outputs": [
        {
          "output_type": "display_data",
          "data": {
            "text/html": [
              "<style>\n",
              ".list-inline {list-style: none; margin:0; padding: 0}\n",
              ".list-inline>li {display: inline-block}\n",
              ".list-inline>li:not(:last-child)::after {content: \"\\00b7\"; padding: 0 .5ex}\n",
              "</style>\n",
              "<ol class=list-inline><li>3</li><li>6</li><li>9</li><li>12</li><li>15</li><li>18</li><li>21</li><li>24</li><li>27</li><li>30</li></ol>\n"
            ],
            "text/markdown": "1. 3\n2. 6\n3. 9\n4. 12\n5. 15\n6. 18\n7. 21\n8. 24\n9. 27\n10. 30\n\n\n",
            "text/latex": "\\begin{enumerate*}\n\\item 3\n\\item 6\n\\item 9\n\\item 12\n\\item 15\n\\item 18\n\\item 21\n\\item 24\n\\item 27\n\\item 30\n\\end{enumerate*}\n",
            "text/plain": [
              " [1]  3  6  9 12 15 18 21 24 27 30"
            ]
          },
          "metadata": {}
        },
        {
          "output_type": "display_data",
          "data": {
            "text/html": [
              "6"
            ],
            "text/markdown": "6",
            "text/latex": "6",
            "text/plain": [
              "[1] 6"
            ]
          },
          "metadata": {}
        },
        {
          "output_type": "display_data",
          "data": {
            "text/html": [
              "3"
            ],
            "text/markdown": "3",
            "text/latex": "3",
            "text/plain": [
              "[1] 3"
            ]
          },
          "metadata": {}
        }
      ]
    },
    {
      "cell_type": "code",
      "source": [
        "# 3.SliCing- extract a chunk of vector from a vector\n",
        "# vecNAME[Start:End], here both the start and end is inclusive.\n",
        "vec=seq(20,400,20)\n",
        "vec\n",
        "\n",
        "# 1st 4 elements of the vector\n",
        "\n",
        "vec[1:4]\n",
        "#reverse the elements.\n",
        "vec[length(vec):1]\n"
      ],
      "metadata": {
        "colab": {
          "base_uri": "https://localhost:8080/",
          "height": 69
        },
        "id": "J2Ds1_YYWWvl",
        "outputId": "c0a1267d-4ac0-4c03-b0dc-a00bf9b33be4"
      },
      "execution_count": 21,
      "outputs": [
        {
          "output_type": "display_data",
          "data": {
            "text/html": [
              "<style>\n",
              ".list-inline {list-style: none; margin:0; padding: 0}\n",
              ".list-inline>li {display: inline-block}\n",
              ".list-inline>li:not(:last-child)::after {content: \"\\00b7\"; padding: 0 .5ex}\n",
              "</style>\n",
              "<ol class=list-inline><li>20</li><li>40</li><li>60</li><li>80</li><li>100</li><li>120</li><li>140</li><li>160</li><li>180</li><li>200</li><li>220</li><li>240</li><li>260</li><li>280</li><li>300</li><li>320</li><li>340</li><li>360</li><li>380</li><li>400</li></ol>\n"
            ],
            "text/markdown": "1. 20\n2. 40\n3. 60\n4. 80\n5. 100\n6. 120\n7. 140\n8. 160\n9. 180\n10. 200\n11. 220\n12. 240\n13. 260\n14. 280\n15. 300\n16. 320\n17. 340\n18. 360\n19. 380\n20. 400\n\n\n",
            "text/latex": "\\begin{enumerate*}\n\\item 20\n\\item 40\n\\item 60\n\\item 80\n\\item 100\n\\item 120\n\\item 140\n\\item 160\n\\item 180\n\\item 200\n\\item 220\n\\item 240\n\\item 260\n\\item 280\n\\item 300\n\\item 320\n\\item 340\n\\item 360\n\\item 380\n\\item 400\n\\end{enumerate*}\n",
            "text/plain": [
              " [1]  20  40  60  80 100 120 140 160 180 200 220 240 260 280 300 320 340 360 380\n",
              "[20] 400"
            ]
          },
          "metadata": {}
        },
        {
          "output_type": "display_data",
          "data": {
            "text/html": [
              "<style>\n",
              ".list-inline {list-style: none; margin:0; padding: 0}\n",
              ".list-inline>li {display: inline-block}\n",
              ".list-inline>li:not(:last-child)::after {content: \"\\00b7\"; padding: 0 .5ex}\n",
              "</style>\n",
              "<ol class=list-inline><li>20</li><li>40</li><li>60</li><li>80</li></ol>\n"
            ],
            "text/markdown": "1. 20\n2. 40\n3. 60\n4. 80\n\n\n",
            "text/latex": "\\begin{enumerate*}\n\\item 20\n\\item 40\n\\item 60\n\\item 80\n\\end{enumerate*}\n",
            "text/plain": [
              "[1] 20 40 60 80"
            ]
          },
          "metadata": {}
        },
        {
          "output_type": "display_data",
          "data": {
            "text/html": [
              "<style>\n",
              ".list-inline {list-style: none; margin:0; padding: 0}\n",
              ".list-inline>li {display: inline-block}\n",
              ".list-inline>li:not(:last-child)::after {content: \"\\00b7\"; padding: 0 .5ex}\n",
              "</style>\n",
              "<ol class=list-inline><li>400</li><li>380</li><li>360</li><li>340</li><li>320</li><li>300</li><li>280</li><li>260</li><li>240</li><li>220</li><li>200</li><li>180</li><li>160</li><li>140</li><li>120</li><li>100</li><li>80</li><li>60</li><li>40</li><li>20</li></ol>\n"
            ],
            "text/markdown": "1. 400\n2. 380\n3. 360\n4. 340\n5. 320\n6. 300\n7. 280\n8. 260\n9. 240\n10. 220\n11. 200\n12. 180\n13. 160\n14. 140\n15. 120\n16. 100\n17. 80\n18. 60\n19. 40\n20. 20\n\n\n",
            "text/latex": "\\begin{enumerate*}\n\\item 400\n\\item 380\n\\item 360\n\\item 340\n\\item 320\n\\item 300\n\\item 280\n\\item 260\n\\item 240\n\\item 220\n\\item 200\n\\item 180\n\\item 160\n\\item 140\n\\item 120\n\\item 100\n\\item 80\n\\item 60\n\\item 40\n\\item 20\n\\end{enumerate*}\n",
            "text/plain": [
              " [1] 400 380 360 340 320 300 280 260 240 220 200 180 160 140 120 100  80  60  40\n",
              "[20]  20"
            ]
          },
          "metadata": {}
        }
      ]
    },
    {
      "cell_type": "code",
      "source": [
        "# read each even position number:\n",
        "vec[seq(from = 2,to=length(vec),by = 2)]\n"
      ],
      "metadata": {
        "colab": {
          "base_uri": "https://localhost:8080/",
          "height": 34
        },
        "id": "_bWavxHqXOux",
        "outputId": "703aef62-216c-4d49-8386-dde15c5ebb5b"
      },
      "execution_count": 22,
      "outputs": [
        {
          "output_type": "display_data",
          "data": {
            "text/html": [
              "<style>\n",
              ".list-inline {list-style: none; margin:0; padding: 0}\n",
              ".list-inline>li {display: inline-block}\n",
              ".list-inline>li:not(:last-child)::after {content: \"\\00b7\"; padding: 0 .5ex}\n",
              "</style>\n",
              "<ol class=list-inline><li>40</li><li>80</li><li>120</li><li>160</li><li>200</li><li>240</li><li>280</li><li>320</li><li>360</li><li>400</li></ol>\n"
            ],
            "text/markdown": "1. 40\n2. 80\n3. 120\n4. 160\n5. 200\n6. 240\n7. 280\n8. 320\n9. 360\n10. 400\n\n\n",
            "text/latex": "\\begin{enumerate*}\n\\item 40\n\\item 80\n\\item 120\n\\item 160\n\\item 200\n\\item 240\n\\item 280\n\\item 320\n\\item 360\n\\item 400\n\\end{enumerate*}\n",
            "text/plain": [
              " [1]  40  80 120 160 200 240 280 320 360 400"
            ]
          },
          "metadata": {}
        }
      ]
    },
    {
      "cell_type": "code",
      "source": [
        "# read like 80, 200, 280\n",
        "vec[c(4,10,14)]\n"
      ],
      "metadata": {
        "colab": {
          "base_uri": "https://localhost:8080/",
          "height": 34
        },
        "id": "WKB-IZwkXhzw",
        "outputId": "0944403e-f747-4a91-ce84-cbc06bef15fd"
      },
      "execution_count": 23,
      "outputs": [
        {
          "output_type": "display_data",
          "data": {
            "text/html": [
              "<style>\n",
              ".list-inline {list-style: none; margin:0; padding: 0}\n",
              ".list-inline>li {display: inline-block}\n",
              ".list-inline>li:not(:last-child)::after {content: \"\\00b7\"; padding: 0 .5ex}\n",
              "</style>\n",
              "<ol class=list-inline><li>80</li><li>200</li><li>280</li></ol>\n"
            ],
            "text/markdown": "1. 80\n2. 200\n3. 280\n\n\n",
            "text/latex": "\\begin{enumerate*}\n\\item 80\n\\item 200\n\\item 280\n\\end{enumerate*}\n",
            "text/plain": [
              "[1]  80 200 280"
            ]
          },
          "metadata": {}
        }
      ]
    },
    {
      "cell_type": "code",
      "source": [
        "# 4. UNARY operation(-): return the vector by removing the elements at that position number.\n",
        "#vecname[-position Numbers]\n",
        "vec=seq(20,200,20)\n",
        "vec\n",
        "# remove the 1st\n",
        "vec[-1]\n",
        "# read the last 4 elements\n",
        "vec[-(length(vec)-4:length(vec))]\n",
        "#read the entire vector except the one at even position position.\n",
        "vec[-seq(2,length(vec),2)]\n",
        "# read the vector except at 1, 5, 6\n",
        "vec[-c(1,5,6)]"
      ],
      "metadata": {
        "colab": {
          "base_uri": "https://localhost:8080/",
          "height": 104
        },
        "id": "n4KA2FTmXs9f",
        "outputId": "b997fdc5-aae2-4597-a68b-eba550443c02"
      },
      "execution_count": 26,
      "outputs": [
        {
          "output_type": "display_data",
          "data": {
            "text/html": [
              "<style>\n",
              ".list-inline {list-style: none; margin:0; padding: 0}\n",
              ".list-inline>li {display: inline-block}\n",
              ".list-inline>li:not(:last-child)::after {content: \"\\00b7\"; padding: 0 .5ex}\n",
              "</style>\n",
              "<ol class=list-inline><li>20</li><li>40</li><li>60</li><li>80</li><li>100</li><li>120</li><li>140</li><li>160</li><li>180</li><li>200</li></ol>\n"
            ],
            "text/markdown": "1. 20\n2. 40\n3. 60\n4. 80\n5. 100\n6. 120\n7. 140\n8. 160\n9. 180\n10. 200\n\n\n",
            "text/latex": "\\begin{enumerate*}\n\\item 20\n\\item 40\n\\item 60\n\\item 80\n\\item 100\n\\item 120\n\\item 140\n\\item 160\n\\item 180\n\\item 200\n\\end{enumerate*}\n",
            "text/plain": [
              " [1]  20  40  60  80 100 120 140 160 180 200"
            ]
          },
          "metadata": {}
        },
        {
          "output_type": "display_data",
          "data": {
            "text/html": [
              "<style>\n",
              ".list-inline {list-style: none; margin:0; padding: 0}\n",
              ".list-inline>li {display: inline-block}\n",
              ".list-inline>li:not(:last-child)::after {content: \"\\00b7\"; padding: 0 .5ex}\n",
              "</style>\n",
              "<ol class=list-inline><li>40</li><li>60</li><li>80</li><li>100</li><li>120</li><li>140</li><li>160</li><li>180</li><li>200</li></ol>\n"
            ],
            "text/markdown": "1. 40\n2. 60\n3. 80\n4. 100\n5. 120\n6. 140\n7. 160\n8. 180\n9. 200\n\n\n",
            "text/latex": "\\begin{enumerate*}\n\\item 40\n\\item 60\n\\item 80\n\\item 100\n\\item 120\n\\item 140\n\\item 160\n\\item 180\n\\item 200\n\\end{enumerate*}\n",
            "text/plain": [
              "[1]  40  60  80 100 120 140 160 180 200"
            ]
          },
          "metadata": {}
        },
        {
          "output_type": "display_data",
          "data": {
            "text/html": [
              "<style>\n",
              ".list-inline {list-style: none; margin:0; padding: 0}\n",
              ".list-inline>li {display: inline-block}\n",
              ".list-inline>li:not(:last-child)::after {content: \"\\00b7\"; padding: 0 .5ex}\n",
              "</style>\n",
              "<ol class=list-inline><li>140</li><li>160</li><li>180</li><li>200</li></ol>\n"
            ],
            "text/markdown": "1. 140\n2. 160\n3. 180\n4. 200\n\n\n",
            "text/latex": "\\begin{enumerate*}\n\\item 140\n\\item 160\n\\item 180\n\\item 200\n\\end{enumerate*}\n",
            "text/plain": [
              "[1] 140 160 180 200"
            ]
          },
          "metadata": {}
        },
        {
          "output_type": "display_data",
          "data": {
            "text/html": [
              "<style>\n",
              ".list-inline {list-style: none; margin:0; padding: 0}\n",
              ".list-inline>li {display: inline-block}\n",
              ".list-inline>li:not(:last-child)::after {content: \"\\00b7\"; padding: 0 .5ex}\n",
              "</style>\n",
              "<ol class=list-inline><li>20</li><li>60</li><li>100</li><li>140</li><li>180</li></ol>\n"
            ],
            "text/markdown": "1. 20\n2. 60\n3. 100\n4. 140\n5. 180\n\n\n",
            "text/latex": "\\begin{enumerate*}\n\\item 20\n\\item 60\n\\item 100\n\\item 140\n\\item 180\n\\end{enumerate*}\n",
            "text/plain": [
              "[1]  20  60 100 140 180"
            ]
          },
          "metadata": {}
        },
        {
          "output_type": "display_data",
          "data": {
            "text/html": [
              "<style>\n",
              ".list-inline {list-style: none; margin:0; padding: 0}\n",
              ".list-inline>li {display: inline-block}\n",
              ".list-inline>li:not(:last-child)::after {content: \"\\00b7\"; padding: 0 .5ex}\n",
              "</style>\n",
              "<ol class=list-inline><li>40</li><li>60</li><li>80</li><li>140</li><li>160</li><li>180</li><li>200</li></ol>\n"
            ],
            "text/markdown": "1. 40\n2. 60\n3. 80\n4. 140\n5. 160\n6. 180\n7. 200\n\n\n",
            "text/latex": "\\begin{enumerate*}\n\\item 40\n\\item 60\n\\item 80\n\\item 140\n\\item 160\n\\item 180\n\\item 200\n\\end{enumerate*}\n",
            "text/plain": [
              "[1]  40  60  80 140 160 180 200"
            ]
          },
          "metadata": {}
        }
      ]
    },
    {
      "cell_type": "code",
      "source": [
        "#5.UPDATE: update the vector with a new value\n",
        "# VECNAME[Position]=new value\n",
        "vec=seq(20,200,20)\n",
        "vec\n",
        " # update the 2nd value by 100\n",
        "vec[2]<-100\n",
        "vec\n",
        "# update 3rd with A\n",
        "vec[3]<-\"A\"\n",
        "vec"
      ],
      "metadata": {
        "colab": {
          "base_uri": "https://localhost:8080/",
          "height": 69
        },
        "id": "I4b9G8VaX2Jg",
        "outputId": "834d0e2b-2ad1-4139-bd9a-9df508d26c46"
      },
      "execution_count": 30,
      "outputs": [
        {
          "output_type": "display_data",
          "data": {
            "text/html": [
              "<style>\n",
              ".list-inline {list-style: none; margin:0; padding: 0}\n",
              ".list-inline>li {display: inline-block}\n",
              ".list-inline>li:not(:last-child)::after {content: \"\\00b7\"; padding: 0 .5ex}\n",
              "</style>\n",
              "<ol class=list-inline><li>20</li><li>40</li><li>60</li><li>80</li><li>100</li><li>120</li><li>140</li><li>160</li><li>180</li><li>200</li></ol>\n"
            ],
            "text/markdown": "1. 20\n2. 40\n3. 60\n4. 80\n5. 100\n6. 120\n7. 140\n8. 160\n9. 180\n10. 200\n\n\n",
            "text/latex": "\\begin{enumerate*}\n\\item 20\n\\item 40\n\\item 60\n\\item 80\n\\item 100\n\\item 120\n\\item 140\n\\item 160\n\\item 180\n\\item 200\n\\end{enumerate*}\n",
            "text/plain": [
              " [1]  20  40  60  80 100 120 140 160 180 200"
            ]
          },
          "metadata": {}
        },
        {
          "output_type": "display_data",
          "data": {
            "text/html": [
              "<style>\n",
              ".list-inline {list-style: none; margin:0; padding: 0}\n",
              ".list-inline>li {display: inline-block}\n",
              ".list-inline>li:not(:last-child)::after {content: \"\\00b7\"; padding: 0 .5ex}\n",
              "</style>\n",
              "<ol class=list-inline><li>20</li><li>100</li><li>60</li><li>80</li><li>100</li><li>120</li><li>140</li><li>160</li><li>180</li><li>200</li></ol>\n"
            ],
            "text/markdown": "1. 20\n2. 100\n3. 60\n4. 80\n5. 100\n6. 120\n7. 140\n8. 160\n9. 180\n10. 200\n\n\n",
            "text/latex": "\\begin{enumerate*}\n\\item 20\n\\item 100\n\\item 60\n\\item 80\n\\item 100\n\\item 120\n\\item 140\n\\item 160\n\\item 180\n\\item 200\n\\end{enumerate*}\n",
            "text/plain": [
              " [1]  20 100  60  80 100 120 140 160 180 200"
            ]
          },
          "metadata": {}
        },
        {
          "output_type": "display_data",
          "data": {
            "text/html": [
              "<style>\n",
              ".list-inline {list-style: none; margin:0; padding: 0}\n",
              ".list-inline>li {display: inline-block}\n",
              ".list-inline>li:not(:last-child)::after {content: \"\\00b7\"; padding: 0 .5ex}\n",
              "</style>\n",
              "<ol class=list-inline><li>'20'</li><li>'100'</li><li>'A'</li><li>'80'</li><li>'100'</li><li>'120'</li><li>'140'</li><li>'160'</li><li>'180'</li><li>'200'</li></ol>\n"
            ],
            "text/markdown": "1. '20'\n2. '100'\n3. 'A'\n4. '80'\n5. '100'\n6. '120'\n7. '140'\n8. '160'\n9. '180'\n10. '200'\n\n\n",
            "text/latex": "\\begin{enumerate*}\n\\item '20'\n\\item '100'\n\\item 'A'\n\\item '80'\n\\item '100'\n\\item '120'\n\\item '140'\n\\item '160'\n\\item '180'\n\\item '200'\n\\end{enumerate*}\n",
            "text/plain": [
              " [1] \"20\"  \"100\" \"A\"   \"80\"  \"100\" \"120\" \"140\" \"160\" \"180\" \"200\""
            ]
          },
          "metadata": {}
        }
      ]
    },
    {
      "cell_type": "code",
      "source": [
        " #6. APPEND:inserting at the end of the vector\n",
        "vec=seq(20,200,20)\n",
        "vec\n",
        "# append by puttig 300 at the last position.\n",
        "vec[length(vec)+1]<-300\n",
        "vec\n",
        "\n",
        "# append function\n",
        "vec=append(vec,300)\n",
        "vec"
      ],
      "metadata": {
        "colab": {
          "base_uri": "https://localhost:8080/",
          "height": 69
        },
        "id": "EG9tbHaTYXlG",
        "outputId": "8228b041-d4f2-4530-c53d-459e99cf57d3"
      },
      "execution_count": 32,
      "outputs": [
        {
          "output_type": "display_data",
          "data": {
            "text/html": [
              "<style>\n",
              ".list-inline {list-style: none; margin:0; padding: 0}\n",
              ".list-inline>li {display: inline-block}\n",
              ".list-inline>li:not(:last-child)::after {content: \"\\00b7\"; padding: 0 .5ex}\n",
              "</style>\n",
              "<ol class=list-inline><li>20</li><li>40</li><li>60</li><li>80</li><li>100</li><li>120</li><li>140</li><li>160</li><li>180</li><li>200</li></ol>\n"
            ],
            "text/markdown": "1. 20\n2. 40\n3. 60\n4. 80\n5. 100\n6. 120\n7. 140\n8. 160\n9. 180\n10. 200\n\n\n",
            "text/latex": "\\begin{enumerate*}\n\\item 20\n\\item 40\n\\item 60\n\\item 80\n\\item 100\n\\item 120\n\\item 140\n\\item 160\n\\item 180\n\\item 200\n\\end{enumerate*}\n",
            "text/plain": [
              " [1]  20  40  60  80 100 120 140 160 180 200"
            ]
          },
          "metadata": {}
        },
        {
          "output_type": "display_data",
          "data": {
            "text/html": [
              "<style>\n",
              ".list-inline {list-style: none; margin:0; padding: 0}\n",
              ".list-inline>li {display: inline-block}\n",
              ".list-inline>li:not(:last-child)::after {content: \"\\00b7\"; padding: 0 .5ex}\n",
              "</style>\n",
              "<ol class=list-inline><li>20</li><li>40</li><li>60</li><li>80</li><li>100</li><li>120</li><li>140</li><li>160</li><li>180</li><li>200</li><li>300</li></ol>\n"
            ],
            "text/markdown": "1. 20\n2. 40\n3. 60\n4. 80\n5. 100\n6. 120\n7. 140\n8. 160\n9. 180\n10. 200\n11. 300\n\n\n",
            "text/latex": "\\begin{enumerate*}\n\\item 20\n\\item 40\n\\item 60\n\\item 80\n\\item 100\n\\item 120\n\\item 140\n\\item 160\n\\item 180\n\\item 200\n\\item 300\n\\end{enumerate*}\n",
            "text/plain": [
              " [1]  20  40  60  80 100 120 140 160 180 200 300"
            ]
          },
          "metadata": {}
        },
        {
          "output_type": "display_data",
          "data": {
            "text/html": [
              "<style>\n",
              ".list-inline {list-style: none; margin:0; padding: 0}\n",
              ".list-inline>li {display: inline-block}\n",
              ".list-inline>li:not(:last-child)::after {content: \"\\00b7\"; padding: 0 .5ex}\n",
              "</style>\n",
              "<ol class=list-inline><li>20</li><li>40</li><li>60</li><li>80</li><li>100</li><li>120</li><li>140</li><li>160</li><li>180</li><li>200</li><li>300</li><li>300</li></ol>\n"
            ],
            "text/markdown": "1. 20\n2. 40\n3. 60\n4. 80\n5. 100\n6. 120\n7. 140\n8. 160\n9. 180\n10. 200\n11. 300\n12. 300\n\n\n",
            "text/latex": "\\begin{enumerate*}\n\\item 20\n\\item 40\n\\item 60\n\\item 80\n\\item 100\n\\item 120\n\\item 140\n\\item 160\n\\item 180\n\\item 200\n\\item 300\n\\item 300\n\\end{enumerate*}\n",
            "text/plain": [
              " [1]  20  40  60  80 100 120 140 160 180 200 300 300"
            ]
          },
          "metadata": {}
        }
      ]
    },
    {
      "cell_type": "code",
      "source": [
        "# 7. INSERTION: use slicing operations\n",
        "# SYNTAX: c(vec[Start:pos-1], NEW VALUE, vec[pos+1:length()])\n",
        "vec=seq(20,200,20)\n",
        "vec\n",
        "# insert 30 at the place 4\n",
        "#pos=4\n",
        "vec1=c(vec[1:3],3000,vec[5:16])\n",
        "vec1"
      ],
      "metadata": {
        "colab": {
          "base_uri": "https://localhost:8080/",
          "height": 52
        },
        "id": "oWbfmyNvYsNK",
        "outputId": "4f1ac9fd-24dd-4098-e580-22da05a23609"
      },
      "execution_count": 33,
      "outputs": [
        {
          "output_type": "display_data",
          "data": {
            "text/html": [
              "<style>\n",
              ".list-inline {list-style: none; margin:0; padding: 0}\n",
              ".list-inline>li {display: inline-block}\n",
              ".list-inline>li:not(:last-child)::after {content: \"\\00b7\"; padding: 0 .5ex}\n",
              "</style>\n",
              "<ol class=list-inline><li>20</li><li>40</li><li>60</li><li>80</li><li>100</li><li>120</li><li>140</li><li>160</li><li>180</li><li>200</li></ol>\n"
            ],
            "text/markdown": "1. 20\n2. 40\n3. 60\n4. 80\n5. 100\n6. 120\n7. 140\n8. 160\n9. 180\n10. 200\n\n\n",
            "text/latex": "\\begin{enumerate*}\n\\item 20\n\\item 40\n\\item 60\n\\item 80\n\\item 100\n\\item 120\n\\item 140\n\\item 160\n\\item 180\n\\item 200\n\\end{enumerate*}\n",
            "text/plain": [
              " [1]  20  40  60  80 100 120 140 160 180 200"
            ]
          },
          "metadata": {}
        },
        {
          "output_type": "display_data",
          "data": {
            "text/html": [
              "<style>\n",
              ".list-inline {list-style: none; margin:0; padding: 0}\n",
              ".list-inline>li {display: inline-block}\n",
              ".list-inline>li:not(:last-child)::after {content: \"\\00b7\"; padding: 0 .5ex}\n",
              "</style>\n",
              "<ol class=list-inline><li>20</li><li>40</li><li>60</li><li>3000</li><li>100</li><li>120</li><li>140</li><li>160</li><li>180</li><li>200</li><li>&lt;NA&gt;</li><li>&lt;NA&gt;</li><li>&lt;NA&gt;</li><li>&lt;NA&gt;</li><li>&lt;NA&gt;</li><li>&lt;NA&gt;</li></ol>\n"
            ],
            "text/markdown": "1. 20\n2. 40\n3. 60\n4. 3000\n5. 100\n6. 120\n7. 140\n8. 160\n9. 180\n10. 200\n11. &lt;NA&gt;\n12. &lt;NA&gt;\n13. &lt;NA&gt;\n14. &lt;NA&gt;\n15. &lt;NA&gt;\n16. &lt;NA&gt;\n\n\n",
            "text/latex": "\\begin{enumerate*}\n\\item 20\n\\item 40\n\\item 60\n\\item 3000\n\\item 100\n\\item 120\n\\item 140\n\\item 160\n\\item 180\n\\item 200\n\\item <NA>\n\\item <NA>\n\\item <NA>\n\\item <NA>\n\\item <NA>\n\\item <NA>\n\\end{enumerate*}\n",
            "text/plain": [
              " [1]   20   40   60 3000  100  120  140  160  180  200   NA   NA   NA   NA   NA\n",
              "[16]   NA"
            ]
          },
          "metadata": {}
        }
      ]
    },
    {
      "cell_type": "code",
      "source": [
        "# 8. MEMBERSHIP OPERATOR: (%in%): returns TrUE if element is present inside the vector, else FALSE\n",
        "vec=seq(from= 20, to=200, by= 20)\n",
        "vec\n",
        "# if 100 is present in vec\n",
        "# if 200 is present in vec\n",
        "print(100 %in%  vec)\n",
        "print(200 %in%  vec)\n"
      ],
      "metadata": {
        "colab": {
          "base_uri": "https://localhost:8080/",
          "height": 69
        },
        "id": "eOpzCRp-Y01C",
        "outputId": "c421ad76-90c1-4c11-c4aa-be8ca03764cb"
      },
      "execution_count": 38,
      "outputs": [
        {
          "output_type": "display_data",
          "data": {
            "text/html": [
              "<style>\n",
              ".list-inline {list-style: none; margin:0; padding: 0}\n",
              ".list-inline>li {display: inline-block}\n",
              ".list-inline>li:not(:last-child)::after {content: \"\\00b7\"; padding: 0 .5ex}\n",
              "</style>\n",
              "<ol class=list-inline><li>20</li><li>40</li><li>60</li><li>80</li><li>100</li><li>120</li><li>140</li><li>160</li><li>180</li><li>200</li></ol>\n"
            ],
            "text/markdown": "1. 20\n2. 40\n3. 60\n4. 80\n5. 100\n6. 120\n7. 140\n8. 160\n9. 180\n10. 200\n\n\n",
            "text/latex": "\\begin{enumerate*}\n\\item 20\n\\item 40\n\\item 60\n\\item 80\n\\item 100\n\\item 120\n\\item 140\n\\item 160\n\\item 180\n\\item 200\n\\end{enumerate*}\n",
            "text/plain": [
              " [1]  20  40  60  80 100 120 140 160 180 200"
            ]
          },
          "metadata": {}
        },
        {
          "output_type": "stream",
          "name": "stdout",
          "text": [
            "[1] TRUE\n",
            "[1] TRUE\n"
          ]
        }
      ]
    },
    {
      "cell_type": "code",
      "source": [
        "## ARITHMATIC OPERATIONS(+,-,*,/,%%):\n",
        "# sum of (20,50),(20,-50)\n",
        "c(20,50)+c(20,-50)\n",
        "\n",
        "# difference of (20,50),(20,-50)\n",
        "c(20,50)-c(20,-50)\n",
        "\n",
        "# multiplication of (20,50),(20,-50)\n",
        "c(20,50)*c(20,-50)\n",
        "\n",
        "# divison of (20,50),(20,-50)\n",
        "c(20,50)/c(20,-50)\n",
        "\n",
        "# quptient of (20,50),(20,-50)\n",
        "c(20,50)%/%c(20,-50)\n",
        "\n",
        "# remainder of (20,50),(20,-50)\n",
        "c(20,50)%%c(20,-50)\n",
        "\n",
        "\n"
      ],
      "metadata": {
        "colab": {
          "base_uri": "https://localhost:8080/",
          "height": 121
        },
        "id": "0MpvjDPvZMFm",
        "outputId": "69b17e36-6d03-4687-be40-9680562ab745"
      },
      "execution_count": 44,
      "outputs": [
        {
          "output_type": "display_data",
          "data": {
            "text/html": [
              "<style>\n",
              ".list-inline {list-style: none; margin:0; padding: 0}\n",
              ".list-inline>li {display: inline-block}\n",
              ".list-inline>li:not(:last-child)::after {content: \"\\00b7\"; padding: 0 .5ex}\n",
              "</style>\n",
              "<ol class=list-inline><li>40</li><li>0</li></ol>\n"
            ],
            "text/markdown": "1. 40\n2. 0\n\n\n",
            "text/latex": "\\begin{enumerate*}\n\\item 40\n\\item 0\n\\end{enumerate*}\n",
            "text/plain": [
              "[1] 40  0"
            ]
          },
          "metadata": {}
        },
        {
          "output_type": "display_data",
          "data": {
            "text/html": [
              "<style>\n",
              ".list-inline {list-style: none; margin:0; padding: 0}\n",
              ".list-inline>li {display: inline-block}\n",
              ".list-inline>li:not(:last-child)::after {content: \"\\00b7\"; padding: 0 .5ex}\n",
              "</style>\n",
              "<ol class=list-inline><li>0</li><li>100</li></ol>\n"
            ],
            "text/markdown": "1. 0\n2. 100\n\n\n",
            "text/latex": "\\begin{enumerate*}\n\\item 0\n\\item 100\n\\end{enumerate*}\n",
            "text/plain": [
              "[1]   0 100"
            ]
          },
          "metadata": {}
        },
        {
          "output_type": "display_data",
          "data": {
            "text/html": [
              "<style>\n",
              ".list-inline {list-style: none; margin:0; padding: 0}\n",
              ".list-inline>li {display: inline-block}\n",
              ".list-inline>li:not(:last-child)::after {content: \"\\00b7\"; padding: 0 .5ex}\n",
              "</style>\n",
              "<ol class=list-inline><li>400</li><li>-2500</li></ol>\n"
            ],
            "text/markdown": "1. 400\n2. -2500\n\n\n",
            "text/latex": "\\begin{enumerate*}\n\\item 400\n\\item -2500\n\\end{enumerate*}\n",
            "text/plain": [
              "[1]   400 -2500"
            ]
          },
          "metadata": {}
        },
        {
          "output_type": "display_data",
          "data": {
            "text/html": [
              "<style>\n",
              ".list-inline {list-style: none; margin:0; padding: 0}\n",
              ".list-inline>li {display: inline-block}\n",
              ".list-inline>li:not(:last-child)::after {content: \"\\00b7\"; padding: 0 .5ex}\n",
              "</style>\n",
              "<ol class=list-inline><li>1</li><li>-1</li></ol>\n"
            ],
            "text/markdown": "1. 1\n2. -1\n\n\n",
            "text/latex": "\\begin{enumerate*}\n\\item 1\n\\item -1\n\\end{enumerate*}\n",
            "text/plain": [
              "[1]  1 -1"
            ]
          },
          "metadata": {}
        },
        {
          "output_type": "display_data",
          "data": {
            "text/html": [
              "<style>\n",
              ".list-inline {list-style: none; margin:0; padding: 0}\n",
              ".list-inline>li {display: inline-block}\n",
              ".list-inline>li:not(:last-child)::after {content: \"\\00b7\"; padding: 0 .5ex}\n",
              "</style>\n",
              "<ol class=list-inline><li>1</li><li>-1</li></ol>\n"
            ],
            "text/markdown": "1. 1\n2. -1\n\n\n",
            "text/latex": "\\begin{enumerate*}\n\\item 1\n\\item -1\n\\end{enumerate*}\n",
            "text/plain": [
              "[1]  1 -1"
            ]
          },
          "metadata": {}
        },
        {
          "output_type": "display_data",
          "data": {
            "text/html": [
              "<style>\n",
              ".list-inline {list-style: none; margin:0; padding: 0}\n",
              ".list-inline>li {display: inline-block}\n",
              ".list-inline>li:not(:last-child)::after {content: \"\\00b7\"; padding: 0 .5ex}\n",
              "</style>\n",
              "<ol class=list-inline><li>0</li><li>0</li></ol>\n"
            ],
            "text/markdown": "1. 0\n2. 0\n\n\n",
            "text/latex": "\\begin{enumerate*}\n\\item 0\n\\item 0\n\\end{enumerate*}\n",
            "text/plain": [
              "[1] 0 0"
            ]
          },
          "metadata": {}
        }
      ]
    },
    {
      "cell_type": "code",
      "source": [
        "#RELATIONAL OPERATIONS:(==, <=,<,>,>=)\n",
        "c(20,50)==c(20,-50)\n",
        "c(20,50)<=c(20,-50)\n",
        "c(20,50)<c(20,-50)\n",
        "c(20,50)>c(20,-50)\n",
        "c(20,50)>=c(20,-50)\n",
        "\n"
      ],
      "metadata": {
        "colab": {
          "base_uri": "https://localhost:8080/",
          "height": 104
        },
        "id": "h8ntAfrnZf9n",
        "outputId": "09e15b2b-a9b2-43e1-eaaa-64ba2231ce0e"
      },
      "execution_count": 45,
      "outputs": [
        {
          "output_type": "display_data",
          "data": {
            "text/html": [
              "<style>\n",
              ".list-inline {list-style: none; margin:0; padding: 0}\n",
              ".list-inline>li {display: inline-block}\n",
              ".list-inline>li:not(:last-child)::after {content: \"\\00b7\"; padding: 0 .5ex}\n",
              "</style>\n",
              "<ol class=list-inline><li>TRUE</li><li>FALSE</li></ol>\n"
            ],
            "text/markdown": "1. TRUE\n2. FALSE\n\n\n",
            "text/latex": "\\begin{enumerate*}\n\\item TRUE\n\\item FALSE\n\\end{enumerate*}\n",
            "text/plain": [
              "[1]  TRUE FALSE"
            ]
          },
          "metadata": {}
        },
        {
          "output_type": "display_data",
          "data": {
            "text/html": [
              "<style>\n",
              ".list-inline {list-style: none; margin:0; padding: 0}\n",
              ".list-inline>li {display: inline-block}\n",
              ".list-inline>li:not(:last-child)::after {content: \"\\00b7\"; padding: 0 .5ex}\n",
              "</style>\n",
              "<ol class=list-inline><li>TRUE</li><li>FALSE</li></ol>\n"
            ],
            "text/markdown": "1. TRUE\n2. FALSE\n\n\n",
            "text/latex": "\\begin{enumerate*}\n\\item TRUE\n\\item FALSE\n\\end{enumerate*}\n",
            "text/plain": [
              "[1]  TRUE FALSE"
            ]
          },
          "metadata": {}
        },
        {
          "output_type": "display_data",
          "data": {
            "text/html": [
              "<style>\n",
              ".list-inline {list-style: none; margin:0; padding: 0}\n",
              ".list-inline>li {display: inline-block}\n",
              ".list-inline>li:not(:last-child)::after {content: \"\\00b7\"; padding: 0 .5ex}\n",
              "</style>\n",
              "<ol class=list-inline><li>FALSE</li><li>FALSE</li></ol>\n"
            ],
            "text/markdown": "1. FALSE\n2. FALSE\n\n\n",
            "text/latex": "\\begin{enumerate*}\n\\item FALSE\n\\item FALSE\n\\end{enumerate*}\n",
            "text/plain": [
              "[1] FALSE FALSE"
            ]
          },
          "metadata": {}
        },
        {
          "output_type": "display_data",
          "data": {
            "text/html": [
              "<style>\n",
              ".list-inline {list-style: none; margin:0; padding: 0}\n",
              ".list-inline>li {display: inline-block}\n",
              ".list-inline>li:not(:last-child)::after {content: \"\\00b7\"; padding: 0 .5ex}\n",
              "</style>\n",
              "<ol class=list-inline><li>FALSE</li><li>TRUE</li></ol>\n"
            ],
            "text/markdown": "1. FALSE\n2. TRUE\n\n\n",
            "text/latex": "\\begin{enumerate*}\n\\item FALSE\n\\item TRUE\n\\end{enumerate*}\n",
            "text/plain": [
              "[1] FALSE  TRUE"
            ]
          },
          "metadata": {}
        },
        {
          "output_type": "display_data",
          "data": {
            "text/html": [
              "<style>\n",
              ".list-inline {list-style: none; margin:0; padding: 0}\n",
              ".list-inline>li {display: inline-block}\n",
              ".list-inline>li:not(:last-child)::after {content: \"\\00b7\"; padding: 0 .5ex}\n",
              "</style>\n",
              "<ol class=list-inline><li>TRUE</li><li>TRUE</li></ol>\n"
            ],
            "text/markdown": "1. TRUE\n2. TRUE\n\n\n",
            "text/latex": "\\begin{enumerate*}\n\\item TRUE\n\\item TRUE\n\\end{enumerate*}\n",
            "text/plain": [
              "[1] TRUE TRUE"
            ]
          },
          "metadata": {}
        }
      ]
    },
    {
      "cell_type": "code",
      "source": [
        "#LOGICAL OPERATION: AND, OR, NOT\n",
        "# AND LOGIC\n",
        "\n",
        "print((20==20) &(15<25))\n",
        "print((20==20) &(15>25))\n",
        "\n",
        "# OR LOGIC\n",
        "print((20==20)|(15<25))\n",
        "print((20==20)|(15>25))\n",
        "\n",
        "\n",
        "# NOT OPERATON\n",
        "print(!20==20)\n"
      ],
      "metadata": {
        "colab": {
          "base_uri": "https://localhost:8080/"
        },
        "id": "RlY4QcTUZ1oz",
        "outputId": "644415d9-033b-456d-9dc3-e295cbe5bec9"
      },
      "execution_count": 46,
      "outputs": [
        {
          "output_type": "stream",
          "name": "stdout",
          "text": [
            "[1] TRUE\n",
            "[1] FALSE\n",
            "[1] TRUE\n",
            "[1] TRUE\n",
            "[1] FALSE\n"
          ]
        }
      ]
    },
    {
      "cell_type": "code",
      "source": [
        "# MATH IN BUILT FUNCATIONS:\n",
        "vec=seq(from= 20, to=100, by= 20)\n",
        "vec\n",
        "# square root of vec\n",
        "sqrt(vec)\n",
        "\n",
        "# expotential of vec\n",
        "exp(vec)\n",
        "\n",
        "# logarithmin of vec\n",
        "log(vec)\n",
        "\n",
        "# minimum of vec\n",
        "min(vec)\n",
        "\n",
        "# mean of vector\n",
        "mean(vec)\n",
        "\n",
        "# median of vector\n",
        "median(vec)\n",
        "\n",
        "# sum of vector\n",
        "sum(vec)\n",
        "\n"
      ],
      "metadata": {
        "colab": {
          "base_uri": "https://localhost:8080/",
          "height": 156
        },
        "id": "ALiHDi7TaI3C",
        "outputId": "d6eddfbf-0231-4055-9866-497c7b75973f"
      },
      "execution_count": 47,
      "outputs": [
        {
          "output_type": "display_data",
          "data": {
            "text/html": [
              "<style>\n",
              ".list-inline {list-style: none; margin:0; padding: 0}\n",
              ".list-inline>li {display: inline-block}\n",
              ".list-inline>li:not(:last-child)::after {content: \"\\00b7\"; padding: 0 .5ex}\n",
              "</style>\n",
              "<ol class=list-inline><li>20</li><li>40</li><li>60</li><li>80</li><li>100</li></ol>\n"
            ],
            "text/markdown": "1. 20\n2. 40\n3. 60\n4. 80\n5. 100\n\n\n",
            "text/latex": "\\begin{enumerate*}\n\\item 20\n\\item 40\n\\item 60\n\\item 80\n\\item 100\n\\end{enumerate*}\n",
            "text/plain": [
              "[1]  20  40  60  80 100"
            ]
          },
          "metadata": {}
        },
        {
          "output_type": "display_data",
          "data": {
            "text/html": [
              "<style>\n",
              ".list-inline {list-style: none; margin:0; padding: 0}\n",
              ".list-inline>li {display: inline-block}\n",
              ".list-inline>li:not(:last-child)::after {content: \"\\00b7\"; padding: 0 .5ex}\n",
              "</style>\n",
              "<ol class=list-inline><li>4.47213595499958</li><li>6.32455532033676</li><li>7.74596669241483</li><li>8.94427190999916</li><li>10</li></ol>\n"
            ],
            "text/markdown": "1. 4.47213595499958\n2. 6.32455532033676\n3. 7.74596669241483\n4. 8.94427190999916\n5. 10\n\n\n",
            "text/latex": "\\begin{enumerate*}\n\\item 4.47213595499958\n\\item 6.32455532033676\n\\item 7.74596669241483\n\\item 8.94427190999916\n\\item 10\n\\end{enumerate*}\n",
            "text/plain": [
              "[1]  4.472136  6.324555  7.745967  8.944272 10.000000"
            ]
          },
          "metadata": {}
        },
        {
          "output_type": "display_data",
          "data": {
            "text/html": [
              "<style>\n",
              ".list-inline {list-style: none; margin:0; padding: 0}\n",
              ".list-inline>li {display: inline-block}\n",
              ".list-inline>li:not(:last-child)::after {content: \"\\00b7\"; padding: 0 .5ex}\n",
              "</style>\n",
              "<ol class=list-inline><li>485165195.40979</li><li>235385266837020000</li><li>1.14200738981568e+26</li><li>5.54062238439351e+34</li><li>2.68811714181614e+43</li></ol>\n"
            ],
            "text/markdown": "1. 485165195.40979\n2. 235385266837020000\n3. 1.14200738981568e+26\n4. 5.54062238439351e+34\n5. 2.68811714181614e+43\n\n\n",
            "text/latex": "\\begin{enumerate*}\n\\item 485165195.40979\n\\item 235385266837020000\n\\item 1.14200738981568e+26\n\\item 5.54062238439351e+34\n\\item 2.68811714181614e+43\n\\end{enumerate*}\n",
            "text/plain": [
              "[1] 4.851652e+08 2.353853e+17 1.142007e+26 5.540622e+34 2.688117e+43"
            ]
          },
          "metadata": {}
        },
        {
          "output_type": "display_data",
          "data": {
            "text/html": [
              "<style>\n",
              ".list-inline {list-style: none; margin:0; padding: 0}\n",
              ".list-inline>li {display: inline-block}\n",
              ".list-inline>li:not(:last-child)::after {content: \"\\00b7\"; padding: 0 .5ex}\n",
              "</style>\n",
              "<ol class=list-inline><li>2.99573227355399</li><li>3.68887945411394</li><li>4.0943445622221</li><li>4.38202663467388</li><li>4.60517018598809</li></ol>\n"
            ],
            "text/markdown": "1. 2.99573227355399\n2. 3.68887945411394\n3. 4.0943445622221\n4. 4.38202663467388\n5. 4.60517018598809\n\n\n",
            "text/latex": "\\begin{enumerate*}\n\\item 2.99573227355399\n\\item 3.68887945411394\n\\item 4.0943445622221\n\\item 4.38202663467388\n\\item 4.60517018598809\n\\end{enumerate*}\n",
            "text/plain": [
              "[1] 2.995732 3.688879 4.094345 4.382027 4.605170"
            ]
          },
          "metadata": {}
        },
        {
          "output_type": "display_data",
          "data": {
            "text/html": [
              "20"
            ],
            "text/markdown": "20",
            "text/latex": "20",
            "text/plain": [
              "[1] 20"
            ]
          },
          "metadata": {}
        },
        {
          "output_type": "display_data",
          "data": {
            "text/html": [
              "60"
            ],
            "text/markdown": "60",
            "text/latex": "60",
            "text/plain": [
              "[1] 60"
            ]
          },
          "metadata": {}
        },
        {
          "output_type": "display_data",
          "data": {
            "text/html": [
              "60"
            ],
            "text/markdown": "60",
            "text/latex": "60",
            "text/plain": [
              "[1] 60"
            ]
          },
          "metadata": {}
        },
        {
          "output_type": "display_data",
          "data": {
            "text/html": [
              "300"
            ],
            "text/markdown": "300",
            "text/latex": "300",
            "text/plain": [
              "[1] 300"
            ]
          },
          "metadata": {}
        }
      ]
    },
    {
      "cell_type": "code",
      "source": [],
      "metadata": {
        "id": "jX37StADaToL"
      },
      "execution_count": null,
      "outputs": []
    }
  ]
}