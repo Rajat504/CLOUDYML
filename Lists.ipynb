{
  "nbformat": 4,
  "nbformat_minor": 0,
  "metadata": {
    "colab": {
      "provenance": [],
      "include_colab_link": true
    },
    "kernelspec": {
      "name": "ir",
      "display_name": "R"
    },
    "language_info": {
      "name": "R"
    }
  },
  "cells": [
    {
      "cell_type": "markdown",
      "metadata": {
        "id": "view-in-github",
        "colab_type": "text"
      },
      "source": [
        "<a href=\"https://colab.research.google.com/github/Rajat504/CLOUDYML/blob/main/Lists.ipynb\" target=\"_parent\"><img src=\"https://colab.research.google.com/assets/colab-badge.svg\" alt=\"Open In Colab\"/></a>"
      ]
    },
    {
      "cell_type": "markdown",
      "source": [
        "# LISTS:\n",
        "A list in R is a generic object consisting of an ordered collection of objects. Lists are one-dimensional, heterogeneous data structures. The list can be a list of vectors, a list of matrices, a list of characters and a list of functions, and so on"
      ],
      "metadata": {
        "id": "kBeDMymqu-6d"
      }
    },
    {
      "cell_type": "markdown",
      "source": [
        "# CREATING LISTS\n"
      ],
      "metadata": {
        "id": "BqYhEzaUvSda"
      }
    },
    {
      "cell_type": "code",
      "source": [
        "# create a list\n",
        "l1 = list(\"P1\" = letters[seq(from = 2, to = 26, by = 3)],\n",
        "           \"P2\" = 6 : 10,\n",
        "           \"P3\" = c('CloudyML', \"Akash\"))\n",
        "           l1"
      ],
      "metadata": {
        "colab": {
          "base_uri": "https://localhost:8080/",
          "height": 149
        },
        "id": "fNJpLiLOvVaW",
        "outputId": "44752737-4568-48c4-ca45-a28180461885"
      },
      "execution_count": null,
      "outputs": [
        {
          "output_type": "display_data",
          "data": {
            "text/html": [
              "<dl>\n",
              "\t<dt>$P1</dt>\n",
              "\t\t<dd><style>\n",
              ".list-inline {list-style: none; margin:0; padding: 0}\n",
              ".list-inline>li {display: inline-block}\n",
              ".list-inline>li:not(:last-child)::after {content: \"\\00b7\"; padding: 0 .5ex}\n",
              "</style>\n",
              "<ol class=list-inline><li>'b'</li><li>'e'</li><li>'h'</li><li>'k'</li><li>'n'</li><li>'q'</li><li>'t'</li><li>'w'</li><li>'z'</li></ol>\n",
              "</dd>\n",
              "\t<dt>$P2</dt>\n",
              "\t\t<dd><style>\n",
              ".list-inline {list-style: none; margin:0; padding: 0}\n",
              ".list-inline>li {display: inline-block}\n",
              ".list-inline>li:not(:last-child)::after {content: \"\\00b7\"; padding: 0 .5ex}\n",
              "</style>\n",
              "<ol class=list-inline><li>6</li><li>7</li><li>8</li><li>9</li><li>10</li></ol>\n",
              "</dd>\n",
              "\t<dt>$P3</dt>\n",
              "\t\t<dd><style>\n",
              ".list-inline {list-style: none; margin:0; padding: 0}\n",
              ".list-inline>li {display: inline-block}\n",
              ".list-inline>li:not(:last-child)::after {content: \"\\00b7\"; padding: 0 .5ex}\n",
              "</style>\n",
              "<ol class=list-inline><li>'CloudyML'</li><li>'Akash'</li></ol>\n",
              "</dd>\n",
              "</dl>\n"
            ],
            "text/markdown": "$P1\n:   1. 'b'\n2. 'e'\n3. 'h'\n4. 'k'\n5. 'n'\n6. 'q'\n7. 't'\n8. 'w'\n9. 'z'\n\n\n\n$P2\n:   1. 6\n2. 7\n3. 8\n4. 9\n5. 10\n\n\n\n$P3\n:   1. 'CloudyML'\n2. 'Akash'\n\n\n\n\n\n",
            "text/latex": "\\begin{description}\n\\item[\\$P1] \\begin{enumerate*}\n\\item 'b'\n\\item 'e'\n\\item 'h'\n\\item 'k'\n\\item 'n'\n\\item 'q'\n\\item 't'\n\\item 'w'\n\\item 'z'\n\\end{enumerate*}\n\n\\item[\\$P2] \\begin{enumerate*}\n\\item 6\n\\item 7\n\\item 8\n\\item 9\n\\item 10\n\\end{enumerate*}\n\n\\item[\\$P3] \\begin{enumerate*}\n\\item 'CloudyML'\n\\item 'Akash'\n\\end{enumerate*}\n\n\\end{description}\n",
            "text/plain": [
              "$P1\n",
              "[1] \"b\" \"e\" \"h\" \"k\" \"n\" \"q\" \"t\" \"w\" \"z\"\n",
              "\n",
              "$P2\n",
              "[1]  6  7  8  9 10\n",
              "\n",
              "$P3\n",
              "[1] \"CloudyML\" \"Akash\"   \n"
            ]
          },
          "metadata": {}
        }
      ]
    },
    {
      "cell_type": "code",
      "source": [
        "#create list without key\n",
        "\n",
        "l2"
      ],
      "metadata": {
        "colab": {
          "base_uri": "https://localhost:8080/",
          "height": 97
        },
        "id": "qL7YG6JF1bC4",
        "outputId": "2ce98626-b5b3-41d4-a5d4-13a9012dfc75"
      },
      "execution_count": null,
      "outputs": [
        {
          "output_type": "display_data",
          "data": {
            "text/html": [
              "<ol>\n",
              "\t<li><style>\n",
              ".list-inline {list-style: none; margin:0; padding: 0}\n",
              ".list-inline>li {display: inline-block}\n",
              ".list-inline>li:not(:last-child)::after {content: \"\\00b7\"; padding: 0 .5ex}\n",
              "</style>\n",
              "<ol class=list-inline><li>'B'</li><li>'E'</li><li>'H'</li><li>'K'</li><li>'N'</li><li>'Q'</li><li>'T'</li><li>'W'</li><li>'Z'</li></ol>\n",
              "</li>\n",
              "\t<li><style>\n",
              ".list-inline {list-style: none; margin:0; padding: 0}\n",
              ".list-inline>li {display: inline-block}\n",
              ".list-inline>li:not(:last-child)::after {content: \"\\00b7\"; padding: 0 .5ex}\n",
              "</style>\n",
              "<ol class=list-inline><li>6</li><li>7</li><li>8</li><li>9</li><li>10</li></ol>\n",
              "</li>\n",
              "\t<li><style>\n",
              ".list-inline {list-style: none; margin:0; padding: 0}\n",
              ".list-inline>li {display: inline-block}\n",
              ".list-inline>li:not(:last-child)::after {content: \"\\00b7\"; padding: 0 .5ex}\n",
              "</style>\n",
              "<ol class=list-inline><li>'ClodyML'</li><li>'Akash'</li></ol>\n",
              "</li>\n",
              "</ol>\n"
            ],
            "text/markdown": "1. 1. 'B'\n2. 'E'\n3. 'H'\n4. 'K'\n5. 'N'\n6. 'Q'\n7. 'T'\n8. 'W'\n9. 'Z'\n\n\n\n2. 1. 6\n2. 7\n3. 8\n4. 9\n5. 10\n\n\n\n3. 1. 'ClodyML'\n2. 'Akash'\n\n\n\n\n\n",
            "text/latex": "\\begin{enumerate}\n\\item \\begin{enumerate*}\n\\item 'B'\n\\item 'E'\n\\item 'H'\n\\item 'K'\n\\item 'N'\n\\item 'Q'\n\\item 'T'\n\\item 'W'\n\\item 'Z'\n\\end{enumerate*}\n\n\\item \\begin{enumerate*}\n\\item 6\n\\item 7\n\\item 8\n\\item 9\n\\item 10\n\\end{enumerate*}\n\n\\item \\begin{enumerate*}\n\\item 'ClodyML'\n\\item 'Akash'\n\\end{enumerate*}\n\n\\end{enumerate}\n",
            "text/plain": [
              "[[1]]\n",
              "[1] \"B\" \"E\" \"H\" \"K\" \"N\" \"Q\" \"T\" \"W\" \"Z\"\n",
              "\n",
              "[[2]]\n",
              "[1]  6  7  8  9 10\n",
              "\n",
              "[[3]]\n",
              "[1] \"ClodyML\" \"Akash\"  \n"
            ]
          },
          "metadata": {}
        }
      ]
    },
    {
      "cell_type": "markdown",
      "source": [
        "# Checking for a List in R:\n",
        "\n",
        "The function is.list() is used to check whether the variable is a list and returns “TRUE” if it is a list.\n"
      ],
      "metadata": {
        "id": "w7VTx3bU3Zsb"
      }
    },
    {
      "cell_type": "code",
      "source": [
        "listName = list(\"P1\" = letters[seq(from = 10, to = 20, by = 4)],\n",
        "                \"P2\" = 15 : 20,\n",
        "                \"P3\" = c('Blue', \"Black\"),\n",
        "                \"P4\"=seq(2,10,2))\n",
        "                listName\n",
        "# cheking if the given data structure is list or not.\n",
        "is.list(listName)"
      ],
      "metadata": {
        "colab": {
          "base_uri": "https://localhost:8080/",
          "height": 201
        },
        "id": "_VOGRjpX3j6j",
        "outputId": "4eab18cd-9d69-4c33-d167-1af9f49aff86"
      },
      "execution_count": 1,
      "outputs": [
        {
          "output_type": "display_data",
          "data": {
            "text/html": [
              "<dl>\n",
              "\t<dt>$P1</dt>\n",
              "\t\t<dd><style>\n",
              ".list-inline {list-style: none; margin:0; padding: 0}\n",
              ".list-inline>li {display: inline-block}\n",
              ".list-inline>li:not(:last-child)::after {content: \"\\00b7\"; padding: 0 .5ex}\n",
              "</style>\n",
              "<ol class=list-inline><li>'j'</li><li>'n'</li><li>'r'</li></ol>\n",
              "</dd>\n",
              "\t<dt>$P2</dt>\n",
              "\t\t<dd><style>\n",
              ".list-inline {list-style: none; margin:0; padding: 0}\n",
              ".list-inline>li {display: inline-block}\n",
              ".list-inline>li:not(:last-child)::after {content: \"\\00b7\"; padding: 0 .5ex}\n",
              "</style>\n",
              "<ol class=list-inline><li>15</li><li>16</li><li>17</li><li>18</li><li>19</li><li>20</li></ol>\n",
              "</dd>\n",
              "\t<dt>$P3</dt>\n",
              "\t\t<dd><style>\n",
              ".list-inline {list-style: none; margin:0; padding: 0}\n",
              ".list-inline>li {display: inline-block}\n",
              ".list-inline>li:not(:last-child)::after {content: \"\\00b7\"; padding: 0 .5ex}\n",
              "</style>\n",
              "<ol class=list-inline><li>'Blue'</li><li>'Black'</li></ol>\n",
              "</dd>\n",
              "\t<dt>$P4</dt>\n",
              "\t\t<dd><style>\n",
              ".list-inline {list-style: none; margin:0; padding: 0}\n",
              ".list-inline>li {display: inline-block}\n",
              ".list-inline>li:not(:last-child)::after {content: \"\\00b7\"; padding: 0 .5ex}\n",
              "</style>\n",
              "<ol class=list-inline><li>2</li><li>4</li><li>6</li><li>8</li><li>10</li></ol>\n",
              "</dd>\n",
              "</dl>\n"
            ],
            "text/markdown": "$P1\n:   1. 'j'\n2. 'n'\n3. 'r'\n\n\n\n$P2\n:   1. 15\n2. 16\n3. 17\n4. 18\n5. 19\n6. 20\n\n\n\n$P3\n:   1. 'Blue'\n2. 'Black'\n\n\n\n$P4\n:   1. 2\n2. 4\n3. 6\n4. 8\n5. 10\n\n\n\n\n\n",
            "text/latex": "\\begin{description}\n\\item[\\$P1] \\begin{enumerate*}\n\\item 'j'\n\\item 'n'\n\\item 'r'\n\\end{enumerate*}\n\n\\item[\\$P2] \\begin{enumerate*}\n\\item 15\n\\item 16\n\\item 17\n\\item 18\n\\item 19\n\\item 20\n\\end{enumerate*}\n\n\\item[\\$P3] \\begin{enumerate*}\n\\item 'Blue'\n\\item 'Black'\n\\end{enumerate*}\n\n\\item[\\$P4] \\begin{enumerate*}\n\\item 2\n\\item 4\n\\item 6\n\\item 8\n\\item 10\n\\end{enumerate*}\n\n\\end{description}\n",
            "text/plain": [
              "$P1\n",
              "[1] \"j\" \"n\" \"r\"\n",
              "\n",
              "$P2\n",
              "[1] 15 16 17 18 19 20\n",
              "\n",
              "$P3\n",
              "[1] \"Blue\"  \"Black\"\n",
              "\n",
              "$P4\n",
              "[1]  2  4  6  8 10\n"
            ]
          },
          "metadata": {}
        },
        {
          "output_type": "display_data",
          "data": {
            "text/html": [
              "TRUE"
            ],
            "text/markdown": "TRUE",
            "text/latex": "TRUE",
            "text/plain": [
              "[1] TRUE"
            ]
          },
          "metadata": {}
        }
      ]
    },
    {
      "cell_type": "markdown",
      "source": [
        "Function class() is also used to check whether the variable is a factor and if true returns “list”."
      ],
      "metadata": {
        "id": "g9qlYDiL4Eb5"
      }
    },
    {
      "cell_type": "code",
      "source": [
        "# checking the class of data structure\n",
        "class(listName)"
      ],
      "metadata": {
        "colab": {
          "base_uri": "https://localhost:8080/",
          "height": 34
        },
        "id": "ps61f1FN4H8n",
        "outputId": "f5d4a50f-4749-4bfa-aee1-fec2a17ed934"
      },
      "execution_count": 3,
      "outputs": [
        {
          "output_type": "display_data",
          "data": {
            "text/html": [
              "'list'"
            ],
            "text/markdown": "'list'",
            "text/latex": "'list'",
            "text/plain": [
              "[1] \"list\""
            ]
          },
          "metadata": {}
        }
      ]
    },
    {
      "cell_type": "markdown",
      "source": [
        "#  Length - Returns total key value pairs"
      ],
      "metadata": {
        "id": "HV8l_MLs5ADx"
      }
    },
    {
      "cell_type": "code",
      "source": [
        "# using length operation\n",
        "length(listName)"
      ],
      "metadata": {
        "colab": {
          "base_uri": "https://localhost:8080/",
          "height": 34
        },
        "id": "VQDq9Ylj5Ba1",
        "outputId": "b4abc9b3-3a02-41ac-a9dc-227622823f6a"
      },
      "execution_count": 4,
      "outputs": [
        {
          "output_type": "display_data",
          "data": {
            "text/html": [
              "4"
            ],
            "text/markdown": "4",
            "text/latex": "4",
            "text/plain": [
              "[1] 4"
            ]
          },
          "metadata": {}
        }
      ]
    },
    {
      "cell_type": "code",
      "source": [
        "# extract number seq from listName\n",
        "v=listName$P2\n",
        "v\n",
        "\n",
        "# extract r from the lisi\n",
        "v=listName$P1\n",
        "v[3]\n"
      ],
      "metadata": {
        "colab": {
          "base_uri": "https://localhost:8080/",
          "height": 52
        },
        "id": "Dccixvec5elb",
        "outputId": "ca1c9a74-da4a-40fb-daba-1333d1f6157d"
      },
      "execution_count": 6,
      "outputs": [
        {
          "output_type": "display_data",
          "data": {
            "text/html": [
              "<style>\n",
              ".list-inline {list-style: none; margin:0; padding: 0}\n",
              ".list-inline>li {display: inline-block}\n",
              ".list-inline>li:not(:last-child)::after {content: \"\\00b7\"; padding: 0 .5ex}\n",
              "</style>\n",
              "<ol class=list-inline><li>15</li><li>16</li><li>17</li><li>18</li><li>19</li><li>20</li></ol>\n"
            ],
            "text/markdown": "1. 15\n2. 16\n3. 17\n4. 18\n5. 19\n6. 20\n\n\n",
            "text/latex": "\\begin{enumerate*}\n\\item 15\n\\item 16\n\\item 17\n\\item 18\n\\item 19\n\\item 20\n\\end{enumerate*}\n",
            "text/plain": [
              "[1] 15 16 17 18 19 20"
            ]
          },
          "metadata": {}
        },
        {
          "output_type": "display_data",
          "data": {
            "text/html": [
              "'r'"
            ],
            "text/markdown": "'r'",
            "text/latex": "'r'",
            "text/plain": [
              "[1] \"r\""
            ]
          },
          "metadata": {}
        }
      ]
    },
    {
      "cell_type": "markdown",
      "source": [
        "# INSERT:inserts a key, if the value exists"
      ],
      "metadata": {
        "id": "sjbgOW978SFi"
      }
    },
    {
      "cell_type": "code",
      "source": [
        " # Insert a key value \" Learning R from CloudyML\"\n",
        "listName$P1\n",
        "listName$P2\n",
        "listName$P3\n",
        "listName$P4\n",
        "listName$p5=\"Learning R from CloudyML\"\n",
        "listName\n"
      ],
      "metadata": {
        "colab": {
          "base_uri": "https://localhost:8080/",
          "height": 288
        },
        "id": "8Cldwgy06ppB",
        "outputId": "6a35d371-5127-43d3-e043-3e385b55e8a4"
      },
      "execution_count": 9,
      "outputs": [
        {
          "output_type": "display_data",
          "data": {
            "text/html": [
              "<style>\n",
              ".list-inline {list-style: none; margin:0; padding: 0}\n",
              ".list-inline>li {display: inline-block}\n",
              ".list-inline>li:not(:last-child)::after {content: \"\\00b7\"; padding: 0 .5ex}\n",
              "</style>\n",
              "<ol class=list-inline><li>'j'</li><li>'n'</li><li>'r'</li></ol>\n"
            ],
            "text/markdown": "1. 'j'\n2. 'n'\n3. 'r'\n\n\n",
            "text/latex": "\\begin{enumerate*}\n\\item 'j'\n\\item 'n'\n\\item 'r'\n\\end{enumerate*}\n",
            "text/plain": [
              "[1] \"j\" \"n\" \"r\""
            ]
          },
          "metadata": {}
        },
        {
          "output_type": "display_data",
          "data": {
            "text/html": [
              "<style>\n",
              ".list-inline {list-style: none; margin:0; padding: 0}\n",
              ".list-inline>li {display: inline-block}\n",
              ".list-inline>li:not(:last-child)::after {content: \"\\00b7\"; padding: 0 .5ex}\n",
              "</style>\n",
              "<ol class=list-inline><li>15</li><li>16</li><li>17</li><li>18</li><li>19</li><li>20</li></ol>\n"
            ],
            "text/markdown": "1. 15\n2. 16\n3. 17\n4. 18\n5. 19\n6. 20\n\n\n",
            "text/latex": "\\begin{enumerate*}\n\\item 15\n\\item 16\n\\item 17\n\\item 18\n\\item 19\n\\item 20\n\\end{enumerate*}\n",
            "text/plain": [
              "[1] 15 16 17 18 19 20"
            ]
          },
          "metadata": {}
        },
        {
          "output_type": "display_data",
          "data": {
            "text/html": [
              "<style>\n",
              ".list-inline {list-style: none; margin:0; padding: 0}\n",
              ".list-inline>li {display: inline-block}\n",
              ".list-inline>li:not(:last-child)::after {content: \"\\00b7\"; padding: 0 .5ex}\n",
              "</style>\n",
              "<ol class=list-inline><li>'Blue'</li><li>'Black'</li></ol>\n"
            ],
            "text/markdown": "1. 'Blue'\n2. 'Black'\n\n\n",
            "text/latex": "\\begin{enumerate*}\n\\item 'Blue'\n\\item 'Black'\n\\end{enumerate*}\n",
            "text/plain": [
              "[1] \"Blue\"  \"Black\""
            ]
          },
          "metadata": {}
        },
        {
          "output_type": "display_data",
          "data": {
            "text/html": [
              "<style>\n",
              ".list-inline {list-style: none; margin:0; padding: 0}\n",
              ".list-inline>li {display: inline-block}\n",
              ".list-inline>li:not(:last-child)::after {content: \"\\00b7\"; padding: 0 .5ex}\n",
              "</style>\n",
              "<ol class=list-inline><li>2</li><li>4</li><li>6</li><li>8</li><li>10</li></ol>\n"
            ],
            "text/markdown": "1. 2\n2. 4\n3. 6\n4. 8\n5. 10\n\n\n",
            "text/latex": "\\begin{enumerate*}\n\\item 2\n\\item 4\n\\item 6\n\\item 8\n\\item 10\n\\end{enumerate*}\n",
            "text/plain": [
              "[1]  2  4  6  8 10"
            ]
          },
          "metadata": {}
        },
        {
          "output_type": "display_data",
          "data": {
            "text/html": [
              "<dl>\n",
              "\t<dt>$P1</dt>\n",
              "\t\t<dd><style>\n",
              ".list-inline {list-style: none; margin:0; padding: 0}\n",
              ".list-inline>li {display: inline-block}\n",
              ".list-inline>li:not(:last-child)::after {content: \"\\00b7\"; padding: 0 .5ex}\n",
              "</style>\n",
              "<ol class=list-inline><li>'j'</li><li>'n'</li><li>'r'</li></ol>\n",
              "</dd>\n",
              "\t<dt>$P2</dt>\n",
              "\t\t<dd><style>\n",
              ".list-inline {list-style: none; margin:0; padding: 0}\n",
              ".list-inline>li {display: inline-block}\n",
              ".list-inline>li:not(:last-child)::after {content: \"\\00b7\"; padding: 0 .5ex}\n",
              "</style>\n",
              "<ol class=list-inline><li>15</li><li>16</li><li>17</li><li>18</li><li>19</li><li>20</li></ol>\n",
              "</dd>\n",
              "\t<dt>$P3</dt>\n",
              "\t\t<dd><style>\n",
              ".list-inline {list-style: none; margin:0; padding: 0}\n",
              ".list-inline>li {display: inline-block}\n",
              ".list-inline>li:not(:last-child)::after {content: \"\\00b7\"; padding: 0 .5ex}\n",
              "</style>\n",
              "<ol class=list-inline><li>'Blue'</li><li>'Black'</li></ol>\n",
              "</dd>\n",
              "\t<dt>$P4</dt>\n",
              "\t\t<dd><style>\n",
              ".list-inline {list-style: none; margin:0; padding: 0}\n",
              ".list-inline>li {display: inline-block}\n",
              ".list-inline>li:not(:last-child)::after {content: \"\\00b7\"; padding: 0 .5ex}\n",
              "</style>\n",
              "<ol class=list-inline><li>2</li><li>4</li><li>6</li><li>8</li><li>10</li></ol>\n",
              "</dd>\n",
              "\t<dt>$p5</dt>\n",
              "\t\t<dd>'Learning R from CloudyML'</dd>\n",
              "</dl>\n"
            ],
            "text/markdown": "$P1\n:   1. 'j'\n2. 'n'\n3. 'r'\n\n\n\n$P2\n:   1. 15\n2. 16\n3. 17\n4. 18\n5. 19\n6. 20\n\n\n\n$P3\n:   1. 'Blue'\n2. 'Black'\n\n\n\n$P4\n:   1. 2\n2. 4\n3. 6\n4. 8\n5. 10\n\n\n\n$p5\n:   'Learning R from CloudyML'\n\n\n",
            "text/latex": "\\begin{description}\n\\item[\\$P1] \\begin{enumerate*}\n\\item 'j'\n\\item 'n'\n\\item 'r'\n\\end{enumerate*}\n\n\\item[\\$P2] \\begin{enumerate*}\n\\item 15\n\\item 16\n\\item 17\n\\item 18\n\\item 19\n\\item 20\n\\end{enumerate*}\n\n\\item[\\$P3] \\begin{enumerate*}\n\\item 'Blue'\n\\item 'Black'\n\\end{enumerate*}\n\n\\item[\\$P4] \\begin{enumerate*}\n\\item 2\n\\item 4\n\\item 6\n\\item 8\n\\item 10\n\\end{enumerate*}\n\n\\item[\\$p5] 'Learning R from CloudyML'\n\\end{description}\n",
            "text/plain": [
              "$P1\n",
              "[1] \"j\" \"n\" \"r\"\n",
              "\n",
              "$P2\n",
              "[1] 15 16 17 18 19 20\n",
              "\n",
              "$P3\n",
              "[1] \"Blue\"  \"Black\"\n",
              "\n",
              "$P4\n",
              "[1]  2  4  6  8 10\n",
              "\n",
              "$p5\n",
              "[1] \"Learning R from CloudyML\"\n"
            ]
          },
          "metadata": {}
        }
      ]
    },
    {
      "cell_type": "code",
      "source": [
        "# Insert a list under list,seq(10,100,20),round(runif(10,1,100)\n",
        "listName$P6=list(\"M\"=seq(10,100,20),\"N\"= round(runif(10, 1, 100)))\n",
        "listName"
      ],
      "metadata": {
        "colab": {
          "base_uri": "https://localhost:8080/",
          "height": 319
        },
        "id": "9HirYGF-7FzA",
        "outputId": "42ce7e73-b624-49a6-c8fc-42bb7d57688c"
      },
      "execution_count": 67,
      "outputs": [
        {
          "output_type": "display_data",
          "data": {
            "text/html": [
              "<dl>\n",
              "\t<dt>$P1</dt>\n",
              "\t\t<dd><style>\n",
              ".list-inline {list-style: none; margin:0; padding: 0}\n",
              ".list-inline>li {display: inline-block}\n",
              ".list-inline>li:not(:last-child)::after {content: \"\\00b7\"; padding: 0 .5ex}\n",
              "</style>\n",
              "<ol class=list-inline><li>'j'</li><li>'n'</li><li>'r'</li></ol>\n",
              "</dd>\n",
              "\t<dt>$P2</dt>\n",
              "\t\t<dd><style>\n",
              ".list-inline {list-style: none; margin:0; padding: 0}\n",
              ".list-inline>li {display: inline-block}\n",
              ".list-inline>li:not(:last-child)::after {content: \"\\00b7\"; padding: 0 .5ex}\n",
              "</style>\n",
              "<ol class=list-inline><li>15</li><li>16</li><li>17</li><li>18</li><li>19</li><li>20</li></ol>\n",
              "</dd>\n",
              "\t<dt>$P3</dt>\n",
              "\t\t<dd><style>\n",
              ".list-inline {list-style: none; margin:0; padding: 0}\n",
              ".list-inline>li {display: inline-block}\n",
              ".list-inline>li:not(:last-child)::after {content: \"\\00b7\"; padding: 0 .5ex}\n",
              "</style>\n",
              "<ol class=list-inline><li>'Blue'</li><li>'Black'</li></ol>\n",
              "</dd>\n",
              "\t<dt>$P4</dt>\n",
              "\t\t<dd><style>\n",
              ".list-inline {list-style: none; margin:0; padding: 0}\n",
              ".list-inline>li {display: inline-block}\n",
              ".list-inline>li:not(:last-child)::after {content: \"\\00b7\"; padding: 0 .5ex}\n",
              "</style>\n",
              "<ol class=list-inline><li>2</li><li>4</li><li>6</li><li>8</li><li>10</li></ol>\n",
              "</dd>\n",
              "\t<dt>$p5</dt>\n",
              "\t\t<dd>'Learning R from CloudyML'</dd>\n",
              "\t<dt>$P6</dt>\n",
              "\t\t<dd><dl>\n",
              "\t<dt>$M</dt>\n",
              "\t\t<dd><style>\n",
              ".list-inline {list-style: none; margin:0; padding: 0}\n",
              ".list-inline>li {display: inline-block}\n",
              ".list-inline>li:not(:last-child)::after {content: \"\\00b7\"; padding: 0 .5ex}\n",
              "</style>\n",
              "<ol class=list-inline><li>10</li><li>30</li><li>50</li><li>70</li><li>90</li></ol>\n",
              "</dd>\n",
              "\t<dt>$N</dt>\n",
              "\t\t<dd><style>\n",
              ".list-inline {list-style: none; margin:0; padding: 0}\n",
              ".list-inline>li {display: inline-block}\n",
              ".list-inline>li:not(:last-child)::after {content: \"\\00b7\"; padding: 0 .5ex}\n",
              "</style>\n",
              "<ol class=list-inline><li>75</li><li>75</li><li>91</li><li>84</li><li>58</li><li>44</li><li>33</li><li>74</li><li>68</li><li>33</li></ol>\n",
              "</dd>\n",
              "</dl>\n",
              "</dd>\n",
              "</dl>\n"
            ],
            "text/markdown": "$P1\n:   1. 'j'\n2. 'n'\n3. 'r'\n\n\n\n$P2\n:   1. 15\n2. 16\n3. 17\n4. 18\n5. 19\n6. 20\n\n\n\n$P3\n:   1. 'Blue'\n2. 'Black'\n\n\n\n$P4\n:   1. 2\n2. 4\n3. 6\n4. 8\n5. 10\n\n\n\n$p5\n:   'Learning R from CloudyML'\n$P6\n:   $M\n:   1. 10\n2. 30\n3. 50\n4. 70\n5. 90\n\n\n\n$N\n:   1. 75\n2. 75\n3. 91\n4. 84\n5. 58\n6. 44\n7. 33\n8. 74\n9. 68\n10. 33\n\n\n\n\n\n\n\n\n",
            "text/latex": "\\begin{description}\n\\item[\\$P1] \\begin{enumerate*}\n\\item 'j'\n\\item 'n'\n\\item 'r'\n\\end{enumerate*}\n\n\\item[\\$P2] \\begin{enumerate*}\n\\item 15\n\\item 16\n\\item 17\n\\item 18\n\\item 19\n\\item 20\n\\end{enumerate*}\n\n\\item[\\$P3] \\begin{enumerate*}\n\\item 'Blue'\n\\item 'Black'\n\\end{enumerate*}\n\n\\item[\\$P4] \\begin{enumerate*}\n\\item 2\n\\item 4\n\\item 6\n\\item 8\n\\item 10\n\\end{enumerate*}\n\n\\item[\\$p5] 'Learning R from CloudyML'\n\\item[\\$P6] \\begin{description}\n\\item[\\$M] \\begin{enumerate*}\n\\item 10\n\\item 30\n\\item 50\n\\item 70\n\\item 90\n\\end{enumerate*}\n\n\\item[\\$N] \\begin{enumerate*}\n\\item 75\n\\item 75\n\\item 91\n\\item 84\n\\item 58\n\\item 44\n\\item 33\n\\item 74\n\\item 68\n\\item 33\n\\end{enumerate*}\n\n\\end{description}\n\n\\end{description}\n",
            "text/plain": [
              "$P1\n",
              "[1] \"j\" \"n\" \"r\"\n",
              "\n",
              "$P2\n",
              "[1] 15 16 17 18 19 20\n",
              "\n",
              "$P3\n",
              "[1] \"Blue\"  \"Black\"\n",
              "\n",
              "$P4\n",
              "[1]  2  4  6  8 10\n",
              "\n",
              "$p5\n",
              "[1] \"Learning R from CloudyML\"\n",
              "\n",
              "$P6\n",
              "$P6$M\n",
              "[1] 10 30 50 70 90\n",
              "\n",
              "$P6$N\n",
              " [1] 75 75 91 84 58 44 33 74 68 33\n",
              "\n"
            ]
          },
          "metadata": {}
        }
      ]
    },
    {
      "cell_type": "code",
      "source": [
        "#Read the sublist\n",
        "listName$P6"
      ],
      "metadata": {
        "colab": {
          "base_uri": "https://localhost:8080/",
          "height": 114
        },
        "id": "xreP7Grr7YiR",
        "outputId": "f99f99d0-d1f9-450d-c26b-36ef2510675d"
      },
      "execution_count": 68,
      "outputs": [
        {
          "output_type": "display_data",
          "data": {
            "text/html": [
              "<dl>\n",
              "\t<dt>$M</dt>\n",
              "\t\t<dd><style>\n",
              ".list-inline {list-style: none; margin:0; padding: 0}\n",
              ".list-inline>li {display: inline-block}\n",
              ".list-inline>li:not(:last-child)::after {content: \"\\00b7\"; padding: 0 .5ex}\n",
              "</style>\n",
              "<ol class=list-inline><li>10</li><li>30</li><li>50</li><li>70</li><li>90</li></ol>\n",
              "</dd>\n",
              "\t<dt>$N</dt>\n",
              "\t\t<dd><style>\n",
              ".list-inline {list-style: none; margin:0; padding: 0}\n",
              ".list-inline>li {display: inline-block}\n",
              ".list-inline>li:not(:last-child)::after {content: \"\\00b7\"; padding: 0 .5ex}\n",
              "</style>\n",
              "<ol class=list-inline><li>75</li><li>75</li><li>91</li><li>84</li><li>58</li><li>44</li><li>33</li><li>74</li><li>68</li><li>33</li></ol>\n",
              "</dd>\n",
              "</dl>\n"
            ],
            "text/markdown": "$M\n:   1. 10\n2. 30\n3. 50\n4. 70\n5. 90\n\n\n\n$N\n:   1. 75\n2. 75\n3. 91\n4. 84\n5. 58\n6. 44\n7. 33\n8. 74\n9. 68\n10. 33\n\n\n\n\n\n",
            "text/latex": "\\begin{description}\n\\item[\\$M] \\begin{enumerate*}\n\\item 10\n\\item 30\n\\item 50\n\\item 70\n\\item 90\n\\end{enumerate*}\n\n\\item[\\$N] \\begin{enumerate*}\n\\item 75\n\\item 75\n\\item 91\n\\item 84\n\\item 58\n\\item 44\n\\item 33\n\\item 74\n\\item 68\n\\item 33\n\\end{enumerate*}\n\n\\end{description}\n",
            "text/plain": [
              "$M\n",
              "[1] 10 30 50 70 90\n",
              "\n",
              "$N\n",
              " [1] 75 75 91 84 58 44 33 74 68 33\n"
            ]
          },
          "metadata": {}
        }
      ]
    },
    {
      "cell_type": "code",
      "source": [
        "# Read the list N in sublist\n",
        "listName$P6$N"
      ],
      "metadata": {
        "colab": {
          "base_uri": "https://localhost:8080/",
          "height": 34
        },
        "id": "VEdj-lKR7kf-",
        "outputId": "20d3e430-073c-46cf-b6ed-e11618f07389"
      },
      "execution_count": 69,
      "outputs": [
        {
          "output_type": "display_data",
          "data": {
            "text/html": [
              "<style>\n",
              ".list-inline {list-style: none; margin:0; padding: 0}\n",
              ".list-inline>li {display: inline-block}\n",
              ".list-inline>li:not(:last-child)::after {content: \"\\00b7\"; padding: 0 .5ex}\n",
              "</style>\n",
              "<ol class=list-inline><li>75</li><li>75</li><li>91</li><li>84</li><li>58</li><li>44</li><li>33</li><li>74</li><li>68</li><li>33</li></ol>\n"
            ],
            "text/markdown": "1. 75\n2. 75\n3. 91\n4. 84\n5. 58\n6. 44\n7. 33\n8. 74\n9. 68\n10. 33\n\n\n",
            "text/latex": "\\begin{enumerate*}\n\\item 75\n\\item 75\n\\item 91\n\\item 84\n\\item 58\n\\item 44\n\\item 33\n\\item 74\n\\item 68\n\\item 33\n\\end{enumerate*}\n",
            "text/plain": [
              " [1] 75 75 91 84 58 44 33 74 68 33"
            ]
          },
          "metadata": {}
        }
      ]
    },
    {
      "cell_type": "code",
      "source": [
        "# Read the element 35 in sublist N\n",
        "listName$P6$N[7]"
      ],
      "metadata": {
        "colab": {
          "base_uri": "https://localhost:8080/",
          "height": 34
        },
        "id": "P3OdtDL17t8y",
        "outputId": "494b9011-65b0-4208-9979-4b174b89ee1e"
      },
      "execution_count": 70,
      "outputs": [
        {
          "output_type": "display_data",
          "data": {
            "text/html": [
              "33"
            ],
            "text/markdown": "33",
            "text/latex": "33",
            "text/plain": [
              "[1] 33"
            ]
          },
          "metadata": {}
        }
      ]
    },
    {
      "cell_type": "code",
      "source": [
        "#read first 2 elements of M\n",
        "listName$P6$M[1:2]"
      ],
      "metadata": {
        "colab": {
          "base_uri": "https://localhost:8080/",
          "height": 34
        },
        "id": "f3Kyt3Ds71y2",
        "outputId": "ea2b54eb-7b99-4705-e5f2-d36a51cb6895"
      },
      "execution_count": 71,
      "outputs": [
        {
          "output_type": "display_data",
          "data": {
            "text/html": [
              "<style>\n",
              ".list-inline {list-style: none; margin:0; padding: 0}\n",
              ".list-inline>li {display: inline-block}\n",
              ".list-inline>li:not(:last-child)::after {content: \"\\00b7\"; padding: 0 .5ex}\n",
              "</style>\n",
              "<ol class=list-inline><li>10</li><li>30</li></ol>\n"
            ],
            "text/markdown": "1. 10\n2. 30\n\n\n",
            "text/latex": "\\begin{enumerate*}\n\\item 10\n\\item 30\n\\end{enumerate*}\n",
            "text/plain": [
              "[1] 10 30"
            ]
          },
          "metadata": {}
        }
      ]
    },
    {
      "cell_type": "markdown",
      "source": [
        "# Update:updates a key value, if key exists"
      ],
      "metadata": {
        "id": "-2mKzPVy8ZuB"
      }
    },
    {
      "cell_type": "code",
      "source": [
        "# replace the P5 with %%%%%\n",
        "  listName$p5=rep('%',5)\n",
        "  listName\n"
      ],
      "metadata": {
        "colab": {
          "base_uri": "https://localhost:8080/",
          "height": 319
        },
        "id": "K04E-b-q8e6U",
        "outputId": "e59d1f0e-e069-42da-c239-76f6c5bfcbee"
      },
      "execution_count": 72,
      "outputs": [
        {
          "output_type": "display_data",
          "data": {
            "text/html": [
              "<dl>\n",
              "\t<dt>$P1</dt>\n",
              "\t\t<dd><style>\n",
              ".list-inline {list-style: none; margin:0; padding: 0}\n",
              ".list-inline>li {display: inline-block}\n",
              ".list-inline>li:not(:last-child)::after {content: \"\\00b7\"; padding: 0 .5ex}\n",
              "</style>\n",
              "<ol class=list-inline><li>'j'</li><li>'n'</li><li>'r'</li></ol>\n",
              "</dd>\n",
              "\t<dt>$P2</dt>\n",
              "\t\t<dd><style>\n",
              ".list-inline {list-style: none; margin:0; padding: 0}\n",
              ".list-inline>li {display: inline-block}\n",
              ".list-inline>li:not(:last-child)::after {content: \"\\00b7\"; padding: 0 .5ex}\n",
              "</style>\n",
              "<ol class=list-inline><li>15</li><li>16</li><li>17</li><li>18</li><li>19</li><li>20</li></ol>\n",
              "</dd>\n",
              "\t<dt>$P3</dt>\n",
              "\t\t<dd><style>\n",
              ".list-inline {list-style: none; margin:0; padding: 0}\n",
              ".list-inline>li {display: inline-block}\n",
              ".list-inline>li:not(:last-child)::after {content: \"\\00b7\"; padding: 0 .5ex}\n",
              "</style>\n",
              "<ol class=list-inline><li>'Blue'</li><li>'Black'</li></ol>\n",
              "</dd>\n",
              "\t<dt>$P4</dt>\n",
              "\t\t<dd><style>\n",
              ".list-inline {list-style: none; margin:0; padding: 0}\n",
              ".list-inline>li {display: inline-block}\n",
              ".list-inline>li:not(:last-child)::after {content: \"\\00b7\"; padding: 0 .5ex}\n",
              "</style>\n",
              "<ol class=list-inline><li>2</li><li>4</li><li>6</li><li>8</li><li>10</li></ol>\n",
              "</dd>\n",
              "\t<dt>$p5</dt>\n",
              "\t\t<dd><style>\n",
              ".list-inline {list-style: none; margin:0; padding: 0}\n",
              ".list-inline>li {display: inline-block}\n",
              ".list-inline>li:not(:last-child)::after {content: \"\\00b7\"; padding: 0 .5ex}\n",
              "</style>\n",
              "<ol class=list-inline><li>'%'</li><li>'%'</li><li>'%'</li><li>'%'</li><li>'%'</li></ol>\n",
              "</dd>\n",
              "\t<dt>$P6</dt>\n",
              "\t\t<dd><dl>\n",
              "\t<dt>$M</dt>\n",
              "\t\t<dd><style>\n",
              ".list-inline {list-style: none; margin:0; padding: 0}\n",
              ".list-inline>li {display: inline-block}\n",
              ".list-inline>li:not(:last-child)::after {content: \"\\00b7\"; padding: 0 .5ex}\n",
              "</style>\n",
              "<ol class=list-inline><li>10</li><li>30</li><li>50</li><li>70</li><li>90</li></ol>\n",
              "</dd>\n",
              "\t<dt>$N</dt>\n",
              "\t\t<dd><style>\n",
              ".list-inline {list-style: none; margin:0; padding: 0}\n",
              ".list-inline>li {display: inline-block}\n",
              ".list-inline>li:not(:last-child)::after {content: \"\\00b7\"; padding: 0 .5ex}\n",
              "</style>\n",
              "<ol class=list-inline><li>75</li><li>75</li><li>91</li><li>84</li><li>58</li><li>44</li><li>33</li><li>74</li><li>68</li><li>33</li></ol>\n",
              "</dd>\n",
              "</dl>\n",
              "</dd>\n",
              "</dl>\n"
            ],
            "text/markdown": "$P1\n:   1. 'j'\n2. 'n'\n3. 'r'\n\n\n\n$P2\n:   1. 15\n2. 16\n3. 17\n4. 18\n5. 19\n6. 20\n\n\n\n$P3\n:   1. 'Blue'\n2. 'Black'\n\n\n\n$P4\n:   1. 2\n2. 4\n3. 6\n4. 8\n5. 10\n\n\n\n$p5\n:   1. '%'\n2. '%'\n3. '%'\n4. '%'\n5. '%'\n\n\n\n$P6\n:   $M\n:   1. 10\n2. 30\n3. 50\n4. 70\n5. 90\n\n\n\n$N\n:   1. 75\n2. 75\n3. 91\n4. 84\n5. 58\n6. 44\n7. 33\n8. 74\n9. 68\n10. 33\n\n\n\n\n\n\n\n\n",
            "text/latex": "\\begin{description}\n\\item[\\$P1] \\begin{enumerate*}\n\\item 'j'\n\\item 'n'\n\\item 'r'\n\\end{enumerate*}\n\n\\item[\\$P2] \\begin{enumerate*}\n\\item 15\n\\item 16\n\\item 17\n\\item 18\n\\item 19\n\\item 20\n\\end{enumerate*}\n\n\\item[\\$P3] \\begin{enumerate*}\n\\item 'Blue'\n\\item 'Black'\n\\end{enumerate*}\n\n\\item[\\$P4] \\begin{enumerate*}\n\\item 2\n\\item 4\n\\item 6\n\\item 8\n\\item 10\n\\end{enumerate*}\n\n\\item[\\$p5] \\begin{enumerate*}\n\\item '\\%'\n\\item '\\%'\n\\item '\\%'\n\\item '\\%'\n\\item '\\%'\n\\end{enumerate*}\n\n\\item[\\$P6] \\begin{description}\n\\item[\\$M] \\begin{enumerate*}\n\\item 10\n\\item 30\n\\item 50\n\\item 70\n\\item 90\n\\end{enumerate*}\n\n\\item[\\$N] \\begin{enumerate*}\n\\item 75\n\\item 75\n\\item 91\n\\item 84\n\\item 58\n\\item 44\n\\item 33\n\\item 74\n\\item 68\n\\item 33\n\\end{enumerate*}\n\n\\end{description}\n\n\\end{description}\n",
            "text/plain": [
              "$P1\n",
              "[1] \"j\" \"n\" \"r\"\n",
              "\n",
              "$P2\n",
              "[1] 15 16 17 18 19 20\n",
              "\n",
              "$P3\n",
              "[1] \"Blue\"  \"Black\"\n",
              "\n",
              "$P4\n",
              "[1]  2  4  6  8 10\n",
              "\n",
              "$p5\n",
              "[1] \"%\" \"%\" \"%\" \"%\" \"%\"\n",
              "\n",
              "$P6\n",
              "$P6$M\n",
              "[1] 10 30 50 70 90\n",
              "\n",
              "$P6$N\n",
              " [1] 75 75 91 84 58 44 33 74 68 33\n",
              "\n"
            ]
          },
          "metadata": {}
        }
      ]
    },
    {
      "cell_type": "markdown",
      "source": [
        "# How to remove keyvalue pair?"
      ],
      "metadata": {
        "id": "wNd7Jdcs8yxt"
      }
    },
    {
      "cell_type": "code",
      "source": [
        "# remove P6\n",
        "listName$P6<-NULL\n",
        "listName"
      ],
      "metadata": {
        "colab": {
          "base_uri": "https://localhost:8080/",
          "height": 219
        },
        "id": "_1KhRd5K8tAo",
        "outputId": "481a95d0-d3a8-47fe-c82a-10e7f79f0f17"
      },
      "execution_count": 73,
      "outputs": [
        {
          "output_type": "display_data",
          "data": {
            "text/html": [
              "<dl>\n",
              "\t<dt>$P1</dt>\n",
              "\t\t<dd><style>\n",
              ".list-inline {list-style: none; margin:0; padding: 0}\n",
              ".list-inline>li {display: inline-block}\n",
              ".list-inline>li:not(:last-child)::after {content: \"\\00b7\"; padding: 0 .5ex}\n",
              "</style>\n",
              "<ol class=list-inline><li>'j'</li><li>'n'</li><li>'r'</li></ol>\n",
              "</dd>\n",
              "\t<dt>$P2</dt>\n",
              "\t\t<dd><style>\n",
              ".list-inline {list-style: none; margin:0; padding: 0}\n",
              ".list-inline>li {display: inline-block}\n",
              ".list-inline>li:not(:last-child)::after {content: \"\\00b7\"; padding: 0 .5ex}\n",
              "</style>\n",
              "<ol class=list-inline><li>15</li><li>16</li><li>17</li><li>18</li><li>19</li><li>20</li></ol>\n",
              "</dd>\n",
              "\t<dt>$P3</dt>\n",
              "\t\t<dd><style>\n",
              ".list-inline {list-style: none; margin:0; padding: 0}\n",
              ".list-inline>li {display: inline-block}\n",
              ".list-inline>li:not(:last-child)::after {content: \"\\00b7\"; padding: 0 .5ex}\n",
              "</style>\n",
              "<ol class=list-inline><li>'Blue'</li><li>'Black'</li></ol>\n",
              "</dd>\n",
              "\t<dt>$P4</dt>\n",
              "\t\t<dd><style>\n",
              ".list-inline {list-style: none; margin:0; padding: 0}\n",
              ".list-inline>li {display: inline-block}\n",
              ".list-inline>li:not(:last-child)::after {content: \"\\00b7\"; padding: 0 .5ex}\n",
              "</style>\n",
              "<ol class=list-inline><li>2</li><li>4</li><li>6</li><li>8</li><li>10</li></ol>\n",
              "</dd>\n",
              "\t<dt>$p5</dt>\n",
              "\t\t<dd><style>\n",
              ".list-inline {list-style: none; margin:0; padding: 0}\n",
              ".list-inline>li {display: inline-block}\n",
              ".list-inline>li:not(:last-child)::after {content: \"\\00b7\"; padding: 0 .5ex}\n",
              "</style>\n",
              "<ol class=list-inline><li>'%'</li><li>'%'</li><li>'%'</li><li>'%'</li><li>'%'</li></ol>\n",
              "</dd>\n",
              "</dl>\n"
            ],
            "text/markdown": "$P1\n:   1. 'j'\n2. 'n'\n3. 'r'\n\n\n\n$P2\n:   1. 15\n2. 16\n3. 17\n4. 18\n5. 19\n6. 20\n\n\n\n$P3\n:   1. 'Blue'\n2. 'Black'\n\n\n\n$P4\n:   1. 2\n2. 4\n3. 6\n4. 8\n5. 10\n\n\n\n$p5\n:   1. '%'\n2. '%'\n3. '%'\n4. '%'\n5. '%'\n\n\n\n\n\n",
            "text/latex": "\\begin{description}\n\\item[\\$P1] \\begin{enumerate*}\n\\item 'j'\n\\item 'n'\n\\item 'r'\n\\end{enumerate*}\n\n\\item[\\$P2] \\begin{enumerate*}\n\\item 15\n\\item 16\n\\item 17\n\\item 18\n\\item 19\n\\item 20\n\\end{enumerate*}\n\n\\item[\\$P3] \\begin{enumerate*}\n\\item 'Blue'\n\\item 'Black'\n\\end{enumerate*}\n\n\\item[\\$P4] \\begin{enumerate*}\n\\item 2\n\\item 4\n\\item 6\n\\item 8\n\\item 10\n\\end{enumerate*}\n\n\\item[\\$p5] \\begin{enumerate*}\n\\item '\\%'\n\\item '\\%'\n\\item '\\%'\n\\item '\\%'\n\\item '\\%'\n\\end{enumerate*}\n\n\\end{description}\n",
            "text/plain": [
              "$P1\n",
              "[1] \"j\" \"n\" \"r\"\n",
              "\n",
              "$P2\n",
              "[1] 15 16 17 18 19 20\n",
              "\n",
              "$P3\n",
              "[1] \"Blue\"  \"Black\"\n",
              "\n",
              "$P4\n",
              "[1]  2  4  6  8 10\n",
              "\n",
              "$p5\n",
              "[1] \"%\" \"%\" \"%\" \"%\" \"%\"\n"
            ]
          },
          "metadata": {}
        }
      ]
    },
    {
      "cell_type": "markdown",
      "source": [
        "# How to find the key names?"
      ],
      "metadata": {
        "id": "1oRWPbXF9Dmz"
      }
    },
    {
      "cell_type": "code",
      "source": [
        "# finding the names\n",
        "names(listName)"
      ],
      "metadata": {
        "colab": {
          "base_uri": "https://localhost:8080/",
          "height": 34
        },
        "id": "EbAYEBTD8_l2",
        "outputId": "d0880007-bdaf-449a-a162-6148796ddca5"
      },
      "execution_count": 74,
      "outputs": [
        {
          "output_type": "display_data",
          "data": {
            "text/html": [
              "<style>\n",
              ".list-inline {list-style: none; margin:0; padding: 0}\n",
              ".list-inline>li {display: inline-block}\n",
              ".list-inline>li:not(:last-child)::after {content: \"\\00b7\"; padding: 0 .5ex}\n",
              "</style>\n",
              "<ol class=list-inline><li>'P1'</li><li>'P2'</li><li>'P3'</li><li>'P4'</li><li>'p5'</li></ol>\n"
            ],
            "text/markdown": "1. 'P1'\n2. 'P2'\n3. 'P3'\n4. 'P4'\n5. 'p5'\n\n\n",
            "text/latex": "\\begin{enumerate*}\n\\item 'P1'\n\\item 'P2'\n\\item 'P3'\n\\item 'P4'\n\\item 'p5'\n\\end{enumerate*}\n",
            "text/plain": [
              "[1] \"P1\" \"P2\" \"P3\" \"P4\" \"p5\""
            ]
          },
          "metadata": {}
        }
      ]
    },
    {
      "cell_type": "code",
      "source": [
        "# changing the key name\n",
        "names(listName)=c(\"M1\",\"M2\",\"M3\",\"M4\",\"M5\")\n",
        "names(listName)"
      ],
      "metadata": {
        "colab": {
          "base_uri": "https://localhost:8080/",
          "height": 34
        },
        "id": "GcdNQl_H9MUE",
        "outputId": "d4ab6e1f-b4ac-45e3-9206-bd652f4da0c0"
      },
      "execution_count": 76,
      "outputs": [
        {
          "output_type": "display_data",
          "data": {
            "text/html": [
              "<style>\n",
              ".list-inline {list-style: none; margin:0; padding: 0}\n",
              ".list-inline>li {display: inline-block}\n",
              ".list-inline>li:not(:last-child)::after {content: \"\\00b7\"; padding: 0 .5ex}\n",
              "</style>\n",
              "<ol class=list-inline><li>'M1'</li><li>'M2'</li><li>'M3'</li><li>'M4'</li><li>'M5'</li></ol>\n"
            ],
            "text/markdown": "1. 'M1'\n2. 'M2'\n3. 'M3'\n4. 'M4'\n5. 'M5'\n\n\n",
            "text/latex": "\\begin{enumerate*}\n\\item 'M1'\n\\item 'M2'\n\\item 'M3'\n\\item 'M4'\n\\item 'M5'\n\\end{enumerate*}\n",
            "text/plain": [
              "[1] \"M1\" \"M2\" \"M3\" \"M4\" \"M5\""
            ]
          },
          "metadata": {}
        }
      ]
    }
  ]
}