{
  "nbformat": 4,
  "nbformat_minor": 0,
  "metadata": {
    "colab": {
      "provenance": [],
      "include_colab_link": true
    },
    "kernelspec": {
      "name": "ir",
      "display_name": "R"
    },
    "language_info": {
      "name": "R"
    }
  },
  "cells": [
    {
      "cell_type": "markdown",
      "metadata": {
        "id": "view-in-github",
        "colab_type": "text"
      },
      "source": [
        "<a href=\"https://colab.research.google.com/github/Rajat504/CLOUDYML/blob/main/Functions%2CFactors_%26_Lists_in_R4_0.ipynb\" target=\"_parent\"><img src=\"https://colab.research.google.com/assets/colab-badge.svg\" alt=\"Open In Colab\"/></a>"
      ]
    },
    {
      "cell_type": "markdown",
      "source": [
        "# Creating a Factor:\n",
        "\n"
      ],
      "metadata": {
        "id": "1EOSmIOWWuVF"
      }
    },
    {
      "cell_type": "code",
      "execution_count": 2,
      "metadata": {
        "colab": {
          "base_uri": "https://localhost:8080/"
        },
        "id": "9kbl8lkpWaBf",
        "outputId": "8d83587c-8f23-41ad-8837-ac8f3d8ec8f1"
      },
      "outputs": [
        {
          "output_type": "stream",
          "name": "stdout",
          "text": [
            "[1] \"Delhi\"   \"Mumbai\"  \"Chennai\" \"Kolkata\"\n",
            "[1] Delhi   Mumbai  Chennai Kolkata\n",
            "Levels: Chennai Delhi Kolkata Mumbai\n"
          ]
        }
      ],
      "source": [
        "# Creating a vector\n",
        "x<-c(\"Delhi\",\"Mumbai\",\"Chennai\",\"Kolkata\")\n",
        "print(x)\n",
        "\n",
        "# Converting the vector x into a factor\n",
        "Metropolitian_city<-factor(x)\n",
        "print(Metropolitian_city)\n",
        "# named gender\n",
        "\n",
        "\n",
        "\n"
      ]
    },
    {
      "cell_type": "markdown",
      "source": [
        "# Checking for a Factor in R\n",
        "The function is.factor() is used to check whether the variable is a factor and returns “TRUE” if it is a factor"
      ],
      "metadata": {
        "id": "Rri10YpgW3i9"
      }
    },
    {
      "cell_type": "code",
      "source": [
        "Metropolitian_city<- factor(c(\"Delhi\",\"Mumbai\",\"Chennai\",\"Kolkata\"))\n",
        "\n",
        "\n",
        "# check if it is factor\n",
        "print(is.factor(Metropolitian_city))\n"
      ],
      "metadata": {
        "colab": {
          "base_uri": "https://localhost:8080/"
        },
        "id": "4_b8_YDLW4YZ",
        "outputId": "a95a6649-a6de-410c-e5fd-d7a531a2b428"
      },
      "execution_count": 3,
      "outputs": [
        {
          "output_type": "stream",
          "name": "stdout",
          "text": [
            "[1] TRUE\n"
          ]
        }
      ]
    },
    {
      "cell_type": "markdown",
      "source": [
        "Function class() is also used to check whether the variable is a factor and if true returns “factor”.\n",
        "\n"
      ],
      "metadata": {
        "id": "ZxNIA4nMXLMm"
      }
    },
    {
      "cell_type": "code",
      "source": [
        "Metropolitian_city <- factor(c(\"Delhi\",\"Mumbai\",\"Chennai\",\"Kolkata\"))\n",
        "\n",
        "# Check using class method if it is a vector\n",
        "class(Metropolitian_city)\n",
        "\n"
      ],
      "metadata": {
        "colab": {
          "base_uri": "https://localhost:8080/",
          "height": 34
        },
        "id": "30TZznT0XMlH",
        "outputId": "95d92c63-036c-4313-bc68-a51c2f71adb6"
      },
      "execution_count": 4,
      "outputs": [
        {
          "output_type": "display_data",
          "data": {
            "text/html": [
              "'factor'"
            ],
            "text/markdown": "'factor'",
            "text/latex": "'factor'",
            "text/plain": [
              "[1] \"factor\""
            ]
          },
          "metadata": {}
        }
      ]
    },
    {
      "cell_type": "markdown",
      "source": [
        "#Accessing elements of a Factor in R\n",
        "Like we access elements of a vector, the same way we access the elements of a factor. If Metropolitian_city  is a factor then Metropolitian_city [i] would mean accessing ith element in the factor."
      ],
      "metadata": {
        "id": "48b68E-XXcyq"
      }
    },
    {
      "cell_type": "code",
      "source": [
        "Metropolitian_city<- factor(c(\"Delhi\",\"Mumbai\",\"Chennai\",\"Kolkata\"))\n",
        "\n",
        "# access chennai\n",
        "Metropolitian_city[3]\n",
        "\n"
      ],
      "metadata": {
        "colab": {
          "base_uri": "https://localhost:8080/",
          "height": 52
        },
        "id": "BDKr_7yNXds8",
        "outputId": "a461f312-0825-41af-88cf-4dd4e0d2d310"
      },
      "execution_count": 5,
      "outputs": [
        {
          "output_type": "display_data",
          "data": {
            "text/html": [
              "Chennai\n",
              "<details>\n",
              "\t<summary style=display:list-item;cursor:pointer>\n",
              "\t\t<strong>Levels</strong>:\n",
              "\t</summary>\n",
              "\t<style>\n",
              "\t.list-inline {list-style: none; margin:0; padding: 0}\n",
              "\t.list-inline>li {display: inline-block}\n",
              "\t.list-inline>li:not(:last-child)::after {content: \"\\00b7\"; padding: 0 .5ex}\n",
              "\t</style>\n",
              "\t<ol class=list-inline><li>'Chennai'</li><li>'Delhi'</li><li>'Kolkata'</li><li>'Mumbai'</li></ol>\n",
              "</details>"
            ],
            "text/markdown": "Chennai\n**Levels**: 1. 'Chennai'\n2. 'Delhi'\n3. 'Kolkata'\n4. 'Mumbai'\n\n\n",
            "text/latex": "Chennai\n\\emph{Levels}: \\begin{enumerate*}\n\\item 'Chennai'\n\\item 'Delhi'\n\\item 'Kolkata'\n\\item 'Mumbai'\n\\end{enumerate*}\n",
            "text/plain": [
              "[1] Chennai\n",
              "Levels: Chennai Delhi Kolkata Mumbai"
            ]
          },
          "metadata": {}
        }
      ]
    },
    {
      "cell_type": "markdown",
      "source": [
        "More than one element can be accessed at a time."
      ],
      "metadata": {
        "id": "qz8oPuvxYCQp"
      }
    },
    {
      "cell_type": "code",
      "source": [
        "Metropolitian_city<- factor(c(\"Delhi\",\"Mumbai\",\"Chennai\",\"Kolkata\"))\n",
        "\n",
        "# access mumbai and kolkata\n",
        "Metropolitian_city[c(2,4)]\n",
        "\n"
      ],
      "metadata": {
        "colab": {
          "base_uri": "https://localhost:8080/",
          "height": 52
        },
        "id": "BWanjgM5YDQf",
        "outputId": "fed57911-672f-4b31-cdb7-e56dda85f1fb"
      },
      "execution_count": 6,
      "outputs": [
        {
          "output_type": "display_data",
          "data": {
            "text/html": [
              "<style>\n",
              ".list-inline {list-style: none; margin:0; padding: 0}\n",
              ".list-inline>li {display: inline-block}\n",
              ".list-inline>li:not(:last-child)::after {content: \"\\00b7\"; padding: 0 .5ex}\n",
              "</style>\n",
              "<ol class=list-inline><li>Mumbai</li><li>Kolkata</li></ol>\n",
              "\n",
              "<details>\n",
              "\t<summary style=display:list-item;cursor:pointer>\n",
              "\t\t<strong>Levels</strong>:\n",
              "\t</summary>\n",
              "\t<style>\n",
              "\t.list-inline {list-style: none; margin:0; padding: 0}\n",
              "\t.list-inline>li {display: inline-block}\n",
              "\t.list-inline>li:not(:last-child)::after {content: \"\\00b7\"; padding: 0 .5ex}\n",
              "\t</style>\n",
              "\t<ol class=list-inline><li>'Chennai'</li><li>'Delhi'</li><li>'Kolkata'</li><li>'Mumbai'</li></ol>\n",
              "</details>"
            ],
            "text/markdown": "1. Mumbai\n2. Kolkata\n\n\n\n**Levels**: 1. 'Chennai'\n2. 'Delhi'\n3. 'Kolkata'\n4. 'Mumbai'\n\n\n",
            "text/latex": "\\begin{enumerate*}\n\\item Mumbai\n\\item Kolkata\n\\end{enumerate*}\n\n\\emph{Levels}: \\begin{enumerate*}\n\\item 'Chennai'\n\\item 'Delhi'\n\\item 'Kolkata'\n\\item 'Mumbai'\n\\end{enumerate*}\n",
            "text/plain": [
              "[1] Mumbai  Kolkata\n",
              "Levels: Chennai Delhi Kolkata Mumbai"
            ]
          },
          "metadata": {}
        }
      ]
    },
    {
      "cell_type": "code",
      "source": [
        "# print length of vector\n",
        "length(Metropolitian_city)\n"
      ],
      "metadata": {
        "colab": {
          "base_uri": "https://localhost:8080/",
          "height": 34
        },
        "id": "a5EgW1d8Z8gj",
        "outputId": "1c601e7f-5df3-41d2-eccf-282bbec6ce55"
      },
      "execution_count": 7,
      "outputs": [
        {
          "output_type": "display_data",
          "data": {
            "text/html": [
              "4"
            ],
            "text/markdown": "4",
            "text/latex": "4",
            "text/plain": [
              "[1] 4"
            ]
          },
          "metadata": {}
        }
      ]
    }
  ]
}