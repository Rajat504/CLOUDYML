{
  "cells": [
    {
      "cell_type": "markdown",
      "metadata": {
        "id": "view-in-github",
        "colab_type": "text"
      },
      "source": [
        "<a href=\"https://colab.research.google.com/github/Rajat504/CLOUDYML/blob/main/Join_queries_withcode.ipynb\" target=\"_parent\"><img src=\"https://colab.research.google.com/assets/colab-badge.svg\" alt=\"Open In Colab\"/></a>"
      ]
    },
    {
      "cell_type": "markdown",
      "source": [
        "<h1><center><u><b>Join Queries</h1></center></u></b>"
      ],
      "metadata": {
        "id": "JA048VlqdigI"
      }
    },
    {
      "cell_type": "markdown",
      "source": [
        "![](https://3.bp.blogspot.com/-T3AF_1dtm8o/We25HQL809I/AAAAAAAAA2E/tKsbZGd2Ev0woezzYxiKBUIGGNkXYKAlQCLcBGAs/s1600/sql-joins.png)"
      ],
      "metadata": {
        "id": "_LnWX4SR_9eu"
      }
    },
    {
      "cell_type": "markdown",
      "source": [
        "### **DATABASE CREATION AND CONNECTING IT**\n",
        "\n",
        "#### **Just run next 4 cells**"
      ],
      "metadata": {
        "id": "qAvj3GYv1HSh"
      }
    },
    {
      "cell_type": "code",
      "execution_count": null,
      "metadata": {
        "id": "pSVR3XN50_Q5"
      },
      "outputs": [],
      "source": [
        "## JUST RUN THIS CELL\n",
        "import sqlite3\n",
        "import pandas as pd"
      ]
    },
    {
      "cell_type": "code",
      "execution_count": null,
      "metadata": {
        "id": "Yc6zqeuo0_RB"
      },
      "outputs": [],
      "source": [
        "# run this to create and connect to database\n",
        "connection = sqlite3.connect('cloud1.db')"
      ]
    },
    {
      "cell_type": "code",
      "execution_count": null,
      "metadata": {
        "id": "hTsXWV2E0_RC"
      },
      "outputs": [],
      "source": [
        "%load_ext sql"
      ]
    },
    {
      "cell_type": "code",
      "execution_count": null,
      "metadata": {
        "id": "Bz9xo4du0_RD",
        "colab": {
          "base_uri": "https://localhost:8080/",
          "height": 36
        },
        "outputId": "df05c047-388a-4e2e-a3af-eeaf3070ec8c"
      },
      "outputs": [
        {
          "output_type": "execute_result",
          "data": {
            "text/plain": [
              "'Connected: @cloud1.db'"
            ],
            "application/vnd.google.colaboratory.intrinsic+json": {
              "type": "string"
            }
          },
          "metadata": {},
          "execution_count": 4
        }
      ],
      "source": [
        "# connecting to cloud.db\n",
        "%sql sqlite:///cloud1.db"
      ]
    },
    {
      "cell_type": "markdown",
      "source": [
        "###**NOW WE WILL CREATE TABLES AND INSERT DATA**\n",
        "##### **RUN NEXT 8 CELLS TO CREATE TABLE AND INSERT DATA**\n"
      ],
      "metadata": {
        "id": "2653q7v61Vlu"
      }
    },
    {
      "cell_type": "code",
      "execution_count": null,
      "metadata": {
        "scrolled": true,
        "id": "ZaSOfNwF0_RD",
        "outputId": "bd609785-396f-449c-e5e9-207d2299ddf8",
        "colab": {
          "base_uri": "https://localhost:8080/"
        }
      },
      "outputs": [
        {
          "output_type": "stream",
          "name": "stdout",
          "text": [
            " * sqlite:///cloud1.db\n",
            "Done.\n"
          ]
        },
        {
          "output_type": "execute_result",
          "data": {
            "text/plain": [
              "[]"
            ]
          },
          "metadata": {},
          "execution_count": 5
        }
      ],
      "source": [
        "%%sql\n",
        "\n",
        "CREATE table album (id int(16), artist_id int(25), name varchar(100), year int(10))"
      ]
    },
    {
      "cell_type": "code",
      "execution_count": null,
      "metadata": {
        "id": "dxFAHUCT0_RG",
        "outputId": "e0c26cfe-715e-47a3-8c73-dad336f3349e",
        "colab": {
          "base_uri": "https://localhost:8080/"
        }
      },
      "outputs": [
        {
          "output_type": "stream",
          "name": "stdout",
          "text": [
            " * sqlite:///cloud1.db\n",
            "13 rows affected.\n"
          ]
        },
        {
          "output_type": "execute_result",
          "data": {
            "text/plain": [
              "[]"
            ]
          },
          "metadata": {},
          "execution_count": 6
        }
      ],
      "source": [
        "%%sql\n",
        "INSERT INTO album (id, artist_id, name, year) VALUES(1,\t1, 'Devils got a new disguise', 2006),\n",
        "(2,1,'Keeps getting better',2008),(3,\t1,'Master of Puppets',1986),(4,\t2,'Endgame',2009),\n",
        "(5,\t2,'Icon',2012),(6,3,'Story',2000),(7,4,'Chapters',2003),\n",
        "(8,4,'Riding with the King',2000),(9,5,'Pieces of a Dream',2005),(10,6,'Greatest Hits',2004),\n",
        "(11,7,'All-Time Greatest Hits',1975),(12,8,'Greatest Hits',1983),(13,9,\"Ultimate Collection\",2015)\n"
      ]
    },
    {
      "cell_type": "code",
      "source": [
        "%%sql\n",
        "\n",
        "CREATE table song (id int(10), album_id int(50), name varchar(50), duration float(20))"
      ],
      "metadata": {
        "colab": {
          "base_uri": "https://localhost:8080/"
        },
        "id": "4qvzrPlL3RQE",
        "outputId": "4909c8e4-bc81-4c33-e96e-e25b6413f826"
      },
      "execution_count": null,
      "outputs": [
        {
          "output_type": "stream",
          "name": "stdout",
          "text": [
            " * sqlite:///cloud1.db\n",
            "Done.\n"
          ]
        },
        {
          "output_type": "execute_result",
          "data": {
            "text/plain": [
              "[]"
            ]
          },
          "metadata": {},
          "execution_count": 7
        }
      ]
    },
    {
      "cell_type": "code",
      "source": [
        "%%sql\n",
        "INSERT INTO song (id, album_id, name, duration) VALUES(1,1,'Dream On',4.26),(2,1,'Back in the Saddle',4.40),\n",
        "(3,2,'Genie in a Bottle',5.3),(4,2,'Beautiful',5.29),(5,3,'Master of Puppets',8.35),\n",
        "(6,3,'Battery',5.13),(7,4,'Dialectic Chaos',2.26),(8,4,'Endgame',5.57),(9,5,'Watching Airplanes',4.03),\n",
        "(10,5,'Man to Man',3.41),(11,6,'Balck Winter Day',3.48),(12,6,'Against Widows',4.04),(13,7,'Reptile',3.36),\n",
        "(14,7,'Modern Girl',4.49),(15,8,'Riding with the King',4.23),(16,8,'Key to the Highway',3.39),\n",
        "(17,9,'Im Outta Love',4.02),(18,9,'Not That Kind',3.20),(19,10,'Eruption',1.43),(20,10,'Hot For Teacher',4.43),\n",
        "(21,11,'Sweet Home Alabama',4.45),(22,11,'Free Bird',14.23),(23,12,'Thunderstruck',4.52),(24,12,'T.N.T',3.35),\n",
        "(25,13,\"Sgt. Pepper's Lonely Hearts Club Band\",2.0333),(26,13,'With a Little Help from My Friends',2.7333),\n",
        "(27,13,'Lucy in the Sky with Diamonds',3.4666),(28,13,'Getting Better',2.8),(29,13,'Fixing a Hole',2.6),\n",
        "(30,13,\"She's Leaving Home\",3.5833),(31,13,'Being for the Benefit of Mr. Kite!',2.6166),\n",
        "(32,13,'Within You Without You',5.066),(33,13,\"When I'm Sixty-Four\",2.6166),(34,13,'Lovely Rita',2.7),\n",
        "(35,13,'Good Morning Good Morning',2.6833),(36,13,\"Sgt. Pepper's Lonely Hearts Club Band (Reprise)\",1.3166),(37,13,'A Day in the Life',5.65)\n"
      ],
      "metadata": {
        "id": "4JNXD3mr3xO9",
        "colab": {
          "base_uri": "https://localhost:8080/"
        },
        "outputId": "afbd1bc8-aae5-4109-c7fe-b6378764e168"
      },
      "execution_count": null,
      "outputs": [
        {
          "output_type": "stream",
          "name": "stdout",
          "text": [
            " * sqlite:///cloud1.db\n",
            "37 rows affected.\n"
          ]
        },
        {
          "output_type": "execute_result",
          "data": {
            "text/plain": [
              "[]"
            ]
          },
          "metadata": {},
          "execution_count": 8
        }
      ]
    },
    {
      "cell_type": "code",
      "source": [
        "%%sql\n",
        "\n",
        "CREATE table record_label (id int(10), name varchar(50))"
      ],
      "metadata": {
        "colab": {
          "base_uri": "https://localhost:8080/"
        },
        "id": "iHmiCApdbo7v",
        "outputId": "03e41ec7-faf3-4d21-e742-d30dbf4963ab"
      },
      "execution_count": null,
      "outputs": [
        {
          "output_type": "stream",
          "name": "stdout",
          "text": [
            " * sqlite:///cloud1.db\n",
            "Done.\n"
          ]
        },
        {
          "output_type": "execute_result",
          "data": {
            "text/plain": [
              "[]"
            ]
          },
          "metadata": {},
          "execution_count": 9
        }
      ]
    },
    {
      "cell_type": "code",
      "source": [
        "%%sql\n",
        "INSERT INTO record_label (id, name) VALUES(1,'Blackened'),\n",
        "(6,'Capitol'),\n",
        "(5,'Elektra'),\n",
        "(4,'MCA'),\n",
        "(3,'Universal'),\n",
        "(2,'Warner Bros')\n"
      ],
      "metadata": {
        "colab": {
          "base_uri": "https://localhost:8080/"
        },
        "id": "rCmwdRhgb3Iv",
        "outputId": "31ee2461-1e01-4283-aa46-4728d74f178b"
      },
      "execution_count": null,
      "outputs": [
        {
          "output_type": "stream",
          "name": "stdout",
          "text": [
            " * sqlite:///cloud1.db\n",
            "6 rows affected.\n"
          ]
        },
        {
          "output_type": "execute_result",
          "data": {
            "text/plain": [
              "[]"
            ]
          },
          "metadata": {},
          "execution_count": 10
        }
      ]
    },
    {
      "cell_type": "code",
      "source": [
        "%%sql\n",
        "\n",
        "CREATE table artist (id int(10), record_label_id int(10), name varchar(50))"
      ],
      "metadata": {
        "colab": {
          "base_uri": "https://localhost:8080/"
        },
        "id": "fGAevredcY6q",
        "outputId": "5918bff4-77d9-49be-b985-0d4491e5ce44"
      },
      "execution_count": null,
      "outputs": [
        {
          "output_type": "stream",
          "name": "stdout",
          "text": [
            " * sqlite:///cloud1.db\n",
            "Done.\n"
          ]
        },
        {
          "output_type": "execute_result",
          "data": {
            "text/plain": [
              "[]"
            ]
          },
          "metadata": {},
          "execution_count": 11
        }
      ]
    },
    {
      "cell_type": "code",
      "source": [
        "%%sql\n",
        "INSERT INTO artist (id, record_label_id, name) VALUES(3,1,'Anthrax'),\n",
        "(2,1,'Christina'),\n",
        "(1,1,'Aerosmith'),\n",
        "(4,2,'Eric Clapton'),\n",
        "(6,2,'Amorphis'),\n",
        "(5,2,'Gary Allan'),\n",
        "(8,3,'AC/DC'),\n",
        "(7,3,'Lynyrd Skynyrd'),\n",
        "(9,6,'Anastacia')\n",
        "\n"
      ],
      "metadata": {
        "colab": {
          "base_uri": "https://localhost:8080/"
        },
        "id": "QC17GQnXck0y",
        "outputId": "010f1399-acd4-49ba-85d6-32b854be9866"
      },
      "execution_count": null,
      "outputs": [
        {
          "output_type": "stream",
          "name": "stdout",
          "text": [
            " * sqlite:///cloud1.db\n",
            "9 rows affected.\n"
          ]
        },
        {
          "output_type": "execute_result",
          "data": {
            "text/plain": [
              "[]"
            ]
          },
          "metadata": {},
          "execution_count": 12
        }
      ]
    },
    {
      "cell_type": "markdown",
      "metadata": {
        "id": "2DRX5pNd0_RJ"
      },
      "source": [
        "## **Reference Video For Joins**"
      ]
    },
    {
      "cell_type": "code",
      "execution_count": null,
      "metadata": {
        "id": "tuanIGC20_RM",
        "outputId": "7f344973-fe7a-4fa3-b9e7-aab2ab357075",
        "colab": {
          "base_uri": "https://localhost:8080/",
          "height": 322
        }
      },
      "outputs": [
        {
          "output_type": "execute_result",
          "data": {
            "text/plain": [
              "<IPython.lib.display.YouTubeVideo at 0x7f46dcb1a050>"
            ],
            "text/html": [
              "\n",
              "        <iframe\n",
              "            width=\"600\"\n",
              "            height=\"300\"\n",
              "            src=\"https://www.youtube.com/embed/0OQJDd3QqQM\"\n",
              "            frameborder=\"0\"\n",
              "            allowfullscreen\n",
              "        ></iframe>\n",
              "        "
            ],
            "image/jpeg": "[encoded data removed]"
          },
          "metadata": {},
          "execution_count": 13
        }
      ],
      "source": [
        "from IPython.display import YouTubeVideo\n",
        "\n",
        "YouTubeVideo('0OQJDd3QqQM', width=600, height=300)"
      ]
    },
    {
      "cell_type": "markdown",
      "source": [
        "## **Another Great SQL Reference Tutorial**"
      ],
      "metadata": {
        "id": "uEbAm7XYTmus"
      }
    },
    {
      "cell_type": "code",
      "execution_count": null,
      "metadata": {
        "id": "MiPTPEBw0_RQ",
        "outputId": "1a3063e7-a695-4ea5-df13-78f5a52ab96c",
        "colab": {
          "base_uri": "https://localhost:8080/",
          "height": 322
        }
      },
      "outputs": [
        {
          "output_type": "execute_result",
          "data": {
            "text/plain": [
              "<IPython.lib.display.YouTubeVideo at 0x7f46d99e6b90>"
            ],
            "text/html": [
              "\n",
              "        <iframe\n",
              "            width=\"600\"\n",
              "            height=\"300\"\n",
              "            src=\"https://www.youtube.com/embed/7S_tz1z_5bA\"\n",
              "            frameborder=\"0\"\n",
              "            allowfullscreen\n",
              "        ></iframe>\n",
              "        "
            ],
            "image/jpeg": "[encoded data removed]"
          },
          "metadata": {},
          "execution_count": 14
        }
      ],
      "source": [
        "#Reference video:\n",
        "from IPython.display import YouTubeVideo\n",
        "\n",
        "YouTubeVideo('7S_tz1z_5bA', width=600, height=300)"
      ]
    },
    {
      "cell_type": "markdown",
      "metadata": {
        "id": "sYJg8z7R0_RR"
      },
      "source": [
        "<b> refer this link to know more on how to join 3 or more tables :\n",
        "https://learnsql.com/blog/how-to-join-3-tables-or-more-in-sql/  </b>"
      ]
    },
    {
      "cell_type": "markdown",
      "source": [
        "## **Great.... Now You Are Ready To Apply Learnings On Tables We Created**"
      ],
      "metadata": {
        "id": "Cjz-hmPTT4Cf"
      }
    },
    {
      "cell_type": "markdown",
      "metadata": {
        "id": "w5ts0yBG0_RS"
      },
      "source": [
        "<b>1.Show all the 4 tables</b>"
      ]
    },
    {
      "cell_type": "code",
      "execution_count": null,
      "metadata": {
        "id": "Fs28qJyg0_RS",
        "outputId": "856a355f-14cc-4333-c516-671a117d8f18",
        "colab": {
          "base_uri": "https://localhost:8080/",
          "height": 347
        }
      },
      "outputs": [
        {
          "output_type": "stream",
          "name": "stdout",
          "text": [
            " * sqlite:///cloud1.db\n",
            "Done.\n"
          ]
        },
        {
          "output_type": "execute_result",
          "data": {
            "text/plain": [
              "[(1, 1, 'Devils got a new disguise', 2006),\n",
              " (2, 1, 'Keeps getting better', 2008),\n",
              " (3, 1, 'Master of Puppets', 1986),\n",
              " (4, 2, 'Endgame', 2009),\n",
              " (5, 2, 'Icon', 2012),\n",
              " (6, 3, 'Story', 2000),\n",
              " (7, 4, 'Chapters', 2003),\n",
              " (8, 4, 'Riding with the King', 2000),\n",
              " (9, 5, 'Pieces of a Dream', 2005),\n",
              " (10, 6, 'Greatest Hits', 2004),\n",
              " (11, 7, 'All-Time Greatest Hits', 1975),\n",
              " (12, 8, 'Greatest Hits', 1983),\n",
              " (13, 9, 'Ultimate Collection', 2015)]"
            ],
            "text/html": [
              "<table>\n",
              "    <thead>\n",
              "        <tr>\n",
              "            <th>id</th>\n",
              "            <th>artist_id</th>\n",
              "            <th>name</th>\n",
              "            <th>year</th>\n",
              "        </tr>\n",
              "    </thead>\n",
              "    <tbody>\n",
              "        <tr>\n",
              "            <td>1</td>\n",
              "            <td>1</td>\n",
              "            <td>Devils got a new disguise</td>\n",
              "            <td>2006</td>\n",
              "        </tr>\n",
              "        <tr>\n",
              "            <td>2</td>\n",
              "            <td>1</td>\n",
              "            <td>Keeps getting better</td>\n",
              "            <td>2008</td>\n",
              "        </tr>\n",
              "        <tr>\n",
              "            <td>3</td>\n",
              "            <td>1</td>\n",
              "            <td>Master of Puppets</td>\n",
              "            <td>1986</td>\n",
              "        </tr>\n",
              "        <tr>\n",
              "            <td>4</td>\n",
              "            <td>2</td>\n",
              "            <td>Endgame</td>\n",
              "            <td>2009</td>\n",
              "        </tr>\n",
              "        <tr>\n",
              "            <td>5</td>\n",
              "            <td>2</td>\n",
              "            <td>Icon</td>\n",
              "            <td>2012</td>\n",
              "        </tr>\n",
              "        <tr>\n",
              "            <td>6</td>\n",
              "            <td>3</td>\n",
              "            <td>Story</td>\n",
              "            <td>2000</td>\n",
              "        </tr>\n",
              "        <tr>\n",
              "            <td>7</td>\n",
              "            <td>4</td>\n",
              "            <td>Chapters</td>\n",
              "            <td>2003</td>\n",
              "        </tr>\n",
              "        <tr>\n",
              "            <td>8</td>\n",
              "            <td>4</td>\n",
              "            <td>Riding with the King</td>\n",
              "            <td>2000</td>\n",
              "        </tr>\n",
              "        <tr>\n",
              "            <td>9</td>\n",
              "            <td>5</td>\n",
              "            <td>Pieces of a Dream</td>\n",
              "            <td>2005</td>\n",
              "        </tr>\n",
              "        <tr>\n",
              "            <td>10</td>\n",
              "            <td>6</td>\n",
              "            <td>Greatest Hits</td>\n",
              "            <td>2004</td>\n",
              "        </tr>\n",
              "        <tr>\n",
              "            <td>11</td>\n",
              "            <td>7</td>\n",
              "            <td>All-Time Greatest Hits</td>\n",
              "            <td>1975</td>\n",
              "        </tr>\n",
              "        <tr>\n",
              "            <td>12</td>\n",
              "            <td>8</td>\n",
              "            <td>Greatest Hits</td>\n",
              "            <td>1983</td>\n",
              "        </tr>\n",
              "        <tr>\n",
              "            <td>13</td>\n",
              "            <td>9</td>\n",
              "            <td>Ultimate Collection</td>\n",
              "            <td>2015</td>\n",
              "        </tr>\n",
              "    </tbody>\n",
              "</table>"
            ]
          },
          "metadata": {},
          "execution_count": 15
        }
      ],
      "source": [
        "%%sql\n",
        "\n",
        "select*from album;"
      ]
    },
    {
      "cell_type": "code",
      "execution_count": null,
      "metadata": {
        "scrolled": true,
        "id": "wkZcgGCa0_RT",
        "outputId": "c845415a-8f12-439c-d26b-c9cef4c94594",
        "colab": {
          "base_uri": "https://localhost:8080/",
          "height": 849
        }
      },
      "outputs": [
        {
          "output_type": "stream",
          "name": "stdout",
          "text": [
            " * sqlite:///cloud1.db\n",
            "Done.\n"
          ]
        },
        {
          "output_type": "execute_result",
          "data": {
            "text/plain": [
              "[(1, 1, 'Dream On', 4.26),\n",
              " (2, 1, 'Back in the Saddle', 4.4),\n",
              " (3, 2, 'Genie in a Bottle', 5.3),\n",
              " (4, 2, 'Beautiful', 5.29),\n",
              " (5, 3, 'Master of Puppets', 8.35),\n",
              " (6, 3, 'Battery', 5.13),\n",
              " (7, 4, 'Dialectic Chaos', 2.26),\n",
              " (8, 4, 'Endgame', 5.57),\n",
              " (9, 5, 'Watching Airplanes', 4.03),\n",
              " (10, 5, 'Man to Man', 3.41),\n",
              " (11, 6, 'Balck Winter Day', 3.48),\n",
              " (12, 6, 'Against Widows', 4.04),\n",
              " (13, 7, 'Reptile', 3.36),\n",
              " (14, 7, 'Modern Girl', 4.49),\n",
              " (15, 8, 'Riding with the King', 4.23),\n",
              " (16, 8, 'Key to the Highway', 3.39),\n",
              " (17, 9, 'Im Outta Love', 4.02),\n",
              " (18, 9, 'Not That Kind', 3.2),\n",
              " (19, 10, 'Eruption', 1.43),\n",
              " (20, 10, 'Hot For Teacher', 4.43),\n",
              " (21, 11, 'Sweet Home Alabama', 4.45),\n",
              " (22, 11, 'Free Bird', 14.23),\n",
              " (23, 12, 'Thunderstruck', 4.52),\n",
              " (24, 12, 'T.N.T', 3.35),\n",
              " (25, 13, \"Sgt. Pepper's Lonely Hearts Club Band\", 2.0333),\n",
              " (26, 13, 'With a Little Help from My Friends', 2.7333),\n",
              " (27, 13, 'Lucy in the Sky with Diamonds', 3.4666),\n",
              " (28, 13, 'Getting Better', 2.8),\n",
              " (29, 13, 'Fixing a Hole', 2.6),\n",
              " (30, 13, \"She's Leaving Home\", 3.5833),\n",
              " (31, 13, 'Being for the Benefit of Mr. Kite!', 2.6166),\n",
              " (32, 13, 'Within You Without You', 5.066),\n",
              " (33, 13, \"When I'm Sixty-Four\", 2.6166),\n",
              " (34, 13, 'Lovely Rita', 2.7),\n",
              " (35, 13, 'Good Morning Good Morning', 2.6833),\n",
              " (36, 13, \"Sgt. Pepper's Lonely Hearts Club Band (Reprise)\", 1.3166),\n",
              " (37, 13, 'A Day in the Life', 5.65)]"
            ],
            "text/html": [
              "<table>\n",
              "    <thead>\n",
              "        <tr>\n",
              "            <th>id</th>\n",
              "            <th>album_id</th>\n",
              "            <th>name</th>\n",
              "            <th>duration</th>\n",
              "        </tr>\n",
              "    </thead>\n",
              "    <tbody>\n",
              "        <tr>\n",
              "            <td>1</td>\n",
              "            <td>1</td>\n",
              "            <td>Dream On</td>\n",
              "            <td>4.26</td>\n",
              "        </tr>\n",
              "        <tr>\n",
              "            <td>2</td>\n",
              "            <td>1</td>\n",
              "            <td>Back in the Saddle</td>\n",
              "            <td>4.4</td>\n",
              "        </tr>\n",
              "        <tr>\n",
              "            <td>3</td>\n",
              "            <td>2</td>\n",
              "            <td>Genie in a Bottle</td>\n",
              "            <td>5.3</td>\n",
              "        </tr>\n",
              "        <tr>\n",
              "            <td>4</td>\n",
              "            <td>2</td>\n",
              "            <td>Beautiful</td>\n",
              "            <td>5.29</td>\n",
              "        </tr>\n",
              "        <tr>\n",
              "            <td>5</td>\n",
              "            <td>3</td>\n",
              "            <td>Master of Puppets</td>\n",
              "            <td>8.35</td>\n",
              "        </tr>\n",
              "        <tr>\n",
              "            <td>6</td>\n",
              "            <td>3</td>\n",
              "            <td>Battery</td>\n",
              "            <td>5.13</td>\n",
              "        </tr>\n",
              "        <tr>\n",
              "            <td>7</td>\n",
              "            <td>4</td>\n",
              "            <td>Dialectic Chaos</td>\n",
              "            <td>2.26</td>\n",
              "        </tr>\n",
              "        <tr>\n",
              "            <td>8</td>\n",
              "            <td>4</td>\n",
              "            <td>Endgame</td>\n",
              "            <td>5.57</td>\n",
              "        </tr>\n",
              "        <tr>\n",
              "            <td>9</td>\n",
              "            <td>5</td>\n",
              "            <td>Watching Airplanes</td>\n",
              "            <td>4.03</td>\n",
              "        </tr>\n",
              "        <tr>\n",
              "            <td>10</td>\n",
              "            <td>5</td>\n",
              "            <td>Man to Man</td>\n",
              "            <td>3.41</td>\n",
              "        </tr>\n",
              "        <tr>\n",
              "            <td>11</td>\n",
              "            <td>6</td>\n",
              "            <td>Balck Winter Day</td>\n",
              "            <td>3.48</td>\n",
              "        </tr>\n",
              "        <tr>\n",
              "            <td>12</td>\n",
              "            <td>6</td>\n",
              "            <td>Against Widows</td>\n",
              "            <td>4.04</td>\n",
              "        </tr>\n",
              "        <tr>\n",
              "            <td>13</td>\n",
              "            <td>7</td>\n",
              "            <td>Reptile</td>\n",
              "            <td>3.36</td>\n",
              "        </tr>\n",
              "        <tr>\n",
              "            <td>14</td>\n",
              "            <td>7</td>\n",
              "            <td>Modern Girl</td>\n",
              "            <td>4.49</td>\n",
              "        </tr>\n",
              "        <tr>\n",
              "            <td>15</td>\n",
              "            <td>8</td>\n",
              "            <td>Riding with the King</td>\n",
              "            <td>4.23</td>\n",
              "        </tr>\n",
              "        <tr>\n",
              "            <td>16</td>\n",
              "            <td>8</td>\n",
              "            <td>Key to the Highway</td>\n",
              "            <td>3.39</td>\n",
              "        </tr>\n",
              "        <tr>\n",
              "            <td>17</td>\n",
              "            <td>9</td>\n",
              "            <td>Im Outta Love</td>\n",
              "            <td>4.02</td>\n",
              "        </tr>\n",
              "        <tr>\n",
              "            <td>18</td>\n",
              "            <td>9</td>\n",
              "            <td>Not That Kind</td>\n",
              "            <td>3.2</td>\n",
              "        </tr>\n",
              "        <tr>\n",
              "            <td>19</td>\n",
              "            <td>10</td>\n",
              "            <td>Eruption</td>\n",
              "            <td>1.43</td>\n",
              "        </tr>\n",
              "        <tr>\n",
              "            <td>20</td>\n",
              "            <td>10</td>\n",
              "            <td>Hot For Teacher</td>\n",
              "            <td>4.43</td>\n",
              "        </tr>\n",
              "        <tr>\n",
              "            <td>21</td>\n",
              "            <td>11</td>\n",
              "            <td>Sweet Home Alabama</td>\n",
              "            <td>4.45</td>\n",
              "        </tr>\n",
              "        <tr>\n",
              "            <td>22</td>\n",
              "            <td>11</td>\n",
              "            <td>Free Bird</td>\n",
              "            <td>14.23</td>\n",
              "        </tr>\n",
              "        <tr>\n",
              "            <td>23</td>\n",
              "            <td>12</td>\n",
              "            <td>Thunderstruck</td>\n",
              "            <td>4.52</td>\n",
              "        </tr>\n",
              "        <tr>\n",
              "            <td>24</td>\n",
              "            <td>12</td>\n",
              "            <td>T.N.T</td>\n",
              "            <td>3.35</td>\n",
              "        </tr>\n",
              "        <tr>\n",
              "            <td>25</td>\n",
              "            <td>13</td>\n",
              "            <td>Sgt. Pepper&#x27;s Lonely Hearts Club Band</td>\n",
              "            <td>2.0333</td>\n",
              "        </tr>\n",
              "        <tr>\n",
              "            <td>26</td>\n",
              "            <td>13</td>\n",
              "            <td>With a Little Help from My Friends</td>\n",
              "            <td>2.7333</td>\n",
              "        </tr>\n",
              "        <tr>\n",
              "            <td>27</td>\n",
              "            <td>13</td>\n",
              "            <td>Lucy in the Sky with Diamonds</td>\n",
              "            <td>3.4666</td>\n",
              "        </tr>\n",
              "        <tr>\n",
              "            <td>28</td>\n",
              "            <td>13</td>\n",
              "            <td>Getting Better</td>\n",
              "            <td>2.8</td>\n",
              "        </tr>\n",
              "        <tr>\n",
              "            <td>29</td>\n",
              "            <td>13</td>\n",
              "            <td>Fixing a Hole</td>\n",
              "            <td>2.6</td>\n",
              "        </tr>\n",
              "        <tr>\n",
              "            <td>30</td>\n",
              "            <td>13</td>\n",
              "            <td>She&#x27;s Leaving Home</td>\n",
              "            <td>3.5833</td>\n",
              "        </tr>\n",
              "        <tr>\n",
              "            <td>31</td>\n",
              "            <td>13</td>\n",
              "            <td>Being for the Benefit of Mr. Kite!</td>\n",
              "            <td>2.6166</td>\n",
              "        </tr>\n",
              "        <tr>\n",
              "            <td>32</td>\n",
              "            <td>13</td>\n",
              "            <td>Within You Without You</td>\n",
              "            <td>5.066</td>\n",
              "        </tr>\n",
              "        <tr>\n",
              "            <td>33</td>\n",
              "            <td>13</td>\n",
              "            <td>When I&#x27;m Sixty-Four</td>\n",
              "            <td>2.6166</td>\n",
              "        </tr>\n",
              "        <tr>\n",
              "            <td>34</td>\n",
              "            <td>13</td>\n",
              "            <td>Lovely Rita</td>\n",
              "            <td>2.7</td>\n",
              "        </tr>\n",
              "        <tr>\n",
              "            <td>35</td>\n",
              "            <td>13</td>\n",
              "            <td>Good Morning Good Morning</td>\n",
              "            <td>2.6833</td>\n",
              "        </tr>\n",
              "        <tr>\n",
              "            <td>36</td>\n",
              "            <td>13</td>\n",
              "            <td>Sgt. Pepper&#x27;s Lonely Hearts Club Band (Reprise)</td>\n",
              "            <td>1.3166</td>\n",
              "        </tr>\n",
              "        <tr>\n",
              "            <td>37</td>\n",
              "            <td>13</td>\n",
              "            <td>A Day in the Life</td>\n",
              "            <td>5.65</td>\n",
              "        </tr>\n",
              "    </tbody>\n",
              "</table>"
            ]
          },
          "metadata": {},
          "execution_count": 16
        }
      ],
      "source": [
        "%%sql\n",
        "\n",
        "select*from song;"
      ]
    },
    {
      "cell_type": "code",
      "execution_count": null,
      "metadata": {
        "scrolled": true,
        "id": "uyIXBRqm0_RU",
        "outputId": "3873bcad-de64-4a01-a3c6-d03ce0acab93",
        "colab": {
          "base_uri": "https://localhost:8080/",
          "height": 200
        }
      },
      "outputs": [
        {
          "output_type": "stream",
          "name": "stdout",
          "text": [
            " * sqlite:///cloud1.db\n",
            "Done.\n"
          ]
        },
        {
          "output_type": "execute_result",
          "data": {
            "text/plain": [
              "[(1, 'Blackened'),\n",
              " (6, 'Capitol'),\n",
              " (5, 'Elektra'),\n",
              " (4, 'MCA'),\n",
              " (3, 'Universal'),\n",
              " (2, 'Warner Bros')]"
            ],
            "text/html": [
              "<table>\n",
              "    <thead>\n",
              "        <tr>\n",
              "            <th>id</th>\n",
              "            <th>name</th>\n",
              "        </tr>\n",
              "    </thead>\n",
              "    <tbody>\n",
              "        <tr>\n",
              "            <td>1</td>\n",
              "            <td>Blackened</td>\n",
              "        </tr>\n",
              "        <tr>\n",
              "            <td>6</td>\n",
              "            <td>Capitol</td>\n",
              "        </tr>\n",
              "        <tr>\n",
              "            <td>5</td>\n",
              "            <td>Elektra</td>\n",
              "        </tr>\n",
              "        <tr>\n",
              "            <td>4</td>\n",
              "            <td>MCA</td>\n",
              "        </tr>\n",
              "        <tr>\n",
              "            <td>3</td>\n",
              "            <td>Universal</td>\n",
              "        </tr>\n",
              "        <tr>\n",
              "            <td>2</td>\n",
              "            <td>Warner Bros</td>\n",
              "        </tr>\n",
              "    </tbody>\n",
              "</table>"
            ]
          },
          "metadata": {},
          "execution_count": 17
        }
      ],
      "source": [
        "%%sql\n",
        "\n",
        "select * from record_label;"
      ]
    },
    {
      "cell_type": "code",
      "execution_count": null,
      "metadata": {
        "scrolled": true,
        "id": "4TxqCQm_0_RV",
        "outputId": "0170fdd8-2792-4b8e-93c1-f20653eff2b8",
        "colab": {
          "base_uri": "https://localhost:8080/",
          "height": 267
        }
      },
      "outputs": [
        {
          "output_type": "stream",
          "name": "stdout",
          "text": [
            " * sqlite:///cloud1.db\n",
            "Done.\n"
          ]
        },
        {
          "output_type": "execute_result",
          "data": {
            "text/html": [
              "<table>\n",
              "    <thead>\n",
              "        <tr>\n",
              "            <th>id</th>\n",
              "            <th>record_label_id</th>\n",
              "            <th>name</th>\n",
              "        </tr>\n",
              "    </thead>\n",
              "    <tbody>\n",
              "        <tr>\n",
              "            <td>3</td>\n",
              "            <td>1</td>\n",
              "            <td>Anthrax</td>\n",
              "        </tr>\n",
              "        <tr>\n",
              "            <td>2</td>\n",
              "            <td>1</td>\n",
              "            <td>Christina</td>\n",
              "        </tr>\n",
              "        <tr>\n",
              "            <td>1</td>\n",
              "            <td>1</td>\n",
              "            <td>Aerosmith</td>\n",
              "        </tr>\n",
              "        <tr>\n",
              "            <td>4</td>\n",
              "            <td>2</td>\n",
              "            <td>Eric Clapton</td>\n",
              "        </tr>\n",
              "        <tr>\n",
              "            <td>6</td>\n",
              "            <td>2</td>\n",
              "            <td>Amorphis</td>\n",
              "        </tr>\n",
              "        <tr>\n",
              "            <td>5</td>\n",
              "            <td>2</td>\n",
              "            <td>Gary Allan</td>\n",
              "        </tr>\n",
              "        <tr>\n",
              "            <td>8</td>\n",
              "            <td>3</td>\n",
              "            <td>AC/DC</td>\n",
              "        </tr>\n",
              "        <tr>\n",
              "            <td>7</td>\n",
              "            <td>3</td>\n",
              "            <td>Lynyrd Skynyrd</td>\n",
              "        </tr>\n",
              "        <tr>\n",
              "            <td>9</td>\n",
              "            <td>6</td>\n",
              "            <td>Anastacia</td>\n",
              "        </tr>\n",
              "    </tbody>\n",
              "</table>"
            ],
            "text/plain": [
              "[(3, 1, 'Anthrax'),\n",
              " (2, 1, 'Christina'),\n",
              " (1, 1, 'Aerosmith'),\n",
              " (4, 2, 'Eric Clapton'),\n",
              " (6, 2, 'Amorphis'),\n",
              " (5, 2, 'Gary Allan'),\n",
              " (8, 3, 'AC/DC'),\n",
              " (7, 3, 'Lynyrd Skynyrd'),\n",
              " (9, 6, 'Anastacia')]"
            ]
          },
          "metadata": {},
          "execution_count": 16
        }
      ],
      "source": [
        "%%sql\n",
        "\n",
        "select * from artist;"
      ]
    },
    {
      "cell_type": "markdown",
      "metadata": {
        "id": "Rdm8Fxej0_RW"
      },
      "source": [
        "<b>2. List all artists for each record label sorted by artist name. </b>"
      ]
    },
    {
      "cell_type": "code",
      "execution_count": null,
      "metadata": {
        "id": "FxTNxZTK0_RW",
        "outputId": "64ecb887-936d-4d17-cccd-30e442030286",
        "colab": {
          "base_uri": "https://localhost:8080/",
          "height": 267
        }
      },
      "outputs": [
        {
          "output_type": "stream",
          "name": "stdout",
          "text": [
            " * sqlite:///cloud1.db\n",
            "Done.\n"
          ]
        },
        {
          "output_type": "execute_result",
          "data": {
            "text/html": [
              "<table>\n",
              "    <thead>\n",
              "        <tr>\n",
              "            <th>Artist Name</th>\n",
              "            <th>Record Label Name</th>\n",
              "        </tr>\n",
              "    </thead>\n",
              "    <tbody>\n",
              "        <tr>\n",
              "            <td>AC/DC</td>\n",
              "            <td>Universal</td>\n",
              "        </tr>\n",
              "        <tr>\n",
              "            <td>Aerosmith</td>\n",
              "            <td>Blackened</td>\n",
              "        </tr>\n",
              "        <tr>\n",
              "            <td>Amorphis</td>\n",
              "            <td>Warner Bros</td>\n",
              "        </tr>\n",
              "        <tr>\n",
              "            <td>Anastacia</td>\n",
              "            <td>Capitol</td>\n",
              "        </tr>\n",
              "        <tr>\n",
              "            <td>Anthrax</td>\n",
              "            <td>Blackened</td>\n",
              "        </tr>\n",
              "        <tr>\n",
              "            <td>Christina</td>\n",
              "            <td>Blackened</td>\n",
              "        </tr>\n",
              "        <tr>\n",
              "            <td>Eric Clapton</td>\n",
              "            <td>Warner Bros</td>\n",
              "        </tr>\n",
              "        <tr>\n",
              "            <td>Gary Allan</td>\n",
              "            <td>Warner Bros</td>\n",
              "        </tr>\n",
              "        <tr>\n",
              "            <td>Lynyrd Skynyrd</td>\n",
              "            <td>Universal</td>\n",
              "        </tr>\n",
              "    </tbody>\n",
              "</table>"
            ],
            "text/plain": [
              "[('AC/DC', 'Universal'),\n",
              " ('Aerosmith', 'Blackened'),\n",
              " ('Amorphis', 'Warner Bros'),\n",
              " ('Anastacia', 'Capitol'),\n",
              " ('Anthrax', 'Blackened'),\n",
              " ('Christina', 'Blackened'),\n",
              " ('Eric Clapton', 'Warner Bros'),\n",
              " ('Gary Allan', 'Warner Bros'),\n",
              " ('Lynyrd Skynyrd', 'Universal')]"
            ]
          },
          "metadata": {},
          "execution_count": 17
        }
      ],
      "source": [
        "%%sql\n",
        "\n",
        "select ar.name \"Artist Name\",r.name \"Record Label Name\"\n",
        "from record_label r join artist ar on r.id = ar.record_label_id\n",
        "order by ar.name asc;"
      ]
    },
    {
      "cell_type": "markdown",
      "metadata": {
        "id": "wCJlhA5e0_RX"
      },
      "source": [
        "<B>3.Which record labels have no artists?</b>"
      ]
    },
    {
      "cell_type": "code",
      "execution_count": null,
      "metadata": {
        "id": "IUs0EKKh0_RY",
        "outputId": "83176b68-0f18-4ca9-8d3c-0a901157bab8",
        "colab": {
          "base_uri": "https://localhost:8080/",
          "height": 118
        }
      },
      "outputs": [
        {
          "output_type": "stream",
          "name": "stdout",
          "text": [
            " * sqlite:///cloud1.db\n",
            "Done.\n"
          ]
        },
        {
          "output_type": "execute_result",
          "data": {
            "text/html": [
              "<table>\n",
              "    <thead>\n",
              "        <tr>\n",
              "            <th>Record Label Name</th>\n",
              "        </tr>\n",
              "    </thead>\n",
              "    <tbody>\n",
              "        <tr>\n",
              "            <td>Elektra</td>\n",
              "        </tr>\n",
              "        <tr>\n",
              "            <td>MCA</td>\n",
              "        </tr>\n",
              "    </tbody>\n",
              "</table>"
            ],
            "text/plain": [
              "[('Elektra',), ('MCA',)]"
            ]
          },
          "metadata": {},
          "execution_count": 18
        }
      ],
      "source": [
        "%%sql\n",
        "\n",
        "select r.name \"Record Label Name\"\n",
        "from record_label r left join artist a on r.id = a.record_label_id\n",
        "where a.record_label_id is null;"
      ]
    },
    {
      "cell_type": "markdown",
      "metadata": {
        "id": "xFJEg_sZ0_RY"
      },
      "source": [
        "<b>4. List the number of songs per artist in descending order</b>"
      ]
    },
    {
      "cell_type": "code",
      "execution_count": null,
      "metadata": {
        "scrolled": true,
        "id": "C-ys1BdA0_RZ",
        "outputId": "32c006c6-052c-44ec-8bd9-63783ce0ceb9",
        "colab": {
          "base_uri": "https://localhost:8080/",
          "height": 267
        }
      },
      "outputs": [
        {
          "output_type": "stream",
          "name": "stdout",
          "text": [
            " * sqlite:///cloud1.db\n",
            "Done.\n"
          ]
        },
        {
          "output_type": "execute_result",
          "data": {
            "text/html": [
              "<table>\n",
              "    <thead>\n",
              "        <tr>\n",
              "            <th>Artist Name</th>\n",
              "            <th>Number of Songs</th>\n",
              "        </tr>\n",
              "    </thead>\n",
              "    <tbody>\n",
              "        <tr>\n",
              "            <td>Anastacia</td>\n",
              "            <td>13</td>\n",
              "        </tr>\n",
              "        <tr>\n",
              "            <td>Aerosmith</td>\n",
              "            <td>6</td>\n",
              "        </tr>\n",
              "        <tr>\n",
              "            <td>Christina</td>\n",
              "            <td>4</td>\n",
              "        </tr>\n",
              "        <tr>\n",
              "            <td>Eric Clapton</td>\n",
              "            <td>4</td>\n",
              "        </tr>\n",
              "        <tr>\n",
              "            <td>AC/DC</td>\n",
              "            <td>2</td>\n",
              "        </tr>\n",
              "        <tr>\n",
              "            <td>Amorphis</td>\n",
              "            <td>2</td>\n",
              "        </tr>\n",
              "        <tr>\n",
              "            <td>Anthrax</td>\n",
              "            <td>2</td>\n",
              "        </tr>\n",
              "        <tr>\n",
              "            <td>Gary Allan</td>\n",
              "            <td>2</td>\n",
              "        </tr>\n",
              "        <tr>\n",
              "            <td>Lynyrd Skynyrd</td>\n",
              "            <td>2</td>\n",
              "        </tr>\n",
              "    </tbody>\n",
              "</table>"
            ],
            "text/plain": [
              "[('Anastacia', 13),\n",
              " ('Aerosmith', 6),\n",
              " ('Christina', 4),\n",
              " ('Eric Clapton', 4),\n",
              " ('AC/DC', 2),\n",
              " ('Amorphis', 2),\n",
              " ('Anthrax', 2),\n",
              " ('Gary Allan', 2),\n",
              " ('Lynyrd Skynyrd', 2)]"
            ]
          },
          "metadata": {},
          "execution_count": 19
        }
      ],
      "source": [
        "%%sql\n",
        "\n",
        "select ar.name \"Artist Name\", count(*) \"Number of Songs\"\n",
        "from song s join album  al on s.album_id = al.id\n",
        "       join artist ar on al.artist_id = ar.id\n",
        "group by\n",
        "    ar.name\n",
        "order by\n",
        "    count(*) desc\n",
        ";"
      ]
    },
    {
      "cell_type": "markdown",
      "metadata": {
        "id": "wVtWHJpe0_RZ"
      },
      "source": [
        "<B>5. Which artist or artists have recorded the most number of songs?</B>"
      ]
    },
    {
      "cell_type": "code",
      "execution_count": null,
      "metadata": {
        "id": "95hlpoTo0_Ra",
        "outputId": "e9cfd334-ac8e-40b7-abc9-c5dfa92d2c29",
        "colab": {
          "base_uri": "https://localhost:8080/",
          "height": 97
        }
      },
      "outputs": [
        {
          "output_type": "stream",
          "name": "stdout",
          "text": [
            " * sqlite:///cloud1.db\n",
            "Done.\n"
          ]
        },
        {
          "output_type": "execute_result",
          "data": {
            "text/html": [
              "<table>\n",
              "    <thead>\n",
              "        <tr>\n",
              "            <th>Artist Name</th>\n",
              "            <th>Number of Songs</th>\n",
              "        </tr>\n",
              "    </thead>\n",
              "    <tbody>\n",
              "        <tr>\n",
              "            <td>Anastacia</td>\n",
              "            <td>13</td>\n",
              "        </tr>\n",
              "    </tbody>\n",
              "</table>"
            ],
            "text/plain": [
              "[('Anastacia', 13)]"
            ]
          },
          "metadata": {},
          "execution_count": 20
        }
      ],
      "source": [
        "%%sql\n",
        "\n",
        "select ar.name \"Artist Name\", count(*) \"Number of Songs\"\n",
        "from song s join album al on s.album_id = al.id\n",
        "     join artist ar on al.artist_id = ar.id\n",
        "group by\n",
        "     ar.name\n",
        "order by\n",
        "   count(*) desc\n",
        "limit 1;"
      ]
    },
    {
      "cell_type": "markdown",
      "metadata": {
        "id": "X9qoMC_H0_Ra"
      },
      "source": [
        "<b>6.Which artist or artists have recorded the least number of songs?</b>"
      ]
    },
    {
      "cell_type": "code",
      "execution_count": null,
      "metadata": {
        "id": "m1uneueQ0_Rb",
        "outputId": "2faf73ff-a7c8-4c7c-c6c6-0be77c81ab7d",
        "colab": {
          "base_uri": "https://localhost:8080/",
          "height": 182
        }
      },
      "outputs": [
        {
          "output_type": "stream",
          "name": "stdout",
          "text": [
            " * sqlite:///cloud1.db\n",
            "Done.\n"
          ]
        },
        {
          "output_type": "execute_result",
          "data": {
            "text/html": [
              "<table>\n",
              "    <thead>\n",
              "        <tr>\n",
              "            <th>Artist Name</th>\n",
              "            <th>Number of Songs Recorded</th>\n",
              "        </tr>\n",
              "    </thead>\n",
              "    <tbody>\n",
              "        <tr>\n",
              "            <td>AC/DC</td>\n",
              "            <td>2</td>\n",
              "        </tr>\n",
              "        <tr>\n",
              "            <td>Amorphis</td>\n",
              "            <td>2</td>\n",
              "        </tr>\n",
              "        <tr>\n",
              "            <td>Anthrax</td>\n",
              "            <td>2</td>\n",
              "        </tr>\n",
              "        <tr>\n",
              "            <td>Gary Allan</td>\n",
              "            <td>2</td>\n",
              "        </tr>\n",
              "        <tr>\n",
              "            <td>Lynyrd Skynyrd</td>\n",
              "            <td>2</td>\n",
              "        </tr>\n",
              "    </tbody>\n",
              "</table>"
            ],
            "text/plain": [
              "[('AC/DC', 2),\n",
              " ('Amorphis', 2),\n",
              " ('Anthrax', 2),\n",
              " ('Gary Allan', 2),\n",
              " ('Lynyrd Skynyrd', 2)]"
            ]
          },
          "metadata": {},
          "execution_count": 21
        }
      ],
      "source": [
        "%%sql\n",
        "\n",
        "select\n",
        "ar.name \"Artist Name\",\n",
        "count(*) \"Number of Songs Recorded\"\n",
        "from\n",
        "       song s join album al on s.album_id = al.id\n",
        "        join artist ar on al.artist_id = ar.id\n",
        "group by\n",
        "    ar.name\n",
        "having\n",
        "    count(*) = (\n",
        "    select\n",
        "    min(n)\n",
        "    from (\n",
        "        select\n",
        "            ar.name a,\n",
        "               count(*) n\n",
        "            from\n",
        "                song s join album al on s.album_id = al.id\n",
        "                       \t  join artist ar on al.artist_id = ar.id\n",
        "            group by\n",
        "               ar.name\n",
        "               ) temp1\n",
        "           )\n",
        ";"
      ]
    },
    {
      "cell_type": "markdown",
      "metadata": {
        "id": "qegkWJ4c0_Rc"
      },
      "source": [
        "<b>7.which artists have recorded songs longer than 5 minutes, and how many songs was that?</b>"
      ]
    },
    {
      "cell_type": "code",
      "execution_count": null,
      "metadata": {
        "id": "zAv9qO750_Rc",
        "outputId": "8dd86aeb-0465-4457-a833-1f1bc1247f62",
        "colab": {
          "base_uri": "https://localhost:8080/",
          "height": 161
        }
      },
      "outputs": [
        {
          "output_type": "stream",
          "name": "stdout",
          "text": [
            " * sqlite:///cloud1.db\n",
            "Done.\n"
          ]
        },
        {
          "output_type": "execute_result",
          "data": {
            "text/html": [
              "<table>\n",
              "    <thead>\n",
              "        <tr>\n",
              "            <th>Artist Name</th>\n",
              "            <th>Number of Songs greater than 5 minutes</th>\n",
              "        </tr>\n",
              "    </thead>\n",
              "    <tbody>\n",
              "        <tr>\n",
              "            <td>Aerosmith</td>\n",
              "            <td>4</td>\n",
              "        </tr>\n",
              "        <tr>\n",
              "            <td>Anastacia</td>\n",
              "            <td>2</td>\n",
              "        </tr>\n",
              "        <tr>\n",
              "            <td>Christina</td>\n",
              "            <td>1</td>\n",
              "        </tr>\n",
              "        <tr>\n",
              "            <td>Lynyrd Skynyrd</td>\n",
              "            <td>1</td>\n",
              "        </tr>\n",
              "    </tbody>\n",
              "</table>"
            ],
            "text/plain": [
              "[('Aerosmith', 4), ('Anastacia', 2), ('Christina', 1), ('Lynyrd Skynyrd', 1)]"
            ]
          },
          "metadata": {},
          "execution_count": 22
        }
      ],
      "source": [
        "%%sql\n",
        "\n",
        "select\n",
        "temp.artist \"Artist Name\",count(*) \"Number of Songs greater than 5 minutes\"\n",
        "from (\n",
        "       select\n",
        "           ar.name artist,\n",
        "           s.duration \"duration\"\n",
        "        from\n",
        "            song s join album al on s.album_id = al.id\n",
        "            join artist ar on  al.artist_id = ar.id\n",
        "        where duration > 5\n",
        "        ) as temp\n",
        "group by\n",
        "    temp.artist;"
      ]
    },
    {
      "cell_type": "markdown",
      "metadata": {
        "id": "gvfppdXs0_Rd"
      },
      "source": [
        "<b>8.for each artist and album how many songs were less than 5 minutes long?</b>"
      ]
    },
    {
      "cell_type": "code",
      "execution_count": null,
      "metadata": {
        "scrolled": true,
        "id": "TUeszyls0_Re",
        "outputId": "91650d47-d081-48cd-a158-7ac6cc421ed5",
        "colab": {
          "base_uri": "https://localhost:8080/",
          "height": 310
        }
      },
      "outputs": [
        {
          "output_type": "stream",
          "name": "stdout",
          "text": [
            " * sqlite:///cloud1.db\n",
            "Done.\n"
          ]
        },
        {
          "output_type": "execute_result",
          "data": {
            "text/html": [
              "<table>\n",
              "    <thead>\n",
              "        <tr>\n",
              "            <th>Artist Name</th>\n",
              "            <th>Album Name</th>\n",
              "            <th>Number of Songs less than 5 minutes</th>\n",
              "        </tr>\n",
              "    </thead>\n",
              "    <tbody>\n",
              "        <tr>\n",
              "            <td>AC/DC</td>\n",
              "            <td>Greatest Hits</td>\n",
              "            <td>2</td>\n",
              "        </tr>\n",
              "        <tr>\n",
              "            <td>Aerosmith</td>\n",
              "            <td>Devils got a new disguise</td>\n",
              "            <td>2</td>\n",
              "        </tr>\n",
              "        <tr>\n",
              "            <td>Amorphis</td>\n",
              "            <td>Greatest Hits</td>\n",
              "            <td>2</td>\n",
              "        </tr>\n",
              "        <tr>\n",
              "            <td>Anastacia</td>\n",
              "            <td>Ultimate Collection</td>\n",
              "            <td>11</td>\n",
              "        </tr>\n",
              "        <tr>\n",
              "            <td>Anthrax</td>\n",
              "            <td>Story</td>\n",
              "            <td>2</td>\n",
              "        </tr>\n",
              "        <tr>\n",
              "            <td>Christina</td>\n",
              "            <td>Endgame</td>\n",
              "            <td>1</td>\n",
              "        </tr>\n",
              "        <tr>\n",
              "            <td>Christina</td>\n",
              "            <td>Icon</td>\n",
              "            <td>2</td>\n",
              "        </tr>\n",
              "        <tr>\n",
              "            <td>Eric Clapton</td>\n",
              "            <td>Chapters</td>\n",
              "            <td>2</td>\n",
              "        </tr>\n",
              "        <tr>\n",
              "            <td>Eric Clapton</td>\n",
              "            <td>Riding with the King</td>\n",
              "            <td>2</td>\n",
              "        </tr>\n",
              "        <tr>\n",
              "            <td>Gary Allan</td>\n",
              "            <td>Pieces of a Dream</td>\n",
              "            <td>2</td>\n",
              "        </tr>\n",
              "        <tr>\n",
              "            <td>Lynyrd Skynyrd</td>\n",
              "            <td>All-Time Greatest Hits</td>\n",
              "            <td>1</td>\n",
              "        </tr>\n",
              "    </tbody>\n",
              "</table>"
            ],
            "text/plain": [
              "[('AC/DC', 'Greatest Hits', 2),\n",
              " ('Aerosmith', 'Devils got a new disguise', 2),\n",
              " ('Amorphis', 'Greatest Hits', 2),\n",
              " ('Anastacia', 'Ultimate Collection', 11),\n",
              " ('Anthrax', 'Story', 2),\n",
              " ('Christina', 'Endgame', 1),\n",
              " ('Christina', 'Icon', 2),\n",
              " ('Eric Clapton', 'Chapters', 2),\n",
              " ('Eric Clapton', 'Riding with the King', 2),\n",
              " ('Gary Allan', 'Pieces of a Dream', 2),\n",
              " ('Lynyrd Skynyrd', 'All-Time Greatest Hits', 1)]"
            ]
          },
          "metadata": {},
          "execution_count": 23
        }
      ],
      "source": [
        "%%sql\n",
        "\n",
        "select\n",
        "   ar.name \"Artist Name\",\n",
        "   al.name \"Album Name\",\n",
        "   --s.name \"Song\",\n",
        "   --s.duration \"duration\",\n",
        "   count(*) \"Number of Songs less than 5 minutes\"\n",
        "from\n",
        "    song s join album al on s.album_id = al.id\n",
        "           join artist ar on al.artist_id = ar.id\n",
        "where\n",
        "\tduration < 5\n",
        "group by\n",
        "   ar.name,\n",
        "   al.name\n",
        ";\n"
      ]
    },
    {
      "cell_type": "markdown",
      "metadata": {
        "id": "LWXW1bZB0_Re"
      },
      "source": [
        "<b>9.In which year or years were the most songs recorded?</b>"
      ]
    },
    {
      "cell_type": "code",
      "execution_count": null,
      "metadata": {
        "id": "GH0mGP7f0_Rf",
        "outputId": "74490196-7c93-4ce7-e287-d02d70c86479",
        "colab": {
          "base_uri": "https://localhost:8080/",
          "height": 97
        }
      },
      "outputs": [
        {
          "output_type": "stream",
          "name": "stdout",
          "text": [
            " * sqlite:///cloud1.db\n",
            "Done.\n"
          ]
        },
        {
          "output_type": "execute_result",
          "data": {
            "text/html": [
              "<table>\n",
              "    <thead>\n",
              "        <tr>\n",
              "            <th>Year</th>\n",
              "            <th>Number of Songs Recorded</th>\n",
              "        </tr>\n",
              "    </thead>\n",
              "    <tbody>\n",
              "        <tr>\n",
              "            <td>2015</td>\n",
              "            <td>13</td>\n",
              "        </tr>\n",
              "    </tbody>\n",
              "</table>"
            ],
            "text/plain": [
              "[(2015, 13)]"
            ]
          },
          "metadata": {},
          "execution_count": 24
        }
      ],
      "source": [
        "%%sql\n",
        "\n",
        "select\n",
        "  al.year  \"Year\",\n",
        "  count(*) \"Number of Songs Recorded\"\n",
        "from\n",
        "    song s join album al on s.album_id = al.id\n",
        "\t\t join artist ar  on al.artist_id = ar.id\n",
        "group by\n",
        "   al.year\n",
        "having count(*) = (\n",
        "        select\n",
        "        \tmax(count) from (\n",
        "        \t\tselect\n",
        "           \t\tal.year,\n",
        "           \t\tcount(*) count\n",
        "       \t\t from\n",
        "            \t\tsong s join album al on s.album_id = al.id\n",
        "                   \t\t  join artist ar on al.artist_id = ar.id\n",
        "        \t\tgroup by\n",
        "          \t\tal.year\n",
        "        ) as temp\n",
        "    )\n",
        ";"
      ]
    },
    {
      "cell_type": "markdown",
      "metadata": {
        "id": "eLOI1o2q0_Rf"
      },
      "source": [
        "<b>10. list the artist, song and year of the top 5 longest recorded songs</b>"
      ]
    },
    {
      "cell_type": "code",
      "execution_count": null,
      "metadata": {
        "id": "vTOmHgH_0_Rg",
        "outputId": "9df5812c-f1aa-47d6-a280-d91eb2e3827e",
        "colab": {
          "base_uri": "https://localhost:8080/",
          "height": 182
        }
      },
      "outputs": [
        {
          "output_type": "stream",
          "name": "stdout",
          "text": [
            " * sqlite:///cloud1.db\n",
            "Done.\n"
          ]
        },
        {
          "output_type": "execute_result",
          "data": {
            "text/html": [
              "<table>\n",
              "    <thead>\n",
              "        <tr>\n",
              "            <th>Artist Name</th>\n",
              "            <th>Album Name</th>\n",
              "            <th>Song</th>\n",
              "            <th>Year Recorded</th>\n",
              "            <th>Duration</th>\n",
              "        </tr>\n",
              "    </thead>\n",
              "    <tbody>\n",
              "        <tr>\n",
              "            <td>Lynyrd Skynyrd</td>\n",
              "            <td>All-Time Greatest Hits</td>\n",
              "            <td>Free Bird</td>\n",
              "            <td>1975</td>\n",
              "            <td>14.23</td>\n",
              "        </tr>\n",
              "        <tr>\n",
              "            <td>Aerosmith</td>\n",
              "            <td>Master of Puppets</td>\n",
              "            <td>Master of Puppets</td>\n",
              "            <td>1986</td>\n",
              "            <td>8.35</td>\n",
              "        </tr>\n",
              "        <tr>\n",
              "            <td>Anastacia</td>\n",
              "            <td>Ultimate Collection</td>\n",
              "            <td>A Day in the Life</td>\n",
              "            <td>2015</td>\n",
              "            <td>5.65</td>\n",
              "        </tr>\n",
              "        <tr>\n",
              "            <td>Christina</td>\n",
              "            <td>Endgame</td>\n",
              "            <td>Endgame</td>\n",
              "            <td>2009</td>\n",
              "            <td>5.57</td>\n",
              "        </tr>\n",
              "        <tr>\n",
              "            <td>Aerosmith</td>\n",
              "            <td>Keeps getting better</td>\n",
              "            <td>Genie in a Bottle</td>\n",
              "            <td>2008</td>\n",
              "            <td>5.3</td>\n",
              "        </tr>\n",
              "    </tbody>\n",
              "</table>"
            ],
            "text/plain": [
              "[('Lynyrd Skynyrd', 'All-Time Greatest Hits', 'Free Bird', 1975, 14.23),\n",
              " ('Aerosmith', 'Master of Puppets', 'Master of Puppets', 1986, 8.35),\n",
              " ('Anastacia', 'Ultimate Collection', 'A Day in the Life', 2015, 5.65),\n",
              " ('Christina', 'Endgame', 'Endgame', 2009, 5.57),\n",
              " ('Aerosmith', 'Keeps getting better', 'Genie in a Bottle', 2008, 5.3)]"
            ]
          },
          "metadata": {},
          "execution_count": 25
        }
      ],
      "source": [
        "%%sql\n",
        "\n",
        "select\n",
        "\tar.name \"Artist Name\",\n",
        "\tal.name \"Album Name\",\n",
        "\ts.name \"Song\",\n",
        "\tal.year  \"Year Recorded\",\n",
        "\ts.duration \"Duration\"\n",
        "from\n",
        "    song s join album al on s.album_id = al.id\n",
        "           join artist ar on al.artist_id = ar.id\n",
        "order by\n",
        "   s.duration desc\n",
        "limit 5\n",
        ";"
      ]
    },
    {
      "cell_type": "markdown",
      "metadata": {
        "id": "0dRU3geH0_Rg"
      },
      "source": [
        "<b>11.Number of albums recorded for each year</b>"
      ]
    },
    {
      "cell_type": "code",
      "execution_count": null,
      "metadata": {
        "id": "odH4bZtj0_Rh",
        "outputId": "37cf10bc-185a-4497-ba99-2cda8ca7a465",
        "colab": {
          "base_uri": "https://localhost:8080/",
          "height": 331
        }
      },
      "outputs": [
        {
          "output_type": "stream",
          "name": "stdout",
          "text": [
            " * sqlite:///cloud1.db\n",
            "Done.\n"
          ]
        },
        {
          "output_type": "execute_result",
          "data": {
            "text/html": [
              "<table>\n",
              "    <thead>\n",
              "        <tr>\n",
              "            <th>Year</th>\n",
              "            <th>Number of Albums Recorded</th>\n",
              "        </tr>\n",
              "    </thead>\n",
              "    <tbody>\n",
              "        <tr>\n",
              "            <td>1975</td>\n",
              "            <td>1</td>\n",
              "        </tr>\n",
              "        <tr>\n",
              "            <td>1983</td>\n",
              "            <td>1</td>\n",
              "        </tr>\n",
              "        <tr>\n",
              "            <td>1986</td>\n",
              "            <td>1</td>\n",
              "        </tr>\n",
              "        <tr>\n",
              "            <td>2000</td>\n",
              "            <td>2</td>\n",
              "        </tr>\n",
              "        <tr>\n",
              "            <td>2003</td>\n",
              "            <td>1</td>\n",
              "        </tr>\n",
              "        <tr>\n",
              "            <td>2004</td>\n",
              "            <td>1</td>\n",
              "        </tr>\n",
              "        <tr>\n",
              "            <td>2005</td>\n",
              "            <td>1</td>\n",
              "        </tr>\n",
              "        <tr>\n",
              "            <td>2006</td>\n",
              "            <td>1</td>\n",
              "        </tr>\n",
              "        <tr>\n",
              "            <td>2008</td>\n",
              "            <td>1</td>\n",
              "        </tr>\n",
              "        <tr>\n",
              "            <td>2009</td>\n",
              "            <td>1</td>\n",
              "        </tr>\n",
              "        <tr>\n",
              "            <td>2012</td>\n",
              "            <td>1</td>\n",
              "        </tr>\n",
              "        <tr>\n",
              "            <td>2015</td>\n",
              "            <td>1</td>\n",
              "        </tr>\n",
              "    </tbody>\n",
              "</table>"
            ],
            "text/plain": [
              "[(1975, 1),\n",
              " (1983, 1),\n",
              " (1986, 1),\n",
              " (2000, 2),\n",
              " (2003, 1),\n",
              " (2004, 1),\n",
              " (2005, 1),\n",
              " (2006, 1),\n",
              " (2008, 1),\n",
              " (2009, 1),\n",
              " (2012, 1),\n",
              " (2015, 1)]"
            ]
          },
          "metadata": {},
          "execution_count": 26
        }
      ],
      "source": [
        "%%sql\n",
        "\n",
        "select\n",
        "\tal.year  \"Year\",\n",
        "\tcount(*) \"Number of Albums Recorded\"\n",
        "from\n",
        "\talbum al\n",
        "group by\n",
        "\tal.year\n",
        ";"
      ]
    },
    {
      "cell_type": "markdown",
      "metadata": {
        "id": "0q0JEmwN0_Rh"
      },
      "source": [
        "<b>12. What is the max number of recorded albums across all the years?\n",
        "\n",
        "-- Hint:  using the above sql as a temp table</b>"
      ]
    },
    {
      "cell_type": "code",
      "execution_count": null,
      "metadata": {
        "id": "x8WDzDa50_Ri",
        "outputId": "8a1af64f-c75a-4bc9-c8d3-d8147b37ffa1",
        "colab": {
          "base_uri": "https://localhost:8080/",
          "height": 97
        }
      },
      "outputs": [
        {
          "output_type": "stream",
          "name": "stdout",
          "text": [
            " * sqlite:///cloud1.db\n",
            "Done.\n"
          ]
        },
        {
          "output_type": "execute_result",
          "data": {
            "text/html": [
              "<table>\n",
              "    <thead>\n",
              "        <tr>\n",
              "            <th>Max Number of Albums Recorded per year for all Years</th>\n",
              "        </tr>\n",
              "    </thead>\n",
              "    <tbody>\n",
              "        <tr>\n",
              "            <td>2</td>\n",
              "        </tr>\n",
              "    </tbody>\n",
              "</table>"
            ],
            "text/plain": [
              "[(2,)]"
            ]
          },
          "metadata": {},
          "execution_count": 27
        }
      ],
      "source": [
        "%%sql\n",
        "\n",
        "select\n",
        "\tmax(count) \"Max Number of Albums Recorded per year for all Years\"\n",
        "from (\n",
        "\t\tselect\n",
        "\t\t\tal.year  \"Year\",\n",
        "\t\t\tcount(*) count\n",
        "\t\tfrom\n",
        "\t\t\talbum al\n",
        "\t\tgroup by\n",
        "\t\t\tal.year\n",
        "      ) as temp\n",
        ";\n"
      ]
    },
    {
      "cell_type": "markdown",
      "metadata": {
        "id": "V_gfXo9K0_Ri"
      },
      "source": [
        "<b>13. In which year (or years) were the most (max) number of albums recorded, and how many were recorded?\n",
        "\n",
        "-- Hint: using the above sql as a sub-select</b>"
      ]
    },
    {
      "cell_type": "code",
      "execution_count": null,
      "metadata": {
        "id": "S_-n3elf0_Rj",
        "outputId": "36017145-ba4e-4760-e57b-efa8892f0f60",
        "colab": {
          "base_uri": "https://localhost:8080/",
          "height": 97
        }
      },
      "outputs": [
        {
          "output_type": "stream",
          "name": "stdout",
          "text": [
            " * sqlite:///cloud1.db\n",
            "Done.\n"
          ]
        },
        {
          "output_type": "execute_result",
          "data": {
            "text/html": [
              "<table>\n",
              "    <thead>\n",
              "        <tr>\n",
              "            <th>Year</th>\n",
              "            <th>Max Number of Albums Recorded</th>\n",
              "        </tr>\n",
              "    </thead>\n",
              "    <tbody>\n",
              "        <tr>\n",
              "            <td>2000</td>\n",
              "            <td>2</td>\n",
              "        </tr>\n",
              "    </tbody>\n",
              "</table>"
            ],
            "text/plain": [
              "[(2000, 2)]"
            ]
          },
          "metadata": {},
          "execution_count": 28
        }
      ],
      "source": [
        "%%sql\n",
        "\n",
        "select\n",
        "   al.year  \"Year\",\n",
        "   count(*) \"Max Number of Albums Recorded\"\n",
        "from\n",
        "\talbum al\n",
        "group by\n",
        "\tal.year\n",
        "having count(*) = (\n",
        "    \tselect\n",
        "      \t\tmax(count)\n",
        "    \tfrom (\n",
        "        \t\tselect\n",
        "           \t \t\tal.year  \"Year\",\n",
        "           \t\t \tcount(*) count\n",
        "        \t\tfrom\n",
        "            \t\talbum al\n",
        "        \t\tgroup by\n",
        "          \t  \t\tal.year\n",
        "      \t\t) as temp\n",
        "\t\t)\n",
        ";\n"
      ]
    },
    {
      "cell_type": "markdown",
      "metadata": {
        "id": "PqL_QuJR0_Rj"
      },
      "source": [
        "<b>14. total duration of all songs recorded by each artist in descending order</b>"
      ]
    },
    {
      "cell_type": "code",
      "execution_count": null,
      "metadata": {
        "id": "SHs-3Y7i0_Rk",
        "outputId": "7bf5d4d6-e5a2-4166-a9c2-57b4223703ad",
        "colab": {
          "base_uri": "https://localhost:8080/",
          "height": 267
        }
      },
      "outputs": [
        {
          "output_type": "stream",
          "name": "stdout",
          "text": [
            " * sqlite:///cloud1.db\n",
            "Done.\n"
          ]
        },
        {
          "output_type": "execute_result",
          "data": {
            "text/html": [
              "<table>\n",
              "    <thead>\n",
              "        <tr>\n",
              "            <th>Artist Name</th>\n",
              "            <th>Total Duration of All Songs</th>\n",
              "        </tr>\n",
              "    </thead>\n",
              "    <tbody>\n",
              "        <tr>\n",
              "            <td>Anastacia</td>\n",
              "            <td>39.87</td>\n",
              "        </tr>\n",
              "        <tr>\n",
              "            <td>Aerosmith</td>\n",
              "            <td>32.73</td>\n",
              "        </tr>\n",
              "        <tr>\n",
              "            <td>Lynyrd Skynyrd</td>\n",
              "            <td>18.68</td>\n",
              "        </tr>\n",
              "        <tr>\n",
              "            <td>Eric Clapton</td>\n",
              "            <td>15.47</td>\n",
              "        </tr>\n",
              "        <tr>\n",
              "            <td>Christina</td>\n",
              "            <td>15.27</td>\n",
              "        </tr>\n",
              "        <tr>\n",
              "            <td>AC/DC</td>\n",
              "            <td>7.87</td>\n",
              "        </tr>\n",
              "        <tr>\n",
              "            <td>Anthrax</td>\n",
              "            <td>7.52</td>\n",
              "        </tr>\n",
              "        <tr>\n",
              "            <td>Gary Allan</td>\n",
              "            <td>7.22</td>\n",
              "        </tr>\n",
              "        <tr>\n",
              "            <td>Amorphis</td>\n",
              "            <td>5.86</td>\n",
              "        </tr>\n",
              "    </tbody>\n",
              "</table>"
            ],
            "text/plain": [
              "[('Anastacia', 39.87),\n",
              " ('Aerosmith', 32.73),\n",
              " ('Lynyrd Skynyrd', 18.68),\n",
              " ('Eric Clapton', 15.47),\n",
              " ('Christina', 15.27),\n",
              " ('AC/DC', 7.87),\n",
              " ('Anthrax', 7.52),\n",
              " ('Gary Allan', 7.22),\n",
              " ('Amorphis', 5.86)]"
            ]
          },
          "metadata": {},
          "execution_count": 29
        }
      ],
      "source": [
        "%%sql\n",
        "\n",
        "select\n",
        "\tar.name \"Artist Name\",\n",
        " \tround(sum(s.duration),2) \"Total Duration of All Songs\"\n",
        "from\n",
        "\tsong s join album  al on s.album_id = al.id\n",
        "\t\t   join artist ar on al.artist_id = ar.id\n",
        "group by\n",
        "\tar.name\n",
        "order by\n",
        "\tsum(s.duration) desc\n",
        ";"
      ]
    },
    {
      "cell_type": "markdown",
      "metadata": {
        "id": "7QSNv0Ac0_Rk"
      },
      "source": [
        "<b>15.for which artist and album are there no songs less than 5 minutes long?</b>"
      ]
    },
    {
      "cell_type": "code",
      "execution_count": null,
      "metadata": {
        "id": "TNOiqga20_Rl",
        "outputId": "46cb512d-a6ab-450a-b676-24bce7a2716c",
        "colab": {
          "base_uri": "https://localhost:8080/",
          "height": 118
        }
      },
      "outputs": [
        {
          "output_type": "stream",
          "name": "stdout",
          "text": [
            " * sqlite:///cloud1.db\n",
            "Done.\n"
          ]
        },
        {
          "output_type": "execute_result",
          "data": {
            "text/html": [
              "<table>\n",
              "    <thead>\n",
              "        <tr>\n",
              "            <th>Artist Name</th>\n",
              "            <th>Album Name</th>\n",
              "        </tr>\n",
              "    </thead>\n",
              "    <tbody>\n",
              "        <tr>\n",
              "            <td>Aerosmith</td>\n",
              "            <td>Keeps getting better</td>\n",
              "        </tr>\n",
              "        <tr>\n",
              "            <td>Aerosmith</td>\n",
              "            <td>Master of Puppets</td>\n",
              "        </tr>\n",
              "    </tbody>\n",
              "</table>"
            ],
            "text/plain": [
              "[('Aerosmith', 'Keeps getting better'), ('Aerosmith', 'Master of Puppets')]"
            ]
          },
          "metadata": {},
          "execution_count": 30
        }
      ],
      "source": [
        "%%sql\n",
        "\n",
        "select\n",
        "   ar.name \"Artist Name\",\n",
        "   al.name \"Album Name\"\n",
        "\n",
        "from\n",
        "   artist ar left join album al on ar.id = al.artist_id\n",
        "             left join song s on s.album_id = al.id and s.duration < 5\n",
        "where\n",
        "   s.name is null;\n"
      ]
    },
    {
      "cell_type": "markdown",
      "metadata": {
        "id": "DWqkjPnt0_Rl"
      },
      "source": [
        "<b>16. Display a table of all artists, albums, songs and song duration\n",
        "--     all ordered in ascending order by artist, album and song  </b>"
      ]
    },
    {
      "cell_type": "code",
      "execution_count": null,
      "metadata": {
        "id": "-ZrRN8vU0_Rm",
        "outputId": "a27d1711-911a-4507-9304-d547ac1d88d8",
        "colab": {
          "base_uri": "https://localhost:8080/",
          "height": 865
        }
      },
      "outputs": [
        {
          "output_type": "stream",
          "name": "stdout",
          "text": [
            " * sqlite:///cloud1.db\n",
            "Done.\n"
          ]
        },
        {
          "output_type": "execute_result",
          "data": {
            "text/html": [
              "<table>\n",
              "    <thead>\n",
              "        <tr>\n",
              "            <th>Artist Name</th>\n",
              "            <th>Album Name</th>\n",
              "            <th>Song</th>\n",
              "            <th>Duration</th>\n",
              "        </tr>\n",
              "    </thead>\n",
              "    <tbody>\n",
              "        <tr>\n",
              "            <td>AC/DC</td>\n",
              "            <td>Greatest Hits</td>\n",
              "            <td>T.N.T</td>\n",
              "            <td>3.35</td>\n",
              "        </tr>\n",
              "        <tr>\n",
              "            <td>AC/DC</td>\n",
              "            <td>Greatest Hits</td>\n",
              "            <td>Thunderstruck</td>\n",
              "            <td>4.52</td>\n",
              "        </tr>\n",
              "        <tr>\n",
              "            <td>Aerosmith</td>\n",
              "            <td>Devils got a new disguise</td>\n",
              "            <td>Back in the Saddle</td>\n",
              "            <td>4.4</td>\n",
              "        </tr>\n",
              "        <tr>\n",
              "            <td>Aerosmith</td>\n",
              "            <td>Devils got a new disguise</td>\n",
              "            <td>Dream On</td>\n",
              "            <td>4.26</td>\n",
              "        </tr>\n",
              "        <tr>\n",
              "            <td>Aerosmith</td>\n",
              "            <td>Keeps getting better</td>\n",
              "            <td>Beautiful</td>\n",
              "            <td>5.29</td>\n",
              "        </tr>\n",
              "        <tr>\n",
              "            <td>Aerosmith</td>\n",
              "            <td>Keeps getting better</td>\n",
              "            <td>Genie in a Bottle</td>\n",
              "            <td>5.3</td>\n",
              "        </tr>\n",
              "        <tr>\n",
              "            <td>Aerosmith</td>\n",
              "            <td>Master of Puppets</td>\n",
              "            <td>Battery</td>\n",
              "            <td>5.13</td>\n",
              "        </tr>\n",
              "        <tr>\n",
              "            <td>Aerosmith</td>\n",
              "            <td>Master of Puppets</td>\n",
              "            <td>Master of Puppets</td>\n",
              "            <td>8.35</td>\n",
              "        </tr>\n",
              "        <tr>\n",
              "            <td>Amorphis</td>\n",
              "            <td>Greatest Hits</td>\n",
              "            <td>Eruption</td>\n",
              "            <td>1.43</td>\n",
              "        </tr>\n",
              "        <tr>\n",
              "            <td>Amorphis</td>\n",
              "            <td>Greatest Hits</td>\n",
              "            <td>Hot For Teacher</td>\n",
              "            <td>4.43</td>\n",
              "        </tr>\n",
              "        <tr>\n",
              "            <td>Anastacia</td>\n",
              "            <td>Ultimate Collection</td>\n",
              "            <td>A Day in the Life</td>\n",
              "            <td>5.65</td>\n",
              "        </tr>\n",
              "        <tr>\n",
              "            <td>Anastacia</td>\n",
              "            <td>Ultimate Collection</td>\n",
              "            <td>Being for the Benefit of Mr. Kite!</td>\n",
              "            <td>2.6166</td>\n",
              "        </tr>\n",
              "        <tr>\n",
              "            <td>Anastacia</td>\n",
              "            <td>Ultimate Collection</td>\n",
              "            <td>Fixing a Hole</td>\n",
              "            <td>2.6</td>\n",
              "        </tr>\n",
              "        <tr>\n",
              "            <td>Anastacia</td>\n",
              "            <td>Ultimate Collection</td>\n",
              "            <td>Getting Better</td>\n",
              "            <td>2.8</td>\n",
              "        </tr>\n",
              "        <tr>\n",
              "            <td>Anastacia</td>\n",
              "            <td>Ultimate Collection</td>\n",
              "            <td>Good Morning Good Morning</td>\n",
              "            <td>2.6833</td>\n",
              "        </tr>\n",
              "        <tr>\n",
              "            <td>Anastacia</td>\n",
              "            <td>Ultimate Collection</td>\n",
              "            <td>Lovely Rita</td>\n",
              "            <td>2.7</td>\n",
              "        </tr>\n",
              "        <tr>\n",
              "            <td>Anastacia</td>\n",
              "            <td>Ultimate Collection</td>\n",
              "            <td>Lucy in the Sky with Diamonds</td>\n",
              "            <td>3.4666</td>\n",
              "        </tr>\n",
              "        <tr>\n",
              "            <td>Anastacia</td>\n",
              "            <td>Ultimate Collection</td>\n",
              "            <td>Sgt. Pepper&#x27;s Lonely Hearts Club Band</td>\n",
              "            <td>2.0333</td>\n",
              "        </tr>\n",
              "        <tr>\n",
              "            <td>Anastacia</td>\n",
              "            <td>Ultimate Collection</td>\n",
              "            <td>Sgt. Pepper&#x27;s Lonely Hearts Club Band (Reprise)</td>\n",
              "            <td>1.3166</td>\n",
              "        </tr>\n",
              "        <tr>\n",
              "            <td>Anastacia</td>\n",
              "            <td>Ultimate Collection</td>\n",
              "            <td>She&#x27;s Leaving Home</td>\n",
              "            <td>3.5833</td>\n",
              "        </tr>\n",
              "        <tr>\n",
              "            <td>Anastacia</td>\n",
              "            <td>Ultimate Collection</td>\n",
              "            <td>When I&#x27;m Sixty-Four</td>\n",
              "            <td>2.6166</td>\n",
              "        </tr>\n",
              "        <tr>\n",
              "            <td>Anastacia</td>\n",
              "            <td>Ultimate Collection</td>\n",
              "            <td>With a Little Help from My Friends</td>\n",
              "            <td>2.7333</td>\n",
              "        </tr>\n",
              "        <tr>\n",
              "            <td>Anastacia</td>\n",
              "            <td>Ultimate Collection</td>\n",
              "            <td>Within You Without You</td>\n",
              "            <td>5.066</td>\n",
              "        </tr>\n",
              "        <tr>\n",
              "            <td>Anthrax</td>\n",
              "            <td>Story</td>\n",
              "            <td>Against Widows</td>\n",
              "            <td>4.04</td>\n",
              "        </tr>\n",
              "        <tr>\n",
              "            <td>Anthrax</td>\n",
              "            <td>Story</td>\n",
              "            <td>Balck Winter Day</td>\n",
              "            <td>3.48</td>\n",
              "        </tr>\n",
              "        <tr>\n",
              "            <td>Christina</td>\n",
              "            <td>Endgame</td>\n",
              "            <td>Dialectic Chaos</td>\n",
              "            <td>2.26</td>\n",
              "        </tr>\n",
              "        <tr>\n",
              "            <td>Christina</td>\n",
              "            <td>Endgame</td>\n",
              "            <td>Endgame</td>\n",
              "            <td>5.57</td>\n",
              "        </tr>\n",
              "        <tr>\n",
              "            <td>Christina</td>\n",
              "            <td>Icon</td>\n",
              "            <td>Man to Man</td>\n",
              "            <td>3.41</td>\n",
              "        </tr>\n",
              "        <tr>\n",
              "            <td>Christina</td>\n",
              "            <td>Icon</td>\n",
              "            <td>Watching Airplanes</td>\n",
              "            <td>4.03</td>\n",
              "        </tr>\n",
              "        <tr>\n",
              "            <td>Eric Clapton</td>\n",
              "            <td>Chapters</td>\n",
              "            <td>Modern Girl</td>\n",
              "            <td>4.49</td>\n",
              "        </tr>\n",
              "        <tr>\n",
              "            <td>Eric Clapton</td>\n",
              "            <td>Chapters</td>\n",
              "            <td>Reptile</td>\n",
              "            <td>3.36</td>\n",
              "        </tr>\n",
              "        <tr>\n",
              "            <td>Eric Clapton</td>\n",
              "            <td>Riding with the King</td>\n",
              "            <td>Key to the Highway</td>\n",
              "            <td>3.39</td>\n",
              "        </tr>\n",
              "        <tr>\n",
              "            <td>Eric Clapton</td>\n",
              "            <td>Riding with the King</td>\n",
              "            <td>Riding with the King</td>\n",
              "            <td>4.23</td>\n",
              "        </tr>\n",
              "        <tr>\n",
              "            <td>Gary Allan</td>\n",
              "            <td>Pieces of a Dream</td>\n",
              "            <td>Im Outta Love</td>\n",
              "            <td>4.02</td>\n",
              "        </tr>\n",
              "        <tr>\n",
              "            <td>Gary Allan</td>\n",
              "            <td>Pieces of a Dream</td>\n",
              "            <td>Not That Kind</td>\n",
              "            <td>3.2</td>\n",
              "        </tr>\n",
              "        <tr>\n",
              "            <td>Lynyrd Skynyrd</td>\n",
              "            <td>All-Time Greatest Hits</td>\n",
              "            <td>Free Bird</td>\n",
              "            <td>14.23</td>\n",
              "        </tr>\n",
              "        <tr>\n",
              "            <td>Lynyrd Skynyrd</td>\n",
              "            <td>All-Time Greatest Hits</td>\n",
              "            <td>Sweet Home Alabama</td>\n",
              "            <td>4.45</td>\n",
              "        </tr>\n",
              "    </tbody>\n",
              "</table>"
            ],
            "text/plain": [
              "[('AC/DC', 'Greatest Hits', 'T.N.T', 3.35),\n",
              " ('AC/DC', 'Greatest Hits', 'Thunderstruck', 4.52),\n",
              " ('Aerosmith', 'Devils got a new disguise', 'Back in the Saddle', 4.4),\n",
              " ('Aerosmith', 'Devils got a new disguise', 'Dream On', 4.26),\n",
              " ('Aerosmith', 'Keeps getting better', 'Beautiful', 5.29),\n",
              " ('Aerosmith', 'Keeps getting better', 'Genie in a Bottle', 5.3),\n",
              " ('Aerosmith', 'Master of Puppets', 'Battery', 5.13),\n",
              " ('Aerosmith', 'Master of Puppets', 'Master of Puppets', 8.35),\n",
              " ('Amorphis', 'Greatest Hits', 'Eruption', 1.43),\n",
              " ('Amorphis', 'Greatest Hits', 'Hot For Teacher', 4.43),\n",
              " ('Anastacia', 'Ultimate Collection', 'A Day in the Life', 5.65),\n",
              " ('Anastacia', 'Ultimate Collection', 'Being for the Benefit of Mr. Kite!', 2.6166),\n",
              " ('Anastacia', 'Ultimate Collection', 'Fixing a Hole', 2.6),\n",
              " ('Anastacia', 'Ultimate Collection', 'Getting Better', 2.8),\n",
              " ('Anastacia', 'Ultimate Collection', 'Good Morning Good Morning', 2.6833),\n",
              " ('Anastacia', 'Ultimate Collection', 'Lovely Rita', 2.7),\n",
              " ('Anastacia', 'Ultimate Collection', 'Lucy in the Sky with Diamonds', 3.4666),\n",
              " ('Anastacia', 'Ultimate Collection', \"Sgt. Pepper's Lonely Hearts Club Band\", 2.0333),\n",
              " ('Anastacia', 'Ultimate Collection', \"Sgt. Pepper's Lonely Hearts Club Band (Reprise)\", 1.3166),\n",
              " ('Anastacia', 'Ultimate Collection', \"She's Leaving Home\", 3.5833),\n",
              " ('Anastacia', 'Ultimate Collection', \"When I'm Sixty-Four\", 2.6166),\n",
              " ('Anastacia', 'Ultimate Collection', 'With a Little Help from My Friends', 2.7333),\n",
              " ('Anastacia', 'Ultimate Collection', 'Within You Without You', 5.066),\n",
              " ('Anthrax', 'Story', 'Against Widows', 4.04),\n",
              " ('Anthrax', 'Story', 'Balck Winter Day', 3.48),\n",
              " ('Christina', 'Endgame', 'Dialectic Chaos', 2.26),\n",
              " ('Christina', 'Endgame', 'Endgame', 5.57),\n",
              " ('Christina', 'Icon', 'Man to Man', 3.41),\n",
              " ('Christina', 'Icon', 'Watching Airplanes', 4.03),\n",
              " ('Eric Clapton', 'Chapters', 'Modern Girl', 4.49),\n",
              " ('Eric Clapton', 'Chapters', 'Reptile', 3.36),\n",
              " ('Eric Clapton', 'Riding with the King', 'Key to the Highway', 3.39),\n",
              " ('Eric Clapton', 'Riding with the King', 'Riding with the King', 4.23),\n",
              " ('Gary Allan', 'Pieces of a Dream', 'Im Outta Love', 4.02),\n",
              " ('Gary Allan', 'Pieces of a Dream', 'Not That Kind', 3.2),\n",
              " ('Lynyrd Skynyrd', 'All-Time Greatest Hits', 'Free Bird', 14.23),\n",
              " ('Lynyrd Skynyrd', 'All-Time Greatest Hits', 'Sweet Home Alabama', 4.45)]"
            ]
          },
          "metadata": {},
          "execution_count": 31
        }
      ],
      "source": [
        "%%sql\n",
        "\n",
        "select\n",
        "   ar.name as \"Artist Name\",\n",
        "   al.name as \"Album Name\",\n",
        "   s.name as \"Song\",\n",
        "   s.duration as \"Duration\"\n",
        "from\n",
        "   artist ar join album al on al.artist_id = ar.id\n",
        "   \t         join song s on s.album_id = al.id\n",
        "order by\n",
        "   ar.name asc,\n",
        "   al.name asc,\n",
        "   s.name asc\n",
        ";"
      ]
    },
    {
      "cell_type": "markdown",
      "metadata": {
        "id": "pppbznRF0_Rm"
      },
      "source": [
        "<b>18. Total album length for all songs on the Greatest hits album - in minutes and seconds</b>"
      ]
    },
    {
      "cell_type": "code",
      "execution_count": null,
      "metadata": {
        "id": "HRx_LpAj0_Rn",
        "outputId": "af2d3619-524b-4c7f-c73f-d7e54160fad2",
        "colab": {
          "base_uri": "https://localhost:8080/",
          "height": 97
        }
      },
      "outputs": [
        {
          "output_type": "stream",
          "name": "stdout",
          "text": [
            " * sqlite:///cloud1.db\n",
            "Done.\n"
          ]
        },
        {
          "output_type": "execute_result",
          "data": {
            "text/html": [
              "<table>\n",
              "    <thead>\n",
              "        <tr>\n",
              "            <th>Album Name</th>\n",
              "            <th>Minutes</th>\n",
              "            <th>Seconds</th>\n",
              "        </tr>\n",
              "    </thead>\n",
              "    <tbody>\n",
              "        <tr>\n",
              "            <td>Greatest Hits</td>\n",
              "            <td>13</td>\n",
              "            <td>43.800000000000026</td>\n",
              "        </tr>\n",
              "    </tbody>\n",
              "</table>"
            ],
            "text/plain": [
              "[('Greatest Hits', 13, 43.800000000000026)]"
            ]
          },
          "metadata": {},
          "execution_count": 37
        }
      ],
      "source": [
        "%%sql\n",
        "\n",
        "select\n",
        "   al.name \"Album Name\",\n",
        "   cast ( sum(s.duration) as int ) - ( sum(s.duration) < cast ( sum(s.duration) as int )) \"Minutes\",\n",
        "   ((round(sum(s.duration),2) - cast(sum(s.duration) as int))*60) \"Seconds\"\n",
        "from\n",
        "   album al join song s on s.album_id = al.id\n",
        "where\n",
        "   al.name like 'Greatest%'\n",
        "group by\n",
        "   al.name\n",
        ";"
      ]
    },
    {
      "cell_type": "markdown",
      "metadata": {
        "id": "S0XJYx5U0_Rn"
      },
      "source": [
        "<b>19. Which artists did not release an album during the decades of the 1980's and the 1990's?</b>"
      ]
    },
    {
      "cell_type": "code",
      "execution_count": null,
      "metadata": {
        "scrolled": false,
        "id": "OtWpmHtw0_Rn",
        "outputId": "798c7397-e10f-4063-baa9-56a7d9004a0f",
        "colab": {
          "base_uri": "https://localhost:8080/",
          "height": 242
        }
      },
      "outputs": [
        {
          "output_type": "stream",
          "name": "stdout",
          "text": [
            " * sqlite:///cloud1.db\n",
            "Done.\n"
          ]
        },
        {
          "output_type": "execute_result",
          "data": {
            "text/plain": [
              "[('Aerosmith',),\n",
              " ('Amorphis',),\n",
              " ('Anastacia',),\n",
              " ('Anthrax',),\n",
              " ('Christina',),\n",
              " ('Eric Clapton',),\n",
              " ('Gary Allan',),\n",
              " ('Lynyrd Skynyrd',)]"
            ],
            "text/html": [
              "<table>\n",
              "    <thead>\n",
              "        <tr>\n",
              "            <th>Artist Name</th>\n",
              "        </tr>\n",
              "    </thead>\n",
              "    <tbody>\n",
              "        <tr>\n",
              "            <td>Aerosmith</td>\n",
              "        </tr>\n",
              "        <tr>\n",
              "            <td>Amorphis</td>\n",
              "        </tr>\n",
              "        <tr>\n",
              "            <td>Anastacia</td>\n",
              "        </tr>\n",
              "        <tr>\n",
              "            <td>Anthrax</td>\n",
              "        </tr>\n",
              "        <tr>\n",
              "            <td>Christina</td>\n",
              "        </tr>\n",
              "        <tr>\n",
              "            <td>Eric Clapton</td>\n",
              "        </tr>\n",
              "        <tr>\n",
              "            <td>Gary Allan</td>\n",
              "        </tr>\n",
              "        <tr>\n",
              "            <td>Lynyrd Skynyrd</td>\n",
              "        </tr>\n",
              "    </tbody>\n",
              "</table>"
            ]
          },
          "metadata": {},
          "execution_count": 19
        }
      ],
      "source": [
        "%%sql\n",
        "\n",
        "select distinct\n",
        "\tar.name \"Artist Name\"\n",
        "from\n",
        "\tartist ar left join album al on ar.id = al.artist_id where  year <= 1980 or year >= 1990\n",
        "\n",
        "order by\n",
        "\tar.name\n",
        ";"
      ]
    },
    {
      "cell_type": "markdown",
      "metadata": {
        "id": "KkW8ibGO0_Ro"
      },
      "source": [
        "<b>20. Which artists did release an album during the decades of the 1980's and the 1990's?</b>"
      ]
    },
    {
      "cell_type": "code",
      "execution_count": null,
      "metadata": {
        "id": "2cAcYUNQ0_Ro",
        "outputId": "6d506923-227c-46c7-fb18-91a20f0e1226",
        "colab": {
          "base_uri": "https://localhost:8080/",
          "height": 118
        }
      },
      "outputs": [
        {
          "output_type": "stream",
          "name": "stdout",
          "text": [
            " * sqlite:///cloud1.db\n",
            "Done.\n"
          ]
        },
        {
          "output_type": "execute_result",
          "data": {
            "text/html": [
              "<table>\n",
              "    <thead>\n",
              "        <tr>\n",
              "            <th>Artist Name</th>\n",
              "        </tr>\n",
              "    </thead>\n",
              "    <tbody>\n",
              "        <tr>\n",
              "            <td>AC/DC</td>\n",
              "        </tr>\n",
              "        <tr>\n",
              "            <td>Aerosmith</td>\n",
              "        </tr>\n",
              "    </tbody>\n",
              "</table>"
            ],
            "text/plain": [
              "[('AC/DC',), ('Aerosmith',)]"
            ]
          },
          "metadata": {},
          "execution_count": 40
        }
      ],
      "source": [
        "%%sql\n",
        "\n",
        "select distinct\n",
        "    ar.name \"Artist Name\"\n",
        "from\n",
        "    artist ar left join album al on ar.id = al.artist_id and year >= 1980 and year <= 1990\n",
        "where\n",
        "    year is not null\n",
        "order by\n",
        "    ar.name\n",
        ";"
      ]
    },
    {
      "cell_type": "markdown",
      "source": [
        "## **`Additional reference`**: How to change a column name in a table in sqlite\n",
        "\n",
        "https://stackoverflow.com/questions/805363/how-do-i-rename-a-column-in-a-sqlite-database-table#:~:text=%2015%20Answers15%20%201%20Step%201%3A%20Rename,Step%204%3A%20Drop%20the%20original%20table%3A%20More%20?msclkid=e643e229b41f11eca42fbd220203c442"
      ],
      "metadata": {
        "id": "WaZOWFlg9b47"
      }
    },
    {
      "cell_type": "markdown",
      "source": [
        "# **FEEDBACK FORM**\n",
        "\n",
        "https://docs.google.com/forms/d/e/1FAIpQLScnAaAKvph9R3vINyCtOOMiav-tSMsRGlJReMaHyPjsXDlTIA/viewform"
      ],
      "metadata": {
        "id": "cxv8O9Q_Ao8h"
      }
    }
  ],
  "metadata": {
    "kernelspec": {
      "display_name": "Python 3",
      "language": "python",
      "name": "python3"
    },
    "language_info": {
      "codemirror_mode": {
        "name": "ipython",
        "version": 3
      },
      "file_extension": ".py",
      "mimetype": "text/x-python",
      "name": "python",
      "nbconvert_exporter": "python",
      "pygments_lexer": "ipython3",
      "version": "3.8.5"
    },
    "colab": {
      "provenance": [],
      "include_colab_link": true
    }
  },
  "nbformat": 4,
  "nbformat_minor": 0
}